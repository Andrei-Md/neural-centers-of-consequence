{
 "cells": [
  {
   "cell_type": "code",
   "execution_count": 39,
   "metadata": {
    "collapsed": true
   },
   "outputs": [],
   "source": [
    "import pandas as pd\n",
    "import numpy as np\n",
    "import importlib\n",
    "\n",
    "# graphs\n",
    "import chart_studio.plotly as py\n",
    "import plotly.graph_objs as go\n",
    "\n",
    "import util.Plotly as plots"
   ]
  },
  {
   "cell_type": "code",
   "execution_count": 47,
   "outputs": [
    {
     "data": {
      "text/plain": "<module 'util.Plotly' from 'D:\\\\scul\\\\uaic-ub\\\\licenta\\\\code\\\\repr\\\\util\\\\Plotly.py'>"
     },
     "execution_count": 47,
     "metadata": {},
     "output_type": "execute_result"
    }
   ],
   "source": [
    "importlib.reload(plots)"
   ],
   "metadata": {
    "collapsed": false,
    "pycharm": {
     "name": "#%%\n"
    }
   }
  },
  {
   "cell_type": "markdown",
   "source": [
    "# Data"
   ],
   "metadata": {
    "collapsed": false,
    "pycharm": {
     "name": "#%% md\n"
    }
   }
  },
  {
   "cell_type": "code",
   "execution_count": 4,
   "outputs": [],
   "source": [
    "csv_filename = r'data/final_coordinates.csv'"
   ],
   "metadata": {
    "collapsed": false,
    "pycharm": {
     "name": "#%%\n"
    }
   }
  },
  {
   "cell_type": "code",
   "execution_count": 5,
   "outputs": [],
   "source": [
    "data_df = pd.read_csv(csv_filename)"
   ],
   "metadata": {
    "collapsed": false,
    "pycharm": {
     "name": "#%%\n"
    }
   }
  },
  {
   "cell_type": "code",
   "execution_count": 6,
   "outputs": [],
   "source": [
    "## convert Broadman Area column values to string\n",
    "data_df['Broadman Area'] = data_df['Broadman Area'].astype(str)\n",
    "## add index column\n",
    "data_df['index_col'] = data_df.index"
   ],
   "metadata": {
    "collapsed": false,
    "pycharm": {
     "name": "#%%\n"
    }
   }
  },
  {
   "cell_type": "code",
   "execution_count": 7,
   "outputs": [
    {
     "data": {
      "text/plain": "  importance       author                                              title  \\\n0         ++  Cohen et al  Individual differences in extraversion and dop...   \n1         ++  Cohen et al  Individual differences in extraversion and dop...   \n2         ++  Cohen et al  Individual differences in extraversion and dop...   \n3         ++  Cohen et al  Individual differences in extraversion and dop...   \n4         ++  Cohen et al  Individual differences in extraversion and dop...   \n\n                           table_name  \\\n0  Table 1 Study 2 reward - no reward   \n1  Table 1 Study 2 reward - no reward   \n2  Table 1 Study 2 reward - no reward   \n3  Table 1 Study 2 reward - no reward   \n4  Table 1 Study 2 reward - no reward   \n\n                                            keywords Left/Right  \\\n0  fMRI; MNI; extraversion; dopamine; money rewar...         R.   \n1  fMRI; MNI; extraversion; dopamine; money rewar...         L.   \n2  fMRI; MNI; extraversion; dopamine; money rewar...         L.   \n3  fMRI; MNI; extraversion; dopamine; money rewar...         L.   \n4  fMRI; MNI; extraversion; dopamine; money rewar...         R.   \n\n                   Name Broadman Area     t  X(R)  Y(A)  Z(S)  z-score  NV  \\\n0              amygdala           nan  6.58  18.0  -7.0 -28.0      NaN NaN   \n1              amygdala           nan  6.47 -17.0  -3.0 -14.0      NaN NaN   \n2           hippocampus           nan  5.40 -28.0 -24.0 -14.0      NaN NaN   \n3  orbitofrontal cortex            11  5.31 -21.0  21.0 -25.0      NaN NaN   \n4             precuneus            23  5.21   4.0 -56.0  35.0      NaN NaN   \n\n   p value  cluster size  index_col  \n0      NaN           NaN          0  \n1      NaN           NaN          1  \n2      NaN           NaN          2  \n3      NaN           NaN          3  \n4      NaN           NaN          4  ",
      "text/html": "<div>\n<style scoped>\n    .dataframe tbody tr th:only-of-type {\n        vertical-align: middle;\n    }\n\n    .dataframe tbody tr th {\n        vertical-align: top;\n    }\n\n    .dataframe thead th {\n        text-align: right;\n    }\n</style>\n<table border=\"1\" class=\"dataframe\">\n  <thead>\n    <tr style=\"text-align: right;\">\n      <th></th>\n      <th>importance</th>\n      <th>author</th>\n      <th>title</th>\n      <th>table_name</th>\n      <th>keywords</th>\n      <th>Left/Right</th>\n      <th>Name</th>\n      <th>Broadman Area</th>\n      <th>t</th>\n      <th>X(R)</th>\n      <th>Y(A)</th>\n      <th>Z(S)</th>\n      <th>z-score</th>\n      <th>NV</th>\n      <th>p value</th>\n      <th>cluster size</th>\n      <th>index_col</th>\n    </tr>\n  </thead>\n  <tbody>\n    <tr>\n      <th>0</th>\n      <td>++</td>\n      <td>Cohen et al</td>\n      <td>Individual differences in extraversion and dop...</td>\n      <td>Table 1 Study 2 reward - no reward</td>\n      <td>fMRI; MNI; extraversion; dopamine; money rewar...</td>\n      <td>R.</td>\n      <td>amygdala</td>\n      <td>nan</td>\n      <td>6.58</td>\n      <td>18.0</td>\n      <td>-7.0</td>\n      <td>-28.0</td>\n      <td>NaN</td>\n      <td>NaN</td>\n      <td>NaN</td>\n      <td>NaN</td>\n      <td>0</td>\n    </tr>\n    <tr>\n      <th>1</th>\n      <td>++</td>\n      <td>Cohen et al</td>\n      <td>Individual differences in extraversion and dop...</td>\n      <td>Table 1 Study 2 reward - no reward</td>\n      <td>fMRI; MNI; extraversion; dopamine; money rewar...</td>\n      <td>L.</td>\n      <td>amygdala</td>\n      <td>nan</td>\n      <td>6.47</td>\n      <td>-17.0</td>\n      <td>-3.0</td>\n      <td>-14.0</td>\n      <td>NaN</td>\n      <td>NaN</td>\n      <td>NaN</td>\n      <td>NaN</td>\n      <td>1</td>\n    </tr>\n    <tr>\n      <th>2</th>\n      <td>++</td>\n      <td>Cohen et al</td>\n      <td>Individual differences in extraversion and dop...</td>\n      <td>Table 1 Study 2 reward - no reward</td>\n      <td>fMRI; MNI; extraversion; dopamine; money rewar...</td>\n      <td>L.</td>\n      <td>hippocampus</td>\n      <td>nan</td>\n      <td>5.40</td>\n      <td>-28.0</td>\n      <td>-24.0</td>\n      <td>-14.0</td>\n      <td>NaN</td>\n      <td>NaN</td>\n      <td>NaN</td>\n      <td>NaN</td>\n      <td>2</td>\n    </tr>\n    <tr>\n      <th>3</th>\n      <td>++</td>\n      <td>Cohen et al</td>\n      <td>Individual differences in extraversion and dop...</td>\n      <td>Table 1 Study 2 reward - no reward</td>\n      <td>fMRI; MNI; extraversion; dopamine; money rewar...</td>\n      <td>L.</td>\n      <td>orbitofrontal cortex</td>\n      <td>11</td>\n      <td>5.31</td>\n      <td>-21.0</td>\n      <td>21.0</td>\n      <td>-25.0</td>\n      <td>NaN</td>\n      <td>NaN</td>\n      <td>NaN</td>\n      <td>NaN</td>\n      <td>3</td>\n    </tr>\n    <tr>\n      <th>4</th>\n      <td>++</td>\n      <td>Cohen et al</td>\n      <td>Individual differences in extraversion and dop...</td>\n      <td>Table 1 Study 2 reward - no reward</td>\n      <td>fMRI; MNI; extraversion; dopamine; money rewar...</td>\n      <td>R.</td>\n      <td>precuneus</td>\n      <td>23</td>\n      <td>5.21</td>\n      <td>4.0</td>\n      <td>-56.0</td>\n      <td>35.0</td>\n      <td>NaN</td>\n      <td>NaN</td>\n      <td>NaN</td>\n      <td>NaN</td>\n      <td>4</td>\n    </tr>\n  </tbody>\n</table>\n</div>"
     },
     "execution_count": 7,
     "metadata": {},
     "output_type": "execute_result"
    }
   ],
   "source": [
    "data_df.head()"
   ],
   "metadata": {
    "collapsed": false,
    "pycharm": {
     "name": "#%%\n"
    }
   }
  },
  {
   "cell_type": "code",
   "execution_count": 8,
   "outputs": [
    {
     "data": {
      "text/plain": "(656, 17)"
     },
     "execution_count": 8,
     "metadata": {},
     "output_type": "execute_result"
    }
   ],
   "source": [
    "data_df.shape"
   ],
   "metadata": {
    "collapsed": false,
    "pycharm": {
     "name": "#%%\n"
    }
   }
  },
  {
   "cell_type": "code",
   "execution_count": 9,
   "outputs": [
    {
     "data": {
      "text/plain": "['importance',\n 'author',\n 'title',\n 'table_name',\n 'keywords',\n 'Left/Right',\n 'Name',\n 'Broadman Area',\n 't',\n 'X(R)',\n 'Y(A)',\n 'Z(S)',\n 'z-score',\n 'NV',\n 'p value',\n 'cluster size',\n 'index_col']"
     },
     "execution_count": 9,
     "metadata": {},
     "output_type": "execute_result"
    }
   ],
   "source": [
    "data_df.columns.values.tolist()"
   ],
   "metadata": {
    "collapsed": false,
    "pycharm": {
     "name": "#%%\n"
    }
   }
  },
  {
   "cell_type": "code",
   "execution_count": 10,
   "outputs": [],
   "source": [
    "coordinates = data_df[['X(R)', 'Y(A)', 'Z(S)']]\n"
   ],
   "metadata": {
    "collapsed": false,
    "pycharm": {
     "name": "#%%\n"
    }
   }
  },
  {
   "cell_type": "markdown",
   "source": [
    "# Separate BA of interest"
   ],
   "metadata": {
    "collapsed": false
   }
  },
  {
   "cell_type": "code",
   "execution_count": 14,
   "outputs": [],
   "source": [
    "# df_ba = data_df[data_df['Broadman Area'].str.contains('8|9|10|11|12|13|14|24|25|32|33|44|45|46|47')]\n",
    "# df_ba = data_df[data_df['Broadman Area'].str.contains('4|6|8|9|10|11|12|25')]\n",
    "df_ba = data_df[data_df['Broadman Area'].str.contains('^4$|^6$|^8$|^9$|^10$|^11$|^12$|^25$', regex=True)]\n",
    "df_ba_nan = data_df[data_df['Broadman Area'].str.contains('^nan$', regex=True)]\n",
    "assert (len(df_ba_nan['Broadman Area'].unique()) == 1)"
   ],
   "metadata": {
    "collapsed": false,
    "pycharm": {
     "name": "#%%\n"
    }
   }
  },
  {
   "cell_type": "code",
   "execution_count": 41,
   "outputs": [],
   "source": [
    "data_dict_coords = plots.create_data(df=df_ba, grouping_col='Broadman Area')\n",
    "data_dict_nan = plots.create_data(df=df_ba_nan, grouping_col='Broadman Area', check_none=True, color_nan='#ebeded')\n"
   ],
   "metadata": {
    "collapsed": false,
    "pycharm": {
     "name": "#%%\n"
    }
   }
  },
  {
   "cell_type": "code",
   "execution_count": 64,
   "outputs": [],
   "source": [
    "df = df_ba\n",
    "col1 = 'X(R)'\n",
    "col2 = 'Y(A)'\n",
    "col3 = 'Z(S)'\n",
    "Xn = df[col1].to_numpy()  # x-coordinates of nodes\n",
    "Yn = df[col2].to_numpy()  # y-coordinates\n",
    "Zn = df[col3].to_numpy()"
   ],
   "metadata": {
    "collapsed": false,
    "pycharm": {
     "name": "#%%\n"
    }
   }
  },
  {
   "cell_type": "code",
   "execution_count": 65,
   "outputs": [],
   "source": [
    "# color V1\n",
    "ba = df['Broadman Area'].unique()\n",
    "ba_idx = {str(x): ba.tolist().index(x) for x in ba}\n",
    "no_colors = len(ba)\n",
    "color_group_id = []\n",
    "labels = []\n",
    "for i, val in enumerate(df[['Broadman Area', 'index_col', 'Name']].to_numpy()):\n",
    "    color_group_id.append(ba_idx[str(val[0])])\n",
    "    labels.append('index: {index}; ba: {ba}; name: {name}'.format(index=str(val[1]), name=val[2], ba=str(val[0])))"
   ],
   "metadata": {
    "collapsed": false,
    "pycharm": {
     "name": "#%%\n"
    }
   }
  },
  {
   "cell_type": "code",
   "execution_count": 66,
   "outputs": [],
   "source": [
    "# color V2\n",
    "## Alphabet maximum number of colors = 26\n",
    "ba = df['Broadman Area'].unique()\n",
    "ba_idx = {str(x): ba.tolist().index(x) for x in ba}\n",
    "no_colors = len(ba)\n",
    "color_group = []\n",
    "labels = []\n",
    "\n",
    "#colors\n",
    "import plotly.express as px\n",
    "\n",
    "color_list = px.colors.qualitative.Alphabet[:no_colors]\n",
    "for i, val in enumerate(df[['Broadman Area', 'index_col', 'Name']].to_numpy()):\n",
    "    # print(i,val[0])\n",
    "    if val[0] == 'nan':\n",
    "        color_group.append('#ebeded')\n",
    "    else:\n",
    "        color_group.append(color_list[ba_idx[str(val[0])]])\n",
    "    labels.append('index: {index}; ba: {ba}; name: {name}'.format(index=str(val[1]), name=val[2], ba=str(val[0])))"
   ],
   "metadata": {
    "collapsed": false,
    "pycharm": {
     "name": "#%%\n"
    }
   }
  },
  {
   "cell_type": "code",
   "execution_count": 67,
   "outputs": [],
   "source": [
    "data_dict_coords = dict(\n",
    "    Xn=Xn,\n",
    "    Yn=Yn,\n",
    "    Zn=Zn,\n",
    "    color_group=color_group,\n",
    "    labels=labels\n",
    ")\n",
    "\n"
   ],
   "metadata": {
    "collapsed": false,
    "pycharm": {
     "name": "#%%\n"
    }
   }
  },
  {
   "cell_type": "markdown",
   "source": [
    "## Nan data"
   ],
   "metadata": {
    "collapsed": false
   }
  },
  {
   "cell_type": "code",
   "execution_count": 71,
   "outputs": [],
   "source": [
    "df_ba_nan = data_df[data_df['Broadman Area'].str.contains('^nan$', regex=True)]\n",
    "assert (len(df_ba_nan['Broadman Area'].unique()) == 1)\n",
    "col1 = 'X(R)'\n",
    "col2 = 'Y(A)'\n",
    "col3 = 'Z(S)'\n",
    "\n",
    "Xn_nan = df_ba_nan[col1].to_numpy()\n",
    "Yn_nan = df_ba_nan[col2].to_numpy()\n",
    "Zn_nan = df_ba_nan[col3].to_numpy()\n",
    "\n",
    "#labels for nan\n",
    "labels_nan = []\n",
    "for i, val in enumerate(df_ba_nan[['Broadman Area', 'index_col', 'Name']].to_numpy()):\n",
    "    labels_nan.append('index: {index}; ba: {ba}; name: {name}'.format(index=str(val[1]), name=val[2], ba=str(val[0])))\n",
    "color_nan = '#ebeded'\n",
    "\n",
    "data_dict_nan = dict(\n",
    "    Xn=Xn_nan,\n",
    "    Yn=Yn_nan,\n",
    "    Zn=Zn_nan,\n",
    "    color_group=color_nan,\n",
    "    labels=labels_nan\n",
    ")\n"
   ],
   "metadata": {
    "collapsed": false,
    "pycharm": {
     "name": "#%%\n"
    }
   }
  },
  {
   "cell_type": "code",
   "execution_count": 45,
   "outputs": [],
   "source": [
    "data_dict_coords_all = [data_dict_coords, data_dict_nan]"
   ],
   "metadata": {
    "collapsed": false,
    "pycharm": {
     "name": "#%%\n"
    }
   }
  },
  {
   "cell_type": "code",
   "execution_count": 46,
   "outputs": [
    {
     "name": "stdout",
     "output_type": "stream",
     "text": [
      "[{'Xn': array([-21.   ,  25.   ,  53.   ,  53.   ,  25.   ,  21.   , -10.   ,\n",
      "        25.   ,   0.   , -28.283, -34.343, -51.515,  10.101, -11.111,\n",
      "        40.404,  15.152, -33.333,  -6.061,  -3.03 ,  18.   ,   0.   ,\n",
      "         9.   ,  45.   ,  39.   ,  51.   ,  40.   ,   4.04 , -24.242,\n",
      "         0.   , -59.596,  53.535, -36.364,  33.333, -50.505,   3.03 ,\n",
      "        -6.061,  36.364,  32.   , -24.   ,   6.   ,  12.   ,  -2.   ,\n",
      "        10.   ,   0.   ,  -2.   , -18.   , -26.   , -24.   ,   0.   ,\n",
      "        12.   ,   8.   ,  -6.   ,   4.   ,   0.   ,   0.   ,   0.   ]), 'Yn': array([ 21.   ,  25.   , -17.   ,   7.   ,  49.   ,  39.   ,  42.   ,\n",
      "       -10.   ,  -6.643, -58.794, -17.455,  -4.069,  46.538,  45.509,\n",
      "        36.448,  63.322,  44.018,  40.617,  62.242,   6.   ,  51.   ,\n",
      "        57.   ,  36.   ,  16.   ,  16.   ,   6.   ,  56.013,  40.154,\n",
      "        54.366,   9.06 ,   3.448,  35.727,  39.28 ,   0.514,  60.389,\n",
      "        59.77 ,  35.626,   4.   ,   6.   ,  40.   ,  58.   ,  68.   ,\n",
      "        64.   ,  44.   ,  62.   ,  32.   ,  20.   ,  24.   ,  68.   ,\n",
      "        60.   ,  68.   ,  72.   ,  52.   ,  48.   ,  38.   ,  48.   ]), 'Zn': array([-25.   , -21.   ,  46.   ,  11.   ,  -7.   , -21.   , -24.   ,\n",
      "        67.   ,  52.977,  42.607,  63.29 ,  42.23 ,  41.635,  41.58 ,\n",
      "        36.749,  35.99 , -15.336,  57.647,  -7.131,  72.   ,  -6.   ,\n",
      "        36.   ,  30.   ,  33.   ,  45.   ,  44.   ,  -6.299,  45.651,\n",
      "       -15.93 ,  26.598,  36.096,  30.181,  20.574,  32.677, -12.006,\n",
      "        23.832, -12.245,  64.   ,  62.   , -22.   ,   2.   ,  -2.   ,\n",
      "         0.   , -10.   ,  -2.   ,  34.   ,  44.   ,  52.   ,  -2.   ,\n",
      "         0.   ,   0.   ,  -4.   , -10.   ,  -8.   , -12.   ,  -8.   ]), 'colors': {'color_group': ['#AA0DFE', '#AA0DFE', '#3283FE', '#85660D', '#AA0DFE', '#AA0DFE', '#AA0DFE', '#85660D', '#85660D', '#3283FE', '#3283FE', '#85660D', '#782AB6', '#782AB6', '#782AB6', '#782AB6', '#AA0DFE', '#565656', '#1C8356', '#85660D', '#1C8356', '#782AB6', '#782AB6', '#782AB6', '#782AB6', '#565656', '#1C8356', '#565656', '#AA0DFE', '#782AB6', '#782AB6', '#782AB6', '#1C8356', '#85660D', '#AA0DFE', '#1C8356', '#AA0DFE', '#85660D', '#85660D', '#AA0DFE', '#1C8356', '#1C8356', '#1C8356', '#AA0DFE', '#1C8356', '#782AB6', '#565656', '#565656', '#1C8356', '#1C8356', '#1C8356', '#1C8356', '#1C8356', '#1C8356', '#AA0DFE', '#1C8356'], 'line_color': 'rgb(50,50,50)'}, 'labels': ['index: 3; ba: 11; name: orbitofrontal cortex', 'index: 5; ba: 11; name: orbitofrontal cortex', 'index: 9; ba: 4; name: postcentral gyrus', 'index: 19; ba: 6; name: ventrolateral PFC', 'index: 23; ba: 11; name: orbitofrontal cortex', 'index: 26; ba: 11; name: orbitofrontal cortex', 'index: 27; ba: 11; name: orbitofrontal cortex', 'index: 38; ba: 6; name: supplementary motor', 'index: 46; ba: 6; name: Sup. motor area', 'index: 47; ba: 4; name: motor ctx.', 'index: 54; ba: 4; name: motor ctx.', 'index: 219; ba: 6; name: Precentral gyrus', 'index: 235; ba: 9; name: Superior frontal gyrus', 'index: 236; ba: 9; name: Superior frontal gyrus', 'index: 244; ba: 9; name: Superior frontal gyrus', 'index: 259; ba: 9; name: Frontal pole', 'index: 260; ba: 11; name: Lateral OFC', 'index: 261; ba: 8; name: Anterior medial frontal cortex', 'index: 262; ba: 10; name: Medial OFC', 'index: 290; ba: 6; name: Supplementary motor area', 'index: 292; ba: 10; name: Medial orbitofrontal', 'index: 293; ba: 9; name: Cortex Frontal pole', 'index: 294; ba: 9; name: Dorsolateral prefrontal cortex', 'index: 325; ba: 9; name: pIFS', 'index: 326; ba: 9; name: pIFS', 'index: 327; ba: 8; name: pIFS', 'index: 384; ba: 10; name: Medial frontal gyrus', 'index: 390; ba: 8; name: Superior frontal gyrus', 'index: 406; ba: 11; name: Orbitofrontal gyrus', 'index: 423; ba: 9; name: Inferior frontal gyrus', 'index: 424; ba: 9; name: Inferior frontal gyrus', 'index: 429; ba: 9; name: Superior frontal gyrus', 'index: 430; ba: 10; name: Middle frontal gyrus', 'index: 431; ba: 6; name: Precentral gyrus', 'index: 452; ba: 11; name: Medial frontal gyrus', 'index: 458; ba: 10; name: Medial frontal gyrus', 'index: 462; ba: 11; name: Middle frontal gyrus', 'index: 537; ba: 6; name: Middle Frontal Gyrus', 'index: 539; ba: 6; name: Superior Frontal Gyrus', 'index: 543; ba: 11; name: Rectal Gyrus', 'index: 544; ba: 10; name: Medial Frontal Gyrus', 'index: 545; ba: 10; name: Medial Frontal Gyrus', 'index: 546; ba: 10; name: Medial Frontal Gyrus', 'index: 547; ba: 11; name: Medial Frontal Gyrus', 'index: 548; ba: 10; name: Medial Frontal Gyrus', 'index: 549; ba: 9; name: Medial Frontal Gyrus', 'index: 551; ba: 8; name: Middle Frontal Gyrus', 'index: 552; ba: 8; name: Superior Frontal Gyrus', 'index: 554; ba: 10; name: Medial Frontal Gyrus', 'index: 555; ba: 10; name: Medial Frontal Gyrus', 'index: 556; ba: 10; name: Superior Frontal Gyrus', 'index: 557; ba: 10; name: Medial Frontal Gyrus', 'index: 558; ba: 10; name: Medial Frontal Gyrus', 'index: 559; ba: 10; name: Medial Frontal Gyrus', 'index: 561; ba: 11; name: Medial Frontal Gyrus', 'index: 576; ba: 10; name: Medial Frontal Gyrus']}, {'Xn': array([ 18.   , -17.   , -28.   ,  39.   ,  11.   ,  14.   , -31.   ,\n",
      "        -7.   ,   7.   ,  49.   , -10.   , -17.   ,  27.   , -23.   ,\n",
      "        14.   , -21.   ,  28.   ,  39.   , -28.   ,  14.   ,  11.111,\n",
      "        -9.091,  10.101,  -8.081,  -3.03 ,   0.   ,  11.111, -16.162,\n",
      "        -8.081,   0.   ,  10.   ,  -8.   ,  32.   , -40.   , -30.   ,\n",
      "       -10.   ,  10.   ,  54.   , -58.   ,  44.   ,  40.   , -46.   ,\n",
      "        42.   , -40.   ,  -6.   ,  40.   ,  36.   , -36.   , -52.   ,\n",
      "       -54.   , -18.   , -12.   , -30.   , -24.   ,  34.   ,  42.   ,\n",
      "       -20.   ,   2.   ,  -8.   , -36.   , -26.   , -22.   ,  22.   ,\n",
      "        22.   , -60.   ,  14.   ,  34.   , -34.   , -10.   ,  10.   ,\n",
      "        -8.   ,  32.   , -32.   ,  -3.03 ,   3.03 ,  16.162,  22.222,\n",
      "       -15.152,  16.162,  16.162,  -6.061,  13.131,  16.162, -24.242,\n",
      "        19.192, -21.212, -21.212,  34.343,  13.131, -33.333,   7.071,\n",
      "       -12.121,  -3.03 , -18.182, -12.121,  -6.061, -12.121, -27.273,\n",
      "         7.071,   7.071,  -9.091, -12.121,  13.131,  19.192,  19.192,\n",
      "       -18.182, -30.303,  28.283, -21.212, -18.182,   0.   ,  16.162,\n",
      "        -9.091,  -6.061,  10.101, -18.182,  22.222, -24.242,  34.343,\n",
      "       -33.333, -18.182, -27.273,  28.283,   3.03 ,   8.081,  12.121,\n",
      "        -2.02 ,  -2.02 ,   8.081,  10.101,  -8.081,  -4.04 ,  60.606,\n",
      "        24.242, -26.263,  16.162, -16.162,  40.404, -42.424, -10.101,\n",
      "       -34.343,  26.263, -24.242,  38.384, -28.283, -22.222,  -8.081,\n",
      "         4.04 ,  -4.04 ,  -6.061,   0.   ,   4.04 ,  58.586, -58.586,\n",
      "         6.061,  34.343,  26.263,  36.364,  26.263,   0.   , -16.162,\n",
      "       -18.182, -44.444, -26.263, -22.222,  26.263,   2.02 ,  -4.04 ,\n",
      "       -16.162,  28.283, -10.101, -60.606,  62.626, -54.545,   0.   ,\n",
      "       -28.283,   2.02 , -14.141, -26.263,  32.323,  28.283, -38.384,\n",
      "        24.242,  58.586, -46.465,   2.02 , -22.222, -32.323,  -8.081,\n",
      "        11.111,  -5.051, -12.121,  38.384, -12.121,  11.111, -14.141,\n",
      "       -21.212, -27.273,  27.273,  24.242,  -9.091,  45.455,   9.091,\n",
      "        18.182, -24.242,  33.333,   6.061,  15.152, -15.152,   9.091,\n",
      "       -30.303,  33.333, -36.364,  42.424,  21.212,  -9.091, -27.   ,\n",
      "        21.   ,  27.   ,  33.   ,   3.   ,  30.   ,  27.   ,  24.   ,\n",
      "         3.   ,  16.   , -24.   ,  -2.   ,  14.   ,  10.   , -22.   ,\n",
      "        42.   , -30.   ,  54.   ,  60.   , -60.   ,  56.   , -54.   ,\n",
      "         6.   ,  62.   ,  34.   ,  -6.   ,  42.   , -38.   , -14.   ,\n",
      "         9.   ,   9.   ,  12.   ,   3.   , -39.   ,  -9.   ,  -9.   ,\n",
      "       -27.   ,  -6.   , -27.   ,  33.   ,   9.   ,   9.   ,  12.   ,\n",
      "         3.   , -39.   ,  -9.   ,  -9.   ,  42.   ,  51.   ,  45.   ,\n",
      "         0.   ,  51.   ,   0.   , -42.   ,  -3.   ,  -3.   ,  36.   ,\n",
      "        -3.   ,   3.   ,  -6.   ,   9.   , -42.   ,  18.   ,   3.   ,\n",
      "        24.   ,  -3.   ,   6.   ,   9.   ,  -6.   ,  21.   ,  15.   ,\n",
      "        21.   ,  33.   ,   0.   , -30.   , -33.   ,  39.   , -38.384,\n",
      "       -22.222, -34.343, -44.444,  22.222, -20.202, -36.364,  -4.04 ,\n",
      "       -48.485,   2.02 ,   0.   ,   8.081,  40.404, -38.384, -18.182,\n",
      "        65.657,  19.192, -14.141,  -8.081, -48.485,  -2.02 ,  -1.01 ,\n",
      "        -6.061, -19.192,  10.101, -38.384,  12.121, -18.182,   0.   ,\n",
      "        24.242, -45.455,   0.   ,  21.212,  30.303, -18.182,   3.03 ,\n",
      "        24.242, -33.333,  18.182, -18.182,   2.   ,   2.   ,   2.   ,\n",
      "         6.   ,  36.   ,  40.   ,  32.   ,  46.   ,  50.   ,  36.   ,\n",
      "       -10.   , -12.   , -14.   ,  20.   ,  22.   ,  12.   , -22.   ,\n",
      "       -18.   , -28.   , -26.   , -26.   , -30.   ,  30.   ,  36.   ,\n",
      "       -51.   ,  45.   ,   3.   , -30.   ,  30.   ,  -6.   , -21.   ,\n",
      "        24.   ,  -3.   ,  54.   , -39.   ,  48.   , -18.   ,  21.   ,\n",
      "       -48.   ,  54.   , -42.   ,  42.   , -12.   ,  12.   ,   0.   ,\n",
      "       -21.   ,  24.   , -12.   ,   9.   ,  -3.   ,   6.   , -27.   ,\n",
      "        33.   ,  -6.   ,   9.   ,   3.   ,  -3.   ,   3.   , -27.   ,\n",
      "        30.   ,  -9.   , -27.   ,  -9.   , -15.   ,  39.   , -33.   ,\n",
      "        33.   ,  -8.   , -18.   ,  -8.   ,  14.   , -16.   , -60.   ,\n",
      "       -48.   ,  54.   ,  51.   , -36.   , -51.   ,   0.   ,  -6.   ,\n",
      "         3.   ,  -9.   , -18.   , -18.   ,   3.   ,   0.   ,  54.   ,\n",
      "         4.   ,   2.   ,   4.   ,  -2.   ,  54.   ,  54.   ,   0.   ,\n",
      "       -34.   ,  -2.   ,   0.   , -20.   , -16.   , -52.   , -30.   ,\n",
      "       -26.   , -18.   ,   8.   ,   6.   ,   4.   ,   6.   ,  -4.   ,\n",
      "         2.   ,   4.   , -10.   , -22.   ,  66.   ,  -2.   ,   0.   ,\n",
      "         0.   , -52.   , -22.   , -16.   , -14.   , -20.   , -10.   ,\n",
      "         8.   ,  20.   , -44.   , -46.   , -18.   , -46.   , -76.   ,\n",
      "        32.   ,  -6.   ,   6.   , -14.   , -46.   , -40.   , -44.   ,\n",
      "        26.   , -56.   , -50.   ]), 'Yn': array([-7.0000e+00, -3.0000e+00, -2.4000e+01, -2.1000e+01,  0.0000e+00,\n",
      "        1.1000e+01, -1.4000e+01,  4.0000e+00, -1.0000e+01, -4.9000e+01,\n",
      "       -1.0000e+01, -2.1000e+01, -1.0000e+00,  0.0000e+00,  1.4000e+01,\n",
      "        1.4000e+01, -3.5000e+01, -2.1000e+01, -4.5000e+01, -4.5000e+01,\n",
      "        1.2356e+01,  1.0296e+01,  9.0610e+00,  6.6900e-01, -1.4055e+01,\n",
      "       -7.0735e+01, -3.8100e+00, -3.5010e+00, -2.5750e+00, -6.3888e+01,\n",
      "        6.0000e+00,  8.0000e+00,  2.6000e+01,  2.0000e+01,  5.4000e+01,\n",
      "        2.6000e+01,  2.8000e+01, -3.8000e+01, -3.6000e+01,  1.8000e+01,\n",
      "        3.6000e+01,  6.0000e+00, -9.0000e+01, -9.0000e+01,  1.0000e+01,\n",
      "        2.6000e+01, -9.6000e+01, -9.2000e+01,  1.0000e+01, -2.0000e+00,\n",
      "       -1.2000e+01,  6.0000e+00, -6.4000e+01, -5.0000e+01, -6.0000e+01,\n",
      "       -9.0000e+01, -9.8000e+01,  5.0000e+01,  3.4000e+01,  3.4000e+01,\n",
      "        2.6000e+01, -1.8000e+01, -1.6000e+01,  0.0000e+00, -3.0000e+01,\n",
      "       -5.4000e+01, -9.6000e+01, -9.4000e+01,  1.0000e+01,  1.2000e+01,\n",
      "        3.6000e+01, -9.6000e+01, -9.8000e+01, -7.4640e+00, -1.7761e+01,\n",
      "       -8.8550e+00,  3.8620e+00,  9.8340e+00,  4.6901e+01,  1.8791e+01,\n",
      "        1.5548e+01, -1.5187e+01, -8.8550e+00,  4.0160e+00,  4.9989e+01,\n",
      "        3.4390e+01,  4.6591e+01,  4.3348e+01,  5.6013e+01,  2.4608e+01,\n",
      "        1.2253e+01,  9.1640e+00, -1.7967e+01,  1.0040e+01,  4.1200e-01,\n",
      "       -1.8121e+01, -1.8520e+00, -5.0960e+00, -1.1943e+01,  9.3700e+00,\n",
      "        9.0090e+00,  3.1920e+00, -1.5187e+01, -2.1519e+01,  1.0040e+01,\n",
      "        1.0040e+01, -2.6770e+00,  4.6591e+01,  1.8946e+01,  4.6591e+01,\n",
      "        3.8620e+00,  1.8791e+01,  6.0750e+00, -1.8121e+01, -2.4454e+01,\n",
      "        1.0040e+01,  5.2615e+01,  4.3142e+01,  4.3348e+01,  2.4969e+01,\n",
      "        7.7300e-01, -5.0960e+00,  4.5320e+00, -1.1943e+01,  1.9664e+01,\n",
      "        5.8586e+01,  5.9204e+01,  3.8815e+01,  5.6526e+01,  1.5442e+01,\n",
      "        1.9664e+01,  5.0451e+01, -1.1737e+01,  4.1200e-01, -1.4410e+00,\n",
      "       -6.9397e+01, -8.8446e+01, -7.9694e+01, -6.3219e+01, -7.3104e+01,\n",
      "       -6.4248e+01,  2.5750e+00,  4.7370e+00, -7.6810e+01, -7.9281e+01,\n",
      "       -9.4418e+01,  5.8379e+01,  5.6423e+01,  4.6848e+01,  1.7501e+01,\n",
      "       -2.6669e+01,  5.2305e+01, -1.3281e+01, -1.3384e+01, -6.3528e+01,\n",
      "        1.9973e+01,  4.1287e+01,  2.9034e+01,  1.3692e+01,  4.5716e+01,\n",
      "        4.4172e+01,  4.0157e+01,  3.2330e+01,  3.2741e+01,  1.6450e+00,\n",
      "        2.6254e+01, -2.3700e+00, -2.0595e+01,  8.8550e+00,  5.1500e-01,\n",
      "       -1.1224e+01, -1.2459e+01,  2.2650e+00, -6.2807e+01, -3.9434e+01,\n",
      "       -5.4467e+01, -5.2306e+01, -6.7853e+01, -8.6491e+01, -7.7842e+01,\n",
      "       -9.3799e+01, -1.9050e+01, -2.5537e+01, -1.8550e+00, -1.4004e+01,\n",
      "       -3.9746e+01, -6.3942e+01,  7.6190e+00, -1.7916e+01,  1.1789e+01,\n",
      "        7.9280e+00,  4.2730e+00, -1.5239e+01,  1.5084e+01,  1.6114e+01,\n",
      "        4.1200e-01, -1.4054e+01, -1.5500e-01, -3.0900e-01, -5.2500e+00,\n",
      "       -1.1119e+01, -1.2356e+01, -1.3541e+01,  7.9270e+00, -1.7606e+01,\n",
      "       -1.1583e+01, -1.2356e+01, -3.3980e+00, -3.3980e+00,  3.6912e+01,\n",
      "       -1.1583e+01, -2.0850e+01, -6.4870e+00,  9.5760e+00,  2.4711e+01,\n",
      "        1.1737e+01, -7.2000e+01, -5.4000e+01,  0.0000e+00,  3.0000e+00,\n",
      "       -1.8000e+01, -6.0000e+00,  6.0000e+00, -3.0000e+00, -1.5000e+01,\n",
      "        1.4000e+01,  1.2000e+01,  5.4000e+01, -1.8000e+01,  1.8000e+01,\n",
      "        2.6000e+01,  2.0000e+00, -3.0000e+01, -2.4000e+01,  4.0000e+00,\n",
      "       -6.0000e+00, -4.0000e+01, -4.0000e+01, -3.2000e+01, -3.4000e+01,\n",
      "       -1.8000e+01, -2.6000e+01, -7.2000e+01, -3.0000e+01, -2.8000e+01,\n",
      "        4.2000e+01,  6.6000e+01,  3.6000e+01,  1.5000e+01,  4.2000e+01,\n",
      "       -3.3000e+01, -4.2000e+01,  1.8000e+01,  1.8000e+01, -3.0000e+00,\n",
      "       -6.0000e+00,  4.2000e+01,  6.6000e+01,  3.6000e+01,  1.5000e+01,\n",
      "        4.2000e+01, -3.3000e+01, -4.2000e+01,  2.7000e+01,  2.4000e+01,\n",
      "        3.6000e+01,  4.8000e+01,  2.1000e+01,  4.2000e+01,  3.6000e+01,\n",
      "        5.4000e+01, -5.4000e+01,  2.7000e+01,  2.1000e+01,  3.3000e+01,\n",
      "        1.2000e+01,  3.9000e+01,  4.2000e+01,  3.9000e+01,  2.7000e+01,\n",
      "        3.6000e+01,  2.1000e+01,  2.7000e+01,  2.1000e+01,  3.0000e+00,\n",
      "        0.0000e+00,  1.8000e+01,  0.0000e+00,  3.0000e+00, -1.5000e+01,\n",
      "        4.2000e+01,  2.1000e+01,  2.4000e+01,  1.5450e+00, -1.1583e+01,\n",
      "       -3.5933e+01, -4.7569e+01, -4.2720e+00,  1.0000e-03, -2.1610e+00,\n",
      "       -1.2407e+01, -7.8460e+01,  1.0502e+01, -7.7685e+01, -2.7747e+01,\n",
      "       -4.1802e+01, -4.0052e+01, -7.3876e+01, -9.7820e+00,  7.1560e+00,\n",
      "        1.3390e+00,  3.9640e+00, -5.5860e+01, -3.7532e+01, -3.4340e+01,\n",
      "        4.4770e+00,  1.0790e+00, -5.8174e+01, -5.0657e+01,  1.2407e+01,\n",
      "        1.2407e+01, -2.9808e+01, -3.9179e+01,  9.2670e+00, -5.0812e+01,\n",
      "        8.7000e+00, -3.6090e+01,  9.4210e+00, -3.6295e+01, -2.4248e+01,\n",
      "       -1.1583e+01, -5.5600e+00, -3.5000e+00,  4.4000e+01,  4.6000e+01,\n",
      "        4.6000e+01,  4.6000e+01,  2.4000e+01,  2.2000e+01,  2.2000e+01,\n",
      "        2.2000e+01,  2.2000e+01,  2.8000e+01,  1.6000e+01,  1.0000e+01,\n",
      "        1.4000e+01,  1.2000e+01,  2.0000e+01,  2.0000e+01,  2.4000e+01,\n",
      "        2.6000e+01,  3.2000e+01,  3.0000e+01,  2.6000e+01,  5.1000e+01,\n",
      "        5.4000e+01,  1.2000e+01, -4.8000e+01, -4.8000e+01, -6.6000e+01,\n",
      "        3.3000e+01,  3.3000e+01,  4.5000e+01, -6.0000e+00,  0.0000e+00,\n",
      "        5.7000e+01,  3.6000e+01,  1.8000e+01, -6.0000e+00, -5.1000e+01,\n",
      "       -5.4000e+01, -8.1000e+01, -6.6000e+01, -4.2000e+01, -4.5000e+01,\n",
      "       -8.4000e+01, -8.4000e+01, -8.4000e+01, -7.2000e+01, -6.0000e+01,\n",
      "        9.0000e+00,  6.0000e+00, -2.4000e+01, -2.4000e+01,  2.1000e+01,\n",
      "        2.4000e+01,  2.7000e+01,  1.8000e+01,  6.0000e+00, -1.8000e+01,\n",
      "       -3.0000e+00, -6.0000e+00, -6.0000e+00,  1.5000e+01, -1.2000e+01,\n",
      "       -1.8000e+01, -6.6000e+01, -8.1000e+01, -5.4000e+01, -6.9000e+01,\n",
      "        1.8000e+01,  1.8000e+01,  1.6000e+01, -1.6000e+01,  1.6000e+01,\n",
      "       -4.5000e+01, -4.2000e+01, -4.8000e+01, -2.1000e+01,  2.1000e+01,\n",
      "        2.4000e+01,  5.1000e+01,  6.0000e+01,  5.4000e+01,  2.7000e+01,\n",
      "        5.4000e+01,  4.5000e+01,  3.6000e+01, -1.8000e+01,  0.0000e+00,\n",
      "        4.8000e+01,  5.2000e+01,  5.0000e+01, -2.0000e+00, -4.2000e+01,\n",
      "       -5.0000e+01,  5.8000e+01,  5.6000e+01,  4.2000e+01, -3.6000e+01,\n",
      "        1.2000e+01,  6.0000e+00, -6.4000e+01, -7.8000e+01,  3.2000e+01,\n",
      "        2.8000e+01,  1.8000e+01,  4.0000e+01,  5.2000e+01,  5.0000e+01,\n",
      "       -2.0000e+00, -1.2000e+01, -9.0000e+01, -8.4000e+01, -7.8000e+01,\n",
      "       -3.2000e+01,  4.0000e+01,  4.8000e+01,  5.8000e+01,  4.2000e+01,\n",
      "        3.2000e+01,  5.4000e+01,  2.0000e+01,  1.2000e+01,  1.6000e+01,\n",
      "        1.8000e+01,  1.2000e+01, -7.8000e+01, -6.6000e+01, -5.4000e+01,\n",
      "       -5.6000e+01,  3.2000e+01, -6.2000e+01, -4.6000e+01, -4.6000e+01,\n",
      "        5.0000e+01, -7.4000e+01, -6.0000e+01, -6.6000e+01,  2.8000e+01,\n",
      "       -5.4000e+01, -5.4000e+01]), 'Zn': array([-28.   , -14.   , -14.   ,  14.   , -14.   , -14.   , -21.   ,\n",
      "         8.   ,  11.   , -35.   ,  14.   ,  21.   , -21.   , -16.   ,\n",
      "       -10.   , -10.   ,  -3.   , -14.   , -28.   , -14.   ,   0.652,\n",
      "         0.543,   4.831,   7.654,  13.407, -35.079,  15.035,   8.522,\n",
      "        10.747, -26.339,   2.   ,   2.   ,  -8.   , -12.   ,  -4.   ,\n",
      "        32.   ,  34.   ,  -6.   , -16.   ,  24.   ,  16.   ,  38.   ,\n",
      "        -6.   ,  -8.   ,   2.   , -14.   ,  -4.   ,  -4.   ,  22.   ,\n",
      "        32.   , -16.   ,   0.   , -10.   , -12.   , -14.   ,  -4.   ,\n",
      "       -10.   , -12.   , -22.   , -18.   ,  44.   , -22.   , -24.   ,\n",
      "       -20.   ,   8.   ,  12.   ,  -4.   ,  -4.   ,  -6.   ,  -2.   ,\n",
      "       -12.   ,  -2.   ,  -2.   , -18.311, -18.906, -10.047, -17.656,\n",
      "       -12.543, -10.401,  -4.874,  -1.485,  -6.837, -10.047, -21.223,\n",
      "       -10.223,  -7.548,  -3.267,   0.11 ,  -6.299,   3.475,   2.823,\n",
      "         2.66 , -14.15 , -17.299,  -9.512, -10.583, -28.714, -25.326,\n",
      "       -10.226,  -1.842,   5.917,  -2.199,  -6.837,  -3.627, -17.299,\n",
      "       -17.299,  -9.69 ,  -3.267,  -8.441,  -3.267, -17.656,  -4.874,\n",
      "         2.497, -10.583,  -7.373, -17.299,   0.599,   4.453,   0.11 ,\n",
      "        -4.517, -17.835, -25.326, -33.113, -10.226,  64.16 ,  27.034,\n",
      "        14.007,  52.111,  26.925,  66.114,  64.16 ,  24.428, -14.982,\n",
      "        -9.512, -14.387, -18.314,  -7.495, -18.909, -17.957, -28.064,\n",
      "       -41.856, -11.771, -14.03 , -37.814, -28.421, -12.608,  31.376,\n",
      "        29.097,  13.355,  66.222,  39.949,  28.879, -26.991, -24.613,\n",
      "       -10.823,  57.646,  43.534,  40.711,  59.492,  -6.894, -18.903,\n",
      "       -21.519,  14.766,  49.613,  52.326,  55.801,  49.938,  42.446,\n",
      "       -13.792, -11.89 ,  18.998,   1.519,  -4.637, -27.469, -42.806,\n",
      "       -29.371,  14.653,  -6.305,  38.969,  30.719, -26.876,  53.411,\n",
      "        59.598,  39.082,  34.087,  54.495,  42.336,  13.462,   7.761,\n",
      "        12.593,   6.948,  -3.329,  16.609,   8.414,   8.468,  -9.512,\n",
      "        -9.156,   3.257,   6.514, -21.759, -29.25 ,  -0.714,  24.317,\n",
      "        28.714, -22.473, -18.549,  -0.714,   6.351,   6.351,   5.213,\n",
      "       -18.549, -19.084,   6.188,  -6.598,   1.304,  13.679, -21.   ,\n",
      "       -21.   , -21.   ,   0.   ,   9.   , -21.   ,   9.   ,   3.   ,\n",
      "       -21.   ,  -8.   , -12.   ,  14.   , -16.   ,   8.   ,   8.   ,\n",
      "         6.   ,  14.   ,   6.   , -12.   ,  -4.   ,  26.   ,  20.   ,\n",
      "        60.   ,  28.   ,  48.   ,  46.   , -46.   ,  38.   ,  12.   ,\n",
      "       -12.   ,   6.   , -18.   , -12.   , -15.   ,  45.   ,  45.   ,\n",
      "       -15.   , -12.   , -27.   , -33.   , -12.   ,   6.   , -18.   ,\n",
      "       -12.   , -15.   ,  45.   ,  45.   ,   0.   ,   0.   ,  -9.   ,\n",
      "        21.   ,  -3.   , -18.   , -18.   ,  -9.   ,  15.   ,  -9.   ,\n",
      "        42.   ,  36.   ,  51.   , -18.   , -15.   ,  -9.   , -12.   ,\n",
      "        -6.   ,  39.   ,  33.   ,  39.   ,   0.   ,  18.   ,   3.   ,\n",
      "        -3.   ,   6.   ,  48.   ,  -9.   , -18.   , -12.   , -11.83 ,\n",
      "       -18.549, -28.3  , -21.82 , -20.51 , -23.839, -21.58 ,   0.434,\n",
      "        21.98 ,  17.967, -41.44 , -50.474, -35.791, -28.538, -10.229,\n",
      "        10.367,   1.466,  -7.074,   3.474,  46.027,  29.581,  49.339,\n",
      "        57.917,  64.268, -15.281, -45.838,  -0.475,  -0.475,  -2.914,\n",
      "        20.788,   0.489, -18.432,  12.431,  20.951,  -3.031,   3.527,\n",
      "       -12.129, -18.549, -14.625, -14.506,  12.   ,  16.   ,  20.   ,\n",
      "        20.   , -12.   , -12.   , -14.   ,  -6.   ,  -4.   ,  -2.   ,\n",
      "       -18.   , -16.   , -16.   , -18.   , -10.   , -10.   ,  54.   ,\n",
      "        50.   ,  44.   ,  44.   ,  38.   ,   0.   ,  -3.   ,  54.   ,\n",
      "        57.   ,  45.   ,  48.   , -15.   , -15.   , -15.   , -27.   ,\n",
      "       -27.   ,  30.   ,   9.   , -24.   ,  54.   ,  -9.   ,  -6.   ,\n",
      "        12.   ,   6.   , -24.   , -21.   ,  33.   ,  24.   ,  12.   ,\n",
      "        -3.   ,  12.   ,  -9.   ,  -9.   , -24.   ,  -9.   ,  -6.   ,\n",
      "         3.   ,  39.   ,  39.   ,  27.   ,  27.   ,  30.   ,  48.   ,\n",
      "        54.   ,  45.   ,  57.   ,   9.   ,  54.   ,  12.   , -33.   ,\n",
      "       -27.   ,  -6.   ,   0.   ,  -6.   ,  -2.   ,   2.   ,   9.   ,\n",
      "         3.   ,  27.   ,  -6.   , -24.   ,  -6.   ,  18.   ,  15.   ,\n",
      "        30.   ,  60.   ,  39.   ,  42.   ,   9.   ,  39.   , -36.   ,\n",
      "        26.   ,  30.   ,  12.   ,   4.   ,  34.   ,  46.   ,  -6.   ,\n",
      "       -14.   ,   8.   ,  26.   , -12.   , -18.   ,  20.   ,  44.   ,\n",
      "        48.   ,  58.   ,  -4.   ,  38.   ,  28.   ,  48.   ,   2.   ,\n",
      "        10.   ,  -4.   , -38.   , -20.   ,  -4.   ,   8.   , -14.   ,\n",
      "        -4.   ,  -4.   ,  44.   ,  34.   ,  54.   , -12.   ,  -6.   ,\n",
      "        -4.   , -10.   ,  34.   ,  24.   ,  68.   ,  58.   ,  44.   ,\n",
      "        36.   ,  30.   ,  68.   ,  -2.   ,  32.   ,  40.   ,  18.   ,\n",
      "        38.   ,  46.   ,  56.   ]), 'colors': {'color_group': ['#ebeded', '#ebeded', '#ebeded', '#ebeded', '#ebeded', '#ebeded', '#ebeded', '#ebeded', '#ebeded', '#ebeded', '#ebeded', '#ebeded', '#ebeded', '#ebeded', '#ebeded', '#ebeded', '#ebeded', '#ebeded', '#ebeded', '#ebeded', '#ebeded', '#ebeded', '#ebeded', '#ebeded', '#ebeded', '#ebeded', '#ebeded', '#ebeded', '#ebeded', '#ebeded', '#ebeded', '#ebeded', '#ebeded', '#ebeded', '#ebeded', '#ebeded', '#ebeded', '#ebeded', '#ebeded', '#ebeded', '#ebeded', '#ebeded', '#ebeded', '#ebeded', '#ebeded', '#ebeded', '#ebeded', '#ebeded', '#ebeded', '#ebeded', '#ebeded', '#ebeded', '#ebeded', '#ebeded', '#ebeded', '#ebeded', '#ebeded', '#ebeded', '#ebeded', '#ebeded', '#ebeded', '#ebeded', '#ebeded', '#ebeded', '#ebeded', '#ebeded', '#ebeded', '#ebeded', '#ebeded', '#ebeded', '#ebeded', '#ebeded', '#ebeded', '#ebeded', '#ebeded', '#ebeded', '#ebeded', '#ebeded', '#ebeded', '#ebeded', '#ebeded', '#ebeded', '#ebeded', '#ebeded', '#ebeded', '#ebeded', '#ebeded', '#ebeded', '#ebeded', '#ebeded', '#ebeded', '#ebeded', '#ebeded', '#ebeded', '#ebeded', '#ebeded', '#ebeded', '#ebeded', '#ebeded', '#ebeded', '#ebeded', '#ebeded', '#ebeded', '#ebeded', '#ebeded', '#ebeded', '#ebeded', '#ebeded', '#ebeded', '#ebeded', '#ebeded', '#ebeded', '#ebeded', '#ebeded', '#ebeded', '#ebeded', '#ebeded', '#ebeded', '#ebeded', '#ebeded', '#ebeded', '#ebeded', '#ebeded', '#ebeded', '#ebeded', '#ebeded', '#ebeded', '#ebeded', '#ebeded', '#ebeded', '#ebeded', '#ebeded', '#ebeded', '#ebeded', '#ebeded', '#ebeded', '#ebeded', '#ebeded', '#ebeded', '#ebeded', '#ebeded', '#ebeded', '#ebeded', '#ebeded', '#ebeded', '#ebeded', '#ebeded', '#ebeded', '#ebeded', '#ebeded', '#ebeded', '#ebeded', '#ebeded', '#ebeded', '#ebeded', '#ebeded', '#ebeded', '#ebeded', '#ebeded', '#ebeded', '#ebeded', '#ebeded', '#ebeded', '#ebeded', '#ebeded', '#ebeded', '#ebeded', '#ebeded', '#ebeded', '#ebeded', '#ebeded', '#ebeded', '#ebeded', '#ebeded', '#ebeded', '#ebeded', '#ebeded', '#ebeded', '#ebeded', '#ebeded', '#ebeded', '#ebeded', '#ebeded', '#ebeded', '#ebeded', '#ebeded', '#ebeded', '#ebeded', '#ebeded', '#ebeded', '#ebeded', '#ebeded', '#ebeded', '#ebeded', '#ebeded', '#ebeded', '#ebeded', '#ebeded', '#ebeded', '#ebeded', '#ebeded', '#ebeded', '#ebeded', '#ebeded', '#ebeded', '#ebeded', '#ebeded', '#ebeded', '#ebeded', '#ebeded', '#ebeded', '#ebeded', '#ebeded', '#ebeded', '#ebeded', '#ebeded', '#ebeded', '#ebeded', '#ebeded', '#ebeded', '#ebeded', '#ebeded', '#ebeded', '#ebeded', '#ebeded', '#ebeded', '#ebeded', '#ebeded', '#ebeded', '#ebeded', '#ebeded', '#ebeded', '#ebeded', '#ebeded', '#ebeded', '#ebeded', '#ebeded', '#ebeded', '#ebeded', '#ebeded', '#ebeded', '#ebeded', '#ebeded', '#ebeded', '#ebeded', '#ebeded', '#ebeded', '#ebeded', '#ebeded', '#ebeded', '#ebeded', '#ebeded', '#ebeded', '#ebeded', '#ebeded', '#ebeded', '#ebeded', '#ebeded', '#ebeded', '#ebeded', '#ebeded', '#ebeded', '#ebeded', '#ebeded', '#ebeded', '#ebeded', '#ebeded', '#ebeded', '#ebeded', '#ebeded', '#ebeded', '#ebeded', '#ebeded', '#ebeded', '#ebeded', '#ebeded', '#ebeded', '#ebeded', '#ebeded', '#ebeded', '#ebeded', '#ebeded', '#ebeded', '#ebeded', '#ebeded', '#ebeded', '#ebeded', '#ebeded', '#ebeded', '#ebeded', '#ebeded', '#ebeded', '#ebeded', '#ebeded', '#ebeded', '#ebeded', '#ebeded', '#ebeded', '#ebeded', '#ebeded', '#ebeded', '#ebeded', '#ebeded', '#ebeded', '#ebeded', '#ebeded', '#ebeded', '#ebeded', '#ebeded', '#ebeded', '#ebeded', '#ebeded', '#ebeded', '#ebeded', '#ebeded', '#ebeded', '#ebeded', '#ebeded', '#ebeded', '#ebeded', '#ebeded', '#ebeded', '#ebeded', '#ebeded', '#ebeded', '#ebeded', '#ebeded', '#ebeded', '#ebeded', '#ebeded', '#ebeded', '#ebeded', '#ebeded', '#ebeded', '#ebeded', '#ebeded', '#ebeded', '#ebeded', '#ebeded', '#ebeded', '#ebeded', '#ebeded', '#ebeded', '#ebeded', '#ebeded', '#ebeded', '#ebeded', '#ebeded', '#ebeded', '#ebeded', '#ebeded', '#ebeded', '#ebeded', '#ebeded', '#ebeded', '#ebeded', '#ebeded', '#ebeded', '#ebeded', '#ebeded', '#ebeded', '#ebeded', '#ebeded', '#ebeded', '#ebeded', '#ebeded', '#ebeded', '#ebeded', '#ebeded', '#ebeded', '#ebeded', '#ebeded', '#ebeded', '#ebeded', '#ebeded', '#ebeded', '#ebeded', '#ebeded', '#ebeded', '#ebeded', '#ebeded', '#ebeded', '#ebeded', '#ebeded', '#ebeded', '#ebeded', '#ebeded', '#ebeded', '#ebeded', '#ebeded', '#ebeded', '#ebeded', '#ebeded', '#ebeded', '#ebeded', '#ebeded', '#ebeded', '#ebeded', '#ebeded', '#ebeded', '#ebeded', '#ebeded', '#ebeded', '#ebeded', '#ebeded', '#ebeded', '#ebeded', '#ebeded', '#ebeded', '#ebeded', '#ebeded', '#ebeded', '#ebeded', '#ebeded', '#ebeded', '#ebeded', '#ebeded', '#ebeded', '#ebeded', '#ebeded', '#ebeded', '#ebeded', '#ebeded', '#ebeded', '#ebeded', '#ebeded', '#ebeded', '#ebeded', '#ebeded', '#ebeded', '#ebeded', '#ebeded', '#ebeded', '#ebeded', '#ebeded', '#ebeded', '#ebeded', '#ebeded', '#ebeded', '#ebeded', '#ebeded', '#ebeded', '#ebeded', '#ebeded', '#ebeded', '#ebeded', '#ebeded', '#ebeded', '#ebeded', '#ebeded', '#ebeded', '#ebeded', '#ebeded', '#ebeded', '#ebeded', '#ebeded', '#ebeded', '#ebeded', '#ebeded', '#ebeded', '#ebeded', '#ebeded', '#ebeded', '#ebeded', '#ebeded', '#ebeded', '#ebeded', '#ebeded', '#ebeded', '#ebeded', '#ebeded', '#ebeded'], 'line_color': '#ebeded'}, 'labels': ['index: 0; ba: nan; name: amygdala', 'index: 1; ba: nan; name: amygdala', 'index: 2; ba: nan; name: hippocampus', 'index: 6; ba: nan; name: posterior insula', 'index: 7; ba: nan; name: nucleus accumbens', 'index: 8; ba: nan; name: nucleus accumbens', 'index: 10; ba: nan; name: hippocampus', 'index: 11; ba: nan; name: nucleus accumbens', 'index: 18; ba: nan; name: thalamus', 'index: 20; ba: nan; name: cerebellum', 'index: 22; ba: nan; name: thalamus', 'index: 24; ba: nan; name: caudate', 'index: 28; ba: nan; name: amygdala', 'index: 29; ba: nan; name: amygdala', 'index: 30; ba: nan; name: nucleus accumbens', 'index: 31; ba: nan; name: nucleus accumbens', 'index: 32; ba: nan; name: hippocampus', 'index: 33; ba: nan; name: hippocampus', 'index: 36; ba: nan; name: cerebellum', 'index: 37; ba: nan; name: cerebellum', 'index: 40; ba: nan; name: NAcc', 'index: 41; ba: nan; name: NAcc', 'index: 42; ba: nan; name: Caudate', 'index: 43; ba: nan; name: Caudate', 'index: 44; ba: nan; name: Thalamus', 'index: 48; ba: nan; name: Cerebellar vermis', 'index: 50; ba: nan; name: Caudate', 'index: 51; ba: nan; name: Caudate', 'index: 52; ba: nan; name: Thalamus', 'index: 55; ba: nan; name: Cerebellar vermis', 'index: 60; ba: nan; name: ventral striatum', 'index: 61; ba: nan; name: ventral striatum', 'index: 62; ba: nan; name: anterior insula/IFG', 'index: 63; ba: nan; name: anterior insula/IFG', 'index: 64; ba: nan; name: orbitofrontal cortex', 'index: 65; ba: nan; name: dorsal anterior cingulate cortex', 'index: 66; ba: nan; name: dorsal anterior cingulate cortex', 'index: 67; ba: nan; name: medial temporal gyrus', 'index: 68; ba: nan; name: medial temporal gyrus', 'index: 69; ba: nan; name: DLPFC', 'index: 70; ba: nan; name: DLPFC', 'index: 71; ba: nan; name: DLPFC', 'index: 72; ba: nan; name: lateral occipital cortex', 'index: 73; ba: nan; name: lateral occipital cortex', 'index: 74; ba: nan; name: ventral striatum', 'index: 75; ba: nan; name: anterior insula/IFG', 'index: 76; ba: nan; name: lateral occipital cortex', 'index: 77; ba: nan; name: lateral occipital cortex', 'index: 78; ba: nan; name: DLPFC', 'index: 79; ba: nan; name: DLPFC', 'index: 80; ba: nan; name: hippocampal area', 'index: 81; ba: nan; name: ventral striatum', 'index: 82; ba: nan; name: gyrus fusiformis', 'index: 83; ba: nan; name: gyrus fusiformis', 'index: 84; ba: nan; name: gyrus fusiformis', 'index: 85; ba: nan; name: lateral occipital cortex', 'index: 86; ba: nan; name: lateral occipital cortex', 'index: 87; ba: nan; name: MPFC', 'index: 88; ba: nan; name: MPFC', 'index: 89; ba: nan; name: lateral orbitofrontal cortex', 'index: 90; ba: nan; name: DLPFC', 'index: 91; ba: nan; name: hippocampal area', 'index: 92; ba: nan; name: hippocampal area', 'index: 93; ba: nan; name: amygdala', 'index: 94; ba: nan; name: medial temporal gyrus', 'index: 95; ba: nan; name: precuneus', 'index: 96; ba: nan; name: lateral occipital cortex', 'index: 97; ba: nan; name: lateral occipital cortex', 'index: 98; ba: nan; name: ventral striatum', 'index: 99; ba: nan; name: ventral striatum', 'index: 100; ba: nan; name: medial prefrontal cortex', 'index: 101; ba: nan; name: lateral occipital cortex', 'index: 102; ba: nan; name: lateral occipital cortex', 'index: 103; ba: nan; name: VT', 'index: 104; ba: nan; name: VT', 'index: 105; ba: nan; name: SLEA', 'index: 106; ba: nan; name: SLEA', 'index: 107; ba: nan; name: SLEA', 'index: 108; ba: nan; name: GOb', 'index: 109; ba: nan; name: NAc and other VS', 'index: 110; ba: nan; name: NAc and other VS', 'index: 111; ba: nan; name: VT', 'index: 112; ba: nan; name: SLEA', 'index: 113; ba: nan; name: SLEA', 'index: 114; ba: nan; name: GOb', 'index: 115; ba: nan; name: GOb', 'index: 116; ba: nan; name: GOb', 'index: 117; ba: nan; name: GOb', 'index: 118; ba: nan; name: GOb', 'index: 119; ba: nan; name: GOb', 'index: 120; ba: nan; name: NAc and other VS', 'index: 121; ba: nan; name: NAc and other VS', 'index: 122; ba: nan; name: VT', 'index: 123; ba: nan; name: SLEA', 'index: 124; ba: nan; name: SLEA', 'index: 125; ba: nan; name: VT', 'index: 126; ba: nan; name: Amyg', 'index: 127; ba: nan; name: Amyg', 'index: 128; ba: nan; name: Hypo', 'index: 129; ba: nan; name: NAc and other VS', 'index: 130; ba: nan; name: NAc and other VS', 'index: 131; ba: nan; name: NAc and other VS', 'index: 132; ba: nan; name: VT', 'index: 133; ba: nan; name: VT', 'index: 134; ba: nan; name: SLEA', 'index: 135; ba: nan; name: SLEA', 'index: 136; ba: nan; name: SLEA', 'index: 137; ba: nan; name: GOb', 'index: 138; ba: nan; name: GOb', 'index: 139; ba: nan; name: GOb', 'index: 140; ba: nan; name: Amyg', 'index: 141; ba: nan; name: NAc and other VS', 'index: 142; ba: nan; name: NAc and other VS', 'index: 143; ba: nan; name: VT', 'index: 144; ba: nan; name: VT', 'index: 145; ba: nan; name: SLEA', 'index: 146; ba: nan; name: GOb', 'index: 147; ba: nan; name: GOb', 'index: 148; ba: nan; name: GOb', 'index: 149; ba: nan; name: GOb', 'index: 150; ba: nan; name: Amyg', 'index: 151; ba: nan; name: Amyg', 'index: 152; ba: nan; name: Amyg', 'index: 153; ba: nan; name: Hypo', 'index: 154; ba: nan; name: Medial aspect of superior frontal gyrus', 'index: 155; ba: nan; name: Medial aspect of superior frontal gyrus', 'index: 156; ba: nan; name: Medial aspect of superior frontal gyrus', 'index: 157; ba: nan; name: Medial aspect of superior frontal gyrus', 'index: 158; ba: nan; name: Medial aspect of superior frontal gyrus', 'index: 159; ba: nan; name: Medial aspect of superior frontal gyrus', 'index: 160; ba: nan; name: Medial aspect of superior frontal gyrus', 'index: 161; ba: nan; name: Medial aspect of superior frontal gyrus', 'index: 162; ba: nan; name: Middle temporal gyrus', 'index: 163; ba: nan; name: Ventral striatum', 'index: 164; ba: nan; name: Ventral striatum', 'index: 165; ba: nan; name: Lingual gyrus', 'index: 166; ba: nan; name: Lingual gyrus', 'index: 167; ba: nan; name: Inferior temporal gyrus', 'index: 168; ba: nan; name: Inferior temporal gyrus', 'index: 169; ba: nan; name: Posterior lobe of cerebellum', 'index: 170; ba: nan; name: Posterior lobe of cerebellum', 'index: 171; ba: nan; name: Ventral striatum', 'index: 172; ba: nan; name: Ventral striatum', 'index: 173; ba: nan; name: Posterior lobe of cerebellum', 'index: 174; ba: nan; name: Posterior lobe of cerebellum', 'index: 175; ba: nan; name: Lateral occipital cortex', 'index: 176; ba: nan; name: Medial aspect of superior frontal gyrus', 'index: 177; ba: nan; name: Medial aspect of superior frontal gyrus', 'index: 178; ba: nan; name: Medial aspect of superior frontal gyrus', 'index: 179; ba: nan; name: Medial aspect of superior frontal gyrus', 'index: 180; ba: nan; name: Posterior cingulate gyrus', 'index: 181; ba: nan; name: Medial aspect of superior frontal gyrus', 'index: 182; ba: nan; name: Middle temporal gyrus', 'index: 183; ba: nan; name: Middle temporal gyrus', 'index: 184; ba: nan; name: Vermis', 'index: 185; ba: nan; name: Middle frontal gyrus', 'index: 186; ba: nan; name: Middle frontal gyrus', 'index: 187; ba: nan; name: Middle frontal gyrus', 'index: 188; ba: nan; name: Middle frontal gyrus', 'index: 189; ba: nan; name: Medial OFC', 'index: 190; ba: nan; name: Lateral OFC', 'index: 191; ba: nan; name: Lateral OFC', 'index: 192; ba: nan; name: Inferior frontal gyrus pars triangularis', 'index: 193; ba: nan; name: Middle frontal gyrus', 'index: 194; ba: nan; name: Posterior middle frontal gyrus', 'index: 195; ba: nan; name: Superior frontal gyrus', 'index: 196; ba: nan; name: Posterior superior frontal gyrus (SMA)', 'index: 197; ba: nan; name: Cingulate cortex', 'index: 198; ba: nan; name: Ventral striatum', 'index: 199; ba: nan; name: Ventral striatum', 'index: 200; ba: nan; name: Dorsal thalamus', 'index: 201; ba: nan; name: Superior temporal gyrus', 'index: 202; ba: nan; name: Superior temporal gyrus', 'index: 203; ba: nan; name: Inferior temporal gyrus', 'index: 204; ba: nan; name: Cerebellar vermis', 'index: 205; ba: nan; name: Cerebellar hemisphere', 'index: 206; ba: nan; name: Retrosplenial cortex', 'index: 207; ba: nan; name: Lingual gyrus', 'index: 208; ba: nan; name: Occipital cortex', 'index: 209; ba: nan; name: Occipital cortex', 'index: 210; ba: nan; name: Posterior inferior occipital cortex', 'index: 211; ba: nan; name: Precentral gyrus', 'index: 212; ba: nan; name: Precentral gyrus', 'index: 213; ba: nan; name: Precentral gyrus', 'index: 214; ba: nan; name: Central sulcus', 'index: 215; ba: nan; name: Paracentral lobule', 'index: 216; ba: nan; name: Superior parietal lobule', 'index: 226; ba: nan; name: Insula', 'index: 227; ba: nan; name: Thalamus/midbrain', 'index: 228; ba: nan; name: Dorsal striatum—caudate', 'index: 229; ba: nan; name: Dorsal striatum—caudate', 'index: 230; ba: nan; name: Ventral striatum', 'index: 239; ba: nan; name: Insula', 'index: 242; ba: nan; name: Dorsal striatum—caudate', 'index: 243; ba: nan; name: Dorsal striatum—caudate', 'index: 245; ba: nan; name: Ventral striatum', 'index: 246; ba: nan; name: Medial temporal lobe', 'index: 252; ba: nan; name: Striatum', 'index: 253; ba: nan; name: Striatum', 'index: 254; ba: nan; name: Amygdala', 'index: 255; ba: nan; name: Midbrain', 'index: 258; ba: nan; name: Insula', 'index: 265; ba: nan; name: Midbrain', 'index: 266; ba: nan; name: Ventral striatum', 'index: 267; ba: nan; name: Hippocampus', 'index: 268; ba: nan; name: Hippocampus', 'index: 271; ba: nan; name: Anterior medial thalamus', 'index: 272; ba: nan; name: Pallidum', 'index: 273; ba: nan; name: Pallidum', 'index: 275; ba: nan; name: Subgenual cingulate', 'index: 276; ba: nan; name: Hippocampus', 'index: 277; ba: nan; name: Hippocampus', 'index: 280; ba: nan; name: Insula cortex', 'index: 281; ba: nan; name: Insula cortex', 'index: 282; ba: nan; name: Head of caudate', 'index: 283; ba: nan; name: Head of caudate', 'index: 286; ba: nan; name: Cerebellum', 'index: 287; ba: nan; name: Cerebellum', 'index: 298; ba: nan; name: Amygdala', 'index: 299; ba: nan; name: Putamen', 'index: 300; ba: nan; name: Thalamus', 'index: 301; ba: nan; name: Amygdala', 'index: 302; ba: nan; name: Putamen', 'index: 303; ba: nan; name: Putamen', 'index: 304; ba: nan; name: Dopaminergic midbrain', 'index: 305; ba: nan; name: nucleus accumbens', 'index: 306; ba: nan; name: nucleus accumbens', 'index: 307; ba: nan; name: ventromedial prefrontal cortex', 'index: 308; ba: nan; name: ventral tegmental area', 'index: 309; ba: nan; name: nucleus caudatus', 'index: 310; ba: nan; name: nucleus caudatus', 'index: 311; ba: nan; name: insula', 'index: 312; ba: nan; name: insula', 'index: 313; ba: nan; name: superior temporal gyrus', 'index: 314; ba: nan; name: middle temporal gyrus', 'index: 315; ba: nan; name: superior temporal gyrus', 'index: 316; ba: nan; name: temporoparietal junction', 'index: 317; ba: nan; name: temporoparietal junction', 'index: 318; ba: nan; name: medial parietal cortex', 'index: 319; ba: nan; name: lateral parietal cortex', 'index: 320; ba: nan; name: precentral gyrus', 'index: 321; ba: nan; name: posterior cingulate cortex', 'index: 322; ba: nan; name: cerebellum', 'index: 323; ba: nan; name: postcentral gyrus', 'index: 324; ba: nan; name: thalamus', 'index: 330; ba: nan; name: Ventral medial PFC', 'index: 331; ba: nan; name: Ventral medial PFC', 'index: 332; ba: nan; name: Medial OFC', 'index: 333; ba: nan; name: Medial OFC', 'index: 334; ba: nan; name: Lateral OFC', 'index: 335; ba: nan; name: Posterior cingulate cortex', 'index: 336; ba: nan; name: Posterior cingulate cortex', 'index: 337; ba: nan; name: Caudolateral OFC', 'index: 338; ba: nan; name: Medial OFC', 'index: 339; ba: nan; name: Amygdala', 'index: 340; ba: nan; name: Border of ventral amygdala', 'index: 341; ba: nan; name: Ventral medial PFC', 'index: 342; ba: nan; name: Ventral medial PFC', 'index: 343; ba: nan; name: Medial OFC', 'index: 344; ba: nan; name: Medial OFC', 'index: 345; ba: nan; name: Lateral OFC', 'index: 346; ba: nan; name: Posterior cingulate cortex', 'index: 347; ba: nan; name: Posterior cingulate cortex', 'index: 348; ba: nan; name: Anterior insular cortex', 'index: 349; ba: nan; name: Lateral prefrontal cortex', 'index: 350; ba: nan; name: Lateral OFC', 'index: 351; ba: nan; name: Dorsal medial PFC', 'index: 352; ba: nan; name: Lateral PFC', 'index: 353; ba: nan; name: Medial OFC', 'index: 354; ba: nan; name: Lateral OFC', 'index: 355; ba: nan; name: Medial PFC', 'index: 356; ba: nan; name: Posterior cingulate cortex', 'index: 357; ba: nan; name: Anterior insula-caudolateral OFC', 'index: 358; ba: nan; name: Dorsal anterior cingulate cortex', 'index: 359; ba: nan; name: Dorsal anterior cingulate cortex', 'index: 360; ba: nan; name: Para-cingulate cortex', 'index: 361; ba: nan; name: Medial OFC', 'index: 362; ba: nan; name: Lateral OFC', 'index: 363; ba: nan; name: Central OFC', 'index: 364; ba: nan; name: Medial OFC', 'index: 365; ba: nan; name: Central OFC', 'index: 366; ba: nan; name: Dorsal anterior cingulate cortex', 'index: 367; ba: nan; name: Dorsal anterior cingulate cortex', 'index: 368; ba: nan; name: Dorsal anterior cingulate cortex', 'index: 369; ba: nan; name: Caudate nucleus', 'index: 370; ba: nan; name: Caudate nucleus', 'index: 371; ba: nan; name: Caudate nucleus', 'index: 372; ba: nan; name: Putamen', 'index: 373; ba: nan; name: Caudate nucleus', 'index: 374; ba: nan; name: Posterior cingulate cortex', 'index: 375; ba: nan; name: Lateral OFC', 'index: 376; ba: nan; name: Anterior insula-caudolateral OFC', 'index: 377; ba: nan; name: Anterior insula-caudolateral OFC', 'index: 378; ba: nan; name: Insula', 'index: 379; ba: nan; name: Amygdala/hippocampus', 'index: 381; ba: nan; name: Cerebellum', 'index: 382; ba: nan; name: Fusiform gyrus', 'index: 385; ba: nan; name: Amygdala', 'index: 391; ba: nan; name: Amygdala', 'index: 392; ba: nan; name: Parahippocampal gyrus', 'index: 393; ba: nan; name: Thalamus', 'index: 395; ba: nan; name: Middle temporal gyrus', 'index: 396; ba: nan; name: Corpus callosum', 'index: 397; ba: nan; name: Cerebellum', 'index: 398; ba: nan; name: Brainstem', 'index: 399; ba: nan; name: Cerebellum', 'index: 404; ba: nan; name: Anterior cerebellum', 'index: 405; ba: nan; name: Lingual gyrus', 'index: 407; ba: nan; name: Transverse temporal gyrus', 'index: 408; ba: nan; name: Putamen', 'index: 409; ba: nan; name: Globus pallidus', 'index: 410; ba: nan; name: Caudate nucleus', 'index: 411; ba: nan; name: Inferior parietal lobule', 'index: 412; ba: nan; name: Posterior cingulate gyrus', 'index: 413; ba: nan; name: Posterior cingulate sulcus', 'index: 414; ba: nan; name: Medial frontal gyrus', 'index: 415; ba: nan; name: Middle frontal gyrus', 'index: 416; ba: nan; name: Cerebellum', 'index: 417; ba: nan; name: Cerebellum', 'index: 418; ba: nan; name: Caudate/NAcc', 'index: 419; ba: nan; name: Putamen/NAcc', 'index: 422; ba: nan; name: Culmen/substantia nigra', 'index: 435; ba: nan; name: Caudate', 'index: 436; ba: nan; name: Insula', 'index: 438; ba: nan; name: Cerebellum/culmen', 'index: 439; ba: nan; name: Putamen', 'index: 440; ba: nan; name: Insula', 'index: 441; ba: nan; name: Putamen/NAcc', 'index: 446; ba: nan; name: Thalamusa', 'index: 447; ba: nan; name: Parahippocampal gyrus', 'index: 448; ba: nan; name: Hippocampus', 'index: 451; ba: nan; name: Amygdala', 'index: 453; ba: nan; name: Amygdala', 'index: 467; ba: nan; name: Anterior Cingulate Cortex', 'index: 468; ba: nan; name: Anterior Cingulate Cortex', 'index: 469; ba: nan; name: Anterior Cingulate Cortex', 'index: 470; ba: nan; name: Anterior Cingulate Cortex', 'index: 471; ba: nan; name: Frontal Operculum/Orbitofrontal Cortex', 'index: 472; ba: nan; name: Frontal Operculum/Orbitofrontal Cortex', 'index: 473; ba: nan; name: Frontal Operculum/Orbitofrontal Cortex', 'index: 474; ba: nan; name: Frontal Operculum/Orbitofrontal Cortex', 'index: 475; ba: nan; name: Frontal Operculum/Orbitofrontal Cortex', 'index: 476; ba: nan; name: Frontal Operculum/Orbitofrontal Cortex', 'index: 477; ba: nan; name: Posterior Orbitofrontal Cortex', 'index: 478; ba: nan; name: Posterior Orbitofrontal Cortex', 'index: 479; ba: nan; name: Posterior Orbitofrontal Cortex', 'index: 480; ba: nan; name: Posterior Orbitofrontal Cortex', 'index: 481; ba: nan; name: Posterior Orbitofrontal Cortex', 'index: 482; ba: nan; name: Anterior Cingulate Cortex', 'index: 483; ba: nan; name: Superior Frontal Sulcus', 'index: 485; ba: nan; name: Superior Frontal Sulcus', 'index: 486; ba: nan; name: Superior Frontal Sulcus', 'index: 487; ba: nan; name: Superior Frontal Sulcus', 'index: 488; ba: nan; name: Superior Frontal Sulcus', 'index: 489; ba: nan; name: Middle frontal / Anterior orbital gyrus', 'index: 490; ba: nan; name: Middle frontal / Anterior orbital gyrus', 'index: 491; ba: nan; name: Middle frontal gyrus', 'index: 492; ba: nan; name: Inferior parietal lobule', 'index: 493; ba: nan; name: Inferior parietal lobule', 'index: 494; ba: nan; name: Precuneus', 'index: 495; ba: nan; name: Posterior orbital gyrus', 'index: 496; ba: nan; name: Posterior orbital gyrus', 'index: 497; ba: nan; name: Medial orbital / Straight gyrus', 'index: 498; ba: nan; name: Amygdala', 'index: 499; ba: nan; name: Amygdala', 'index: 500; ba: nan; name: Superior frontal gyrus', 'index: 501; ba: nan; name: Inferior frontal gyrus', 'index: 502; ba: nan; name: Superior temporal gyrus', 'index: 503; ba: nan; name: Precentral gyrus', 'index: 504; ba: nan; name: Precentral gyrus', 'index: 505; ba: nan; name: Parahippocampal gyrus', 'index: 506; ba: nan; name: Middle Temporal / Middle occipital gyrus', 'index: 507; ba: nan; name: Middle Temporal / Middle occipital gyrus', 'index: 508; ba: nan; name: Fusiform gyrus', 'index: 509; ba: nan; name: Fusiform gyrus', 'index: 510; ba: nan; name: Cuneus / Superior occipital gyrus', 'index: 511; ba: nan; name: Cuneus / Superior occipital gyrus', 'index: 512; ba: nan; name: Cuneus / Superior occipital gyrus', 'index: 513; ba: nan; name: Lingual gyrus', 'index: 514; ba: nan; name: Lingual gyrus', 'index: 515; ba: nan; name: Ventral striatum', 'index: 516; ba: nan; name: Ventral striatum', 'index: 517; ba: nan; name: Midbrain', 'index: 518; ba: nan; name: Midbrain', 'index: 519; ba: nan; name: Anterior insula', 'index: 520; ba: nan; name: Anterior insula', 'index: 521; ba: nan; name: Anterior cingulate', 'index: 522; ba: nan; name: Anterior cingulate', 'index: 523; ba: nan; name: Anterior cingulate', 'index: 524; ba: nan; name: Posterior cingulate', 'index: 525; ba: nan; name: Posterior cingulate', 'index: 526; ba: nan; name: Middle frontal gyrus', 'index: 527; ba: nan; name: Middle frontal gyrus', 'index: 528; ba: nan; name: Superior frontal gyrus', 'index: 529; ba: nan; name: Superior frontal / precentral gyrus', 'index: 530; ba: nan; name: Thalamus', 'index: 531; ba: nan; name: Superior parietal lobule', 'index: 532; ba: nan; name: Middle occipital gyrus', 'index: 533; ba: nan; name: Cerebellum', 'index: 534; ba: nan; name: Cerebellum', 'index: 560; ba: nan; name: Caudate', 'index: 563; ba: nan; name: Caudate', 'index: 577; ba: nan; name: Caudate', 'index: 578; ba: nan; name: Thalamus', 'index: 579; ba: nan; name: Caudate', 'index: 589; ba: nan; name: superior temporal sulcus', 'index: 590; ba: nan; name: superior temporal sulcus', 'index: 591; ba: nan; name: superior temporal sulcus', 'index: 592; ba: nan; name: superior temporal sulcus', 'index: 593; ba: nan; name: Posterior OFC (inferior frontal gyrus)', 'index: 594; ba: nan; name: Posterior OFC (inferior frontal gyrus)', 'index: 595; ba: nan; name: Paracingulate cortex/medial prefrontal cortex', 'index: 596; ba: nan; name: Paracingulate cortex/medial prefrontal cortex', 'index: 597; ba: nan; name: Paracingulate cortex/medial prefrontal cortex', 'index: 598; ba: nan; name: Superior frontal gyrus', 'index: 599; ba: nan; name: Superior frontal gyrus', 'index: 600; ba: nan; name: Superior frontal gyrus', 'index: 601; ba: nan; name: Anterior cingulate', 'index: 602; ba: nan; name: Posterior cingulate', 'index: 603; ba: nan; name: Inferior temporal cortex', 'index: 604; ba: nan; name: Dorsal Medial Prefrontal Cortex', 'index: 605; ba: nan; name: Dorsal Medial Prefrontal Cortex', 'index: 606; ba: nan; name: Dorsal Medial Prefrontal Cortex', 'index: 607; ba: nan; name: Thalamus', 'index: 608; ba: nan; name: supramarginal gyrus/inferior parietal lobule', 'index: 609; ba: nan; name: supramarginal gyrus/inferior parietal lobule', 'index: 610; ba: nan; name: ACC/VMPFC/left LOFC', 'index: 611; ba: nan; name: ACC/VMPFC/left LOFC', 'index: 612; ba: nan; name: ACC/VMPFC/left LOFC', 'index: 613; ba: nan; name: Posterior Cingulate Cortex', 'index: 614; ba: nan; name: Nucleus Accumbens (NAcc)', 'index: 615; ba: nan; name: Nucleus Accumbens (NAcc)', 'index: 616; ba: nan; name: Posterior middle temporal gyrus/angular gyrus/superior occipital gyrus', 'index: 617; ba: nan; name: Posterior middle temporal gyrus/angular gyrus/superior occipital gyrus', 'index: 618; ba: nan; name: Superior/Middle Frontal Gyrus', 'index: 619; ba: nan; name: Superior/Middle Frontal Gyrus', 'index: 620; ba: nan; name: Nucleus Accumbens (NAcc)', 'index: 621; ba: nan; name: Dorsal Medial Prefrontal Cortex', 'index: 622; ba: nan; name: Dorsal Medial Prefrontal Cortex', 'index: 623; ba: nan; name: Dorsal Medial Prefrontal Cortex', 'index: 624; ba: nan; name: Thalamus', 'index: 625; ba: nan; name: Thalamus', 'index: 626; ba: nan; name: Calcarine/Left Cerebellum', 'index: 627; ba: nan; name: Calcarine/Left Cerebellum', 'index: 628; ba: nan; name: Calcarine/Left Cerebellum', 'index: 629; ba: nan; name: Middle Temporal Gyrus', 'index: 630; ba: nan; name: ACC/VMPFC', 'index: 631; ba: nan; name: ACC/VMPFC', 'index: 632; ba: nan; name: ACC/VMPFC', 'index: 633; ba: nan; name: lateral Orbital Frontal Gyrus', 'index: 634; ba: nan; name: Superior/Middle Frontal Gyrus', 'index: 635; ba: nan; name: Superior/Middle Frontal Gyrus', 'index: 636; ba: nan; name: Superior/Middle Frontal Gyrus', 'index: 637; ba: nan; name: Nucleus Accumbens (NAcc)', 'index: 638; ba: nan; name: Nucleus Accumbens (NAcc)', 'index: 639; ba: nan; name: Nucleus Accumbens (NAcc)', 'index: 640; ba: nan; name: Nucleus Accumbens (NAcc)', 'index: 641; ba: nan; name: angular gyrus/middle occipital gyrus/superior occipital gyrus', 'index: 642; ba: nan; name: angular gyrus/middle occipital gyrus/superior occipital gyrus', 'index: 643; ba: nan; name: angular gyrus/middle occipital gyrus/superior occipital gyrus', 'index: 644; ba: nan; name: angular gyrus/middle occipital gyrus/superior occipital gyrus', 'index: 645; ba: nan; name: Angular Gyrus /middle occipital gyrus', 'index: 646; ba: nan; name: Angular Gyrus /middle occipital gyrus', 'index: 647; ba: nan; name: Posterior Cingulate Cortex', 'index: 648; ba: nan; name: Precuneus', 'index: 649; ba: nan; name: Ventral MPFC', 'index: 650; ba: nan; name: Angular Gyrus', 'index: 651; ba: nan; name: Angular Gyrus', 'index: 652; ba: nan; name: Middle Temporal Gyrus', 'index: 653; ba: nan; name: Middle Frontal Gyrus', 'index: 654; ba: nan; name: Inferior Parietal Lobule', 'index: 655; ba: nan; name: Inferior Parietal Lobule']}]\n",
      "[{'Xn': array([-21.   ,  25.   ,  53.   ,  53.   ,  25.   ,  21.   , -10.   ,\n",
      "        25.   ,   0.   , -28.283, -34.343, -51.515,  10.101, -11.111,\n",
      "        40.404,  15.152, -33.333,  -6.061,  -3.03 ,  18.   ,   0.   ,\n",
      "         9.   ,  45.   ,  39.   ,  51.   ,  40.   ,   4.04 , -24.242,\n",
      "         0.   , -59.596,  53.535, -36.364,  33.333, -50.505,   3.03 ,\n",
      "        -6.061,  36.364,  32.   , -24.   ,   6.   ,  12.   ,  -2.   ,\n",
      "        10.   ,   0.   ,  -2.   , -18.   , -26.   , -24.   ,   0.   ,\n",
      "        12.   ,   8.   ,  -6.   ,   4.   ,   0.   ,   0.   ,   0.   ]), 'Yn': array([ 21.   ,  25.   , -17.   ,   7.   ,  49.   ,  39.   ,  42.   ,\n",
      "       -10.   ,  -6.643, -58.794, -17.455,  -4.069,  46.538,  45.509,\n",
      "        36.448,  63.322,  44.018,  40.617,  62.242,   6.   ,  51.   ,\n",
      "        57.   ,  36.   ,  16.   ,  16.   ,   6.   ,  56.013,  40.154,\n",
      "        54.366,   9.06 ,   3.448,  35.727,  39.28 ,   0.514,  60.389,\n",
      "        59.77 ,  35.626,   4.   ,   6.   ,  40.   ,  58.   ,  68.   ,\n",
      "        64.   ,  44.   ,  62.   ,  32.   ,  20.   ,  24.   ,  68.   ,\n",
      "        60.   ,  68.   ,  72.   ,  52.   ,  48.   ,  38.   ,  48.   ]), 'Zn': array([-25.   , -21.   ,  46.   ,  11.   ,  -7.   , -21.   , -24.   ,\n",
      "        67.   ,  52.977,  42.607,  63.29 ,  42.23 ,  41.635,  41.58 ,\n",
      "        36.749,  35.99 , -15.336,  57.647,  -7.131,  72.   ,  -6.   ,\n",
      "        36.   ,  30.   ,  33.   ,  45.   ,  44.   ,  -6.299,  45.651,\n",
      "       -15.93 ,  26.598,  36.096,  30.181,  20.574,  32.677, -12.006,\n",
      "        23.832, -12.245,  64.   ,  62.   , -22.   ,   2.   ,  -2.   ,\n",
      "         0.   , -10.   ,  -2.   ,  34.   ,  44.   ,  52.   ,  -2.   ,\n",
      "         0.   ,   0.   ,  -4.   , -10.   ,  -8.   , -12.   ,  -8.   ]), 'colors': {'color_group': ['#AA0DFE', '#AA0DFE', '#3283FE', '#85660D', '#AA0DFE', '#AA0DFE', '#AA0DFE', '#85660D', '#85660D', '#3283FE', '#3283FE', '#85660D', '#782AB6', '#782AB6', '#782AB6', '#782AB6', '#AA0DFE', '#565656', '#1C8356', '#85660D', '#1C8356', '#782AB6', '#782AB6', '#782AB6', '#782AB6', '#565656', '#1C8356', '#565656', '#AA0DFE', '#782AB6', '#782AB6', '#782AB6', '#1C8356', '#85660D', '#AA0DFE', '#1C8356', '#AA0DFE', '#85660D', '#85660D', '#AA0DFE', '#1C8356', '#1C8356', '#1C8356', '#AA0DFE', '#1C8356', '#782AB6', '#565656', '#565656', '#1C8356', '#1C8356', '#1C8356', '#1C8356', '#1C8356', '#1C8356', '#AA0DFE', '#1C8356'], 'line_color': 'rgb(50,50,50)'}, 'labels': ['index: 3; ba: 11; name: orbitofrontal cortex', 'index: 5; ba: 11; name: orbitofrontal cortex', 'index: 9; ba: 4; name: postcentral gyrus', 'index: 19; ba: 6; name: ventrolateral PFC', 'index: 23; ba: 11; name: orbitofrontal cortex', 'index: 26; ba: 11; name: orbitofrontal cortex', 'index: 27; ba: 11; name: orbitofrontal cortex', 'index: 38; ba: 6; name: supplementary motor', 'index: 46; ba: 6; name: Sup. motor area', 'index: 47; ba: 4; name: motor ctx.', 'index: 54; ba: 4; name: motor ctx.', 'index: 219; ba: 6; name: Precentral gyrus', 'index: 235; ba: 9; name: Superior frontal gyrus', 'index: 236; ba: 9; name: Superior frontal gyrus', 'index: 244; ba: 9; name: Superior frontal gyrus', 'index: 259; ba: 9; name: Frontal pole', 'index: 260; ba: 11; name: Lateral OFC', 'index: 261; ba: 8; name: Anterior medial frontal cortex', 'index: 262; ba: 10; name: Medial OFC', 'index: 290; ba: 6; name: Supplementary motor area', 'index: 292; ba: 10; name: Medial orbitofrontal', 'index: 293; ba: 9; name: Cortex Frontal pole', 'index: 294; ba: 9; name: Dorsolateral prefrontal cortex', 'index: 325; ba: 9; name: pIFS', 'index: 326; ba: 9; name: pIFS', 'index: 327; ba: 8; name: pIFS', 'index: 384; ba: 10; name: Medial frontal gyrus', 'index: 390; ba: 8; name: Superior frontal gyrus', 'index: 406; ba: 11; name: Orbitofrontal gyrus', 'index: 423; ba: 9; name: Inferior frontal gyrus', 'index: 424; ba: 9; name: Inferior frontal gyrus', 'index: 429; ba: 9; name: Superior frontal gyrus', 'index: 430; ba: 10; name: Middle frontal gyrus', 'index: 431; ba: 6; name: Precentral gyrus', 'index: 452; ba: 11; name: Medial frontal gyrus', 'index: 458; ba: 10; name: Medial frontal gyrus', 'index: 462; ba: 11; name: Middle frontal gyrus', 'index: 537; ba: 6; name: Middle Frontal Gyrus', 'index: 539; ba: 6; name: Superior Frontal Gyrus', 'index: 543; ba: 11; name: Rectal Gyrus', 'index: 544; ba: 10; name: Medial Frontal Gyrus', 'index: 545; ba: 10; name: Medial Frontal Gyrus', 'index: 546; ba: 10; name: Medial Frontal Gyrus', 'index: 547; ba: 11; name: Medial Frontal Gyrus', 'index: 548; ba: 10; name: Medial Frontal Gyrus', 'index: 549; ba: 9; name: Medial Frontal Gyrus', 'index: 551; ba: 8; name: Middle Frontal Gyrus', 'index: 552; ba: 8; name: Superior Frontal Gyrus', 'index: 554; ba: 10; name: Medial Frontal Gyrus', 'index: 555; ba: 10; name: Medial Frontal Gyrus', 'index: 556; ba: 10; name: Superior Frontal Gyrus', 'index: 557; ba: 10; name: Medial Frontal Gyrus', 'index: 558; ba: 10; name: Medial Frontal Gyrus', 'index: 559; ba: 10; name: Medial Frontal Gyrus', 'index: 561; ba: 11; name: Medial Frontal Gyrus', 'index: 576; ba: 10; name: Medial Frontal Gyrus']}, {'Xn': array([ 18.   , -17.   , -28.   ,  39.   ,  11.   ,  14.   , -31.   ,\n",
      "        -7.   ,   7.   ,  49.   , -10.   , -17.   ,  27.   , -23.   ,\n",
      "        14.   , -21.   ,  28.   ,  39.   , -28.   ,  14.   ,  11.111,\n",
      "        -9.091,  10.101,  -8.081,  -3.03 ,   0.   ,  11.111, -16.162,\n",
      "        -8.081,   0.   ,  10.   ,  -8.   ,  32.   , -40.   , -30.   ,\n",
      "       -10.   ,  10.   ,  54.   , -58.   ,  44.   ,  40.   , -46.   ,\n",
      "        42.   , -40.   ,  -6.   ,  40.   ,  36.   , -36.   , -52.   ,\n",
      "       -54.   , -18.   , -12.   , -30.   , -24.   ,  34.   ,  42.   ,\n",
      "       -20.   ,   2.   ,  -8.   , -36.   , -26.   , -22.   ,  22.   ,\n",
      "        22.   , -60.   ,  14.   ,  34.   , -34.   , -10.   ,  10.   ,\n",
      "        -8.   ,  32.   , -32.   ,  -3.03 ,   3.03 ,  16.162,  22.222,\n",
      "       -15.152,  16.162,  16.162,  -6.061,  13.131,  16.162, -24.242,\n",
      "        19.192, -21.212, -21.212,  34.343,  13.131, -33.333,   7.071,\n",
      "       -12.121,  -3.03 , -18.182, -12.121,  -6.061, -12.121, -27.273,\n",
      "         7.071,   7.071,  -9.091, -12.121,  13.131,  19.192,  19.192,\n",
      "       -18.182, -30.303,  28.283, -21.212, -18.182,   0.   ,  16.162,\n",
      "        -9.091,  -6.061,  10.101, -18.182,  22.222, -24.242,  34.343,\n",
      "       -33.333, -18.182, -27.273,  28.283,   3.03 ,   8.081,  12.121,\n",
      "        -2.02 ,  -2.02 ,   8.081,  10.101,  -8.081,  -4.04 ,  60.606,\n",
      "        24.242, -26.263,  16.162, -16.162,  40.404, -42.424, -10.101,\n",
      "       -34.343,  26.263, -24.242,  38.384, -28.283, -22.222,  -8.081,\n",
      "         4.04 ,  -4.04 ,  -6.061,   0.   ,   4.04 ,  58.586, -58.586,\n",
      "         6.061,  34.343,  26.263,  36.364,  26.263,   0.   , -16.162,\n",
      "       -18.182, -44.444, -26.263, -22.222,  26.263,   2.02 ,  -4.04 ,\n",
      "       -16.162,  28.283, -10.101, -60.606,  62.626, -54.545,   0.   ,\n",
      "       -28.283,   2.02 , -14.141, -26.263,  32.323,  28.283, -38.384,\n",
      "        24.242,  58.586, -46.465,   2.02 , -22.222, -32.323,  -8.081,\n",
      "        11.111,  -5.051, -12.121,  38.384, -12.121,  11.111, -14.141,\n",
      "       -21.212, -27.273,  27.273,  24.242,  -9.091,  45.455,   9.091,\n",
      "        18.182, -24.242,  33.333,   6.061,  15.152, -15.152,   9.091,\n",
      "       -30.303,  33.333, -36.364,  42.424,  21.212,  -9.091, -27.   ,\n",
      "        21.   ,  27.   ,  33.   ,   3.   ,  30.   ,  27.   ,  24.   ,\n",
      "         3.   ,  16.   , -24.   ,  -2.   ,  14.   ,  10.   , -22.   ,\n",
      "        42.   , -30.   ,  54.   ,  60.   , -60.   ,  56.   , -54.   ,\n",
      "         6.   ,  62.   ,  34.   ,  -6.   ,  42.   , -38.   , -14.   ,\n",
      "         9.   ,   9.   ,  12.   ,   3.   , -39.   ,  -9.   ,  -9.   ,\n",
      "       -27.   ,  -6.   , -27.   ,  33.   ,   9.   ,   9.   ,  12.   ,\n",
      "         3.   , -39.   ,  -9.   ,  -9.   ,  42.   ,  51.   ,  45.   ,\n",
      "         0.   ,  51.   ,   0.   , -42.   ,  -3.   ,  -3.   ,  36.   ,\n",
      "        -3.   ,   3.   ,  -6.   ,   9.   , -42.   ,  18.   ,   3.   ,\n",
      "        24.   ,  -3.   ,   6.   ,   9.   ,  -6.   ,  21.   ,  15.   ,\n",
      "        21.   ,  33.   ,   0.   , -30.   , -33.   ,  39.   , -38.384,\n",
      "       -22.222, -34.343, -44.444,  22.222, -20.202, -36.364,  -4.04 ,\n",
      "       -48.485,   2.02 ,   0.   ,   8.081,  40.404, -38.384, -18.182,\n",
      "        65.657,  19.192, -14.141,  -8.081, -48.485,  -2.02 ,  -1.01 ,\n",
      "        -6.061, -19.192,  10.101, -38.384,  12.121, -18.182,   0.   ,\n",
      "        24.242, -45.455,   0.   ,  21.212,  30.303, -18.182,   3.03 ,\n",
      "        24.242, -33.333,  18.182, -18.182,   2.   ,   2.   ,   2.   ,\n",
      "         6.   ,  36.   ,  40.   ,  32.   ,  46.   ,  50.   ,  36.   ,\n",
      "       -10.   , -12.   , -14.   ,  20.   ,  22.   ,  12.   , -22.   ,\n",
      "       -18.   , -28.   , -26.   , -26.   , -30.   ,  30.   ,  36.   ,\n",
      "       -51.   ,  45.   ,   3.   , -30.   ,  30.   ,  -6.   , -21.   ,\n",
      "        24.   ,  -3.   ,  54.   , -39.   ,  48.   , -18.   ,  21.   ,\n",
      "       -48.   ,  54.   , -42.   ,  42.   , -12.   ,  12.   ,   0.   ,\n",
      "       -21.   ,  24.   , -12.   ,   9.   ,  -3.   ,   6.   , -27.   ,\n",
      "        33.   ,  -6.   ,   9.   ,   3.   ,  -3.   ,   3.   , -27.   ,\n",
      "        30.   ,  -9.   , -27.   ,  -9.   , -15.   ,  39.   , -33.   ,\n",
      "        33.   ,  -8.   , -18.   ,  -8.   ,  14.   , -16.   , -60.   ,\n",
      "       -48.   ,  54.   ,  51.   , -36.   , -51.   ,   0.   ,  -6.   ,\n",
      "         3.   ,  -9.   , -18.   , -18.   ,   3.   ,   0.   ,  54.   ,\n",
      "         4.   ,   2.   ,   4.   ,  -2.   ,  54.   ,  54.   ,   0.   ,\n",
      "       -34.   ,  -2.   ,   0.   , -20.   , -16.   , -52.   , -30.   ,\n",
      "       -26.   , -18.   ,   8.   ,   6.   ,   4.   ,   6.   ,  -4.   ,\n",
      "         2.   ,   4.   , -10.   , -22.   ,  66.   ,  -2.   ,   0.   ,\n",
      "         0.   , -52.   , -22.   , -16.   , -14.   , -20.   , -10.   ,\n",
      "         8.   ,  20.   , -44.   , -46.   , -18.   , -46.   , -76.   ,\n",
      "        32.   ,  -6.   ,   6.   , -14.   , -46.   , -40.   , -44.   ,\n",
      "        26.   , -56.   , -50.   ]), 'Yn': array([-7.0000e+00, -3.0000e+00, -2.4000e+01, -2.1000e+01,  0.0000e+00,\n",
      "        1.1000e+01, -1.4000e+01,  4.0000e+00, -1.0000e+01, -4.9000e+01,\n",
      "       -1.0000e+01, -2.1000e+01, -1.0000e+00,  0.0000e+00,  1.4000e+01,\n",
      "        1.4000e+01, -3.5000e+01, -2.1000e+01, -4.5000e+01, -4.5000e+01,\n",
      "        1.2356e+01,  1.0296e+01,  9.0610e+00,  6.6900e-01, -1.4055e+01,\n",
      "       -7.0735e+01, -3.8100e+00, -3.5010e+00, -2.5750e+00, -6.3888e+01,\n",
      "        6.0000e+00,  8.0000e+00,  2.6000e+01,  2.0000e+01,  5.4000e+01,\n",
      "        2.6000e+01,  2.8000e+01, -3.8000e+01, -3.6000e+01,  1.8000e+01,\n",
      "        3.6000e+01,  6.0000e+00, -9.0000e+01, -9.0000e+01,  1.0000e+01,\n",
      "        2.6000e+01, -9.6000e+01, -9.2000e+01,  1.0000e+01, -2.0000e+00,\n",
      "       -1.2000e+01,  6.0000e+00, -6.4000e+01, -5.0000e+01, -6.0000e+01,\n",
      "       -9.0000e+01, -9.8000e+01,  5.0000e+01,  3.4000e+01,  3.4000e+01,\n",
      "        2.6000e+01, -1.8000e+01, -1.6000e+01,  0.0000e+00, -3.0000e+01,\n",
      "       -5.4000e+01, -9.6000e+01, -9.4000e+01,  1.0000e+01,  1.2000e+01,\n",
      "        3.6000e+01, -9.6000e+01, -9.8000e+01, -7.4640e+00, -1.7761e+01,\n",
      "       -8.8550e+00,  3.8620e+00,  9.8340e+00,  4.6901e+01,  1.8791e+01,\n",
      "        1.5548e+01, -1.5187e+01, -8.8550e+00,  4.0160e+00,  4.9989e+01,\n",
      "        3.4390e+01,  4.6591e+01,  4.3348e+01,  5.6013e+01,  2.4608e+01,\n",
      "        1.2253e+01,  9.1640e+00, -1.7967e+01,  1.0040e+01,  4.1200e-01,\n",
      "       -1.8121e+01, -1.8520e+00, -5.0960e+00, -1.1943e+01,  9.3700e+00,\n",
      "        9.0090e+00,  3.1920e+00, -1.5187e+01, -2.1519e+01,  1.0040e+01,\n",
      "        1.0040e+01, -2.6770e+00,  4.6591e+01,  1.8946e+01,  4.6591e+01,\n",
      "        3.8620e+00,  1.8791e+01,  6.0750e+00, -1.8121e+01, -2.4454e+01,\n",
      "        1.0040e+01,  5.2615e+01,  4.3142e+01,  4.3348e+01,  2.4969e+01,\n",
      "        7.7300e-01, -5.0960e+00,  4.5320e+00, -1.1943e+01,  1.9664e+01,\n",
      "        5.8586e+01,  5.9204e+01,  3.8815e+01,  5.6526e+01,  1.5442e+01,\n",
      "        1.9664e+01,  5.0451e+01, -1.1737e+01,  4.1200e-01, -1.4410e+00,\n",
      "       -6.9397e+01, -8.8446e+01, -7.9694e+01, -6.3219e+01, -7.3104e+01,\n",
      "       -6.4248e+01,  2.5750e+00,  4.7370e+00, -7.6810e+01, -7.9281e+01,\n",
      "       -9.4418e+01,  5.8379e+01,  5.6423e+01,  4.6848e+01,  1.7501e+01,\n",
      "       -2.6669e+01,  5.2305e+01, -1.3281e+01, -1.3384e+01, -6.3528e+01,\n",
      "        1.9973e+01,  4.1287e+01,  2.9034e+01,  1.3692e+01,  4.5716e+01,\n",
      "        4.4172e+01,  4.0157e+01,  3.2330e+01,  3.2741e+01,  1.6450e+00,\n",
      "        2.6254e+01, -2.3700e+00, -2.0595e+01,  8.8550e+00,  5.1500e-01,\n",
      "       -1.1224e+01, -1.2459e+01,  2.2650e+00, -6.2807e+01, -3.9434e+01,\n",
      "       -5.4467e+01, -5.2306e+01, -6.7853e+01, -8.6491e+01, -7.7842e+01,\n",
      "       -9.3799e+01, -1.9050e+01, -2.5537e+01, -1.8550e+00, -1.4004e+01,\n",
      "       -3.9746e+01, -6.3942e+01,  7.6190e+00, -1.7916e+01,  1.1789e+01,\n",
      "        7.9280e+00,  4.2730e+00, -1.5239e+01,  1.5084e+01,  1.6114e+01,\n",
      "        4.1200e-01, -1.4054e+01, -1.5500e-01, -3.0900e-01, -5.2500e+00,\n",
      "       -1.1119e+01, -1.2356e+01, -1.3541e+01,  7.9270e+00, -1.7606e+01,\n",
      "       -1.1583e+01, -1.2356e+01, -3.3980e+00, -3.3980e+00,  3.6912e+01,\n",
      "       -1.1583e+01, -2.0850e+01, -6.4870e+00,  9.5760e+00,  2.4711e+01,\n",
      "        1.1737e+01, -7.2000e+01, -5.4000e+01,  0.0000e+00,  3.0000e+00,\n",
      "       -1.8000e+01, -6.0000e+00,  6.0000e+00, -3.0000e+00, -1.5000e+01,\n",
      "        1.4000e+01,  1.2000e+01,  5.4000e+01, -1.8000e+01,  1.8000e+01,\n",
      "        2.6000e+01,  2.0000e+00, -3.0000e+01, -2.4000e+01,  4.0000e+00,\n",
      "       -6.0000e+00, -4.0000e+01, -4.0000e+01, -3.2000e+01, -3.4000e+01,\n",
      "       -1.8000e+01, -2.6000e+01, -7.2000e+01, -3.0000e+01, -2.8000e+01,\n",
      "        4.2000e+01,  6.6000e+01,  3.6000e+01,  1.5000e+01,  4.2000e+01,\n",
      "       -3.3000e+01, -4.2000e+01,  1.8000e+01,  1.8000e+01, -3.0000e+00,\n",
      "       -6.0000e+00,  4.2000e+01,  6.6000e+01,  3.6000e+01,  1.5000e+01,\n",
      "        4.2000e+01, -3.3000e+01, -4.2000e+01,  2.7000e+01,  2.4000e+01,\n",
      "        3.6000e+01,  4.8000e+01,  2.1000e+01,  4.2000e+01,  3.6000e+01,\n",
      "        5.4000e+01, -5.4000e+01,  2.7000e+01,  2.1000e+01,  3.3000e+01,\n",
      "        1.2000e+01,  3.9000e+01,  4.2000e+01,  3.9000e+01,  2.7000e+01,\n",
      "        3.6000e+01,  2.1000e+01,  2.7000e+01,  2.1000e+01,  3.0000e+00,\n",
      "        0.0000e+00,  1.8000e+01,  0.0000e+00,  3.0000e+00, -1.5000e+01,\n",
      "        4.2000e+01,  2.1000e+01,  2.4000e+01,  1.5450e+00, -1.1583e+01,\n",
      "       -3.5933e+01, -4.7569e+01, -4.2720e+00,  1.0000e-03, -2.1610e+00,\n",
      "       -1.2407e+01, -7.8460e+01,  1.0502e+01, -7.7685e+01, -2.7747e+01,\n",
      "       -4.1802e+01, -4.0052e+01, -7.3876e+01, -9.7820e+00,  7.1560e+00,\n",
      "        1.3390e+00,  3.9640e+00, -5.5860e+01, -3.7532e+01, -3.4340e+01,\n",
      "        4.4770e+00,  1.0790e+00, -5.8174e+01, -5.0657e+01,  1.2407e+01,\n",
      "        1.2407e+01, -2.9808e+01, -3.9179e+01,  9.2670e+00, -5.0812e+01,\n",
      "        8.7000e+00, -3.6090e+01,  9.4210e+00, -3.6295e+01, -2.4248e+01,\n",
      "       -1.1583e+01, -5.5600e+00, -3.5000e+00,  4.4000e+01,  4.6000e+01,\n",
      "        4.6000e+01,  4.6000e+01,  2.4000e+01,  2.2000e+01,  2.2000e+01,\n",
      "        2.2000e+01,  2.2000e+01,  2.8000e+01,  1.6000e+01,  1.0000e+01,\n",
      "        1.4000e+01,  1.2000e+01,  2.0000e+01,  2.0000e+01,  2.4000e+01,\n",
      "        2.6000e+01,  3.2000e+01,  3.0000e+01,  2.6000e+01,  5.1000e+01,\n",
      "        5.4000e+01,  1.2000e+01, -4.8000e+01, -4.8000e+01, -6.6000e+01,\n",
      "        3.3000e+01,  3.3000e+01,  4.5000e+01, -6.0000e+00,  0.0000e+00,\n",
      "        5.7000e+01,  3.6000e+01,  1.8000e+01, -6.0000e+00, -5.1000e+01,\n",
      "       -5.4000e+01, -8.1000e+01, -6.6000e+01, -4.2000e+01, -4.5000e+01,\n",
      "       -8.4000e+01, -8.4000e+01, -8.4000e+01, -7.2000e+01, -6.0000e+01,\n",
      "        9.0000e+00,  6.0000e+00, -2.4000e+01, -2.4000e+01,  2.1000e+01,\n",
      "        2.4000e+01,  2.7000e+01,  1.8000e+01,  6.0000e+00, -1.8000e+01,\n",
      "       -3.0000e+00, -6.0000e+00, -6.0000e+00,  1.5000e+01, -1.2000e+01,\n",
      "       -1.8000e+01, -6.6000e+01, -8.1000e+01, -5.4000e+01, -6.9000e+01,\n",
      "        1.8000e+01,  1.8000e+01,  1.6000e+01, -1.6000e+01,  1.6000e+01,\n",
      "       -4.5000e+01, -4.2000e+01, -4.8000e+01, -2.1000e+01,  2.1000e+01,\n",
      "        2.4000e+01,  5.1000e+01,  6.0000e+01,  5.4000e+01,  2.7000e+01,\n",
      "        5.4000e+01,  4.5000e+01,  3.6000e+01, -1.8000e+01,  0.0000e+00,\n",
      "        4.8000e+01,  5.2000e+01,  5.0000e+01, -2.0000e+00, -4.2000e+01,\n",
      "       -5.0000e+01,  5.8000e+01,  5.6000e+01,  4.2000e+01, -3.6000e+01,\n",
      "        1.2000e+01,  6.0000e+00, -6.4000e+01, -7.8000e+01,  3.2000e+01,\n",
      "        2.8000e+01,  1.8000e+01,  4.0000e+01,  5.2000e+01,  5.0000e+01,\n",
      "       -2.0000e+00, -1.2000e+01, -9.0000e+01, -8.4000e+01, -7.8000e+01,\n",
      "       -3.2000e+01,  4.0000e+01,  4.8000e+01,  5.8000e+01,  4.2000e+01,\n",
      "        3.2000e+01,  5.4000e+01,  2.0000e+01,  1.2000e+01,  1.6000e+01,\n",
      "        1.8000e+01,  1.2000e+01, -7.8000e+01, -6.6000e+01, -5.4000e+01,\n",
      "       -5.6000e+01,  3.2000e+01, -6.2000e+01, -4.6000e+01, -4.6000e+01,\n",
      "        5.0000e+01, -7.4000e+01, -6.0000e+01, -6.6000e+01,  2.8000e+01,\n",
      "       -5.4000e+01, -5.4000e+01]), 'Zn': array([-28.   , -14.   , -14.   ,  14.   , -14.   , -14.   , -21.   ,\n",
      "         8.   ,  11.   , -35.   ,  14.   ,  21.   , -21.   , -16.   ,\n",
      "       -10.   , -10.   ,  -3.   , -14.   , -28.   , -14.   ,   0.652,\n",
      "         0.543,   4.831,   7.654,  13.407, -35.079,  15.035,   8.522,\n",
      "        10.747, -26.339,   2.   ,   2.   ,  -8.   , -12.   ,  -4.   ,\n",
      "        32.   ,  34.   ,  -6.   , -16.   ,  24.   ,  16.   ,  38.   ,\n",
      "        -6.   ,  -8.   ,   2.   , -14.   ,  -4.   ,  -4.   ,  22.   ,\n",
      "        32.   , -16.   ,   0.   , -10.   , -12.   , -14.   ,  -4.   ,\n",
      "       -10.   , -12.   , -22.   , -18.   ,  44.   , -22.   , -24.   ,\n",
      "       -20.   ,   8.   ,  12.   ,  -4.   ,  -4.   ,  -6.   ,  -2.   ,\n",
      "       -12.   ,  -2.   ,  -2.   , -18.311, -18.906, -10.047, -17.656,\n",
      "       -12.543, -10.401,  -4.874,  -1.485,  -6.837, -10.047, -21.223,\n",
      "       -10.223,  -7.548,  -3.267,   0.11 ,  -6.299,   3.475,   2.823,\n",
      "         2.66 , -14.15 , -17.299,  -9.512, -10.583, -28.714, -25.326,\n",
      "       -10.226,  -1.842,   5.917,  -2.199,  -6.837,  -3.627, -17.299,\n",
      "       -17.299,  -9.69 ,  -3.267,  -8.441,  -3.267, -17.656,  -4.874,\n",
      "         2.497, -10.583,  -7.373, -17.299,   0.599,   4.453,   0.11 ,\n",
      "        -4.517, -17.835, -25.326, -33.113, -10.226,  64.16 ,  27.034,\n",
      "        14.007,  52.111,  26.925,  66.114,  64.16 ,  24.428, -14.982,\n",
      "        -9.512, -14.387, -18.314,  -7.495, -18.909, -17.957, -28.064,\n",
      "       -41.856, -11.771, -14.03 , -37.814, -28.421, -12.608,  31.376,\n",
      "        29.097,  13.355,  66.222,  39.949,  28.879, -26.991, -24.613,\n",
      "       -10.823,  57.646,  43.534,  40.711,  59.492,  -6.894, -18.903,\n",
      "       -21.519,  14.766,  49.613,  52.326,  55.801,  49.938,  42.446,\n",
      "       -13.792, -11.89 ,  18.998,   1.519,  -4.637, -27.469, -42.806,\n",
      "       -29.371,  14.653,  -6.305,  38.969,  30.719, -26.876,  53.411,\n",
      "        59.598,  39.082,  34.087,  54.495,  42.336,  13.462,   7.761,\n",
      "        12.593,   6.948,  -3.329,  16.609,   8.414,   8.468,  -9.512,\n",
      "        -9.156,   3.257,   6.514, -21.759, -29.25 ,  -0.714,  24.317,\n",
      "        28.714, -22.473, -18.549,  -0.714,   6.351,   6.351,   5.213,\n",
      "       -18.549, -19.084,   6.188,  -6.598,   1.304,  13.679, -21.   ,\n",
      "       -21.   , -21.   ,   0.   ,   9.   , -21.   ,   9.   ,   3.   ,\n",
      "       -21.   ,  -8.   , -12.   ,  14.   , -16.   ,   8.   ,   8.   ,\n",
      "         6.   ,  14.   ,   6.   , -12.   ,  -4.   ,  26.   ,  20.   ,\n",
      "        60.   ,  28.   ,  48.   ,  46.   , -46.   ,  38.   ,  12.   ,\n",
      "       -12.   ,   6.   , -18.   , -12.   , -15.   ,  45.   ,  45.   ,\n",
      "       -15.   , -12.   , -27.   , -33.   , -12.   ,   6.   , -18.   ,\n",
      "       -12.   , -15.   ,  45.   ,  45.   ,   0.   ,   0.   ,  -9.   ,\n",
      "        21.   ,  -3.   , -18.   , -18.   ,  -9.   ,  15.   ,  -9.   ,\n",
      "        42.   ,  36.   ,  51.   , -18.   , -15.   ,  -9.   , -12.   ,\n",
      "        -6.   ,  39.   ,  33.   ,  39.   ,   0.   ,  18.   ,   3.   ,\n",
      "        -3.   ,   6.   ,  48.   ,  -9.   , -18.   , -12.   , -11.83 ,\n",
      "       -18.549, -28.3  , -21.82 , -20.51 , -23.839, -21.58 ,   0.434,\n",
      "        21.98 ,  17.967, -41.44 , -50.474, -35.791, -28.538, -10.229,\n",
      "        10.367,   1.466,  -7.074,   3.474,  46.027,  29.581,  49.339,\n",
      "        57.917,  64.268, -15.281, -45.838,  -0.475,  -0.475,  -2.914,\n",
      "        20.788,   0.489, -18.432,  12.431,  20.951,  -3.031,   3.527,\n",
      "       -12.129, -18.549, -14.625, -14.506,  12.   ,  16.   ,  20.   ,\n",
      "        20.   , -12.   , -12.   , -14.   ,  -6.   ,  -4.   ,  -2.   ,\n",
      "       -18.   , -16.   , -16.   , -18.   , -10.   , -10.   ,  54.   ,\n",
      "        50.   ,  44.   ,  44.   ,  38.   ,   0.   ,  -3.   ,  54.   ,\n",
      "        57.   ,  45.   ,  48.   , -15.   , -15.   , -15.   , -27.   ,\n",
      "       -27.   ,  30.   ,   9.   , -24.   ,  54.   ,  -9.   ,  -6.   ,\n",
      "        12.   ,   6.   , -24.   , -21.   ,  33.   ,  24.   ,  12.   ,\n",
      "        -3.   ,  12.   ,  -9.   ,  -9.   , -24.   ,  -9.   ,  -6.   ,\n",
      "         3.   ,  39.   ,  39.   ,  27.   ,  27.   ,  30.   ,  48.   ,\n",
      "        54.   ,  45.   ,  57.   ,   9.   ,  54.   ,  12.   , -33.   ,\n",
      "       -27.   ,  -6.   ,   0.   ,  -6.   ,  -2.   ,   2.   ,   9.   ,\n",
      "         3.   ,  27.   ,  -6.   , -24.   ,  -6.   ,  18.   ,  15.   ,\n",
      "        30.   ,  60.   ,  39.   ,  42.   ,   9.   ,  39.   , -36.   ,\n",
      "        26.   ,  30.   ,  12.   ,   4.   ,  34.   ,  46.   ,  -6.   ,\n",
      "       -14.   ,   8.   ,  26.   , -12.   , -18.   ,  20.   ,  44.   ,\n",
      "        48.   ,  58.   ,  -4.   ,  38.   ,  28.   ,  48.   ,   2.   ,\n",
      "        10.   ,  -4.   , -38.   , -20.   ,  -4.   ,   8.   , -14.   ,\n",
      "        -4.   ,  -4.   ,  44.   ,  34.   ,  54.   , -12.   ,  -6.   ,\n",
      "        -4.   , -10.   ,  34.   ,  24.   ,  68.   ,  58.   ,  44.   ,\n",
      "        36.   ,  30.   ,  68.   ,  -2.   ,  32.   ,  40.   ,  18.   ,\n",
      "        38.   ,  46.   ,  56.   ]), 'colors': {'color_group': ['#ebeded', '#ebeded', '#ebeded', '#ebeded', '#ebeded', '#ebeded', '#ebeded', '#ebeded', '#ebeded', '#ebeded', '#ebeded', '#ebeded', '#ebeded', '#ebeded', '#ebeded', '#ebeded', '#ebeded', '#ebeded', '#ebeded', '#ebeded', '#ebeded', '#ebeded', '#ebeded', '#ebeded', '#ebeded', '#ebeded', '#ebeded', '#ebeded', '#ebeded', '#ebeded', '#ebeded', '#ebeded', '#ebeded', '#ebeded', '#ebeded', '#ebeded', '#ebeded', '#ebeded', '#ebeded', '#ebeded', '#ebeded', '#ebeded', '#ebeded', '#ebeded', '#ebeded', '#ebeded', '#ebeded', '#ebeded', '#ebeded', '#ebeded', '#ebeded', '#ebeded', '#ebeded', '#ebeded', '#ebeded', '#ebeded', '#ebeded', '#ebeded', '#ebeded', '#ebeded', '#ebeded', '#ebeded', '#ebeded', '#ebeded', '#ebeded', '#ebeded', '#ebeded', '#ebeded', '#ebeded', '#ebeded', '#ebeded', '#ebeded', '#ebeded', '#ebeded', '#ebeded', '#ebeded', '#ebeded', '#ebeded', '#ebeded', '#ebeded', '#ebeded', '#ebeded', '#ebeded', '#ebeded', '#ebeded', '#ebeded', '#ebeded', '#ebeded', '#ebeded', '#ebeded', '#ebeded', '#ebeded', '#ebeded', '#ebeded', '#ebeded', '#ebeded', '#ebeded', '#ebeded', '#ebeded', '#ebeded', '#ebeded', '#ebeded', '#ebeded', '#ebeded', '#ebeded', '#ebeded', '#ebeded', '#ebeded', '#ebeded', '#ebeded', '#ebeded', '#ebeded', '#ebeded', '#ebeded', '#ebeded', '#ebeded', '#ebeded', '#ebeded', '#ebeded', '#ebeded', '#ebeded', '#ebeded', '#ebeded', '#ebeded', '#ebeded', '#ebeded', '#ebeded', '#ebeded', '#ebeded', '#ebeded', '#ebeded', '#ebeded', '#ebeded', '#ebeded', '#ebeded', '#ebeded', '#ebeded', '#ebeded', '#ebeded', '#ebeded', '#ebeded', '#ebeded', '#ebeded', '#ebeded', '#ebeded', '#ebeded', '#ebeded', '#ebeded', '#ebeded', '#ebeded', '#ebeded', '#ebeded', '#ebeded', '#ebeded', '#ebeded', '#ebeded', '#ebeded', '#ebeded', '#ebeded', '#ebeded', '#ebeded', '#ebeded', '#ebeded', '#ebeded', '#ebeded', '#ebeded', '#ebeded', '#ebeded', '#ebeded', '#ebeded', '#ebeded', '#ebeded', '#ebeded', '#ebeded', '#ebeded', '#ebeded', '#ebeded', '#ebeded', '#ebeded', '#ebeded', '#ebeded', '#ebeded', '#ebeded', '#ebeded', '#ebeded', '#ebeded', '#ebeded', '#ebeded', '#ebeded', '#ebeded', '#ebeded', '#ebeded', '#ebeded', '#ebeded', '#ebeded', '#ebeded', '#ebeded', '#ebeded', '#ebeded', '#ebeded', '#ebeded', '#ebeded', '#ebeded', '#ebeded', '#ebeded', '#ebeded', '#ebeded', '#ebeded', '#ebeded', '#ebeded', '#ebeded', '#ebeded', '#ebeded', '#ebeded', '#ebeded', '#ebeded', '#ebeded', '#ebeded', '#ebeded', '#ebeded', '#ebeded', '#ebeded', '#ebeded', '#ebeded', '#ebeded', '#ebeded', '#ebeded', '#ebeded', '#ebeded', '#ebeded', '#ebeded', '#ebeded', '#ebeded', '#ebeded', '#ebeded', '#ebeded', '#ebeded', '#ebeded', '#ebeded', '#ebeded', '#ebeded', '#ebeded', '#ebeded', '#ebeded', '#ebeded', '#ebeded', '#ebeded', '#ebeded', '#ebeded', '#ebeded', '#ebeded', '#ebeded', '#ebeded', '#ebeded', '#ebeded', '#ebeded', '#ebeded', '#ebeded', '#ebeded', '#ebeded', '#ebeded', '#ebeded', '#ebeded', '#ebeded', '#ebeded', '#ebeded', '#ebeded', '#ebeded', '#ebeded', '#ebeded', '#ebeded', '#ebeded', '#ebeded', '#ebeded', '#ebeded', '#ebeded', '#ebeded', '#ebeded', '#ebeded', '#ebeded', '#ebeded', '#ebeded', '#ebeded', '#ebeded', '#ebeded', '#ebeded', '#ebeded', '#ebeded', '#ebeded', '#ebeded', '#ebeded', '#ebeded', '#ebeded', '#ebeded', '#ebeded', '#ebeded', '#ebeded', '#ebeded', '#ebeded', '#ebeded', '#ebeded', '#ebeded', '#ebeded', '#ebeded', '#ebeded', '#ebeded', '#ebeded', '#ebeded', '#ebeded', '#ebeded', '#ebeded', '#ebeded', '#ebeded', '#ebeded', '#ebeded', '#ebeded', '#ebeded', '#ebeded', '#ebeded', '#ebeded', '#ebeded', '#ebeded', '#ebeded', '#ebeded', '#ebeded', '#ebeded', '#ebeded', '#ebeded', '#ebeded', '#ebeded', '#ebeded', '#ebeded', '#ebeded', '#ebeded', '#ebeded', '#ebeded', '#ebeded', '#ebeded', '#ebeded', '#ebeded', '#ebeded', '#ebeded', '#ebeded', '#ebeded', '#ebeded', '#ebeded', '#ebeded', '#ebeded', '#ebeded', '#ebeded', '#ebeded', '#ebeded', '#ebeded', '#ebeded', '#ebeded', '#ebeded', '#ebeded', '#ebeded', '#ebeded', '#ebeded', '#ebeded', '#ebeded', '#ebeded', '#ebeded', '#ebeded', '#ebeded', '#ebeded', '#ebeded', '#ebeded', '#ebeded', '#ebeded', '#ebeded', '#ebeded', '#ebeded', '#ebeded', '#ebeded', '#ebeded', '#ebeded', '#ebeded', '#ebeded', '#ebeded', '#ebeded', '#ebeded', '#ebeded', '#ebeded', '#ebeded', '#ebeded', '#ebeded', '#ebeded', '#ebeded', '#ebeded', '#ebeded', '#ebeded', '#ebeded', '#ebeded', '#ebeded', '#ebeded', '#ebeded', '#ebeded', '#ebeded', '#ebeded', '#ebeded', '#ebeded', '#ebeded', '#ebeded', '#ebeded', '#ebeded', '#ebeded', '#ebeded', '#ebeded', '#ebeded', '#ebeded', '#ebeded', '#ebeded', '#ebeded', '#ebeded', '#ebeded', '#ebeded', '#ebeded', '#ebeded', '#ebeded', '#ebeded', '#ebeded', '#ebeded', '#ebeded', '#ebeded', '#ebeded', '#ebeded', '#ebeded', '#ebeded', '#ebeded', '#ebeded', '#ebeded', '#ebeded', '#ebeded', '#ebeded', '#ebeded', '#ebeded', '#ebeded', '#ebeded', '#ebeded', '#ebeded', '#ebeded', '#ebeded', '#ebeded', '#ebeded', '#ebeded', '#ebeded', '#ebeded', '#ebeded', '#ebeded', '#ebeded', '#ebeded', '#ebeded', '#ebeded', '#ebeded', '#ebeded', '#ebeded', '#ebeded', '#ebeded', '#ebeded', '#ebeded', '#ebeded', '#ebeded', '#ebeded', '#ebeded', '#ebeded', '#ebeded', '#ebeded', '#ebeded', '#ebeded', '#ebeded'], 'line_color': '#ebeded'}, 'labels': ['index: 0; ba: nan; name: amygdala', 'index: 1; ba: nan; name: amygdala', 'index: 2; ba: nan; name: hippocampus', 'index: 6; ba: nan; name: posterior insula', 'index: 7; ba: nan; name: nucleus accumbens', 'index: 8; ba: nan; name: nucleus accumbens', 'index: 10; ba: nan; name: hippocampus', 'index: 11; ba: nan; name: nucleus accumbens', 'index: 18; ba: nan; name: thalamus', 'index: 20; ba: nan; name: cerebellum', 'index: 22; ba: nan; name: thalamus', 'index: 24; ba: nan; name: caudate', 'index: 28; ba: nan; name: amygdala', 'index: 29; ba: nan; name: amygdala', 'index: 30; ba: nan; name: nucleus accumbens', 'index: 31; ba: nan; name: nucleus accumbens', 'index: 32; ba: nan; name: hippocampus', 'index: 33; ba: nan; name: hippocampus', 'index: 36; ba: nan; name: cerebellum', 'index: 37; ba: nan; name: cerebellum', 'index: 40; ba: nan; name: NAcc', 'index: 41; ba: nan; name: NAcc', 'index: 42; ba: nan; name: Caudate', 'index: 43; ba: nan; name: Caudate', 'index: 44; ba: nan; name: Thalamus', 'index: 48; ba: nan; name: Cerebellar vermis', 'index: 50; ba: nan; name: Caudate', 'index: 51; ba: nan; name: Caudate', 'index: 52; ba: nan; name: Thalamus', 'index: 55; ba: nan; name: Cerebellar vermis', 'index: 60; ba: nan; name: ventral striatum', 'index: 61; ba: nan; name: ventral striatum', 'index: 62; ba: nan; name: anterior insula/IFG', 'index: 63; ba: nan; name: anterior insula/IFG', 'index: 64; ba: nan; name: orbitofrontal cortex', 'index: 65; ba: nan; name: dorsal anterior cingulate cortex', 'index: 66; ba: nan; name: dorsal anterior cingulate cortex', 'index: 67; ba: nan; name: medial temporal gyrus', 'index: 68; ba: nan; name: medial temporal gyrus', 'index: 69; ba: nan; name: DLPFC', 'index: 70; ba: nan; name: DLPFC', 'index: 71; ba: nan; name: DLPFC', 'index: 72; ba: nan; name: lateral occipital cortex', 'index: 73; ba: nan; name: lateral occipital cortex', 'index: 74; ba: nan; name: ventral striatum', 'index: 75; ba: nan; name: anterior insula/IFG', 'index: 76; ba: nan; name: lateral occipital cortex', 'index: 77; ba: nan; name: lateral occipital cortex', 'index: 78; ba: nan; name: DLPFC', 'index: 79; ba: nan; name: DLPFC', 'index: 80; ba: nan; name: hippocampal area', 'index: 81; ba: nan; name: ventral striatum', 'index: 82; ba: nan; name: gyrus fusiformis', 'index: 83; ba: nan; name: gyrus fusiformis', 'index: 84; ba: nan; name: gyrus fusiformis', 'index: 85; ba: nan; name: lateral occipital cortex', 'index: 86; ba: nan; name: lateral occipital cortex', 'index: 87; ba: nan; name: MPFC', 'index: 88; ba: nan; name: MPFC', 'index: 89; ba: nan; name: lateral orbitofrontal cortex', 'index: 90; ba: nan; name: DLPFC', 'index: 91; ba: nan; name: hippocampal area', 'index: 92; ba: nan; name: hippocampal area', 'index: 93; ba: nan; name: amygdala', 'index: 94; ba: nan; name: medial temporal gyrus', 'index: 95; ba: nan; name: precuneus', 'index: 96; ba: nan; name: lateral occipital cortex', 'index: 97; ba: nan; name: lateral occipital cortex', 'index: 98; ba: nan; name: ventral striatum', 'index: 99; ba: nan; name: ventral striatum', 'index: 100; ba: nan; name: medial prefrontal cortex', 'index: 101; ba: nan; name: lateral occipital cortex', 'index: 102; ba: nan; name: lateral occipital cortex', 'index: 103; ba: nan; name: VT', 'index: 104; ba: nan; name: VT', 'index: 105; ba: nan; name: SLEA', 'index: 106; ba: nan; name: SLEA', 'index: 107; ba: nan; name: SLEA', 'index: 108; ba: nan; name: GOb', 'index: 109; ba: nan; name: NAc and other VS', 'index: 110; ba: nan; name: NAc and other VS', 'index: 111; ba: nan; name: VT', 'index: 112; ba: nan; name: SLEA', 'index: 113; ba: nan; name: SLEA', 'index: 114; ba: nan; name: GOb', 'index: 115; ba: nan; name: GOb', 'index: 116; ba: nan; name: GOb', 'index: 117; ba: nan; name: GOb', 'index: 118; ba: nan; name: GOb', 'index: 119; ba: nan; name: GOb', 'index: 120; ba: nan; name: NAc and other VS', 'index: 121; ba: nan; name: NAc and other VS', 'index: 122; ba: nan; name: VT', 'index: 123; ba: nan; name: SLEA', 'index: 124; ba: nan; name: SLEA', 'index: 125; ba: nan; name: VT', 'index: 126; ba: nan; name: Amyg', 'index: 127; ba: nan; name: Amyg', 'index: 128; ba: nan; name: Hypo', 'index: 129; ba: nan; name: NAc and other VS', 'index: 130; ba: nan; name: NAc and other VS', 'index: 131; ba: nan; name: NAc and other VS', 'index: 132; ba: nan; name: VT', 'index: 133; ba: nan; name: VT', 'index: 134; ba: nan; name: SLEA', 'index: 135; ba: nan; name: SLEA', 'index: 136; ba: nan; name: SLEA', 'index: 137; ba: nan; name: GOb', 'index: 138; ba: nan; name: GOb', 'index: 139; ba: nan; name: GOb', 'index: 140; ba: nan; name: Amyg', 'index: 141; ba: nan; name: NAc and other VS', 'index: 142; ba: nan; name: NAc and other VS', 'index: 143; ba: nan; name: VT', 'index: 144; ba: nan; name: VT', 'index: 145; ba: nan; name: SLEA', 'index: 146; ba: nan; name: GOb', 'index: 147; ba: nan; name: GOb', 'index: 148; ba: nan; name: GOb', 'index: 149; ba: nan; name: GOb', 'index: 150; ba: nan; name: Amyg', 'index: 151; ba: nan; name: Amyg', 'index: 152; ba: nan; name: Amyg', 'index: 153; ba: nan; name: Hypo', 'index: 154; ba: nan; name: Medial aspect of superior frontal gyrus', 'index: 155; ba: nan; name: Medial aspect of superior frontal gyrus', 'index: 156; ba: nan; name: Medial aspect of superior frontal gyrus', 'index: 157; ba: nan; name: Medial aspect of superior frontal gyrus', 'index: 158; ba: nan; name: Medial aspect of superior frontal gyrus', 'index: 159; ba: nan; name: Medial aspect of superior frontal gyrus', 'index: 160; ba: nan; name: Medial aspect of superior frontal gyrus', 'index: 161; ba: nan; name: Medial aspect of superior frontal gyrus', 'index: 162; ba: nan; name: Middle temporal gyrus', 'index: 163; ba: nan; name: Ventral striatum', 'index: 164; ba: nan; name: Ventral striatum', 'index: 165; ba: nan; name: Lingual gyrus', 'index: 166; ba: nan; name: Lingual gyrus', 'index: 167; ba: nan; name: Inferior temporal gyrus', 'index: 168; ba: nan; name: Inferior temporal gyrus', 'index: 169; ba: nan; name: Posterior lobe of cerebellum', 'index: 170; ba: nan; name: Posterior lobe of cerebellum', 'index: 171; ba: nan; name: Ventral striatum', 'index: 172; ba: nan; name: Ventral striatum', 'index: 173; ba: nan; name: Posterior lobe of cerebellum', 'index: 174; ba: nan; name: Posterior lobe of cerebellum', 'index: 175; ba: nan; name: Lateral occipital cortex', 'index: 176; ba: nan; name: Medial aspect of superior frontal gyrus', 'index: 177; ba: nan; name: Medial aspect of superior frontal gyrus', 'index: 178; ba: nan; name: Medial aspect of superior frontal gyrus', 'index: 179; ba: nan; name: Medial aspect of superior frontal gyrus', 'index: 180; ba: nan; name: Posterior cingulate gyrus', 'index: 181; ba: nan; name: Medial aspect of superior frontal gyrus', 'index: 182; ba: nan; name: Middle temporal gyrus', 'index: 183; ba: nan; name: Middle temporal gyrus', 'index: 184; ba: nan; name: Vermis', 'index: 185; ba: nan; name: Middle frontal gyrus', 'index: 186; ba: nan; name: Middle frontal gyrus', 'index: 187; ba: nan; name: Middle frontal gyrus', 'index: 188; ba: nan; name: Middle frontal gyrus', 'index: 189; ba: nan; name: Medial OFC', 'index: 190; ba: nan; name: Lateral OFC', 'index: 191; ba: nan; name: Lateral OFC', 'index: 192; ba: nan; name: Inferior frontal gyrus pars triangularis', 'index: 193; ba: nan; name: Middle frontal gyrus', 'index: 194; ba: nan; name: Posterior middle frontal gyrus', 'index: 195; ba: nan; name: Superior frontal gyrus', 'index: 196; ba: nan; name: Posterior superior frontal gyrus (SMA)', 'index: 197; ba: nan; name: Cingulate cortex', 'index: 198; ba: nan; name: Ventral striatum', 'index: 199; ba: nan; name: Ventral striatum', 'index: 200; ba: nan; name: Dorsal thalamus', 'index: 201; ba: nan; name: Superior temporal gyrus', 'index: 202; ba: nan; name: Superior temporal gyrus', 'index: 203; ba: nan; name: Inferior temporal gyrus', 'index: 204; ba: nan; name: Cerebellar vermis', 'index: 205; ba: nan; name: Cerebellar hemisphere', 'index: 206; ba: nan; name: Retrosplenial cortex', 'index: 207; ba: nan; name: Lingual gyrus', 'index: 208; ba: nan; name: Occipital cortex', 'index: 209; ba: nan; name: Occipital cortex', 'index: 210; ba: nan; name: Posterior inferior occipital cortex', 'index: 211; ba: nan; name: Precentral gyrus', 'index: 212; ba: nan; name: Precentral gyrus', 'index: 213; ba: nan; name: Precentral gyrus', 'index: 214; ba: nan; name: Central sulcus', 'index: 215; ba: nan; name: Paracentral lobule', 'index: 216; ba: nan; name: Superior parietal lobule', 'index: 226; ba: nan; name: Insula', 'index: 227; ba: nan; name: Thalamus/midbrain', 'index: 228; ba: nan; name: Dorsal striatum—caudate', 'index: 229; ba: nan; name: Dorsal striatum—caudate', 'index: 230; ba: nan; name: Ventral striatum', 'index: 239; ba: nan; name: Insula', 'index: 242; ba: nan; name: Dorsal striatum—caudate', 'index: 243; ba: nan; name: Dorsal striatum—caudate', 'index: 245; ba: nan; name: Ventral striatum', 'index: 246; ba: nan; name: Medial temporal lobe', 'index: 252; ba: nan; name: Striatum', 'index: 253; ba: nan; name: Striatum', 'index: 254; ba: nan; name: Amygdala', 'index: 255; ba: nan; name: Midbrain', 'index: 258; ba: nan; name: Insula', 'index: 265; ba: nan; name: Midbrain', 'index: 266; ba: nan; name: Ventral striatum', 'index: 267; ba: nan; name: Hippocampus', 'index: 268; ba: nan; name: Hippocampus', 'index: 271; ba: nan; name: Anterior medial thalamus', 'index: 272; ba: nan; name: Pallidum', 'index: 273; ba: nan; name: Pallidum', 'index: 275; ba: nan; name: Subgenual cingulate', 'index: 276; ba: nan; name: Hippocampus', 'index: 277; ba: nan; name: Hippocampus', 'index: 280; ba: nan; name: Insula cortex', 'index: 281; ba: nan; name: Insula cortex', 'index: 282; ba: nan; name: Head of caudate', 'index: 283; ba: nan; name: Head of caudate', 'index: 286; ba: nan; name: Cerebellum', 'index: 287; ba: nan; name: Cerebellum', 'index: 298; ba: nan; name: Amygdala', 'index: 299; ba: nan; name: Putamen', 'index: 300; ba: nan; name: Thalamus', 'index: 301; ba: nan; name: Amygdala', 'index: 302; ba: nan; name: Putamen', 'index: 303; ba: nan; name: Putamen', 'index: 304; ba: nan; name: Dopaminergic midbrain', 'index: 305; ba: nan; name: nucleus accumbens', 'index: 306; ba: nan; name: nucleus accumbens', 'index: 307; ba: nan; name: ventromedial prefrontal cortex', 'index: 308; ba: nan; name: ventral tegmental area', 'index: 309; ba: nan; name: nucleus caudatus', 'index: 310; ba: nan; name: nucleus caudatus', 'index: 311; ba: nan; name: insula', 'index: 312; ba: nan; name: insula', 'index: 313; ba: nan; name: superior temporal gyrus', 'index: 314; ba: nan; name: middle temporal gyrus', 'index: 315; ba: nan; name: superior temporal gyrus', 'index: 316; ba: nan; name: temporoparietal junction', 'index: 317; ba: nan; name: temporoparietal junction', 'index: 318; ba: nan; name: medial parietal cortex', 'index: 319; ba: nan; name: lateral parietal cortex', 'index: 320; ba: nan; name: precentral gyrus', 'index: 321; ba: nan; name: posterior cingulate cortex', 'index: 322; ba: nan; name: cerebellum', 'index: 323; ba: nan; name: postcentral gyrus', 'index: 324; ba: nan; name: thalamus', 'index: 330; ba: nan; name: Ventral medial PFC', 'index: 331; ba: nan; name: Ventral medial PFC', 'index: 332; ba: nan; name: Medial OFC', 'index: 333; ba: nan; name: Medial OFC', 'index: 334; ba: nan; name: Lateral OFC', 'index: 335; ba: nan; name: Posterior cingulate cortex', 'index: 336; ba: nan; name: Posterior cingulate cortex', 'index: 337; ba: nan; name: Caudolateral OFC', 'index: 338; ba: nan; name: Medial OFC', 'index: 339; ba: nan; name: Amygdala', 'index: 340; ba: nan; name: Border of ventral amygdala', 'index: 341; ba: nan; name: Ventral medial PFC', 'index: 342; ba: nan; name: Ventral medial PFC', 'index: 343; ba: nan; name: Medial OFC', 'index: 344; ba: nan; name: Medial OFC', 'index: 345; ba: nan; name: Lateral OFC', 'index: 346; ba: nan; name: Posterior cingulate cortex', 'index: 347; ba: nan; name: Posterior cingulate cortex', 'index: 348; ba: nan; name: Anterior insular cortex', 'index: 349; ba: nan; name: Lateral prefrontal cortex', 'index: 350; ba: nan; name: Lateral OFC', 'index: 351; ba: nan; name: Dorsal medial PFC', 'index: 352; ba: nan; name: Lateral PFC', 'index: 353; ba: nan; name: Medial OFC', 'index: 354; ba: nan; name: Lateral OFC', 'index: 355; ba: nan; name: Medial PFC', 'index: 356; ba: nan; name: Posterior cingulate cortex', 'index: 357; ba: nan; name: Anterior insula-caudolateral OFC', 'index: 358; ba: nan; name: Dorsal anterior cingulate cortex', 'index: 359; ba: nan; name: Dorsal anterior cingulate cortex', 'index: 360; ba: nan; name: Para-cingulate cortex', 'index: 361; ba: nan; name: Medial OFC', 'index: 362; ba: nan; name: Lateral OFC', 'index: 363; ba: nan; name: Central OFC', 'index: 364; ba: nan; name: Medial OFC', 'index: 365; ba: nan; name: Central OFC', 'index: 366; ba: nan; name: Dorsal anterior cingulate cortex', 'index: 367; ba: nan; name: Dorsal anterior cingulate cortex', 'index: 368; ba: nan; name: Dorsal anterior cingulate cortex', 'index: 369; ba: nan; name: Caudate nucleus', 'index: 370; ba: nan; name: Caudate nucleus', 'index: 371; ba: nan; name: Caudate nucleus', 'index: 372; ba: nan; name: Putamen', 'index: 373; ba: nan; name: Caudate nucleus', 'index: 374; ba: nan; name: Posterior cingulate cortex', 'index: 375; ba: nan; name: Lateral OFC', 'index: 376; ba: nan; name: Anterior insula-caudolateral OFC', 'index: 377; ba: nan; name: Anterior insula-caudolateral OFC', 'index: 378; ba: nan; name: Insula', 'index: 379; ba: nan; name: Amygdala/hippocampus', 'index: 381; ba: nan; name: Cerebellum', 'index: 382; ba: nan; name: Fusiform gyrus', 'index: 385; ba: nan; name: Amygdala', 'index: 391; ba: nan; name: Amygdala', 'index: 392; ba: nan; name: Parahippocampal gyrus', 'index: 393; ba: nan; name: Thalamus', 'index: 395; ba: nan; name: Middle temporal gyrus', 'index: 396; ba: nan; name: Corpus callosum', 'index: 397; ba: nan; name: Cerebellum', 'index: 398; ba: nan; name: Brainstem', 'index: 399; ba: nan; name: Cerebellum', 'index: 404; ba: nan; name: Anterior cerebellum', 'index: 405; ba: nan; name: Lingual gyrus', 'index: 407; ba: nan; name: Transverse temporal gyrus', 'index: 408; ba: nan; name: Putamen', 'index: 409; ba: nan; name: Globus pallidus', 'index: 410; ba: nan; name: Caudate nucleus', 'index: 411; ba: nan; name: Inferior parietal lobule', 'index: 412; ba: nan; name: Posterior cingulate gyrus', 'index: 413; ba: nan; name: Posterior cingulate sulcus', 'index: 414; ba: nan; name: Medial frontal gyrus', 'index: 415; ba: nan; name: Middle frontal gyrus', 'index: 416; ba: nan; name: Cerebellum', 'index: 417; ba: nan; name: Cerebellum', 'index: 418; ba: nan; name: Caudate/NAcc', 'index: 419; ba: nan; name: Putamen/NAcc', 'index: 422; ba: nan; name: Culmen/substantia nigra', 'index: 435; ba: nan; name: Caudate', 'index: 436; ba: nan; name: Insula', 'index: 438; ba: nan; name: Cerebellum/culmen', 'index: 439; ba: nan; name: Putamen', 'index: 440; ba: nan; name: Insula', 'index: 441; ba: nan; name: Putamen/NAcc', 'index: 446; ba: nan; name: Thalamusa', 'index: 447; ba: nan; name: Parahippocampal gyrus', 'index: 448; ba: nan; name: Hippocampus', 'index: 451; ba: nan; name: Amygdala', 'index: 453; ba: nan; name: Amygdala', 'index: 467; ba: nan; name: Anterior Cingulate Cortex', 'index: 468; ba: nan; name: Anterior Cingulate Cortex', 'index: 469; ba: nan; name: Anterior Cingulate Cortex', 'index: 470; ba: nan; name: Anterior Cingulate Cortex', 'index: 471; ba: nan; name: Frontal Operculum/Orbitofrontal Cortex', 'index: 472; ba: nan; name: Frontal Operculum/Orbitofrontal Cortex', 'index: 473; ba: nan; name: Frontal Operculum/Orbitofrontal Cortex', 'index: 474; ba: nan; name: Frontal Operculum/Orbitofrontal Cortex', 'index: 475; ba: nan; name: Frontal Operculum/Orbitofrontal Cortex', 'index: 476; ba: nan; name: Frontal Operculum/Orbitofrontal Cortex', 'index: 477; ba: nan; name: Posterior Orbitofrontal Cortex', 'index: 478; ba: nan; name: Posterior Orbitofrontal Cortex', 'index: 479; ba: nan; name: Posterior Orbitofrontal Cortex', 'index: 480; ba: nan; name: Posterior Orbitofrontal Cortex', 'index: 481; ba: nan; name: Posterior Orbitofrontal Cortex', 'index: 482; ba: nan; name: Anterior Cingulate Cortex', 'index: 483; ba: nan; name: Superior Frontal Sulcus', 'index: 485; ba: nan; name: Superior Frontal Sulcus', 'index: 486; ba: nan; name: Superior Frontal Sulcus', 'index: 487; ba: nan; name: Superior Frontal Sulcus', 'index: 488; ba: nan; name: Superior Frontal Sulcus', 'index: 489; ba: nan; name: Middle frontal / Anterior orbital gyrus', 'index: 490; ba: nan; name: Middle frontal / Anterior orbital gyrus', 'index: 491; ba: nan; name: Middle frontal gyrus', 'index: 492; ba: nan; name: Inferior parietal lobule', 'index: 493; ba: nan; name: Inferior parietal lobule', 'index: 494; ba: nan; name: Precuneus', 'index: 495; ba: nan; name: Posterior orbital gyrus', 'index: 496; ba: nan; name: Posterior orbital gyrus', 'index: 497; ba: nan; name: Medial orbital / Straight gyrus', 'index: 498; ba: nan; name: Amygdala', 'index: 499; ba: nan; name: Amygdala', 'index: 500; ba: nan; name: Superior frontal gyrus', 'index: 501; ba: nan; name: Inferior frontal gyrus', 'index: 502; ba: nan; name: Superior temporal gyrus', 'index: 503; ba: nan; name: Precentral gyrus', 'index: 504; ba: nan; name: Precentral gyrus', 'index: 505; ba: nan; name: Parahippocampal gyrus', 'index: 506; ba: nan; name: Middle Temporal / Middle occipital gyrus', 'index: 507; ba: nan; name: Middle Temporal / Middle occipital gyrus', 'index: 508; ba: nan; name: Fusiform gyrus', 'index: 509; ba: nan; name: Fusiform gyrus', 'index: 510; ba: nan; name: Cuneus / Superior occipital gyrus', 'index: 511; ba: nan; name: Cuneus / Superior occipital gyrus', 'index: 512; ba: nan; name: Cuneus / Superior occipital gyrus', 'index: 513; ba: nan; name: Lingual gyrus', 'index: 514; ba: nan; name: Lingual gyrus', 'index: 515; ba: nan; name: Ventral striatum', 'index: 516; ba: nan; name: Ventral striatum', 'index: 517; ba: nan; name: Midbrain', 'index: 518; ba: nan; name: Midbrain', 'index: 519; ba: nan; name: Anterior insula', 'index: 520; ba: nan; name: Anterior insula', 'index: 521; ba: nan; name: Anterior cingulate', 'index: 522; ba: nan; name: Anterior cingulate', 'index: 523; ba: nan; name: Anterior cingulate', 'index: 524; ba: nan; name: Posterior cingulate', 'index: 525; ba: nan; name: Posterior cingulate', 'index: 526; ba: nan; name: Middle frontal gyrus', 'index: 527; ba: nan; name: Middle frontal gyrus', 'index: 528; ba: nan; name: Superior frontal gyrus', 'index: 529; ba: nan; name: Superior frontal / precentral gyrus', 'index: 530; ba: nan; name: Thalamus', 'index: 531; ba: nan; name: Superior parietal lobule', 'index: 532; ba: nan; name: Middle occipital gyrus', 'index: 533; ba: nan; name: Cerebellum', 'index: 534; ba: nan; name: Cerebellum', 'index: 560; ba: nan; name: Caudate', 'index: 563; ba: nan; name: Caudate', 'index: 577; ba: nan; name: Caudate', 'index: 578; ba: nan; name: Thalamus', 'index: 579; ba: nan; name: Caudate', 'index: 589; ba: nan; name: superior temporal sulcus', 'index: 590; ba: nan; name: superior temporal sulcus', 'index: 591; ba: nan; name: superior temporal sulcus', 'index: 592; ba: nan; name: superior temporal sulcus', 'index: 593; ba: nan; name: Posterior OFC (inferior frontal gyrus)', 'index: 594; ba: nan; name: Posterior OFC (inferior frontal gyrus)', 'index: 595; ba: nan; name: Paracingulate cortex/medial prefrontal cortex', 'index: 596; ba: nan; name: Paracingulate cortex/medial prefrontal cortex', 'index: 597; ba: nan; name: Paracingulate cortex/medial prefrontal cortex', 'index: 598; ba: nan; name: Superior frontal gyrus', 'index: 599; ba: nan; name: Superior frontal gyrus', 'index: 600; ba: nan; name: Superior frontal gyrus', 'index: 601; ba: nan; name: Anterior cingulate', 'index: 602; ba: nan; name: Posterior cingulate', 'index: 603; ba: nan; name: Inferior temporal cortex', 'index: 604; ba: nan; name: Dorsal Medial Prefrontal Cortex', 'index: 605; ba: nan; name: Dorsal Medial Prefrontal Cortex', 'index: 606; ba: nan; name: Dorsal Medial Prefrontal Cortex', 'index: 607; ba: nan; name: Thalamus', 'index: 608; ba: nan; name: supramarginal gyrus/inferior parietal lobule', 'index: 609; ba: nan; name: supramarginal gyrus/inferior parietal lobule', 'index: 610; ba: nan; name: ACC/VMPFC/left LOFC', 'index: 611; ba: nan; name: ACC/VMPFC/left LOFC', 'index: 612; ba: nan; name: ACC/VMPFC/left LOFC', 'index: 613; ba: nan; name: Posterior Cingulate Cortex', 'index: 614; ba: nan; name: Nucleus Accumbens (NAcc)', 'index: 615; ba: nan; name: Nucleus Accumbens (NAcc)', 'index: 616; ba: nan; name: Posterior middle temporal gyrus/angular gyrus/superior occipital gyrus', 'index: 617; ba: nan; name: Posterior middle temporal gyrus/angular gyrus/superior occipital gyrus', 'index: 618; ba: nan; name: Superior/Middle Frontal Gyrus', 'index: 619; ba: nan; name: Superior/Middle Frontal Gyrus', 'index: 620; ba: nan; name: Nucleus Accumbens (NAcc)', 'index: 621; ba: nan; name: Dorsal Medial Prefrontal Cortex', 'index: 622; ba: nan; name: Dorsal Medial Prefrontal Cortex', 'index: 623; ba: nan; name: Dorsal Medial Prefrontal Cortex', 'index: 624; ba: nan; name: Thalamus', 'index: 625; ba: nan; name: Thalamus', 'index: 626; ba: nan; name: Calcarine/Left Cerebellum', 'index: 627; ba: nan; name: Calcarine/Left Cerebellum', 'index: 628; ba: nan; name: Calcarine/Left Cerebellum', 'index: 629; ba: nan; name: Middle Temporal Gyrus', 'index: 630; ba: nan; name: ACC/VMPFC', 'index: 631; ba: nan; name: ACC/VMPFC', 'index: 632; ba: nan; name: ACC/VMPFC', 'index: 633; ba: nan; name: lateral Orbital Frontal Gyrus', 'index: 634; ba: nan; name: Superior/Middle Frontal Gyrus', 'index: 635; ba: nan; name: Superior/Middle Frontal Gyrus', 'index: 636; ba: nan; name: Superior/Middle Frontal Gyrus', 'index: 637; ba: nan; name: Nucleus Accumbens (NAcc)', 'index: 638; ba: nan; name: Nucleus Accumbens (NAcc)', 'index: 639; ba: nan; name: Nucleus Accumbens (NAcc)', 'index: 640; ba: nan; name: Nucleus Accumbens (NAcc)', 'index: 641; ba: nan; name: angular gyrus/middle occipital gyrus/superior occipital gyrus', 'index: 642; ba: nan; name: angular gyrus/middle occipital gyrus/superior occipital gyrus', 'index: 643; ba: nan; name: angular gyrus/middle occipital gyrus/superior occipital gyrus', 'index: 644; ba: nan; name: angular gyrus/middle occipital gyrus/superior occipital gyrus', 'index: 645; ba: nan; name: Angular Gyrus /middle occipital gyrus', 'index: 646; ba: nan; name: Angular Gyrus /middle occipital gyrus', 'index: 647; ba: nan; name: Posterior Cingulate Cortex', 'index: 648; ba: nan; name: Precuneus', 'index: 649; ba: nan; name: Ventral MPFC', 'index: 650; ba: nan; name: Angular Gyrus', 'index: 651; ba: nan; name: Angular Gyrus', 'index: 652; ba: nan; name: Middle Temporal Gyrus', 'index: 653; ba: nan; name: Middle Frontal Gyrus', 'index: 654; ba: nan; name: Inferior Parietal Lobule', 'index: 655; ba: nan; name: Inferior Parietal Lobule']}]\n"
     ]
    }
   ],
   "source": [
    "plots.plot_coordinates_plotly(data=data_dict_coords_all,\n",
    "                              data_source_name=csv_filename,\n",
    "                              title='Center Coordinates')\n",
    "\n",
    "\n"
   ],
   "metadata": {
    "collapsed": false,
    "pycharm": {
     "name": "#%%\n"
    }
   }
  }
 ],
 "metadata": {
  "kernelspec": {
   "display_name": "Python 3",
   "language": "python",
   "name": "python3"
  },
  "language_info": {
   "codemirror_mode": {
    "name": "ipython",
    "version": 2
   },
   "file_extension": ".py",
   "mimetype": "text/x-python",
   "name": "python",
   "nbconvert_exporter": "python",
   "pygments_lexer": "ipython2",
   "version": "2.7.6"
  }
 },
 "nbformat": 4,
 "nbformat_minor": 0
}