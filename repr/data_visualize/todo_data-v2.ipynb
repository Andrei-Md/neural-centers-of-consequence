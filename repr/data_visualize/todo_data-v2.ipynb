{
 "cells": [
  {
   "cell_type": "code",
   "execution_count": 2,
   "metadata": {
    "collapsed": true
   },
   "outputs": [],
   "source": [
    "import pandas as pd\n",
    "import numpy as np\n",
    "import importlib\n",
    "import util.Data\n",
    "import util.Plotly as plots\n",
    "import util.colors.Colors as colors"
   ]
  },
  {
   "cell_type": "code",
   "execution_count": 3,
   "outputs": [
    {
     "data": {
      "text/plain": "<module 'util.colors.Colors' from 'D:\\\\scul\\\\uaic-ub\\\\licenta\\\\code\\\\util\\\\colors\\\\Colors.py'>"
     },
     "execution_count": 3,
     "metadata": {},
     "output_type": "execute_result"
    }
   ],
   "source": [
    "importlib.reload(plots)\n",
    "importlib.reload(util.Data)\n",
    "importlib.reload(colors)"
   ],
   "metadata": {
    "collapsed": false,
    "pycharm": {
     "name": "#%%\n"
    }
   }
  },
  {
   "cell_type": "markdown",
   "source": [
    "# Data"
   ],
   "metadata": {
    "collapsed": false
   }
  },
  {
   "cell_type": "code",
   "execution_count": 4,
   "outputs": [],
   "source": [
    "csv_filename = r'data/final_coordinates-conversion-v2.csv'"
   ],
   "metadata": {
    "collapsed": false,
    "pycharm": {
     "name": "#%%\n"
    }
   }
  },
  {
   "cell_type": "code",
   "execution_count": 5,
   "outputs": [],
   "source": [
    "df_data = util.Data.import_data(csv_filename)"
   ],
   "metadata": {
    "collapsed": false,
    "pycharm": {
     "name": "#%%\n"
    }
   }
  },
  {
   "cell_type": "code",
   "execution_count": 6,
   "outputs": [
    {
     "data": {
      "text/plain": "(656, 26)"
     },
     "execution_count": 6,
     "metadata": {},
     "output_type": "execute_result"
    }
   ],
   "source": [
    "df_data.shape"
   ],
   "metadata": {
    "collapsed": false,
    "pycharm": {
     "name": "#%%\n"
    }
   }
  },
  {
   "cell_type": "code",
   "execution_count": 7,
   "outputs": [
    {
     "data": {
      "text/plain": "importance        object\nauthor            object\ntitle             object\ntable_name        object\nkeywords          object\nLeft/Right        object\nName              object\nBroadman Area     object\nt                float64\nX(R)               int64\nY(A)               int64\nZ(S)               int64\nz-score          float64\nNV               float64\np value          float64\ncluster size     float64\nindex_col          int64\nMNIX               int64\nMNIY               int64\nMNIZ               int64\nBA                object\nTALX               int64\nTALY               int64\nTALZ               int64\nBA_name           object\nBA_no            float64\ndtype: object"
     },
     "execution_count": 7,
     "metadata": {},
     "output_type": "execute_result"
    }
   ],
   "source": [
    "df_data.dtypes"
   ],
   "metadata": {
    "collapsed": false,
    "pycharm": {
     "name": "#%%\n"
    }
   }
  },
  {
   "cell_type": "markdown",
   "source": [
    "# Checks"
   ],
   "metadata": {
    "collapsed": false,
    "pycharm": {
     "name": "#%% md\n"
    }
   }
  },
  {
   "cell_type": "code",
   "execution_count": 7,
   "outputs": [],
   "source": [
    "#NAN df\n",
    "mask_nan = df_data['BA_no'].isna()\n",
    "df_nan_data = df_data[mask_nan]\n",
    "# Outside of BAs df\n",
    "mask_outside = df_data['BA_name'].str.contains('Outside defined BAs')\n",
    "outsideBA_df = df_data[mask_outside]"
   ],
   "metadata": {
    "collapsed": false,
    "pycharm": {
     "name": "#%%\n"
    }
   }
  },
  {
   "cell_type": "code",
   "execution_count": 8,
   "outputs": [
    {
     "name": "stdout",
     "output_type": "stream",
     "text": [
      "unique BA:  33\n",
      "number of nan values in BA: 254 out of all 656 values\n",
      "number of values Outside of BA: 173 out of all 656 values\n",
      "number of values Outside of BA: 173 out of 254 nan values\n"
     ]
    }
   ],
   "source": [
    "print(\"unique BA: \", len(df_data['BA_no'].unique().tolist()))\n",
    "print(\"number of nan values in BA: {nan} out of all {all} values\".format(nan=df_nan_data.shape[0],\n",
    "                                                                         all=df_data.shape[0]))\n",
    "print(\"number of values Outside of BA: {outside} out of all {all} values\".format(outside=outsideBA_df.shape[0],\n",
    "                                                                                 all=df_data.shape[0]))\n",
    "print(\"number of values Outside of BA: {outside} out of {nan} nan values\".format(outside=outsideBA_df.shape[0],\n",
    "                                                                                 nan=df_nan_data.shape[0]))\n",
    "## assert all Outside of BA have nan on BA_no"
   ],
   "metadata": {
    "collapsed": false,
    "pycharm": {
     "name": "#%%\n"
    }
   }
  },
  {
   "cell_type": "code",
   "execution_count": 37,
   "outputs": [],
   "source": [
    "color_nan = '#ebeded'\n",
    "color_rest = '#ffe4e1'\n",
    "color_line = 'rgb(50,50,50)'\n",
    "\n",
    "color1 = \"#800000\"\n",
    "color1_1 = \"#CD853f\"\n",
    "color2 = \"#556b2f\"\n",
    "color2_1 = \"#adff2f\"\n",
    "color3 = \"#000080\"\n",
    "color3_1 = \"#1e90ff\"\n",
    "color4 = \"#b8860B\"\n",
    "color4_1 = \"#FFFF00\""
   ],
   "metadata": {
    "collapsed": false,
    "pycharm": {
     "name": "#%%\n"
    }
   }
  },
  {
   "cell_type": "code",
   "execution_count": 10,
   "outputs": [],
   "source": [
    "cols = dict(x='MNIX',\n",
    "            y='MNIY',\n",
    "            z='MNIZ')\n"
   ],
   "metadata": {
    "collapsed": false,
    "pycharm": {
     "name": "#%%\n"
    }
   }
  },
  {
   "cell_type": "code",
   "execution_count": 11,
   "outputs": [],
   "source": [
    "# All data trace\n",
    "all_data_trace = plots.create_data(df=df_data, cols = cols, grouping_col='BA_no', colors=colors.all_colors,\n",
    "                                   labels_col_list=['Broadman Area', 'Name', 'BA_name', 'BA_no', 'index_col',\n",
    "                                                    'keywords'],\n",
    "                                   opacity=0.8, check_nan=True, line_color=color_nan)"
   ],
   "metadata": {
    "collapsed": false,
    "pycharm": {
     "name": "#%%\n"
    }
   }
  },
  {
   "cell_type": "code",
   "execution_count": 12,
   "outputs": [],
   "source": [
    "#all points\n",
    "data_dict_coords = [all_data_trace]\n",
    "plots.plot_coordinates_plotly(data=data_dict_coords,\n",
    "                              data_source_name=csv_filename,\n",
    "                              title='Center Coordinates - all points')"
   ],
   "metadata": {
    "collapsed": false,
    "pycharm": {
     "name": "#%%\n"
    }
   }
  },
  {
   "cell_type": "code",
   "execution_count": 40,
   "outputs": [],
   "source": [
    "# Rest data trace\n",
    "data_trace_rest = plots.create_data(df=df_data,cols = cols, colors=color_rest,\n",
    "                                    labels_col_list=['BA_name', 'BA_no', 'Broadman Area', 'Name', 'index_col'],\n",
    "                                    opacity=0.5, check_nan=True, line_color=color_rest)"
   ],
   "metadata": {
    "collapsed": false,
    "pycharm": {
     "name": "#%%\n"
    }
   }
  },
  {
   "cell_type": "code",
   "execution_count": 14,
   "outputs": [],
   "source": [
    "#rest points\n",
    "data_dict_coords = [data_trace_rest]\n",
    "plots.plot_coordinates_plotly(data=data_dict_coords,\n",
    "                              data_source_name=csv_filename,\n",
    "                              title='Center Coordinates -rest of points (check)')"
   ],
   "metadata": {
    "collapsed": false,
    "pycharm": {
     "name": "#%%\n"
    }
   }
  },
  {
   "cell_type": "code",
   "execution_count": 15,
   "outputs": [],
   "source": [
    "# NAN trace\n",
    "data_trace_nan = plots.create_data(df=df_nan_data,cols = cols, grouping_col='BA_no', colors=color_nan,\n",
    "                                   labels_col_list=['Broadman Area', 'Name', 'BA_name', 'BA_no', 'index_col'],\n",
    "                                   opacity=0.8)"
   ],
   "metadata": {
    "collapsed": false,
    "pycharm": {
     "name": "#%%\n"
    }
   }
  },
  {
   "cell_type": "code",
   "execution_count": 16,
   "outputs": [],
   "source": [
    "# nan points\n",
    "data_dict_coords = [data_trace_nan]\n",
    "plots.plot_coordinates_plotly(data=data_dict_coords,\n",
    "                              data_source_name=csv_filename,\n",
    "                              title='Center Coordinates - BA nan values')"
   ],
   "metadata": {
    "collapsed": false,
    "pycharm": {
     "name": "#%%\n"
    }
   }
  },
  {
   "cell_type": "markdown",
   "source": [
    "Check NAN: Outside of BAs and other ba names"
   ],
   "metadata": {
    "collapsed": false,
    "pycharm": {
     "name": "#%% md\n"
    }
   }
  },
  {
   "cell_type": "code",
   "execution_count": 17,
   "outputs": [],
   "source": [
    "# Check NAN: Outside of BAs and other ba names\n",
    "mask_outside = df_nan_data['BA_name'].str.contains('Outside defined BAs')\n",
    "df_nan_outsideBA = df_nan_data[mask_outside]\n",
    "df_nan_namedBA = df_nan_data[~mask_outside]\n",
    "\n",
    "data_trace_nan_outsideBA = plots.create_data(df=df_nan_outsideBA,cols = cols, grouping_col='BA_no', colors=color1,\n",
    "                                             labels_col_list=['BA_name', 'BA_no', 'index_col'],\n",
    "                                             opacity=0.6)\n",
    "data_trace_nan_namedBA = plots.create_data(df=df_nan_namedBA,cols = cols, grouping_col='BA_no', colors=color3,\n",
    "                                           labels_col_list=['BA_name', 'BA_no', 'index_col'],\n",
    "                                           opacity=0.6)"
   ],
   "metadata": {
    "collapsed": false,
    "pycharm": {
     "name": "#%%\n"
    }
   }
  },
  {
   "cell_type": "code",
   "execution_count": 18,
   "outputs": [],
   "source": [
    "# outside points\n",
    "data_dict_coords = [data_trace_rest, data_trace_nan_outsideBA, data_trace_nan_namedBA]\n",
    "plots.plot_coordinates_plotly(data=data_dict_coords,\n",
    "                              data_source_name=csv_filename,\n",
    "                              title='Center Coordinates - BA nan val - outside of BAs vs Named BA')"
   ],
   "metadata": {
    "collapsed": false,
    "pycharm": {
     "name": "#%%\n"
    }
   }
  },
  {
   "cell_type": "markdown",
   "source": [
    "Check NAN: Outside of BAs and other ba names - separated by talairach vs MNI"
   ],
   "metadata": {
    "collapsed": false
   }
  },
  {
   "cell_type": "code",
   "execution_count": 38,
   "outputs": [],
   "source": [
    "# Check NAN: Outside of BAs and other ba names - separated by talairach vs MNI\n",
    "mask_outside = df_nan_data['BA_name'].str.contains('Outside defined BAs')\n",
    "df_nan_outsideBA = df_nan_data[mask_outside]\n",
    "df_nan_namedBA = df_nan_data[~mask_outside]\n",
    "\n",
    "# mask 2\n",
    "mask = df_nan_outsideBA['keywords'].str.contains('MNI')\n",
    "df_nan_outsideBA_tal = df_nan_outsideBA[mask]\n",
    "df_nan_outsideBA_mni = df_nan_outsideBA[~mask]\n",
    "\n",
    "mask = df_nan_namedBA['keywords'].str.contains('MNI')\n",
    "df_nan_namedBA_tal = df_nan_namedBA[mask]\n",
    "df_nan_namedBA_mni = df_nan_namedBA[~mask]\n",
    "\n",
    "#traces\n",
    "data_trace_nan_outsideBA_tal = plots.create_data(df=df_nan_outsideBA_tal,cols = cols, grouping_col='BA_no', colors=color1,\n",
    "                                                 labels_col_list=['BA_name', 'BA_no', 'index_col'],\n",
    "                                                 opacity=0.6)\n",
    "data_trace_nan_outsideBA_mni = plots.create_data(df=df_nan_outsideBA_mni,cols = cols, grouping_col='BA_no', colors=color1_1,\n",
    "                                                 labels_col_list=['BA_name', 'BA_no', 'index_col'],\n",
    "                                                 opacity=0.6)\n",
    "data_trace_nan_namedBA_tal = plots.create_data(df=df_nan_namedBA_tal,cols = cols, grouping_col='BA_no', colors=color3,\n",
    "                                               labels_col_list=['BA_name', 'BA_no', 'index_col'],\n",
    "                                               opacity=0.6)\n",
    "data_trace_nan_namedBA_mni = plots.create_data(df=df_nan_namedBA_mni,cols = cols, grouping_col='BA_no', colors=color3_1,\n",
    "                                               labels_col_list=['BA_name', 'BA_no', 'index_col'],\n",
    "                                               opacity=0.6)"
   ],
   "metadata": {
    "collapsed": false,
    "pycharm": {
     "name": "#%%\n"
    }
   }
  },
  {
   "cell_type": "code",
   "execution_count": 41,
   "outputs": [],
   "source": [
    "# outside points\n",
    "data_dict_coords = [data_trace_rest, data_trace_nan_outsideBA_tal, data_trace_nan_outsideBA_mni,\n",
    "                    data_trace_nan_namedBA_tal, data_trace_nan_namedBA_mni]\n",
    "plots.plot_coordinates_plotly(data=data_dict_coords,\n",
    "                              data_source_name=csv_filename,\n",
    "                              title='Center Coordinates - BA nan val - outside of BAs vs Named BA - separated by talairach vs MNI')"
   ],
   "metadata": {
    "collapsed": false,
    "pycharm": {
     "name": "#%%\n"
    }
   }
  },
  {
   "cell_type": "code",
   "execution_count": 42,
   "outputs": [],
   "source": [
    "# outside points\n",
    "data_dict_coords = [data_trace_rest, data_trace_nan_outsideBA_tal, data_trace_nan_outsideBA_mni]\n",
    "plots.plot_coordinates_plotly(data=data_dict_coords,\n",
    "                              data_source_name=csv_filename,\n",
    "                              title='Center Coordinates - BA nan val - outside of BAs - separated by talairach vs MNI')"
   ],
   "metadata": {
    "collapsed": false,
    "pycharm": {
     "name": "#%%\n"
    }
   }
  },
  {
   "cell_type": "code",
   "execution_count": 22,
   "outputs": [],
   "source": [
    "# outside points\n",
    "data_dict_coords = [data_trace_rest, data_trace_nan_namedBA_tal, data_trace_nan_namedBA_mni]\n",
    "plots.plot_coordinates_plotly(data=data_dict_coords,\n",
    "                              data_source_name=csv_filename,\n",
    "                              title='Center Coordinates - BA nan val - Named BA - separated by talairach vs MNI')"
   ],
   "metadata": {
    "collapsed": false,
    "pycharm": {
     "name": "#%%\n"
    }
   }
  },
  {
   "cell_type": "markdown",
   "source": [
    "***\n",
    "## Isolate PFC"
   ],
   "metadata": {
    "collapsed": false,
    "pycharm": {
     "name": "#%% md\n"
    }
   }
  },
  {
   "cell_type": "code",
   "execution_count": 23,
   "outputs": [],
   "source": [
    "# Rest data trace without 'Outside of BAs'\n",
    "mask_outside_all = df_data['BA_name'].str.contains('Outside defined BAs')\n",
    "df_rest_no_outside = df_data[~mask_outside_all]\n",
    "data_trace_rest_no_outside = plots.create_data(df=df_rest_no_outside,cols = cols, colors=color_rest,\n",
    "                                               labels_col_list=['BA_name', 'BA_no', 'Broadman Area', 'Name',\n",
    "                                                                'index_col'],\n",
    "                                               opacity=0.5, check_nan=True, line_color=color_rest)"
   ],
   "metadata": {
    "collapsed": false,
    "pycharm": {
     "name": "#%%\n"
    }
   }
  },
  {
   "cell_type": "code",
   "execution_count": 24,
   "outputs": [],
   "source": [
    "#rest points\n",
    "data_dict_coords = [data_trace_rest_no_outside]\n",
    "plots.plot_coordinates_plotly(data=data_dict_coords,\n",
    "                              data_source_name=csv_filename,\n",
    "                              title='Center Coordinates -rest of points (check)')\n"
   ],
   "metadata": {
    "collapsed": false,
    "pycharm": {
     "name": "#%%\n"
    }
   }
  },
  {
   "cell_type": "code",
   "execution_count": 25,
   "outputs": [],
   "source": [
    "ls_ba_1 = [4, 6, 8, 9, 10, 11, 12, 25]\n",
    "ls_ba_2 = [8, 9, 10, 11, 12, 13, 14, 24, 25, 32, 33, 44, 45, 46, 47]\n",
    "ls_ba_diff1 = set(ls_ba_1).difference(ls_ba_2)\n",
    "ls_ba_diff2 = set(ls_ba_2).difference(ls_ba_1)\n",
    "ls_ba_diff_tot = ls_ba_diff1.union(ls_ba_diff2)\n",
    "ls_ba_tot = set(ls_ba_1).union(ls_ba_2)"
   ],
   "metadata": {
    "collapsed": false,
    "pycharm": {
     "name": "#%%\n"
    }
   }
  },
  {
   "cell_type": "code",
   "execution_count": 26,
   "outputs": [],
   "source": [
    "ls_ba = ls_ba_tot"
   ],
   "metadata": {
    "collapsed": false,
    "pycharm": {
     "name": "#%%\n"
    }
   }
  },
  {
   "cell_type": "code",
   "execution_count": 27,
   "outputs": [
    {
     "data": {
      "text/plain": "(230, 26)"
     },
     "execution_count": 27,
     "metadata": {},
     "output_type": "execute_result"
    }
   ],
   "source": [
    "mask_ba = df_data['BA_no'].isin(ls_ba)\n",
    "df_ba = df_data[mask_ba]\n",
    "df_ba.shape"
   ],
   "metadata": {
    "collapsed": false,
    "pycharm": {
     "name": "#%%\n"
    }
   }
  },
  {
   "cell_type": "code",
   "execution_count": 28,
   "outputs": [],
   "source": [
    "# PFC data trace\n",
    "data_trace_ba = plots.create_data(df=df_ba,cols = cols, grouping_col='BA_no', colors=colors.all_colors,\n",
    "                                  # labels_col_list=['Broadman Area', 'Name', 'BA_name', 'BA_no', 'index_col'],\n",
    "                                  labels_col_list=['BA_name', 'BA_no', 'index_col'],\n",
    "                                  opacity=0.8, check_nan=True, line_color=color_nan)"
   ],
   "metadata": {
    "collapsed": false,
    "pycharm": {
     "name": "#%%\n"
    }
   }
  },
  {
   "cell_type": "code",
   "execution_count": 29,
   "outputs": [],
   "source": [
    "#all points\n",
    "data_dict_coords = [data_trace_rest_no_outside, data_trace_ba]\n",
    "plots.plot_coordinates_plotly(data=data_dict_coords,\n",
    "                              data_source_name=csv_filename,\n",
    "                              title='Center Coordinates - PFC points for BA: ' + str(ls_ba_tot))"
   ],
   "metadata": {
    "collapsed": false,
    "pycharm": {
     "name": "#%%\n"
    }
   }
  },
  {
   "cell_type": "markdown",
   "source": [
    "### Isolate BA"
   ],
   "metadata": {
    "collapsed": false,
    "pycharm": {
     "name": "#%% md\n"
    }
   }
  },
  {
   "cell_type": "code",
   "execution_count": 30,
   "outputs": [],
   "source": [
    "ls_ba_iso = [47,10]"
   ],
   "metadata": {
    "collapsed": false,
    "pycharm": {
     "name": "#%%\n"
    }
   }
  },
  {
   "cell_type": "code",
   "execution_count": 31,
   "outputs": [
    {
     "data": {
      "text/plain": "(75, 26)"
     },
     "execution_count": 31,
     "metadata": {},
     "output_type": "execute_result"
    }
   ],
   "source": [
    "mask_ba = df_data['BA_no'].isin(ls_ba_iso)\n",
    "df_ba_iso = df_data[mask_ba]\n",
    "df_ba_iso.shape"
   ],
   "metadata": {
    "collapsed": false,
    "pycharm": {
     "name": "#%%\n"
    }
   }
  },
  {
   "cell_type": "code",
   "execution_count": 32,
   "outputs": [],
   "source": [
    "# BAs data trace\n",
    "data_trace_ba_iso = plots.create_data(df=df_ba_iso,cols = cols, grouping_col='BA_no', colors=colors.all_colors,\n",
    "                                  # labels_col_list=['Broadman Area', 'Name', 'BA_name', 'BA_no', 'index_col'],\n",
    "                                  labels_col_list=['BA_name', 'BA_no', 'index_col'],\n",
    "                                  opacity=0.8, check_nan=True, line_color=color_nan)"
   ],
   "metadata": {
    "collapsed": false,
    "pycharm": {
     "name": "#%%\n"
    }
   }
  },
  {
   "cell_type": "code",
   "execution_count": 33,
   "outputs": [],
   "source": [
    "#all points\n",
    "data_dict_coords = [data_trace_rest_no_outside, data_trace_ba_iso]\n",
    "plots.plot_coordinates_plotly(data=data_dict_coords,\n",
    "                              data_source_name=csv_filename,\n",
    "                              title='Center Coordinates - PFC points for BA: ' + str(ls_ba_iso))\n"
   ],
   "metadata": {
    "collapsed": false,
    "pycharm": {
     "name": "#%%\n"
    }
   }
  },
  {
   "cell_type": "markdown",
   "source": [
    "### Isolate keywords"
   ],
   "metadata": {
    "collapsed": false,
    "pycharm": {
     "name": "#%% md\n"
    }
   }
  },
  {
   "cell_type": "markdown",
   "source": [
    "#### Dataframe valid"
   ],
   "metadata": {
    "collapsed": false,
    "pycharm": {
     "name": "#%% md\n"
    }
   }
  },
  {
   "cell_type": "code",
   "execution_count": 45,
   "outputs": [],
   "source": [
    "mask_outside_all = df_data['BA_name'].str.contains('Outside defined BAs')\n",
    "df_data_valid = df_data[~mask_outside_all]"
   ],
   "metadata": {
    "collapsed": false,
    "pycharm": {
     "name": "#%%\n"
    }
   }
  },
  {
   "cell_type": "code",
   "execution_count": 46,
   "outputs": [],
   "source": [
    "#traces\n",
    "data_trace_data_valid = plots.create_data(df=df_data_valid,cols = cols, grouping_col='BA_no', colors=colors.all_colors,\n",
    "                                                 labels_col_list=['BA_name', 'BA_no', 'index_col'],\n",
    "                                                 opacity=0.8, line_color=color_nan)\n",
    "data_dict_coords = [data_trace_rest, data_trace_data_valid]\n",
    "plots.plot_coordinates_plotly(data=data_dict_coords,\n",
    "                              data_source_name=csv_filename,\n",
    "                              title='Center Coordinates - PFC valid points')"
   ],
   "metadata": {
    "collapsed": false,
    "pycharm": {
     "name": "#%%\n"
    }
   }
  },
  {
   "cell_type": "markdown",
   "source": [
    "#### keywords"
   ],
   "metadata": {
    "collapsed": false,
    "pycharm": {
     "name": "#%% md\n"
    }
   }
  },
  {
   "cell_type": "code",
   "execution_count": 47,
   "outputs": [],
   "source": [
    "set_keywords_all = set([\"reward magnitude\",\"reward value\",\"anticipation phase\",\"outcome phase\",\"decision phase\",\"working memory\",\"decision making\",\"viewing\",\"monetary reward\",\"MID\",\"high gain vs high loss\",\"taste reward\",\"social reward\",\"SID\",\"monetary and taste reward\",\"food \",\"high vs low calorie food\",\"high calorie\",\"low calorie\",\"monetary stimuli\",\"face stimuli\",\"erotic stimuli\",\"monetary and erotic stimuli\",\"talairach\",\"MNI\",\"custom point system\",\"gambling\",\"passive\",\"performance-dependent\",\"conditioning task\",\"time effect\",\"increasing activation\",\"decreasing activation\",\"time conditioning\",\"positive reward\",\"negative reward\",\"context-dependent reward\",\"movement\",\"effect of reward\",\"ambiguity\",\"response switching\",\"response maintenance\",\"risk choice\",\"safe choice\"])\n",
    "set_keywords_excluded = set([\"MNI\",\"talairach\",\"custom point system\"])\n",
    "\n",
    "set_keywords = set_keywords_all.difference(set_keywords_excluded)"
   ],
   "metadata": {
    "collapsed": false,
    "pycharm": {
     "name": "#%%\n"
    }
   }
  },
  {
   "cell_type": "code",
   "execution_count": 48,
   "outputs": [
    {
     "data": {
      "text/plain": "{'monetary and taste reward': 0,\n 'safe choice': 0,\n 'face stimuli': 0,\n 'monetary stimuli': 0,\n 'working memory': 0,\n 'taste reward': 0,\n 'time conditioning': 4,\n 'ambiguity': 4,\n 'high calorie': 5,\n 'response maintenance': 6,\n 'movement': 6,\n 'decreasing activation': 7,\n 'effect of reward': 11,\n 'response switching': 11,\n 'risk choice': 14,\n 'high gain vs high loss': 14,\n 'increasing activation': 15,\n 'monetary and erotic stimuli': 15,\n 'SID': 17,\n 'food ': 18,\n 'conditioning task': 18,\n 'decision phase': 18,\n 'low calorie': 18,\n 'high vs low calorie food': 18,\n 'time effect': 22,\n 'negative reward': 23,\n 'viewing': 24,\n 'context-dependent reward': 27,\n 'erotic stimuli': 35,\n 'MID': 36,\n 'passive': 63,\n 'anticipation phase': 76,\n 'social reward': 84,\n 'positive reward': 97,\n 'reward magnitude': 146,\n 'gambling': 159,\n 'performance-dependent': 199,\n 'reward value': 235,\n 'monetary reward': 277,\n 'outcome phase': 378,\n 'decision making': 385}"
     },
     "execution_count": 48,
     "metadata": {},
     "output_type": "execute_result"
    }
   ],
   "source": [
    "df = df_data_valid\n",
    "counter = {}\n",
    "for val in set_keywords:\n",
    "    counter[val] = df['keywords'][df['keywords'].str.contains(val)].count()\n",
    "counter = {k:v for k, v in sorted(counter.items(), key= lambda item:item[1])}\n",
    "counter"
   ],
   "metadata": {
    "collapsed": false,
    "pycharm": {
     "name": "#%%\n"
    }
   }
  },
  {
   "cell_type": "markdown",
   "source": [
    "#### isolate keyword"
   ],
   "metadata": {
    "collapsed": false,
    "pycharm": {
     "name": "#%% md\n"
    }
   }
  },
  {
   "cell_type": "code",
   "execution_count": 49,
   "outputs": [],
   "source": [
    "keyword1 = \"positive reward\"\n",
    "keyword2 = \"negative reward\"\n",
    "keyword3 = \"context-dependent reward\"\n",
    "\n",
    "df = df_data_valid\n",
    "mask = df['keywords'].str.contains(keyword1) & df['keywords'].str.contains(keyword2) & df['keywords'].str.contains(keyword3)"
   ],
   "metadata": {
    "collapsed": false,
    "pycharm": {
     "name": "#%%\n"
    }
   }
  },
  {
   "cell_type": "code",
   "execution_count": 53,
   "outputs": [],
   "source": [
    "data_trace_keyword= plots.create_data(df=df[mask],cols = cols, grouping_col='BA_no', colors=colors.all_colors,\n",
    "                                                 labels_col_list=['BA_name', 'BA_no', 'index_col','keywords'],\n",
    "                                                 opacity=0.8, line_color=color_nan)\n",
    "data_dict_coords = [data_trace_rest, data_trace_keyword]\n",
    "plots.plot_coordinates_plotly(data=data_dict_coords,\n",
    "                              data_source_name=csv_filename,\n",
    "                              title='Center Coordinates - PFC valid points for keyword: ' + str(keyword1) + ' and ' + str(keyword2) + ' and ' + str(keyword3))"
   ],
   "metadata": {
    "collapsed": false,
    "pycharm": {
     "name": "#%%\n"
    }
   }
  },
  {
   "cell_type": "markdown",
   "source": [
    "## Plot data"
   ],
   "metadata": {
    "collapsed": false,
    "pycharm": {
     "name": "#%% md\n"
    }
   }
  },
  {
   "cell_type": "code",
   "execution_count": 54,
   "outputs": [
    {
     "data": {
      "text/plain": "<AxesSubplot:xlabel='BA_no'>"
     },
     "execution_count": 54,
     "metadata": {},
     "output_type": "execute_result"
    },
    {
     "data": {
      "text/plain": "<Figure size 432x288 with 1 Axes>",
      "image/png": "[encoded data removed]"
     },
     "metadata": {
      "needs_background": "light"
     },
     "output_type": "display_data"
    }
   ],
   "source": [
    "df_ba.groupby(['BA_no']).size().plot(kind='bar')\n"
   ],
   "metadata": {
    "collapsed": false,
    "pycharm": {
     "name": "#%%\n"
    }
   }
  },
  {
   "cell_type": "code",
   "execution_count": 55,
   "outputs": [
    {
     "data": {
      "text/plain": "<AxesSubplot:title={'center':'Monetary Reward point counts BAs'}, xlabel='BA_no'>"
     },
     "execution_count": 55,
     "metadata": {},
     "output_type": "execute_result"
    },
    {
     "data": {
      "text/plain": "<Figure size 432x288 with 1 Axes>",
      "image/png": "[encoded data removed]"
     },
     "metadata": {
      "needs_background": "light"
     },
     "output_type": "display_data"
    }
   ],
   "source": [
    "df = df_ba\n",
    "mask = df['keywords'].str.contains('monetary reward')\n",
    "df[mask].groupby(['BA_no']).size().plot(kind='bar',title=\"Monetary Reward point counts BAs\")"
   ],
   "metadata": {
    "collapsed": false,
    "pycharm": {
     "name": "#%%\n"
    }
   }
  },
  {
   "cell_type": "code",
   "execution_count": 56,
   "outputs": [
    {
     "data": {
      "text/plain": "<AxesSubplot:title={'center':'Taste Reward BAs'}, xlabel='BA_no'>"
     },
     "execution_count": 56,
     "metadata": {},
     "output_type": "execute_result"
    },
    {
     "data": {
      "text/plain": "<Figure size 432x288 with 1 Axes>",
      "image/png": "[encoded data removed]"
     },
     "metadata": {
      "needs_background": "light"
     },
     "output_type": "display_data"
    }
   ],
   "source": [
    "df = df_ba\n",
    "mask = df['keywords'].str.contains('food')\n",
    "df[mask].groupby(['BA_no']).size().plot(kind='bar',title=\"Taste Reward BAs\")"
   ],
   "metadata": {
    "collapsed": false,
    "pycharm": {
     "name": "#%%\n"
    }
   }
  },
  {
   "cell_type": "code",
   "execution_count": null,
   "outputs": [],
   "source": [],
   "metadata": {
    "collapsed": false,
    "pycharm": {
     "name": "#%%\n"
    }
   }
  }
 ],
 "metadata": {
  "kernelspec": {
   "display_name": "Python 3",
   "language": "python",
   "name": "python3"
  },
  "language_info": {
   "codemirror_mode": {
    "name": "ipython",
    "version": 2
   },
   "file_extension": ".py",
   "mimetype": "text/x-python",
   "name": "python",
   "nbconvert_exporter": "python",
   "pygments_lexer": "ipython2",
   "version": "2.7.6"
  }
 },
 "nbformat": 4,
 "nbformat_minor": 0
}