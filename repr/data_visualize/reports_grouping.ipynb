{
 "cells": [
  {
   "cell_type": "code",
   "execution_count": 873,
   "outputs": [],
   "source": [
    "from tabulate import tabulate\n",
    "import pandas as pd\n",
    "import importlib\n",
    "import util.Data as data_util\n",
    "import util.DataframeProcess as df_proc\n",
    "import json"
   ],
   "metadata": {
    "collapsed": false,
    "pycharm": {
     "name": "#%%\n"
    }
   }
  },
  {
   "cell_type": "code",
   "execution_count": 874,
   "outputs": [
    {
     "data": {
      "text/plain": "<module 'util.DataframeProcess' from 'D:\\\\scul\\\\uaic-ub\\\\licenta\\\\code\\\\util\\\\DataframeProcess.py'>"
     },
     "execution_count": 874,
     "metadata": {},
     "output_type": "execute_result"
    }
   ],
   "source": [
    "importlib.reload(data_util)\n",
    "importlib.reload(df_proc)"
   ],
   "metadata": {
    "collapsed": false,
    "pycharm": {
     "name": "#%%\n"
    }
   }
  },
  {
   "cell_type": "code",
   "execution_count": 875,
   "outputs": [],
   "source": [
    "# pd.set_option('display.max_colwidth', None)\n",
    "# pd.set_option('display.max_colwidth', 40)"
   ],
   "metadata": {
    "collapsed": false,
    "pycharm": {
     "name": "#%%\n"
    }
   }
  },
  {
   "cell_type": "markdown",
   "source": [
    "# Data"
   ],
   "metadata": {
    "collapsed": false
   }
  },
  {
   "cell_type": "code",
   "execution_count": 876,
   "outputs": [],
   "source": [
    "csv_filename = r'../data_db/final_coordinates-conversion-v2.csv'\n",
    "df_main = data_util.import_data(csv_filename)"
   ],
   "metadata": {
    "collapsed": false,
    "pycharm": {
     "name": "#%%\n"
    }
   }
  },
  {
   "cell_type": "code",
   "execution_count": 877,
   "outputs": [
    {
     "data": {
      "text/plain": "(1827, 26)"
     },
     "execution_count": 877,
     "metadata": {},
     "output_type": "execute_result"
    }
   ],
   "source": [
    "df_data = df_main.copy()\n",
    "df_data.shape"
   ],
   "metadata": {
    "collapsed": false,
    "pycharm": {
     "name": "#%%\n"
    }
   }
  },
  {
   "cell_type": "markdown",
   "source": [
    "## all reports"
   ],
   "metadata": {
    "collapsed": false
   }
  },
  {
   "cell_type": "markdown",
   "source": [
    "## Focis number"
   ],
   "metadata": {
    "collapsed": false
   }
  },
  {
   "cell_type": "code",
   "execution_count": 878,
   "outputs": [],
   "source": [
    "#V1\n",
    "df_data['counter'] = 1\n",
    "ds_focis = df_data.groupby(['title', 'author'])['counter'].sum()"
   ],
   "metadata": {
    "collapsed": false,
    "pycharm": {
     "name": "#%%\n"
    }
   }
  },
  {
   "cell_type": "code",
   "execution_count": 879,
   "outputs": [
    {
     "name": "stdout",
     "output_type": "stream",
     "text": [
      "Count of Each group:\n"
     ]
    },
    {
     "data": {
      "text/plain": "                                      title              author  #Foci\n0   A Rapid fMRI Task Battery for Mappin...  Drobyshevsky et al     13\n1   A functional neuroimaging study of m...        Taylor et al     41\n2   A region of mesial prefrontal cortex...       Knutson et al     21\n3   Abnormal neural activity in partiall...           Lee et al     58\n4   Activity in human reward-sensitive b...   Nieuwenhuis et al     10\n..                                      ...                 ...    ...\n56  Stimulus-dependent modulation of wor...     Duggirala et al     62\n57  The Architecture of Reward Value Cod...     Sescousse et al     46\n58  The neural system that bridges rewar...        Pochon et al     43\n59  Tracking the Hemodynamic Responses t...       Delgado et al     32\n60  Working Memory Impairment in Fibromy...           Seo et al     19\n\n[61 rows x 3 columns]",
      "text/html": "<div>\n<style scoped>\n    .dataframe tbody tr th:only-of-type {\n        vertical-align: middle;\n    }\n\n    .dataframe tbody tr th {\n        vertical-align: top;\n    }\n\n    .dataframe thead th {\n        text-align: right;\n    }\n</style>\n<table border=\"1\" class=\"dataframe\">\n  <thead>\n    <tr style=\"text-align: right;\">\n      <th></th>\n      <th>title</th>\n      <th>author</th>\n      <th>#Foci</th>\n    </tr>\n  </thead>\n  <tbody>\n    <tr>\n      <th>0</th>\n      <td>A Rapid fMRI Task Battery for Mappin...</td>\n      <td>Drobyshevsky et al</td>\n      <td>13</td>\n    </tr>\n    <tr>\n      <th>1</th>\n      <td>A functional neuroimaging study of m...</td>\n      <td>Taylor et al</td>\n      <td>41</td>\n    </tr>\n    <tr>\n      <th>2</th>\n      <td>A region of mesial prefrontal cortex...</td>\n      <td>Knutson et al</td>\n      <td>21</td>\n    </tr>\n    <tr>\n      <th>3</th>\n      <td>Abnormal neural activity in partiall...</td>\n      <td>Lee et al</td>\n      <td>58</td>\n    </tr>\n    <tr>\n      <th>4</th>\n      <td>Activity in human reward-sensitive b...</td>\n      <td>Nieuwenhuis et al</td>\n      <td>10</td>\n    </tr>\n    <tr>\n      <th>...</th>\n      <td>...</td>\n      <td>...</td>\n      <td>...</td>\n    </tr>\n    <tr>\n      <th>56</th>\n      <td>Stimulus-dependent modulation of wor...</td>\n      <td>Duggirala et al</td>\n      <td>62</td>\n    </tr>\n    <tr>\n      <th>57</th>\n      <td>The Architecture of Reward Value Cod...</td>\n      <td>Sescousse et al</td>\n      <td>46</td>\n    </tr>\n    <tr>\n      <th>58</th>\n      <td>The neural system that bridges rewar...</td>\n      <td>Pochon et al</td>\n      <td>43</td>\n    </tr>\n    <tr>\n      <th>59</th>\n      <td>Tracking the Hemodynamic Responses t...</td>\n      <td>Delgado et al</td>\n      <td>32</td>\n    </tr>\n    <tr>\n      <th>60</th>\n      <td>Working Memory Impairment in Fibromy...</td>\n      <td>Seo et al</td>\n      <td>19</td>\n    </tr>\n  </tbody>\n</table>\n<p>61 rows × 3 columns</p>\n</div>"
     },
     "execution_count": 879,
     "metadata": {},
     "output_type": "execute_result"
    }
   ],
   "source": [
    "#V2\n",
    "print(\"Count of Each group:\")\n",
    "df_group_focis = df_data.groupby(['title', 'author']\n",
    "                                 ).size().reset_index(name=\"#Foci\")\n",
    "df_group_focis"
   ],
   "metadata": {
    "collapsed": false,
    "pycharm": {
     "name": "#%%\n"
    }
   }
  },
  {
   "cell_type": "markdown",
   "source": [
    "## Subjects number"
   ],
   "metadata": {
    "collapsed": false
   }
  },
  {
   "cell_type": "code",
   "execution_count": 880,
   "outputs": [],
   "source": [
    "# group_subjects = df_data.groupby(['title','author']).agg({'subjects':['mean','min','max']})\n",
    "# group_subjects = df_data.groupby(['title', 'author', 'subjects'])\n",
    "# for key, item in group_subjects:\n",
    "#     print(type(key), \"\\n\\n\")\n",
    "#     break\n",
    "\n",
    "# group_subjects.describe()"
   ],
   "metadata": {
    "collapsed": false,
    "pycharm": {
     "name": "#%%\n"
    }
   }
  },
  {
   "cell_type": "code",
   "execution_count": 881,
   "outputs": [
    {
     "data": {
      "text/plain": "                                     title              author  #Subjects\n0  A Rapid fMRI Task Battery for Mappin...  Drobyshevsky et al         31\n1  A functional neuroimaging study of m...        Taylor et al         12\n2  A region of mesial prefrontal cortex...       Knutson et al         12\n3  Abnormal neural activity in partiall...           Lee et al         14\n4  Activity in human reward-sensitive b...   Nieuwenhuis et al         14",
      "text/html": "<div>\n<style scoped>\n    .dataframe tbody tr th:only-of-type {\n        vertical-align: middle;\n    }\n\n    .dataframe tbody tr th {\n        vertical-align: top;\n    }\n\n    .dataframe thead th {\n        text-align: right;\n    }\n</style>\n<table border=\"1\" class=\"dataframe\">\n  <thead>\n    <tr style=\"text-align: right;\">\n      <th></th>\n      <th>title</th>\n      <th>author</th>\n      <th>#Subjects</th>\n    </tr>\n  </thead>\n  <tbody>\n    <tr>\n      <th>0</th>\n      <td>A Rapid fMRI Task Battery for Mappin...</td>\n      <td>Drobyshevsky et al</td>\n      <td>31</td>\n    </tr>\n    <tr>\n      <th>1</th>\n      <td>A functional neuroimaging study of m...</td>\n      <td>Taylor et al</td>\n      <td>12</td>\n    </tr>\n    <tr>\n      <th>2</th>\n      <td>A region of mesial prefrontal cortex...</td>\n      <td>Knutson et al</td>\n      <td>12</td>\n    </tr>\n    <tr>\n      <th>3</th>\n      <td>Abnormal neural activity in partiall...</td>\n      <td>Lee et al</td>\n      <td>14</td>\n    </tr>\n    <tr>\n      <th>4</th>\n      <td>Activity in human reward-sensitive b...</td>\n      <td>Nieuwenhuis et al</td>\n      <td>14</td>\n    </tr>\n  </tbody>\n</table>\n</div>"
     },
     "execution_count": 881,
     "metadata": {},
     "output_type": "execute_result"
    }
   ],
   "source": [
    "group_subjects = df_data.groupby(['title', 'author', 'subjects'])\n",
    "dict_keys_subjects = group_subjects.groups.keys()\n",
    "df_group_subjects = pd.DataFrame.from_records([*dict_keys_subjects], columns=['title', 'author', '#Subjects'])\n",
    "df_group_subjects.head()"
   ],
   "metadata": {
    "collapsed": false,
    "pycharm": {
     "name": "#%%\n"
    }
   }
  },
  {
   "cell_type": "code",
   "execution_count": 882,
   "outputs": [
    {
     "data": {
      "text/plain": "                                     title              author  #Foci  \\\n0  A Rapid fMRI Task Battery for Mappin...  Drobyshevsky et al     13   \n1  A functional neuroimaging study of m...        Taylor et al     41   \n2  A region of mesial prefrontal cortex...       Knutson et al     21   \n3  Abnormal neural activity in partiall...           Lee et al     58   \n4  Activity in human reward-sensitive b...   Nieuwenhuis et al     10   \n\n   #Subjects  \n0         31  \n1         12  \n2         12  \n3         14  \n4         14  ",
      "text/html": "<div>\n<style scoped>\n    .dataframe tbody tr th:only-of-type {\n        vertical-align: middle;\n    }\n\n    .dataframe tbody tr th {\n        vertical-align: top;\n    }\n\n    .dataframe thead th {\n        text-align: right;\n    }\n</style>\n<table border=\"1\" class=\"dataframe\">\n  <thead>\n    <tr style=\"text-align: right;\">\n      <th></th>\n      <th>title</th>\n      <th>author</th>\n      <th>#Foci</th>\n      <th>#Subjects</th>\n    </tr>\n  </thead>\n  <tbody>\n    <tr>\n      <th>0</th>\n      <td>A Rapid fMRI Task Battery for Mappin...</td>\n      <td>Drobyshevsky et al</td>\n      <td>13</td>\n      <td>31</td>\n    </tr>\n    <tr>\n      <th>1</th>\n      <td>A functional neuroimaging study of m...</td>\n      <td>Taylor et al</td>\n      <td>41</td>\n      <td>12</td>\n    </tr>\n    <tr>\n      <th>2</th>\n      <td>A region of mesial prefrontal cortex...</td>\n      <td>Knutson et al</td>\n      <td>21</td>\n      <td>12</td>\n    </tr>\n    <tr>\n      <th>3</th>\n      <td>Abnormal neural activity in partiall...</td>\n      <td>Lee et al</td>\n      <td>58</td>\n      <td>14</td>\n    </tr>\n    <tr>\n      <th>4</th>\n      <td>Activity in human reward-sensitive b...</td>\n      <td>Nieuwenhuis et al</td>\n      <td>10</td>\n      <td>14</td>\n    </tr>\n  </tbody>\n</table>\n</div>"
     },
     "execution_count": 882,
     "metadata": {},
     "output_type": "execute_result"
    }
   ],
   "source": [
    "df_final = df_group_focis.join(df_group_subjects[['title', '#Subjects']].set_index('title'), on='title')\n",
    "df_final.head()"
   ],
   "metadata": {
    "collapsed": false,
    "pycharm": {
     "name": "#%%\n"
    }
   }
  },
  {
   "cell_type": "markdown",
   "source": [
    "## Get set of contrast"
   ],
   "metadata": {
    "collapsed": false
   }
  },
  {
   "cell_type": "code",
   "execution_count": 883,
   "outputs": [],
   "source": [
    "# ds_group_contrast = df_data.groupby(['title', 'author'])['contrast'].apply(set)\n",
    "# df_group_contrast = ds_group_contrast.to_frame().reset_index()\n",
    "# df_group_contrast\n",
    "# # df[['contrast']].iloc[0][0] <- set"
   ],
   "metadata": {
    "collapsed": false,
    "pycharm": {
     "name": "#%%\n"
    }
   }
  },
  {
   "cell_type": "code",
   "execution_count": 884,
   "outputs": [
    {
     "data": {
      "text/plain": "                                     title              author  \\\n0  A Rapid fMRI Task Battery for Mappin...  Drobyshevsky et al   \n1  A functional neuroimaging study of m...        Taylor et al   \n2  A region of mesial prefrontal cortex...       Knutson et al   \n3  Abnormal neural activity in partiall...           Lee et al   \n4  Activity in human reward-sensitive b...   Nieuwenhuis et al   \n\n                             contrast_set  \n0                       {2-back > 0-back}  \n1                                     {-}  \n2  {lose > no reward, reward > no reward}  \n3                         {1-back > rest}  \n4              {high reward > low reward}  ",
      "text/html": "<div>\n<style scoped>\n    .dataframe tbody tr th:only-of-type {\n        vertical-align: middle;\n    }\n\n    .dataframe tbody tr th {\n        vertical-align: top;\n    }\n\n    .dataframe thead th {\n        text-align: right;\n    }\n</style>\n<table border=\"1\" class=\"dataframe\">\n  <thead>\n    <tr style=\"text-align: right;\">\n      <th></th>\n      <th>title</th>\n      <th>author</th>\n      <th>contrast_set</th>\n    </tr>\n  </thead>\n  <tbody>\n    <tr>\n      <th>0</th>\n      <td>A Rapid fMRI Task Battery for Mappin...</td>\n      <td>Drobyshevsky et al</td>\n      <td>{2-back &gt; 0-back}</td>\n    </tr>\n    <tr>\n      <th>1</th>\n      <td>A functional neuroimaging study of m...</td>\n      <td>Taylor et al</td>\n      <td>{-}</td>\n    </tr>\n    <tr>\n      <th>2</th>\n      <td>A region of mesial prefrontal cortex...</td>\n      <td>Knutson et al</td>\n      <td>{lose &gt; no reward, reward &gt; no reward}</td>\n    </tr>\n    <tr>\n      <th>3</th>\n      <td>Abnormal neural activity in partiall...</td>\n      <td>Lee et al</td>\n      <td>{1-back &gt; rest}</td>\n    </tr>\n    <tr>\n      <th>4</th>\n      <td>Activity in human reward-sensitive b...</td>\n      <td>Nieuwenhuis et al</td>\n      <td>{high reward &gt; low reward}</td>\n    </tr>\n  </tbody>\n</table>\n</div>"
     },
     "execution_count": 884,
     "metadata": {},
     "output_type": "execute_result"
    }
   ],
   "source": [
    "# df_group_contrast = df_data.groupby(['title', 'author'])['contrast'].apply(set).reset_index(name='contrast_set')\n",
    "df_group_contrast = df_data.groupby(['title', 'author'])['contrast'].apply(lambda x: set(x)).reset_index(\n",
    "    name='contrast_set')\n",
    "df_group_contrast.head(5)"
   ],
   "metadata": {
    "collapsed": false,
    "pycharm": {
     "name": "#%%\n"
    }
   }
  },
  {
   "cell_type": "code",
   "execution_count": 885,
   "outputs": [
    {
     "data": {
      "text/plain": "{'lose > no reward', 'reward > no reward'}"
     },
     "execution_count": 885,
     "metadata": {},
     "output_type": "execute_result"
    }
   ],
   "source": [
    "df_group_contrast[['contrast_set']].iloc[2][0]"
   ],
   "metadata": {
    "collapsed": false,
    "pycharm": {
     "name": "#%%\n"
    }
   }
  },
  {
   "cell_type": "code",
   "execution_count": 886,
   "outputs": [
    {
     "data": {
      "text/plain": "                                     title              author  #Foci  \\\n0  A Rapid fMRI Task Battery for Mappin...  Drobyshevsky et al     13   \n1  A functional neuroimaging study of m...        Taylor et al     41   \n2  A region of mesial prefrontal cortex...       Knutson et al     21   \n3  Abnormal neural activity in partiall...           Lee et al     58   \n4  Activity in human reward-sensitive b...   Nieuwenhuis et al     10   \n\n   #Subjects                            contrast_set  \n0         31                       {2-back > 0-back}  \n1         12                                     {-}  \n2         12  {lose > no reward, reward > no reward}  \n3         14                         {1-back > rest}  \n4         14              {high reward > low reward}  ",
      "text/html": "<div>\n<style scoped>\n    .dataframe tbody tr th:only-of-type {\n        vertical-align: middle;\n    }\n\n    .dataframe tbody tr th {\n        vertical-align: top;\n    }\n\n    .dataframe thead th {\n        text-align: right;\n    }\n</style>\n<table border=\"1\" class=\"dataframe\">\n  <thead>\n    <tr style=\"text-align: right;\">\n      <th></th>\n      <th>title</th>\n      <th>author</th>\n      <th>#Foci</th>\n      <th>#Subjects</th>\n      <th>contrast_set</th>\n    </tr>\n  </thead>\n  <tbody>\n    <tr>\n      <th>0</th>\n      <td>A Rapid fMRI Task Battery for Mappin...</td>\n      <td>Drobyshevsky et al</td>\n      <td>13</td>\n      <td>31</td>\n      <td>{2-back &gt; 0-back}</td>\n    </tr>\n    <tr>\n      <th>1</th>\n      <td>A functional neuroimaging study of m...</td>\n      <td>Taylor et al</td>\n      <td>41</td>\n      <td>12</td>\n      <td>{-}</td>\n    </tr>\n    <tr>\n      <th>2</th>\n      <td>A region of mesial prefrontal cortex...</td>\n      <td>Knutson et al</td>\n      <td>21</td>\n      <td>12</td>\n      <td>{lose &gt; no reward, reward &gt; no reward}</td>\n    </tr>\n    <tr>\n      <th>3</th>\n      <td>Abnormal neural activity in partiall...</td>\n      <td>Lee et al</td>\n      <td>58</td>\n      <td>14</td>\n      <td>{1-back &gt; rest}</td>\n    </tr>\n    <tr>\n      <th>4</th>\n      <td>Activity in human reward-sensitive b...</td>\n      <td>Nieuwenhuis et al</td>\n      <td>10</td>\n      <td>14</td>\n      <td>{high reward &gt; low reward}</td>\n    </tr>\n  </tbody>\n</table>\n</div>"
     },
     "execution_count": 886,
     "metadata": {},
     "output_type": "execute_result"
    }
   ],
   "source": [
    "df_final = df_final.join(df_group_contrast[['title', 'contrast_set']].set_index('title'), on='title')\n",
    "df_final.head()"
   ],
   "metadata": {
    "collapsed": false,
    "pycharm": {
     "name": "#%%\n"
    }
   }
  },
  {
   "cell_type": "markdown",
   "source": [
    "## Get set of keywords"
   ],
   "metadata": {
    "collapsed": false
   }
  },
  {
   "cell_type": "code",
   "execution_count": 887,
   "outputs": [
    {
     "data": {
      "text/plain": "                                     title              author  \\\n0  A Rapid fMRI Task Battery for Mappin...  Drobyshevsky et al   \n1  A functional neuroimaging study of m...        Taylor et al   \n2  A region of mesial prefrontal cortex...       Knutson et al   \n3  Abnormal neural activity in partiall...           Lee et al   \n4  Activity in human reward-sensitive b...   Nieuwenhuis et al   \n\n                              keywords_set  \n0  {fMRI; working memory; talairach; n-...  \n1  {fMRI; working memory; anticipation ...  \n2  {fMRI; reward value; outcome phase; ...  \n3  {fMRI; working memory; talairach; n-...  \n4  {fMRI; reward magnitude; reward valu...  ",
      "text/html": "<div>\n<style scoped>\n    .dataframe tbody tr th:only-of-type {\n        vertical-align: middle;\n    }\n\n    .dataframe tbody tr th {\n        vertical-align: top;\n    }\n\n    .dataframe thead th {\n        text-align: right;\n    }\n</style>\n<table border=\"1\" class=\"dataframe\">\n  <thead>\n    <tr style=\"text-align: right;\">\n      <th></th>\n      <th>title</th>\n      <th>author</th>\n      <th>keywords_set</th>\n    </tr>\n  </thead>\n  <tbody>\n    <tr>\n      <th>0</th>\n      <td>A Rapid fMRI Task Battery for Mappin...</td>\n      <td>Drobyshevsky et al</td>\n      <td>{fMRI; working memory; talairach; n-...</td>\n    </tr>\n    <tr>\n      <th>1</th>\n      <td>A functional neuroimaging study of m...</td>\n      <td>Taylor et al</td>\n      <td>{fMRI; working memory; anticipation ...</td>\n    </tr>\n    <tr>\n      <th>2</th>\n      <td>A region of mesial prefrontal cortex...</td>\n      <td>Knutson et al</td>\n      <td>{fMRI; reward value; outcome phase; ...</td>\n    </tr>\n    <tr>\n      <th>3</th>\n      <td>Abnormal neural activity in partiall...</td>\n      <td>Lee et al</td>\n      <td>{fMRI; working memory; talairach; n-...</td>\n    </tr>\n    <tr>\n      <th>4</th>\n      <td>Activity in human reward-sensitive b...</td>\n      <td>Nieuwenhuis et al</td>\n      <td>{fMRI; reward magnitude; reward valu...</td>\n    </tr>\n  </tbody>\n</table>\n</div>"
     },
     "execution_count": 887,
     "metadata": {},
     "output_type": "execute_result"
    }
   ],
   "source": [
    "#V1\n",
    "# df_group_keywords = df_data.groupby(['title', 'author'])['keywords'].apply(set).reset_index(name='keywords_set')\n",
    "df_group_keywords = df_data.groupby(['title', 'author'])['keywords'].apply(lambda x: set(x)).reset_index(\n",
    "    name='keywords_set')\n",
    "# ds_group_keywords = df_test.groupby(['title', 'author']).agg({\"keywords\": lambda x: set(x)})#%%\n",
    "\n",
    "#df_group_keywords[['keywords_set']].iloc[0][0] <- set\n",
    "df_group_keywords.head()"
   ],
   "metadata": {
    "collapsed": false,
    "pycharm": {
     "name": "#%%\n"
    }
   }
  },
  {
   "cell_type": "code",
   "execution_count": 888,
   "outputs": [
    {
     "data": {
      "text/plain": "                                     title              author  \\\n0  A Rapid fMRI Task Battery for Mappin...  Drobyshevsky et al   \n1  A functional neuroimaging study of m...        Taylor et al   \n2  A region of mesial prefrontal cortex...       Knutson et al   \n3  Abnormal neural activity in partiall...           Lee et al   \n4  Activity in human reward-sensitive b...   Nieuwenhuis et al   \n\n                              keywords_set  \\\n0  {fMRI; working memory; talairach; n-...   \n1  {fMRI; working memory; anticipation ...   \n2  {fMRI; reward value; outcome phase; ...   \n3  {fMRI; working memory; talairach; n-...   \n4  {fMRI; reward magnitude; reward valu...   \n\n                            keywords_split  \n0  {talairach, working memory, two-back...  \n1  {working memory, visual shape, decis...  \n2  {performance-dependent, outcome phas...  \n3  {talairach, one-back task, working m...  \n4  {positive reward, context-dependent ...  ",
      "text/html": "<div>\n<style scoped>\n    .dataframe tbody tr th:only-of-type {\n        vertical-align: middle;\n    }\n\n    .dataframe tbody tr th {\n        vertical-align: top;\n    }\n\n    .dataframe thead th {\n        text-align: right;\n    }\n</style>\n<table border=\"1\" class=\"dataframe\">\n  <thead>\n    <tr style=\"text-align: right;\">\n      <th></th>\n      <th>title</th>\n      <th>author</th>\n      <th>keywords_set</th>\n      <th>keywords_split</th>\n    </tr>\n  </thead>\n  <tbody>\n    <tr>\n      <th>0</th>\n      <td>A Rapid fMRI Task Battery for Mappin...</td>\n      <td>Drobyshevsky et al</td>\n      <td>{fMRI; working memory; talairach; n-...</td>\n      <td>{talairach, working memory, two-back...</td>\n    </tr>\n    <tr>\n      <th>1</th>\n      <td>A functional neuroimaging study of m...</td>\n      <td>Taylor et al</td>\n      <td>{fMRI; working memory; anticipation ...</td>\n      <td>{working memory, visual shape, decis...</td>\n    </tr>\n    <tr>\n      <th>2</th>\n      <td>A region of mesial prefrontal cortex...</td>\n      <td>Knutson et al</td>\n      <td>{fMRI; reward value; outcome phase; ...</td>\n      <td>{performance-dependent, outcome phas...</td>\n    </tr>\n    <tr>\n      <th>3</th>\n      <td>Abnormal neural activity in partiall...</td>\n      <td>Lee et al</td>\n      <td>{fMRI; working memory; talairach; n-...</td>\n      <td>{talairach, one-back task, working m...</td>\n    </tr>\n    <tr>\n      <th>4</th>\n      <td>Activity in human reward-sensitive b...</td>\n      <td>Nieuwenhuis et al</td>\n      <td>{fMRI; reward magnitude; reward valu...</td>\n      <td>{positive reward, context-dependent ...</td>\n    </tr>\n  </tbody>\n</table>\n</div>"
     },
     "execution_count": 888,
     "metadata": {},
     "output_type": "execute_result"
    }
   ],
   "source": [
    "df_group_keywords['keywords_split'] = df_group_keywords['keywords_set'].apply(df_proc.split_keys)\n",
    "df_group_keywords.head()"
   ],
   "metadata": {
    "collapsed": false,
    "pycharm": {
     "name": "#%%\n"
    }
   }
  },
  {
   "cell_type": "code",
   "execution_count": 889,
   "outputs": [
    {
     "data": {
      "text/plain": "{'fMRI',\n 'n-back task',\n 'talairach',\n 'two-back task',\n 'visual letters',\n 'working memory'}"
     },
     "execution_count": 889,
     "metadata": {},
     "output_type": "execute_result"
    }
   ],
   "source": [
    "df_group_keywords[['keywords_split']].iloc[0][0]"
   ],
   "metadata": {
    "collapsed": false,
    "pycharm": {
     "name": "#%%\n"
    }
   }
  },
  {
   "cell_type": "code",
   "execution_count": 890,
   "outputs": [
    {
     "data": {
      "text/plain": "                                     title              author  #Foci  \\\n0  A Rapid fMRI Task Battery for Mappin...  Drobyshevsky et al     13   \n1  A functional neuroimaging study of m...        Taylor et al     41   \n2  A region of mesial prefrontal cortex...       Knutson et al     21   \n\n   #Subjects                            contrast_set  \\\n0         31                       {2-back > 0-back}   \n1         12                                     {-}   \n2         12  {lose > no reward, reward > no reward}   \n\n                            keywords_split  \n0  {talairach, working memory, two-back...  \n1  {working memory, visual shape, decis...  \n2  {performance-dependent, outcome phas...  ",
      "text/html": "<div>\n<style scoped>\n    .dataframe tbody tr th:only-of-type {\n        vertical-align: middle;\n    }\n\n    .dataframe tbody tr th {\n        vertical-align: top;\n    }\n\n    .dataframe thead th {\n        text-align: right;\n    }\n</style>\n<table border=\"1\" class=\"dataframe\">\n  <thead>\n    <tr style=\"text-align: right;\">\n      <th></th>\n      <th>title</th>\n      <th>author</th>\n      <th>#Foci</th>\n      <th>#Subjects</th>\n      <th>contrast_set</th>\n      <th>keywords_split</th>\n    </tr>\n  </thead>\n  <tbody>\n    <tr>\n      <th>0</th>\n      <td>A Rapid fMRI Task Battery for Mappin...</td>\n      <td>Drobyshevsky et al</td>\n      <td>13</td>\n      <td>31</td>\n      <td>{2-back &gt; 0-back}</td>\n      <td>{talairach, working memory, two-back...</td>\n    </tr>\n    <tr>\n      <th>1</th>\n      <td>A functional neuroimaging study of m...</td>\n      <td>Taylor et al</td>\n      <td>41</td>\n      <td>12</td>\n      <td>{-}</td>\n      <td>{working memory, visual shape, decis...</td>\n    </tr>\n    <tr>\n      <th>2</th>\n      <td>A region of mesial prefrontal cortex...</td>\n      <td>Knutson et al</td>\n      <td>21</td>\n      <td>12</td>\n      <td>{lose &gt; no reward, reward &gt; no reward}</td>\n      <td>{performance-dependent, outcome phas...</td>\n    </tr>\n  </tbody>\n</table>\n</div>"
     },
     "execution_count": 890,
     "metadata": {},
     "output_type": "execute_result"
    }
   ],
   "source": [
    "df_final = df_final.join(df_group_keywords[['title', 'keywords_split']].set_index('title'), on='title')\n",
    "df_final.head(3)"
   ],
   "metadata": {
    "collapsed": false,
    "pycharm": {
     "name": "#%%\n"
    }
   }
  },
  {
   "cell_type": "code",
   "execution_count": 891,
   "outputs": [
    {
     "data": {
      "text/plain": "(61, 6)"
     },
     "execution_count": 891,
     "metadata": {},
     "output_type": "execute_result"
    }
   ],
   "source": [
    "df_final.shape"
   ],
   "metadata": {
    "collapsed": false,
    "pycharm": {
     "name": "#%%\n"
    }
   }
  },
  {
   "cell_type": "markdown",
   "source": [
    "## Print latex to text file"
   ],
   "metadata": {
    "collapsed": false
   }
  },
  {
   "cell_type": "code",
   "execution_count": 892,
   "outputs": [],
   "source": [
    "df_final_print = df_final.drop(['title'], axis=1)\n",
    "df_final_print = df_final_print.sort_values(by=['author'])\n",
    "# df_final_print = [df_final_print.iloc[:split_no, :], df_final_print.iloc[split_no:, :]]"
   ],
   "metadata": {
    "collapsed": false,
    "pycharm": {
     "name": "#%%\n"
    }
   }
  },
  {
   "cell_type": "code",
   "execution_count": 893,
   "outputs": [
    {
     "data": {
      "text/plain": "             author  #Foci  #Subjects  \\\n33      Abler et al     43         15   \n12     Aharon et al     51          6   \n15   Akitsuki et al     35         36   \n6   Beneventi et al     24         12   \n34    Carrion et al     34         13   \n\n                               contrast_set  \\\n33  {expected reward > received reward, ...   \n12  {all female faces > all male faces, ...   \n15  {all w > all l, win after losing str...   \n6                {2-back > 1-back > 0-back}   \n34       {2-back > 0-back, 3-back > 0-back}   \n\n                             keywords_split  \n33  {increasing reward uncertainty, outc...  \n12  {viewing, talairach, passive, outcom...  \n15  {positive reward, context-dependent ...  \n6   {working memory, fMRI, MNI, facial e...  \n34  {working memory, two-back task, n-ba...  ",
      "text/html": "<div>\n<style scoped>\n    .dataframe tbody tr th:only-of-type {\n        vertical-align: middle;\n    }\n\n    .dataframe tbody tr th {\n        vertical-align: top;\n    }\n\n    .dataframe thead th {\n        text-align: right;\n    }\n</style>\n<table border=\"1\" class=\"dataframe\">\n  <thead>\n    <tr style=\"text-align: right;\">\n      <th></th>\n      <th>author</th>\n      <th>#Foci</th>\n      <th>#Subjects</th>\n      <th>contrast_set</th>\n      <th>keywords_split</th>\n    </tr>\n  </thead>\n  <tbody>\n    <tr>\n      <th>33</th>\n      <td>Abler et al</td>\n      <td>43</td>\n      <td>15</td>\n      <td>{expected reward &gt; received reward, ...</td>\n      <td>{increasing reward uncertainty, outc...</td>\n    </tr>\n    <tr>\n      <th>12</th>\n      <td>Aharon et al</td>\n      <td>51</td>\n      <td>6</td>\n      <td>{all female faces &gt; all male faces, ...</td>\n      <td>{viewing, talairach, passive, outcom...</td>\n    </tr>\n    <tr>\n      <th>15</th>\n      <td>Akitsuki et al</td>\n      <td>35</td>\n      <td>36</td>\n      <td>{all w &gt; all l, win after losing str...</td>\n      <td>{positive reward, context-dependent ...</td>\n    </tr>\n    <tr>\n      <th>6</th>\n      <td>Beneventi et al</td>\n      <td>24</td>\n      <td>12</td>\n      <td>{2-back &gt; 1-back &gt; 0-back}</td>\n      <td>{working memory, fMRI, MNI, facial e...</td>\n    </tr>\n    <tr>\n      <th>34</th>\n      <td>Carrion et al</td>\n      <td>34</td>\n      <td>13</td>\n      <td>{2-back &gt; 0-back, 3-back &gt; 0-back}</td>\n      <td>{working memory, two-back task, n-ba...</td>\n    </tr>\n  </tbody>\n</table>\n</div>"
     },
     "execution_count": 893,
     "metadata": {},
     "output_type": "execute_result"
    }
   ],
   "source": [
    "# pd.set_option('display.width', None)\n",
    "pd.set_option('display.max_colwidth', 40)\n",
    "df_final_print.head()"
   ],
   "metadata": {
    "collapsed": false,
    "pycharm": {
     "name": "#%%\n"
    }
   }
  },
  {
   "cell_type": "code",
   "execution_count": 894,
   "outputs": [
    {
     "name": "stderr",
     "output_type": "stream",
     "text": [
      "C:\\Users\\Chh\\AppData\\Local\\Temp\\ipykernel_3992\\1782907420.py:7: FutureWarning: In future versions `DataFrame.to_latex` is expected to utilise the base implementation of `Styler.to_latex` for formatting and rendering. The arguments signature may therefore change. It is recommended instead to use `DataFrame.style.to_latex` which also contains additional functionality.\n",
      "  f.write(df_final_print[columns_to_print].to_latex(index=False))\n"
     ]
    }
   ],
   "source": [
    "df_final_print.rename(columns = {'author':'Author'}, inplace = True)\n",
    "columns_to_print = ['Author', '#Foci', '#Subjects']\n",
    "pd.set_option('display.max_colwidth', None)  # to show all the column values (-1)\n",
    "latex_filepath = r'../data_db/latex/all_reports.txt'\n",
    "with open(latex_filepath, 'w') as f:\n",
    "    # for df in df_final_print:\n",
    "    f.write(df_final_print[columns_to_print].to_latex(index=False))\n",
    "pd.set_option('display.max_colwidth', 40)"
   ],
   "metadata": {
    "collapsed": false,
    "pycharm": {
     "name": "#%%\n"
    }
   }
  },
  {
   "cell_type": "code",
   "execution_count": 895,
   "outputs": [
    {
     "name": "stdout",
     "output_type": "stream",
     "text": [
      "Number of Subjects:  1238\n",
      "Number of Foci:  1827\n"
     ]
    }
   ],
   "source": [
    "print(\"Number of Subjects: \",df_final_print['#Subjects'].sum())\n",
    "print(\"Number of Foci: \",df_final_print['#Foci'].sum())"
   ],
   "metadata": {
    "collapsed": false,
    "pycharm": {
     "name": "#%%\n"
    }
   }
  },
  {
   "cell_type": "markdown",
   "source": [
    "## Checks"
   ],
   "metadata": {
    "collapsed": false
   }
  },
  {
   "cell_type": "markdown",
   "source": [
    "### Contrast"
   ],
   "metadata": {
    "collapsed": false
   }
  },
  {
   "cell_type": "code",
   "execution_count": 896,
   "outputs": [],
   "source": [
    "list_of_contrast_set = list(df_final['contrast_set'])"
   ],
   "metadata": {
    "collapsed": false,
    "pycharm": {
     "name": "#%%\n"
    }
   }
  },
  {
   "cell_type": "code",
   "execution_count": 897,
   "outputs": [
    {
     "data": {
      "text/plain": "77"
     },
     "execution_count": 897,
     "metadata": {},
     "output_type": "execute_result"
    }
   ],
   "source": [
    "set_all_contrasts = set()\n",
    "for s in list_of_contrast_set:\n",
    "    set_all_contrasts.update(s)\n",
    "len(set_all_contrasts)"
   ],
   "metadata": {
    "collapsed": false,
    "pycharm": {
     "name": "#%%\n"
    }
   }
  },
  {
   "cell_type": "code",
   "execution_count": 898,
   "outputs": [
    {
     "data": {
      "text/plain": "{'>nan_values<': 0,\n 'all w > all l': 1,\n 'task switching > control task': 1,\n 'movement > no movement and reward > no reward': 1,\n 'punishment > no reward': 1,\n 'ar switch > stay and sr switch > stay': 1,\n 'precue > retrocue': 1,\n 'response switch > response maintenance': 1,\n 'risky gambles > safe gambles': 1,\n 'monetary reward > erotic reward': 1,\n 'w4 > w1': 1,\n 'lose > no reward': 1,\n 'punishment > reward': 1,\n 'choice > no choice': 1,\n 'all female faces > all male faces': 1,\n 'reward during run of success and penalty during run of failure': 1,\n 'social reward magnitude': 1,\n 'low-calorie > high-calorie': 1,\n 'low-calorie and high-calorie': 1,\n 'ar; sr > neutral activity': 1,\n 'high reward > high loss': 1,\n 'retrocue > precue': 1,\n 'erotic reward > monetary reward': 1,\n 'sub-dif > frame-dif': 1,\n 'win modulation': 1,\n 'penalty during run of failure': 1,\n 'beautiful female > beautiful male': 1,\n 'win after losing streak > w1': 1,\n 'reward > negative feedback': 1,\n 'social reward > monetary reward': 1,\n 'n-back > control task': 1,\n '2-back > 1-back': 1,\n 'movement > no movement': 1,\n 'monetary reward magnitude': 1,\n 'beautiful faces > average faces': 1,\n 'retrocue and precue': 1,\n 'high-calorie > low-calorie': 1,\n 'response maintenance > response switch': 1,\n 'beautiful male > average male': 1,\n '1-back > rest': 1,\n 'reward > punishment': 1,\n 'monetary reward > faces reward': 1,\n 'lose modulation': 1,\n 'monetary reward > social reward': 1,\n 'stroop block > baseline': 1,\n 'sub-dif > baseline': 1,\n 'average female > average male': 1,\n 'w1 > l1': 1,\n 'loss after winning streak > l1': 1,\n 'small incentives > baseline': 1,\n 'win > lose and risk > safe': 1,\n 'inhibiton task > control task': 1,\n 'disadvantageous > advantageous': 1,\n 'advantageous > disadvantageous': 1,\n 'negative correlation with reward level': 1,\n 'l4 > l1': 1,\n 'expected reward > received reward and control > adhd': 1,\n '1-back > 2-back': 1,\n 'decision-making > control task': 1,\n 'anticipation phase': 1,\n 'large incentives > baseline': 1,\n 'safe > risk': 1,\n 'sub-id > baseline': 1,\n 'reward during run of success': 1,\n 'low probability > high probability': 2,\n '3-back > 0-back': 2,\n '3-back > 2-back > 1-back > 0-back': 2,\n 'lose > win': 2,\n 'received reward > expected reward': 2,\n '2-back > 1-back > 0-back': 2,\n 'high probability > low probability': 2,\n 'expected reward > received reward': 4,\n 'risk > safe': 5,\n '-': 6,\n 'win > lose': 6,\n '2-back > 0-back': 6,\n 'reward > no reward': 13,\n 'high reward > low reward': 15}"
     },
     "execution_count": 898,
     "metadata": {},
     "output_type": "execute_result"
    }
   ],
   "source": [
    "counter_contrast = data_util.df_counter(df_final.explode('contrast_set'), 'contrast_set',\n",
    "                                        set_keywords=set_all_contrasts, order=1)\n",
    "counter_contrast"
   ],
   "metadata": {
    "collapsed": false,
    "pycharm": {
     "name": "#%%\n"
    }
   }
  },
  {
   "cell_type": "markdown",
   "source": [
    "### keywords"
   ],
   "metadata": {
    "collapsed": false
   }
  },
  {
   "cell_type": "code",
   "execution_count": 899,
   "outputs": [],
   "source": [
    "list_of_keywords_set = list(df_final['keywords_split'])"
   ],
   "metadata": {
    "collapsed": false,
    "pycharm": {
     "name": "#%%\n"
    }
   }
  },
  {
   "cell_type": "code",
   "execution_count": 900,
   "outputs": [
    {
     "data": {
      "text/plain": "97"
     },
     "execution_count": 900,
     "metadata": {},
     "output_type": "execute_result"
    }
   ],
   "source": [
    "set_all_keywords = set()\n",
    "for s in list_of_keywords_set:\n",
    "    set_all_keywords.update(s)\n",
    "len(set_all_keywords)"
   ],
   "metadata": {
    "collapsed": false,
    "pycharm": {
     "name": "#%%\n"
    }
   }
  },
  {
   "cell_type": "code",
   "execution_count": 901,
   "outputs": [
    {
     "data": {
      "text/plain": "{'>nan_values<': 0,\n 'response switching': 1,\n 'increasing reward uncertainty': 1,\n 'fractal image': 1,\n 'visual shape color': 1,\n 'dopamine': 1,\n 'erotic reward': 1,\n 'reinforcement learning': 1,\n 'time conditioning': 1,\n 'reading': 1,\n 'high vs low calorie food': 1,\n 'potential loss': 1,\n 'visual color pies with probabilities': 1,\n 'scrambled drawings': 1,\n 'high calorie': 1,\n 'visual shape': 1,\n 'extraversion': 1,\n 'inhibition': 1,\n 'Sub-Dif': 1,\n 'precue': 1,\n 'reversal learning task': 1,\n 'verbal reward': 1,\n 'effect of reward': 1,\n 'visual cue': 1,\n 'perceptual matching task': 1,\n 'potential gain': 1,\n 'modelling prediction error': 1,\n 'response maintenance': 1,\n 'small incentive': 1,\n 'high incentive': 1,\n 'negative expectancy': 1,\n 'movement': 1,\n 'anova': 1,\n 'verbal': 1,\n 'visual identical shapes': 1,\n 'adult': 1,\n 'young': 1,\n 'feedback reward': 1,\n 'positive expectancy': 1,\n 'facial expression': 1,\n 'conditioning task': 1,\n 'increasing activation': 1,\n 'visual faces': 1,\n 'verbal pseudo-words': 1,\n 'cups task': 1,\n 'chocolate bars': 1,\n 'safe choice': 1,\n 'Sub-Id': 1,\n 'monetary and erotic reward': 1,\n 'time effect': 1,\n 'probability': 1,\n 'experimental task': 1,\n 'decreasing activation': 1,\n 'Stroop task': 1,\n 'two and four choice reversal learning task': 1,\n 'low calorie': 1,\n 'retrocue': 1,\n 'increasing reward magnitude': 1,\n 'visual spatial cue': 1,\n 'three-back task': 2,\n 'food': 2,\n 'food photo reward': 2,\n 'visual word recognition': 2,\n 'visual cards': 2,\n 'face stimuli': 2,\n 'high gain vs high loss': 2,\n 'SID': 2,\n 'Balloon Analog Risk Task': 2,\n 'reversal learning': 2,\n 'taste reward': 2,\n 'one-back task': 2,\n 'visual numbers': 2,\n 'task switching': 3,\n 'context-dependent reward': 3,\n 'visual object': 4,\n 'risk choice': 5,\n 'decision phase': 5,\n 'negative reward': 6,\n 'visual letters': 6,\n 'social reward': 7,\n 'two-back task': 7,\n 'MID': 7,\n 'viewing': 7,\n 'passive': 9,\n 'positive reward': 12,\n 'n-back task': 14,\n 'gambling': 16,\n 'reward magnitude': 16,\n 'performance-dependent': 16,\n 'working memory': 17,\n 'anticipation phase': 17,\n 'reward value': 19,\n 'talairach': 26,\n 'decision making': 30,\n 'outcome phase': 34,\n 'MNI': 35,\n 'monetary reward': 37,\n 'fMRI': 61}"
     },
     "execution_count": 901,
     "metadata": {},
     "output_type": "execute_result"
    }
   ],
   "source": [
    "counter_keywords = data_util.df_counter(df_final.explode('keywords_split'), 'keywords_split',\n",
    "                                        set_keywords=set_all_keywords, order=1)\n",
    "counter_keywords"
   ],
   "metadata": {
    "collapsed": false,
    "pycharm": {
     "name": "#%%\n"
    }
   }
  },
  {
   "cell_type": "markdown",
   "source": [
    "### Check contains/not contains"
   ],
   "metadata": {
    "collapsed": false
   }
  },
  {
   "cell_type": "code",
   "execution_count": 902,
   "outputs": [],
   "source": [
    "df_checks = df_final.copy()"
   ],
   "metadata": {
    "collapsed": false,
    "pycharm": {
     "name": "#%%\n"
    }
   }
  },
  {
   "cell_type": "code",
   "execution_count": 903,
   "outputs": [
    {
     "name": "stdout",
     "output_type": "stream",
     "text": [
      "    title                                                                                                                                                            author                           #Foci    #Subjects  contrast_set                                                                                                                                                                                               keywords_split\n",
      "--  ---------------------------------------------------------------------------------------------------------------------------------------------------------------  -----------------------------  -------  -----------  ---------------------------------------------------------------------------------------------------------------------------------------------------------------------------------------------------------  ----------------------------------------------------------------------------------------------------------------------------------------------------------------------------------------------------------------------------------------------------------------\n",
      " 4  Activity in human reward-sensitive brain areas is strongly context dependent                                                                                     Nieuwenhuis et al                   10           14  {'high reward > low reward'}                                                                                                                                                                               {'positive reward', 'context-dependent reward', 'outcome phase', 'reward magnitude', 'monetary reward', 'high gain vs high loss', 'fMRI', 'talairach', 'decision making', 'gambling', 'reward value'}\n",
      " 8  Anticipation of Increasing Monetary Reward Selectively Recruits Nucleus Accumbens                                                                                Knutson et al                       24            8  {'high reward > low reward', 'punishment > no reward', 'reward > no reward'}                                                                                                                               {'talairach', 'reward magnitude', 'fMRI', 'monetary reward', 'anticipation phase', 'MID', 'performance-dependent'}\n",
      " 9  Anticipation of monetary and social reward differently activates mesolimbic brain structures in men and women                                                    Spreckelmeyer et al                 64           32  {'high reward > low reward', 'reward > no reward'}                                                                                                                                                         {'performance-dependent', 'social reward', 'anticipation phase', 'talairach', 'SID', 'reward value', 'monetary reward', 'MID', 'fMRI'}\n",
      "11  Are Attractive People Rewarding - Sex Differences in the Neural Substrates of Facial Attractiveness                                                              Cloutier et al                      19           48  {'high reward > low reward'}                                                                                                                                                                               {'viewing', 'face stimuli', 'outcome phase', 'social reward', 'talairach', 'passive', 'reward value', 'fMRI'}\n",
      "14  Brain systems for assessing facial attractiveness                                                                                                                Winston et al                       15           26  {'high reward > low reward'}                                                                                                                                                                               {'viewing', 'outcome phase', 'social reward', 'decision making', 'MNI', 'passive', 'reward value', 'fMRI'}\n",
      "21  Dissociable Neural Responses in Human Reward Systems                                                                                                             Elliott et al                       19            9  {'reward during run of success and penalty during run of failure', 'high reward > low reward', 'reward during run of success', 'negative correlation with reward level', 'penalty during run of failure'}  {'positive reward', 'context-dependent reward', 'outcome phase', 'reward magnitude', 'monetary reward', 'fMRI', 'talairach', 'decision making', 'gambling', 'negative reward', 'reward value'}\n",
      "25  Dissociation of reward anticipation and outcome with event-related fMRI                                                                                          Knutson et al                       23            9  {'high reward > low reward', 'reward > no reward'}                                                                                                                                                         {'performance-dependent', 'outcome phase', 'anticipation phase', 'talairach', 'reward magnitude', 'monetary reward', 'MID', 'fMRI'}\n",
      "26  Distinct Portions of Anterior Cingulate Cortex and Medial Prefrontal Cortex Are Activated by Reward Processing in Separable Phases of Decision-Making Cognition  Rogers et al                        24           14  {'high reward > low reward', 'win > lose'}                                                                                                                                                                 {'decision making', 'gambling', 'positive reward', 'MNI', 'decision phase', 'monetary reward', 'fMRI'}\n",
      "29  Distributed Neural Representation of Expected Value                                                                                                              Knutson et al                       26           14  {'high reward > low reward', 'high probability > low probability'}                                                                                                                                         {'probability', 'performance-dependent', 'anticipation phase', 'talairach', 'reward magnitude', 'reward value', 'monetary reward', 'MID', 'fMRI'}\n",
      "31  Dorsal striatum responses to reward and punishment - Effects of valence and magnitude manipulations                                                              Delgado et al                       12           18  {'high reward > low reward'}                                                                                                                                                                               {'talairach', 'gambling', 'reward magnitude', 'outcome phase', 'monetary reward', 'fMRI'}\n",
      "32  Effort-Based Cost Benefit Valuation and the Human Brain                                                                                                          Croxson et al                        9           19  {'high reward > low reward'}                                                                                                                                                                               {'reward magnitude', 'MNI', 'monetary reward', 'anticipation phase', 'fMRI'}\n",
      "33  From uncertainty to reward - BOLD characteristics differentiate signaling pathways                                                                               Abler et al                         43           15  {'expected reward > received reward', 'high reward > low reward', 'risk > safe'}                                                                                                                           {'increasing reward uncertainty', 'outcome phase', 'reward magnitude', 'monetary reward', 'modelling prediction error', 'fMRI', 'increasing reward magnitude', 'anticipation phase', 'reward value', 'decision making', 'MNI', 'anova', 'performance-dependent'}\n",
      "44  Neural Coding of Reward-Prediction Error Signals During Classical Conditioning With Attractive Faces                                                             Signe Bray and John O'Doherty        5           23  {'high reward > low reward'}                                                                                                                                                                               {'viewing', 'face stimuli', 'passive', 'MNI', 'outcome phase', 'social reward', 'fMRI'}\n",
      "46  Neural substrates of reward magnitude, probability, and risk during a wheel of fortune decision-making task                                                      Smith et al                         14           25  {'risk > safe', 'high reward > low reward', 'low probability > high probability'}                                                                                                                          {'talairach', 'decision making', 'gambling', 'reward magnitude', 'monetary reward', 'anticipation phase', 'fMRI'}\n",
      "50  Reward Value Coding Distinct From Risk Attitude-Related Uncertainty Coding in Human Reward Systems                                                               Tobler et al                        19           16  {'expected reward > received reward', 'high reward > low reward', 'high probability > low probability'}                                                                                                    {'performance-dependent', 'anticipation phase', 'reward value', 'decision making', 'safe choice', 'reward magnitude', 'MNI', 'monetary reward', 'fMRI'}\n"
     ]
    }
   ],
   "source": [
    "############\n",
    "check_set = {'high reward > low reward'}\n",
    "mask = df_proc.check_column_elem(df=df_checks, colummn_name='contrast_set', check_set=check_set)\n",
    "with pd.option_context('display.max_colwidth', None):  # to show all the column values\n",
    "    print(tabulate(df_checks[mask], headers='keys'))"
   ],
   "metadata": {
    "collapsed": false,
    "pycharm": {
     "name": "#%%\n"
    }
   }
  },
  {
   "cell_type": "markdown",
   "source": [
    "***"
   ],
   "metadata": {
    "collapsed": false
   }
  },
  {
   "cell_type": "markdown",
   "source": [
    "## Split wm and rest"
   ],
   "metadata": {
    "collapsed": false,
    "pycharm": {
     "name": "#%% md\n"
    }
   }
  },
  {
   "cell_type": "code",
   "execution_count": 904,
   "outputs": [],
   "source": [
    "df_data = df_main.copy()\n",
    "mask_wm = df_data['keywords'].str.contains('working memory')"
   ],
   "metadata": {
    "collapsed": false,
    "pycharm": {
     "name": "#%%\n"
    }
   }
  },
  {
   "cell_type": "markdown",
   "source": [
    "### Working Memory"
   ],
   "metadata": {
    "collapsed": false
   }
  },
  {
   "cell_type": "code",
   "execution_count": 905,
   "outputs": [],
   "source": [
    "df_wm = df_data[mask_wm]"
   ],
   "metadata": {
    "collapsed": false,
    "pycharm": {
     "name": "#%%\n"
    }
   }
  },
  {
   "cell_type": "code",
   "execution_count": 906,
   "outputs": [
    {
     "data": {
      "text/plain": "17"
     },
     "execution_count": 906,
     "metadata": {},
     "output_type": "execute_result"
    }
   ],
   "source": [
    "df_wm['title'].unique().size"
   ],
   "metadata": {
    "collapsed": false,
    "pycharm": {
     "name": "#%%\n"
    }
   }
  },
  {
   "cell_type": "markdown",
   "source": [
    "#### Focis number wm - for author,title and contrast"
   ],
   "metadata": {
    "collapsed": false,
    "pycharm": {
     "name": "#%% md\n"
    }
   }
  },
  {
   "cell_type": "code",
   "execution_count": 907,
   "outputs": [
    {
     "data": {
      "text/plain": "                                     title              author  \\\n0  A Rapid fMRI Task Battery for Mappin...  Drobyshevsky et al   \n\n          contrast  #Foci  \n0  2-back > 0-back     13  ",
      "text/html": "<div>\n<style scoped>\n    .dataframe tbody tr th:only-of-type {\n        vertical-align: middle;\n    }\n\n    .dataframe tbody tr th {\n        vertical-align: top;\n    }\n\n    .dataframe thead th {\n        text-align: right;\n    }\n</style>\n<table border=\"1\" class=\"dataframe\">\n  <thead>\n    <tr style=\"text-align: right;\">\n      <th></th>\n      <th>title</th>\n      <th>author</th>\n      <th>contrast</th>\n      <th>#Foci</th>\n    </tr>\n  </thead>\n  <tbody>\n    <tr>\n      <th>0</th>\n      <td>A Rapid fMRI Task Battery for Mappin...</td>\n      <td>Drobyshevsky et al</td>\n      <td>2-back &gt; 0-back</td>\n      <td>13</td>\n    </tr>\n  </tbody>\n</table>\n</div>"
     },
     "execution_count": 907,
     "metadata": {},
     "output_type": "execute_result"
    }
   ],
   "source": [
    "df_group_focis_wm = df_wm.groupby(['title', 'author', 'contrast']\n",
    "                                  ).size().reset_index(name=\"#Foci\")\n",
    "df_group_focis_wm.head(1)"
   ],
   "metadata": {
    "collapsed": false,
    "pycharm": {
     "name": "#%%\n"
    }
   }
  },
  {
   "cell_type": "markdown",
   "source": [
    "#### Subjects number wm"
   ],
   "metadata": {
    "collapsed": false,
    "pycharm": {
     "name": "#%% md\n"
    }
   }
  },
  {
   "cell_type": "code",
   "execution_count": 908,
   "outputs": [
    {
     "data": {
      "text/plain": "                                     title                author  #Subjects  \\\n0  A Rapid fMRI Task Battery for Mappin...    Drobyshevsky et al         31   \n1  A functional neuroimaging study of m...          Taylor et al         12   \n2  Abnormal neural activity in partiall...             Lee et al         14   \n3  Alterations in the functional neural...            Cruz et al         23   \n4  An fMRI study of working memory for ...       Beneventi et al         12   \n5  Anterior cingulate cortex differentl...              Di et al         49   \n6  Anterior cingulate cortex differentl...              Di et al         49   \n7  Does caffeine modulate verbal workin...  Koppelstaetter et al         15   \n8  Frontal Hypoactivation on Functional...         Carrion et al         13   \n9  Frontal Hypoactivation on Functional...         Carrion et al         13   \n\n                   contrast  \n0           2-back > 0-back  \n1                         -  \n2             1-back > rest  \n3                         -  \n4  2-back > 1-back > 0-back  \n5           1-back > 2-back  \n6           2-back > 1-back  \n7           2-back > 0-back  \n8           2-back > 0-back  \n9           3-back > 0-back  ",
      "text/html": "<div>\n<style scoped>\n    .dataframe tbody tr th:only-of-type {\n        vertical-align: middle;\n    }\n\n    .dataframe tbody tr th {\n        vertical-align: top;\n    }\n\n    .dataframe thead th {\n        text-align: right;\n    }\n</style>\n<table border=\"1\" class=\"dataframe\">\n  <thead>\n    <tr style=\"text-align: right;\">\n      <th></th>\n      <th>title</th>\n      <th>author</th>\n      <th>#Subjects</th>\n      <th>contrast</th>\n    </tr>\n  </thead>\n  <tbody>\n    <tr>\n      <th>0</th>\n      <td>A Rapid fMRI Task Battery for Mappin...</td>\n      <td>Drobyshevsky et al</td>\n      <td>31</td>\n      <td>2-back &gt; 0-back</td>\n    </tr>\n    <tr>\n      <th>1</th>\n      <td>A functional neuroimaging study of m...</td>\n      <td>Taylor et al</td>\n      <td>12</td>\n      <td>-</td>\n    </tr>\n    <tr>\n      <th>2</th>\n      <td>Abnormal neural activity in partiall...</td>\n      <td>Lee et al</td>\n      <td>14</td>\n      <td>1-back &gt; rest</td>\n    </tr>\n    <tr>\n      <th>3</th>\n      <td>Alterations in the functional neural...</td>\n      <td>Cruz et al</td>\n      <td>23</td>\n      <td>-</td>\n    </tr>\n    <tr>\n      <th>4</th>\n      <td>An fMRI study of working memory for ...</td>\n      <td>Beneventi et al</td>\n      <td>12</td>\n      <td>2-back &gt; 1-back &gt; 0-back</td>\n    </tr>\n    <tr>\n      <th>5</th>\n      <td>Anterior cingulate cortex differentl...</td>\n      <td>Di et al</td>\n      <td>49</td>\n      <td>1-back &gt; 2-back</td>\n    </tr>\n    <tr>\n      <th>6</th>\n      <td>Anterior cingulate cortex differentl...</td>\n      <td>Di et al</td>\n      <td>49</td>\n      <td>2-back &gt; 1-back</td>\n    </tr>\n    <tr>\n      <th>7</th>\n      <td>Does caffeine modulate verbal workin...</td>\n      <td>Koppelstaetter et al</td>\n      <td>15</td>\n      <td>2-back &gt; 0-back</td>\n    </tr>\n    <tr>\n      <th>8</th>\n      <td>Frontal Hypoactivation on Functional...</td>\n      <td>Carrion et al</td>\n      <td>13</td>\n      <td>2-back &gt; 0-back</td>\n    </tr>\n    <tr>\n      <th>9</th>\n      <td>Frontal Hypoactivation on Functional...</td>\n      <td>Carrion et al</td>\n      <td>13</td>\n      <td>3-back &gt; 0-back</td>\n    </tr>\n  </tbody>\n</table>\n</div>"
     },
     "execution_count": 908,
     "metadata": {},
     "output_type": "execute_result"
    }
   ],
   "source": [
    "group_subjects_wm = df_wm.groupby(['title', 'author', 'subjects', 'contrast'])\n",
    "dict_keys_subjects_wm = group_subjects_wm.groups.keys()\n",
    "df_group_subjects_wm = pd.DataFrame.from_records([*dict_keys_subjects_wm],\n",
    "                                                 columns=['title', 'author', '#Subjects', 'contrast'])\n",
    "df_group_subjects_wm.head(10)"
   ],
   "metadata": {
    "collapsed": false,
    "pycharm": {
     "name": "#%%\n"
    }
   }
  },
  {
   "cell_type": "code",
   "execution_count": 909,
   "outputs": [
    {
     "data": {
      "text/plain": "                                     title                author  \\\n0  A Rapid fMRI Task Battery for Mappin...    Drobyshevsky et al   \n1  A functional neuroimaging study of m...          Taylor et al   \n2  Abnormal neural activity in partiall...             Lee et al   \n3  Alterations in the functional neural...            Cruz et al   \n4  An fMRI study of working memory for ...       Beneventi et al   \n5  Anterior cingulate cortex differentl...              Di et al   \n6  Anterior cingulate cortex differentl...              Di et al   \n7  Does caffeine modulate verbal workin...  Koppelstaetter et al   \n8  Frontal Hypoactivation on Functional...         Carrion et al   \n9  Frontal Hypoactivation on Functional...         Carrion et al   \n\n                   contrast  #Foci  #Subjects  \n0           2-back > 0-back     13         31  \n1                         -     23         12  \n2             1-back > rest     58         14  \n3                         -     27         23  \n4  2-back > 1-back > 0-back     24         12  \n5           1-back > 2-back     13         49  \n6           2-back > 1-back     13         49  \n7           2-back > 0-back     16         15  \n8           2-back > 0-back     16         13  \n9           3-back > 0-back     18         13  ",
      "text/html": "<div>\n<style scoped>\n    .dataframe tbody tr th:only-of-type {\n        vertical-align: middle;\n    }\n\n    .dataframe tbody tr th {\n        vertical-align: top;\n    }\n\n    .dataframe thead th {\n        text-align: right;\n    }\n</style>\n<table border=\"1\" class=\"dataframe\">\n  <thead>\n    <tr style=\"text-align: right;\">\n      <th></th>\n      <th>title</th>\n      <th>author</th>\n      <th>contrast</th>\n      <th>#Foci</th>\n      <th>#Subjects</th>\n    </tr>\n  </thead>\n  <tbody>\n    <tr>\n      <th>0</th>\n      <td>A Rapid fMRI Task Battery for Mappin...</td>\n      <td>Drobyshevsky et al</td>\n      <td>2-back &gt; 0-back</td>\n      <td>13</td>\n      <td>31</td>\n    </tr>\n    <tr>\n      <th>1</th>\n      <td>A functional neuroimaging study of m...</td>\n      <td>Taylor et al</td>\n      <td>-</td>\n      <td>23</td>\n      <td>12</td>\n    </tr>\n    <tr>\n      <th>2</th>\n      <td>Abnormal neural activity in partiall...</td>\n      <td>Lee et al</td>\n      <td>1-back &gt; rest</td>\n      <td>58</td>\n      <td>14</td>\n    </tr>\n    <tr>\n      <th>3</th>\n      <td>Alterations in the functional neural...</td>\n      <td>Cruz et al</td>\n      <td>-</td>\n      <td>27</td>\n      <td>23</td>\n    </tr>\n    <tr>\n      <th>4</th>\n      <td>An fMRI study of working memory for ...</td>\n      <td>Beneventi et al</td>\n      <td>2-back &gt; 1-back &gt; 0-back</td>\n      <td>24</td>\n      <td>12</td>\n    </tr>\n    <tr>\n      <th>5</th>\n      <td>Anterior cingulate cortex differentl...</td>\n      <td>Di et al</td>\n      <td>1-back &gt; 2-back</td>\n      <td>13</td>\n      <td>49</td>\n    </tr>\n    <tr>\n      <th>6</th>\n      <td>Anterior cingulate cortex differentl...</td>\n      <td>Di et al</td>\n      <td>2-back &gt; 1-back</td>\n      <td>13</td>\n      <td>49</td>\n    </tr>\n    <tr>\n      <th>7</th>\n      <td>Does caffeine modulate verbal workin...</td>\n      <td>Koppelstaetter et al</td>\n      <td>2-back &gt; 0-back</td>\n      <td>16</td>\n      <td>15</td>\n    </tr>\n    <tr>\n      <th>8</th>\n      <td>Frontal Hypoactivation on Functional...</td>\n      <td>Carrion et al</td>\n      <td>2-back &gt; 0-back</td>\n      <td>16</td>\n      <td>13</td>\n    </tr>\n    <tr>\n      <th>9</th>\n      <td>Frontal Hypoactivation on Functional...</td>\n      <td>Carrion et al</td>\n      <td>3-back &gt; 0-back</td>\n      <td>18</td>\n      <td>13</td>\n    </tr>\n  </tbody>\n</table>\n</div>"
     },
     "execution_count": 909,
     "metadata": {},
     "output_type": "execute_result"
    }
   ],
   "source": [
    "df_final_wm = pd.merge(df_group_focis_wm, df_group_subjects_wm[['#Subjects']], left_index=True,\n",
    "                       right_index=True)\n",
    "df_final_wm.head(10)"
   ],
   "metadata": {
    "collapsed": false,
    "pycharm": {
     "name": "#%%\n"
    }
   }
  },
  {
   "cell_type": "code",
   "execution_count": 910,
   "outputs": [
    {
     "data": {
      "text/plain": "(24, 5)"
     },
     "execution_count": 910,
     "metadata": {},
     "output_type": "execute_result"
    }
   ],
   "source": [
    "df_final_wm.shape"
   ],
   "metadata": {
    "collapsed": false,
    "pycharm": {
     "name": "#%%\n"
    }
   }
  },
  {
   "cell_type": "markdown",
   "source": [
    "## Get set of keywords"
   ],
   "metadata": {
    "collapsed": false
   }
  },
  {
   "cell_type": "code",
   "execution_count": 911,
   "outputs": [],
   "source": [
    "# get keywords and split them\n",
    "df_group_keywords_wm = df_wm.groupby(['title', 'author', 'contrast'])['keywords'].apply(lambda x: set(x)).reset_index(\n",
    "    name='keywords_set')\n",
    "# df_group_keywords_wm.head(10)\n",
    "df_group_keywords_wm['keywords_split'] = df_group_keywords_wm['keywords_set'].apply(df_proc.split_keys)"
   ],
   "metadata": {
    "collapsed": false,
    "pycharm": {
     "name": "#%%\n"
    }
   }
  },
  {
   "cell_type": "code",
   "execution_count": 912,
   "outputs": [],
   "source": [
    "# list_key_set_wm = list(df_proc.list_of_sets_to_set(df_group_keywords_wm, 'keywords_split'))\n",
    "# list_key_set_wm\n",
    "set_key_set_wm_stimulus = {'visual word recognition',\n",
    "                           # 'reading',\n",
    "                           'verbal',\n",
    "                           'verbal pseudo-words',\n",
    "                           'visual numbers',\n",
    "                           'visual shape',\n",
    "                           'visual spatial cue',\n",
    "                           'visual faces',\n",
    "                           'visual letters',\n",
    "                           'visual object',\n",
    "                           'visual shape color',\n",
    "                           'facial expression',\n",
    "                           'visual identical shapes',\n",
    "                           'scrambled drawings'}\n",
    "set_key_set_wm_modality = {'reversal learning task',\n",
    "                           # 'one-back task',\n",
    "                           # 'two-back task',\n",
    "                           # 'three-back task',\n",
    "                           'n-back task',\n",
    "                           'experimental task',\n",
    "                           'perceptual matching task'}"
   ],
   "metadata": {
    "collapsed": false,
    "pycharm": {
     "name": "#%%\n"
    }
   }
  },
  {
   "cell_type": "code",
   "execution_count": 913,
   "outputs": [],
   "source": [
    "# keep just the needed keywords\n",
    "df_group_keywords_wm['Task Modality'] = df_group_keywords_wm['keywords_split'].apply(\n",
    "    lambda x: ', '.join(x.intersection(set_key_set_wm_modality)))\n",
    "df_group_keywords_wm['Task Stimulus'] = df_group_keywords_wm['keywords_split'].apply(\n",
    "    lambda x: ', '.join(x.intersection(set_key_set_wm_stimulus)))"
   ],
   "metadata": {
    "collapsed": false,
    "pycharm": {
     "name": "#%%\n"
    }
   }
  },
  {
   "cell_type": "code",
   "execution_count": 914,
   "outputs": [
    {
     "data": {
      "text/plain": "                                     title                author  \\\n0  A Rapid fMRI Task Battery for Mappin...    Drobyshevsky et al   \n1  A functional neuroimaging study of m...          Taylor et al   \n2  Abnormal neural activity in partiall...             Lee et al   \n3  Alterations in the functional neural...            Cruz et al   \n4  An fMRI study of working memory for ...       Beneventi et al   \n5  Anterior cingulate cortex differentl...              Di et al   \n6  Anterior cingulate cortex differentl...              Di et al   \n7  Does caffeine modulate verbal workin...  Koppelstaetter et al   \n\n                   contrast                             keywords_set  \\\n0           2-back > 0-back  {fMRI; working memory; talairach; n-...   \n1                         -  {fMRI; working memory; decision phas...   \n2             1-back > rest  {fMRI; working memory; talairach; n-...   \n3                         -  {fMRI; working memory; decision maki...   \n4  2-back > 1-back > 0-back  {fMRI; working memory; MNI; n-back t...   \n5           1-back > 2-back  {fMRI; working memory; MNI; n-back t...   \n6           2-back > 1-back  {fMRI; working memory; MNI; n-back t...   \n7           2-back > 0-back  {fMRI; working memory; talairach; n-...   \n\n                            keywords_split           Task Modality  \\\n0  {talairach, working memory, two-back...             n-back task   \n1  {working memory, visual shape, decis...             n-back task   \n2  {talairach, one-back task, working m...             n-back task   \n3  {decision making, working memory, tw...  reversal learning task   \n4  {working memory, fMRI, MNI, facial e...             n-back task   \n5  {one-back task, working memory, fMRI...             n-back task   \n6  {working memory, two-back task, MNI,...             n-back task   \n7  {talairach, working memory, two-back...             n-back task   \n\n                           Task Stimulus  \n0                         visual letters  \n1                           visual shape  \n2                         visual numbers  \n3                visual identical shapes  \n4  facial expression, scrambled drawings  \n5                         visual letters  \n6                         visual letters  \n7                                 verbal  ",
      "text/html": "<div>\n<style scoped>\n    .dataframe tbody tr th:only-of-type {\n        vertical-align: middle;\n    }\n\n    .dataframe tbody tr th {\n        vertical-align: top;\n    }\n\n    .dataframe thead th {\n        text-align: right;\n    }\n</style>\n<table border=\"1\" class=\"dataframe\">\n  <thead>\n    <tr style=\"text-align: right;\">\n      <th></th>\n      <th>title</th>\n      <th>author</th>\n      <th>contrast</th>\n      <th>keywords_set</th>\n      <th>keywords_split</th>\n      <th>Task Modality</th>\n      <th>Task Stimulus</th>\n    </tr>\n  </thead>\n  <tbody>\n    <tr>\n      <th>0</th>\n      <td>A Rapid fMRI Task Battery for Mappin...</td>\n      <td>Drobyshevsky et al</td>\n      <td>2-back &gt; 0-back</td>\n      <td>{fMRI; working memory; talairach; n-...</td>\n      <td>{talairach, working memory, two-back...</td>\n      <td>n-back task</td>\n      <td>visual letters</td>\n    </tr>\n    <tr>\n      <th>1</th>\n      <td>A functional neuroimaging study of m...</td>\n      <td>Taylor et al</td>\n      <td>-</td>\n      <td>{fMRI; working memory; decision phas...</td>\n      <td>{working memory, visual shape, decis...</td>\n      <td>n-back task</td>\n      <td>visual shape</td>\n    </tr>\n    <tr>\n      <th>2</th>\n      <td>Abnormal neural activity in partiall...</td>\n      <td>Lee et al</td>\n      <td>1-back &gt; rest</td>\n      <td>{fMRI; working memory; talairach; n-...</td>\n      <td>{talairach, one-back task, working m...</td>\n      <td>n-back task</td>\n      <td>visual numbers</td>\n    </tr>\n    <tr>\n      <th>3</th>\n      <td>Alterations in the functional neural...</td>\n      <td>Cruz et al</td>\n      <td>-</td>\n      <td>{fMRI; working memory; decision maki...</td>\n      <td>{decision making, working memory, tw...</td>\n      <td>reversal learning task</td>\n      <td>visual identical shapes</td>\n    </tr>\n    <tr>\n      <th>4</th>\n      <td>An fMRI study of working memory for ...</td>\n      <td>Beneventi et al</td>\n      <td>2-back &gt; 1-back &gt; 0-back</td>\n      <td>{fMRI; working memory; MNI; n-back t...</td>\n      <td>{working memory, fMRI, MNI, facial e...</td>\n      <td>n-back task</td>\n      <td>facial expression, scrambled drawings</td>\n    </tr>\n    <tr>\n      <th>5</th>\n      <td>Anterior cingulate cortex differentl...</td>\n      <td>Di et al</td>\n      <td>1-back &gt; 2-back</td>\n      <td>{fMRI; working memory; MNI; n-back t...</td>\n      <td>{one-back task, working memory, fMRI...</td>\n      <td>n-back task</td>\n      <td>visual letters</td>\n    </tr>\n    <tr>\n      <th>6</th>\n      <td>Anterior cingulate cortex differentl...</td>\n      <td>Di et al</td>\n      <td>2-back &gt; 1-back</td>\n      <td>{fMRI; working memory; MNI; n-back t...</td>\n      <td>{working memory, two-back task, MNI,...</td>\n      <td>n-back task</td>\n      <td>visual letters</td>\n    </tr>\n    <tr>\n      <th>7</th>\n      <td>Does caffeine modulate verbal workin...</td>\n      <td>Koppelstaetter et al</td>\n      <td>2-back &gt; 0-back</td>\n      <td>{fMRI; working memory; talairach; n-...</td>\n      <td>{talairach, working memory, two-back...</td>\n      <td>n-back task</td>\n      <td>verbal</td>\n    </tr>\n  </tbody>\n</table>\n</div>"
     },
     "execution_count": 914,
     "metadata": {},
     "output_type": "execute_result"
    }
   ],
   "source": [
    "df_group_keywords_wm.head(8)"
   ],
   "metadata": {
    "collapsed": false,
    "pycharm": {
     "name": "#%%\n"
    }
   }
  },
  {
   "cell_type": "code",
   "execution_count": 915,
   "outputs": [],
   "source": [
    "df_final_wm = pd.merge(df_final_wm, df_group_keywords_wm[['Task Modality', 'Task Stimulus']], left_index=True,\n",
    "                       right_index=True)"
   ],
   "metadata": {
    "collapsed": false,
    "pycharm": {
     "name": "#%%\n"
    }
   }
  },
  {
   "cell_type": "code",
   "execution_count": 916,
   "outputs": [
    {
     "data": {
      "text/plain": "                                      title                author  \\\n0   A Rapid fMRI Task Battery for Mappin...    Drobyshevsky et al   \n1   A functional neuroimaging study of m...          Taylor et al   \n2   Abnormal neural activity in partiall...             Lee et al   \n3   Alterations in the functional neural...            Cruz et al   \n4   An fMRI study of working memory for ...       Beneventi et al   \n5   Anterior cingulate cortex differentl...              Di et al   \n6   Anterior cingulate cortex differentl...              Di et al   \n7   Does caffeine modulate verbal workin...  Koppelstaetter et al   \n8   Frontal Hypoactivation on Functional...         Carrion et al   \n9   Frontal Hypoactivation on Functional...         Carrion et al   \n10  Inhibit  switch  and update - A with...          Rodger et al   \n\n                    contrast  #Foci  #Subjects           Task Modality  \\\n0            2-back > 0-back     13         31             n-back task   \n1                          -     23         12             n-back task   \n2              1-back > rest     58         14             n-back task   \n3                          -     27         23  reversal learning task   \n4   2-back > 1-back > 0-back     24         12             n-back task   \n5            1-back > 2-back     13         49             n-back task   \n6            2-back > 1-back     13         49             n-back task   \n7            2-back > 0-back     16         15             n-back task   \n8            2-back > 0-back     16         13             n-back task   \n9            3-back > 0-back     18         13             n-back task   \n10     n-back > control task     15         22             n-back task   \n\n                            Task Stimulus  \n0                          visual letters  \n1                            visual shape  \n2                          visual numbers  \n3                 visual identical shapes  \n4   facial expression, scrambled drawings  \n5                          visual letters  \n6                          visual letters  \n7                                  verbal  \n8                          visual numbers  \n9                          visual numbers  \n10                     visual shape color  ",
      "text/html": "<div>\n<style scoped>\n    .dataframe tbody tr th:only-of-type {\n        vertical-align: middle;\n    }\n\n    .dataframe tbody tr th {\n        vertical-align: top;\n    }\n\n    .dataframe thead th {\n        text-align: right;\n    }\n</style>\n<table border=\"1\" class=\"dataframe\">\n  <thead>\n    <tr style=\"text-align: right;\">\n      <th></th>\n      <th>title</th>\n      <th>author</th>\n      <th>contrast</th>\n      <th>#Foci</th>\n      <th>#Subjects</th>\n      <th>Task Modality</th>\n      <th>Task Stimulus</th>\n    </tr>\n  </thead>\n  <tbody>\n    <tr>\n      <th>0</th>\n      <td>A Rapid fMRI Task Battery for Mappin...</td>\n      <td>Drobyshevsky et al</td>\n      <td>2-back &gt; 0-back</td>\n      <td>13</td>\n      <td>31</td>\n      <td>n-back task</td>\n      <td>visual letters</td>\n    </tr>\n    <tr>\n      <th>1</th>\n      <td>A functional neuroimaging study of m...</td>\n      <td>Taylor et al</td>\n      <td>-</td>\n      <td>23</td>\n      <td>12</td>\n      <td>n-back task</td>\n      <td>visual shape</td>\n    </tr>\n    <tr>\n      <th>2</th>\n      <td>Abnormal neural activity in partiall...</td>\n      <td>Lee et al</td>\n      <td>1-back &gt; rest</td>\n      <td>58</td>\n      <td>14</td>\n      <td>n-back task</td>\n      <td>visual numbers</td>\n    </tr>\n    <tr>\n      <th>3</th>\n      <td>Alterations in the functional neural...</td>\n      <td>Cruz et al</td>\n      <td>-</td>\n      <td>27</td>\n      <td>23</td>\n      <td>reversal learning task</td>\n      <td>visual identical shapes</td>\n    </tr>\n    <tr>\n      <th>4</th>\n      <td>An fMRI study of working memory for ...</td>\n      <td>Beneventi et al</td>\n      <td>2-back &gt; 1-back &gt; 0-back</td>\n      <td>24</td>\n      <td>12</td>\n      <td>n-back task</td>\n      <td>facial expression, scrambled drawings</td>\n    </tr>\n    <tr>\n      <th>5</th>\n      <td>Anterior cingulate cortex differentl...</td>\n      <td>Di et al</td>\n      <td>1-back &gt; 2-back</td>\n      <td>13</td>\n      <td>49</td>\n      <td>n-back task</td>\n      <td>visual letters</td>\n    </tr>\n    <tr>\n      <th>6</th>\n      <td>Anterior cingulate cortex differentl...</td>\n      <td>Di et al</td>\n      <td>2-back &gt; 1-back</td>\n      <td>13</td>\n      <td>49</td>\n      <td>n-back task</td>\n      <td>visual letters</td>\n    </tr>\n    <tr>\n      <th>7</th>\n      <td>Does caffeine modulate verbal workin...</td>\n      <td>Koppelstaetter et al</td>\n      <td>2-back &gt; 0-back</td>\n      <td>16</td>\n      <td>15</td>\n      <td>n-back task</td>\n      <td>verbal</td>\n    </tr>\n    <tr>\n      <th>8</th>\n      <td>Frontal Hypoactivation on Functional...</td>\n      <td>Carrion et al</td>\n      <td>2-back &gt; 0-back</td>\n      <td>16</td>\n      <td>13</td>\n      <td>n-back task</td>\n      <td>visual numbers</td>\n    </tr>\n    <tr>\n      <th>9</th>\n      <td>Frontal Hypoactivation on Functional...</td>\n      <td>Carrion et al</td>\n      <td>3-back &gt; 0-back</td>\n      <td>18</td>\n      <td>13</td>\n      <td>n-back task</td>\n      <td>visual numbers</td>\n    </tr>\n    <tr>\n      <th>10</th>\n      <td>Inhibit  switch  and update - A with...</td>\n      <td>Rodger et al</td>\n      <td>n-back &gt; control task</td>\n      <td>15</td>\n      <td>22</td>\n      <td>n-back task</td>\n      <td>visual shape color</td>\n    </tr>\n  </tbody>\n</table>\n</div>"
     },
     "execution_count": 916,
     "metadata": {},
     "output_type": "execute_result"
    }
   ],
   "source": [
    "df_final_wm.head(11)"
   ],
   "metadata": {
    "collapsed": false,
    "pycharm": {
     "name": "#%%\n"
    }
   }
  },
  {
   "cell_type": "code",
   "execution_count": 916,
   "outputs": [],
   "source": [],
   "metadata": {
    "collapsed": false,
    "pycharm": {
     "name": "#%%\n"
    }
   }
  },
  {
   "cell_type": "markdown",
   "source": [
    "#### Print latex to text file - wm"
   ],
   "metadata": {
    "collapsed": false
   }
  },
  {
   "cell_type": "code",
   "execution_count": 917,
   "outputs": [
    {
     "data": {
      "text/plain": "            Author  #Foci  #Subjects                  Contrast Task Modality  \\\n4  Beneventi et al     24         12  2-back > 1-back > 0-back   n-back task   \n8    Carrion et al     16         13           2-back > 0-back   n-back task   \n\n                           Task Stimulus  \n4  facial expression, scrambled drawings  \n8                         visual numbers  ",
      "text/html": "<div>\n<style scoped>\n    .dataframe tbody tr th:only-of-type {\n        vertical-align: middle;\n    }\n\n    .dataframe tbody tr th {\n        vertical-align: top;\n    }\n\n    .dataframe thead th {\n        text-align: right;\n    }\n</style>\n<table border=\"1\" class=\"dataframe\">\n  <thead>\n    <tr style=\"text-align: right;\">\n      <th></th>\n      <th>Author</th>\n      <th>#Foci</th>\n      <th>#Subjects</th>\n      <th>Contrast</th>\n      <th>Task Modality</th>\n      <th>Task Stimulus</th>\n    </tr>\n  </thead>\n  <tbody>\n    <tr>\n      <th>4</th>\n      <td>Beneventi et al</td>\n      <td>24</td>\n      <td>12</td>\n      <td>2-back &gt; 1-back &gt; 0-back</td>\n      <td>n-back task</td>\n      <td>facial expression, scrambled drawings</td>\n    </tr>\n    <tr>\n      <th>8</th>\n      <td>Carrion et al</td>\n      <td>16</td>\n      <td>13</td>\n      <td>2-back &gt; 0-back</td>\n      <td>n-back task</td>\n      <td>visual numbers</td>\n    </tr>\n  </tbody>\n</table>\n</div>"
     },
     "execution_count": 917,
     "metadata": {},
     "output_type": "execute_result"
    }
   ],
   "source": [
    "df_final_print_wm = df_final_wm.drop(['title'], axis=1)\n",
    "df_final_print_wm = df_final_print_wm.sort_values(by=['author'])\n",
    "df_final_print_wm.rename(columns = {'author':'Author','contrast':'Contrast'}, inplace = True)\n",
    "df_final_print_wm = df_final_print_wm[['Author', '#Foci', '#Subjects', 'Contrast', 'Task Modality', 'Task Stimulus']]\n",
    "df_final_print_wm.head(2)"
   ],
   "metadata": {
    "collapsed": false,
    "pycharm": {
     "name": "#%%\n"
    }
   }
  },
  {
   "cell_type": "code",
   "execution_count": 918,
   "outputs": [
    {
     "name": "stderr",
     "output_type": "stream",
     "text": [
      "C:\\Users\\Chh\\AppData\\Local\\Temp\\ipykernel_3992\\1064497102.py:4: FutureWarning: In future versions `DataFrame.to_latex` is expected to utilise the base implementation of `Styler.to_latex` for formatting and rendering. The arguments signature may therefore change. It is recommended instead to use `DataFrame.style.to_latex` which also contains additional functionality.\n",
      "  f.write(df_final_print_wm.to_latex(index=False))\n"
     ]
    }
   ],
   "source": [
    "pd.set_option('display.max_colwidth', None)  # to show all the column values (-1)\n",
    "latex_filepath = r'../data_db/latex/wm_reports.txt'\n",
    "with open(latex_filepath, 'w') as f:\n",
    "    f.write(df_final_print_wm.to_latex(index=False))\n",
    "pd.set_option('display.max_colwidth', 40)"
   ],
   "metadata": {
    "collapsed": false,
    "pycharm": {
     "name": "#%%\n"
    }
   }
  },
  {
   "cell_type": "markdown",
   "source": [
    "### Reward magnitude and type"
   ],
   "metadata": {
    "collapsed": false
   }
  },
  {
   "cell_type": "code",
   "execution_count": 919,
   "outputs": [],
   "source": [
    "df_reward = df_data[~mask_wm]"
   ],
   "metadata": {
    "collapsed": false,
    "pycharm": {
     "name": "#%%\n"
    }
   }
  },
  {
   "cell_type": "code",
   "execution_count": 920,
   "outputs": [
    {
     "data": {
      "text/plain": "46"
     },
     "execution_count": 920,
     "metadata": {},
     "output_type": "execute_result"
    }
   ],
   "source": [
    "df_reward['title'].unique().size"
   ],
   "metadata": {
    "collapsed": false,
    "pycharm": {
     "name": "#%%\n"
    }
   }
  },
  {
   "cell_type": "code",
   "execution_count": 921,
   "outputs": [
    {
     "data": {
      "text/plain": "(1330, 26)"
     },
     "execution_count": 921,
     "metadata": {},
     "output_type": "execute_result"
    }
   ],
   "source": [
    "df_reward.shape"
   ],
   "metadata": {
    "collapsed": false,
    "pycharm": {
     "name": "#%%\n"
    }
   }
  },
  {
   "cell_type": "markdown",
   "source": [
    "#### Get set of keywords"
   ],
   "metadata": {
    "collapsed": false
   }
  },
  {
   "cell_type": "code",
   "execution_count": 922,
   "outputs": [
    {
     "name": "stderr",
     "output_type": "stream",
     "text": [
      "C:\\Users\\Chh\\AppData\\Local\\Temp\\ipykernel_3992\\3979881578.py:2: SettingWithCopyWarning: \n",
      "A value is trying to be set on a copy of a slice from a DataFrame.\n",
      "Try using .loc[row_indexer,col_indexer] = value instead\n",
      "\n",
      "See the caveats in the documentation: https://pandas.pydata.org/pandas-docs/stable/user_guide/indexing.html#returning-a-view-versus-a-copy\n",
      "  df_reward['keywords_split'] = df_reward['keywords'].apply(lambda x: df_proc.split_keys([x]))\n"
     ]
    },
    {
     "data": {
      "text/plain": "  importance          author                                    title  \\\n0         ++  Glascher et al  Determining a Role for Ventromedial ...   \n1         ++  Glascher et al  Determining a Role for Ventromedial ...   \n\n                                table_name                   contrast  \\\n0  Table 1-1 Coordinates and significan...  ar; sr > neutral activity   \n1  Table 1-1 Coordinates and significan...  ar; sr > neutral activity   \n\n                                  keywords   Name Left/Right Broadman Area  \\\n0  fMRI; decision making; outcome phase...   mofc          l            11   \n1  fMRI; decision making; outcome phase...  vmpfc          r            11   \n\n   X(R)  ...  NV  index_col  MNIX  MNIY  MNIZ   TALX    TALY    TALZ  \\\n0    -6  ... NaN          0  -6.0  24.0 -21.0 -6.436  22.720 -13.440   \n1     6  ... NaN          1   6.0  30.0  -9.0  4.724  27.408  -2.105   \n\n   significance                           keywords_split  \n0      0.000025  {outcome phase, reversal learning, d...  \n1      0.000050  {outcome phase, reversal learning, d...  \n\n[2 rows x 27 columns]",
      "text/html": "<div>\n<style scoped>\n    .dataframe tbody tr th:only-of-type {\n        vertical-align: middle;\n    }\n\n    .dataframe tbody tr th {\n        vertical-align: top;\n    }\n\n    .dataframe thead th {\n        text-align: right;\n    }\n</style>\n<table border=\"1\" class=\"dataframe\">\n  <thead>\n    <tr style=\"text-align: right;\">\n      <th></th>\n      <th>importance</th>\n      <th>author</th>\n      <th>title</th>\n      <th>table_name</th>\n      <th>contrast</th>\n      <th>keywords</th>\n      <th>Name</th>\n      <th>Left/Right</th>\n      <th>Broadman Area</th>\n      <th>X(R)</th>\n      <th>...</th>\n      <th>NV</th>\n      <th>index_col</th>\n      <th>MNIX</th>\n      <th>MNIY</th>\n      <th>MNIZ</th>\n      <th>TALX</th>\n      <th>TALY</th>\n      <th>TALZ</th>\n      <th>significance</th>\n      <th>keywords_split</th>\n    </tr>\n  </thead>\n  <tbody>\n    <tr>\n      <th>0</th>\n      <td>++</td>\n      <td>Glascher et al</td>\n      <td>Determining a Role for Ventromedial ...</td>\n      <td>Table 1-1 Coordinates and significan...</td>\n      <td>ar; sr &gt; neutral activity</td>\n      <td>fMRI; decision making; outcome phase...</td>\n      <td>mofc</td>\n      <td>l</td>\n      <td>11</td>\n      <td>-6</td>\n      <td>...</td>\n      <td>NaN</td>\n      <td>0</td>\n      <td>-6.0</td>\n      <td>24.0</td>\n      <td>-21.0</td>\n      <td>-6.436</td>\n      <td>22.720</td>\n      <td>-13.440</td>\n      <td>0.000025</td>\n      <td>{outcome phase, reversal learning, d...</td>\n    </tr>\n    <tr>\n      <th>1</th>\n      <td>++</td>\n      <td>Glascher et al</td>\n      <td>Determining a Role for Ventromedial ...</td>\n      <td>Table 1-1 Coordinates and significan...</td>\n      <td>ar; sr &gt; neutral activity</td>\n      <td>fMRI; decision making; outcome phase...</td>\n      <td>vmpfc</td>\n      <td>r</td>\n      <td>11</td>\n      <td>6</td>\n      <td>...</td>\n      <td>NaN</td>\n      <td>1</td>\n      <td>6.0</td>\n      <td>30.0</td>\n      <td>-9.0</td>\n      <td>4.724</td>\n      <td>27.408</td>\n      <td>-2.105</td>\n      <td>0.000050</td>\n      <td>{outcome phase, reversal learning, d...</td>\n    </tr>\n  </tbody>\n</table>\n<p>2 rows × 27 columns</p>\n</div>"
     },
     "execution_count": 922,
     "metadata": {},
     "output_type": "execute_result"
    }
   ],
   "source": [
    "# get keywords and split them\n",
    "df_reward['keywords_split'] = df_reward['keywords'].apply(lambda x: df_proc.split_keys([x]))\n",
    "df_reward.head(2)"
   ],
   "metadata": {
    "collapsed": false,
    "pycharm": {
     "name": "#%%\n"
    }
   }
  },
  {
   "cell_type": "markdown",
   "source": [
    "#### Create new columns"
   ],
   "metadata": {
    "collapsed": false,
    "pycharm": {
     "name": "#%% md\n"
    }
   }
  },
  {
   "cell_type": "code",
   "execution_count": 923,
   "outputs": [],
   "source": [
    "set_reward_type = {\n",
    "    'erotic reward',\n",
    "    'verbal reward',\n",
    "    'monetary and erotic reward',\n",
    "    'feedback reward',\n",
    "    'taste reward',\n",
    "    'context-dependent reward',  # maybe get it out\n",
    "    'social reward',\n",
    "    'food photo reward',\n",
    "    'monetary reward'}\n",
    "\n",
    "set_reward_contingency = {\n",
    "    # 'viewing',  ## should be where is passive\n",
    "    'passive',\n",
    "    'gambling',\n",
    "    'performance-dependent',\n",
    "    'reversal learning',\n",
    "    'n-back task'  # check this\n",
    "}\n",
    "\n",
    "set_reward_phase = {\n",
    "    'anticipation phase',\n",
    "    'decision phase',\n",
    "    'outcome phase',\n",
    "}\n",
    "\n",
    "set_reward_decision_making = {\n",
    "    'decision making'\n",
    "}"
   ],
   "metadata": {
    "collapsed": false,
    "pycharm": {
     "name": "#%%\n"
    }
   }
  },
  {
   "cell_type": "code",
   "execution_count": 924,
   "outputs": [],
   "source": [
    "set_reward_influence = {\n",
    "    'negative reward',\n",
    "    'positive reward',\n",
    "}\n",
    "set_keywords_others = {\n",
    "    'safe choice',\n",
    "    'risk choice',\n",
    "    'positive expectancy',\n",
    "    'negative expectancy',\n",
    "}"
   ],
   "metadata": {
    "collapsed": false,
    "pycharm": {
     "name": "#%%\n"
    }
   }
  },
  {
   "cell_type": "code",
   "execution_count": 925,
   "outputs": [],
   "source": [
    "df = pd.DataFrame()\n",
    "list_new_cols = ['Reward Type', 'Reward Contingency', 'Reward Phase']\n",
    "list_of_keys = [set_reward_type, set_reward_contingency, set_reward_phase]\n",
    "for col_name, set_el in zip(list_new_cols, list_of_keys):\n",
    "    df[col_name] = df_reward['keywords_split'].apply(lambda x: ', '.join(x.intersection(set_el)))"
   ],
   "metadata": {
    "collapsed": false,
    "pycharm": {
     "name": "#%%\n"
    }
   }
  },
  {
   "cell_type": "code",
   "execution_count": 926,
   "outputs": [],
   "source": [
    "df['Decision Making'] = df_reward['keywords_split'].apply(\n",
    "    lambda x: 'Choice' if set_reward_decision_making.issubset(x) else 'No Choice')"
   ],
   "metadata": {
    "collapsed": false,
    "pycharm": {
     "name": "#%%\n"
    }
   }
  },
  {
   "cell_type": "code",
   "execution_count": 927,
   "outputs": [
    {
     "data": {
      "text/plain": "  importance          author                                    title  \\\n0         ++  Glascher et al  Determining a Role for Ventromedial ...   \n1         ++  Glascher et al  Determining a Role for Ventromedial ...   \n\n                                table_name                   contrast  \\\n0  Table 1-1 Coordinates and significan...  ar; sr > neutral activity   \n1  Table 1-1 Coordinates and significan...  ar; sr > neutral activity   \n\n                                  keywords   Name Left/Right Broadman Area  \\\n0  fMRI; decision making; outcome phase...   mofc          l            11   \n1  fMRI; decision making; outcome phase...  vmpfc          r            11   \n\n   X(R)  ...  MNIZ   TALX    TALY    TALZ  significance  \\\n0    -6  ... -21.0 -6.436  22.720 -13.440      0.000025   \n1     6  ...  -9.0  4.724  27.408  -2.105      0.000050   \n\n                            keywords_split      Reward Type  \\\n0  {outcome phase, reversal learning, d...  monetary reward   \n1  {outcome phase, reversal learning, d...  monetary reward   \n\n   Reward Contingency   Reward Phase  Decision Making  \n0   reversal learning  outcome phase           Choice  \n1   reversal learning  outcome phase           Choice  \n\n[2 rows x 31 columns]",
      "text/html": "<div>\n<style scoped>\n    .dataframe tbody tr th:only-of-type {\n        vertical-align: middle;\n    }\n\n    .dataframe tbody tr th {\n        vertical-align: top;\n    }\n\n    .dataframe thead th {\n        text-align: right;\n    }\n</style>\n<table border=\"1\" class=\"dataframe\">\n  <thead>\n    <tr style=\"text-align: right;\">\n      <th></th>\n      <th>importance</th>\n      <th>author</th>\n      <th>title</th>\n      <th>table_name</th>\n      <th>contrast</th>\n      <th>keywords</th>\n      <th>Name</th>\n      <th>Left/Right</th>\n      <th>Broadman Area</th>\n      <th>X(R)</th>\n      <th>...</th>\n      <th>MNIZ</th>\n      <th>TALX</th>\n      <th>TALY</th>\n      <th>TALZ</th>\n      <th>significance</th>\n      <th>keywords_split</th>\n      <th>Reward Type</th>\n      <th>Reward Contingency</th>\n      <th>Reward Phase</th>\n      <th>Decision Making</th>\n    </tr>\n  </thead>\n  <tbody>\n    <tr>\n      <th>0</th>\n      <td>++</td>\n      <td>Glascher et al</td>\n      <td>Determining a Role for Ventromedial ...</td>\n      <td>Table 1-1 Coordinates and significan...</td>\n      <td>ar; sr &gt; neutral activity</td>\n      <td>fMRI; decision making; outcome phase...</td>\n      <td>mofc</td>\n      <td>l</td>\n      <td>11</td>\n      <td>-6</td>\n      <td>...</td>\n      <td>-21.0</td>\n      <td>-6.436</td>\n      <td>22.720</td>\n      <td>-13.440</td>\n      <td>0.000025</td>\n      <td>{outcome phase, reversal learning, d...</td>\n      <td>monetary reward</td>\n      <td>reversal learning</td>\n      <td>outcome phase</td>\n      <td>Choice</td>\n    </tr>\n    <tr>\n      <th>1</th>\n      <td>++</td>\n      <td>Glascher et al</td>\n      <td>Determining a Role for Ventromedial ...</td>\n      <td>Table 1-1 Coordinates and significan...</td>\n      <td>ar; sr &gt; neutral activity</td>\n      <td>fMRI; decision making; outcome phase...</td>\n      <td>vmpfc</td>\n      <td>r</td>\n      <td>11</td>\n      <td>6</td>\n      <td>...</td>\n      <td>-9.0</td>\n      <td>4.724</td>\n      <td>27.408</td>\n      <td>-2.105</td>\n      <td>0.000050</td>\n      <td>{outcome phase, reversal learning, d...</td>\n      <td>monetary reward</td>\n      <td>reversal learning</td>\n      <td>outcome phase</td>\n      <td>Choice</td>\n    </tr>\n  </tbody>\n</table>\n<p>2 rows × 31 columns</p>\n</div>"
     },
     "execution_count": 927,
     "metadata": {},
     "output_type": "execute_result"
    }
   ],
   "source": [
    "df.set_index(df_reward.index)\n",
    "df_reward_final = pd.merge(df_reward, df, left_index=True,\n",
    "                           right_index=True)\n",
    "df_reward_final.head(2)"
   ],
   "metadata": {
    "collapsed": false,
    "pycharm": {
     "name": "#%%\n"
    }
   }
  },
  {
   "cell_type": "code",
   "execution_count": 928,
   "outputs": [
    {
     "name": "stdout",
     "output_type": "stream",
     "text": [
      "Reward Type\n",
      "{\n",
      "  \">nan_values<\": 0,\n",
      "  \"monetary reward, verbal reward\": \"18\",\n",
      "  \"social reward, monetary reward\": \"19\",\n",
      "  \"feedback reward\": \"20\",\n",
      "  \"erotic reward\": \"20\",\n",
      "  \"monetary and erotic reward\": \"20\",\n",
      "  \"\": \"28\",\n",
      "  \"monetary reward, context-dependent reward\": \"34\",\n",
      "  \"food photo reward\": \"42\",\n",
      "  \"taste reward\": \"51\",\n",
      "  \"social reward\": \"155\",\n",
      "  \"monetary reward\": \"923\"\n",
      "}\n",
      "Reward Contingency\n",
      "{\n",
      "  \">nan_values<\": 0,\n",
      "  \"reversal learning\": \"32\",\n",
      "  \"n-back task\": \"46\",\n",
      "  \"\": \"72\",\n",
      "  \"passive\": \"210\",\n",
      "  \"gambling\": \"449\",\n",
      "  \"performance-dependent\": \"521\"\n",
      "}\n",
      "Reward Phase\n",
      "{\n",
      "  \">nan_values<\": 0,\n",
      "  \"outcome phase, anticipation phase\": \"21\",\n",
      "  \"\": \"51\",\n",
      "  \"decision phase\": \"62\",\n",
      "  \"anticipation phase\": \"356\",\n",
      "  \"outcome phase\": \"840\"\n",
      "}\n"
     ]
    }
   ],
   "source": [
    "## Check the new created keywords\n",
    "for col_name in list_new_cols:\n",
    "    counter_keywords_reward_type = data_util.df_counter(df=df_reward_final, column=col_name, order=1)\n",
    "    print(col_name)\n",
    "    print(json.dumps(counter_keywords_reward_type, indent=2, default=str))"
   ],
   "metadata": {
    "collapsed": false,
    "pycharm": {
     "name": "#%%\n"
    }
   }
  },
  {
   "cell_type": "code",
   "execution_count": 929,
   "outputs": [
    {
     "data": {
      "text/plain": "{'>nan_values<': 0, 'No Choice': 529, 'Choice': 801}"
     },
     "execution_count": 929,
     "metadata": {},
     "output_type": "execute_result"
    }
   ],
   "source": [
    "counter_keywords_reward_type = data_util.df_counter(df=df_reward_final, column='Decision Making', order=1)\n",
    "counter_keywords_reward_type"
   ],
   "metadata": {
    "collapsed": false,
    "pycharm": {
     "name": "#%%\n"
    }
   }
  },
  {
   "cell_type": "code",
   "execution_count": 930,
   "outputs": [
    {
     "data": {
      "text/plain": "                                      title                         author  \\\n28  From uncertainty to reward - BOLD ch...                    Abler et al   \n7   Beautiful Faces Have Variable Reward...                   Aharon et al   \n10  Context-dependent cortical activatio...                 Akitsuki et al   \n41  Right Ventromedial and Dorsolateral ...               Christakou et al   \n6   Are Attractive People Rewarding - Se...                 Cloutier et al   \n30  Individual differences in extraversi...                    Cohen et al   \n35  Learning to Like  A Role for Human O...                      Cox et al   \n27  Effort-Based Cost Benefit Valuation ...                  Croxson et al   \n26  Dorsal striatum responses to reward ...                  Delgado et al   \n46  Tracking the Hemodynamic Responses t...                  Delgado et al   \n15  Differential Response Patterns in th...                  Elliott et al   \n16  Dissociable Neural Responses in Huma...                  Elliott et al   \n33  Instrumental responding for rewards ...                  Elliott et al   \n44  Segregated and Integrated Coding of ...                 Fujiwara et al   \n13  Determining a Role for Ventromedial ...                 Glascher et al   \n34  Is our self based on reward - Self-r...                    Greck et al   \n43  Role of the Medial Prefrontal Cortex...                   Hauser et al   \n14  Developmental effects of decision-ma...                   Jarcho et al   \n17  Dissociating Valence of Outcome from...                 John O Doherty   \n18  Dissociating Valence of Outcome from...                 John O Doherty   \n38  Neural Responses during Anticipation...           John O Doherty et al   \n11  Cortical and limbic activation durin...                 Killgore et al   \n5   Anticipation of reward in a nonavers...                   Kirscg et al   \n25  Distributed Neural Representation of...                  Knutson et al   \n1   A region of mesial prefrontal cortex...                  Knutson et al   \n21  Dissociation of reward anticipation ...                  Knutson et al   \n3   Anticipation of Increasing Monetary ...                  Knutson et al   \n31  Individual preferences modulate ince...                  Koeneke et al   \n42  Risky Decision Making - Prefrontal C...                    Kohno et al   \n23  Distinct Roles of Prefrontal Cortica...                 Lawrence et al   \n2   Activity in human reward-sensitive b...              Nieuwenhuis et al   \n20  Dissociation of neural networks for ...               Rademacher et al   \n32  Inhibit  switch  and update - A with...                   Rodger et al   \n22  Distinct Portions of Anterior Cingul...                   Rogers et al   \n36  Monetary reward magnitude effects on...             Rosell-Negre et al   \n8   Binge-Eating Disorder  Reward Sensit...                 Schienle et al   \n12  Decreasing ventromedial prefrontal c...                Schonberg et al   \n45  The Architecture of Reward Value Cod...                Sescousse et al   \n37  Neural Coding of Reward-Prediction E...  Signe Bray and John O'Doherty   \n24  Distinct Value Signals in Anterior a...                    Smith et al   \n39  Neural substrates of reward magnitud...                    Smith et al   \n4   Anticipation of monetary and social ...            Spreckelmeyer et al   \n0   A functional neuroimaging study of m...                   Taylor et al   \n40  Reward Value Coding Distinct From Ri...                   Tobler et al   \n19  Dissociating contributions of ACC an...                  Vassena et al   \n9   Brain systems for assessing facial a...                  Winston et al   \n29  Functional Dissociations of Risk and...                      Xue et al   \n\n       Reward Contingency  #Foci  \n28  performance-dependent     43  \n7                 passive     51  \n10               gambling     35  \n41               gambling     13  \n6                 passive     19  \n30  performance-dependent     39  \n35               gambling     28  \n27                             9  \n26               gambling     12  \n46               gambling     32  \n15  performance-dependent     16  \n16               gambling     19  \n33  performance-dependent     21  \n44  performance-dependent     23  \n13      reversal learning     20  \n34               gambling     20  \n43      reversal learning     12  \n14                            63  \n17                passive      6  \n18  performance-dependent     42  \n38                passive     18  \n11                passive     30  \n5   performance-dependent     56  \n25  performance-dependent     26  \n1   performance-dependent     21  \n21  performance-dependent     23  \n3   performance-dependent     24  \n31               gambling     33  \n42               gambling     14  \n23               gambling     37  \n2                gambling     10  \n20  performance-dependent     47  \n32            n-back task     28  \n22               gambling     24  \n36  performance-dependent     11  \n8                 passive     12  \n12               gambling     28  \n45  performance-dependent     46  \n37                passive      5  \n24                passive     54  \n39               gambling     14  \n4   performance-dependent     64  \n0             n-back task     18  \n40  performance-dependent     19  \n19               gambling     78  \n9                 passive     15  \n29               gambling     52  ",
      "text/html": "<div>\n<style scoped>\n    .dataframe tbody tr th:only-of-type {\n        vertical-align: middle;\n    }\n\n    .dataframe tbody tr th {\n        vertical-align: top;\n    }\n\n    .dataframe thead th {\n        text-align: right;\n    }\n</style>\n<table border=\"1\" class=\"dataframe\">\n  <thead>\n    <tr style=\"text-align: right;\">\n      <th></th>\n      <th>title</th>\n      <th>author</th>\n      <th>Reward Contingency</th>\n      <th>#Foci</th>\n    </tr>\n  </thead>\n  <tbody>\n    <tr>\n      <th>28</th>\n      <td>From uncertainty to reward - BOLD ch...</td>\n      <td>Abler et al</td>\n      <td>performance-dependent</td>\n      <td>43</td>\n    </tr>\n    <tr>\n      <th>7</th>\n      <td>Beautiful Faces Have Variable Reward...</td>\n      <td>Aharon et al</td>\n      <td>passive</td>\n      <td>51</td>\n    </tr>\n    <tr>\n      <th>10</th>\n      <td>Context-dependent cortical activatio...</td>\n      <td>Akitsuki et al</td>\n      <td>gambling</td>\n      <td>35</td>\n    </tr>\n    <tr>\n      <th>41</th>\n      <td>Right Ventromedial and Dorsolateral ...</td>\n      <td>Christakou et al</td>\n      <td>gambling</td>\n      <td>13</td>\n    </tr>\n    <tr>\n      <th>6</th>\n      <td>Are Attractive People Rewarding - Se...</td>\n      <td>Cloutier et al</td>\n      <td>passive</td>\n      <td>19</td>\n    </tr>\n    <tr>\n      <th>30</th>\n      <td>Individual differences in extraversi...</td>\n      <td>Cohen et al</td>\n      <td>performance-dependent</td>\n      <td>39</td>\n    </tr>\n    <tr>\n      <th>35</th>\n      <td>Learning to Like  A Role for Human O...</td>\n      <td>Cox et al</td>\n      <td>gambling</td>\n      <td>28</td>\n    </tr>\n    <tr>\n      <th>27</th>\n      <td>Effort-Based Cost Benefit Valuation ...</td>\n      <td>Croxson et al</td>\n      <td></td>\n      <td>9</td>\n    </tr>\n    <tr>\n      <th>26</th>\n      <td>Dorsal striatum responses to reward ...</td>\n      <td>Delgado et al</td>\n      <td>gambling</td>\n      <td>12</td>\n    </tr>\n    <tr>\n      <th>46</th>\n      <td>Tracking the Hemodynamic Responses t...</td>\n      <td>Delgado et al</td>\n      <td>gambling</td>\n      <td>32</td>\n    </tr>\n    <tr>\n      <th>15</th>\n      <td>Differential Response Patterns in th...</td>\n      <td>Elliott et al</td>\n      <td>performance-dependent</td>\n      <td>16</td>\n    </tr>\n    <tr>\n      <th>16</th>\n      <td>Dissociable Neural Responses in Huma...</td>\n      <td>Elliott et al</td>\n      <td>gambling</td>\n      <td>19</td>\n    </tr>\n    <tr>\n      <th>33</th>\n      <td>Instrumental responding for rewards ...</td>\n      <td>Elliott et al</td>\n      <td>performance-dependent</td>\n      <td>21</td>\n    </tr>\n    <tr>\n      <th>44</th>\n      <td>Segregated and Integrated Coding of ...</td>\n      <td>Fujiwara et al</td>\n      <td>performance-dependent</td>\n      <td>23</td>\n    </tr>\n    <tr>\n      <th>13</th>\n      <td>Determining a Role for Ventromedial ...</td>\n      <td>Glascher et al</td>\n      <td>reversal learning</td>\n      <td>20</td>\n    </tr>\n    <tr>\n      <th>34</th>\n      <td>Is our self based on reward - Self-r...</td>\n      <td>Greck et al</td>\n      <td>gambling</td>\n      <td>20</td>\n    </tr>\n    <tr>\n      <th>43</th>\n      <td>Role of the Medial Prefrontal Cortex...</td>\n      <td>Hauser et al</td>\n      <td>reversal learning</td>\n      <td>12</td>\n    </tr>\n    <tr>\n      <th>14</th>\n      <td>Developmental effects of decision-ma...</td>\n      <td>Jarcho et al</td>\n      <td></td>\n      <td>63</td>\n    </tr>\n    <tr>\n      <th>17</th>\n      <td>Dissociating Valence of Outcome from...</td>\n      <td>John O Doherty</td>\n      <td>passive</td>\n      <td>6</td>\n    </tr>\n    <tr>\n      <th>18</th>\n      <td>Dissociating Valence of Outcome from...</td>\n      <td>John O Doherty</td>\n      <td>performance-dependent</td>\n      <td>42</td>\n    </tr>\n    <tr>\n      <th>38</th>\n      <td>Neural Responses during Anticipation...</td>\n      <td>John O Doherty et al</td>\n      <td>passive</td>\n      <td>18</td>\n    </tr>\n    <tr>\n      <th>11</th>\n      <td>Cortical and limbic activation durin...</td>\n      <td>Killgore et al</td>\n      <td>passive</td>\n      <td>30</td>\n    </tr>\n    <tr>\n      <th>5</th>\n      <td>Anticipation of reward in a nonavers...</td>\n      <td>Kirscg et al</td>\n      <td>performance-dependent</td>\n      <td>56</td>\n    </tr>\n    <tr>\n      <th>25</th>\n      <td>Distributed Neural Representation of...</td>\n      <td>Knutson et al</td>\n      <td>performance-dependent</td>\n      <td>26</td>\n    </tr>\n    <tr>\n      <th>1</th>\n      <td>A region of mesial prefrontal cortex...</td>\n      <td>Knutson et al</td>\n      <td>performance-dependent</td>\n      <td>21</td>\n    </tr>\n    <tr>\n      <th>21</th>\n      <td>Dissociation of reward anticipation ...</td>\n      <td>Knutson et al</td>\n      <td>performance-dependent</td>\n      <td>23</td>\n    </tr>\n    <tr>\n      <th>3</th>\n      <td>Anticipation of Increasing Monetary ...</td>\n      <td>Knutson et al</td>\n      <td>performance-dependent</td>\n      <td>24</td>\n    </tr>\n    <tr>\n      <th>31</th>\n      <td>Individual preferences modulate ince...</td>\n      <td>Koeneke et al</td>\n      <td>gambling</td>\n      <td>33</td>\n    </tr>\n    <tr>\n      <th>42</th>\n      <td>Risky Decision Making - Prefrontal C...</td>\n      <td>Kohno et al</td>\n      <td>gambling</td>\n      <td>14</td>\n    </tr>\n    <tr>\n      <th>23</th>\n      <td>Distinct Roles of Prefrontal Cortica...</td>\n      <td>Lawrence et al</td>\n      <td>gambling</td>\n      <td>37</td>\n    </tr>\n    <tr>\n      <th>2</th>\n      <td>Activity in human reward-sensitive b...</td>\n      <td>Nieuwenhuis et al</td>\n      <td>gambling</td>\n      <td>10</td>\n    </tr>\n    <tr>\n      <th>20</th>\n      <td>Dissociation of neural networks for ...</td>\n      <td>Rademacher et al</td>\n      <td>performance-dependent</td>\n      <td>47</td>\n    </tr>\n    <tr>\n      <th>32</th>\n      <td>Inhibit  switch  and update - A with...</td>\n      <td>Rodger et al</td>\n      <td>n-back task</td>\n      <td>28</td>\n    </tr>\n    <tr>\n      <th>22</th>\n      <td>Distinct Portions of Anterior Cingul...</td>\n      <td>Rogers et al</td>\n      <td>gambling</td>\n      <td>24</td>\n    </tr>\n    <tr>\n      <th>36</th>\n      <td>Monetary reward magnitude effects on...</td>\n      <td>Rosell-Negre et al</td>\n      <td>performance-dependent</td>\n      <td>11</td>\n    </tr>\n    <tr>\n      <th>8</th>\n      <td>Binge-Eating Disorder  Reward Sensit...</td>\n      <td>Schienle et al</td>\n      <td>passive</td>\n      <td>12</td>\n    </tr>\n    <tr>\n      <th>12</th>\n      <td>Decreasing ventromedial prefrontal c...</td>\n      <td>Schonberg et al</td>\n      <td>gambling</td>\n      <td>28</td>\n    </tr>\n    <tr>\n      <th>45</th>\n      <td>The Architecture of Reward Value Cod...</td>\n      <td>Sescousse et al</td>\n      <td>performance-dependent</td>\n      <td>46</td>\n    </tr>\n    <tr>\n      <th>37</th>\n      <td>Neural Coding of Reward-Prediction E...</td>\n      <td>Signe Bray and John O'Doherty</td>\n      <td>passive</td>\n      <td>5</td>\n    </tr>\n    <tr>\n      <th>24</th>\n      <td>Distinct Value Signals in Anterior a...</td>\n      <td>Smith et al</td>\n      <td>passive</td>\n      <td>54</td>\n    </tr>\n    <tr>\n      <th>39</th>\n      <td>Neural substrates of reward magnitud...</td>\n      <td>Smith et al</td>\n      <td>gambling</td>\n      <td>14</td>\n    </tr>\n    <tr>\n      <th>4</th>\n      <td>Anticipation of monetary and social ...</td>\n      <td>Spreckelmeyer et al</td>\n      <td>performance-dependent</td>\n      <td>64</td>\n    </tr>\n    <tr>\n      <th>0</th>\n      <td>A functional neuroimaging study of m...</td>\n      <td>Taylor et al</td>\n      <td>n-back task</td>\n      <td>18</td>\n    </tr>\n    <tr>\n      <th>40</th>\n      <td>Reward Value Coding Distinct From Ri...</td>\n      <td>Tobler et al</td>\n      <td>performance-dependent</td>\n      <td>19</td>\n    </tr>\n    <tr>\n      <th>19</th>\n      <td>Dissociating contributions of ACC an...</td>\n      <td>Vassena et al</td>\n      <td>gambling</td>\n      <td>78</td>\n    </tr>\n    <tr>\n      <th>9</th>\n      <td>Brain systems for assessing facial a...</td>\n      <td>Winston et al</td>\n      <td>passive</td>\n      <td>15</td>\n    </tr>\n    <tr>\n      <th>29</th>\n      <td>Functional Dissociations of Risk and...</td>\n      <td>Xue et al</td>\n      <td>gambling</td>\n      <td>52</td>\n    </tr>\n  </tbody>\n</table>\n</div>"
     },
     "execution_count": 930,
     "metadata": {},
     "output_type": "execute_result"
    }
   ],
   "source": [
    "df = df_reward_final.groupby(['title', 'author', \"Reward Contingency\"]).size().reset_index(name=\"#Foci\")\n",
    "df.sort_values(by=['author'])"
   ],
   "metadata": {
    "collapsed": false,
    "pycharm": {
     "name": "#%%\n"
    }
   }
  },
  {
   "cell_type": "code",
   "execution_count": 931,
   "outputs": [
    {
     "data": {
      "text/plain": "                                      title                         author  \\\n38  From uncertainty to reward - BOLD ch...                    Abler et al   \n37  From uncertainty to reward - BOLD ch...                    Abler et al   \n36  From uncertainty to reward - BOLD ch...                    Abler et al   \n10  Beautiful Faces Have Variable Reward...                   Aharon et al   \n13  Context-dependent cortical activatio...                 Akitsuki et al   \n54  Right Ventromedial and Dorsolateral ...               Christakou et al   \n9   Are Attractive People Rewarding - Se...                 Cloutier et al   \n41  Individual differences in extraversi...                    Cohen et al   \n40  Individual differences in extraversi...                    Cohen et al   \n47  Learning to Like  A Role for Human O...                      Cox et al   \n35  Effort-Based Cost Benefit Valuation ...                  Croxson et al   \n34  Dorsal striatum responses to reward ...                  Delgado et al   \n59  Tracking the Hemodynamic Responses t...                  Delgado et al   \n20  Differential Response Patterns in th...                  Elliott et al   \n21  Dissociable Neural Responses in Huma...                  Elliott et al   \n45  Instrumental responding for rewards ...                  Elliott et al   \n57  Segregated and Integrated Coding of ...                 Fujiwara et al   \n17  Determining a Role for Ventromedial ...                 Glascher et al   \n46  Is our self based on reward - Self-r...                    Greck et al   \n56  Role of the Medial Prefrontal Cortex...                   Hauser et al   \n18  Developmental effects of decision-ma...                   Jarcho et al   \n19  Developmental effects of decision-ma...                   Jarcho et al   \n22  Dissociating Valence of Outcome from...                 John O Doherty   \n50  Neural Responses during Anticipation...           John O Doherty et al   \n51  Neural Responses during Anticipation...           John O Doherty et al   \n14  Cortical and limbic activation durin...                 Killgore et al   \n8   Anticipation of reward in a nonavers...                   Kirscg et al   \n28  Dissociation of reward anticipation ...                  Knutson et al   \n33  Distributed Neural Representation of...                  Knutson et al   \n4   A region of mesial prefrontal cortex...                  Knutson et al   \n3   A region of mesial prefrontal cortex...                  Knutson et al   \n6   Anticipation of Increasing Monetary ...                  Knutson et al   \n27  Dissociation of reward anticipation ...                  Knutson et al   \n43  Individual preferences modulate ince...                  Koeneke et al   \n42  Individual preferences modulate ince...                  Koeneke et al   \n55  Risky Decision Making - Prefrontal C...                    Kohno et al   \n30  Distinct Roles of Prefrontal Cortica...                 Lawrence et al   \n31  Distinct Roles of Prefrontal Cortica...                 Lawrence et al   \n5   Activity in human reward-sensitive b...              Nieuwenhuis et al   \n25  Dissociation of neural networks for ...               Rademacher et al   \n26  Dissociation of neural networks for ...               Rademacher et al   \n44  Inhibit  switch  and update - A with...                   Rodger et al   \n29  Distinct Portions of Anterior Cingul...                   Rogers et al   \n48  Monetary reward magnitude effects on...             Rosell-Negre et al   \n11  Binge-Eating Disorder  Reward Sensit...                 Schienle et al   \n16  Decreasing ventromedial prefrontal c...                Schonberg et al   \n15  Decreasing ventromedial prefrontal c...                Schonberg et al   \n58  The Architecture of Reward Value Cod...                Sescousse et al   \n49  Neural Coding of Reward-Prediction E...  Signe Bray and John O'Doherty   \n32  Distinct Value Signals in Anterior a...                    Smith et al   \n52  Neural substrates of reward magnitud...                    Smith et al   \n7   Anticipation of monetary and social ...            Spreckelmeyer et al   \n1   A functional neuroimaging study of m...                   Taylor et al   \n2   A functional neuroimaging study of m...                   Taylor et al   \n0   A functional neuroimaging study of m...                   Taylor et al   \n53  Reward Value Coding Distinct From Ri...                   Tobler et al   \n23  Dissociating contributions of ACC an...                  Vassena et al   \n24  Dissociating contributions of ACC an...                  Vassena et al   \n12  Brain systems for assessing facial a...                  Winston et al   \n39  Functional Dissociations of Risk and...                      Xue et al   \n\n                         Reward Phase  #Foci  \n38  outcome phase, anticipation phase     21  \n37                      outcome phase      5  \n36                 anticipation phase     17  \n10                      outcome phase     51  \n13                      outcome phase     35  \n54                      outcome phase     13  \n9                       outcome phase     19  \n41                      outcome phase     25  \n40                 anticipation phase     14  \n47                      outcome phase     28  \n35                 anticipation phase      9  \n34                      outcome phase     12  \n59                      outcome phase     32  \n20                      outcome phase     16  \n21                      outcome phase     19  \n45                      outcome phase     21  \n57                      outcome phase     23  \n17                      outcome phase     20  \n46                      outcome phase     20  \n56                      outcome phase     12  \n18                 anticipation phase     22  \n19                      outcome phase     41  \n22                      outcome phase     48  \n50                 anticipation phase     13  \n51                      outcome phase      5  \n14                      outcome phase     30  \n8                  anticipation phase     56  \n28                      outcome phase     10  \n33                 anticipation phase     26  \n4                       outcome phase      4  \n3                  anticipation phase     17  \n6                  anticipation phase     24  \n27                 anticipation phase     13  \n43                      outcome phase     28  \n42                 anticipation phase      5  \n55                                        14  \n30                     decision phase      5  \n31                      outcome phase     32  \n5                       outcome phase     10  \n25                 anticipation phase     26  \n26                      outcome phase     21  \n44                                        28  \n29                     decision phase     24  \n48                 anticipation phase     11  \n11                      outcome phase     12  \n16                      outcome phase     11  \n15                     decision phase     17  \n58                      outcome phase     46  \n49                      outcome phase      5  \n32                      outcome phase     54  \n52                 anticipation phase     14  \n7                  anticipation phase     64  \n1                  anticipation phase      6  \n2                      decision phase      3  \n0                                          9  \n53                 anticipation phase     19  \n23                     decision phase     13  \n24                      outcome phase     65  \n12                      outcome phase     15  \n39                      outcome phase     52  ",
      "text/html": "<div>\n<style scoped>\n    .dataframe tbody tr th:only-of-type {\n        vertical-align: middle;\n    }\n\n    .dataframe tbody tr th {\n        vertical-align: top;\n    }\n\n    .dataframe thead th {\n        text-align: right;\n    }\n</style>\n<table border=\"1\" class=\"dataframe\">\n  <thead>\n    <tr style=\"text-align: right;\">\n      <th></th>\n      <th>title</th>\n      <th>author</th>\n      <th>Reward Phase</th>\n      <th>#Foci</th>\n    </tr>\n  </thead>\n  <tbody>\n    <tr>\n      <th>38</th>\n      <td>From uncertainty to reward - BOLD ch...</td>\n      <td>Abler et al</td>\n      <td>outcome phase, anticipation phase</td>\n      <td>21</td>\n    </tr>\n    <tr>\n      <th>37</th>\n      <td>From uncertainty to reward - BOLD ch...</td>\n      <td>Abler et al</td>\n      <td>outcome phase</td>\n      <td>5</td>\n    </tr>\n    <tr>\n      <th>36</th>\n      <td>From uncertainty to reward - BOLD ch...</td>\n      <td>Abler et al</td>\n      <td>anticipation phase</td>\n      <td>17</td>\n    </tr>\n    <tr>\n      <th>10</th>\n      <td>Beautiful Faces Have Variable Reward...</td>\n      <td>Aharon et al</td>\n      <td>outcome phase</td>\n      <td>51</td>\n    </tr>\n    <tr>\n      <th>13</th>\n      <td>Context-dependent cortical activatio...</td>\n      <td>Akitsuki et al</td>\n      <td>outcome phase</td>\n      <td>35</td>\n    </tr>\n    <tr>\n      <th>54</th>\n      <td>Right Ventromedial and Dorsolateral ...</td>\n      <td>Christakou et al</td>\n      <td>outcome phase</td>\n      <td>13</td>\n    </tr>\n    <tr>\n      <th>9</th>\n      <td>Are Attractive People Rewarding - Se...</td>\n      <td>Cloutier et al</td>\n      <td>outcome phase</td>\n      <td>19</td>\n    </tr>\n    <tr>\n      <th>41</th>\n      <td>Individual differences in extraversi...</td>\n      <td>Cohen et al</td>\n      <td>outcome phase</td>\n      <td>25</td>\n    </tr>\n    <tr>\n      <th>40</th>\n      <td>Individual differences in extraversi...</td>\n      <td>Cohen et al</td>\n      <td>anticipation phase</td>\n      <td>14</td>\n    </tr>\n    <tr>\n      <th>47</th>\n      <td>Learning to Like  A Role for Human O...</td>\n      <td>Cox et al</td>\n      <td>outcome phase</td>\n      <td>28</td>\n    </tr>\n    <tr>\n      <th>35</th>\n      <td>Effort-Based Cost Benefit Valuation ...</td>\n      <td>Croxson et al</td>\n      <td>anticipation phase</td>\n      <td>9</td>\n    </tr>\n    <tr>\n      <th>34</th>\n      <td>Dorsal striatum responses to reward ...</td>\n      <td>Delgado et al</td>\n      <td>outcome phase</td>\n      <td>12</td>\n    </tr>\n    <tr>\n      <th>59</th>\n      <td>Tracking the Hemodynamic Responses t...</td>\n      <td>Delgado et al</td>\n      <td>outcome phase</td>\n      <td>32</td>\n    </tr>\n    <tr>\n      <th>20</th>\n      <td>Differential Response Patterns in th...</td>\n      <td>Elliott et al</td>\n      <td>outcome phase</td>\n      <td>16</td>\n    </tr>\n    <tr>\n      <th>21</th>\n      <td>Dissociable Neural Responses in Huma...</td>\n      <td>Elliott et al</td>\n      <td>outcome phase</td>\n      <td>19</td>\n    </tr>\n    <tr>\n      <th>45</th>\n      <td>Instrumental responding for rewards ...</td>\n      <td>Elliott et al</td>\n      <td>outcome phase</td>\n      <td>21</td>\n    </tr>\n    <tr>\n      <th>57</th>\n      <td>Segregated and Integrated Coding of ...</td>\n      <td>Fujiwara et al</td>\n      <td>outcome phase</td>\n      <td>23</td>\n    </tr>\n    <tr>\n      <th>17</th>\n      <td>Determining a Role for Ventromedial ...</td>\n      <td>Glascher et al</td>\n      <td>outcome phase</td>\n      <td>20</td>\n    </tr>\n    <tr>\n      <th>46</th>\n      <td>Is our self based on reward - Self-r...</td>\n      <td>Greck et al</td>\n      <td>outcome phase</td>\n      <td>20</td>\n    </tr>\n    <tr>\n      <th>56</th>\n      <td>Role of the Medial Prefrontal Cortex...</td>\n      <td>Hauser et al</td>\n      <td>outcome phase</td>\n      <td>12</td>\n    </tr>\n    <tr>\n      <th>18</th>\n      <td>Developmental effects of decision-ma...</td>\n      <td>Jarcho et al</td>\n      <td>anticipation phase</td>\n      <td>22</td>\n    </tr>\n    <tr>\n      <th>19</th>\n      <td>Developmental effects of decision-ma...</td>\n      <td>Jarcho et al</td>\n      <td>outcome phase</td>\n      <td>41</td>\n    </tr>\n    <tr>\n      <th>22</th>\n      <td>Dissociating Valence of Outcome from...</td>\n      <td>John O Doherty</td>\n      <td>outcome phase</td>\n      <td>48</td>\n    </tr>\n    <tr>\n      <th>50</th>\n      <td>Neural Responses during Anticipation...</td>\n      <td>John O Doherty et al</td>\n      <td>anticipation phase</td>\n      <td>13</td>\n    </tr>\n    <tr>\n      <th>51</th>\n      <td>Neural Responses during Anticipation...</td>\n      <td>John O Doherty et al</td>\n      <td>outcome phase</td>\n      <td>5</td>\n    </tr>\n    <tr>\n      <th>14</th>\n      <td>Cortical and limbic activation durin...</td>\n      <td>Killgore et al</td>\n      <td>outcome phase</td>\n      <td>30</td>\n    </tr>\n    <tr>\n      <th>8</th>\n      <td>Anticipation of reward in a nonavers...</td>\n      <td>Kirscg et al</td>\n      <td>anticipation phase</td>\n      <td>56</td>\n    </tr>\n    <tr>\n      <th>28</th>\n      <td>Dissociation of reward anticipation ...</td>\n      <td>Knutson et al</td>\n      <td>outcome phase</td>\n      <td>10</td>\n    </tr>\n    <tr>\n      <th>33</th>\n      <td>Distributed Neural Representation of...</td>\n      <td>Knutson et al</td>\n      <td>anticipation phase</td>\n      <td>26</td>\n    </tr>\n    <tr>\n      <th>4</th>\n      <td>A region of mesial prefrontal cortex...</td>\n      <td>Knutson et al</td>\n      <td>outcome phase</td>\n      <td>4</td>\n    </tr>\n    <tr>\n      <th>3</th>\n      <td>A region of mesial prefrontal cortex...</td>\n      <td>Knutson et al</td>\n      <td>anticipation phase</td>\n      <td>17</td>\n    </tr>\n    <tr>\n      <th>6</th>\n      <td>Anticipation of Increasing Monetary ...</td>\n      <td>Knutson et al</td>\n      <td>anticipation phase</td>\n      <td>24</td>\n    </tr>\n    <tr>\n      <th>27</th>\n      <td>Dissociation of reward anticipation ...</td>\n      <td>Knutson et al</td>\n      <td>anticipation phase</td>\n      <td>13</td>\n    </tr>\n    <tr>\n      <th>43</th>\n      <td>Individual preferences modulate ince...</td>\n      <td>Koeneke et al</td>\n      <td>outcome phase</td>\n      <td>28</td>\n    </tr>\n    <tr>\n      <th>42</th>\n      <td>Individual preferences modulate ince...</td>\n      <td>Koeneke et al</td>\n      <td>anticipation phase</td>\n      <td>5</td>\n    </tr>\n    <tr>\n      <th>55</th>\n      <td>Risky Decision Making - Prefrontal C...</td>\n      <td>Kohno et al</td>\n      <td></td>\n      <td>14</td>\n    </tr>\n    <tr>\n      <th>30</th>\n      <td>Distinct Roles of Prefrontal Cortica...</td>\n      <td>Lawrence et al</td>\n      <td>decision phase</td>\n      <td>5</td>\n    </tr>\n    <tr>\n      <th>31</th>\n      <td>Distinct Roles of Prefrontal Cortica...</td>\n      <td>Lawrence et al</td>\n      <td>outcome phase</td>\n      <td>32</td>\n    </tr>\n    <tr>\n      <th>5</th>\n      <td>Activity in human reward-sensitive b...</td>\n      <td>Nieuwenhuis et al</td>\n      <td>outcome phase</td>\n      <td>10</td>\n    </tr>\n    <tr>\n      <th>25</th>\n      <td>Dissociation of neural networks for ...</td>\n      <td>Rademacher et al</td>\n      <td>anticipation phase</td>\n      <td>26</td>\n    </tr>\n    <tr>\n      <th>26</th>\n      <td>Dissociation of neural networks for ...</td>\n      <td>Rademacher et al</td>\n      <td>outcome phase</td>\n      <td>21</td>\n    </tr>\n    <tr>\n      <th>44</th>\n      <td>Inhibit  switch  and update - A with...</td>\n      <td>Rodger et al</td>\n      <td></td>\n      <td>28</td>\n    </tr>\n    <tr>\n      <th>29</th>\n      <td>Distinct Portions of Anterior Cingul...</td>\n      <td>Rogers et al</td>\n      <td>decision phase</td>\n      <td>24</td>\n    </tr>\n    <tr>\n      <th>48</th>\n      <td>Monetary reward magnitude effects on...</td>\n      <td>Rosell-Negre et al</td>\n      <td>anticipation phase</td>\n      <td>11</td>\n    </tr>\n    <tr>\n      <th>11</th>\n      <td>Binge-Eating Disorder  Reward Sensit...</td>\n      <td>Schienle et al</td>\n      <td>outcome phase</td>\n      <td>12</td>\n    </tr>\n    <tr>\n      <th>16</th>\n      <td>Decreasing ventromedial prefrontal c...</td>\n      <td>Schonberg et al</td>\n      <td>outcome phase</td>\n      <td>11</td>\n    </tr>\n    <tr>\n      <th>15</th>\n      <td>Decreasing ventromedial prefrontal c...</td>\n      <td>Schonberg et al</td>\n      <td>decision phase</td>\n      <td>17</td>\n    </tr>\n    <tr>\n      <th>58</th>\n      <td>The Architecture of Reward Value Cod...</td>\n      <td>Sescousse et al</td>\n      <td>outcome phase</td>\n      <td>46</td>\n    </tr>\n    <tr>\n      <th>49</th>\n      <td>Neural Coding of Reward-Prediction E...</td>\n      <td>Signe Bray and John O'Doherty</td>\n      <td>outcome phase</td>\n      <td>5</td>\n    </tr>\n    <tr>\n      <th>32</th>\n      <td>Distinct Value Signals in Anterior a...</td>\n      <td>Smith et al</td>\n      <td>outcome phase</td>\n      <td>54</td>\n    </tr>\n    <tr>\n      <th>52</th>\n      <td>Neural substrates of reward magnitud...</td>\n      <td>Smith et al</td>\n      <td>anticipation phase</td>\n      <td>14</td>\n    </tr>\n    <tr>\n      <th>7</th>\n      <td>Anticipation of monetary and social ...</td>\n      <td>Spreckelmeyer et al</td>\n      <td>anticipation phase</td>\n      <td>64</td>\n    </tr>\n    <tr>\n      <th>1</th>\n      <td>A functional neuroimaging study of m...</td>\n      <td>Taylor et al</td>\n      <td>anticipation phase</td>\n      <td>6</td>\n    </tr>\n    <tr>\n      <th>2</th>\n      <td>A functional neuroimaging study of m...</td>\n      <td>Taylor et al</td>\n      <td>decision phase</td>\n      <td>3</td>\n    </tr>\n    <tr>\n      <th>0</th>\n      <td>A functional neuroimaging study of m...</td>\n      <td>Taylor et al</td>\n      <td></td>\n      <td>9</td>\n    </tr>\n    <tr>\n      <th>53</th>\n      <td>Reward Value Coding Distinct From Ri...</td>\n      <td>Tobler et al</td>\n      <td>anticipation phase</td>\n      <td>19</td>\n    </tr>\n    <tr>\n      <th>23</th>\n      <td>Dissociating contributions of ACC an...</td>\n      <td>Vassena et al</td>\n      <td>decision phase</td>\n      <td>13</td>\n    </tr>\n    <tr>\n      <th>24</th>\n      <td>Dissociating contributions of ACC an...</td>\n      <td>Vassena et al</td>\n      <td>outcome phase</td>\n      <td>65</td>\n    </tr>\n    <tr>\n      <th>12</th>\n      <td>Brain systems for assessing facial a...</td>\n      <td>Winston et al</td>\n      <td>outcome phase</td>\n      <td>15</td>\n    </tr>\n    <tr>\n      <th>39</th>\n      <td>Functional Dissociations of Risk and...</td>\n      <td>Xue et al</td>\n      <td>outcome phase</td>\n      <td>52</td>\n    </tr>\n  </tbody>\n</table>\n</div>"
     },
     "execution_count": 931,
     "metadata": {},
     "output_type": "execute_result"
    }
   ],
   "source": [
    "df = df_reward_final.groupby(['title', 'author', \"Reward Phase\"]).size().reset_index(name=\"#Foci\")\n",
    "df.sort_values(by=['author'])"
   ],
   "metadata": {
    "collapsed": false,
    "pycharm": {
     "name": "#%%\n"
    }
   }
  },
  {
   "cell_type": "code",
   "execution_count": 932,
   "outputs": [
    {
     "data": {
      "text/plain": "                                      title          author  \\\n39  From uncertainty to reward - BOLD ch...     Abler et al   \n38  From uncertainty to reward - BOLD ch...     Abler et al   \n37  From uncertainty to reward - BOLD ch...     Abler et al   \n10  Beautiful Faces Have Variable Reward...    Aharon et al   \n13  Context-dependent cortical activatio...  Akitsuki et al   \n..                                      ...             ...   \n54  Reward Value Coding Distinct From Ri...    Tobler et al   \n24  Dissociating contributions of ACC an...   Vassena et al   \n25  Dissociating contributions of ACC an...   Vassena et al   \n12  Brain systems for assessing facial a...   Winston et al   \n40  Functional Dissociations of Risk and...       Xue et al   \n\n                         Reward Phase     Reward Contingency  #Foci  \n39  outcome phase, anticipation phase  performance-dependent     21  \n38                      outcome phase  performance-dependent      5  \n37                 anticipation phase  performance-dependent     17  \n10                      outcome phase                passive     51  \n13                      outcome phase               gambling     35  \n..                                ...                    ...    ...  \n54                 anticipation phase  performance-dependent     19  \n24                     decision phase               gambling     13  \n25                      outcome phase               gambling     65  \n12                      outcome phase                passive     15  \n40                      outcome phase               gambling     52  \n\n[61 rows x 5 columns]",
      "text/html": "<div>\n<style scoped>\n    .dataframe tbody tr th:only-of-type {\n        vertical-align: middle;\n    }\n\n    .dataframe tbody tr th {\n        vertical-align: top;\n    }\n\n    .dataframe thead th {\n        text-align: right;\n    }\n</style>\n<table border=\"1\" class=\"dataframe\">\n  <thead>\n    <tr style=\"text-align: right;\">\n      <th></th>\n      <th>title</th>\n      <th>author</th>\n      <th>Reward Phase</th>\n      <th>Reward Contingency</th>\n      <th>#Foci</th>\n    </tr>\n  </thead>\n  <tbody>\n    <tr>\n      <th>39</th>\n      <td>From uncertainty to reward - BOLD ch...</td>\n      <td>Abler et al</td>\n      <td>outcome phase, anticipation phase</td>\n      <td>performance-dependent</td>\n      <td>21</td>\n    </tr>\n    <tr>\n      <th>38</th>\n      <td>From uncertainty to reward - BOLD ch...</td>\n      <td>Abler et al</td>\n      <td>outcome phase</td>\n      <td>performance-dependent</td>\n      <td>5</td>\n    </tr>\n    <tr>\n      <th>37</th>\n      <td>From uncertainty to reward - BOLD ch...</td>\n      <td>Abler et al</td>\n      <td>anticipation phase</td>\n      <td>performance-dependent</td>\n      <td>17</td>\n    </tr>\n    <tr>\n      <th>10</th>\n      <td>Beautiful Faces Have Variable Reward...</td>\n      <td>Aharon et al</td>\n      <td>outcome phase</td>\n      <td>passive</td>\n      <td>51</td>\n    </tr>\n    <tr>\n      <th>13</th>\n      <td>Context-dependent cortical activatio...</td>\n      <td>Akitsuki et al</td>\n      <td>outcome phase</td>\n      <td>gambling</td>\n      <td>35</td>\n    </tr>\n    <tr>\n      <th>...</th>\n      <td>...</td>\n      <td>...</td>\n      <td>...</td>\n      <td>...</td>\n      <td>...</td>\n    </tr>\n    <tr>\n      <th>54</th>\n      <td>Reward Value Coding Distinct From Ri...</td>\n      <td>Tobler et al</td>\n      <td>anticipation phase</td>\n      <td>performance-dependent</td>\n      <td>19</td>\n    </tr>\n    <tr>\n      <th>24</th>\n      <td>Dissociating contributions of ACC an...</td>\n      <td>Vassena et al</td>\n      <td>decision phase</td>\n      <td>gambling</td>\n      <td>13</td>\n    </tr>\n    <tr>\n      <th>25</th>\n      <td>Dissociating contributions of ACC an...</td>\n      <td>Vassena et al</td>\n      <td>outcome phase</td>\n      <td>gambling</td>\n      <td>65</td>\n    </tr>\n    <tr>\n      <th>12</th>\n      <td>Brain systems for assessing facial a...</td>\n      <td>Winston et al</td>\n      <td>outcome phase</td>\n      <td>passive</td>\n      <td>15</td>\n    </tr>\n    <tr>\n      <th>40</th>\n      <td>Functional Dissociations of Risk and...</td>\n      <td>Xue et al</td>\n      <td>outcome phase</td>\n      <td>gambling</td>\n      <td>52</td>\n    </tr>\n  </tbody>\n</table>\n<p>61 rows × 5 columns</p>\n</div>"
     },
     "execution_count": 932,
     "metadata": {},
     "output_type": "execute_result"
    }
   ],
   "source": [
    "df = df_reward_final.groupby(['title', 'author', \"Reward Phase\", \"Reward Contingency\"]).size().reset_index(name=\"#Foci\")\n",
    "df.sort_values(by=['author'])"
   ],
   "metadata": {
    "collapsed": false,
    "pycharm": {
     "name": "#%%\n"
    }
   }
  },
  {
   "cell_type": "code",
   "execution_count": 933,
   "outputs": [],
   "source": [
    "df_final_print_reward = df_reward_final.groupby(['title', 'author', 'subjects', 'Reward Phase', 'Reward Contingency','Reward Type']).size().reset_index(name=\"#Foci\")"
   ],
   "metadata": {
    "collapsed": false,
    "pycharm": {
     "name": "#%%\n"
    }
   }
  },
  {
   "cell_type": "markdown",
   "source": [
    "#### Print latex to text file - reward"
   ],
   "metadata": {
    "collapsed": false
   }
  },
  {
   "cell_type": "code",
   "execution_count": 934,
   "outputs": [],
   "source": [
    "#rename specific column names\n",
    "df_final_print_reward.rename(columns = {'subjects':'#Subjects','title':'Title','author':'Author'}, inplace = True)\n",
    "df_final_print_reward = df_final_print_reward[['Author', '#Foci', '#Subjects', 'Reward Phase', 'Reward Contingency', 'Reward Type']]\n",
    "df_final_print_reward = df_final_print_reward.sort_values(by=['Author']).reset_index(drop=True)"
   ],
   "metadata": {
    "collapsed": false,
    "pycharm": {
     "name": "#%%\n"
    }
   }
  },
  {
   "cell_type": "code",
   "execution_count": 935,
   "outputs": [
    {
     "data": {
      "text/plain": "         Author  #Foci  #Subjects                       Reward Phase  \\\n0   Abler et al     17         15                 anticipation phase   \n1   Abler et al      5         15                      outcome phase   \n2   Abler et al     21         15  outcome phase, anticipation phase   \n3  Aharon et al     51          6                      outcome phase   \n\n      Reward Contingency      Reward Type  \n0  performance-dependent  monetary reward  \n1  performance-dependent  monetary reward  \n2  performance-dependent  monetary reward  \n3                passive    social reward  ",
      "text/html": "<div>\n<style scoped>\n    .dataframe tbody tr th:only-of-type {\n        vertical-align: middle;\n    }\n\n    .dataframe tbody tr th {\n        vertical-align: top;\n    }\n\n    .dataframe thead th {\n        text-align: right;\n    }\n</style>\n<table border=\"1\" class=\"dataframe\">\n  <thead>\n    <tr style=\"text-align: right;\">\n      <th></th>\n      <th>Author</th>\n      <th>#Foci</th>\n      <th>#Subjects</th>\n      <th>Reward Phase</th>\n      <th>Reward Contingency</th>\n      <th>Reward Type</th>\n    </tr>\n  </thead>\n  <tbody>\n    <tr>\n      <th>0</th>\n      <td>Abler et al</td>\n      <td>17</td>\n      <td>15</td>\n      <td>anticipation phase</td>\n      <td>performance-dependent</td>\n      <td>monetary reward</td>\n    </tr>\n    <tr>\n      <th>1</th>\n      <td>Abler et al</td>\n      <td>5</td>\n      <td>15</td>\n      <td>outcome phase</td>\n      <td>performance-dependent</td>\n      <td>monetary reward</td>\n    </tr>\n    <tr>\n      <th>2</th>\n      <td>Abler et al</td>\n      <td>21</td>\n      <td>15</td>\n      <td>outcome phase, anticipation phase</td>\n      <td>performance-dependent</td>\n      <td>monetary reward</td>\n    </tr>\n    <tr>\n      <th>3</th>\n      <td>Aharon et al</td>\n      <td>51</td>\n      <td>6</td>\n      <td>outcome phase</td>\n      <td>passive</td>\n      <td>social reward</td>\n    </tr>\n  </tbody>\n</table>\n</div>"
     },
     "execution_count": 935,
     "metadata": {},
     "output_type": "execute_result"
    }
   ],
   "source": [
    "df_final_print_reward.head(4)"
   ],
   "metadata": {
    "collapsed": false,
    "pycharm": {
     "name": "#%%\n"
    }
   }
  },
  {
   "cell_type": "code",
   "execution_count": 936,
   "outputs": [
    {
     "data": {
      "text/plain": "(72, 6)"
     },
     "execution_count": 936,
     "metadata": {},
     "output_type": "execute_result"
    }
   ],
   "source": [
    "df_final_print_reward.shape"
   ],
   "metadata": {
    "collapsed": false,
    "pycharm": {
     "name": "#%%\n"
    }
   }
  },
  {
   "cell_type": "code",
   "execution_count": 937,
   "outputs": [],
   "source": [
    "# pd.set_option('display.max_colwidth', None)  # to show all the column values (-1)\n",
    "# latex_filepath = r'../data_db/latex/reward_reports.txt'\n",
    "# with open(latex_filepath, 'w') as f:\n",
    "#     f.write(df_final_print_reward.to_latex(index=False))\n",
    "# pd.set_option('display.max_colwidth', 40)\n"
   ],
   "metadata": {
    "collapsed": false,
    "pycharm": {
     "name": "#%%\n"
    }
   }
  },
  {
   "cell_type": "code",
   "execution_count": 938,
   "outputs": [],
   "source": [
    "split_no = 40\n",
    "df_final_print_reward_list = [df_final_print_reward.iloc[:split_no, :], df_final_print_reward.iloc[split_no:, :]]"
   ],
   "metadata": {
    "collapsed": false,
    "pycharm": {
     "name": "#%%\n"
    }
   }
  },
  {
   "cell_type": "code",
   "execution_count": 939,
   "outputs": [
    {
     "name": "stderr",
     "output_type": "stream",
     "text": [
      "C:\\Users\\Chh\\AppData\\Local\\Temp\\ipykernel_3992\\669936339.py:5: FutureWarning: In future versions `DataFrame.to_latex` is expected to utilise the base implementation of `Styler.to_latex` for formatting and rendering. The arguments signature may therefore change. It is recommended instead to use `DataFrame.style.to_latex` which also contains additional functionality.\n",
      "  f.write(df.to_latex(index=False))\n"
     ]
    }
   ],
   "source": [
    "pd.set_option('display.max_colwidth', None)  # to show all the column values (-1)\n",
    "latex_filepath = r'../data_db/latex/reward_reports.txt'\n",
    "with open(latex_filepath, 'w') as f:\n",
    "    for df in df_final_print_reward_list:\n",
    "        f.write(df.to_latex(index=False))\n",
    "pd.set_option('display.max_colwidth', 40)"
   ],
   "metadata": {
    "collapsed": false,
    "pycharm": {
     "name": "#%%\n"
    }
   }
  },
  {
   "cell_type": "code",
   "execution_count": 939,
   "outputs": [],
   "source": [],
   "metadata": {
    "collapsed": false,
    "pycharm": {
     "name": "#%%\n"
    }
   }
  }
 ],
 "metadata": {
  "kernelspec": {
   "display_name": "Python 3",
   "language": "python",
   "name": "python3"
  },
  "language_info": {
   "codemirror_mode": {
    "name": "ipython",
    "version": 2
   },
   "file_extension": ".py",
   "mimetype": "text/x-python",
   "name": "python",
   "nbconvert_exporter": "python",
   "pygments_lexer": "ipython2",
   "version": "2.7.6"
  }
 },
 "nbformat": 4,
 "nbformat_minor": 0
}