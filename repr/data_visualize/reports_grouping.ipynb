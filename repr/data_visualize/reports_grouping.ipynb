{
 "cells": [
  {
   "cell_type": "code",
   "execution_count": 489,
   "outputs": [],
   "source": [
    "from tabulate import tabulate\n",
    "import pandas as pd\n",
    "import importlib\n",
    "import util.Data as data_util\n",
    "import util.DataframeProcess as df_proc\n",
    "import json"
   ],
   "metadata": {
    "collapsed": false,
    "pycharm": {
     "name": "#%%\n"
    }
   }
  },
  {
   "cell_type": "code",
   "execution_count": 490,
   "outputs": [
    {
     "data": {
      "text/plain": "<module 'util.DataframeProcess' from 'D:\\\\scul\\\\uaic-ub\\\\licenta\\\\code\\\\util\\\\DataframeProcess.py'>"
     },
     "execution_count": 490,
     "metadata": {},
     "output_type": "execute_result"
    }
   ],
   "source": [
    "importlib.reload(data_util)\n",
    "importlib.reload(df_proc)"
   ],
   "metadata": {
    "collapsed": false,
    "pycharm": {
     "name": "#%%\n"
    }
   }
  },
  {
   "cell_type": "code",
   "execution_count": 491,
   "outputs": [],
   "source": [
    "# pd.set_option('display.max_colwidth', None)\n",
    "# pd.set_option('display.max_colwidth', 40)"
   ],
   "metadata": {
    "collapsed": false,
    "pycharm": {
     "name": "#%%\n"
    }
   }
  },
  {
   "cell_type": "markdown",
   "source": [
    "# Data"
   ],
   "metadata": {
    "collapsed": false
   }
  },
  {
   "cell_type": "code",
   "execution_count": 492,
   "outputs": [],
   "source": [
    "csv_filename = r'../data_db/final_coordinates-conversion-v2.csv'\n",
    "df_main = data_util.import_data(csv_filename)"
   ],
   "metadata": {
    "collapsed": false,
    "pycharm": {
     "name": "#%%\n"
    }
   }
  },
  {
   "cell_type": "code",
   "execution_count": 493,
   "outputs": [
    {
     "data": {
      "text/plain": "(1827, 26)"
     },
     "execution_count": 493,
     "metadata": {},
     "output_type": "execute_result"
    }
   ],
   "source": [
    "df_data = df_main.copy()\n",
    "df_data.shape"
   ],
   "metadata": {
    "collapsed": false,
    "pycharm": {
     "name": "#%%\n"
    }
   }
  },
  {
   "cell_type": "markdown",
   "source": [
    "## all reports"
   ],
   "metadata": {
    "collapsed": false
   }
  },
  {
   "cell_type": "markdown",
   "source": [
    "## Focis number"
   ],
   "metadata": {
    "collapsed": false
   }
  },
  {
   "cell_type": "code",
   "execution_count": 494,
   "outputs": [],
   "source": [
    "#V1\n",
    "df_data['counter'] = 1\n",
    "ds_focis = df_data.groupby(['title', 'author'])['counter'].sum()"
   ],
   "metadata": {
    "collapsed": false,
    "pycharm": {
     "name": "#%%\n"
    }
   }
  },
  {
   "cell_type": "code",
   "execution_count": 495,
   "outputs": [
    {
     "name": "stdout",
     "output_type": "stream",
     "text": [
      "Count of Each group:\n"
     ]
    },
    {
     "data": {
      "text/plain": "                                      title              author  #Foci\n0   A Rapid fMRI Task Battery for Mappin...  Drobyshevsky et al     13\n1   A functional neuroimaging study of m...        Taylor et al     41\n2   A region of mesial prefrontal cortex...       Knutson et al     21\n3   Abnormal neural activity in partiall...           Lee et al     58\n4   Activity in human reward-sensitive b...   Nieuwenhuis et al     10\n..                                      ...                 ...    ...\n56  Stimulus-dependent modulation of wor...     Duggirala et al     62\n57  The Architecture of Reward Value Cod...     Sescousse et al     46\n58  The neural system that bridges rewar...        Pochon et al     43\n59  Tracking the Hemodynamic Responses t...       Delgado et al     32\n60  Working Memory Impairment in Fibromy...           Seo et al     19\n\n[61 rows x 3 columns]",
      "text/html": "<div>\n<style scoped>\n    .dataframe tbody tr th:only-of-type {\n        vertical-align: middle;\n    }\n\n    .dataframe tbody tr th {\n        vertical-align: top;\n    }\n\n    .dataframe thead th {\n        text-align: right;\n    }\n</style>\n<table border=\"1\" class=\"dataframe\">\n  <thead>\n    <tr style=\"text-align: right;\">\n      <th></th>\n      <th>title</th>\n      <th>author</th>\n      <th>#Foci</th>\n    </tr>\n  </thead>\n  <tbody>\n    <tr>\n      <th>0</th>\n      <td>A Rapid fMRI Task Battery for Mappin...</td>\n      <td>Drobyshevsky et al</td>\n      <td>13</td>\n    </tr>\n    <tr>\n      <th>1</th>\n      <td>A functional neuroimaging study of m...</td>\n      <td>Taylor et al</td>\n      <td>41</td>\n    </tr>\n    <tr>\n      <th>2</th>\n      <td>A region of mesial prefrontal cortex...</td>\n      <td>Knutson et al</td>\n      <td>21</td>\n    </tr>\n    <tr>\n      <th>3</th>\n      <td>Abnormal neural activity in partiall...</td>\n      <td>Lee et al</td>\n      <td>58</td>\n    </tr>\n    <tr>\n      <th>4</th>\n      <td>Activity in human reward-sensitive b...</td>\n      <td>Nieuwenhuis et al</td>\n      <td>10</td>\n    </tr>\n    <tr>\n      <th>...</th>\n      <td>...</td>\n      <td>...</td>\n      <td>...</td>\n    </tr>\n    <tr>\n      <th>56</th>\n      <td>Stimulus-dependent modulation of wor...</td>\n      <td>Duggirala et al</td>\n      <td>62</td>\n    </tr>\n    <tr>\n      <th>57</th>\n      <td>The Architecture of Reward Value Cod...</td>\n      <td>Sescousse et al</td>\n      <td>46</td>\n    </tr>\n    <tr>\n      <th>58</th>\n      <td>The neural system that bridges rewar...</td>\n      <td>Pochon et al</td>\n      <td>43</td>\n    </tr>\n    <tr>\n      <th>59</th>\n      <td>Tracking the Hemodynamic Responses t...</td>\n      <td>Delgado et al</td>\n      <td>32</td>\n    </tr>\n    <tr>\n      <th>60</th>\n      <td>Working Memory Impairment in Fibromy...</td>\n      <td>Seo et al</td>\n      <td>19</td>\n    </tr>\n  </tbody>\n</table>\n<p>61 rows × 3 columns</p>\n</div>"
     },
     "execution_count": 495,
     "metadata": {},
     "output_type": "execute_result"
    }
   ],
   "source": [
    "#V2\n",
    "print(\"Count of Each group:\")\n",
    "df_group_focis = df_data.groupby(['title', 'author']\n",
    "                                 ).size().reset_index(name=\"#Foci\")\n",
    "df_group_focis"
   ],
   "metadata": {
    "collapsed": false,
    "pycharm": {
     "name": "#%%\n"
    }
   }
  },
  {
   "cell_type": "markdown",
   "source": [
    "## Subjects number"
   ],
   "metadata": {
    "collapsed": false
   }
  },
  {
   "cell_type": "code",
   "execution_count": 496,
   "outputs": [],
   "source": [
    "# group_subjects = df_data.groupby(['title','author']).agg({'subjects':['mean','min','max']})\n",
    "# group_subjects = df_data.groupby(['title', 'author', 'subjects'])\n",
    "# for key, item in group_subjects:\n",
    "#     print(type(key), \"\\n\\n\")\n",
    "#     break\n",
    "\n",
    "# group_subjects.describe()"
   ],
   "metadata": {
    "collapsed": false,
    "pycharm": {
     "name": "#%%\n"
    }
   }
  },
  {
   "cell_type": "code",
   "execution_count": 497,
   "outputs": [
    {
     "data": {
      "text/plain": "                                     title              author  #Subjects\n0  A Rapid fMRI Task Battery for Mappin...  Drobyshevsky et al         31\n1  A functional neuroimaging study of m...        Taylor et al         12\n2  A region of mesial prefrontal cortex...       Knutson et al         12\n3  Abnormal neural activity in partiall...           Lee et al         14\n4  Activity in human reward-sensitive b...   Nieuwenhuis et al         14",
      "text/html": "<div>\n<style scoped>\n    .dataframe tbody tr th:only-of-type {\n        vertical-align: middle;\n    }\n\n    .dataframe tbody tr th {\n        vertical-align: top;\n    }\n\n    .dataframe thead th {\n        text-align: right;\n    }\n</style>\n<table border=\"1\" class=\"dataframe\">\n  <thead>\n    <tr style=\"text-align: right;\">\n      <th></th>\n      <th>title</th>\n      <th>author</th>\n      <th>#Subjects</th>\n    </tr>\n  </thead>\n  <tbody>\n    <tr>\n      <th>0</th>\n      <td>A Rapid fMRI Task Battery for Mappin...</td>\n      <td>Drobyshevsky et al</td>\n      <td>31</td>\n    </tr>\n    <tr>\n      <th>1</th>\n      <td>A functional neuroimaging study of m...</td>\n      <td>Taylor et al</td>\n      <td>12</td>\n    </tr>\n    <tr>\n      <th>2</th>\n      <td>A region of mesial prefrontal cortex...</td>\n      <td>Knutson et al</td>\n      <td>12</td>\n    </tr>\n    <tr>\n      <th>3</th>\n      <td>Abnormal neural activity in partiall...</td>\n      <td>Lee et al</td>\n      <td>14</td>\n    </tr>\n    <tr>\n      <th>4</th>\n      <td>Activity in human reward-sensitive b...</td>\n      <td>Nieuwenhuis et al</td>\n      <td>14</td>\n    </tr>\n  </tbody>\n</table>\n</div>"
     },
     "execution_count": 497,
     "metadata": {},
     "output_type": "execute_result"
    }
   ],
   "source": [
    "group_subjects = df_data.groupby(['title', 'author', 'subjects'])\n",
    "dict_keys_subjects = group_subjects.groups.keys()\n",
    "df_group_subjects = pd.DataFrame.from_records([*dict_keys_subjects], columns=['title', 'author', '#Subjects'])\n",
    "df_group_subjects.head()"
   ],
   "metadata": {
    "collapsed": false,
    "pycharm": {
     "name": "#%%\n"
    }
   }
  },
  {
   "cell_type": "code",
   "execution_count": 498,
   "outputs": [
    {
     "data": {
      "text/plain": "                                     title              author  #Foci  \\\n0  A Rapid fMRI Task Battery for Mappin...  Drobyshevsky et al     13   \n1  A functional neuroimaging study of m...        Taylor et al     41   \n2  A region of mesial prefrontal cortex...       Knutson et al     21   \n3  Abnormal neural activity in partiall...           Lee et al     58   \n4  Activity in human reward-sensitive b...   Nieuwenhuis et al     10   \n\n   #Subjects  \n0         31  \n1         12  \n2         12  \n3         14  \n4         14  ",
      "text/html": "<div>\n<style scoped>\n    .dataframe tbody tr th:only-of-type {\n        vertical-align: middle;\n    }\n\n    .dataframe tbody tr th {\n        vertical-align: top;\n    }\n\n    .dataframe thead th {\n        text-align: right;\n    }\n</style>\n<table border=\"1\" class=\"dataframe\">\n  <thead>\n    <tr style=\"text-align: right;\">\n      <th></th>\n      <th>title</th>\n      <th>author</th>\n      <th>#Foci</th>\n      <th>#Subjects</th>\n    </tr>\n  </thead>\n  <tbody>\n    <tr>\n      <th>0</th>\n      <td>A Rapid fMRI Task Battery for Mappin...</td>\n      <td>Drobyshevsky et al</td>\n      <td>13</td>\n      <td>31</td>\n    </tr>\n    <tr>\n      <th>1</th>\n      <td>A functional neuroimaging study of m...</td>\n      <td>Taylor et al</td>\n      <td>41</td>\n      <td>12</td>\n    </tr>\n    <tr>\n      <th>2</th>\n      <td>A region of mesial prefrontal cortex...</td>\n      <td>Knutson et al</td>\n      <td>21</td>\n      <td>12</td>\n    </tr>\n    <tr>\n      <th>3</th>\n      <td>Abnormal neural activity in partiall...</td>\n      <td>Lee et al</td>\n      <td>58</td>\n      <td>14</td>\n    </tr>\n    <tr>\n      <th>4</th>\n      <td>Activity in human reward-sensitive b...</td>\n      <td>Nieuwenhuis et al</td>\n      <td>10</td>\n      <td>14</td>\n    </tr>\n  </tbody>\n</table>\n</div>"
     },
     "execution_count": 498,
     "metadata": {},
     "output_type": "execute_result"
    }
   ],
   "source": [
    "df_final = df_group_focis.join(df_group_subjects[['title', '#Subjects']].set_index('title'), on='title')\n",
    "df_final.head()"
   ],
   "metadata": {
    "collapsed": false,
    "pycharm": {
     "name": "#%%\n"
    }
   }
  },
  {
   "cell_type": "markdown",
   "source": [
    "## Get set of contrast"
   ],
   "metadata": {
    "collapsed": false
   }
  },
  {
   "cell_type": "code",
   "execution_count": 499,
   "outputs": [],
   "source": [
    "# ds_group_contrast = df_data.groupby(['title', 'author'])['contrast'].apply(set)\n",
    "# df_group_contrast = ds_group_contrast.to_frame().reset_index()\n",
    "# df_group_contrast\n",
    "# # df[['contrast']].iloc[0][0] <- set"
   ],
   "metadata": {
    "collapsed": false,
    "pycharm": {
     "name": "#%%\n"
    }
   }
  },
  {
   "cell_type": "code",
   "execution_count": 500,
   "outputs": [
    {
     "data": {
      "text/plain": "                                     title              author  \\\n0  A Rapid fMRI Task Battery for Mappin...  Drobyshevsky et al   \n1  A functional neuroimaging study of m...        Taylor et al   \n2  A region of mesial prefrontal cortex...       Knutson et al   \n3  Abnormal neural activity in partiall...           Lee et al   \n4  Activity in human reward-sensitive b...   Nieuwenhuis et al   \n\n                             contrast_set  \n0                       {2-back > 0-back}  \n1                                     {-}  \n2  {lose > no reward, reward > no reward}  \n3                         {1-back > rest}  \n4              {high reward > low reward}  ",
      "text/html": "<div>\n<style scoped>\n    .dataframe tbody tr th:only-of-type {\n        vertical-align: middle;\n    }\n\n    .dataframe tbody tr th {\n        vertical-align: top;\n    }\n\n    .dataframe thead th {\n        text-align: right;\n    }\n</style>\n<table border=\"1\" class=\"dataframe\">\n  <thead>\n    <tr style=\"text-align: right;\">\n      <th></th>\n      <th>title</th>\n      <th>author</th>\n      <th>contrast_set</th>\n    </tr>\n  </thead>\n  <tbody>\n    <tr>\n      <th>0</th>\n      <td>A Rapid fMRI Task Battery for Mappin...</td>\n      <td>Drobyshevsky et al</td>\n      <td>{2-back &gt; 0-back}</td>\n    </tr>\n    <tr>\n      <th>1</th>\n      <td>A functional neuroimaging study of m...</td>\n      <td>Taylor et al</td>\n      <td>{-}</td>\n    </tr>\n    <tr>\n      <th>2</th>\n      <td>A region of mesial prefrontal cortex...</td>\n      <td>Knutson et al</td>\n      <td>{lose &gt; no reward, reward &gt; no reward}</td>\n    </tr>\n    <tr>\n      <th>3</th>\n      <td>Abnormal neural activity in partiall...</td>\n      <td>Lee et al</td>\n      <td>{1-back &gt; rest}</td>\n    </tr>\n    <tr>\n      <th>4</th>\n      <td>Activity in human reward-sensitive b...</td>\n      <td>Nieuwenhuis et al</td>\n      <td>{high reward &gt; low reward}</td>\n    </tr>\n  </tbody>\n</table>\n</div>"
     },
     "execution_count": 500,
     "metadata": {},
     "output_type": "execute_result"
    }
   ],
   "source": [
    "# df_group_contrast = df_data.groupby(['title', 'author'])['contrast'].apply(set).reset_index(name='contrast_set')\n",
    "df_group_contrast = df_data.groupby(['title', 'author'])['contrast'].apply(lambda x: set(x)).reset_index(\n",
    "    name='contrast_set')\n",
    "df_group_contrast.head(5)"
   ],
   "metadata": {
    "collapsed": false,
    "pycharm": {
     "name": "#%%\n"
    }
   }
  },
  {
   "cell_type": "code",
   "execution_count": 501,
   "outputs": [
    {
     "data": {
      "text/plain": "{'lose > no reward', 'reward > no reward'}"
     },
     "execution_count": 501,
     "metadata": {},
     "output_type": "execute_result"
    }
   ],
   "source": [
    "df_group_contrast[['contrast_set']].iloc[2][0]"
   ],
   "metadata": {
    "collapsed": false,
    "pycharm": {
     "name": "#%%\n"
    }
   }
  },
  {
   "cell_type": "code",
   "execution_count": 502,
   "outputs": [
    {
     "data": {
      "text/plain": "                                     title              author  #Foci  \\\n0  A Rapid fMRI Task Battery for Mappin...  Drobyshevsky et al     13   \n1  A functional neuroimaging study of m...        Taylor et al     41   \n2  A region of mesial prefrontal cortex...       Knutson et al     21   \n3  Abnormal neural activity in partiall...           Lee et al     58   \n4  Activity in human reward-sensitive b...   Nieuwenhuis et al     10   \n\n   #Subjects                            contrast_set  \n0         31                       {2-back > 0-back}  \n1         12                                     {-}  \n2         12  {lose > no reward, reward > no reward}  \n3         14                         {1-back > rest}  \n4         14              {high reward > low reward}  ",
      "text/html": "<div>\n<style scoped>\n    .dataframe tbody tr th:only-of-type {\n        vertical-align: middle;\n    }\n\n    .dataframe tbody tr th {\n        vertical-align: top;\n    }\n\n    .dataframe thead th {\n        text-align: right;\n    }\n</style>\n<table border=\"1\" class=\"dataframe\">\n  <thead>\n    <tr style=\"text-align: right;\">\n      <th></th>\n      <th>title</th>\n      <th>author</th>\n      <th>#Foci</th>\n      <th>#Subjects</th>\n      <th>contrast_set</th>\n    </tr>\n  </thead>\n  <tbody>\n    <tr>\n      <th>0</th>\n      <td>A Rapid fMRI Task Battery for Mappin...</td>\n      <td>Drobyshevsky et al</td>\n      <td>13</td>\n      <td>31</td>\n      <td>{2-back &gt; 0-back}</td>\n    </tr>\n    <tr>\n      <th>1</th>\n      <td>A functional neuroimaging study of m...</td>\n      <td>Taylor et al</td>\n      <td>41</td>\n      <td>12</td>\n      <td>{-}</td>\n    </tr>\n    <tr>\n      <th>2</th>\n      <td>A region of mesial prefrontal cortex...</td>\n      <td>Knutson et al</td>\n      <td>21</td>\n      <td>12</td>\n      <td>{lose &gt; no reward, reward &gt; no reward}</td>\n    </tr>\n    <tr>\n      <th>3</th>\n      <td>Abnormal neural activity in partiall...</td>\n      <td>Lee et al</td>\n      <td>58</td>\n      <td>14</td>\n      <td>{1-back &gt; rest}</td>\n    </tr>\n    <tr>\n      <th>4</th>\n      <td>Activity in human reward-sensitive b...</td>\n      <td>Nieuwenhuis et al</td>\n      <td>10</td>\n      <td>14</td>\n      <td>{high reward &gt; low reward}</td>\n    </tr>\n  </tbody>\n</table>\n</div>"
     },
     "execution_count": 502,
     "metadata": {},
     "output_type": "execute_result"
    }
   ],
   "source": [
    "df_final = df_final.join(df_group_contrast[['title', 'contrast_set']].set_index('title'), on='title')\n",
    "df_final.head()"
   ],
   "metadata": {
    "collapsed": false,
    "pycharm": {
     "name": "#%%\n"
    }
   }
  },
  {
   "cell_type": "markdown",
   "source": [
    "## Get set of keywords"
   ],
   "metadata": {
    "collapsed": false
   }
  },
  {
   "cell_type": "code",
   "execution_count": 503,
   "outputs": [
    {
     "data": {
      "text/plain": "                                     title              author  \\\n0  A Rapid fMRI Task Battery for Mappin...  Drobyshevsky et al   \n1  A functional neuroimaging study of m...        Taylor et al   \n2  A region of mesial prefrontal cortex...       Knutson et al   \n3  Abnormal neural activity in partiall...           Lee et al   \n4  Activity in human reward-sensitive b...   Nieuwenhuis et al   \n\n                              keywords_set  \n0  {fMRI; working memory; talairach; n-...  \n1  {fMRI; reward value; monetary reward...  \n2  {fMRI; reward value; anticipation ph...  \n3  {fMRI; working memory; talairach; n-...  \n4  {fMRI; reward magnitude; reward valu...  ",
      "text/html": "<div>\n<style scoped>\n    .dataframe tbody tr th:only-of-type {\n        vertical-align: middle;\n    }\n\n    .dataframe tbody tr th {\n        vertical-align: top;\n    }\n\n    .dataframe thead th {\n        text-align: right;\n    }\n</style>\n<table border=\"1\" class=\"dataframe\">\n  <thead>\n    <tr style=\"text-align: right;\">\n      <th></th>\n      <th>title</th>\n      <th>author</th>\n      <th>keywords_set</th>\n    </tr>\n  </thead>\n  <tbody>\n    <tr>\n      <th>0</th>\n      <td>A Rapid fMRI Task Battery for Mappin...</td>\n      <td>Drobyshevsky et al</td>\n      <td>{fMRI; working memory; talairach; n-...</td>\n    </tr>\n    <tr>\n      <th>1</th>\n      <td>A functional neuroimaging study of m...</td>\n      <td>Taylor et al</td>\n      <td>{fMRI; reward value; monetary reward...</td>\n    </tr>\n    <tr>\n      <th>2</th>\n      <td>A region of mesial prefrontal cortex...</td>\n      <td>Knutson et al</td>\n      <td>{fMRI; reward value; anticipation ph...</td>\n    </tr>\n    <tr>\n      <th>3</th>\n      <td>Abnormal neural activity in partiall...</td>\n      <td>Lee et al</td>\n      <td>{fMRI; working memory; talairach; n-...</td>\n    </tr>\n    <tr>\n      <th>4</th>\n      <td>Activity in human reward-sensitive b...</td>\n      <td>Nieuwenhuis et al</td>\n      <td>{fMRI; reward magnitude; reward valu...</td>\n    </tr>\n  </tbody>\n</table>\n</div>"
     },
     "execution_count": 503,
     "metadata": {},
     "output_type": "execute_result"
    }
   ],
   "source": [
    "#V1\n",
    "# df_group_keywords = df_data.groupby(['title', 'author'])['keywords'].apply(set).reset_index(name='keywords_set')\n",
    "df_group_keywords = df_data.groupby(['title', 'author'])['keywords'].apply(lambda x: set(x)).reset_index(\n",
    "    name='keywords_set')\n",
    "# ds_group_keywords = df_test.groupby(['title', 'author']).agg({\"keywords\": lambda x: set(x)})#%%\n",
    "\n",
    "#df_group_keywords[['keywords_set']].iloc[0][0] <- set\n",
    "df_group_keywords.head()"
   ],
   "metadata": {
    "collapsed": false,
    "pycharm": {
     "name": "#%%\n"
    }
   }
  },
  {
   "cell_type": "code",
   "execution_count": 504,
   "outputs": [
    {
     "data": {
      "text/plain": "                                     title              author  \\\n0  A Rapid fMRI Task Battery for Mappin...  Drobyshevsky et al   \n1  A functional neuroimaging study of m...        Taylor et al   \n2  A region of mesial prefrontal cortex...       Knutson et al   \n3  Abnormal neural activity in partiall...           Lee et al   \n4  Activity in human reward-sensitive b...   Nieuwenhuis et al   \n\n                              keywords_set  \\\n0  {fMRI; working memory; talairach; n-...   \n1  {fMRI; reward value; monetary reward...   \n2  {fMRI; reward value; anticipation ph...   \n3  {fMRI; working memory; talairach; n-...   \n4  {fMRI; reward magnitude; reward valu...   \n\n                            keywords_split  \n0  {fMRI, talairach, n-back task, worki...  \n1  {fMRI, monetary reward, reward value...  \n2  {fMRI, talairach, monetary reward, r...  \n3  {fMRI, talairach, n-back task, worki...  \n4  {fMRI, talairach, context-dependent ...  ",
      "text/html": "<div>\n<style scoped>\n    .dataframe tbody tr th:only-of-type {\n        vertical-align: middle;\n    }\n\n    .dataframe tbody tr th {\n        vertical-align: top;\n    }\n\n    .dataframe thead th {\n        text-align: right;\n    }\n</style>\n<table border=\"1\" class=\"dataframe\">\n  <thead>\n    <tr style=\"text-align: right;\">\n      <th></th>\n      <th>title</th>\n      <th>author</th>\n      <th>keywords_set</th>\n      <th>keywords_split</th>\n    </tr>\n  </thead>\n  <tbody>\n    <tr>\n      <th>0</th>\n      <td>A Rapid fMRI Task Battery for Mappin...</td>\n      <td>Drobyshevsky et al</td>\n      <td>{fMRI; working memory; talairach; n-...</td>\n      <td>{fMRI, talairach, n-back task, worki...</td>\n    </tr>\n    <tr>\n      <th>1</th>\n      <td>A functional neuroimaging study of m...</td>\n      <td>Taylor et al</td>\n      <td>{fMRI; reward value; monetary reward...</td>\n      <td>{fMRI, monetary reward, reward value...</td>\n    </tr>\n    <tr>\n      <th>2</th>\n      <td>A region of mesial prefrontal cortex...</td>\n      <td>Knutson et al</td>\n      <td>{fMRI; reward value; anticipation ph...</td>\n      <td>{fMRI, talairach, monetary reward, r...</td>\n    </tr>\n    <tr>\n      <th>3</th>\n      <td>Abnormal neural activity in partiall...</td>\n      <td>Lee et al</td>\n      <td>{fMRI; working memory; talairach; n-...</td>\n      <td>{fMRI, talairach, n-back task, worki...</td>\n    </tr>\n    <tr>\n      <th>4</th>\n      <td>Activity in human reward-sensitive b...</td>\n      <td>Nieuwenhuis et al</td>\n      <td>{fMRI; reward magnitude; reward valu...</td>\n      <td>{fMRI, talairach, context-dependent ...</td>\n    </tr>\n  </tbody>\n</table>\n</div>"
     },
     "execution_count": 504,
     "metadata": {},
     "output_type": "execute_result"
    }
   ],
   "source": [
    "df_group_keywords['keywords_split'] = df_group_keywords['keywords_set'].apply(df_proc.split_keys)\n",
    "df_group_keywords.head()"
   ],
   "metadata": {
    "collapsed": false,
    "pycharm": {
     "name": "#%%\n"
    }
   }
  },
  {
   "cell_type": "code",
   "execution_count": 505,
   "outputs": [
    {
     "data": {
      "text/plain": "{'fMRI',\n 'n-back task',\n 'talairach',\n 'two-back task',\n 'visual letters',\n 'working memory'}"
     },
     "execution_count": 505,
     "metadata": {},
     "output_type": "execute_result"
    }
   ],
   "source": [
    "df_group_keywords[['keywords_split']].iloc[0][0]"
   ],
   "metadata": {
    "collapsed": false,
    "pycharm": {
     "name": "#%%\n"
    }
   }
  },
  {
   "cell_type": "code",
   "execution_count": 506,
   "outputs": [
    {
     "data": {
      "text/plain": "                                     title              author  #Foci  \\\n0  A Rapid fMRI Task Battery for Mappin...  Drobyshevsky et al     13   \n1  A functional neuroimaging study of m...        Taylor et al     41   \n2  A region of mesial prefrontal cortex...       Knutson et al     21   \n\n   #Subjects                            contrast_set  \\\n0         31                       {2-back > 0-back}   \n1         12                                     {-}   \n2         12  {lose > no reward, reward > no reward}   \n\n                            keywords_split  \n0  {fMRI, talairach, n-back task, worki...  \n1  {fMRI, monetary reward, reward value...  \n2  {fMRI, talairach, monetary reward, r...  ",
      "text/html": "<div>\n<style scoped>\n    .dataframe tbody tr th:only-of-type {\n        vertical-align: middle;\n    }\n\n    .dataframe tbody tr th {\n        vertical-align: top;\n    }\n\n    .dataframe thead th {\n        text-align: right;\n    }\n</style>\n<table border=\"1\" class=\"dataframe\">\n  <thead>\n    <tr style=\"text-align: right;\">\n      <th></th>\n      <th>title</th>\n      <th>author</th>\n      <th>#Foci</th>\n      <th>#Subjects</th>\n      <th>contrast_set</th>\n      <th>keywords_split</th>\n    </tr>\n  </thead>\n  <tbody>\n    <tr>\n      <th>0</th>\n      <td>A Rapid fMRI Task Battery for Mappin...</td>\n      <td>Drobyshevsky et al</td>\n      <td>13</td>\n      <td>31</td>\n      <td>{2-back &gt; 0-back}</td>\n      <td>{fMRI, talairach, n-back task, worki...</td>\n    </tr>\n    <tr>\n      <th>1</th>\n      <td>A functional neuroimaging study of m...</td>\n      <td>Taylor et al</td>\n      <td>41</td>\n      <td>12</td>\n      <td>{-}</td>\n      <td>{fMRI, monetary reward, reward value...</td>\n    </tr>\n    <tr>\n      <th>2</th>\n      <td>A region of mesial prefrontal cortex...</td>\n      <td>Knutson et al</td>\n      <td>21</td>\n      <td>12</td>\n      <td>{lose &gt; no reward, reward &gt; no reward}</td>\n      <td>{fMRI, talairach, monetary reward, r...</td>\n    </tr>\n  </tbody>\n</table>\n</div>"
     },
     "execution_count": 506,
     "metadata": {},
     "output_type": "execute_result"
    }
   ],
   "source": [
    "df_final = df_final.join(df_group_keywords[['title', 'keywords_split']].set_index('title'), on='title')\n",
    "df_final.head(3)"
   ],
   "metadata": {
    "collapsed": false,
    "pycharm": {
     "name": "#%%\n"
    }
   }
  },
  {
   "cell_type": "code",
   "execution_count": 507,
   "outputs": [
    {
     "data": {
      "text/plain": "(61, 6)"
     },
     "execution_count": 507,
     "metadata": {},
     "output_type": "execute_result"
    }
   ],
   "source": [
    "df_final.shape"
   ],
   "metadata": {
    "collapsed": false,
    "pycharm": {
     "name": "#%%\n"
    }
   }
  },
  {
   "cell_type": "markdown",
   "source": [
    "## Print latex to text file"
   ],
   "metadata": {
    "collapsed": false
   }
  },
  {
   "cell_type": "code",
   "execution_count": 508,
   "outputs": [],
   "source": [
    "split_no = 35\n",
    "df_final_print = df_final.drop(['title'], axis=1)\n",
    "df_final_print = df_final_print.sort_values(by=['author'])\n",
    "df_final_print = [df_final_print.iloc[:split_no, :], df_final_print.iloc[split_no:, :]]"
   ],
   "metadata": {
    "collapsed": false,
    "pycharm": {
     "name": "#%%\n"
    }
   }
  },
  {
   "cell_type": "code",
   "execution_count": 509,
   "outputs": [
    {
     "data": {
      "text/plain": "             author  #Foci  #Subjects  \\\n33      Abler et al     43         15   \n12     Aharon et al     51          6   \n15   Akitsuki et al     35         36   \n6   Beneventi et al     24         12   \n34    Carrion et al     34         13   \n\n                               contrast_set  \\\n33  {expected reward > received reward, ...   \n12  {all female faces > all male faces, ...   \n15  {win after losing streak > w1, all w...   \n6                {2-back > 1-back > 0-back}   \n34       {3-back > 0-back, 2-back > 0-back}   \n\n                             keywords_split  \n33  {fMRI, anticipation phase, anova, in...  \n12  {passive, fMRI, talairach, social re...  \n15  {fMRI, talairach, monetary reward, d...  \n6   {fMRI, n-back task, working memory, ...  \n34  {fMRI, two-back task, MNI, three-bac...  ",
      "text/html": "<div>\n<style scoped>\n    .dataframe tbody tr th:only-of-type {\n        vertical-align: middle;\n    }\n\n    .dataframe tbody tr th {\n        vertical-align: top;\n    }\n\n    .dataframe thead th {\n        text-align: right;\n    }\n</style>\n<table border=\"1\" class=\"dataframe\">\n  <thead>\n    <tr style=\"text-align: right;\">\n      <th></th>\n      <th>author</th>\n      <th>#Foci</th>\n      <th>#Subjects</th>\n      <th>contrast_set</th>\n      <th>keywords_split</th>\n    </tr>\n  </thead>\n  <tbody>\n    <tr>\n      <th>33</th>\n      <td>Abler et al</td>\n      <td>43</td>\n      <td>15</td>\n      <td>{expected reward &gt; received reward, ...</td>\n      <td>{fMRI, anticipation phase, anova, in...</td>\n    </tr>\n    <tr>\n      <th>12</th>\n      <td>Aharon et al</td>\n      <td>51</td>\n      <td>6</td>\n      <td>{all female faces &gt; all male faces, ...</td>\n      <td>{passive, fMRI, talairach, social re...</td>\n    </tr>\n    <tr>\n      <th>15</th>\n      <td>Akitsuki et al</td>\n      <td>35</td>\n      <td>36</td>\n      <td>{win after losing streak &gt; w1, all w...</td>\n      <td>{fMRI, talairach, monetary reward, d...</td>\n    </tr>\n    <tr>\n      <th>6</th>\n      <td>Beneventi et al</td>\n      <td>24</td>\n      <td>12</td>\n      <td>{2-back &gt; 1-back &gt; 0-back}</td>\n      <td>{fMRI, n-back task, working memory, ...</td>\n    </tr>\n    <tr>\n      <th>34</th>\n      <td>Carrion et al</td>\n      <td>34</td>\n      <td>13</td>\n      <td>{3-back &gt; 0-back, 2-back &gt; 0-back}</td>\n      <td>{fMRI, two-back task, MNI, three-bac...</td>\n    </tr>\n  </tbody>\n</table>\n</div>"
     },
     "execution_count": 509,
     "metadata": {},
     "output_type": "execute_result"
    }
   ],
   "source": [
    "# pd.set_option('display.width', None)\n",
    "pd.set_option('display.max_colwidth', 40)\n",
    "df_final_print[0].head()"
   ],
   "metadata": {
    "collapsed": false,
    "pycharm": {
     "name": "#%%\n"
    }
   }
  },
  {
   "cell_type": "code",
   "execution_count": 510,
   "outputs": [
    {
     "name": "stderr",
     "output_type": "stream",
     "text": [
      "C:\\Users\\Chh\\AppData\\Local\\Temp\\ipykernel_31044\\1855274459.py:6: FutureWarning: In future versions `DataFrame.to_latex` is expected to utilise the base implementation of `Styler.to_latex` for formatting and rendering. The arguments signature may therefore change. It is recommended instead to use `DataFrame.style.to_latex` which also contains additional functionality.\n",
      "  f.write(df[columns_to_print].to_latex(index=False))\n",
      "C:\\Users\\Chh\\AppData\\Local\\Temp\\ipykernel_31044\\1855274459.py:6: FutureWarning: In future versions `DataFrame.to_latex` is expected to utilise the base implementation of `Styler.to_latex` for formatting and rendering. The arguments signature may therefore change. It is recommended instead to use `DataFrame.style.to_latex` which also contains additional functionality.\n",
      "  f.write(df[columns_to_print].to_latex(index=False))\n"
     ]
    }
   ],
   "source": [
    "columns_to_print = ['author', '#Foci', '#Subjects']\n",
    "pd.set_option('display.max_colwidth', None)  # to show all the column values (-1)\n",
    "latex_filepath = r'../data_db/latex/all_reports.txt'\n",
    "with open(latex_filepath, 'w') as f:\n",
    "    for df in df_final_print:\n",
    "        f.write(df[columns_to_print].to_latex(index=False))\n",
    "pd.set_option('display.max_colwidth', 40)"
   ],
   "metadata": {
    "collapsed": false,
    "pycharm": {
     "name": "#%%\n"
    }
   }
  },
  {
   "cell_type": "markdown",
   "source": [
    "## Checks"
   ],
   "metadata": {
    "collapsed": false
   }
  },
  {
   "cell_type": "markdown",
   "source": [
    "### Contrast"
   ],
   "metadata": {
    "collapsed": false
   }
  },
  {
   "cell_type": "code",
   "execution_count": 511,
   "outputs": [],
   "source": [
    "list_of_contrast_set = list(df_final['contrast_set'])"
   ],
   "metadata": {
    "collapsed": false,
    "pycharm": {
     "name": "#%%\n"
    }
   }
  },
  {
   "cell_type": "code",
   "execution_count": 512,
   "outputs": [
    {
     "data": {
      "text/plain": "79"
     },
     "execution_count": 512,
     "metadata": {},
     "output_type": "execute_result"
    }
   ],
   "source": [
    "set_all_contrasts = set()\n",
    "for s in list_of_contrast_set:\n",
    "    set_all_contrasts.update(s)\n",
    "len(set_all_contrasts)"
   ],
   "metadata": {
    "collapsed": false,
    "pycharm": {
     "name": "#%%\n"
    }
   }
  },
  {
   "cell_type": "code",
   "execution_count": 513,
   "outputs": [
    {
     "data": {
      "text/plain": "{'>nan_values<': 0,\n 'lose > no reward': 1,\n '1-back > 2-back': 1,\n 'cash-out > control': 1,\n 'response maintenance > response switch': 1,\n 'inhibiton task > control task': 1,\n 'response switch > response maintenance': 1,\n 'erotic reward > monetary reward': 1,\n 'win after losing streak > w1': 1,\n 'retrocue > precue': 1,\n 'social reward magnitude': 1,\n 'ar switch > stay and sr switch > stay': 1,\n 'low-calorie > high-calorie': 1,\n 'beautiful faces > average faces': 1,\n 'decision-making > control task': 1,\n 'negative correlation with reward level': 1,\n 'low-calorie and high-calorie': 1,\n 'movement > no movement and reward > no reward': 1,\n 'anticipation phase': 1,\n 'w1 > l1': 1,\n 'monetary reward > faces reward': 1,\n 'beautiful male > average male': 1,\n 'ar; sr > neutral activity': 1,\n 'sub-dif > frame-dif': 1,\n 'reward during run of success': 1,\n 'monetary reward magnitude': 1,\n 'average female > average male': 1,\n 'win modulation': 1,\n 'disadvantageous > advantageous': 1,\n 'expected reward > received reward and control > adhd': 1,\n 'task switching > control task': 1,\n 'n-back > control task': 1,\n 'lose modulation': 1,\n 'all female faces > all male faces': 1,\n 'punishment > no reward': 1,\n 'monetary reward > social reward': 1,\n 'social reward > monetary reward': 1,\n 'lose > win': 1,\n 'l4 > l1': 1,\n 'high reward > high loss': 1,\n 'stroop block > baseline': 1,\n 'win > lose and risk > safe': 1,\n 'reward > negative feedback': 1,\n '2-back > 1-back': 1,\n 'risky gambles > safe gambles': 1,\n '1-back > rest': 1,\n 'w4 > w1': 1,\n 'loss after winning streak > l1': 1,\n 'movement > no movement': 1,\n 'sub-dif > baseline': 1,\n 'explosion > control': 1,\n 'high-calorie > low-calorie': 1,\n 'reward > punishment': 1,\n 'all w > all l': 1,\n 'choice > no choice': 1,\n 'reward during run of success and penalty during run of failure': 1,\n 'sub-id > baseline': 1,\n 'retrocue and precue': 1,\n 'small incentives > baseline': 1,\n 'penalty during run of failure': 1,\n 'pumps > control': 1,\n 'advantageous > disadvantageous': 1,\n 'monetary reward > erotic reward': 1,\n 'punishment > reward': 1,\n 'large incentives > baseline': 1,\n 'precue > retrocue': 1,\n 'beautiful female > beautiful male': 1,\n '3-back > 0-back': 2,\n 'low probability > high probability': 2,\n '2-back > 1-back > 0-back': 2,\n 'high probability > low probability': 2,\n '3-back > 2-back > 1-back > 0-back': 2,\n 'received reward > expected reward': 2,\n 'risk > safe': 4,\n 'expected reward > received reward': 4,\n 'win > lose': 6,\n '-': 6,\n '2-back > 0-back': 6,\n 'reward > no reward': 13,\n 'high reward > low reward': 15}"
     },
     "execution_count": 513,
     "metadata": {},
     "output_type": "execute_result"
    }
   ],
   "source": [
    "counter_contrast = data_util.df_counter(df_final.explode('contrast_set'), 'contrast_set',\n",
    "                                        set_keywords=set_all_contrasts, order=1)\n",
    "counter_contrast"
   ],
   "metadata": {
    "collapsed": false,
    "pycharm": {
     "name": "#%%\n"
    }
   }
  },
  {
   "cell_type": "markdown",
   "source": [
    "### keywords"
   ],
   "metadata": {
    "collapsed": false
   }
  },
  {
   "cell_type": "code",
   "execution_count": 514,
   "outputs": [],
   "source": [
    "list_of_keywords_set = list(df_final['keywords_split'])"
   ],
   "metadata": {
    "collapsed": false,
    "pycharm": {
     "name": "#%%\n"
    }
   }
  },
  {
   "cell_type": "code",
   "execution_count": 515,
   "outputs": [
    {
     "data": {
      "text/plain": "96"
     },
     "execution_count": 515,
     "metadata": {},
     "output_type": "execute_result"
    }
   ],
   "source": [
    "set_all_keywords = set()\n",
    "for s in list_of_keywords_set:\n",
    "    set_all_keywords.update(s)\n",
    "len(set_all_keywords)"
   ],
   "metadata": {
    "collapsed": false,
    "pycharm": {
     "name": "#%%\n"
    }
   }
  },
  {
   "cell_type": "code",
   "execution_count": 516,
   "outputs": [
    {
     "data": {
      "text/plain": "{'>nan_values<': 0,\n 'verbal pseudo-words': 1,\n 'potential loss': 1,\n 'response maintenance': 1,\n 'anova': 1,\n 'increasing reward magnitude': 1,\n 'increasing reward uncertainty': 1,\n 'effect of reward': 1,\n 'chocolate bars': 1,\n 'time effect': 1,\n 'reinforcement learning': 1,\n 'visual shape color': 1,\n 'high calorie': 1,\n 'small incentive': 1,\n 'scrambled drawings': 1,\n 'time conditioning': 1,\n 'movement': 1,\n 'reversal learning task': 1,\n 'high vs low calorie food': 1,\n 'Sub-Id': 1,\n 'adult': 1,\n 'perceptual matching task': 1,\n 'inhibition': 1,\n 'visual spatial cue': 1,\n 'visual color pies with probabilities': 1,\n 'verbal reward': 1,\n 'modelling prediction error': 1,\n 'feedback reward': 1,\n 'precue': 1,\n 'experimental task': 1,\n 'conditioning task': 1,\n 'monetary and erotic reward': 1,\n 'two and four choice reversal learning task': 1,\n 'high incentive': 1,\n 'positive expectancy': 1,\n 'erotic reward': 1,\n 'cups task': 1,\n 'safe choice': 1,\n 'Stroop task': 1,\n 'visual identical shapes': 1,\n 'decreasing activation': 1,\n 'reading': 1,\n 'fractal image': 1,\n 'dopamine': 1,\n 'Sub-Dif': 1,\n 'visual faces': 1,\n 'response switching': 1,\n 'retrocue': 1,\n 'verbal': 1,\n 'probability': 1,\n 'young': 1,\n 'increasing activation': 1,\n 'visual cue': 1,\n 'extraversion': 1,\n 'facial expression': 1,\n 'low calorie': 1,\n 'visual shape': 1,\n 'negative expectancy': 1,\n 'potential gain': 1,\n 'taste reward': 2,\n 'visual cards': 2,\n 'SID': 2,\n 'high gain vs high loss': 2,\n 'Balloon Analog Risk Task': 2,\n 'visual word recognition': 2,\n 'visual numbers': 2,\n 'reversal learning': 2,\n 'face stimuli': 2,\n 'one-back task': 2,\n 'food': 2,\n 'three-back task': 2,\n 'task switching': 3,\n 'context-dependent reward': 3,\n 'visual object': 4,\n 'decision phase': 4,\n 'risk choice': 5,\n 'visual letters': 6,\n 'negative reward': 6,\n 'passive': 7,\n 'viewing': 7,\n 'MID': 7,\n 'two-back task': 7,\n 'social reward': 7,\n 'performance-dependent': 11,\n 'positive reward': 12,\n 'gambling': 13,\n 'n-back task': 14,\n 'anticipation phase': 16,\n 'reward magnitude': 16,\n 'working memory': 17,\n 'reward value': 19,\n 'talairach': 26,\n 'decision making': 30,\n 'outcome phase': 32,\n 'MNI': 35,\n 'monetary reward': 37,\n 'fMRI': 61}"
     },
     "execution_count": 516,
     "metadata": {},
     "output_type": "execute_result"
    }
   ],
   "source": [
    "counter_keywords = data_util.df_counter(df_final.explode('keywords_split'), 'keywords_split',\n",
    "                                        set_keywords=set_all_keywords, order=1)\n",
    "counter_keywords"
   ],
   "metadata": {
    "collapsed": false,
    "pycharm": {
     "name": "#%%\n"
    }
   }
  },
  {
   "cell_type": "markdown",
   "source": [
    "### Check contains/not contains"
   ],
   "metadata": {
    "collapsed": false
   }
  },
  {
   "cell_type": "code",
   "execution_count": 517,
   "outputs": [],
   "source": [
    "df_checks = df_final.copy()"
   ],
   "metadata": {
    "collapsed": false,
    "pycharm": {
     "name": "#%%\n"
    }
   }
  },
  {
   "cell_type": "code",
   "execution_count": 518,
   "outputs": [
    {
     "name": "stdout",
     "output_type": "stream",
     "text": [
      "    title                                                                                                                                                            author                           #Foci    #Subjects  contrast_set                                                                                                                                                                                               keywords_split\n",
      "--  ---------------------------------------------------------------------------------------------------------------------------------------------------------------  -----------------------------  -------  -----------  ---------------------------------------------------------------------------------------------------------------------------------------------------------------------------------------------------------  ----------------------------------------------------------------------------------------------------------------------------------------------------------------------------------------------------------------------------------------------------------------\n",
      " 4  Activity in human reward-sensitive brain areas is strongly context dependent                                                                                     Nieuwenhuis et al                   10           14  {'high reward > low reward'}                                                                                                                                                                               {'fMRI', 'talairach', 'context-dependent reward', 'positive reward', 'monetary reward', 'reward value', 'decision making', 'outcome phase', 'gambling', 'reward magnitude', 'high gain vs high loss'}\n",
      " 8  Anticipation of Increasing Monetary Reward Selectively Recruits Nucleus Accumbens                                                                                Knutson et al                       24            8  {'punishment > no reward', 'high reward > low reward', 'reward > no reward'}                                                                                                                               {'fMRI', 'talairach', 'monetary reward', 'anticipation phase', 'MID', 'reward magnitude'}\n",
      " 9  Anticipation of monetary and social reward differently activates mesolimbic brain structures in men and women                                                    Spreckelmeyer et al                 64           32  {'reward > no reward', 'high reward > low reward'}                                                                                                                                                         {'fMRI', 'talairach', 'monetary reward', 'reward value', 'anticipation phase', 'MID', 'SID', 'social reward'}\n",
      "11  Are Attractive People Rewarding - Sex Differences in the Neural Substrates of Facial Attractiveness                                                              Cloutier et al                      19           48  {'high reward > low reward'}                                                                                                                                                                               {'fMRI', 'talairach', 'face stimuli', 'reward value', 'viewing', 'outcome phase', 'passive', 'social reward'}\n",
      "14  Brain systems for assessing facial attractiveness                                                                                                                Winston et al                       15           26  {'high reward > low reward'}                                                                                                                                                                               {'fMRI', 'reward value', 'MNI', 'decision making', 'viewing', 'outcome phase', 'passive', 'social reward'}\n",
      "21  Dissociable Neural Responses in Human Reward Systems                                                                                                             Elliott et al                       19            9  {'reward during run of success and penalty during run of failure', 'high reward > low reward', 'penalty during run of failure', 'reward during run of success', 'negative correlation with reward level'}  {'fMRI', 'talairach', 'negative reward', 'context-dependent reward', 'positive reward', 'monetary reward', 'reward value', 'decision making', 'outcome phase', 'gambling', 'reward magnitude'}\n",
      "25  Dissociation of reward anticipation and outcome with event-related fMRI                                                                                          Knutson et al                       23            9  {'high reward > low reward', 'reward > no reward'}                                                                                                                                                         {'fMRI', 'talairach', 'monetary reward', 'anticipation phase', 'outcome phase', 'MID', 'reward magnitude', 'performance-dependent'}\n",
      "26  Distinct Portions of Anterior Cingulate Cortex and Medial Prefrontal Cortex Are Activated by Reward Processing in Separable Phases of Decision-Making Cognition  Rogers et al                        24           14  {'high reward > low reward', 'win > lose'}                                                                                                                                                                 {'fMRI', 'decision phase', 'monetary reward', 'gambling', 'positive reward', 'MNI', 'decision making'}\n",
      "29  Distributed Neural Representation of Expected Value                                                                                                              Knutson et al                       26           14  {'high probability > low probability', 'high reward > low reward'}                                                                                                                                         {'fMRI', 'talairach', 'monetary reward', 'reward value', 'probability', 'MID', 'reward magnitude'}\n",
      "31  Dorsal striatum responses to reward and punishment - Effects of valence and magnitude manipulations                                                              Delgado et al                       12           18  {'high reward > low reward'}                                                                                                                                                                               {'fMRI', 'talairach', 'monetary reward', 'gambling', 'reward magnitude', 'outcome phase'}\n",
      "32  Effort-Based Cost Benefit Valuation and the Human Brain                                                                                                          Croxson et al                        9           19  {'high reward > low reward'}                                                                                                                                                                               {'fMRI', 'monetary reward', 'anticipation phase', 'reward magnitude', 'MNI'}\n",
      "33  From uncertainty to reward - BOLD characteristics differentiate signaling pathways                                                                               Abler et al                         43           15  {'expected reward > received reward', 'high reward > low reward', 'risk > safe'}                                                                                                                           {'fMRI', 'anticipation phase', 'anova', 'increasing reward magnitude', 'MNI', 'increasing reward uncertainty', 'performance-dependent', 'modelling prediction error', 'monetary reward', 'reward value', 'decision making', 'outcome phase', 'reward magnitude'}\n",
      "44  Neural Coding of Reward-Prediction Error Signals During Classical Conditioning With Attractive Faces                                                             Signe Bray and John O'Doherty        5           23  {'high reward > low reward'}                                                                                                                                                                               {'passive', 'fMRI', 'face stimuli', 'viewing', 'social reward', 'MNI', 'outcome phase'}\n",
      "46  Neural substrates of reward magnitude, probability, and risk during a wheel of fortune decision-making task                                                      Smith et al                         14           25  {'risk > safe', 'high reward > low reward', 'low probability > high probability'}                                                                                                                          {'fMRI', 'talairach', 'monetary reward', 'gambling', 'anticipation phase', 'reward magnitude', 'decision making'}\n",
      "50  Reward Value Coding Distinct From Risk Attitude-Related Uncertainty Coding in Human Reward Systems                                                               Tobler et al                        19           16  {'high probability > low probability', 'expected reward > received reward', 'high reward > low reward'}                                                                                                    {'fMRI', 'monetary reward', 'reward value', 'safe choice', 'anticipation phase', 'MNI', 'decision making', 'reward magnitude'}\n"
     ]
    }
   ],
   "source": [
    "############\n",
    "check_set = {'high reward > low reward'}\n",
    "mask = df_proc.check_column_elem(df=df_checks, colummn_name='contrast_set', check_set=check_set)\n",
    "with pd.option_context('display.max_colwidth', None):  # to show all the column values\n",
    "    print(tabulate(df_checks[mask], headers='keys'))"
   ],
   "metadata": {
    "collapsed": false,
    "pycharm": {
     "name": "#%%\n"
    }
   }
  },
  {
   "cell_type": "markdown",
   "source": [
    "***"
   ],
   "metadata": {
    "collapsed": false
   }
  },
  {
   "cell_type": "markdown",
   "source": [
    "## Split wm and rest"
   ],
   "metadata": {
    "collapsed": false,
    "pycharm": {
     "name": "#%% md\n"
    }
   }
  },
  {
   "cell_type": "code",
   "execution_count": 519,
   "outputs": [],
   "source": [
    "df_data = df_main.copy()\n",
    "mask_wm = df_data['keywords'].str.contains('working memory')"
   ],
   "metadata": {
    "collapsed": false,
    "pycharm": {
     "name": "#%%\n"
    }
   }
  },
  {
   "cell_type": "markdown",
   "source": [
    "### Working Memory"
   ],
   "metadata": {
    "collapsed": false
   }
  },
  {
   "cell_type": "code",
   "execution_count": 520,
   "outputs": [],
   "source": [
    "df_wm = df_data[mask_wm]"
   ],
   "metadata": {
    "collapsed": false,
    "pycharm": {
     "name": "#%%\n"
    }
   }
  },
  {
   "cell_type": "code",
   "execution_count": 521,
   "outputs": [
    {
     "data": {
      "text/plain": "17"
     },
     "execution_count": 521,
     "metadata": {},
     "output_type": "execute_result"
    }
   ],
   "source": [
    "df_wm['title'].unique().size"
   ],
   "metadata": {
    "collapsed": false,
    "pycharm": {
     "name": "#%%\n"
    }
   }
  },
  {
   "cell_type": "markdown",
   "source": [
    "#### Focis number wm - for author,title and contrast"
   ],
   "metadata": {
    "collapsed": false,
    "pycharm": {
     "name": "#%% md\n"
    }
   }
  },
  {
   "cell_type": "code",
   "execution_count": 522,
   "outputs": [
    {
     "data": {
      "text/plain": "                                     title              author  \\\n0  A Rapid fMRI Task Battery for Mappin...  Drobyshevsky et al   \n\n          contrast  #Foci  \n0  2-back > 0-back     13  ",
      "text/html": "<div>\n<style scoped>\n    .dataframe tbody tr th:only-of-type {\n        vertical-align: middle;\n    }\n\n    .dataframe tbody tr th {\n        vertical-align: top;\n    }\n\n    .dataframe thead th {\n        text-align: right;\n    }\n</style>\n<table border=\"1\" class=\"dataframe\">\n  <thead>\n    <tr style=\"text-align: right;\">\n      <th></th>\n      <th>title</th>\n      <th>author</th>\n      <th>contrast</th>\n      <th>#Foci</th>\n    </tr>\n  </thead>\n  <tbody>\n    <tr>\n      <th>0</th>\n      <td>A Rapid fMRI Task Battery for Mappin...</td>\n      <td>Drobyshevsky et al</td>\n      <td>2-back &gt; 0-back</td>\n      <td>13</td>\n    </tr>\n  </tbody>\n</table>\n</div>"
     },
     "execution_count": 522,
     "metadata": {},
     "output_type": "execute_result"
    }
   ],
   "source": [
    "df_group_focis_wm = df_wm.groupby(['title', 'author', 'contrast']\n",
    "                                  ).size().reset_index(name=\"#Foci\")\n",
    "df_group_focis_wm.head(1)"
   ],
   "metadata": {
    "collapsed": false,
    "pycharm": {
     "name": "#%%\n"
    }
   }
  },
  {
   "cell_type": "markdown",
   "source": [
    "#### Subjects number wm"
   ],
   "metadata": {
    "collapsed": false,
    "pycharm": {
     "name": "#%% md\n"
    }
   }
  },
  {
   "cell_type": "code",
   "execution_count": 523,
   "outputs": [
    {
     "data": {
      "text/plain": "                                     title                author  #Subjects  \\\n0  A Rapid fMRI Task Battery for Mappin...    Drobyshevsky et al         31   \n1  A functional neuroimaging study of m...          Taylor et al         12   \n2  Abnormal neural activity in partiall...             Lee et al         14   \n3  Alterations in the functional neural...            Cruz et al         23   \n4  An fMRI study of working memory for ...       Beneventi et al         12   \n5  Anterior cingulate cortex differentl...              Di et al         49   \n6  Anterior cingulate cortex differentl...              Di et al         49   \n7  Does caffeine modulate verbal workin...  Koppelstaetter et al         15   \n8  Frontal Hypoactivation on Functional...         Carrion et al         13   \n9  Frontal Hypoactivation on Functional...         Carrion et al         13   \n\n                   contrast  \n0           2-back > 0-back  \n1                         -  \n2             1-back > rest  \n3                         -  \n4  2-back > 1-back > 0-back  \n5           1-back > 2-back  \n6           2-back > 1-back  \n7           2-back > 0-back  \n8           2-back > 0-back  \n9           3-back > 0-back  ",
      "text/html": "<div>\n<style scoped>\n    .dataframe tbody tr th:only-of-type {\n        vertical-align: middle;\n    }\n\n    .dataframe tbody tr th {\n        vertical-align: top;\n    }\n\n    .dataframe thead th {\n        text-align: right;\n    }\n</style>\n<table border=\"1\" class=\"dataframe\">\n  <thead>\n    <tr style=\"text-align: right;\">\n      <th></th>\n      <th>title</th>\n      <th>author</th>\n      <th>#Subjects</th>\n      <th>contrast</th>\n    </tr>\n  </thead>\n  <tbody>\n    <tr>\n      <th>0</th>\n      <td>A Rapid fMRI Task Battery for Mappin...</td>\n      <td>Drobyshevsky et al</td>\n      <td>31</td>\n      <td>2-back &gt; 0-back</td>\n    </tr>\n    <tr>\n      <th>1</th>\n      <td>A functional neuroimaging study of m...</td>\n      <td>Taylor et al</td>\n      <td>12</td>\n      <td>-</td>\n    </tr>\n    <tr>\n      <th>2</th>\n      <td>Abnormal neural activity in partiall...</td>\n      <td>Lee et al</td>\n      <td>14</td>\n      <td>1-back &gt; rest</td>\n    </tr>\n    <tr>\n      <th>3</th>\n      <td>Alterations in the functional neural...</td>\n      <td>Cruz et al</td>\n      <td>23</td>\n      <td>-</td>\n    </tr>\n    <tr>\n      <th>4</th>\n      <td>An fMRI study of working memory for ...</td>\n      <td>Beneventi et al</td>\n      <td>12</td>\n      <td>2-back &gt; 1-back &gt; 0-back</td>\n    </tr>\n    <tr>\n      <th>5</th>\n      <td>Anterior cingulate cortex differentl...</td>\n      <td>Di et al</td>\n      <td>49</td>\n      <td>1-back &gt; 2-back</td>\n    </tr>\n    <tr>\n      <th>6</th>\n      <td>Anterior cingulate cortex differentl...</td>\n      <td>Di et al</td>\n      <td>49</td>\n      <td>2-back &gt; 1-back</td>\n    </tr>\n    <tr>\n      <th>7</th>\n      <td>Does caffeine modulate verbal workin...</td>\n      <td>Koppelstaetter et al</td>\n      <td>15</td>\n      <td>2-back &gt; 0-back</td>\n    </tr>\n    <tr>\n      <th>8</th>\n      <td>Frontal Hypoactivation on Functional...</td>\n      <td>Carrion et al</td>\n      <td>13</td>\n      <td>2-back &gt; 0-back</td>\n    </tr>\n    <tr>\n      <th>9</th>\n      <td>Frontal Hypoactivation on Functional...</td>\n      <td>Carrion et al</td>\n      <td>13</td>\n      <td>3-back &gt; 0-back</td>\n    </tr>\n  </tbody>\n</table>\n</div>"
     },
     "execution_count": 523,
     "metadata": {},
     "output_type": "execute_result"
    }
   ],
   "source": [
    "group_subjects_wm = df_wm.groupby(['title', 'author', 'subjects', 'contrast'])\n",
    "dict_keys_subjects_wm = group_subjects_wm.groups.keys()\n",
    "df_group_subjects_wm = pd.DataFrame.from_records([*dict_keys_subjects_wm],\n",
    "                                                 columns=['title', 'author', '#Subjects', 'contrast'])\n",
    "df_group_subjects_wm.head(10)"
   ],
   "metadata": {
    "collapsed": false,
    "pycharm": {
     "name": "#%%\n"
    }
   }
  },
  {
   "cell_type": "code",
   "execution_count": 524,
   "outputs": [
    {
     "data": {
      "text/plain": "                                     title                author  \\\n0  A Rapid fMRI Task Battery for Mappin...    Drobyshevsky et al   \n1  A functional neuroimaging study of m...          Taylor et al   \n2  Abnormal neural activity in partiall...             Lee et al   \n3  Alterations in the functional neural...            Cruz et al   \n4  An fMRI study of working memory for ...       Beneventi et al   \n5  Anterior cingulate cortex differentl...              Di et al   \n6  Anterior cingulate cortex differentl...              Di et al   \n7  Does caffeine modulate verbal workin...  Koppelstaetter et al   \n8  Frontal Hypoactivation on Functional...         Carrion et al   \n9  Frontal Hypoactivation on Functional...         Carrion et al   \n\n                   contrast  #Foci  #Subjects  \n0           2-back > 0-back     13         31  \n1                         -     23         12  \n2             1-back > rest     58         14  \n3                         -     27         23  \n4  2-back > 1-back > 0-back     24         12  \n5           1-back > 2-back     13         49  \n6           2-back > 1-back     13         49  \n7           2-back > 0-back     16         15  \n8           2-back > 0-back     16         13  \n9           3-back > 0-back     18         13  ",
      "text/html": "<div>\n<style scoped>\n    .dataframe tbody tr th:only-of-type {\n        vertical-align: middle;\n    }\n\n    .dataframe tbody tr th {\n        vertical-align: top;\n    }\n\n    .dataframe thead th {\n        text-align: right;\n    }\n</style>\n<table border=\"1\" class=\"dataframe\">\n  <thead>\n    <tr style=\"text-align: right;\">\n      <th></th>\n      <th>title</th>\n      <th>author</th>\n      <th>contrast</th>\n      <th>#Foci</th>\n      <th>#Subjects</th>\n    </tr>\n  </thead>\n  <tbody>\n    <tr>\n      <th>0</th>\n      <td>A Rapid fMRI Task Battery for Mappin...</td>\n      <td>Drobyshevsky et al</td>\n      <td>2-back &gt; 0-back</td>\n      <td>13</td>\n      <td>31</td>\n    </tr>\n    <tr>\n      <th>1</th>\n      <td>A functional neuroimaging study of m...</td>\n      <td>Taylor et al</td>\n      <td>-</td>\n      <td>23</td>\n      <td>12</td>\n    </tr>\n    <tr>\n      <th>2</th>\n      <td>Abnormal neural activity in partiall...</td>\n      <td>Lee et al</td>\n      <td>1-back &gt; rest</td>\n      <td>58</td>\n      <td>14</td>\n    </tr>\n    <tr>\n      <th>3</th>\n      <td>Alterations in the functional neural...</td>\n      <td>Cruz et al</td>\n      <td>-</td>\n      <td>27</td>\n      <td>23</td>\n    </tr>\n    <tr>\n      <th>4</th>\n      <td>An fMRI study of working memory for ...</td>\n      <td>Beneventi et al</td>\n      <td>2-back &gt; 1-back &gt; 0-back</td>\n      <td>24</td>\n      <td>12</td>\n    </tr>\n    <tr>\n      <th>5</th>\n      <td>Anterior cingulate cortex differentl...</td>\n      <td>Di et al</td>\n      <td>1-back &gt; 2-back</td>\n      <td>13</td>\n      <td>49</td>\n    </tr>\n    <tr>\n      <th>6</th>\n      <td>Anterior cingulate cortex differentl...</td>\n      <td>Di et al</td>\n      <td>2-back &gt; 1-back</td>\n      <td>13</td>\n      <td>49</td>\n    </tr>\n    <tr>\n      <th>7</th>\n      <td>Does caffeine modulate verbal workin...</td>\n      <td>Koppelstaetter et al</td>\n      <td>2-back &gt; 0-back</td>\n      <td>16</td>\n      <td>15</td>\n    </tr>\n    <tr>\n      <th>8</th>\n      <td>Frontal Hypoactivation on Functional...</td>\n      <td>Carrion et al</td>\n      <td>2-back &gt; 0-back</td>\n      <td>16</td>\n      <td>13</td>\n    </tr>\n    <tr>\n      <th>9</th>\n      <td>Frontal Hypoactivation on Functional...</td>\n      <td>Carrion et al</td>\n      <td>3-back &gt; 0-back</td>\n      <td>18</td>\n      <td>13</td>\n    </tr>\n  </tbody>\n</table>\n</div>"
     },
     "execution_count": 524,
     "metadata": {},
     "output_type": "execute_result"
    }
   ],
   "source": [
    "df_final_wm = pd.merge(df_group_focis_wm, df_group_subjects_wm[['#Subjects']], left_index=True,\n",
    "                       right_index=True)\n",
    "df_final_wm.head(10)"
   ],
   "metadata": {
    "collapsed": false,
    "pycharm": {
     "name": "#%%\n"
    }
   }
  },
  {
   "cell_type": "code",
   "execution_count": 525,
   "outputs": [
    {
     "data": {
      "text/plain": "(24, 5)"
     },
     "execution_count": 525,
     "metadata": {},
     "output_type": "execute_result"
    }
   ],
   "source": [
    "df_final_wm.shape"
   ],
   "metadata": {
    "collapsed": false,
    "pycharm": {
     "name": "#%%\n"
    }
   }
  },
  {
   "cell_type": "markdown",
   "source": [
    "## Get set of keywords"
   ],
   "metadata": {
    "collapsed": false
   }
  },
  {
   "cell_type": "code",
   "execution_count": 526,
   "outputs": [],
   "source": [
    "# get keywords and split them\n",
    "df_group_keywords_wm = df_wm.groupby(['title', 'author', 'contrast'])['keywords'].apply(lambda x: set(x)).reset_index(\n",
    "    name='keywords_set')\n",
    "# df_group_keywords_wm.head(10)\n",
    "df_group_keywords_wm['keywords_split'] = df_group_keywords_wm['keywords_set'].apply(df_proc.split_keys)"
   ],
   "metadata": {
    "collapsed": false,
    "pycharm": {
     "name": "#%%\n"
    }
   }
  },
  {
   "cell_type": "code",
   "execution_count": 527,
   "outputs": [],
   "source": [
    "# list_key_set_wm = list(df_proc.list_of_sets_to_set(df_group_keywords_wm, 'keywords_split'))\n",
    "# list_key_set_wm\n",
    "set_key_set_wm_stimulus = {'visual word recognition',\n",
    "                           # 'reading',\n",
    "                           'verbal',\n",
    "                           'verbal pseudo-words',\n",
    "                           'visual numbers',\n",
    "                           'visual shape',\n",
    "                           'visual spatial cue',\n",
    "                           'visual faces',\n",
    "                           'visual letters',\n",
    "                           'visual object',\n",
    "                           'visual shape color',\n",
    "                           'facial expression',\n",
    "                           'visual identical shapes',\n",
    "                           'scrambled drawings'}\n",
    "set_key_set_wm_modality = {'reversal learning task',\n",
    "                           # 'one-back task',\n",
    "                           # 'two-back task',\n",
    "                           # 'three-back task',\n",
    "                           'n-back task',\n",
    "                           'experimental task',\n",
    "                           'perceptual matching task'}"
   ],
   "metadata": {
    "collapsed": false,
    "pycharm": {
     "name": "#%%\n"
    }
   }
  },
  {
   "cell_type": "code",
   "execution_count": 528,
   "outputs": [],
   "source": [
    "# keep just the needed keywords\n",
    "df_group_keywords_wm['Task Modality'] = df_group_keywords_wm['keywords_split'].apply(\n",
    "    lambda x: ', '.join(x.intersection(set_key_set_wm_modality)))\n",
    "df_group_keywords_wm['Task Stimulus'] = df_group_keywords_wm['keywords_split'].apply(\n",
    "    lambda x: ', '.join(x.intersection(set_key_set_wm_stimulus)))"
   ],
   "metadata": {
    "collapsed": false,
    "pycharm": {
     "name": "#%%\n"
    }
   }
  },
  {
   "cell_type": "code",
   "execution_count": 529,
   "outputs": [
    {
     "data": {
      "text/plain": "                                     title                author  \\\n0  A Rapid fMRI Task Battery for Mappin...    Drobyshevsky et al   \n1  A functional neuroimaging study of m...          Taylor et al   \n2  Abnormal neural activity in partiall...             Lee et al   \n3  Alterations in the functional neural...            Cruz et al   \n4  An fMRI study of working memory for ...       Beneventi et al   \n5  Anterior cingulate cortex differentl...              Di et al   \n6  Anterior cingulate cortex differentl...              Di et al   \n7  Does caffeine modulate verbal workin...  Koppelstaetter et al   \n\n                   contrast                             keywords_set  \\\n0           2-back > 0-back  {fMRI; working memory; talairach; n-...   \n1                         -  {fMRI; working memory; decision phas...   \n2             1-back > rest  {fMRI; working memory; talairach; n-...   \n3                         -  {fMRI; working memory; decision maki...   \n4  2-back > 1-back > 0-back  {fMRI; working memory; MNI; n-back t...   \n5           1-back > 2-back  {fMRI; working memory; MNI; n-back t...   \n6           2-back > 1-back  {fMRI; working memory; MNI; n-back t...   \n7           2-back > 0-back  {fMRI; working memory; talairach; n-...   \n\n                            keywords_split           Task Modality  \\\n0  {fMRI, talairach, n-back task, worki...             n-back task   \n1  {fMRI, monetary reward, anticipation...             n-back task   \n2  {fMRI, talairach, n-back task, worki...             n-back task   \n3  {reversal learning task, fMRI, two a...  reversal learning task   \n4  {fMRI, n-back task, working memory, ...             n-back task   \n5  {fMRI, n-back task, visual letters, ...             n-back task   \n6  {fMRI, n-back task, visual letters, ...             n-back task   \n7  {fMRI, talairach, n-back task, verba...             n-back task   \n\n                           Task Stimulus  \n0                         visual letters  \n1                           visual shape  \n2                         visual numbers  \n3                visual identical shapes  \n4  scrambled drawings, facial expression  \n5                         visual letters  \n6                         visual letters  \n7                                 verbal  ",
      "text/html": "<div>\n<style scoped>\n    .dataframe tbody tr th:only-of-type {\n        vertical-align: middle;\n    }\n\n    .dataframe tbody tr th {\n        vertical-align: top;\n    }\n\n    .dataframe thead th {\n        text-align: right;\n    }\n</style>\n<table border=\"1\" class=\"dataframe\">\n  <thead>\n    <tr style=\"text-align: right;\">\n      <th></th>\n      <th>title</th>\n      <th>author</th>\n      <th>contrast</th>\n      <th>keywords_set</th>\n      <th>keywords_split</th>\n      <th>Task Modality</th>\n      <th>Task Stimulus</th>\n    </tr>\n  </thead>\n  <tbody>\n    <tr>\n      <th>0</th>\n      <td>A Rapid fMRI Task Battery for Mappin...</td>\n      <td>Drobyshevsky et al</td>\n      <td>2-back &gt; 0-back</td>\n      <td>{fMRI; working memory; talairach; n-...</td>\n      <td>{fMRI, talairach, n-back task, worki...</td>\n      <td>n-back task</td>\n      <td>visual letters</td>\n    </tr>\n    <tr>\n      <th>1</th>\n      <td>A functional neuroimaging study of m...</td>\n      <td>Taylor et al</td>\n      <td>-</td>\n      <td>{fMRI; working memory; decision phas...</td>\n      <td>{fMRI, monetary reward, anticipation...</td>\n      <td>n-back task</td>\n      <td>visual shape</td>\n    </tr>\n    <tr>\n      <th>2</th>\n      <td>Abnormal neural activity in partiall...</td>\n      <td>Lee et al</td>\n      <td>1-back &gt; rest</td>\n      <td>{fMRI; working memory; talairach; n-...</td>\n      <td>{fMRI, talairach, n-back task, worki...</td>\n      <td>n-back task</td>\n      <td>visual numbers</td>\n    </tr>\n    <tr>\n      <th>3</th>\n      <td>Alterations in the functional neural...</td>\n      <td>Cruz et al</td>\n      <td>-</td>\n      <td>{fMRI; working memory; decision maki...</td>\n      <td>{reversal learning task, fMRI, two a...</td>\n      <td>reversal learning task</td>\n      <td>visual identical shapes</td>\n    </tr>\n    <tr>\n      <th>4</th>\n      <td>An fMRI study of working memory for ...</td>\n      <td>Beneventi et al</td>\n      <td>2-back &gt; 1-back &gt; 0-back</td>\n      <td>{fMRI; working memory; MNI; n-back t...</td>\n      <td>{fMRI, n-back task, working memory, ...</td>\n      <td>n-back task</td>\n      <td>scrambled drawings, facial expression</td>\n    </tr>\n    <tr>\n      <th>5</th>\n      <td>Anterior cingulate cortex differentl...</td>\n      <td>Di et al</td>\n      <td>1-back &gt; 2-back</td>\n      <td>{fMRI; working memory; MNI; n-back t...</td>\n      <td>{fMRI, n-back task, visual letters, ...</td>\n      <td>n-back task</td>\n      <td>visual letters</td>\n    </tr>\n    <tr>\n      <th>6</th>\n      <td>Anterior cingulate cortex differentl...</td>\n      <td>Di et al</td>\n      <td>2-back &gt; 1-back</td>\n      <td>{fMRI; working memory; MNI; n-back t...</td>\n      <td>{fMRI, n-back task, visual letters, ...</td>\n      <td>n-back task</td>\n      <td>visual letters</td>\n    </tr>\n    <tr>\n      <th>7</th>\n      <td>Does caffeine modulate verbal workin...</td>\n      <td>Koppelstaetter et al</td>\n      <td>2-back &gt; 0-back</td>\n      <td>{fMRI; working memory; talairach; n-...</td>\n      <td>{fMRI, talairach, n-back task, verba...</td>\n      <td>n-back task</td>\n      <td>verbal</td>\n    </tr>\n  </tbody>\n</table>\n</div>"
     },
     "execution_count": 529,
     "metadata": {},
     "output_type": "execute_result"
    }
   ],
   "source": [
    "df_group_keywords_wm.head(8)"
   ],
   "metadata": {
    "collapsed": false,
    "pycharm": {
     "name": "#%%\n"
    }
   }
  },
  {
   "cell_type": "code",
   "execution_count": 530,
   "outputs": [],
   "source": [
    "df_final_wm = pd.merge(df_final_wm, df_group_keywords_wm[['Task Modality', 'Task Stimulus']], left_index=True,\n",
    "                       right_index=True)"
   ],
   "metadata": {
    "collapsed": false,
    "pycharm": {
     "name": "#%%\n"
    }
   }
  },
  {
   "cell_type": "code",
   "execution_count": 531,
   "outputs": [
    {
     "data": {
      "text/plain": "                                      title                author  \\\n0   A Rapid fMRI Task Battery for Mappin...    Drobyshevsky et al   \n1   A functional neuroimaging study of m...          Taylor et al   \n2   Abnormal neural activity in partiall...             Lee et al   \n3   Alterations in the functional neural...            Cruz et al   \n4   An fMRI study of working memory for ...       Beneventi et al   \n5   Anterior cingulate cortex differentl...              Di et al   \n6   Anterior cingulate cortex differentl...              Di et al   \n7   Does caffeine modulate verbal workin...  Koppelstaetter et al   \n8   Frontal Hypoactivation on Functional...         Carrion et al   \n9   Frontal Hypoactivation on Functional...         Carrion et al   \n10  Inhibit  switch  and update - A with...          Rodger et al   \n\n                    contrast  #Foci  #Subjects           Task Modality  \\\n0            2-back > 0-back     13         31             n-back task   \n1                          -     23         12             n-back task   \n2              1-back > rest     58         14             n-back task   \n3                          -     27         23  reversal learning task   \n4   2-back > 1-back > 0-back     24         12             n-back task   \n5            1-back > 2-back     13         49             n-back task   \n6            2-back > 1-back     13         49             n-back task   \n7            2-back > 0-back     16         15             n-back task   \n8            2-back > 0-back     16         13             n-back task   \n9            3-back > 0-back     18         13             n-back task   \n10     n-back > control task     15         22             n-back task   \n\n                            Task Stimulus  \n0                          visual letters  \n1                            visual shape  \n2                          visual numbers  \n3                 visual identical shapes  \n4   scrambled drawings, facial expression  \n5                          visual letters  \n6                          visual letters  \n7                                  verbal  \n8                          visual numbers  \n9                          visual numbers  \n10                     visual shape color  ",
      "text/html": "<div>\n<style scoped>\n    .dataframe tbody tr th:only-of-type {\n        vertical-align: middle;\n    }\n\n    .dataframe tbody tr th {\n        vertical-align: top;\n    }\n\n    .dataframe thead th {\n        text-align: right;\n    }\n</style>\n<table border=\"1\" class=\"dataframe\">\n  <thead>\n    <tr style=\"text-align: right;\">\n      <th></th>\n      <th>title</th>\n      <th>author</th>\n      <th>contrast</th>\n      <th>#Foci</th>\n      <th>#Subjects</th>\n      <th>Task Modality</th>\n      <th>Task Stimulus</th>\n    </tr>\n  </thead>\n  <tbody>\n    <tr>\n      <th>0</th>\n      <td>A Rapid fMRI Task Battery for Mappin...</td>\n      <td>Drobyshevsky et al</td>\n      <td>2-back &gt; 0-back</td>\n      <td>13</td>\n      <td>31</td>\n      <td>n-back task</td>\n      <td>visual letters</td>\n    </tr>\n    <tr>\n      <th>1</th>\n      <td>A functional neuroimaging study of m...</td>\n      <td>Taylor et al</td>\n      <td>-</td>\n      <td>23</td>\n      <td>12</td>\n      <td>n-back task</td>\n      <td>visual shape</td>\n    </tr>\n    <tr>\n      <th>2</th>\n      <td>Abnormal neural activity in partiall...</td>\n      <td>Lee et al</td>\n      <td>1-back &gt; rest</td>\n      <td>58</td>\n      <td>14</td>\n      <td>n-back task</td>\n      <td>visual numbers</td>\n    </tr>\n    <tr>\n      <th>3</th>\n      <td>Alterations in the functional neural...</td>\n      <td>Cruz et al</td>\n      <td>-</td>\n      <td>27</td>\n      <td>23</td>\n      <td>reversal learning task</td>\n      <td>visual identical shapes</td>\n    </tr>\n    <tr>\n      <th>4</th>\n      <td>An fMRI study of working memory for ...</td>\n      <td>Beneventi et al</td>\n      <td>2-back &gt; 1-back &gt; 0-back</td>\n      <td>24</td>\n      <td>12</td>\n      <td>n-back task</td>\n      <td>scrambled drawings, facial expression</td>\n    </tr>\n    <tr>\n      <th>5</th>\n      <td>Anterior cingulate cortex differentl...</td>\n      <td>Di et al</td>\n      <td>1-back &gt; 2-back</td>\n      <td>13</td>\n      <td>49</td>\n      <td>n-back task</td>\n      <td>visual letters</td>\n    </tr>\n    <tr>\n      <th>6</th>\n      <td>Anterior cingulate cortex differentl...</td>\n      <td>Di et al</td>\n      <td>2-back &gt; 1-back</td>\n      <td>13</td>\n      <td>49</td>\n      <td>n-back task</td>\n      <td>visual letters</td>\n    </tr>\n    <tr>\n      <th>7</th>\n      <td>Does caffeine modulate verbal workin...</td>\n      <td>Koppelstaetter et al</td>\n      <td>2-back &gt; 0-back</td>\n      <td>16</td>\n      <td>15</td>\n      <td>n-back task</td>\n      <td>verbal</td>\n    </tr>\n    <tr>\n      <th>8</th>\n      <td>Frontal Hypoactivation on Functional...</td>\n      <td>Carrion et al</td>\n      <td>2-back &gt; 0-back</td>\n      <td>16</td>\n      <td>13</td>\n      <td>n-back task</td>\n      <td>visual numbers</td>\n    </tr>\n    <tr>\n      <th>9</th>\n      <td>Frontal Hypoactivation on Functional...</td>\n      <td>Carrion et al</td>\n      <td>3-back &gt; 0-back</td>\n      <td>18</td>\n      <td>13</td>\n      <td>n-back task</td>\n      <td>visual numbers</td>\n    </tr>\n    <tr>\n      <th>10</th>\n      <td>Inhibit  switch  and update - A with...</td>\n      <td>Rodger et al</td>\n      <td>n-back &gt; control task</td>\n      <td>15</td>\n      <td>22</td>\n      <td>n-back task</td>\n      <td>visual shape color</td>\n    </tr>\n  </tbody>\n</table>\n</div>"
     },
     "execution_count": 531,
     "metadata": {},
     "output_type": "execute_result"
    }
   ],
   "source": [
    "df_final_wm.head(11)"
   ],
   "metadata": {
    "collapsed": false,
    "pycharm": {
     "name": "#%%\n"
    }
   }
  },
  {
   "cell_type": "code",
   "execution_count": 531,
   "outputs": [],
   "source": [],
   "metadata": {
    "collapsed": false,
    "pycharm": {
     "name": "#%%\n"
    }
   }
  },
  {
   "cell_type": "markdown",
   "source": [
    "#### Print latex to text file - wm"
   ],
   "metadata": {
    "collapsed": false
   }
  },
  {
   "cell_type": "code",
   "execution_count": 532,
   "outputs": [
    {
     "data": {
      "text/plain": "                  author                           contrast  #Foci  #Subjects  \\\n4        Beneventi et al           2-back > 1-back > 0-back     24         12   \n8          Carrion et al                    2-back > 0-back     16         13   \n9          Carrion et al                    3-back > 0-back     18         13   \n3             Cruz et al                                  -     27         23   \n5               Di et al                    1-back > 2-back     13         49   \n6               Di et al                    2-back > 1-back     13         49   \n0     Drobyshevsky et al                    2-back > 0-back     13         31   \n21       Duggirala et al                    2-back > 0-back     62         50   \n7   Koppelstaetter et al                    2-back > 0-back     16         15   \n2              Lee et al                      1-back > rest     58         14   \n16           Nobre et al                retrocue and precue     30         10   \n15           Nobre et al                  retrocue > precue      9         10   \n14           Nobre et al                  precue > retrocue      3         10   \n11         Padilla et al                    2-back > 0-back     10         25   \n12         Padilla et al                    3-back > 0-back     13         25   \n17          Pierce et al           2-back > 1-back > 0-back     19         42   \n22          Pochon et al  3-back > 2-back > 1-back > 0-back     43          6   \n18         Reilhac et al                 sub-dif > baseline     21         12   \n19         Reilhac et al                sub-dif > frame-dif     14         12   \n20         Reilhac et al                  sub-id > baseline      4         12   \n10          Rodger et al              n-back > control task     15         22   \n13         Schmidt et al  3-back > 2-back > 1-back > 0-back     14         50   \n23             Seo et al                    2-back > 0-back     19         22   \n1           Taylor et al                                  -     23         12   \n\n               Task Modality                            Task Stimulus  \n4                n-back task    scrambled drawings, facial expression  \n8                n-back task                           visual numbers  \n9                n-back task                           visual numbers  \n3     reversal learning task                  visual identical shapes  \n5                n-back task                           visual letters  \n6                n-back task                           visual letters  \n0                n-back task                           visual letters  \n21               n-back task  visual faces, visual object, visual ...  \n7                n-back task                                   verbal  \n2                n-back task                           visual numbers  \n16         experimental task                       visual spatial cue  \n15         experimental task                       visual spatial cue  \n14         experimental task                       visual spatial cue  \n11               n-back task                           visual letters  \n12               n-back task                           visual letters  \n17               n-back task                      verbal pseudo-words  \n22               n-back task                           visual letters  \n18  perceptual matching task                  visual word recognition  \n19  perceptual matching task                  visual word recognition  \n20  perceptual matching task                  visual word recognition  \n10               n-back task                       visual shape color  \n13               n-back task                           visual letters  \n23               n-back task                           visual letters  \n1                n-back task                             visual shape  ",
      "text/html": "<div>\n<style scoped>\n    .dataframe tbody tr th:only-of-type {\n        vertical-align: middle;\n    }\n\n    .dataframe tbody tr th {\n        vertical-align: top;\n    }\n\n    .dataframe thead th {\n        text-align: right;\n    }\n</style>\n<table border=\"1\" class=\"dataframe\">\n  <thead>\n    <tr style=\"text-align: right;\">\n      <th></th>\n      <th>author</th>\n      <th>contrast</th>\n      <th>#Foci</th>\n      <th>#Subjects</th>\n      <th>Task Modality</th>\n      <th>Task Stimulus</th>\n    </tr>\n  </thead>\n  <tbody>\n    <tr>\n      <th>4</th>\n      <td>Beneventi et al</td>\n      <td>2-back &gt; 1-back &gt; 0-back</td>\n      <td>24</td>\n      <td>12</td>\n      <td>n-back task</td>\n      <td>scrambled drawings, facial expression</td>\n    </tr>\n    <tr>\n      <th>8</th>\n      <td>Carrion et al</td>\n      <td>2-back &gt; 0-back</td>\n      <td>16</td>\n      <td>13</td>\n      <td>n-back task</td>\n      <td>visual numbers</td>\n    </tr>\n    <tr>\n      <th>9</th>\n      <td>Carrion et al</td>\n      <td>3-back &gt; 0-back</td>\n      <td>18</td>\n      <td>13</td>\n      <td>n-back task</td>\n      <td>visual numbers</td>\n    </tr>\n    <tr>\n      <th>3</th>\n      <td>Cruz et al</td>\n      <td>-</td>\n      <td>27</td>\n      <td>23</td>\n      <td>reversal learning task</td>\n      <td>visual identical shapes</td>\n    </tr>\n    <tr>\n      <th>5</th>\n      <td>Di et al</td>\n      <td>1-back &gt; 2-back</td>\n      <td>13</td>\n      <td>49</td>\n      <td>n-back task</td>\n      <td>visual letters</td>\n    </tr>\n    <tr>\n      <th>6</th>\n      <td>Di et al</td>\n      <td>2-back &gt; 1-back</td>\n      <td>13</td>\n      <td>49</td>\n      <td>n-back task</td>\n      <td>visual letters</td>\n    </tr>\n    <tr>\n      <th>0</th>\n      <td>Drobyshevsky et al</td>\n      <td>2-back &gt; 0-back</td>\n      <td>13</td>\n      <td>31</td>\n      <td>n-back task</td>\n      <td>visual letters</td>\n    </tr>\n    <tr>\n      <th>21</th>\n      <td>Duggirala et al</td>\n      <td>2-back &gt; 0-back</td>\n      <td>62</td>\n      <td>50</td>\n      <td>n-back task</td>\n      <td>visual faces, visual object, visual ...</td>\n    </tr>\n    <tr>\n      <th>7</th>\n      <td>Koppelstaetter et al</td>\n      <td>2-back &gt; 0-back</td>\n      <td>16</td>\n      <td>15</td>\n      <td>n-back task</td>\n      <td>verbal</td>\n    </tr>\n    <tr>\n      <th>2</th>\n      <td>Lee et al</td>\n      <td>1-back &gt; rest</td>\n      <td>58</td>\n      <td>14</td>\n      <td>n-back task</td>\n      <td>visual numbers</td>\n    </tr>\n    <tr>\n      <th>16</th>\n      <td>Nobre et al</td>\n      <td>retrocue and precue</td>\n      <td>30</td>\n      <td>10</td>\n      <td>experimental task</td>\n      <td>visual spatial cue</td>\n    </tr>\n    <tr>\n      <th>15</th>\n      <td>Nobre et al</td>\n      <td>retrocue &gt; precue</td>\n      <td>9</td>\n      <td>10</td>\n      <td>experimental task</td>\n      <td>visual spatial cue</td>\n    </tr>\n    <tr>\n      <th>14</th>\n      <td>Nobre et al</td>\n      <td>precue &gt; retrocue</td>\n      <td>3</td>\n      <td>10</td>\n      <td>experimental task</td>\n      <td>visual spatial cue</td>\n    </tr>\n    <tr>\n      <th>11</th>\n      <td>Padilla et al</td>\n      <td>2-back &gt; 0-back</td>\n      <td>10</td>\n      <td>25</td>\n      <td>n-back task</td>\n      <td>visual letters</td>\n    </tr>\n    <tr>\n      <th>12</th>\n      <td>Padilla et al</td>\n      <td>3-back &gt; 0-back</td>\n      <td>13</td>\n      <td>25</td>\n      <td>n-back task</td>\n      <td>visual letters</td>\n    </tr>\n    <tr>\n      <th>17</th>\n      <td>Pierce et al</td>\n      <td>2-back &gt; 1-back &gt; 0-back</td>\n      <td>19</td>\n      <td>42</td>\n      <td>n-back task</td>\n      <td>verbal pseudo-words</td>\n    </tr>\n    <tr>\n      <th>22</th>\n      <td>Pochon et al</td>\n      <td>3-back &gt; 2-back &gt; 1-back &gt; 0-back</td>\n      <td>43</td>\n      <td>6</td>\n      <td>n-back task</td>\n      <td>visual letters</td>\n    </tr>\n    <tr>\n      <th>18</th>\n      <td>Reilhac et al</td>\n      <td>sub-dif &gt; baseline</td>\n      <td>21</td>\n      <td>12</td>\n      <td>perceptual matching task</td>\n      <td>visual word recognition</td>\n    </tr>\n    <tr>\n      <th>19</th>\n      <td>Reilhac et al</td>\n      <td>sub-dif &gt; frame-dif</td>\n      <td>14</td>\n      <td>12</td>\n      <td>perceptual matching task</td>\n      <td>visual word recognition</td>\n    </tr>\n    <tr>\n      <th>20</th>\n      <td>Reilhac et al</td>\n      <td>sub-id &gt; baseline</td>\n      <td>4</td>\n      <td>12</td>\n      <td>perceptual matching task</td>\n      <td>visual word recognition</td>\n    </tr>\n    <tr>\n      <th>10</th>\n      <td>Rodger et al</td>\n      <td>n-back &gt; control task</td>\n      <td>15</td>\n      <td>22</td>\n      <td>n-back task</td>\n      <td>visual shape color</td>\n    </tr>\n    <tr>\n      <th>13</th>\n      <td>Schmidt et al</td>\n      <td>3-back &gt; 2-back &gt; 1-back &gt; 0-back</td>\n      <td>14</td>\n      <td>50</td>\n      <td>n-back task</td>\n      <td>visual letters</td>\n    </tr>\n    <tr>\n      <th>23</th>\n      <td>Seo et al</td>\n      <td>2-back &gt; 0-back</td>\n      <td>19</td>\n      <td>22</td>\n      <td>n-back task</td>\n      <td>visual letters</td>\n    </tr>\n    <tr>\n      <th>1</th>\n      <td>Taylor et al</td>\n      <td>-</td>\n      <td>23</td>\n      <td>12</td>\n      <td>n-back task</td>\n      <td>visual shape</td>\n    </tr>\n  </tbody>\n</table>\n</div>"
     },
     "execution_count": 532,
     "metadata": {},
     "output_type": "execute_result"
    }
   ],
   "source": [
    "df_final_print_wm = df_final_wm.drop(['title'], axis=1)\n",
    "df_final_print_wm = df_final_print_wm.sort_values(by=['author'])\n",
    "df_final_print_wm"
   ],
   "metadata": {
    "collapsed": false,
    "pycharm": {
     "name": "#%%\n"
    }
   }
  },
  {
   "cell_type": "code",
   "execution_count": 533,
   "outputs": [
    {
     "name": "stderr",
     "output_type": "stream",
     "text": [
      "C:\\Users\\Chh\\AppData\\Local\\Temp\\ipykernel_31044\\2813524007.py:4: FutureWarning: In future versions `DataFrame.to_latex` is expected to utilise the base implementation of `Styler.to_latex` for formatting and rendering. The arguments signature may therefore change. It is recommended instead to use `DataFrame.style.to_latex` which also contains additional functionality.\n",
      "  f.write(df_final_print_wm.to_latex(index=False))\n"
     ]
    }
   ],
   "source": [
    "pd.set_option('display.max_colwidth', None)  # to show all the column values (-1)\n",
    "latex_filepath = r'../data_db/latex/wm_reports.txt'\n",
    "with open(latex_filepath, 'w') as f:\n",
    "    f.write(df_final_print_wm.to_latex(index=False))\n",
    "pd.set_option('display.max_colwidth', 40)"
   ],
   "metadata": {
    "collapsed": false,
    "pycharm": {
     "name": "#%%\n"
    }
   }
  },
  {
   "cell_type": "markdown",
   "source": [
    "### Reward magnitude and type"
   ],
   "metadata": {
    "collapsed": false
   }
  },
  {
   "cell_type": "code",
   "execution_count": 534,
   "outputs": [],
   "source": [
    "df_reward = df_data[~mask_wm]"
   ],
   "metadata": {
    "collapsed": false,
    "pycharm": {
     "name": "#%%\n"
    }
   }
  },
  {
   "cell_type": "code",
   "execution_count": 535,
   "outputs": [
    {
     "data": {
      "text/plain": "46"
     },
     "execution_count": 535,
     "metadata": {},
     "output_type": "execute_result"
    }
   ],
   "source": [
    "df_reward['title'].unique().size"
   ],
   "metadata": {
    "collapsed": false,
    "pycharm": {
     "name": "#%%\n"
    }
   }
  },
  {
   "cell_type": "code",
   "execution_count": 536,
   "outputs": [
    {
     "data": {
      "text/plain": "(1330, 26)"
     },
     "execution_count": 536,
     "metadata": {},
     "output_type": "execute_result"
    }
   ],
   "source": [
    "df_reward.shape"
   ],
   "metadata": {
    "collapsed": false,
    "pycharm": {
     "name": "#%%\n"
    }
   }
  },
  {
   "cell_type": "markdown",
   "source": [
    "#### Get set of keywords"
   ],
   "metadata": {
    "collapsed": false
   }
  },
  {
   "cell_type": "code",
   "execution_count": 537,
   "outputs": [
    {
     "name": "stderr",
     "output_type": "stream",
     "text": [
      "C:\\Users\\Chh\\AppData\\Local\\Temp\\ipykernel_31044\\2419239918.py:2: SettingWithCopyWarning: \n",
      "A value is trying to be set on a copy of a slice from a DataFrame.\n",
      "Try using .loc[row_indexer,col_indexer] = value instead\n",
      "\n",
      "See the caveats in the documentation: https://pandas.pydata.org/pandas-docs/stable/user_guide/indexing.html#returning-a-view-versus-a-copy\n",
      "  df_reward['keywords_split'] = df_reward['keywords'].apply(lambda x: df_proc.split_keys([x]))\n"
     ]
    },
    {
     "data": {
      "text/plain": "  importance          author                                    title  \\\n0         ++  Glascher et al  Determining a Role for Ventromedial ...   \n1         ++  Glascher et al  Determining a Role for Ventromedial ...   \n\n                                table_name                   contrast  \\\n0  Table 1-1 Coordinates and significan...  ar; sr > neutral activity   \n1  Table 1-1 Coordinates and significan...  ar; sr > neutral activity   \n\n                                  keywords   Name Left/Right Broadman Area  \\\n0  fMRI; decision making; outcome phase...   mofc          l            11   \n1  fMRI; decision making; outcome phase...  vmpfc          r            11   \n\n   X(R)  ...  NV  index_col  MNIX  MNIY  MNIZ   TALX    TALY    TALZ  \\\n0    -6  ... NaN          0  -6.0  24.0 -21.0 -6.436  22.720 -13.440   \n1     6  ... NaN          1   6.0  30.0  -9.0  4.724  27.408  -2.105   \n\n   significance                           keywords_split  \n0      0.000025  {fMRI, monetary reward, fractal imag...  \n1      0.000050  {fMRI, monetary reward, fractal imag...  \n\n[2 rows x 27 columns]",
      "text/html": "<div>\n<style scoped>\n    .dataframe tbody tr th:only-of-type {\n        vertical-align: middle;\n    }\n\n    .dataframe tbody tr th {\n        vertical-align: top;\n    }\n\n    .dataframe thead th {\n        text-align: right;\n    }\n</style>\n<table border=\"1\" class=\"dataframe\">\n  <thead>\n    <tr style=\"text-align: right;\">\n      <th></th>\n      <th>importance</th>\n      <th>author</th>\n      <th>title</th>\n      <th>table_name</th>\n      <th>contrast</th>\n      <th>keywords</th>\n      <th>Name</th>\n      <th>Left/Right</th>\n      <th>Broadman Area</th>\n      <th>X(R)</th>\n      <th>...</th>\n      <th>NV</th>\n      <th>index_col</th>\n      <th>MNIX</th>\n      <th>MNIY</th>\n      <th>MNIZ</th>\n      <th>TALX</th>\n      <th>TALY</th>\n      <th>TALZ</th>\n      <th>significance</th>\n      <th>keywords_split</th>\n    </tr>\n  </thead>\n  <tbody>\n    <tr>\n      <th>0</th>\n      <td>++</td>\n      <td>Glascher et al</td>\n      <td>Determining a Role for Ventromedial ...</td>\n      <td>Table 1-1 Coordinates and significan...</td>\n      <td>ar; sr &gt; neutral activity</td>\n      <td>fMRI; decision making; outcome phase...</td>\n      <td>mofc</td>\n      <td>l</td>\n      <td>11</td>\n      <td>-6</td>\n      <td>...</td>\n      <td>NaN</td>\n      <td>0</td>\n      <td>-6.0</td>\n      <td>24.0</td>\n      <td>-21.0</td>\n      <td>-6.436</td>\n      <td>22.720</td>\n      <td>-13.440</td>\n      <td>0.000025</td>\n      <td>{fMRI, monetary reward, fractal imag...</td>\n    </tr>\n    <tr>\n      <th>1</th>\n      <td>++</td>\n      <td>Glascher et al</td>\n      <td>Determining a Role for Ventromedial ...</td>\n      <td>Table 1-1 Coordinates and significan...</td>\n      <td>ar; sr &gt; neutral activity</td>\n      <td>fMRI; decision making; outcome phase...</td>\n      <td>vmpfc</td>\n      <td>r</td>\n      <td>11</td>\n      <td>6</td>\n      <td>...</td>\n      <td>NaN</td>\n      <td>1</td>\n      <td>6.0</td>\n      <td>30.0</td>\n      <td>-9.0</td>\n      <td>4.724</td>\n      <td>27.408</td>\n      <td>-2.105</td>\n      <td>0.000050</td>\n      <td>{fMRI, monetary reward, fractal imag...</td>\n    </tr>\n  </tbody>\n</table>\n<p>2 rows × 27 columns</p>\n</div>"
     },
     "execution_count": 537,
     "metadata": {},
     "output_type": "execute_result"
    }
   ],
   "source": [
    "# get keywords and split them\n",
    "df_reward['keywords_split'] = df_reward['keywords'].apply(lambda x: df_proc.split_keys([x]))\n",
    "df_reward.head(2)"
   ],
   "metadata": {
    "collapsed": false,
    "pycharm": {
     "name": "#%%\n"
    }
   }
  },
  {
   "cell_type": "markdown",
   "source": [
    "#### Create new columns"
   ],
   "metadata": {
    "collapsed": false,
    "pycharm": {
     "name": "#%% md\n"
    }
   }
  },
  {
   "cell_type": "code",
   "execution_count": 538,
   "outputs": [],
   "source": [
    "set_reward_type = {\n",
    "    'erotic reward': 1,\n",
    "    'verbal reward': 1,\n",
    "    'monetary and erotic reward': 1,\n",
    "    'feedback reward': 1,\n",
    "    'taste reward': 2,\n",
    "    'context-dependent reward': 3,  # maybe get it out\n",
    "    'social reward': 7,\n",
    "    'monetary reward': 36}\n",
    "\n",
    "set_reward_contingency = {\n",
    "    # 'viewing',  ## should be where is passive\n",
    "    'passive',\n",
    "    'gambling',\n",
    "    'performance-dependent',\n",
    "    'reversal learning',\n",
    "    'n-back task'  # check this\n",
    "}\n",
    "\n",
    "set_reward_phase = {\n",
    "    'anticipation phase',\n",
    "    'decision phase',\n",
    "    'outcome phase',\n",
    "}\n",
    "\n",
    "set_reward_decision_making = {\n",
    "    'decision making'\n",
    "}"
   ],
   "metadata": {
    "collapsed": false,
    "pycharm": {
     "name": "#%%\n"
    }
   }
  },
  {
   "cell_type": "code",
   "execution_count": 539,
   "outputs": [],
   "source": [
    "set_reward_influence = {\n",
    "    'negative reward': 5,\n",
    "    'positive reward': 11,\n",
    "}\n",
    "set_keywords_others = {\n",
    "    'safe choice': 1,\n",
    "    'risk choice': 5,\n",
    "    'positive expectancy': 1,\n",
    "    'negative expectancy': 1,\n",
    "\n",
    "}"
   ],
   "metadata": {
    "collapsed": false,
    "pycharm": {
     "name": "#%%\n"
    }
   }
  },
  {
   "cell_type": "code",
   "execution_count": 540,
   "outputs": [],
   "source": [
    "df = pd.DataFrame()\n",
    "list_new_cols = ['Reward Type', 'Reward Contingency', 'Reward Phase']\n",
    "list_of_keys = [set_reward_type, set_reward_contingency, set_reward_phase]\n",
    "for col_name, set_el in zip(list_new_cols, list_of_keys):\n",
    "    df[col_name] = df_reward['keywords_split'].apply(lambda x: ', '.join(x.intersection(set_el)))"
   ],
   "metadata": {
    "collapsed": false,
    "pycharm": {
     "name": "#%%\n"
    }
   }
  },
  {
   "cell_type": "code",
   "execution_count": 541,
   "outputs": [],
   "source": [
    "df['Decision Making'] = df_reward['keywords_split'].apply(\n",
    "    lambda x: 'Choice' if set_reward_decision_making.issubset(x) else 'No Choice')"
   ],
   "metadata": {
    "collapsed": false,
    "pycharm": {
     "name": "#%%\n"
    }
   }
  },
  {
   "cell_type": "code",
   "execution_count": 542,
   "outputs": [
    {
     "data": {
      "text/plain": "  importance          author                                    title  \\\n0         ++  Glascher et al  Determining a Role for Ventromedial ...   \n1         ++  Glascher et al  Determining a Role for Ventromedial ...   \n\n                                table_name                   contrast  \\\n0  Table 1-1 Coordinates and significan...  ar; sr > neutral activity   \n1  Table 1-1 Coordinates and significan...  ar; sr > neutral activity   \n\n                                  keywords   Name Left/Right Broadman Area  \\\n0  fMRI; decision making; outcome phase...   mofc          l            11   \n1  fMRI; decision making; outcome phase...  vmpfc          r            11   \n\n   X(R)  ...  MNIZ   TALX    TALY    TALZ  significance  \\\n0    -6  ... -21.0 -6.436  22.720 -13.440      0.000025   \n1     6  ...  -9.0  4.724  27.408  -2.105      0.000050   \n\n                            keywords_split      Reward Type  \\\n0  {fMRI, monetary reward, fractal imag...  monetary reward   \n1  {fMRI, monetary reward, fractal imag...  monetary reward   \n\n   Reward Contingency   Reward Phase  Decision Making  \n0   reversal learning  outcome phase           Choice  \n1   reversal learning  outcome phase           Choice  \n\n[2 rows x 31 columns]",
      "text/html": "<div>\n<style scoped>\n    .dataframe tbody tr th:only-of-type {\n        vertical-align: middle;\n    }\n\n    .dataframe tbody tr th {\n        vertical-align: top;\n    }\n\n    .dataframe thead th {\n        text-align: right;\n    }\n</style>\n<table border=\"1\" class=\"dataframe\">\n  <thead>\n    <tr style=\"text-align: right;\">\n      <th></th>\n      <th>importance</th>\n      <th>author</th>\n      <th>title</th>\n      <th>table_name</th>\n      <th>contrast</th>\n      <th>keywords</th>\n      <th>Name</th>\n      <th>Left/Right</th>\n      <th>Broadman Area</th>\n      <th>X(R)</th>\n      <th>...</th>\n      <th>MNIZ</th>\n      <th>TALX</th>\n      <th>TALY</th>\n      <th>TALZ</th>\n      <th>significance</th>\n      <th>keywords_split</th>\n      <th>Reward Type</th>\n      <th>Reward Contingency</th>\n      <th>Reward Phase</th>\n      <th>Decision Making</th>\n    </tr>\n  </thead>\n  <tbody>\n    <tr>\n      <th>0</th>\n      <td>++</td>\n      <td>Glascher et al</td>\n      <td>Determining a Role for Ventromedial ...</td>\n      <td>Table 1-1 Coordinates and significan...</td>\n      <td>ar; sr &gt; neutral activity</td>\n      <td>fMRI; decision making; outcome phase...</td>\n      <td>mofc</td>\n      <td>l</td>\n      <td>11</td>\n      <td>-6</td>\n      <td>...</td>\n      <td>-21.0</td>\n      <td>-6.436</td>\n      <td>22.720</td>\n      <td>-13.440</td>\n      <td>0.000025</td>\n      <td>{fMRI, monetary reward, fractal imag...</td>\n      <td>monetary reward</td>\n      <td>reversal learning</td>\n      <td>outcome phase</td>\n      <td>Choice</td>\n    </tr>\n    <tr>\n      <th>1</th>\n      <td>++</td>\n      <td>Glascher et al</td>\n      <td>Determining a Role for Ventromedial ...</td>\n      <td>Table 1-1 Coordinates and significan...</td>\n      <td>ar; sr &gt; neutral activity</td>\n      <td>fMRI; decision making; outcome phase...</td>\n      <td>vmpfc</td>\n      <td>r</td>\n      <td>11</td>\n      <td>6</td>\n      <td>...</td>\n      <td>-9.0</td>\n      <td>4.724</td>\n      <td>27.408</td>\n      <td>-2.105</td>\n      <td>0.000050</td>\n      <td>{fMRI, monetary reward, fractal imag...</td>\n      <td>monetary reward</td>\n      <td>reversal learning</td>\n      <td>outcome phase</td>\n      <td>Choice</td>\n    </tr>\n  </tbody>\n</table>\n<p>2 rows × 31 columns</p>\n</div>"
     },
     "execution_count": 542,
     "metadata": {},
     "output_type": "execute_result"
    }
   ],
   "source": [
    "df.set_index(df_reward.index)\n",
    "df_reward_final = pd.merge(df_reward, df, left_index=True,\n",
    "                           right_index=True)\n",
    "df_reward_final.head(2)"
   ],
   "metadata": {
    "collapsed": false,
    "pycharm": {
     "name": "#%%\n"
    }
   }
  },
  {
   "cell_type": "code",
   "execution_count": 543,
   "outputs": [
    {
     "name": "stdout",
     "output_type": "stream",
     "text": [
      "Reward Type\n",
      "{\n",
      "  \">nan_values<\": 0,\n",
      "  \"verbal reward, monetary reward\": \"18\",\n",
      "  \"monetary reward, social reward\": \"19\",\n",
      "  \"feedback reward\": \"20\",\n",
      "  \"erotic reward\": \"20\",\n",
      "  \"monetary and erotic reward\": \"20\",\n",
      "  \"monetary reward, context-dependent reward\": \"34\",\n",
      "  \"taste reward\": \"51\",\n",
      "  \"\": \"70\",\n",
      "  \"social reward\": \"155\",\n",
      "  \"monetary reward\": \"923\"\n",
      "}\n",
      "Reward Contingency\n",
      "{\n",
      "  \">nan_values<\": 0,\n",
      "  \"reversal learning\": \"32\",\n",
      "  \"n-back task\": \"46\",\n",
      "  \"passive\": \"138\",\n",
      "  \"performance-dependent\": \"311\",\n",
      "  \"gambling\": \"374\",\n",
      "  \"\": \"429\"\n",
      "}\n",
      "Reward Phase\n",
      "{\n",
      "  \">nan_values<\": 0,\n",
      "  \"anticipation phase, outcome phase\": \"21\",\n",
      "  \"decision phase\": \"45\",\n",
      "  \"\": \"126\",\n",
      "  \"anticipation phase\": \"330\",\n",
      "  \"outcome phase\": \"808\"\n",
      "}\n"
     ]
    }
   ],
   "source": [
    "for col_name in list_new_cols:\n",
    "    counter_keywords_reward_type = data_util.df_counter(df=df_reward_final, column=col_name, order=1)\n",
    "    print(col_name)\n",
    "    print(json.dumps(counter_keywords_reward_type, indent=2, default=str))"
   ],
   "metadata": {
    "collapsed": false,
    "pycharm": {
     "name": "#%%\n"
    }
   }
  },
  {
   "cell_type": "code",
   "execution_count": 544,
   "outputs": [
    {
     "data": {
      "text/plain": "{'>nan_values<': 0, 'No Choice': 529, 'Choice': 801}"
     },
     "execution_count": 544,
     "metadata": {},
     "output_type": "execute_result"
    }
   ],
   "source": [
    "counter_keywords_reward_type = data_util.df_counter(df=df_reward_final, column='Decision Making', order=1)\n",
    "counter_keywords_reward_type"
   ],
   "metadata": {
    "collapsed": false,
    "pycharm": {
     "name": "#%%\n"
    }
   }
  },
  {
   "cell_type": "code",
   "execution_count": 545,
   "outputs": [
    {
     "data": {
      "text/plain": "                                      title                         author  \\\n0   A functional neuroimaging study of m...                   Taylor et al   \n1   A region of mesial prefrontal cortex...                  Knutson et al   \n2   Activity in human reward-sensitive b...              Nieuwenhuis et al   \n3   Anticipation of Increasing Monetary ...                  Knutson et al   \n4   Anticipation of monetary and social ...            Spreckelmeyer et al   \n5   Anticipation of reward in a nonavers...                   Kirscg et al   \n6   Are Attractive People Rewarding - Se...                 Cloutier et al   \n7   Beautiful Faces Have Variable Reward...                   Aharon et al   \n8   Binge-Eating Disorder  Reward Sensit...                 Schienle et al   \n9   Brain systems for assessing facial a...                  Winston et al   \n10  Context-dependent cortical activatio...                 Akitsuki et al   \n11  Cortical and limbic activation durin...                 Killgore et al   \n12  Decreasing ventromedial prefrontal c...                Schonberg et al   \n13  Determining a Role for Ventromedial ...                 Glascher et al   \n14  Developmental effects of decision-ma...                   Jarcho et al   \n15  Differential Response Patterns in th...                  Elliott et al   \n16  Dissociable Neural Responses in Huma...                  Elliott et al   \n17  Dissociating Valence of Outcome from...                 John O Doherty   \n18  Dissociating Valence of Outcome from...                 John O Doherty   \n19  Dissociating Valence of Outcome from...                 John O Doherty   \n20  Dissociating contributions of ACC an...                  Vassena et al   \n21  Dissociation of neural networks for ...               Rademacher et al   \n22  Dissociation of reward anticipation ...                  Knutson et al   \n23  Distinct Portions of Anterior Cingul...                   Rogers et al   \n24  Distinct Roles of Prefrontal Cortica...                 Lawrence et al   \n25  Distinct Value Signals in Anterior a...                    Smith et al   \n26  Distributed Neural Representation of...                  Knutson et al   \n27  Dorsal striatum responses to reward ...                  Delgado et al   \n28  Effort-Based Cost Benefit Valuation ...                  Croxson et al   \n29  From uncertainty to reward - BOLD ch...                    Abler et al   \n30  Functional Dissociations of Risk and...                      Xue et al   \n31  Individual differences in extraversi...                    Cohen et al   \n32  Individual preferences modulate ince...                  Koeneke et al   \n33  Inhibit  switch  and update - A with...                   Rodger et al   \n34  Instrumental responding for rewards ...                  Elliott et al   \n35  Is our self based on reward - Self-r...                    Greck et al   \n36  Learning to Like  A Role for Human O...                      Cox et al   \n37  Monetary reward magnitude effects on...             Rosell-Negre et al   \n38  Neural Coding of Reward-Prediction E...  Signe Bray and John O'Doherty   \n39  Neural Responses during Anticipation...           John O Doherty et al   \n40  Neural substrates of reward magnitud...                    Smith et al   \n41  Reward Value Coding Distinct From Ri...                   Tobler et al   \n42  Right Ventromedial and Dorsolateral ...               Christakou et al   \n43  Risky Decision Making - Prefrontal C...                    Kohno et al   \n44  Role of the Medial Prefrontal Cortex...                   Hauser et al   \n45  Segregated and Integrated Coding of ...                 Fujiwara et al   \n46  The Architecture of Reward Value Cod...                Sescousse et al   \n47  Tracking the Hemodynamic Responses t...                  Delgado et al   \n\n       Reward Contingency  #Foci  \n0             n-back task     18  \n1   performance-dependent     21  \n2                gambling     10  \n3                             24  \n4                             64  \n5                             56  \n6                 passive     19  \n7                 passive     51  \n8                 passive     12  \n9                 passive     15  \n10               gambling     35  \n11                passive     30  \n12                            28  \n13      reversal learning     20  \n14                            63  \n15  performance-dependent     16  \n16               gambling     19  \n17                            21  \n18                passive      6  \n19  performance-dependent     21  \n20               gambling     78  \n21  performance-dependent     47  \n22  performance-dependent     23  \n23               gambling     24  \n24               gambling     37  \n25                            54  \n26                            26  \n27               gambling     12  \n28                             9  \n29  performance-dependent     43  \n30               gambling     52  \n31  performance-dependent     39  \n32                            33  \n33            n-back task     28  \n34  performance-dependent     21  \n35               gambling     20  \n36               gambling     28  \n37  performance-dependent     11  \n38                passive      5  \n39                            18  \n40               gambling     14  \n41                            19  \n42               gambling     13  \n43                            14  \n44      reversal learning     12  \n45  performance-dependent     23  \n46  performance-dependent     46  \n47               gambling     32  ",
      "text/html": "<div>\n<style scoped>\n    .dataframe tbody tr th:only-of-type {\n        vertical-align: middle;\n    }\n\n    .dataframe tbody tr th {\n        vertical-align: top;\n    }\n\n    .dataframe thead th {\n        text-align: right;\n    }\n</style>\n<table border=\"1\" class=\"dataframe\">\n  <thead>\n    <tr style=\"text-align: right;\">\n      <th></th>\n      <th>title</th>\n      <th>author</th>\n      <th>Reward Contingency</th>\n      <th>#Foci</th>\n    </tr>\n  </thead>\n  <tbody>\n    <tr>\n      <th>0</th>\n      <td>A functional neuroimaging study of m...</td>\n      <td>Taylor et al</td>\n      <td>n-back task</td>\n      <td>18</td>\n    </tr>\n    <tr>\n      <th>1</th>\n      <td>A region of mesial prefrontal cortex...</td>\n      <td>Knutson et al</td>\n      <td>performance-dependent</td>\n      <td>21</td>\n    </tr>\n    <tr>\n      <th>2</th>\n      <td>Activity in human reward-sensitive b...</td>\n      <td>Nieuwenhuis et al</td>\n      <td>gambling</td>\n      <td>10</td>\n    </tr>\n    <tr>\n      <th>3</th>\n      <td>Anticipation of Increasing Monetary ...</td>\n      <td>Knutson et al</td>\n      <td></td>\n      <td>24</td>\n    </tr>\n    <tr>\n      <th>4</th>\n      <td>Anticipation of monetary and social ...</td>\n      <td>Spreckelmeyer et al</td>\n      <td></td>\n      <td>64</td>\n    </tr>\n    <tr>\n      <th>5</th>\n      <td>Anticipation of reward in a nonavers...</td>\n      <td>Kirscg et al</td>\n      <td></td>\n      <td>56</td>\n    </tr>\n    <tr>\n      <th>6</th>\n      <td>Are Attractive People Rewarding - Se...</td>\n      <td>Cloutier et al</td>\n      <td>passive</td>\n      <td>19</td>\n    </tr>\n    <tr>\n      <th>7</th>\n      <td>Beautiful Faces Have Variable Reward...</td>\n      <td>Aharon et al</td>\n      <td>passive</td>\n      <td>51</td>\n    </tr>\n    <tr>\n      <th>8</th>\n      <td>Binge-Eating Disorder  Reward Sensit...</td>\n      <td>Schienle et al</td>\n      <td>passive</td>\n      <td>12</td>\n    </tr>\n    <tr>\n      <th>9</th>\n      <td>Brain systems for assessing facial a...</td>\n      <td>Winston et al</td>\n      <td>passive</td>\n      <td>15</td>\n    </tr>\n    <tr>\n      <th>10</th>\n      <td>Context-dependent cortical activatio...</td>\n      <td>Akitsuki et al</td>\n      <td>gambling</td>\n      <td>35</td>\n    </tr>\n    <tr>\n      <th>11</th>\n      <td>Cortical and limbic activation durin...</td>\n      <td>Killgore et al</td>\n      <td>passive</td>\n      <td>30</td>\n    </tr>\n    <tr>\n      <th>12</th>\n      <td>Decreasing ventromedial prefrontal c...</td>\n      <td>Schonberg et al</td>\n      <td></td>\n      <td>28</td>\n    </tr>\n    <tr>\n      <th>13</th>\n      <td>Determining a Role for Ventromedial ...</td>\n      <td>Glascher et al</td>\n      <td>reversal learning</td>\n      <td>20</td>\n    </tr>\n    <tr>\n      <th>14</th>\n      <td>Developmental effects of decision-ma...</td>\n      <td>Jarcho et al</td>\n      <td></td>\n      <td>63</td>\n    </tr>\n    <tr>\n      <th>15</th>\n      <td>Differential Response Patterns in th...</td>\n      <td>Elliott et al</td>\n      <td>performance-dependent</td>\n      <td>16</td>\n    </tr>\n    <tr>\n      <th>16</th>\n      <td>Dissociable Neural Responses in Huma...</td>\n      <td>Elliott et al</td>\n      <td>gambling</td>\n      <td>19</td>\n    </tr>\n    <tr>\n      <th>17</th>\n      <td>Dissociating Valence of Outcome from...</td>\n      <td>John O Doherty</td>\n      <td></td>\n      <td>21</td>\n    </tr>\n    <tr>\n      <th>18</th>\n      <td>Dissociating Valence of Outcome from...</td>\n      <td>John O Doherty</td>\n      <td>passive</td>\n      <td>6</td>\n    </tr>\n    <tr>\n      <th>19</th>\n      <td>Dissociating Valence of Outcome from...</td>\n      <td>John O Doherty</td>\n      <td>performance-dependent</td>\n      <td>21</td>\n    </tr>\n    <tr>\n      <th>20</th>\n      <td>Dissociating contributions of ACC an...</td>\n      <td>Vassena et al</td>\n      <td>gambling</td>\n      <td>78</td>\n    </tr>\n    <tr>\n      <th>21</th>\n      <td>Dissociation of neural networks for ...</td>\n      <td>Rademacher et al</td>\n      <td>performance-dependent</td>\n      <td>47</td>\n    </tr>\n    <tr>\n      <th>22</th>\n      <td>Dissociation of reward anticipation ...</td>\n      <td>Knutson et al</td>\n      <td>performance-dependent</td>\n      <td>23</td>\n    </tr>\n    <tr>\n      <th>23</th>\n      <td>Distinct Portions of Anterior Cingul...</td>\n      <td>Rogers et al</td>\n      <td>gambling</td>\n      <td>24</td>\n    </tr>\n    <tr>\n      <th>24</th>\n      <td>Distinct Roles of Prefrontal Cortica...</td>\n      <td>Lawrence et al</td>\n      <td>gambling</td>\n      <td>37</td>\n    </tr>\n    <tr>\n      <th>25</th>\n      <td>Distinct Value Signals in Anterior a...</td>\n      <td>Smith et al</td>\n      <td></td>\n      <td>54</td>\n    </tr>\n    <tr>\n      <th>26</th>\n      <td>Distributed Neural Representation of...</td>\n      <td>Knutson et al</td>\n      <td></td>\n      <td>26</td>\n    </tr>\n    <tr>\n      <th>27</th>\n      <td>Dorsal striatum responses to reward ...</td>\n      <td>Delgado et al</td>\n      <td>gambling</td>\n      <td>12</td>\n    </tr>\n    <tr>\n      <th>28</th>\n      <td>Effort-Based Cost Benefit Valuation ...</td>\n      <td>Croxson et al</td>\n      <td></td>\n      <td>9</td>\n    </tr>\n    <tr>\n      <th>29</th>\n      <td>From uncertainty to reward - BOLD ch...</td>\n      <td>Abler et al</td>\n      <td>performance-dependent</td>\n      <td>43</td>\n    </tr>\n    <tr>\n      <th>30</th>\n      <td>Functional Dissociations of Risk and...</td>\n      <td>Xue et al</td>\n      <td>gambling</td>\n      <td>52</td>\n    </tr>\n    <tr>\n      <th>31</th>\n      <td>Individual differences in extraversi...</td>\n      <td>Cohen et al</td>\n      <td>performance-dependent</td>\n      <td>39</td>\n    </tr>\n    <tr>\n      <th>32</th>\n      <td>Individual preferences modulate ince...</td>\n      <td>Koeneke et al</td>\n      <td></td>\n      <td>33</td>\n    </tr>\n    <tr>\n      <th>33</th>\n      <td>Inhibit  switch  and update - A with...</td>\n      <td>Rodger et al</td>\n      <td>n-back task</td>\n      <td>28</td>\n    </tr>\n    <tr>\n      <th>34</th>\n      <td>Instrumental responding for rewards ...</td>\n      <td>Elliott et al</td>\n      <td>performance-dependent</td>\n      <td>21</td>\n    </tr>\n    <tr>\n      <th>35</th>\n      <td>Is our self based on reward - Self-r...</td>\n      <td>Greck et al</td>\n      <td>gambling</td>\n      <td>20</td>\n    </tr>\n    <tr>\n      <th>36</th>\n      <td>Learning to Like  A Role for Human O...</td>\n      <td>Cox et al</td>\n      <td>gambling</td>\n      <td>28</td>\n    </tr>\n    <tr>\n      <th>37</th>\n      <td>Monetary reward magnitude effects on...</td>\n      <td>Rosell-Negre et al</td>\n      <td>performance-dependent</td>\n      <td>11</td>\n    </tr>\n    <tr>\n      <th>38</th>\n      <td>Neural Coding of Reward-Prediction E...</td>\n      <td>Signe Bray and John O'Doherty</td>\n      <td>passive</td>\n      <td>5</td>\n    </tr>\n    <tr>\n      <th>39</th>\n      <td>Neural Responses during Anticipation...</td>\n      <td>John O Doherty et al</td>\n      <td></td>\n      <td>18</td>\n    </tr>\n    <tr>\n      <th>40</th>\n      <td>Neural substrates of reward magnitud...</td>\n      <td>Smith et al</td>\n      <td>gambling</td>\n      <td>14</td>\n    </tr>\n    <tr>\n      <th>41</th>\n      <td>Reward Value Coding Distinct From Ri...</td>\n      <td>Tobler et al</td>\n      <td></td>\n      <td>19</td>\n    </tr>\n    <tr>\n      <th>42</th>\n      <td>Right Ventromedial and Dorsolateral ...</td>\n      <td>Christakou et al</td>\n      <td>gambling</td>\n      <td>13</td>\n    </tr>\n    <tr>\n      <th>43</th>\n      <td>Risky Decision Making - Prefrontal C...</td>\n      <td>Kohno et al</td>\n      <td></td>\n      <td>14</td>\n    </tr>\n    <tr>\n      <th>44</th>\n      <td>Role of the Medial Prefrontal Cortex...</td>\n      <td>Hauser et al</td>\n      <td>reversal learning</td>\n      <td>12</td>\n    </tr>\n    <tr>\n      <th>45</th>\n      <td>Segregated and Integrated Coding of ...</td>\n      <td>Fujiwara et al</td>\n      <td>performance-dependent</td>\n      <td>23</td>\n    </tr>\n    <tr>\n      <th>46</th>\n      <td>The Architecture of Reward Value Cod...</td>\n      <td>Sescousse et al</td>\n      <td>performance-dependent</td>\n      <td>46</td>\n    </tr>\n    <tr>\n      <th>47</th>\n      <td>Tracking the Hemodynamic Responses t...</td>\n      <td>Delgado et al</td>\n      <td>gambling</td>\n      <td>32</td>\n    </tr>\n  </tbody>\n</table>\n</div>"
     },
     "execution_count": 545,
     "metadata": {},
     "output_type": "execute_result"
    }
   ],
   "source": [
    "df_reward_final\n",
    "df = df_reward_final.groupby(['title', 'author', \"Reward Contingency\"]).size().reset_index(name=\"#Foci\")\n",
    "df"
   ],
   "metadata": {
    "collapsed": false,
    "pycharm": {
     "name": "#%%\n"
    }
   }
  },
  {
   "cell_type": "code",
   "execution_count": 545,
   "outputs": [],
   "source": [],
   "metadata": {
    "collapsed": false,
    "pycharm": {
     "name": "#%%\n"
    }
   }
  }
 ],
 "metadata": {
  "kernelspec": {
   "display_name": "Python 3",
   "language": "python",
   "name": "python3"
  },
  "language_info": {
   "codemirror_mode": {
    "name": "ipython",
    "version": 2
   },
   "file_extension": ".py",
   "mimetype": "text/x-python",
   "name": "python",
   "nbconvert_exporter": "python",
   "pygments_lexer": "ipython2",
   "version": "2.7.6"
  }
 },
 "nbformat": 4,
 "nbformat_minor": 0
}