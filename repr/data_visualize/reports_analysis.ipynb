{
 "cells": [
  {
   "cell_type": "code",
   "execution_count": 67,
   "outputs": [],
   "source": [
    "import pandas as pd\n",
    "import numpy as np\n",
    "import importlib\n",
    "import util.Data as data_util\n",
    "import util.DataframeProcess as df_proc\n",
    "import seaborn as sn\n",
    "import matplotlib.pyplot as plt"
   ],
   "metadata": {
    "collapsed": false,
    "pycharm": {
     "name": "#%%\n"
    }
   }
  },
  {
   "cell_type": "code",
   "execution_count": 68,
   "outputs": [
    {
     "data": {
      "text/plain": "<module 'util.DataframeProcess' from 'D:\\\\scul\\\\uaic-ub\\\\licenta\\\\code\\\\util\\\\DataframeProcess.py'>"
     },
     "execution_count": 68,
     "metadata": {},
     "output_type": "execute_result"
    }
   ],
   "source": [
    "importlib.reload(data_util)\n",
    "importlib.reload(df_proc)"
   ],
   "metadata": {
    "collapsed": false,
    "pycharm": {
     "name": "#%%\n"
    }
   }
  },
  {
   "cell_type": "markdown",
   "source": [
    "# Data"
   ],
   "metadata": {
    "collapsed": false
   }
  },
  {
   "cell_type": "code",
   "execution_count": 69,
   "outputs": [],
   "source": [
    "csv_filename = r'../data_db/final_coordinates-conversion-v2.csv'\n",
    "df_main = data_util.import_data(csv_filename)"
   ],
   "metadata": {
    "collapsed": false,
    "pycharm": {
     "name": "#%%\n"
    }
   }
  },
  {
   "cell_type": "code",
   "execution_count": 70,
   "outputs": [
    {
     "data": {
      "text/plain": "(1827, 26)"
     },
     "execution_count": 70,
     "metadata": {},
     "output_type": "execute_result"
    }
   ],
   "source": [
    "df_data = df_main.copy()\n",
    "df_data.shape"
   ],
   "metadata": {
    "collapsed": false,
    "pycharm": {
     "name": "#%%\n"
    }
   }
  },
  {
   "cell_type": "code",
   "execution_count": 71,
   "outputs": [
    {
     "data": {
      "text/plain": "61"
     },
     "execution_count": 71,
     "metadata": {},
     "output_type": "execute_result"
    }
   ],
   "source": [
    "df_data['title'].unique().size"
   ],
   "metadata": {
    "collapsed": false,
    "pycharm": {
     "name": "#%%\n"
    }
   }
  },
  {
   "cell_type": "markdown",
   "source": [
    "## Split wm and rest"
   ],
   "metadata": {
    "collapsed": false
   }
  },
  {
   "cell_type": "code",
   "execution_count": 72,
   "outputs": [],
   "source": [
    "df_data = df_main.copy()\n",
    "mask_wm = df_data['keywords'].str.contains('working memory')"
   ],
   "metadata": {
    "collapsed": false,
    "pycharm": {
     "name": "#%%\n"
    }
   }
  },
  {
   "cell_type": "markdown",
   "source": [
    "### Working Memory"
   ],
   "metadata": {
    "collapsed": false
   }
  },
  {
   "cell_type": "code",
   "execution_count": 73,
   "outputs": [],
   "source": [
    "df_wm = df_data[mask_wm]"
   ],
   "metadata": {
    "collapsed": false,
    "pycharm": {
     "name": "#%%\n"
    }
   }
  },
  {
   "cell_type": "code",
   "execution_count": 74,
   "outputs": [
    {
     "data": {
      "text/plain": "17"
     },
     "execution_count": 74,
     "metadata": {},
     "output_type": "execute_result"
    }
   ],
   "source": [
    "df_wm['title'].unique().size"
   ],
   "metadata": {
    "collapsed": false,
    "pycharm": {
     "name": "#%%\n"
    }
   }
  },
  {
   "cell_type": "code",
   "execution_count": 75,
   "outputs": [
    {
     "data": {
      "text/plain": "                                     title              author  \\\n0  A Rapid fMRI Task Battery for Mappin...  Drobyshevsky et al   \n\n   Number of Foci  Number of Subjects       contrast_set  \\\n0              13                  31  {2-back > 0-back}   \n\n                            keywords_split  \n0  {fMRI, working memory, talairach, tw...  ",
      "text/html": "<div>\n<style scoped>\n    .dataframe tbody tr th:only-of-type {\n        vertical-align: middle;\n    }\n\n    .dataframe tbody tr th {\n        vertical-align: top;\n    }\n\n    .dataframe thead th {\n        text-align: right;\n    }\n</style>\n<table border=\"1\" class=\"dataframe\">\n  <thead>\n    <tr style=\"text-align: right;\">\n      <th></th>\n      <th>title</th>\n      <th>author</th>\n      <th>Number of Foci</th>\n      <th>Number of Subjects</th>\n      <th>contrast_set</th>\n      <th>keywords_split</th>\n    </tr>\n  </thead>\n  <tbody>\n    <tr>\n      <th>0</th>\n      <td>A Rapid fMRI Task Battery for Mappin...</td>\n      <td>Drobyshevsky et al</td>\n      <td>13</td>\n      <td>31</td>\n      <td>{2-back &gt; 0-back}</td>\n      <td>{fMRI, working memory, talairach, tw...</td>\n    </tr>\n  </tbody>\n</table>\n</div>"
     },
     "execution_count": 75,
     "metadata": {},
     "output_type": "execute_result"
    }
   ],
   "source": [
    "df_wm_proc = df_proc.df_process(df_wm)\n",
    "df_wm_proc.head(1)"
   ],
   "metadata": {
    "collapsed": false,
    "pycharm": {
     "name": "#%%\n"
    }
   }
  },
  {
   "cell_type": "markdown",
   "source": [
    "### Contrast wm"
   ],
   "metadata": {
    "collapsed": false
   }
  },
  {
   "cell_type": "code",
   "execution_count": 76,
   "outputs": [
    {
     "data": {
      "text/plain": "{'>nan_values<': 0,\n '1-back > rest': 1,\n '2-back > 1-back': 1,\n 'precue > retrocue': 1,\n 'retrocue and precue': 1,\n 'sub-dif > baseline': 1,\n 'sub-dif > frame-dif': 1,\n 'sub-id > baseline': 1,\n 'retrocue > precue': 1,\n '1-back > 2-back': 1,\n 'n-back > control task': 1,\n '-': 2,\n '3-back > 2-back > 1-back > 0-back': 2,\n '3-back > 0-back': 2,\n '2-back > 1-back > 0-back': 2,\n '2-back > 0-back': 6}"
     },
     "execution_count": 76,
     "metadata": {},
     "output_type": "execute_result"
    }
   ],
   "source": [
    "list_contrast_wm = list(df_proc.list_of_sets_to_set(df_wm_proc, 'contrast_set'))\n",
    "counter_contrast_wm = data_util.df_counter(df=df_wm_proc.explode('contrast_set'), column='contrast_set',\n",
    "                                           set_keywords=list_contrast_wm, order=1)\n",
    "counter_contrast_wm"
   ],
   "metadata": {
    "collapsed": false,
    "pycharm": {
     "name": "#%%\n"
    }
   }
  },
  {
   "cell_type": "code",
   "execution_count": 77,
   "outputs": [],
   "source": [
    "# chosen set of contrast\n",
    "min_val = 1\n",
    "list_contrast_selection_wm = list(set([key for key in list_contrast_wm if counter_contrast_wm[key] >= min_val]))\n",
    "# create new col with only selected contrasts\n",
    "df_wm_proc['selected_contrast'] = df_wm_proc['contrast_set'].apply(\n",
    "    lambda x: set(x).intersection(list_contrast_selection_wm))\n",
    "\n",
    "contrast_bool_wm = df_proc.boolean_df(df_wm_proc['selected_contrast'], list_contrast_selection_wm)\n",
    "contrast_int_wm = contrast_bool_wm.astype(int)\n",
    "contrast_freq_mat_wm = np.dot(contrast_int_wm.T, contrast_int_wm)"
   ],
   "metadata": {
    "collapsed": false,
    "pycharm": {
     "name": "#%%\n"
    }
   }
  },
  {
   "cell_type": "code",
   "execution_count": 78,
   "outputs": [],
   "source": [
    "contrast_freq_wm = pd.DataFrame(contrast_freq_mat_wm, columns=list_contrast_selection_wm,\n",
    "                                index=list_contrast_selection_wm)\n",
    "# contrast_freq_wm"
   ],
   "metadata": {
    "collapsed": false,
    "pycharm": {
     "name": "#%%\n"
    }
   }
  },
  {
   "cell_type": "code",
   "execution_count": 79,
   "outputs": [
    {
     "data": {
      "text/plain": "<Figure size 648x360 with 2 Axes>",
      "image/png": "[encoded data removed]"
     },
     "metadata": {
      "needs_background": "light"
     },
     "output_type": "display_data"
    }
   ],
   "source": [
    "fig, ax = plt.subplots(figsize=(9, 5))\n",
    "sn.heatmap(contrast_freq_wm, cmap=\"Blues\")\n",
    "# plt.xticks(rotation=50)\n",
    "plt.savefig(\"heatmap_contrast_wm.png\", dpi=300)"
   ],
   "metadata": {
    "collapsed": false,
    "pycharm": {
     "name": "#%%\n"
    }
   }
  },
  {
   "cell_type": "markdown",
   "source": [
    "### Keywords wm"
   ],
   "metadata": {
    "collapsed": false
   }
  },
  {
   "cell_type": "code",
   "execution_count": 80,
   "outputs": [
    {
     "data": {
      "text/plain": "{'>nan_values<': 0,\n 'reversal learning task': 1,\n 'visual spatial cue': 1,\n 'verbal pseudo-words': 1,\n 'visual identical shapes': 1,\n 'experimental task': 1,\n 'reward value': 1,\n 'precue': 1,\n 'Sub-Dif': 1,\n 'visual object': 1,\n 'scrambled drawings': 1,\n 'verbal': 1,\n 'visual faces': 1,\n 'reading': 1,\n 'decision phase': 1,\n 'perceptual matching task': 1,\n 'visual shape': 1,\n 'positive reward': 1,\n 'visual shape color': 1,\n 'Sub-Id': 1,\n 'facial expression': 1,\n 'anticipation phase': 1,\n 'negative reward': 1,\n 'retrocue': 1,\n 'two and four choice reversal learning task': 1,\n 'visual word recognition': 2,\n 'visual numbers': 2,\n 'three-back task': 2,\n 'one-back task': 2,\n 'monetary reward': 2,\n 'decision making': 3,\n 'visual letters': 6,\n 'two-back task': 7,\n 'talairach': 7,\n 'MNI': 10,\n 'n-back task': 14,\n 'fMRI': 17,\n 'working memory': 17}"
     },
     "execution_count": 80,
     "metadata": {},
     "output_type": "execute_result"
    }
   ],
   "source": [
    "counter_keywords_wm = data_util.df_counter(df=df_wm_proc.explode('keywords_split'), column='keywords_split',\n",
    "                                           set_keywords=df_proc.list_of_sets_to_set(df_wm_proc, 'keywords_split'),\n",
    "                                           order=1)\n",
    "counter_keywords_wm"
   ],
   "metadata": {
    "collapsed": false,
    "pycharm": {
     "name": "#%%\n"
    }
   }
  },
  {
   "cell_type": "code",
   "execution_count": 81,
   "outputs": [],
   "source": [
    "# chosen set of keywords\n",
    "# list_keywords = list(df_proc.list_of_sets_to_set(df_wm_proc, 'keywords_split'))\n",
    "list_keywords = [\n",
    "    'Sub-Dif',\n",
    "    'Sub-Id',\n",
    "    'anticipation phase',\n",
    "    'decision making',\n",
    "    'decision phase',\n",
    "    'facial expression',\n",
    "    'monetary reward',\n",
    "    'n-back task',\n",
    "    'negative reward',\n",
    "    'one-back task',\n",
    "    'positive reward',\n",
    "    'precue',\n",
    "    'reading',\n",
    "    'retrocue',\n",
    "    'reward value',\n",
    "    'scrambled drawings',\n",
    "    'three-back task',\n",
    "    'two and four choice reversal learning task',\n",
    "    'two-back task',\n",
    "    'verbal',\n",
    "    'verbal pseudo-words',\n",
    "    'visual faces',\n",
    "    'visual letters',\n",
    "    'visual numbers',\n",
    "    'visual object',\n",
    "    'visual shape',\n",
    "    'visual shape color',\n",
    "    'visual spatial cue',\n",
    "    'visual word recognition']"
   ],
   "metadata": {
    "collapsed": false,
    "pycharm": {
     "name": "#%%\n"
    }
   }
  },
  {
   "cell_type": "code",
   "execution_count": 82,
   "outputs": [],
   "source": [
    "min_val = 2\n",
    "list_keywords_selection_wm = list(set([key for key in list_keywords if counter_keywords_wm[key] >= min_val]))\n",
    "# create new col with only selected keywordss\n",
    "df_wm_proc['selected_keywords'] = df_wm_proc['keywords_split'].apply(\n",
    "    lambda x: set(x).intersection(list_keywords_selection_wm))\n",
    "\n",
    "keywords_bool_wm = df_proc.boolean_df(df_wm_proc['selected_keywords'], list_keywords_selection_wm)\n",
    "keywords_int_wm = keywords_bool_wm.astype(int)\n",
    "keywords_freq_mat_wm = np.dot(keywords_int_wm.T, keywords_int_wm)"
   ],
   "metadata": {
    "collapsed": false,
    "pycharm": {
     "name": "#%%\n"
    }
   }
  },
  {
   "cell_type": "code",
   "execution_count": 83,
   "outputs": [],
   "source": [
    "keywords_freq_wm = pd.DataFrame(keywords_freq_mat_wm, columns=list_keywords_selection_wm,\n",
    "                                index=list_keywords_selection_wm)\n",
    "# keywords_freq_wm"
   ],
   "metadata": {
    "collapsed": false,
    "pycharm": {
     "name": "#%%\n"
    }
   }
  },
  {
   "cell_type": "code",
   "execution_count": 84,
   "outputs": [
    {
     "data": {
      "text/plain": "<AxesSubplot:>"
     },
     "execution_count": 84,
     "metadata": {},
     "output_type": "execute_result"
    },
    {
     "data": {
      "text/plain": "<Figure size 432x288 with 2 Axes>",
      "image/png": "[encoded data removed]"
     },
     "metadata": {
      "needs_background": "light"
     },
     "output_type": "display_data"
    }
   ],
   "source": [
    "sn.heatmap(keywords_freq_wm, cmap=\"Blues\")"
   ],
   "metadata": {
    "collapsed": false,
    "pycharm": {
     "name": "#%%\n"
    }
   }
  },
  {
   "cell_type": "markdown",
   "source": [
    "### Keywords and Contrast wm"
   ],
   "metadata": {
    "collapsed": false
   }
  },
  {
   "cell_type": "code",
   "execution_count": 85,
   "outputs": [],
   "source": [
    "list_cnt_key_selection_wm = list_contrast_selection_wm + list_keywords_selection_wm\n",
    "cnt_key_int_wm = pd.merge(contrast_int_wm, keywords_int_wm, left_index=True, right_index=True).astype(int)\n",
    "cnt_key_freq_mat_wm = np.dot(cnt_key_int_wm.T, cnt_key_int_wm)"
   ],
   "metadata": {
    "collapsed": false,
    "pycharm": {
     "name": "#%%\n"
    }
   }
  },
  {
   "cell_type": "code",
   "execution_count": 86,
   "outputs": [],
   "source": [
    "cnt_key_freq_wm = pd.DataFrame(cnt_key_freq_mat_wm, columns=list_cnt_key_selection_wm, index=list_cnt_key_selection_wm)"
   ],
   "metadata": {
    "collapsed": false,
    "pycharm": {
     "name": "#%%\n"
    }
   }
  },
  {
   "cell_type": "code",
   "execution_count": 87,
   "outputs": [
    {
     "data": {
      "text/plain": "<Figure size 1440x1080 with 2 Axes>",
      "image/png": "[encoded data removed]"
     },
     "metadata": {
      "needs_background": "light"
     },
     "output_type": "display_data"
    }
   ],
   "source": [
    "fig, ax = plt.subplots(figsize=(20, 15))\n",
    "sn.heatmap(cnt_key_freq_wm, cmap=\"Blues\")\n",
    "# plt.xticks(rotation=60)\n",
    "plt.savefig(\"heatmap_cnt_key_wm.png\", dpi=300)"
   ],
   "metadata": {
    "collapsed": false,
    "pycharm": {
     "name": "#%%\n"
    }
   }
  },
  {
   "cell_type": "code",
   "execution_count": 87,
   "outputs": [],
   "source": [],
   "metadata": {
    "collapsed": false,
    "pycharm": {
     "name": "#%%\n"
    }
   }
  },
  {
   "cell_type": "markdown",
   "source": [
    "## Reward magnitude and type"
   ],
   "metadata": {
    "collapsed": false
   }
  },
  {
   "cell_type": "code",
   "execution_count": 88,
   "outputs": [],
   "source": [
    "df_reward = df_data[~mask_wm]"
   ],
   "metadata": {
    "collapsed": false,
    "pycharm": {
     "name": "#%%\n"
    }
   }
  },
  {
   "cell_type": "code",
   "execution_count": 89,
   "outputs": [
    {
     "data": {
      "text/plain": "46"
     },
     "execution_count": 89,
     "metadata": {},
     "output_type": "execute_result"
    }
   ],
   "source": [
    "df_reward['title'].unique().size"
   ],
   "metadata": {
    "collapsed": false,
    "pycharm": {
     "name": "#%%\n"
    }
   }
  },
  {
   "cell_type": "code",
   "execution_count": 90,
   "outputs": [
    {
     "data": {
      "text/plain": "                                     title        author  Number of Foci  \\\n0  A functional neuroimaging study of m...  Taylor et al              18   \n\n   Number of Subjects contrast_set                           keywords_split  \n0                  12          {-}  {fMRI, monetary reward, decision pha...  ",
      "text/html": "<div>\n<style scoped>\n    .dataframe tbody tr th:only-of-type {\n        vertical-align: middle;\n    }\n\n    .dataframe tbody tr th {\n        vertical-align: top;\n    }\n\n    .dataframe thead th {\n        text-align: right;\n    }\n</style>\n<table border=\"1\" class=\"dataframe\">\n  <thead>\n    <tr style=\"text-align: right;\">\n      <th></th>\n      <th>title</th>\n      <th>author</th>\n      <th>Number of Foci</th>\n      <th>Number of Subjects</th>\n      <th>contrast_set</th>\n      <th>keywords_split</th>\n    </tr>\n  </thead>\n  <tbody>\n    <tr>\n      <th>0</th>\n      <td>A functional neuroimaging study of m...</td>\n      <td>Taylor et al</td>\n      <td>18</td>\n      <td>12</td>\n      <td>{-}</td>\n      <td>{fMRI, monetary reward, decision pha...</td>\n    </tr>\n  </tbody>\n</table>\n</div>"
     },
     "execution_count": 90,
     "metadata": {},
     "output_type": "execute_result"
    }
   ],
   "source": [
    "df_reward_proc = df_proc.df_process(df_reward)\n",
    "df_reward_proc.head(1)"
   ],
   "metadata": {
    "collapsed": false,
    "pycharm": {
     "name": "#%%\n"
    }
   }
  },
  {
   "cell_type": "markdown",
   "source": [
    "### Contrast reward"
   ],
   "metadata": {
    "collapsed": false
   }
  },
  {
   "cell_type": "code",
   "execution_count": 91,
   "outputs": [
    {
     "data": {
      "text/plain": "{'>nan_values<': 0,\n 'movement > no movement and reward > no reward': 1,\n 'small incentives > baseline': 1,\n 'ar switch > stay and sr switch > stay': 1,\n 'expected reward > received reward and control > adhd': 1,\n 'l4 > l1': 1,\n 'loss after winning streak > l1': 1,\n 'win after losing streak > w1': 1,\n 'w1 > l1': 1,\n 'large incentives > baseline': 1,\n 'win > lose and risk > safe': 1,\n 'disadvantageous > advantageous': 1,\n 'monetary reward > erotic reward': 1,\n 'erotic reward > monetary reward': 1,\n 'social reward > monetary reward': 1,\n 'response maintenance > response switch': 1,\n 'win modulation': 1,\n 'punishment > reward': 1,\n 'risky gambles > safe gambles': 1,\n 'all w > all l': 1,\n 'lose modulation': 1,\n 'social reward magnitude': 1,\n 'low-calorie and high-calorie': 1,\n 'beautiful faces > average faces': 1,\n 'reward > punishment': 1,\n 'lose > win': 1,\n 'cash-out > control': 1,\n 'pumps > control': 1,\n 'inhibiton task > control task': 1,\n 'monetary reward > faces reward': 1,\n 'decision-making > control task': 1,\n 'reward during run of success': 1,\n 'all female faces > all male faces': 1,\n 'beautiful female > beautiful male': 1,\n 'reward during run of success and penalty during run of failure': 1,\n 'lose > no reward': 1,\n 'average female > average male': 1,\n 'stroop block > baseline': 1,\n 'explosion > control': 1,\n 'penalty during run of failure': 1,\n 'punishment > no reward': 1,\n 'negative correlation with reward level': 1,\n 'reward > negative feedback': 1,\n 'ar; sr > neutral activity': 1,\n 'monetary reward magnitude': 1,\n 'monetary reward > social reward': 1,\n 'high-calorie > low-calorie': 1,\n 'w4 > w1': 1,\n 'choice > no choice': 1,\n 'anticipation phase': 1,\n 'response switch > response maintenance': 1,\n 'movement > no movement': 1,\n 'low-calorie > high-calorie': 1,\n 'task switching > control task': 1,\n 'beautiful male > average male': 1,\n 'advantageous > disadvantageous': 1,\n 'high reward > high loss': 1,\n 'low probability > high probability': 2,\n 'received reward > expected reward': 2,\n 'high probability > low probability': 2,\n 'expected reward > received reward': 4,\n 'risk > safe': 4,\n '-': 5,\n 'win > lose': 6,\n 'reward > no reward': 13,\n 'high reward > low reward': 15}"
     },
     "execution_count": 91,
     "metadata": {},
     "output_type": "execute_result"
    }
   ],
   "source": [
    "list_contrast_reward = list(df_proc.list_of_sets_to_set(df_reward_proc, 'contrast_set'))\n",
    "counter_contrast_reward = data_util.df_counter(df=df_reward_proc.explode('contrast_set'), column='contrast_set',\n",
    "                                           set_keywords=list_contrast_reward, order=1)\n",
    "counter_contrast_reward"
   ],
   "metadata": {
    "collapsed": false,
    "pycharm": {
     "name": "#%%\n"
    }
   }
  },
  {
   "cell_type": "code",
   "execution_count": 91,
   "outputs": [],
   "source": [],
   "metadata": {
    "collapsed": false,
    "pycharm": {
     "name": "#%%\n"
    }
   }
  },
  {
   "cell_type": "markdown",
   "source": [
    "### Keywords reward"
   ],
   "metadata": {
    "collapsed": false
   }
  },
  {
   "cell_type": "code",
   "execution_count": 92,
   "outputs": [
    {
     "data": {
      "text/plain": "{'>nan_values<': 0,\n 'potential gain': 1,\n 'dopamine': 1,\n 'cups task': 1,\n 'safe choice': 1,\n 'negative expectancy': 1,\n 'increasing activation': 1,\n 'small incentive': 1,\n 'decreasing activation': 1,\n 'movement': 1,\n 'high vs low calorie food': 1,\n 'modelling prediction error': 1,\n 'verbal reward': 1,\n 'erotic reward': 1,\n 'reinforcement learning': 1,\n 'young': 1,\n 'high incentive': 1,\n 'visual shape color': 1,\n 'visual color pies with probabilities': 1,\n 'inhibition': 1,\n 'anova': 1,\n 'adult': 1,\n 'time conditioning': 1,\n 'high calorie': 1,\n 'conditioning task': 1,\n 'extraversion': 1,\n 'effect of reward': 1,\n 'potential loss': 1,\n 'chocolate bars': 1,\n 'response maintenance': 1,\n 'monetary and erotic reward': 1,\n 'response switching': 1,\n 'probability': 1,\n 'fractal image': 1,\n 'visual cue': 1,\n 'visual shape': 1,\n 'increasing reward magnitude': 1,\n 'increasing reward uncertainty': 1,\n 'low calorie': 1,\n 'time effect': 1,\n 'positive expectancy': 1,\n 'Stroop task': 1,\n 'feedback reward': 1,\n 'face stimuli': 2,\n 'taste reward': 2,\n 'reversal learning': 2,\n 'food': 2,\n 'SID': 2,\n 'Balloon Analog Risk Task': 2,\n 'n-back task': 2,\n 'visual cards': 2,\n 'high gain vs high loss': 2,\n 'visual object': 3,\n 'task switching': 3,\n 'context-dependent reward': 3,\n 'decision phase': 4,\n 'risk choice': 5,\n 'negative reward': 5,\n 'MID': 7,\n 'viewing': 7,\n 'social reward': 7,\n 'passive': 7,\n 'positive reward': 11,\n 'performance-dependent': 11,\n 'gambling': 13,\n 'anticipation phase': 16,\n 'reward magnitude': 16,\n 'reward value': 18,\n 'talairach': 19,\n 'MNI': 27,\n 'decision making': 27,\n 'outcome phase': 32,\n 'monetary reward': 36,\n 'fMRI': 46}"
     },
     "execution_count": 92,
     "metadata": {},
     "output_type": "execute_result"
    }
   ],
   "source": [
    "counter_keywords_reward = data_util.df_counter(df=df_reward_proc.explode('keywords_split'), column='keywords_split',\n",
    "                                           set_keywords=df_proc.list_of_sets_to_set(df_reward_proc, 'keywords_split'),\n",
    "                                           order=1)\n",
    "counter_keywords_reward"
   ],
   "metadata": {
    "collapsed": false,
    "pycharm": {
     "name": "#%%\n"
    }
   }
  },
  {
   "cell_type": "markdown",
   "source": [
    "### Obtain reduce list of keywords - rewards type"
   ],
   "metadata": {
    "collapsed": false,
    "pycharm": {
     "name": "#%% md\n"
    }
   }
  },
  {
   "cell_type": "code",
   "execution_count": 93,
   "outputs": [
    {
     "data": {
      "text/plain": "{'>nan_values<': 0,\n 'effect of reward': 1,\n 'monetary and erotic reward': 1,\n 'increasing reward magnitude': 1,\n 'increasing reward uncertainty': 1,\n 'verbal reward': 1,\n 'erotic reward': 1,\n 'feedback reward': 1,\n 'taste reward': 2,\n 'context-dependent reward': 3,\n 'negative reward': 5,\n 'social reward': 7,\n 'positive reward': 11,\n 'reward magnitude': 16,\n 'reward value': 18,\n 'monetary reward': 36}"
     },
     "execution_count": 93,
     "metadata": {},
     "output_type": "execute_result"
    }
   ],
   "source": [
    "set_keywords_reward_type = set([el for el in df_proc.list_of_sets_to_set(df_reward_proc, 'keywords_split') if el.find('reward') != -1])\n",
    "counter_keywords_reward_type = data_util.df_counter(df=df_reward_proc.explode('keywords_split'), column='keywords_split',\n",
    "                                           set_keywords=set_keywords_reward_type,\n",
    "                                           order=1)\n",
    "counter_keywords_reward_type"
   ],
   "metadata": {
    "collapsed": false,
    "pycharm": {
     "name": "#%%\n"
    }
   }
  },
  {
   "cell_type": "markdown",
   "source": [
    "### Obtain reduce list of keywords - Reward contigency"
   ],
   "metadata": {
    "collapsed": false,
    "pycharm": {
     "name": "#%% md\n"
    }
   }
  },
  {
   "cell_type": "code",
   "execution_count": 94,
   "outputs": [
    {
     "data": {
      "text/plain": "{'Balloon Analog Risk Task',\n 'MID',\n 'MNI',\n 'SID',\n 'Stroop task',\n 'adult',\n 'anova',\n 'anticipation phase',\n 'chocolate bars',\n 'conditioning task',\n 'cups task',\n 'decision making',\n 'decision phase',\n 'decreasing activation',\n 'dopamine',\n 'extraversion',\n 'fMRI',\n 'face stimuli',\n 'food',\n 'fractal image',\n 'gambling',\n 'high calorie',\n 'high gain vs high loss',\n 'high incentive',\n 'high vs low calorie food',\n 'increasing activation',\n 'inhibition',\n 'low calorie',\n 'modelling prediction error',\n 'movement',\n 'n-back task',\n 'negative expectancy',\n 'outcome phase',\n 'passive',\n 'performance-dependent',\n 'positive expectancy',\n 'potential gain',\n 'potential loss',\n 'probability',\n 'reinforcement learning',\n 'response maintenance',\n 'response switching',\n 'reversal learning',\n 'risk choice',\n 'safe choice',\n 'small incentive',\n 'talairach',\n 'task switching',\n 'time conditioning',\n 'time effect',\n 'viewing',\n 'visual cards',\n 'visual color pies with probabilities',\n 'visual cue',\n 'visual object',\n 'visual shape',\n 'visual shape color',\n 'young'}"
     },
     "execution_count": 94,
     "metadata": {},
     "output_type": "execute_result"
    }
   ],
   "source": [
    "set_keywords = df_proc.list_of_sets_to_set(df_reward_proc, 'keywords_split').difference(set_keywords_reward_type)\n",
    "set_keywords"
   ],
   "metadata": {
    "collapsed": false,
    "pycharm": {
     "name": "#%%\n"
    }
   }
  },
  {
   "cell_type": "markdown",
   "source": [
    "### Check elements"
   ],
   "metadata": {
    "collapsed": false,
    "pycharm": {
     "name": "#%% md\n"
    }
   }
  },
  {
   "cell_type": "code",
   "execution_count": 95,
   "outputs": [
    {
     "data": {
      "text/plain": "                                                                                                                                 title  \\\n13  Determining a Role for Ventromedial Prefrontal Cortex in Encoding Action-Based Value Signals During Reward-Related Decision Making   \n42               Role of the Medial Prefrontal Cortex in Impaired Decision Making in Juvenile Attention-Deficit-Hyperactivity Disorder   \n\n            author  Number of Foci  Number of Subjects  \\\n13  Glascher et al              20                  20   \n42    Hauser et al              12                  20   \n\n                                                          contrast_set  \\\n13  {ar switch > stay and sr switch > stay, ar; sr > neutral activity}   \n42              {expected reward > received reward and control > adhd}   \n\n                                                                                                                            keywords_split  \n13  {decision making, fMRI, fractal image, monetary reward, reinforcement learning, task switching, MNI, outcome phase, reversal learning}  \n42                          {decision making, fMRI, monetary reward, visual object, task switching, MNI, outcome phase, reversal learning}  ",
      "text/html": "<div>\n<style scoped>\n    .dataframe tbody tr th:only-of-type {\n        vertical-align: middle;\n    }\n\n    .dataframe tbody tr th {\n        vertical-align: top;\n    }\n\n    .dataframe thead th {\n        text-align: right;\n    }\n</style>\n<table border=\"1\" class=\"dataframe\">\n  <thead>\n    <tr style=\"text-align: right;\">\n      <th></th>\n      <th>title</th>\n      <th>author</th>\n      <th>Number of Foci</th>\n      <th>Number of Subjects</th>\n      <th>contrast_set</th>\n      <th>keywords_split</th>\n    </tr>\n  </thead>\n  <tbody>\n    <tr>\n      <th>13</th>\n      <td>Determining a Role for Ventromedial Prefrontal Cortex in Encoding Action-Based Value Signals During Reward-Related Decision Making</td>\n      <td>Glascher et al</td>\n      <td>20</td>\n      <td>20</td>\n      <td>{ar switch &gt; stay and sr switch &gt; stay, ar; sr &gt; neutral activity}</td>\n      <td>{decision making, fMRI, fractal image, monetary reward, reinforcement learning, task switching, MNI, outcome phase, reversal learning}</td>\n    </tr>\n    <tr>\n      <th>42</th>\n      <td>Role of the Medial Prefrontal Cortex in Impaired Decision Making in Juvenile Attention-Deficit-Hyperactivity Disorder</td>\n      <td>Hauser et al</td>\n      <td>12</td>\n      <td>20</td>\n      <td>{expected reward &gt; received reward and control &gt; adhd}</td>\n      <td>{decision making, fMRI, monetary reward, visual object, task switching, MNI, outcome phase, reversal learning}</td>\n    </tr>\n  </tbody>\n</table>\n</div>"
     },
     "execution_count": 95,
     "metadata": {},
     "output_type": "execute_result"
    }
   ],
   "source": [
    "############\n",
    "check_set = ['reversal learning']\n",
    "pd.set_option('display.max_colwidth', None)  # to show all the column values\n",
    "mask = df_proc.check_column_elem(df=df_reward_proc,colummn_name='keywords_split',check_set=check_set)\n",
    "df_reward_proc[mask]"
   ],
   "metadata": {
    "collapsed": false,
    "pycharm": {
     "name": "#%%\n"
    }
   }
  },
  {
   "cell_type": "code",
   "execution_count": 96,
   "outputs": [],
   "source": [
    "pd.set_option('display.max_colwidth', 40)\n",
    "#############\n",
    "\n"
   ],
   "metadata": {
    "collapsed": false,
    "pycharm": {
     "name": "#%%\n"
    }
   }
  },
  {
   "cell_type": "code",
   "execution_count": 96,
   "outputs": [],
   "source": [],
   "metadata": {
    "collapsed": false,
    "pycharm": {
     "name": "#%%\n"
    }
   }
  }
 ],
 "metadata": {
  "kernelspec": {
   "display_name": "Python 3",
   "language": "python",
   "name": "python3"
  },
  "language_info": {
   "codemirror_mode": {
    "name": "ipython",
    "version": 2
   },
   "file_extension": ".py",
   "mimetype": "text/x-python",
   "name": "python",
   "nbconvert_exporter": "python",
   "pygments_lexer": "ipython2",
   "version": "2.7.6"
  }
 },
 "nbformat": 4,
 "nbformat_minor": 0
}