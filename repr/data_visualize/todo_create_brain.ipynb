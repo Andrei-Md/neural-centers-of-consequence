{
 "cells": [
  {
   "cell_type": "code",
   "execution_count": 1,
   "outputs": [],
   "source": [
    "import numpy as np\n",
    "import pandas as pd\n",
    "import util.Plotly as plots\n",
    "import util.colors.Colors as colors"
   ],
   "metadata": {
    "collapsed": false,
    "pycharm": {
     "name": "#%%\n"
    }
   }
  },
  {
   "cell_type": "code",
   "execution_count": 2,
   "metadata": {
    "collapsed": true
   },
   "outputs": [],
   "source": [
    "pointX = [-73, 73]\n",
    "pointY = [-107, 75]\n",
    "pointZ = [-53, 90]\n",
    "points = [pointX, pointY, pointZ]"
   ]
  },
  {
   "cell_type": "code",
   "execution_count": 4,
   "outputs": [
    {
     "name": "stdout",
     "output_type": "stream",
     "text": [
      "[73, 91, 71]\n",
      "471653\n"
     ]
    }
   ],
   "source": [
    "sum_list = [abs(x[0]) + abs(x[1]) for x in points]\n",
    "div = 2\n",
    "sum_list = [int(x / div) for x in sum_list]\n",
    "print(sum_list)\n",
    "vol = np.prod(sum_list)\n",
    "print(vol)"
   ],
   "metadata": {
    "collapsed": false,
    "pycharm": {
     "name": "#%%\n"
    }
   }
  },
  {
   "cell_type": "code",
   "execution_count": 5,
   "outputs": [],
   "source": [
    "# Create points\n",
    "listX = [x for x in range(pointX[0], pointX[1], div)]\n",
    "listY = [x for x in range(pointY[0], pointY[1], div)]\n",
    "listZ = [x for x in range(pointZ[0], pointX[1], div)]"
   ],
   "metadata": {
    "collapsed": false,
    "pycharm": {
     "name": "#%%\n"
    }
   }
  },
  {
   "cell_type": "code",
   "execution_count": 6,
   "outputs": [
    {
     "data": {
      "text/plain": "358457"
     },
     "execution_count": 6,
     "metadata": {},
     "output_type": "execute_result"
    }
   ],
   "source": [
    "list_coords = [[x, y, z] for x in listX for y in listY for z in listZ if\n",
    "               not ((y >= 49 and z <= -35) or (y >= 31 and z <= -47) or\n",
    "                    (y <= -35 and z <= -41) or (y <= -71 and z <= -23) or\n",
    "                    (y <= -95 and z >= 55) or (y >= 61 and z >= 49) or (\n",
    "                            y >= 61 and z >= 43) or (z <= -35 and -7 <= x <= 11))]\n",
    "len(list_coords)"
   ],
   "metadata": {
    "collapsed": false,
    "pycharm": {
     "name": "#%%\n"
    }
   }
  },
  {
   "cell_type": "code",
   "execution_count": 29,
   "outputs": [],
   "source": [
    "df_brain_coords = pd.DataFrame(list_coords, columns=[\"MNIX\", \"MNIY\", \"MNIZ\"])"
   ],
   "metadata": {
    "collapsed": false,
    "pycharm": {
     "name": "#%%\n"
    }
   }
  },
  {
   "cell_type": "code",
   "execution_count": 30,
   "outputs": [],
   "source": [
    "# save to csv\n",
    "csv_path = r'data/mni_brain_total.csv'\n",
    "df_brain_coords.to_csv(csv_path, index=False, header=False)"
   ],
   "metadata": {
    "collapsed": false,
    "pycharm": {
     "name": "#%%\n"
    }
   }
  },
  {
   "cell_type": "code",
   "execution_count": 3,
   "outputs": [
    {
     "data": {
      "text/plain": "   MNIX  MNIY  MNIZ                   BA  TALX  TALY  TALZ\n0   -73  -107   -21  Outside defined BAs   -71  -105   -13\n1   -73  -107   -13  Outside defined BAs   -71  -105    -6\n2   -73  -107    -5  Outside defined BAs   -71  -104     0\n3   -73  -107     3  Outside defined BAs   -71  -103     7\n4   -73  -107    11  Outside defined BAs   -71  -103    14",
      "text/html": "<div>\n<style scoped>\n    .dataframe tbody tr th:only-of-type {\n        vertical-align: middle;\n    }\n\n    .dataframe tbody tr th {\n        vertical-align: top;\n    }\n\n    .dataframe thead th {\n        text-align: right;\n    }\n</style>\n<table border=\"1\" class=\"dataframe\">\n  <thead>\n    <tr style=\"text-align: right;\">\n      <th></th>\n      <th>MNIX</th>\n      <th>MNIY</th>\n      <th>MNIZ</th>\n      <th>BA</th>\n      <th>TALX</th>\n      <th>TALY</th>\n      <th>TALZ</th>\n    </tr>\n  </thead>\n  <tbody>\n    <tr>\n      <th>0</th>\n      <td>-73</td>\n      <td>-107</td>\n      <td>-21</td>\n      <td>Outside defined BAs</td>\n      <td>-71</td>\n      <td>-105</td>\n      <td>-13</td>\n    </tr>\n    <tr>\n      <th>1</th>\n      <td>-73</td>\n      <td>-107</td>\n      <td>-13</td>\n      <td>Outside defined BAs</td>\n      <td>-71</td>\n      <td>-105</td>\n      <td>-6</td>\n    </tr>\n    <tr>\n      <th>2</th>\n      <td>-73</td>\n      <td>-107</td>\n      <td>-5</td>\n      <td>Outside defined BAs</td>\n      <td>-71</td>\n      <td>-104</td>\n      <td>0</td>\n    </tr>\n    <tr>\n      <th>3</th>\n      <td>-73</td>\n      <td>-107</td>\n      <td>3</td>\n      <td>Outside defined BAs</td>\n      <td>-71</td>\n      <td>-103</td>\n      <td>7</td>\n    </tr>\n    <tr>\n      <th>4</th>\n      <td>-73</td>\n      <td>-107</td>\n      <td>11</td>\n      <td>Outside defined BAs</td>\n      <td>-71</td>\n      <td>-103</td>\n      <td>14</td>\n    </tr>\n  </tbody>\n</table>\n</div>"
     },
     "execution_count": 3,
     "metadata": {},
     "output_type": "execute_result"
    }
   ],
   "source": [
    "div = 4\n",
    "# import points\n",
    "csv_mni_brain_coords_conv_filename = r'data/mni_brain_total_converted_2.csv'\n",
    "df_data_mni_conv = pd.read_csv(csv_mni_brain_coords_conv_filename)\n",
    "df_data_mni_conv = df_data_mni_conv.iloc[::div].reset_index(drop=True)\n",
    "df_data_mni_conv.head()"
   ],
   "metadata": {
    "collapsed": false,
    "pycharm": {
     "name": "#%%\n"
    }
   }
  },
  {
   "cell_type": "code",
   "execution_count": 4,
   "outputs": [],
   "source": [
    "# filter outside BAs\n",
    "mask_outside = df_data_mni_conv['BA'].str.contains('Outside defined BAs')\n",
    "df_data_mni_final = df_data_mni_conv[~mask_outside]\n",
    "df_test = df_data_mni_conv[mask_outside]"
   ],
   "metadata": {
    "collapsed": false,
    "pycharm": {
     "name": "#%%\n"
    }
   }
  },
  {
   "cell_type": "code",
   "execution_count": 5,
   "outputs": [
    {
     "data": {
      "text/plain": "(35109, 7)"
     },
     "execution_count": 5,
     "metadata": {},
     "output_type": "execute_result"
    }
   ],
   "source": [
    "df_data_mni_final.shape"
   ],
   "metadata": {
    "collapsed": false,
    "pycharm": {
     "name": "#%%\n"
    }
   }
  },
  {
   "cell_type": "code",
   "execution_count": 6,
   "outputs": [
    {
     "data": {
      "text/plain": "82"
     },
     "execution_count": 6,
     "metadata": {},
     "output_type": "execute_result"
    }
   ],
   "source": [
    "len(df_data_mni_final.BA.unique())"
   ],
   "metadata": {
    "collapsed": false,
    "pycharm": {
     "name": "#%%\n"
    }
   }
  },
  {
   "cell_type": "code",
   "execution_count": 7,
   "outputs": [],
   "source": [
    "color_nan = '#ebeded'\n",
    "color_rest = '#ffe4e1'\n",
    "color_line = 'rgb(50,50,50)'\n",
    "\n",
    "color1 = \"#800000\"\n",
    "color1_1 = \"#CD853f\"\n",
    "color2 = \"#556b2f\"\n",
    "color2_1 = \"#adff2f\"\n",
    "color3 = \"#000080\"\n",
    "color3_1 = \"#1e90ff\"\n",
    "color4 = \"#b8860B\"\n",
    "color4_1 = \"#FFFF00\""
   ],
   "metadata": {
    "collapsed": false,
    "pycharm": {
     "name": "#%%\n"
    }
   }
  },
  {
   "cell_type": "code",
   "execution_count": 8,
   "outputs": [],
   "source": [
    "cols = dict(x='MNIX',\n",
    "            y='MNIY',\n",
    "            z='MNIZ')"
   ],
   "metadata": {
    "collapsed": false,
    "pycharm": {
     "name": "#%%\n"
    }
   }
  },
  {
   "cell_type": "code",
   "execution_count": 9,
   "outputs": [],
   "source": [
    "#plot points\n",
    "# Brain data trace\n",
    "trace_brain_data = plots.create_data(df=df_data_mni_final,cols = cols, grouping_col='BA', colors=color_rest,\n",
    "                                     labels_col_list=['BA', 'MNIX', 'MNIY', 'MNIZ'],\n",
    "                                     opacity=0.9, check_nan=True, line_color=color_rest)"
   ],
   "metadata": {
    "collapsed": false,
    "pycharm": {
     "name": "#%%\n"
    }
   }
  },
  {
   "cell_type": "code",
   "execution_count": 10,
   "outputs": [],
   "source": [
    "#plot points\n",
    "# # Brain data trace\n",
    "trace_brain_data_rest = plots.create_data(df=df_test,cols = cols, grouping_col='BA', colors=color_nan,\n",
    "                                          labels_col_list=['BA', 'MNIX', 'MNIY', 'MNIZ'],\n",
    "                                          opacity=0.2, check_nan=True, line_color=color_nan)"
   ],
   "metadata": {
    "collapsed": false,
    "pycharm": {
     "name": "#%%\n"
    }
   }
  },
  {
   "cell_type": "code",
   "execution_count": 11,
   "outputs": [],
   "source": [
    "#Brain points\n",
    "data_dict_coords = [trace_brain_data]\n",
    "plots.plot_coordinates_plotly(data=data_dict_coords,\n",
    "                              data_source_name=csv_mni_brain_coords_conv_filename,\n",
    "                              title='Center Coordinates - all points')"
   ],
   "metadata": {
    "collapsed": false,
    "pycharm": {
     "name": "#%%\n"
    }
   }
  },
  {
   "cell_type": "code",
   "execution_count": 20,
   "outputs": [
    {
     "name": "stdout",
     "output_type": "stream",
     "text": [
      "[[ 18  -7 -28]\n",
      " [-17  -3 -14]\n",
      " [-28 -24 -14]\n",
      " [-21  21 -25]]\n"
     ]
    }
   ],
   "source": [
    "data =np.array([[18,-7,-28],\n",
    "        [-17,-3,-14],\n",
    "        [-28,-24,-14],\n",
    "        [-21,21,-25]])\n",
    "print(data)\n",
    "\n"
   ],
   "metadata": {
    "collapsed": false,
    "pycharm": {
     "name": "#%%\n"
    }
   }
  }
 ],
 "metadata": {
  "kernelspec": {
   "display_name": "Python 3",
   "language": "python",
   "name": "python3"
  },
  "language_info": {
   "codemirror_mode": {
    "name": "ipython",
    "version": 2
   },
   "file_extension": ".py",
   "mimetype": "text/x-python",
   "name": "python",
   "nbconvert_exporter": "python",
   "pygments_lexer": "ipython2",
   "version": "2.7.6"
  }
 },
 "nbformat": 4,
 "nbformat_minor": 0
}