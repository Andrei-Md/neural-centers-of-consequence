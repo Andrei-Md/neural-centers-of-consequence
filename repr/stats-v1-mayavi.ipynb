{
 "cells": [
  {
   "cell_type": "code",
   "execution_count": 29,
   "metadata": {
    "collapsed": true
   },
   "outputs": [],
   "source": [
    "import pandas as pd\n",
    "import numpy as np\n",
    "import util.Mayavi as util"
   ]
  },
  {
   "cell_type": "code",
   "execution_count": 30,
   "outputs": [
    {
     "data": {
      "text/plain": "<module 'util.Mayavi' from 'D:\\\\scul\\\\uaic-ub\\\\licenta\\\\code\\\\repr\\\\util\\\\Mayavi.py'>"
     },
     "execution_count": 30,
     "metadata": {},
     "output_type": "execute_result"
    }
   ],
   "source": [
    "import importlib\n",
    "\n",
    "importlib.reload(util)"
   ],
   "metadata": {
    "collapsed": false,
    "pycharm": {
     "name": "#%%\n"
    }
   }
  },
  {
   "cell_type": "markdown",
   "source": [
    "# Data"
   ],
   "metadata": {
    "collapsed": false,
    "pycharm": {
     "name": "#%% md\n"
    }
   }
  },
  {
   "cell_type": "code",
   "execution_count": 31,
   "outputs": [],
   "source": [
    "csv_filename= r'data/final_coordinates.csv'"
   ],
   "metadata": {
    "collapsed": false,
    "pycharm": {
     "name": "#%%\n"
    }
   }
  },
  {
   "cell_type": "code",
   "execution_count": 32,
   "outputs": [],
   "source": [
    "data_df = pd.read_csv(csv_filename)"
   ],
   "metadata": {
    "collapsed": false,
    "pycharm": {
     "name": "#%%\n"
    }
   }
  },
  {
   "cell_type": "code",
   "execution_count": 33,
   "outputs": [],
   "source": [
    "## convert Broadman Area column values to string\n",
    "data_df['Broadman Area'] = data_df['Broadman Area'].astype(str)"
   ],
   "metadata": {
    "collapsed": false,
    "pycharm": {
     "name": "#%%\n"
    }
   }
  },
  {
   "cell_type": "code",
   "execution_count": 34,
   "outputs": [
    {
     "data": {
      "text/plain": "  importance       author                                              title  \\\n0         ++  Cohen et al  Individual differences in extraversion and dop...   \n1         ++  Cohen et al  Individual differences in extraversion and dop...   \n2         ++  Cohen et al  Individual differences in extraversion and dop...   \n3         ++  Cohen et al  Individual differences in extraversion and dop...   \n4         ++  Cohen et al  Individual differences in extraversion and dop...   \n\n                           table_name  \\\n0  Table 1 Study 2 reward - no reward   \n1  Table 1 Study 2 reward - no reward   \n2  Table 1 Study 2 reward - no reward   \n3  Table 1 Study 2 reward - no reward   \n4  Table 1 Study 2 reward - no reward   \n\n                                            keywords Left/Right  \\\n0  fMRI; MNI; extraversion; dopamine; money rewar...         R.   \n1  fMRI; MNI; extraversion; dopamine; money rewar...         L.   \n2  fMRI; MNI; extraversion; dopamine; money rewar...         L.   \n3  fMRI; MNI; extraversion; dopamine; money rewar...         L.   \n4  fMRI; MNI; extraversion; dopamine; money rewar...         R.   \n\n                   Name Broadman Area     t  X(R)  Y(A)  Z(S)  z-score  NV  \\\n0              amygdala           nan  6.58  18.0  -7.0 -28.0      NaN NaN   \n1              amygdala           nan  6.47 -17.0  -3.0 -14.0      NaN NaN   \n2           hippocampus           nan  5.40 -28.0 -24.0 -14.0      NaN NaN   \n3  orbitofrontal cortex            11  5.31 -21.0  21.0 -25.0      NaN NaN   \n4             precuneus            23  5.21   4.0 -56.0  35.0      NaN NaN   \n\n   p value  cluster size  \n0      NaN           NaN  \n1      NaN           NaN  \n2      NaN           NaN  \n3      NaN           NaN  \n4      NaN           NaN  ",
      "text/html": "<div>\n<style scoped>\n    .dataframe tbody tr th:only-of-type {\n        vertical-align: middle;\n    }\n\n    .dataframe tbody tr th {\n        vertical-align: top;\n    }\n\n    .dataframe thead th {\n        text-align: right;\n    }\n</style>\n<table border=\"1\" class=\"dataframe\">\n  <thead>\n    <tr style=\"text-align: right;\">\n      <th></th>\n      <th>importance</th>\n      <th>author</th>\n      <th>title</th>\n      <th>table_name</th>\n      <th>keywords</th>\n      <th>Left/Right</th>\n      <th>Name</th>\n      <th>Broadman Area</th>\n      <th>t</th>\n      <th>X(R)</th>\n      <th>Y(A)</th>\n      <th>Z(S)</th>\n      <th>z-score</th>\n      <th>NV</th>\n      <th>p value</th>\n      <th>cluster size</th>\n    </tr>\n  </thead>\n  <tbody>\n    <tr>\n      <th>0</th>\n      <td>++</td>\n      <td>Cohen et al</td>\n      <td>Individual differences in extraversion and dop...</td>\n      <td>Table 1 Study 2 reward - no reward</td>\n      <td>fMRI; MNI; extraversion; dopamine; money rewar...</td>\n      <td>R.</td>\n      <td>amygdala</td>\n      <td>nan</td>\n      <td>6.58</td>\n      <td>18.0</td>\n      <td>-7.0</td>\n      <td>-28.0</td>\n      <td>NaN</td>\n      <td>NaN</td>\n      <td>NaN</td>\n      <td>NaN</td>\n    </tr>\n    <tr>\n      <th>1</th>\n      <td>++</td>\n      <td>Cohen et al</td>\n      <td>Individual differences in extraversion and dop...</td>\n      <td>Table 1 Study 2 reward - no reward</td>\n      <td>fMRI; MNI; extraversion; dopamine; money rewar...</td>\n      <td>L.</td>\n      <td>amygdala</td>\n      <td>nan</td>\n      <td>6.47</td>\n      <td>-17.0</td>\n      <td>-3.0</td>\n      <td>-14.0</td>\n      <td>NaN</td>\n      <td>NaN</td>\n      <td>NaN</td>\n      <td>NaN</td>\n    </tr>\n    <tr>\n      <th>2</th>\n      <td>++</td>\n      <td>Cohen et al</td>\n      <td>Individual differences in extraversion and dop...</td>\n      <td>Table 1 Study 2 reward - no reward</td>\n      <td>fMRI; MNI; extraversion; dopamine; money rewar...</td>\n      <td>L.</td>\n      <td>hippocampus</td>\n      <td>nan</td>\n      <td>5.40</td>\n      <td>-28.0</td>\n      <td>-24.0</td>\n      <td>-14.0</td>\n      <td>NaN</td>\n      <td>NaN</td>\n      <td>NaN</td>\n      <td>NaN</td>\n    </tr>\n    <tr>\n      <th>3</th>\n      <td>++</td>\n      <td>Cohen et al</td>\n      <td>Individual differences in extraversion and dop...</td>\n      <td>Table 1 Study 2 reward - no reward</td>\n      <td>fMRI; MNI; extraversion; dopamine; money rewar...</td>\n      <td>L.</td>\n      <td>orbitofrontal cortex</td>\n      <td>11</td>\n      <td>5.31</td>\n      <td>-21.0</td>\n      <td>21.0</td>\n      <td>-25.0</td>\n      <td>NaN</td>\n      <td>NaN</td>\n      <td>NaN</td>\n      <td>NaN</td>\n    </tr>\n    <tr>\n      <th>4</th>\n      <td>++</td>\n      <td>Cohen et al</td>\n      <td>Individual differences in extraversion and dop...</td>\n      <td>Table 1 Study 2 reward - no reward</td>\n      <td>fMRI; MNI; extraversion; dopamine; money rewar...</td>\n      <td>R.</td>\n      <td>precuneus</td>\n      <td>23</td>\n      <td>5.21</td>\n      <td>4.0</td>\n      <td>-56.0</td>\n      <td>35.0</td>\n      <td>NaN</td>\n      <td>NaN</td>\n      <td>NaN</td>\n      <td>NaN</td>\n    </tr>\n  </tbody>\n</table>\n</div>"
     },
     "execution_count": 34,
     "metadata": {},
     "output_type": "execute_result"
    }
   ],
   "source": [
    "data_df.head()"
   ],
   "metadata": {
    "collapsed": false,
    "pycharm": {
     "name": "#%%\n"
    }
   }
  },
  {
   "cell_type": "code",
   "execution_count": 9,
   "outputs": [
    {
     "data": {
      "text/plain": "(656, 16)"
     },
     "execution_count": 9,
     "metadata": {},
     "output_type": "execute_result"
    }
   ],
   "source": [
    "data_df.shape"
   ],
   "metadata": {
    "collapsed": false,
    "pycharm": {
     "name": "#%%\n"
    }
   }
  },
  {
   "cell_type": "code",
   "execution_count": 10,
   "outputs": [
    {
     "data": {
      "text/plain": "['importance',\n 'author',\n 'title',\n 'table_name',\n 'keywords',\n 'Left/Right',\n 'Name',\n 'Broadman Area',\n 't',\n 'X(R)',\n 'Y(A)',\n 'Z(S)',\n 'z-score',\n 'NV',\n 'p value',\n 'cluster size']"
     },
     "execution_count": 10,
     "metadata": {},
     "output_type": "execute_result"
    }
   ],
   "source": [
    "data_df.columns.values.tolist()"
   ],
   "metadata": {
    "collapsed": false,
    "pycharm": {
     "name": "#%%\n"
    }
   }
  },
  {
   "cell_type": "code",
   "execution_count": 35,
   "outputs": [],
   "source": [
    "coordinates = data_df[['X(R)', 'Y(A)', 'Z(S)']]"
   ],
   "metadata": {
    "collapsed": false,
    "pycharm": {
     "name": "#%%\n"
    }
   }
  },
  {
   "cell_type": "code",
   "execution_count": 12,
   "outputs": [],
   "source": [
    "# coordinates[coordinates.columns[1]].to_numpy()\n",
    "# coordinates.iloc[:,[1]].to_numpy().squeeze()"
   ],
   "metadata": {
    "collapsed": false,
    "pycharm": {
     "name": "#%%\n"
    }
   }
  },
  {
   "cell_type": "code",
   "execution_count": 36,
   "outputs": [],
   "source": [
    "from mayavi import mlab"
   ],
   "metadata": {
    "collapsed": false,
    "pycharm": {
     "name": "#%%\n"
    }
   }
  },
  {
   "cell_type": "code",
   "execution_count": 37,
   "outputs": [],
   "source": [
    "colors = {10: [0, 255, 0],\n",
    "          11: [125, 125, 125],\n",
    "          24: [255, 0, 0],\n",
    "          44: [255, 255, 0],\n",
    "          45: [0, 255, 255],\n",
    "          46: [0, 0, 255],\n",
    "          47: [255, 0, 255]}"
   ],
   "metadata": {
    "collapsed": false,
    "pycharm": {
     "name": "#%%\n"
    }
   }
  },
  {
   "cell_type": "code",
   "execution_count": 15,
   "outputs": [],
   "source": [
    "# coordinates = coordinates.drop(645)"
   ],
   "metadata": {
    "collapsed": false,
    "pycharm": {
     "name": "#%%\n"
    }
   }
  },
  {
   "cell_type": "code",
   "execution_count": 38,
   "outputs": [],
   "source": [
    "mlab.figure(1, bgcolor=(0, 0, 0))\n",
    "mlab.clf()\n",
    "\n",
    "s = np.arange(coordinates.shape[0])\n",
    "lut = np.zeros((len(s), 4))\n",
    "lut[:, -1] = 255\n",
    "for i, val in enumerate(coordinates.to_numpy()):\n",
    "    lut[i, 0:3] = colors[10]  #colors[val[3]]\n",
    "# plot points\n",
    "pfc_pts = mlab.points3d(coordinates[coordinates.columns[0]].to_numpy(),\n",
    "                        coordinates[coordinates.columns[1]].to_numpy(),\n",
    "                        coordinates[coordinates.columns[2]].to_numpy(),\n",
    "                        s,\n",
    "                        colormap=\"Blues\",\n",
    "                        scale_factor=3,\n",
    "                        scale_mode='none',\n",
    "                        resolution=100)\n",
    "\n",
    "pfc_pts.module_manager.scalar_lut_manager.lut.number_of_colors = len(s)\n",
    "pfc_pts.module_manager.scalar_lut_manager.lut.table = lut\n",
    "# plot edges\n",
    "# pts.mlab_source.dataset.lines = np.array(list_of_edges)\n",
    "# tube = mlab.pipeline.tube(pts, tube_radius=0.1)\n",
    "# mlab.pipeline.surface(tube, color=(0.5, 0.5, 0.5))\n",
    "\n",
    "mlab.draw()\n",
    "mlab.show()"
   ],
   "metadata": {
    "collapsed": false,
    "pycharm": {
     "name": "#%%\n"
    }
   }
  },
  {
   "cell_type": "markdown",
   "source": [
    "***"
   ],
   "metadata": {
    "collapsed": false,
    "pycharm": {
     "name": "#%% md\n"
    }
   }
  },
  {
   "cell_type": "code",
   "execution_count": 17,
   "outputs": [
    {
     "data": {
      "text/plain": "Broadman Area\nnan      472\n10        16\n11        12\n19        12\n9         12\n7         10\n40        10\n47         9\n32         9\n18         9\n6          8\n21         6\n8          5\n37         4\n13         4\n24         4\n38         4\n45         4\n31         4\n4          3\n39         3\n2          3\n44         3\n22         3\n42         2\n46         2\n35         2\n23         2\n10/32      2\n20         1\n47/10      1\n17         1\n8/9        1\n21/48      1\n22/21      1\n6/32       1\n48         1\n18/19      1\n26/30      1\n45/46      1\n27         1\n28         1\n3          1\n18/37      1\n3/1/2      1\n38/21      1\ndtype: int64"
     },
     "execution_count": 17,
     "metadata": {},
     "output_type": "execute_result"
    }
   ],
   "source": [
    "# import pandas as pd\n",
    "# dff = data_df.apply(pd.value_counts)\n",
    "\n",
    "# data_df.groupby('Broadman Area').count()\n",
    "data_df.value_counts('Broadman Area')"
   ],
   "metadata": {
    "collapsed": false,
    "pycharm": {
     "name": "#%%\n"
    }
   }
  },
  {
   "cell_type": "code",
   "execution_count": 18,
   "outputs": [],
   "source": [
    "# data_df['Broadman Area'].isna().sum()"
   ],
   "metadata": {
    "collapsed": false,
    "pycharm": {
     "name": "#%%\n"
    }
   }
  },
  {
   "cell_type": "code",
   "execution_count": 19,
   "outputs": [
    {
     "data": {
      "text/plain": "array(['nan', '11', '23', '4', '40', '45', '22', '48', '21/48', '6',\n       '38/21', '21', '20', '17', '13', '32', '10/32', '26/30', '7',\n       '6/32', '3/1/2', '44', '18/19', '18', '37', '9', '31', '42',\n       '22/21', '8/9', '19', '3', '38', '8', '10', '47', '35', '24', '2',\n       '47/10', '28', '46', '27', '18/37', '39', '45/46'], dtype=object)"
     },
     "execution_count": 19,
     "metadata": {},
     "output_type": "execute_result"
    }
   ],
   "source": [
    "ba = data_df['Broadman Area'].unique()\n",
    "# np.where(ba=='23')[0][0]\n",
    "ba"
   ],
   "metadata": {
    "collapsed": false,
    "pycharm": {
     "name": "#%%\n"
    }
   }
  },
  {
   "cell_type": "code",
   "execution_count": 20,
   "outputs": [],
   "source": [
    "# map indexes\n",
    "ba_idx = {str(x): ba.tolist().index(x) for x in ba}"
   ],
   "metadata": {
    "collapsed": false,
    "pycharm": {
     "name": "#%%\n"
    }
   }
  },
  {
   "cell_type": "code",
   "execution_count": 21,
   "outputs": [],
   "source": [
    "# for key in ba_idx.keys():\n",
    "#     print(key,type(key))"
   ],
   "metadata": {
    "collapsed": false,
    "pycharm": {
     "name": "#%%\n"
    }
   }
  },
  {
   "cell_type": "code",
   "execution_count": 22,
   "outputs": [
    {
     "data": {
      "text/plain": "<module 'util.Util' from 'D:\\\\scul\\\\uaic-ub\\\\licenta\\\\code\\\\repr\\\\util\\\\Util.py'>"
     },
     "execution_count": 22,
     "metadata": {},
     "output_type": "execute_result"
    }
   ],
   "source": [
    "importlib.reload(util)"
   ],
   "metadata": {
    "collapsed": false,
    "pycharm": {
     "name": "#%%\n"
    }
   }
  },
  {
   "cell_type": "code",
   "execution_count": 23,
   "outputs": [],
   "source": [
    "lut, no_colors = util.get_lut(data_df['Broadman Area'])\n",
    "util.plot_coords(df=data_df,\n",
    "                 lut=lut,\n",
    "                 no_colors=no_colors)\n"
   ],
   "metadata": {
    "collapsed": false,
    "pycharm": {
     "name": "#%%\n"
    }
   }
  },
  {
   "cell_type": "markdown",
   "source": [
    "# Separate BA of interest"
   ],
   "metadata": {
    "collapsed": false,
    "pycharm": {
     "name": "#%% md\n"
    }
   }
  },
  {
   "cell_type": "code",
   "execution_count": 24,
   "outputs": [],
   "source": [
    "df_ba = data_df[data_df['Broadman Area'].str.contains('8|9|10|11|12|13|14|24|25|32|33|44|45|46|47')]"
   ],
   "metadata": {
    "collapsed": false,
    "pycharm": {
     "name": "#%%\n"
    }
   }
  },
  {
   "cell_type": "code",
   "execution_count": 25,
   "outputs": [
    {
     "data": {
      "text/plain": "(120, 16)"
     },
     "execution_count": 25,
     "metadata": {},
     "output_type": "execute_result"
    }
   ],
   "source": [
    "df_ba.shape"
   ],
   "metadata": {
    "collapsed": false,
    "pycharm": {
     "name": "#%%\n"
    }
   }
  },
  {
   "cell_type": "code",
   "execution_count": 26,
   "outputs": [],
   "source": [
    "importlib.reload(util)\n",
    "df = df_ba\n",
    "lut, no_colors = util.get_lut(df['Broadman Area'])\n",
    "util.plot_coords(df=df,\n",
    "                 lut=lut,\n",
    "                 no_colors=no_colors)"
   ],
   "metadata": {
    "collapsed": false,
    "pycharm": {
     "name": "#%%\n"
    }
   }
  },
  {
   "cell_type": "markdown",
   "source": [
    "# Color only known BA"
   ],
   "metadata": {
    "collapsed": false,
    "pycharm": {
     "name": "#%% md\n"
    }
   }
  },
  {
   "cell_type": "code",
   "execution_count": 27,
   "outputs": [],
   "source": [
    "# create incl list\n",
    "incl_list= data_df[data_df['Broadman Area'].str.contains('8|9|10|11|12|13|14|24|25|32|33|44|45|46|47')]['Broadman Area'].unique()"
   ],
   "metadata": {
    "collapsed": false,
    "pycharm": {
     "name": "#%%\n"
    }
   }
  },
  {
   "cell_type": "code",
   "execution_count": 28,
   "outputs": [],
   "source": [
    "importlib.reload(util)\n",
    "df = data_df\n",
    "lut, no_colors = util.get_lut(df['Broadman Area'],incl_list=incl_list)\n",
    "util.plot_coords(df=df,\n",
    "                 lut=lut,\n",
    "                 no_colors=no_colors)"
   ],
   "metadata": {
    "collapsed": false,
    "pycharm": {
     "name": "#%%\n"
    }
   }
  },
  {
   "cell_type": "code",
   "execution_count": 28,
   "outputs": [],
   "source": [],
   "metadata": {
    "collapsed": false,
    "pycharm": {
     "name": "#%%\n"
    }
   }
  }
 ],
 "metadata": {
  "kernelspec": {
   "display_name": "Python 3",
   "language": "python",
   "name": "python3"
  },
  "language_info": {
   "codemirror_mode": {
    "name": "ipython",
    "version": 2
   },
   "file_extension": ".py",
   "mimetype": "text/x-python",
   "name": "python",
   "nbconvert_exporter": "python",
   "pygments_lexer": "ipython2",
   "version": "2.7.6"
  }
 },
 "nbformat": 4,
 "nbformat_minor": 0
}