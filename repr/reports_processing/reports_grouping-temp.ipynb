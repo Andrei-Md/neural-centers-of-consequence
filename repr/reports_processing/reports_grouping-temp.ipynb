{
 "cells": [
  {
   "cell_type": "code",
   "execution_count": 67,
   "outputs": [],
   "source": [
    "from tabulate import tabulate\n",
    "import pandas as pd\n",
    "import importlib\n",
    "import util.Data as data_util\n",
    "import util.DataframeProcess as df_proc\n",
    "import json"
   ],
   "metadata": {
    "collapsed": false,
    "pycharm": {
     "name": "#%%\n"
    }
   }
  },
  {
   "cell_type": "code",
   "execution_count": 68,
   "outputs": [
    {
     "data": {
      "text/plain": "<module 'util.DataframeProcess' from 'D:\\\\scul\\\\uaic-ub\\\\licenta\\\\code\\\\util\\\\DataframeProcess.py'>"
     },
     "execution_count": 68,
     "metadata": {},
     "output_type": "execute_result"
    }
   ],
   "source": [
    "importlib.reload(data_util)\n",
    "importlib.reload(df_proc)"
   ],
   "metadata": {
    "collapsed": false,
    "pycharm": {
     "name": "#%%\n"
    }
   }
  },
  {
   "cell_type": "code",
   "execution_count": 69,
   "outputs": [],
   "source": [
    "# pd.set_option('display.max_colwidth', None)\n",
    "# pd.set_option('display.max_colwidth', 40)"
   ],
   "metadata": {
    "collapsed": false,
    "pycharm": {
     "name": "#%%\n"
    }
   }
  },
  {
   "cell_type": "markdown",
   "source": [
    "# Data"
   ],
   "metadata": {
    "collapsed": false
   }
  },
  {
   "cell_type": "code",
   "execution_count": 70,
   "outputs": [],
   "source": [
    "csv_filename = r'../data_db/final_coordinates-conversion-v2.csv'\n",
    "df_main = data_util.import_data(csv_filename)"
   ],
   "metadata": {
    "collapsed": false,
    "pycharm": {
     "name": "#%%\n"
    }
   }
  },
  {
   "cell_type": "code",
   "execution_count": 71,
   "outputs": [
    {
     "data": {
      "text/plain": "(1827, 26)"
     },
     "execution_count": 71,
     "metadata": {},
     "output_type": "execute_result"
    }
   ],
   "source": [
    "df_data = df_main.copy()\n",
    "df_data.shape"
   ],
   "metadata": {
    "collapsed": false,
    "pycharm": {
     "name": "#%%\n"
    }
   }
  },
  {
   "cell_type": "markdown",
   "source": [
    "## all reports"
   ],
   "metadata": {
    "collapsed": false
   }
  },
  {
   "cell_type": "markdown",
   "source": [
    "## Focis number"
   ],
   "metadata": {
    "collapsed": false
   }
  },
  {
   "cell_type": "code",
   "execution_count": 72,
   "outputs": [],
   "source": [
    "#V1\n",
    "df_data['counter'] = 1\n",
    "ds_focis = df_data.groupby(['title', 'author'])['counter'].sum()"
   ],
   "metadata": {
    "collapsed": false,
    "pycharm": {
     "name": "#%%\n"
    }
   }
  },
  {
   "cell_type": "code",
   "execution_count": 73,
   "outputs": [
    {
     "name": "stdout",
     "output_type": "stream",
     "text": [
      "Count of Each group:\n"
     ]
    },
    {
     "data": {
      "text/plain": "                                      title              author  #Foci\n0   A Rapid fMRI Task Battery for Mappin...  Drobyshevsky et al     13\n1   A functional neuroimaging study of m...        Taylor et al     41\n2   A region of mesial prefrontal cortex...       Knutson et al     21\n3   Abnormal neural activity in partiall...           Lee et al     58\n4   Activity in human reward-sensitive b...   Nieuwenhuis et al     10\n..                                      ...                 ...    ...\n56  Stimulus-dependent modulation of wor...     Duggirala et al     62\n57  The Architecture of Reward Value Cod...     Sescousse et al     46\n58  The neural system that bridges rewar...        Pochon et al     43\n59  Tracking the Hemodynamic Responses t...       Delgado et al     32\n60  Working Memory Impairment in Fibromy...           Seo et al     19\n\n[61 rows x 3 columns]",
      "text/html": "<div>\n<style scoped>\n    .dataframe tbody tr th:only-of-type {\n        vertical-align: middle;\n    }\n\n    .dataframe tbody tr th {\n        vertical-align: top;\n    }\n\n    .dataframe thead th {\n        text-align: right;\n    }\n</style>\n<table border=\"1\" class=\"dataframe\">\n  <thead>\n    <tr style=\"text-align: right;\">\n      <th></th>\n      <th>title</th>\n      <th>author</th>\n      <th>#Foci</th>\n    </tr>\n  </thead>\n  <tbody>\n    <tr>\n      <th>0</th>\n      <td>A Rapid fMRI Task Battery for Mappin...</td>\n      <td>Drobyshevsky et al</td>\n      <td>13</td>\n    </tr>\n    <tr>\n      <th>1</th>\n      <td>A functional neuroimaging study of m...</td>\n      <td>Taylor et al</td>\n      <td>41</td>\n    </tr>\n    <tr>\n      <th>2</th>\n      <td>A region of mesial prefrontal cortex...</td>\n      <td>Knutson et al</td>\n      <td>21</td>\n    </tr>\n    <tr>\n      <th>3</th>\n      <td>Abnormal neural activity in partiall...</td>\n      <td>Lee et al</td>\n      <td>58</td>\n    </tr>\n    <tr>\n      <th>4</th>\n      <td>Activity in human reward-sensitive b...</td>\n      <td>Nieuwenhuis et al</td>\n      <td>10</td>\n    </tr>\n    <tr>\n      <th>...</th>\n      <td>...</td>\n      <td>...</td>\n      <td>...</td>\n    </tr>\n    <tr>\n      <th>56</th>\n      <td>Stimulus-dependent modulation of wor...</td>\n      <td>Duggirala et al</td>\n      <td>62</td>\n    </tr>\n    <tr>\n      <th>57</th>\n      <td>The Architecture of Reward Value Cod...</td>\n      <td>Sescousse et al</td>\n      <td>46</td>\n    </tr>\n    <tr>\n      <th>58</th>\n      <td>The neural system that bridges rewar...</td>\n      <td>Pochon et al</td>\n      <td>43</td>\n    </tr>\n    <tr>\n      <th>59</th>\n      <td>Tracking the Hemodynamic Responses t...</td>\n      <td>Delgado et al</td>\n      <td>32</td>\n    </tr>\n    <tr>\n      <th>60</th>\n      <td>Working Memory Impairment in Fibromy...</td>\n      <td>Seo et al</td>\n      <td>19</td>\n    </tr>\n  </tbody>\n</table>\n<p>61 rows × 3 columns</p>\n</div>"
     },
     "execution_count": 73,
     "metadata": {},
     "output_type": "execute_result"
    }
   ],
   "source": [
    "#V2\n",
    "print(\"Count of Each group:\")\n",
    "df_group_focis = df_data.groupby(['title', 'author']\n",
    "                                 ).size().reset_index(name=\"#Foci\")\n",
    "df_group_focis"
   ],
   "metadata": {
    "collapsed": false,
    "pycharm": {
     "name": "#%%\n"
    }
   }
  },
  {
   "cell_type": "markdown",
   "source": [
    "## Subjects number"
   ],
   "metadata": {
    "collapsed": false
   }
  },
  {
   "cell_type": "code",
   "execution_count": 74,
   "outputs": [],
   "source": [
    "# group_subjects = df_data.groupby(['title','author']).agg({'subjects':['mean','min','max']})\n",
    "# group_subjects = df_data.groupby(['title', 'author', 'subjects'])\n",
    "# for key, item in group_subjects:\n",
    "#     print(type(key), \"\\n\\n\")\n",
    "#     break\n",
    "\n",
    "# group_subjects.describe()"
   ],
   "metadata": {
    "collapsed": false,
    "pycharm": {
     "name": "#%%\n"
    }
   }
  },
  {
   "cell_type": "code",
   "execution_count": 75,
   "outputs": [
    {
     "data": {
      "text/plain": "                                     title              author  #Subjects\n0  A Rapid fMRI Task Battery for Mappin...  Drobyshevsky et al         31\n1  A functional neuroimaging study of m...        Taylor et al         12\n2  A region of mesial prefrontal cortex...       Knutson et al         12\n3  Abnormal neural activity in partiall...           Lee et al         14\n4  Activity in human reward-sensitive b...   Nieuwenhuis et al         14",
      "text/html": "<div>\n<style scoped>\n    .dataframe tbody tr th:only-of-type {\n        vertical-align: middle;\n    }\n\n    .dataframe tbody tr th {\n        vertical-align: top;\n    }\n\n    .dataframe thead th {\n        text-align: right;\n    }\n</style>\n<table border=\"1\" class=\"dataframe\">\n  <thead>\n    <tr style=\"text-align: right;\">\n      <th></th>\n      <th>title</th>\n      <th>author</th>\n      <th>#Subjects</th>\n    </tr>\n  </thead>\n  <tbody>\n    <tr>\n      <th>0</th>\n      <td>A Rapid fMRI Task Battery for Mappin...</td>\n      <td>Drobyshevsky et al</td>\n      <td>31</td>\n    </tr>\n    <tr>\n      <th>1</th>\n      <td>A functional neuroimaging study of m...</td>\n      <td>Taylor et al</td>\n      <td>12</td>\n    </tr>\n    <tr>\n      <th>2</th>\n      <td>A region of mesial prefrontal cortex...</td>\n      <td>Knutson et al</td>\n      <td>12</td>\n    </tr>\n    <tr>\n      <th>3</th>\n      <td>Abnormal neural activity in partiall...</td>\n      <td>Lee et al</td>\n      <td>14</td>\n    </tr>\n    <tr>\n      <th>4</th>\n      <td>Activity in human reward-sensitive b...</td>\n      <td>Nieuwenhuis et al</td>\n      <td>14</td>\n    </tr>\n  </tbody>\n</table>\n</div>"
     },
     "execution_count": 75,
     "metadata": {},
     "output_type": "execute_result"
    }
   ],
   "source": [
    "group_subjects = df_data.groupby(['title', 'author', 'subjects'])\n",
    "dict_keys_subjects = group_subjects.groups.keys()\n",
    "df_group_subjects = pd.DataFrame.from_records([*dict_keys_subjects], columns=['title', 'author', '#Subjects'])\n",
    "df_group_subjects.head()"
   ],
   "metadata": {
    "collapsed": false,
    "pycharm": {
     "name": "#%%\n"
    }
   }
  },
  {
   "cell_type": "code",
   "execution_count": 76,
   "outputs": [
    {
     "data": {
      "text/plain": "                                     title              author  #Foci  \\\n0  A Rapid fMRI Task Battery for Mappin...  Drobyshevsky et al     13   \n1  A functional neuroimaging study of m...        Taylor et al     41   \n2  A region of mesial prefrontal cortex...       Knutson et al     21   \n3  Abnormal neural activity in partiall...           Lee et al     58   \n4  Activity in human reward-sensitive b...   Nieuwenhuis et al     10   \n\n   #Subjects  \n0         31  \n1         12  \n2         12  \n3         14  \n4         14  ",
      "text/html": "<div>\n<style scoped>\n    .dataframe tbody tr th:only-of-type {\n        vertical-align: middle;\n    }\n\n    .dataframe tbody tr th {\n        vertical-align: top;\n    }\n\n    .dataframe thead th {\n        text-align: right;\n    }\n</style>\n<table border=\"1\" class=\"dataframe\">\n  <thead>\n    <tr style=\"text-align: right;\">\n      <th></th>\n      <th>title</th>\n      <th>author</th>\n      <th>#Foci</th>\n      <th>#Subjects</th>\n    </tr>\n  </thead>\n  <tbody>\n    <tr>\n      <th>0</th>\n      <td>A Rapid fMRI Task Battery for Mappin...</td>\n      <td>Drobyshevsky et al</td>\n      <td>13</td>\n      <td>31</td>\n    </tr>\n    <tr>\n      <th>1</th>\n      <td>A functional neuroimaging study of m...</td>\n      <td>Taylor et al</td>\n      <td>41</td>\n      <td>12</td>\n    </tr>\n    <tr>\n      <th>2</th>\n      <td>A region of mesial prefrontal cortex...</td>\n      <td>Knutson et al</td>\n      <td>21</td>\n      <td>12</td>\n    </tr>\n    <tr>\n      <th>3</th>\n      <td>Abnormal neural activity in partiall...</td>\n      <td>Lee et al</td>\n      <td>58</td>\n      <td>14</td>\n    </tr>\n    <tr>\n      <th>4</th>\n      <td>Activity in human reward-sensitive b...</td>\n      <td>Nieuwenhuis et al</td>\n      <td>10</td>\n      <td>14</td>\n    </tr>\n  </tbody>\n</table>\n</div>"
     },
     "execution_count": 76,
     "metadata": {},
     "output_type": "execute_result"
    }
   ],
   "source": [
    "df_final = df_group_focis.join(df_group_subjects[['title', '#Subjects']].set_index('title'), on='title')\n",
    "df_final.head()"
   ],
   "metadata": {
    "collapsed": false,
    "pycharm": {
     "name": "#%%\n"
    }
   }
  },
  {
   "cell_type": "markdown",
   "source": [
    "## Get set of contrast"
   ],
   "metadata": {
    "collapsed": false
   }
  },
  {
   "cell_type": "code",
   "execution_count": 77,
   "outputs": [],
   "source": [
    "# ds_group_contrast = df_data.groupby(['title', 'author'])['contrast'].apply(set)\n",
    "# df_group_contrast = ds_group_contrast.to_frame().reset_index()\n",
    "# df_group_contrast\n",
    "# # df[['contrast']].iloc[0][0] <- set"
   ],
   "metadata": {
    "collapsed": false,
    "pycharm": {
     "name": "#%%\n"
    }
   }
  },
  {
   "cell_type": "code",
   "execution_count": 78,
   "outputs": [
    {
     "data": {
      "text/plain": "                                     title              author  \\\n0  A Rapid fMRI Task Battery for Mappin...  Drobyshevsky et al   \n1  A functional neuroimaging study of m...        Taylor et al   \n2  A region of mesial prefrontal cortex...       Knutson et al   \n3  Abnormal neural activity in partiall...           Lee et al   \n4  Activity in human reward-sensitive b...   Nieuwenhuis et al   \n\n                             contrast_set  \n0                       {2-back > 0-back}  \n1                                     {-}  \n2  {lose > no reward, reward > no reward}  \n3                         {1-back > rest}  \n4              {high reward > low reward}  ",
      "text/html": "<div>\n<style scoped>\n    .dataframe tbody tr th:only-of-type {\n        vertical-align: middle;\n    }\n\n    .dataframe tbody tr th {\n        vertical-align: top;\n    }\n\n    .dataframe thead th {\n        text-align: right;\n    }\n</style>\n<table border=\"1\" class=\"dataframe\">\n  <thead>\n    <tr style=\"text-align: right;\">\n      <th></th>\n      <th>title</th>\n      <th>author</th>\n      <th>contrast_set</th>\n    </tr>\n  </thead>\n  <tbody>\n    <tr>\n      <th>0</th>\n      <td>A Rapid fMRI Task Battery for Mappin...</td>\n      <td>Drobyshevsky et al</td>\n      <td>{2-back &gt; 0-back}</td>\n    </tr>\n    <tr>\n      <th>1</th>\n      <td>A functional neuroimaging study of m...</td>\n      <td>Taylor et al</td>\n      <td>{-}</td>\n    </tr>\n    <tr>\n      <th>2</th>\n      <td>A region of mesial prefrontal cortex...</td>\n      <td>Knutson et al</td>\n      <td>{lose &gt; no reward, reward &gt; no reward}</td>\n    </tr>\n    <tr>\n      <th>3</th>\n      <td>Abnormal neural activity in partiall...</td>\n      <td>Lee et al</td>\n      <td>{1-back &gt; rest}</td>\n    </tr>\n    <tr>\n      <th>4</th>\n      <td>Activity in human reward-sensitive b...</td>\n      <td>Nieuwenhuis et al</td>\n      <td>{high reward &gt; low reward}</td>\n    </tr>\n  </tbody>\n</table>\n</div>"
     },
     "execution_count": 78,
     "metadata": {},
     "output_type": "execute_result"
    }
   ],
   "source": [
    "# df_group_contrast = df_data.groupby(['title', 'author'])['contrast'].apply(set).reset_index(name='contrast_set')\n",
    "df_group_contrast = df_data.groupby(['title', 'author'])['contrast'].apply(lambda x: set(x)).reset_index(\n",
    "    name='contrast_set')\n",
    "df_group_contrast.head(5)"
   ],
   "metadata": {
    "collapsed": false,
    "pycharm": {
     "name": "#%%\n"
    }
   }
  },
  {
   "cell_type": "code",
   "execution_count": 79,
   "outputs": [
    {
     "data": {
      "text/plain": "{'lose > no reward', 'reward > no reward'}"
     },
     "execution_count": 79,
     "metadata": {},
     "output_type": "execute_result"
    }
   ],
   "source": [
    "df_group_contrast[['contrast_set']].iloc[2][0]"
   ],
   "metadata": {
    "collapsed": false,
    "pycharm": {
     "name": "#%%\n"
    }
   }
  },
  {
   "cell_type": "code",
   "execution_count": 80,
   "outputs": [
    {
     "data": {
      "text/plain": "                                     title              author  #Foci  \\\n0  A Rapid fMRI Task Battery for Mappin...  Drobyshevsky et al     13   \n1  A functional neuroimaging study of m...        Taylor et al     41   \n2  A region of mesial prefrontal cortex...       Knutson et al     21   \n3  Abnormal neural activity in partiall...           Lee et al     58   \n4  Activity in human reward-sensitive b...   Nieuwenhuis et al     10   \n\n   #Subjects                            contrast_set  \n0         31                       {2-back > 0-back}  \n1         12                                     {-}  \n2         12  {lose > no reward, reward > no reward}  \n3         14                         {1-back > rest}  \n4         14              {high reward > low reward}  ",
      "text/html": "<div>\n<style scoped>\n    .dataframe tbody tr th:only-of-type {\n        vertical-align: middle;\n    }\n\n    .dataframe tbody tr th {\n        vertical-align: top;\n    }\n\n    .dataframe thead th {\n        text-align: right;\n    }\n</style>\n<table border=\"1\" class=\"dataframe\">\n  <thead>\n    <tr style=\"text-align: right;\">\n      <th></th>\n      <th>title</th>\n      <th>author</th>\n      <th>#Foci</th>\n      <th>#Subjects</th>\n      <th>contrast_set</th>\n    </tr>\n  </thead>\n  <tbody>\n    <tr>\n      <th>0</th>\n      <td>A Rapid fMRI Task Battery for Mappin...</td>\n      <td>Drobyshevsky et al</td>\n      <td>13</td>\n      <td>31</td>\n      <td>{2-back &gt; 0-back}</td>\n    </tr>\n    <tr>\n      <th>1</th>\n      <td>A functional neuroimaging study of m...</td>\n      <td>Taylor et al</td>\n      <td>41</td>\n      <td>12</td>\n      <td>{-}</td>\n    </tr>\n    <tr>\n      <th>2</th>\n      <td>A region of mesial prefrontal cortex...</td>\n      <td>Knutson et al</td>\n      <td>21</td>\n      <td>12</td>\n      <td>{lose &gt; no reward, reward &gt; no reward}</td>\n    </tr>\n    <tr>\n      <th>3</th>\n      <td>Abnormal neural activity in partiall...</td>\n      <td>Lee et al</td>\n      <td>58</td>\n      <td>14</td>\n      <td>{1-back &gt; rest}</td>\n    </tr>\n    <tr>\n      <th>4</th>\n      <td>Activity in human reward-sensitive b...</td>\n      <td>Nieuwenhuis et al</td>\n      <td>10</td>\n      <td>14</td>\n      <td>{high reward &gt; low reward}</td>\n    </tr>\n  </tbody>\n</table>\n</div>"
     },
     "execution_count": 80,
     "metadata": {},
     "output_type": "execute_result"
    }
   ],
   "source": [
    "df_final = df_final.join(df_group_contrast[['title', 'contrast_set']].set_index('title'), on='title')\n",
    "df_final.head()"
   ],
   "metadata": {
    "collapsed": false,
    "pycharm": {
     "name": "#%%\n"
    }
   }
  },
  {
   "cell_type": "markdown",
   "source": [
    "## Get set of keywords"
   ],
   "metadata": {
    "collapsed": false
   }
  },
  {
   "cell_type": "code",
   "execution_count": 81,
   "outputs": [
    {
     "data": {
      "text/plain": "                                     title              author  \\\n0  A Rapid fMRI Task Battery for Mappin...  Drobyshevsky et al   \n1  A functional neuroimaging study of m...        Taylor et al   \n2  A region of mesial prefrontal cortex...       Knutson et al   \n3  Abnormal neural activity in partiall...           Lee et al   \n4  Activity in human reward-sensitive b...   Nieuwenhuis et al   \n\n                              keywords_set  \n0  {fMRI; working memory; talairach; n-...  \n1  {fMRI; reward value; decision phase;...  \n2  {fMRI; reward value; outcome phase; ...  \n3  {fMRI; working memory; talairach; n-...  \n4  {fMRI; reward magnitude; reward valu...  ",
      "text/html": "<div>\n<style scoped>\n    .dataframe tbody tr th:only-of-type {\n        vertical-align: middle;\n    }\n\n    .dataframe tbody tr th {\n        vertical-align: top;\n    }\n\n    .dataframe thead th {\n        text-align: right;\n    }\n</style>\n<table border=\"1\" class=\"dataframe\">\n  <thead>\n    <tr style=\"text-align: right;\">\n      <th></th>\n      <th>title</th>\n      <th>author</th>\n      <th>keywords_set</th>\n    </tr>\n  </thead>\n  <tbody>\n    <tr>\n      <th>0</th>\n      <td>A Rapid fMRI Task Battery for Mappin...</td>\n      <td>Drobyshevsky et al</td>\n      <td>{fMRI; working memory; talairach; n-...</td>\n    </tr>\n    <tr>\n      <th>1</th>\n      <td>A functional neuroimaging study of m...</td>\n      <td>Taylor et al</td>\n      <td>{fMRI; reward value; decision phase;...</td>\n    </tr>\n    <tr>\n      <th>2</th>\n      <td>A region of mesial prefrontal cortex...</td>\n      <td>Knutson et al</td>\n      <td>{fMRI; reward value; outcome phase; ...</td>\n    </tr>\n    <tr>\n      <th>3</th>\n      <td>Abnormal neural activity in partiall...</td>\n      <td>Lee et al</td>\n      <td>{fMRI; working memory; talairach; n-...</td>\n    </tr>\n    <tr>\n      <th>4</th>\n      <td>Activity in human reward-sensitive b...</td>\n      <td>Nieuwenhuis et al</td>\n      <td>{fMRI; reward magnitude; reward valu...</td>\n    </tr>\n  </tbody>\n</table>\n</div>"
     },
     "execution_count": 81,
     "metadata": {},
     "output_type": "execute_result"
    }
   ],
   "source": [
    "#V1\n",
    "# df_group_keywords = df_data.groupby(['title', 'author'])['keywords'].apply(set).reset_index(name='keywords_set')\n",
    "df_group_keywords = df_data.groupby(['title', 'author'])['keywords'].apply(lambda x: set(x)).reset_index(\n",
    "    name='keywords_set')\n",
    "# ds_group_keywords = df_test.groupby(['title', 'author']).agg({\"keywords\": lambda x: set(x)})#%%\n",
    "\n",
    "#df_group_keywords[['keywords_set']].iloc[0][0] <- set\n",
    "df_group_keywords.head()"
   ],
   "metadata": {
    "collapsed": false,
    "pycharm": {
     "name": "#%%\n"
    }
   }
  },
  {
   "cell_type": "code",
   "execution_count": 82,
   "outputs": [
    {
     "data": {
      "text/plain": "                                     title              author  \\\n0  A Rapid fMRI Task Battery for Mappin...  Drobyshevsky et al   \n1  A functional neuroimaging study of m...        Taylor et al   \n2  A region of mesial prefrontal cortex...       Knutson et al   \n3  Abnormal neural activity in partiall...           Lee et al   \n4  Activity in human reward-sensitive b...   Nieuwenhuis et al   \n\n                              keywords_set  \\\n0  {fMRI; working memory; talairach; n-...   \n1  {fMRI; reward value; decision phase;...   \n2  {fMRI; reward value; outcome phase; ...   \n3  {fMRI; working memory; talairach; n-...   \n4  {fMRI; reward magnitude; reward valu...   \n\n                            keywords_split  \n0  {talairach, n-back task, fMRI, worki...  \n1  {decision phase, n-back task, fMRI, ...  \n2  {fMRI, reward value, MID, anticipati...  \n3  {n-back task, fMRI, visual numbers, ...  \n4  {high gain vs high loss, fMRI, posit...  ",
      "text/html": "<div>\n<style scoped>\n    .dataframe tbody tr th:only-of-type {\n        vertical-align: middle;\n    }\n\n    .dataframe tbody tr th {\n        vertical-align: top;\n    }\n\n    .dataframe thead th {\n        text-align: right;\n    }\n</style>\n<table border=\"1\" class=\"dataframe\">\n  <thead>\n    <tr style=\"text-align: right;\">\n      <th></th>\n      <th>title</th>\n      <th>author</th>\n      <th>keywords_set</th>\n      <th>keywords_split</th>\n    </tr>\n  </thead>\n  <tbody>\n    <tr>\n      <th>0</th>\n      <td>A Rapid fMRI Task Battery for Mappin...</td>\n      <td>Drobyshevsky et al</td>\n      <td>{fMRI; working memory; talairach; n-...</td>\n      <td>{talairach, n-back task, fMRI, worki...</td>\n    </tr>\n    <tr>\n      <th>1</th>\n      <td>A functional neuroimaging study of m...</td>\n      <td>Taylor et al</td>\n      <td>{fMRI; reward value; decision phase;...</td>\n      <td>{decision phase, n-back task, fMRI, ...</td>\n    </tr>\n    <tr>\n      <th>2</th>\n      <td>A region of mesial prefrontal cortex...</td>\n      <td>Knutson et al</td>\n      <td>{fMRI; reward value; outcome phase; ...</td>\n      <td>{fMRI, reward value, MID, anticipati...</td>\n    </tr>\n    <tr>\n      <th>3</th>\n      <td>Abnormal neural activity in partiall...</td>\n      <td>Lee et al</td>\n      <td>{fMRI; working memory; talairach; n-...</td>\n      <td>{n-back task, fMRI, visual numbers, ...</td>\n    </tr>\n    <tr>\n      <th>4</th>\n      <td>Activity in human reward-sensitive b...</td>\n      <td>Nieuwenhuis et al</td>\n      <td>{fMRI; reward magnitude; reward valu...</td>\n      <td>{high gain vs high loss, fMRI, posit...</td>\n    </tr>\n  </tbody>\n</table>\n</div>"
     },
     "execution_count": 82,
     "metadata": {},
     "output_type": "execute_result"
    }
   ],
   "source": [
    "df_group_keywords['keywords_split'] = df_group_keywords['keywords_set'].apply(df_proc.split_keys)\n",
    "df_group_keywords.head()"
   ],
   "metadata": {
    "collapsed": false,
    "pycharm": {
     "name": "#%%\n"
    }
   }
  },
  {
   "cell_type": "code",
   "execution_count": 83,
   "outputs": [
    {
     "data": {
      "text/plain": "{'fMRI',\n 'n-back task',\n 'talairach',\n 'two-back task',\n 'visual letters',\n 'working memory'}"
     },
     "execution_count": 83,
     "metadata": {},
     "output_type": "execute_result"
    }
   ],
   "source": [
    "df_group_keywords[['keywords_split']].iloc[0][0]"
   ],
   "metadata": {
    "collapsed": false,
    "pycharm": {
     "name": "#%%\n"
    }
   }
  },
  {
   "cell_type": "code",
   "execution_count": 84,
   "outputs": [
    {
     "data": {
      "text/plain": "                                     title              author  #Foci  \\\n0  A Rapid fMRI Task Battery for Mappin...  Drobyshevsky et al     13   \n1  A functional neuroimaging study of m...        Taylor et al     41   \n2  A region of mesial prefrontal cortex...       Knutson et al     21   \n\n   #Subjects                            contrast_set  \\\n0         31                       {2-back > 0-back}   \n1         12                                     {-}   \n2         12  {lose > no reward, reward > no reward}   \n\n                            keywords_split  \n0  {talairach, n-back task, fMRI, worki...  \n1  {decision phase, n-back task, fMRI, ...  \n2  {fMRI, reward value, MID, anticipati...  ",
      "text/html": "<div>\n<style scoped>\n    .dataframe tbody tr th:only-of-type {\n        vertical-align: middle;\n    }\n\n    .dataframe tbody tr th {\n        vertical-align: top;\n    }\n\n    .dataframe thead th {\n        text-align: right;\n    }\n</style>\n<table border=\"1\" class=\"dataframe\">\n  <thead>\n    <tr style=\"text-align: right;\">\n      <th></th>\n      <th>title</th>\n      <th>author</th>\n      <th>#Foci</th>\n      <th>#Subjects</th>\n      <th>contrast_set</th>\n      <th>keywords_split</th>\n    </tr>\n  </thead>\n  <tbody>\n    <tr>\n      <th>0</th>\n      <td>A Rapid fMRI Task Battery for Mappin...</td>\n      <td>Drobyshevsky et al</td>\n      <td>13</td>\n      <td>31</td>\n      <td>{2-back &gt; 0-back}</td>\n      <td>{talairach, n-back task, fMRI, worki...</td>\n    </tr>\n    <tr>\n      <th>1</th>\n      <td>A functional neuroimaging study of m...</td>\n      <td>Taylor et al</td>\n      <td>41</td>\n      <td>12</td>\n      <td>{-}</td>\n      <td>{decision phase, n-back task, fMRI, ...</td>\n    </tr>\n    <tr>\n      <th>2</th>\n      <td>A region of mesial prefrontal cortex...</td>\n      <td>Knutson et al</td>\n      <td>21</td>\n      <td>12</td>\n      <td>{lose &gt; no reward, reward &gt; no reward}</td>\n      <td>{fMRI, reward value, MID, anticipati...</td>\n    </tr>\n  </tbody>\n</table>\n</div>"
     },
     "execution_count": 84,
     "metadata": {},
     "output_type": "execute_result"
    }
   ],
   "source": [
    "df_final = df_final.join(df_group_keywords[['title', 'keywords_split']].set_index('title'), on='title')\n",
    "df_final.head(3)"
   ],
   "metadata": {
    "collapsed": false,
    "pycharm": {
     "name": "#%%\n"
    }
   }
  },
  {
   "cell_type": "code",
   "execution_count": 85,
   "outputs": [
    {
     "data": {
      "text/plain": "(61, 6)"
     },
     "execution_count": 85,
     "metadata": {},
     "output_type": "execute_result"
    }
   ],
   "source": [
    "df_final.shape"
   ],
   "metadata": {
    "collapsed": false,
    "pycharm": {
     "name": "#%%\n"
    }
   }
  },
  {
   "cell_type": "markdown",
   "source": [
    "## Print latex to text file"
   ],
   "metadata": {
    "collapsed": false
   }
  },
  {
   "cell_type": "code",
   "execution_count": 86,
   "outputs": [],
   "source": [
    "df_final_print = df_final.drop(['title'], axis=1)\n",
    "df_final_print = df_final_print.sort_values(by=['author'])\n",
    "# df_final_print = [df_final_print.iloc[:split_no, :], df_final_print.iloc[split_no:, :]]"
   ],
   "metadata": {
    "collapsed": false,
    "pycharm": {
     "name": "#%%\n"
    }
   }
  },
  {
   "cell_type": "code",
   "execution_count": 87,
   "outputs": [
    {
     "data": {
      "text/plain": "             author  #Foci  #Subjects  \\\n33      Abler et al     43         15   \n12     Aharon et al     51          6   \n15   Akitsuki et al     35         36   \n6   Beneventi et al     24         12   \n34    Carrion et al     34         13   \n\n                               contrast_set  \\\n33  {high reward > low reward, risk > sa...   \n12  {beautiful faces > average faces, be...   \n15  {loss after winning streak > l1, all...   \n6                {2-back > 1-back > 0-back}   \n34       {2-back > 0-back, 3-back > 0-back}   \n\n                             keywords_split  \n33  {fMRI, increasing reward uncertainty...  \n12  {passive, fMRI, social reward, outco...  \n15  {negative reward, fMRI, positive rew...  \n6   {n-back task, fMRI, visual scrambled...  \n34  {n-back task, fMRI, visual numbers, ...  ",
      "text/html": "<div>\n<style scoped>\n    .dataframe tbody tr th:only-of-type {\n        vertical-align: middle;\n    }\n\n    .dataframe tbody tr th {\n        vertical-align: top;\n    }\n\n    .dataframe thead th {\n        text-align: right;\n    }\n</style>\n<table border=\"1\" class=\"dataframe\">\n  <thead>\n    <tr style=\"text-align: right;\">\n      <th></th>\n      <th>author</th>\n      <th>#Foci</th>\n      <th>#Subjects</th>\n      <th>contrast_set</th>\n      <th>keywords_split</th>\n    </tr>\n  </thead>\n  <tbody>\n    <tr>\n      <th>33</th>\n      <td>Abler et al</td>\n      <td>43</td>\n      <td>15</td>\n      <td>{high reward &gt; low reward, risk &gt; sa...</td>\n      <td>{fMRI, increasing reward uncertainty...</td>\n    </tr>\n    <tr>\n      <th>12</th>\n      <td>Aharon et al</td>\n      <td>51</td>\n      <td>6</td>\n      <td>{beautiful faces &gt; average faces, be...</td>\n      <td>{passive, fMRI, social reward, outco...</td>\n    </tr>\n    <tr>\n      <th>15</th>\n      <td>Akitsuki et al</td>\n      <td>35</td>\n      <td>36</td>\n      <td>{loss after winning streak &gt; l1, all...</td>\n      <td>{negative reward, fMRI, positive rew...</td>\n    </tr>\n    <tr>\n      <th>6</th>\n      <td>Beneventi et al</td>\n      <td>24</td>\n      <td>12</td>\n      <td>{2-back &gt; 1-back &gt; 0-back}</td>\n      <td>{n-back task, fMRI, visual scrambled...</td>\n    </tr>\n    <tr>\n      <th>34</th>\n      <td>Carrion et al</td>\n      <td>34</td>\n      <td>13</td>\n      <td>{2-back &gt; 0-back, 3-back &gt; 0-back}</td>\n      <td>{n-back task, fMRI, visual numbers, ...</td>\n    </tr>\n  </tbody>\n</table>\n</div>"
     },
     "execution_count": 87,
     "metadata": {},
     "output_type": "execute_result"
    }
   ],
   "source": [
    "# pd.set_option('display.width', None)\n",
    "pd.set_option('display.max_colwidth', 40)\n",
    "df_final_print.head()"
   ],
   "metadata": {
    "collapsed": false,
    "pycharm": {
     "name": "#%%\n"
    }
   }
  },
  {
   "cell_type": "code",
   "execution_count": 88,
   "outputs": [],
   "source": [
    "df_final_print.rename(columns = {'author':'Author'}, inplace = True)\n",
    "columns_to_print = ['Author', '#Foci', '#Subjects']\n",
    "pd.set_option('display.max_colwidth', None)  # to show all the column values (-1)\n",
    "latex_filepath = r'./latex/all_reports.txt'\n",
    "# with open(latex_filepath, 'w') as f:\n",
    "#     # for df in df_final_print:\n",
    "#     f.write(df_final_print[columns_to_print].to_latex(index=False))\n",
    "# pd.set_option('display.max_colwidth', 40)"
   ],
   "metadata": {
    "collapsed": false,
    "pycharm": {
     "name": "#%%\n"
    }
   }
  },
  {
   "cell_type": "code",
   "execution_count": 89,
   "outputs": [
    {
     "name": "stdout",
     "output_type": "stream",
     "text": [
      "Number of Subjects:  1238\n",
      "Number of Foci:  1827\n"
     ]
    }
   ],
   "source": [
    "print(\"Number of Subjects: \",df_final_print['#Subjects'].sum())\n",
    "print(\"Number of Foci: \",df_final_print['#Foci'].sum())"
   ],
   "metadata": {
    "collapsed": false,
    "pycharm": {
     "name": "#%%\n"
    }
   }
  },
  {
   "cell_type": "markdown",
   "source": [
    "## Checks"
   ],
   "metadata": {
    "collapsed": false
   }
  },
  {
   "cell_type": "markdown",
   "source": [
    "### Contrast"
   ],
   "metadata": {
    "collapsed": false
   }
  },
  {
   "cell_type": "code",
   "execution_count": 90,
   "outputs": [],
   "source": [
    "list_of_contrast_set = list(df_final['contrast_set'])"
   ],
   "metadata": {
    "collapsed": false,
    "pycharm": {
     "name": "#%%\n"
    }
   }
  },
  {
   "cell_type": "code",
   "execution_count": 91,
   "outputs": [
    {
     "data": {
      "text/plain": "75"
     },
     "execution_count": 91,
     "metadata": {},
     "output_type": "execute_result"
    }
   ],
   "source": [
    "set_all_contrasts = set()\n",
    "for s in list_of_contrast_set:\n",
    "    set_all_contrasts.update(s)\n",
    "len(set_all_contrasts)"
   ],
   "metadata": {
    "collapsed": false,
    "pycharm": {
     "name": "#%%\n"
    }
   }
  },
  {
   "cell_type": "code",
   "execution_count": 92,
   "outputs": [
    {
     "data": {
      "text/plain": "{'>nan_values<': 0,\n 'monetary reward > erotic reward': 1,\n 'task switching > control task': 1,\n 'monetary reward > social reward': 1,\n 'social reward > monetary reward': 1,\n 'w1 > l1': 1,\n 'reward > punishment': 1,\n 'average female > average male': 1,\n 'lose > no reward': 1,\n '1-back > rest': 1,\n 'n-back > control task': 1,\n 'movement > no movement and reward > no reward': 1,\n 'negative correlation with reward level': 1,\n 'advantageous > disadvantageous': 1,\n 'high-calorie > low-calorie': 1,\n 'safe > risk': 1,\n 'penalty during run of failure': 1,\n 'expected reward > received reward and control > adhd': 1,\n 'reward > negative feedback': 1,\n 'sub-id > baseline': 1,\n 'ar; sr > neutral activity': 1,\n 'retrocue and precue': 1,\n 'punishment > no reward': 1,\n 'movement > no movement': 1,\n 'decision-making > control task': 1,\n 'sub-dif > baseline': 1,\n 'erotic reward > monetary reward': 1,\n 'response maintenance > response switch': 1,\n 'ar switch > stay and sr switch > stay': 1,\n 'reward during run of success and penalty during run of failure': 1,\n 'high reward > high loss': 1,\n 'loss after winning streak > l1': 1,\n 'choice > no choice': 1,\n 'beautiful faces > average faces': 1,\n 'beautiful female > beautiful male': 1,\n 'all w > all l': 1,\n 'w4 > w1': 1,\n 'monetary reward > faces reward': 1,\n 'l4 > l1': 1,\n 'win > lose and risk > safe': 1,\n 'lose modulation': 1,\n 'low-calorie > high-calorie': 1,\n 'beautiful male > average male': 1,\n 'win modulation': 1,\n 'social reward magnitude': 1,\n 'precue > retrocue': 1,\n '1-back > 2-back': 1,\n 'monetary reward magnitude': 1,\n 'disadvantageous > advantageous': 1,\n '2-back > 1-back': 1,\n 'low-calorie and high-calorie': 1,\n 'punishment > reward': 1,\n 'stroop block > baseline': 1,\n 'all female faces > all male faces': 1,\n 'response switch > response maintenance': 1,\n 'reward during run of success': 1,\n 'retrocue > precue': 1,\n 'sub-dif > frame-dif': 1,\n 'inhibiton task > control task': 1,\n 'win after losing streak > w1': 1,\n 'large incentives > baseline': 1,\n 'small incentives > baseline': 1,\n '3-back > 0-back': 2,\n 'received reward > expected reward': 2,\n 'high probability > low probability': 2,\n '2-back > 1-back > 0-back': 2,\n 'low probability > high probability': 2,\n '3-back > 2-back > 1-back > 0-back': 2,\n 'lose > win': 2,\n 'expected reward > received reward': 4,\n 'risk > safe': 6,\n '2-back > 0-back': 6,\n 'win > lose': 6,\n '-': 6,\n 'reward > no reward': 13,\n 'high reward > low reward': 15}"
     },
     "execution_count": 92,
     "metadata": {},
     "output_type": "execute_result"
    }
   ],
   "source": [
    "counter_contrast = data_util.df_counter(df_final.explode('contrast_set'), 'contrast_set',\n",
    "                                        set_keywords=set_all_contrasts, order=1)\n",
    "counter_contrast"
   ],
   "metadata": {
    "collapsed": false,
    "pycharm": {
     "name": "#%%\n"
    }
   }
  },
  {
   "cell_type": "markdown",
   "source": [
    "### keywords"
   ],
   "metadata": {
    "collapsed": false
   }
  },
  {
   "cell_type": "code",
   "execution_count": 93,
   "outputs": [],
   "source": [
    "list_of_keywords_set = list(df_final['keywords_split'])"
   ],
   "metadata": {
    "collapsed": false,
    "pycharm": {
     "name": "#%%\n"
    }
   }
  },
  {
   "cell_type": "code",
   "execution_count": 94,
   "outputs": [
    {
     "data": {
      "text/plain": "97"
     },
     "execution_count": 94,
     "metadata": {},
     "output_type": "execute_result"
    }
   ],
   "source": [
    "set_all_keywords = set()\n",
    "for s in list_of_keywords_set:\n",
    "    set_all_keywords.update(s)\n",
    "len(set_all_keywords)"
   ],
   "metadata": {
    "collapsed": false,
    "pycharm": {
     "name": "#%%\n"
    }
   }
  },
  {
   "cell_type": "code",
   "execution_count": 95,
   "outputs": [
    {
     "data": {
      "text/plain": "{'>nan_values<': 0,\n 'visual identical shapes': 1,\n 'experimental task': 1,\n 'visual scrambled drawings': 1,\n 'precue': 1,\n 'anova': 1,\n 'time conditioning': 1,\n 'conditioning task': 1,\n 'decreasing activation': 1,\n 'young': 1,\n 'reversal learning task': 1,\n 'high calorie': 1,\n 'visual shape': 1,\n 'feedback reward': 1,\n 'verbal pseudo-words': 1,\n 'inhibition': 1,\n 'visual facial expression': 1,\n 'positive expectancy': 1,\n 'adult': 1,\n 'increasing reward uncertainty': 1,\n 'response maintenance': 1,\n 'high vs low calorie food': 1,\n 'Sub-Dif': 1,\n 'low calorie': 1,\n 'perceptual matching task': 1,\n 'probability': 1,\n 'reinforcement learning': 1,\n 'two and four choice reversal learning task': 1,\n 'effect of reward': 1,\n 'increasing activation': 1,\n 'monetary and erotic reward': 1,\n 'visual shape color': 1,\n 'Sub-Id': 1,\n 'verbal': 1,\n 'verbal reward': 1,\n 'safe choice': 1,\n 'cups task': 1,\n 'erotic reward': 1,\n 'negative expectancy': 1,\n 'small incentive': 1,\n 'response switching': 1,\n 'retrocue': 1,\n 'visual faces': 1,\n 'chocolate bars': 1,\n 'movement': 1,\n 'Stroop task': 1,\n 'time effect': 1,\n 'modelling prediction error': 1,\n 'potential gain': 1,\n 'extraversion': 1,\n 'visual color pies with probabilities': 1,\n 'reading': 1,\n 'fractal image': 1,\n 'high incentive': 1,\n 'visual spatial cue': 1,\n 'increasing reward magnitude': 1,\n 'visual cue': 1,\n 'potential loss': 1,\n 'dopamine': 1,\n 'taste reward': 2,\n 'Balloon Analog Risk Task': 2,\n 'high gain vs high loss': 2,\n 'face stimuli': 2,\n 'food photo reward': 2,\n 'three-back task': 2,\n 'visual cards': 2,\n 'SID': 2,\n 'visual numbers': 2,\n 'one-back task': 2,\n 'food': 2,\n 'visual word recognition': 2,\n 'reversal learning': 2,\n 'context-dependent reward': 3,\n 'task switching': 3,\n 'visual object': 4,\n 'risk choice': 5,\n 'decision phase': 5,\n 'negative reward': 6,\n 'visual letters': 6,\n 'MID': 7,\n 'social reward': 7,\n 'two-back task': 7,\n 'viewing': 7,\n 'passive': 9,\n 'positive reward': 12,\n 'n-back task': 14,\n 'reward magnitude': 16,\n 'gambling': 16,\n 'performance-dependent': 16,\n 'working memory': 17,\n 'anticipation phase': 17,\n 'reward value': 19,\n 'talairach': 26,\n 'decision making': 30,\n 'outcome phase': 34,\n 'MNI': 35,\n 'monetary reward': 37,\n 'fMRI': 61}"
     },
     "execution_count": 95,
     "metadata": {},
     "output_type": "execute_result"
    }
   ],
   "source": [
    "counter_keywords = data_util.df_counter(df_final.explode('keywords_split'), 'keywords_split',\n",
    "                                        set_keywords=set_all_keywords, order=1)\n",
    "counter_keywords"
   ],
   "metadata": {
    "collapsed": false,
    "pycharm": {
     "name": "#%%\n"
    }
   }
  },
  {
   "cell_type": "markdown",
   "source": [
    "### Check contains/not contains"
   ],
   "metadata": {
    "collapsed": false
   }
  },
  {
   "cell_type": "code",
   "execution_count": 96,
   "outputs": [],
   "source": [
    "df_checks = df_final.copy()"
   ],
   "metadata": {
    "collapsed": false,
    "pycharm": {
     "name": "#%%\n"
    }
   }
  },
  {
   "cell_type": "code",
   "execution_count": 97,
   "outputs": [
    {
     "name": "stdout",
     "output_type": "stream",
     "text": [
      "    title                                                                                                                                                            author                           #Foci    #Subjects  contrast_set                                                                                                                                                                                               keywords_split\n",
      "--  ---------------------------------------------------------------------------------------------------------------------------------------------------------------  -----------------------------  -------  -----------  ---------------------------------------------------------------------------------------------------------------------------------------------------------------------------------------------------------  ----------------------------------------------------------------------------------------------------------------------------------------------------------------------------------------------------------------------------------------------------------------\n",
      " 4  Activity in human reward-sensitive brain areas is strongly context dependent                                                                                     Nieuwenhuis et al                   10           14  {'high reward > low reward'}                                                                                                                                                                               {'high gain vs high loss', 'fMRI', 'positive reward', 'reward magnitude', 'talairach', 'reward value', 'gambling', 'decision making', 'context-dependent reward', 'outcome phase', 'monetary reward'}\n",
      " 8  Anticipation of Increasing Monetary Reward Selectively Recruits Nucleus Accumbens                                                                                Knutson et al                       24            8  {'high reward > low reward', 'punishment > no reward', 'reward > no reward'}                                                                                                                               {'fMRI', 'anticipation phase', 'performance-dependent', 'monetary reward', 'MID', 'reward magnitude', 'talairach'}\n",
      " 9  Anticipation of monetary and social reward differently activates mesolimbic brain structures in men and women                                                    Spreckelmeyer et al                 64           32  {'high reward > low reward', 'reward > no reward'}                                                                                                                                                         {'fMRI', 'reward value', 'monetary reward', 'social reward', 'MID', 'anticipation phase', 'performance-dependent', 'SID', 'talairach'}\n",
      "11  Are Attractive People Rewarding - Sex Differences in the Neural Substrates of Facial Attractiveness                                                              Cloutier et al                      19           48  {'high reward > low reward'}                                                                                                                                                                               {'passive', 'fMRI', 'reward value', 'social reward', 'face stimuli', 'viewing', 'outcome phase', 'talairach'}\n",
      "14  Brain systems for assessing facial attractiveness                                                                                                                Winston et al                       15           26  {'high reward > low reward'}                                                                                                                                                                               {'passive', 'fMRI', 'reward value', 'social reward', 'viewing', 'decision making', 'outcome phase', 'MNI'}\n",
      "21  Dissociable Neural Responses in Human Reward Systems                                                                                                             Elliott et al                       19            9  {'negative correlation with reward level', 'high reward > low reward', 'penalty during run of failure', 'reward during run of success', 'reward during run of success and penalty during run of failure'}  {'negative reward', 'fMRI', 'positive reward', 'reward magnitude', 'talairach', 'reward value', 'gambling', 'decision making', 'context-dependent reward', 'outcome phase', 'monetary reward'}\n",
      "25  Dissociation of reward anticipation and outcome with event-related fMRI                                                                                          Knutson et al                       23            9  {'high reward > low reward', 'reward > no reward'}                                                                                                                                                         {'fMRI', 'MID', 'anticipation phase', 'reward magnitude', 'talairach', 'performance-dependent', 'outcome phase', 'monetary reward'}\n",
      "26  Distinct Portions of Anterior Cingulate Cortex and Medial Prefrontal Cortex Are Activated by Reward Processing in Separable Phases of Decision-Making Cognition  Rogers et al                        24           14  {'high reward > low reward', 'win > lose'}                                                                                                                                                                 {'decision phase', 'fMRI', 'positive reward', 'gambling', 'monetary reward', 'MNI', 'decision making'}\n",
      "29  Distributed Neural Representation of Expected Value                                                                                                              Knutson et al                       26           14  {'high reward > low reward', 'high probability > low probability'}                                                                                                                                         {'fMRI', 'reward value', 'probability', 'MID', 'anticipation phase', 'reward magnitude', 'talairach', 'performance-dependent', 'monetary reward'}\n",
      "31  Dorsal striatum responses to reward and punishment - Effects of valence and magnitude manipulations                                                              Delgado et al                       12           18  {'high reward > low reward'}                                                                                                                                                                               {'talairach', 'fMRI', 'gambling', 'outcome phase', 'reward magnitude', 'monetary reward'}\n",
      "32  Effort-Based Cost Benefit Valuation and the Human Brain                                                                                                          Croxson et al                        9           19  {'high reward > low reward'}                                                                                                                                                                               {'fMRI', 'anticipation phase', 'reward magnitude', 'monetary reward', 'MNI'}\n",
      "33  From uncertainty to reward - BOLD characteristics differentiate signaling pathways                                                                               Abler et al                         43           15  {'high reward > low reward', 'risk > safe', 'expected reward > received reward'}                                                                                                                           {'fMRI', 'increasing reward uncertainty', 'reward magnitude', 'performance-dependent', 'anova', 'reward value', 'anticipation phase', 'modelling prediction error', 'decision making', 'increasing reward magnitude', 'outcome phase', 'monetary reward', 'MNI'}\n",
      "44  Neural Coding of Reward-Prediction Error Signals During Classical Conditioning With Attractive Faces                                                             Signe Bray and John O'Doherty        5           23  {'high reward > low reward'}                                                                                                                                                                               {'passive', 'fMRI', 'social reward', 'outcome phase', 'viewing', 'face stimuli', 'MNI'}\n",
      "46  Neural substrates of reward magnitude, probability, and risk during a wheel of fortune decision-making task                                                      Smith et al                         14           25  {'high reward > low reward', 'risk > safe', 'low probability > high probability'}                                                                                                                          {'fMRI', 'anticipation phase', 'monetary reward', 'gambling', 'reward magnitude', 'talairach', 'decision making'}\n",
      "50  Reward Value Coding Distinct From Risk Attitude-Related Uncertainty Coding in Human Reward Systems                                                               Tobler et al                        19           16  {'high reward > low reward', 'high probability > low probability', 'expected reward > received reward'}                                                                                                    {'fMRI', 'reward value', 'anticipation phase', 'reward magnitude', 'decision making', 'performance-dependent', 'safe choice', 'monetary reward', 'MNI'}\n"
     ]
    }
   ],
   "source": [
    "############\n",
    "check_set = {'high reward > low reward'}\n",
    "mask = df_proc.check_column_elem(df=df_checks, colummn_name='contrast_set', check_set=check_set)\n",
    "with pd.option_context('display.max_colwidth', None):  # to show all the column values\n",
    "    print(tabulate(df_checks[mask], headers='keys'))"
   ],
   "metadata": {
    "collapsed": false,
    "pycharm": {
     "name": "#%%\n"
    }
   }
  },
  {
   "cell_type": "markdown",
   "source": [
    "***"
   ],
   "metadata": {
    "collapsed": false
   }
  },
  {
   "cell_type": "markdown",
   "source": [
    "## Split wm and rest"
   ],
   "metadata": {
    "collapsed": false,
    "pycharm": {
     "name": "#%% md\n"
    }
   }
  },
  {
   "cell_type": "code",
   "execution_count": 98,
   "outputs": [],
   "source": [
    "df_data = df_main.copy()\n",
    "mask_wm = df_data['keywords'].str.contains('working memory')"
   ],
   "metadata": {
    "collapsed": false,
    "pycharm": {
     "name": "#%%\n"
    }
   }
  },
  {
   "cell_type": "markdown",
   "source": [
    "### Working Memory"
   ],
   "metadata": {
    "collapsed": false
   }
  },
  {
   "cell_type": "code",
   "execution_count": 99,
   "outputs": [],
   "source": [
    "df_wm = df_data[mask_wm]"
   ],
   "metadata": {
    "collapsed": false,
    "pycharm": {
     "name": "#%%\n"
    }
   }
  },
  {
   "cell_type": "code",
   "execution_count": 100,
   "outputs": [
    {
     "data": {
      "text/plain": "17"
     },
     "execution_count": 100,
     "metadata": {},
     "output_type": "execute_result"
    }
   ],
   "source": [
    "df_wm['title'].unique().size"
   ],
   "metadata": {
    "collapsed": false,
    "pycharm": {
     "name": "#%%\n"
    }
   }
  },
  {
   "cell_type": "markdown",
   "source": [
    "#### Focis number wm - for author,title and contrast"
   ],
   "metadata": {
    "collapsed": false,
    "pycharm": {
     "name": "#%% md\n"
    }
   }
  },
  {
   "cell_type": "code",
   "execution_count": 101,
   "outputs": [
    {
     "data": {
      "text/plain": "                                                                                      title  \\\n0  A Rapid fMRI Task Battery for Mapping of Visual, Motor, Cognitive and Emotional Function   \n\n               author         contrast  #Foci  \n0  Drobyshevsky et al  2-back > 0-back     13  ",
      "text/html": "<div>\n<style scoped>\n    .dataframe tbody tr th:only-of-type {\n        vertical-align: middle;\n    }\n\n    .dataframe tbody tr th {\n        vertical-align: top;\n    }\n\n    .dataframe thead th {\n        text-align: right;\n    }\n</style>\n<table border=\"1\" class=\"dataframe\">\n  <thead>\n    <tr style=\"text-align: right;\">\n      <th></th>\n      <th>title</th>\n      <th>author</th>\n      <th>contrast</th>\n      <th>#Foci</th>\n    </tr>\n  </thead>\n  <tbody>\n    <tr>\n      <th>0</th>\n      <td>A Rapid fMRI Task Battery for Mapping of Visual, Motor, Cognitive and Emotional Function</td>\n      <td>Drobyshevsky et al</td>\n      <td>2-back &gt; 0-back</td>\n      <td>13</td>\n    </tr>\n  </tbody>\n</table>\n</div>"
     },
     "execution_count": 101,
     "metadata": {},
     "output_type": "execute_result"
    }
   ],
   "source": [
    "df_group_focis_wm = df_wm.groupby(['title', 'author', 'contrast']\n",
    "                                  ).size().reset_index(name=\"#Foci\")\n",
    "df_group_focis_wm.head(1)"
   ],
   "metadata": {
    "collapsed": false,
    "pycharm": {
     "name": "#%%\n"
    }
   }
  },
  {
   "cell_type": "markdown",
   "source": [
    "#### Subjects number wm"
   ],
   "metadata": {
    "collapsed": false,
    "pycharm": {
     "name": "#%% md\n"
    }
   }
  },
  {
   "cell_type": "code",
   "execution_count": 102,
   "outputs": [
    {
     "data": {
      "text/plain": "                                                                                                                                    title  \\\n0                                                A Rapid fMRI Task Battery for Mapping of Visual, Motor, Cognitive and Emotional Function   \n1                                                                    A functional neuroimaging study of motivation and executive function   \n2                      Abnormal neural activity in partially remitted late-onset depression An fMRI study of one-back working memory task   \n3                         Alterations in the functional neural circuitry supporting flexible choice behavior in autism spectrum disorders   \n4                                                                        An fMRI study of working memory for schematic facial expressions   \n5  Anterior cingulate cortex differently modulates fronto-parietal functional connectivity between resting-state and working memory tasks   \n6  Anterior cingulate cortex differently modulates fronto-parietal functional connectivity between resting-state and working memory tasks   \n7                                                                  Does caffeine modulate verbal working memory processes - An fMRI study   \n8           Frontal Hypoactivation on Functional Magnetic Resonance Imaging in Working Memory after Severe Diffuse Traumatic Brain Injury   \n9           Frontal Hypoactivation on Functional Magnetic Resonance Imaging in Working Memory after Severe Diffuse Traumatic Brain Injury   \n\n                 author  #Subjects                  contrast  \n0    Drobyshevsky et al         31           2-back > 0-back  \n1          Taylor et al         12                         -  \n2             Lee et al         14             1-back > rest  \n3            Cruz et al         23                         -  \n4       Beneventi et al         12  2-back > 1-back > 0-back  \n5              Di et al         49           1-back > 2-back  \n6              Di et al         49           2-back > 1-back  \n7  Koppelstaetter et al         15           2-back > 0-back  \n8         Carrion et al         13           2-back > 0-back  \n9         Carrion et al         13           3-back > 0-back  ",
      "text/html": "<div>\n<style scoped>\n    .dataframe tbody tr th:only-of-type {\n        vertical-align: middle;\n    }\n\n    .dataframe tbody tr th {\n        vertical-align: top;\n    }\n\n    .dataframe thead th {\n        text-align: right;\n    }\n</style>\n<table border=\"1\" class=\"dataframe\">\n  <thead>\n    <tr style=\"text-align: right;\">\n      <th></th>\n      <th>title</th>\n      <th>author</th>\n      <th>#Subjects</th>\n      <th>contrast</th>\n    </tr>\n  </thead>\n  <tbody>\n    <tr>\n      <th>0</th>\n      <td>A Rapid fMRI Task Battery for Mapping of Visual, Motor, Cognitive and Emotional Function</td>\n      <td>Drobyshevsky et al</td>\n      <td>31</td>\n      <td>2-back &gt; 0-back</td>\n    </tr>\n    <tr>\n      <th>1</th>\n      <td>A functional neuroimaging study of motivation and executive function</td>\n      <td>Taylor et al</td>\n      <td>12</td>\n      <td>-</td>\n    </tr>\n    <tr>\n      <th>2</th>\n      <td>Abnormal neural activity in partially remitted late-onset depression An fMRI study of one-back working memory task</td>\n      <td>Lee et al</td>\n      <td>14</td>\n      <td>1-back &gt; rest</td>\n    </tr>\n    <tr>\n      <th>3</th>\n      <td>Alterations in the functional neural circuitry supporting flexible choice behavior in autism spectrum disorders</td>\n      <td>Cruz et al</td>\n      <td>23</td>\n      <td>-</td>\n    </tr>\n    <tr>\n      <th>4</th>\n      <td>An fMRI study of working memory for schematic facial expressions</td>\n      <td>Beneventi et al</td>\n      <td>12</td>\n      <td>2-back &gt; 1-back &gt; 0-back</td>\n    </tr>\n    <tr>\n      <th>5</th>\n      <td>Anterior cingulate cortex differently modulates fronto-parietal functional connectivity between resting-state and working memory tasks</td>\n      <td>Di et al</td>\n      <td>49</td>\n      <td>1-back &gt; 2-back</td>\n    </tr>\n    <tr>\n      <th>6</th>\n      <td>Anterior cingulate cortex differently modulates fronto-parietal functional connectivity between resting-state and working memory tasks</td>\n      <td>Di et al</td>\n      <td>49</td>\n      <td>2-back &gt; 1-back</td>\n    </tr>\n    <tr>\n      <th>7</th>\n      <td>Does caffeine modulate verbal working memory processes - An fMRI study</td>\n      <td>Koppelstaetter et al</td>\n      <td>15</td>\n      <td>2-back &gt; 0-back</td>\n    </tr>\n    <tr>\n      <th>8</th>\n      <td>Frontal Hypoactivation on Functional Magnetic Resonance Imaging in Working Memory after Severe Diffuse Traumatic Brain Injury</td>\n      <td>Carrion et al</td>\n      <td>13</td>\n      <td>2-back &gt; 0-back</td>\n    </tr>\n    <tr>\n      <th>9</th>\n      <td>Frontal Hypoactivation on Functional Magnetic Resonance Imaging in Working Memory after Severe Diffuse Traumatic Brain Injury</td>\n      <td>Carrion et al</td>\n      <td>13</td>\n      <td>3-back &gt; 0-back</td>\n    </tr>\n  </tbody>\n</table>\n</div>"
     },
     "execution_count": 102,
     "metadata": {},
     "output_type": "execute_result"
    }
   ],
   "source": [
    "group_subjects_wm = df_wm.groupby(['title', 'author', 'subjects', 'contrast'])\n",
    "dict_keys_subjects_wm = group_subjects_wm.groups.keys()\n",
    "df_group_subjects_wm = pd.DataFrame.from_records([*dict_keys_subjects_wm],\n",
    "                                                 columns=['title', 'author', '#Subjects', 'contrast'])\n",
    "df_group_subjects_wm.head(10)"
   ],
   "metadata": {
    "collapsed": false,
    "pycharm": {
     "name": "#%%\n"
    }
   }
  },
  {
   "cell_type": "code",
   "execution_count": 103,
   "outputs": [
    {
     "data": {
      "text/plain": "                                                                                                                                    title  \\\n0                                                A Rapid fMRI Task Battery for Mapping of Visual, Motor, Cognitive and Emotional Function   \n1                                                                    A functional neuroimaging study of motivation and executive function   \n2                      Abnormal neural activity in partially remitted late-onset depression An fMRI study of one-back working memory task   \n3                         Alterations in the functional neural circuitry supporting flexible choice behavior in autism spectrum disorders   \n4                                                                        An fMRI study of working memory for schematic facial expressions   \n5  Anterior cingulate cortex differently modulates fronto-parietal functional connectivity between resting-state and working memory tasks   \n6  Anterior cingulate cortex differently modulates fronto-parietal functional connectivity between resting-state and working memory tasks   \n7                                                                  Does caffeine modulate verbal working memory processes - An fMRI study   \n8           Frontal Hypoactivation on Functional Magnetic Resonance Imaging in Working Memory after Severe Diffuse Traumatic Brain Injury   \n9           Frontal Hypoactivation on Functional Magnetic Resonance Imaging in Working Memory after Severe Diffuse Traumatic Brain Injury   \n\n                 author                  contrast  #Foci  #Subjects  \n0    Drobyshevsky et al           2-back > 0-back     13         31  \n1          Taylor et al                         -     23         12  \n2             Lee et al             1-back > rest     58         14  \n3            Cruz et al                         -     27         23  \n4       Beneventi et al  2-back > 1-back > 0-back     24         12  \n5              Di et al           1-back > 2-back     13         49  \n6              Di et al           2-back > 1-back     13         49  \n7  Koppelstaetter et al           2-back > 0-back     16         15  \n8         Carrion et al           2-back > 0-back     16         13  \n9         Carrion et al           3-back > 0-back     18         13  ",
      "text/html": "<div>\n<style scoped>\n    .dataframe tbody tr th:only-of-type {\n        vertical-align: middle;\n    }\n\n    .dataframe tbody tr th {\n        vertical-align: top;\n    }\n\n    .dataframe thead th {\n        text-align: right;\n    }\n</style>\n<table border=\"1\" class=\"dataframe\">\n  <thead>\n    <tr style=\"text-align: right;\">\n      <th></th>\n      <th>title</th>\n      <th>author</th>\n      <th>contrast</th>\n      <th>#Foci</th>\n      <th>#Subjects</th>\n    </tr>\n  </thead>\n  <tbody>\n    <tr>\n      <th>0</th>\n      <td>A Rapid fMRI Task Battery for Mapping of Visual, Motor, Cognitive and Emotional Function</td>\n      <td>Drobyshevsky et al</td>\n      <td>2-back &gt; 0-back</td>\n      <td>13</td>\n      <td>31</td>\n    </tr>\n    <tr>\n      <th>1</th>\n      <td>A functional neuroimaging study of motivation and executive function</td>\n      <td>Taylor et al</td>\n      <td>-</td>\n      <td>23</td>\n      <td>12</td>\n    </tr>\n    <tr>\n      <th>2</th>\n      <td>Abnormal neural activity in partially remitted late-onset depression An fMRI study of one-back working memory task</td>\n      <td>Lee et al</td>\n      <td>1-back &gt; rest</td>\n      <td>58</td>\n      <td>14</td>\n    </tr>\n    <tr>\n      <th>3</th>\n      <td>Alterations in the functional neural circuitry supporting flexible choice behavior in autism spectrum disorders</td>\n      <td>Cruz et al</td>\n      <td>-</td>\n      <td>27</td>\n      <td>23</td>\n    </tr>\n    <tr>\n      <th>4</th>\n      <td>An fMRI study of working memory for schematic facial expressions</td>\n      <td>Beneventi et al</td>\n      <td>2-back &gt; 1-back &gt; 0-back</td>\n      <td>24</td>\n      <td>12</td>\n    </tr>\n    <tr>\n      <th>5</th>\n      <td>Anterior cingulate cortex differently modulates fronto-parietal functional connectivity between resting-state and working memory tasks</td>\n      <td>Di et al</td>\n      <td>1-back &gt; 2-back</td>\n      <td>13</td>\n      <td>49</td>\n    </tr>\n    <tr>\n      <th>6</th>\n      <td>Anterior cingulate cortex differently modulates fronto-parietal functional connectivity between resting-state and working memory tasks</td>\n      <td>Di et al</td>\n      <td>2-back &gt; 1-back</td>\n      <td>13</td>\n      <td>49</td>\n    </tr>\n    <tr>\n      <th>7</th>\n      <td>Does caffeine modulate verbal working memory processes - An fMRI study</td>\n      <td>Koppelstaetter et al</td>\n      <td>2-back &gt; 0-back</td>\n      <td>16</td>\n      <td>15</td>\n    </tr>\n    <tr>\n      <th>8</th>\n      <td>Frontal Hypoactivation on Functional Magnetic Resonance Imaging in Working Memory after Severe Diffuse Traumatic Brain Injury</td>\n      <td>Carrion et al</td>\n      <td>2-back &gt; 0-back</td>\n      <td>16</td>\n      <td>13</td>\n    </tr>\n    <tr>\n      <th>9</th>\n      <td>Frontal Hypoactivation on Functional Magnetic Resonance Imaging in Working Memory after Severe Diffuse Traumatic Brain Injury</td>\n      <td>Carrion et al</td>\n      <td>3-back &gt; 0-back</td>\n      <td>18</td>\n      <td>13</td>\n    </tr>\n  </tbody>\n</table>\n</div>"
     },
     "execution_count": 103,
     "metadata": {},
     "output_type": "execute_result"
    }
   ],
   "source": [
    "df_final_wm = pd.merge(df_group_focis_wm, df_group_subjects_wm[['#Subjects']], left_index=True,\n",
    "                       right_index=True)\n",
    "df_final_wm.head(10)"
   ],
   "metadata": {
    "collapsed": false,
    "pycharm": {
     "name": "#%%\n"
    }
   }
  },
  {
   "cell_type": "code",
   "execution_count": 104,
   "outputs": [
    {
     "data": {
      "text/plain": "(24, 5)"
     },
     "execution_count": 104,
     "metadata": {},
     "output_type": "execute_result"
    }
   ],
   "source": [
    "df_final_wm.shape"
   ],
   "metadata": {
    "collapsed": false,
    "pycharm": {
     "name": "#%%\n"
    }
   }
  },
  {
   "cell_type": "markdown",
   "source": [
    "## Get set of keywords"
   ],
   "metadata": {
    "collapsed": false
   }
  },
  {
   "cell_type": "code",
   "execution_count": 105,
   "outputs": [],
   "source": [
    "# get keywords and split them\n",
    "df_group_keywords_wm = df_wm.groupby(['title', 'author', 'contrast'])['keywords'].apply(lambda x: set(x)).reset_index(\n",
    "    name='keywords_set')\n",
    "# df_group_keywords_wm.head(10)\n",
    "df_group_keywords_wm['keywords_split'] = df_group_keywords_wm['keywords_set'].apply(df_proc.split_keys)"
   ],
   "metadata": {
    "collapsed": false,
    "pycharm": {
     "name": "#%%\n"
    }
   }
  },
  {
   "cell_type": "code",
   "execution_count": 106,
   "outputs": [],
   "source": [
    "# list_key_set_wm = list(df_proc.list_of_sets_to_set(df_group_keywords_wm, 'keywords_split'))\n",
    "# list_key_set_wm\n",
    "set_key_set_wm_stimulus = {'visual word recognition',\n",
    "                           # 'reading',\n",
    "                           'verbal',\n",
    "                           'verbal pseudo-words',\n",
    "                           'visual numbers',\n",
    "                           'visual shape',\n",
    "                           'visual spatial cue',\n",
    "                           'visual faces',\n",
    "                           'visual letters',\n",
    "                           'visual object',\n",
    "                           'visual shape color',\n",
    "                           'visual facial expression',\n",
    "                           'visual identical shapes',\n",
    "                           'visual scrambled drawings'}\n",
    "set_key_set_wm_modality = {'reversal learning task',\n",
    "                           # 'one-back task',\n",
    "                           # 'two-back task',\n",
    "                           # 'three-back task',\n",
    "                           'n-back task',\n",
    "                           'experimental task',\n",
    "                           'perceptual matching task'}"
   ],
   "metadata": {
    "collapsed": false,
    "pycharm": {
     "name": "#%%\n"
    }
   }
  },
  {
   "cell_type": "code",
   "execution_count": 107,
   "outputs": [],
   "source": [
    "# keep just the needed keywords\n",
    "df_group_keywords_wm['Task Modality'] = df_group_keywords_wm['keywords_split'].apply(\n",
    "    lambda x: ', '.join(x.intersection(set_key_set_wm_modality)))\n",
    "df_group_keywords_wm['Task Stimulus'] = df_group_keywords_wm['keywords_split'].apply(\n",
    "    lambda x: ', '.join(x.intersection(set_key_set_wm_stimulus)))"
   ],
   "metadata": {
    "collapsed": false,
    "pycharm": {
     "name": "#%%\n"
    }
   }
  },
  {
   "cell_type": "code",
   "execution_count": 108,
   "outputs": [
    {
     "data": {
      "text/plain": "                                                                                                                                    title  \\\n0                                                A Rapid fMRI Task Battery for Mapping of Visual, Motor, Cognitive and Emotional Function   \n1                                                                    A functional neuroimaging study of motivation and executive function   \n2                      Abnormal neural activity in partially remitted late-onset depression An fMRI study of one-back working memory task   \n3                         Alterations in the functional neural circuitry supporting flexible choice behavior in autism spectrum disorders   \n4                                                                        An fMRI study of working memory for schematic facial expressions   \n5  Anterior cingulate cortex differently modulates fronto-parietal functional connectivity between resting-state and working memory tasks   \n6  Anterior cingulate cortex differently modulates fronto-parietal functional connectivity between resting-state and working memory tasks   \n7                                                                  Does caffeine modulate verbal working memory processes - An fMRI study   \n\n                 author                  contrast  \\\n0    Drobyshevsky et al           2-back > 0-back   \n1          Taylor et al                         -   \n2             Lee et al             1-back > rest   \n3            Cruz et al                         -   \n4       Beneventi et al  2-back > 1-back > 0-back   \n5              Di et al           1-back > 2-back   \n6              Di et al           2-back > 1-back   \n7  Koppelstaetter et al           2-back > 0-back   \n\n                                                                                                                                                                         keywords_set  \\\n0                                                                                                       {fMRI; working memory; talairach; n-back task; two-back task; visual letters}   \n1  {fMRI; working memory; anticipation phase; monetary reward; MNI; n-back task; visual shape, fMRI; working memory; decision phase; monetary reward; MNI; n-back task; visual shape}   \n2                                                                                                       {fMRI; working memory; talairach; n-back task; one-back task; visual numbers}   \n3                                             {fMRI; working memory; decision making; MNI; two and four choice reversal learning task;reversal learning task;visual identical shapes}   \n4                                                                                       {fMRI; working memory; MNI; n-back task; visual facial expression; visual scrambled drawings}   \n5                                                                                                              {fMRI; working memory; MNI; n-back task; one-back task;visual letters}   \n6                                                                                                              {fMRI; working memory; MNI; n-back task; two-back task;visual letters}   \n7                                                                                                               {fMRI; working memory; talairach; n-back task; two-back task; verbal}   \n\n                                                                                                                              keywords_split  \\\n0                                                              {talairach, n-back task, fMRI, working memory, two-back task, visual letters}   \n1                                {decision phase, n-back task, fMRI, anticipation phase, visual shape, working memory, monetary reward, MNI}   \n2                                                              {n-back task, fMRI, visual numbers, one-back task, working memory, talairach}   \n3  {visual identical shapes, fMRI, working memory, two and four choice reversal learning task, reversal learning task, MNI, decision making}   \n4                                              {n-back task, fMRI, visual scrambled drawings, working memory, visual facial expression, MNI}   \n5                                                                    {n-back task, fMRI, one-back task, working memory, visual letters, MNI}   \n6                                                                    {n-back task, fMRI, working memory, two-back task, visual letters, MNI}   \n7                                                                      {n-back task, fMRI, working memory, verbal, two-back task, talairach}   \n\n            Task Modality                                        Task Stimulus  \n0             n-back task                                       visual letters  \n1             n-back task                                         visual shape  \n2             n-back task                                       visual numbers  \n3  reversal learning task                              visual identical shapes  \n4             n-back task  visual facial expression, visual scrambled drawings  \n5             n-back task                                       visual letters  \n6             n-back task                                       visual letters  \n7             n-back task                                               verbal  ",
      "text/html": "<div>\n<style scoped>\n    .dataframe tbody tr th:only-of-type {\n        vertical-align: middle;\n    }\n\n    .dataframe tbody tr th {\n        vertical-align: top;\n    }\n\n    .dataframe thead th {\n        text-align: right;\n    }\n</style>\n<table border=\"1\" class=\"dataframe\">\n  <thead>\n    <tr style=\"text-align: right;\">\n      <th></th>\n      <th>title</th>\n      <th>author</th>\n      <th>contrast</th>\n      <th>keywords_set</th>\n      <th>keywords_split</th>\n      <th>Task Modality</th>\n      <th>Task Stimulus</th>\n    </tr>\n  </thead>\n  <tbody>\n    <tr>\n      <th>0</th>\n      <td>A Rapid fMRI Task Battery for Mapping of Visual, Motor, Cognitive and Emotional Function</td>\n      <td>Drobyshevsky et al</td>\n      <td>2-back &gt; 0-back</td>\n      <td>{fMRI; working memory; talairach; n-back task; two-back task; visual letters}</td>\n      <td>{talairach, n-back task, fMRI, working memory, two-back task, visual letters}</td>\n      <td>n-back task</td>\n      <td>visual letters</td>\n    </tr>\n    <tr>\n      <th>1</th>\n      <td>A functional neuroimaging study of motivation and executive function</td>\n      <td>Taylor et al</td>\n      <td>-</td>\n      <td>{fMRI; working memory; anticipation phase; monetary reward; MNI; n-back task; visual shape, fMRI; working memory; decision phase; monetary reward; MNI; n-back task; visual shape}</td>\n      <td>{decision phase, n-back task, fMRI, anticipation phase, visual shape, working memory, monetary reward, MNI}</td>\n      <td>n-back task</td>\n      <td>visual shape</td>\n    </tr>\n    <tr>\n      <th>2</th>\n      <td>Abnormal neural activity in partially remitted late-onset depression An fMRI study of one-back working memory task</td>\n      <td>Lee et al</td>\n      <td>1-back &gt; rest</td>\n      <td>{fMRI; working memory; talairach; n-back task; one-back task; visual numbers}</td>\n      <td>{n-back task, fMRI, visual numbers, one-back task, working memory, talairach}</td>\n      <td>n-back task</td>\n      <td>visual numbers</td>\n    </tr>\n    <tr>\n      <th>3</th>\n      <td>Alterations in the functional neural circuitry supporting flexible choice behavior in autism spectrum disorders</td>\n      <td>Cruz et al</td>\n      <td>-</td>\n      <td>{fMRI; working memory; decision making; MNI; two and four choice reversal learning task;reversal learning task;visual identical shapes}</td>\n      <td>{visual identical shapes, fMRI, working memory, two and four choice reversal learning task, reversal learning task, MNI, decision making}</td>\n      <td>reversal learning task</td>\n      <td>visual identical shapes</td>\n    </tr>\n    <tr>\n      <th>4</th>\n      <td>An fMRI study of working memory for schematic facial expressions</td>\n      <td>Beneventi et al</td>\n      <td>2-back &gt; 1-back &gt; 0-back</td>\n      <td>{fMRI; working memory; MNI; n-back task; visual facial expression; visual scrambled drawings}</td>\n      <td>{n-back task, fMRI, visual scrambled drawings, working memory, visual facial expression, MNI}</td>\n      <td>n-back task</td>\n      <td>visual facial expression, visual scrambled drawings</td>\n    </tr>\n    <tr>\n      <th>5</th>\n      <td>Anterior cingulate cortex differently modulates fronto-parietal functional connectivity between resting-state and working memory tasks</td>\n      <td>Di et al</td>\n      <td>1-back &gt; 2-back</td>\n      <td>{fMRI; working memory; MNI; n-back task; one-back task;visual letters}</td>\n      <td>{n-back task, fMRI, one-back task, working memory, visual letters, MNI}</td>\n      <td>n-back task</td>\n      <td>visual letters</td>\n    </tr>\n    <tr>\n      <th>6</th>\n      <td>Anterior cingulate cortex differently modulates fronto-parietal functional connectivity between resting-state and working memory tasks</td>\n      <td>Di et al</td>\n      <td>2-back &gt; 1-back</td>\n      <td>{fMRI; working memory; MNI; n-back task; two-back task;visual letters}</td>\n      <td>{n-back task, fMRI, working memory, two-back task, visual letters, MNI}</td>\n      <td>n-back task</td>\n      <td>visual letters</td>\n    </tr>\n    <tr>\n      <th>7</th>\n      <td>Does caffeine modulate verbal working memory processes - An fMRI study</td>\n      <td>Koppelstaetter et al</td>\n      <td>2-back &gt; 0-back</td>\n      <td>{fMRI; working memory; talairach; n-back task; two-back task; verbal}</td>\n      <td>{n-back task, fMRI, working memory, verbal, two-back task, talairach}</td>\n      <td>n-back task</td>\n      <td>verbal</td>\n    </tr>\n  </tbody>\n</table>\n</div>"
     },
     "execution_count": 108,
     "metadata": {},
     "output_type": "execute_result"
    }
   ],
   "source": [
    "df_group_keywords_wm.head(8)"
   ],
   "metadata": {
    "collapsed": false,
    "pycharm": {
     "name": "#%%\n"
    }
   }
  },
  {
   "cell_type": "code",
   "execution_count": 109,
   "outputs": [],
   "source": [
    "df_final_wm = pd.merge(df_final_wm, df_group_keywords_wm[['Task Modality', 'Task Stimulus']], left_index=True,\n",
    "                       right_index=True)"
   ],
   "metadata": {
    "collapsed": false,
    "pycharm": {
     "name": "#%%\n"
    }
   }
  },
  {
   "cell_type": "code",
   "execution_count": 110,
   "outputs": [
    {
     "data": {
      "text/plain": "                                                                                                                                     title  \\\n0                                                 A Rapid fMRI Task Battery for Mapping of Visual, Motor, Cognitive and Emotional Function   \n1                                                                     A functional neuroimaging study of motivation and executive function   \n2                       Abnormal neural activity in partially remitted late-onset depression An fMRI study of one-back working memory task   \n3                          Alterations in the functional neural circuitry supporting flexible choice behavior in autism spectrum disorders   \n4                                                                         An fMRI study of working memory for schematic facial expressions   \n5   Anterior cingulate cortex differently modulates fronto-parietal functional connectivity between resting-state and working memory tasks   \n6   Anterior cingulate cortex differently modulates fronto-parietal functional connectivity between resting-state and working memory tasks   \n7                                                                   Does caffeine modulate verbal working memory processes - An fMRI study   \n8            Frontal Hypoactivation on Functional Magnetic Resonance Imaging in Working Memory after Severe Diffuse Traumatic Brain Injury   \n9            Frontal Hypoactivation on Functional Magnetic Resonance Imaging in Working Memory after Severe Diffuse Traumatic Brain Injury   \n10                                                  Inhibit  switch  and update - A within-subject fMRI investigation of executive control   \n\n                  author                  contrast  #Foci  #Subjects  \\\n0     Drobyshevsky et al           2-back > 0-back     13         31   \n1           Taylor et al                         -     23         12   \n2              Lee et al             1-back > rest     58         14   \n3             Cruz et al                         -     27         23   \n4        Beneventi et al  2-back > 1-back > 0-back     24         12   \n5               Di et al           1-back > 2-back     13         49   \n6               Di et al           2-back > 1-back     13         49   \n7   Koppelstaetter et al           2-back > 0-back     16         15   \n8          Carrion et al           2-back > 0-back     16         13   \n9          Carrion et al           3-back > 0-back     18         13   \n10          Rodger et al     n-back > control task     15         22   \n\n             Task Modality  \\\n0              n-back task   \n1              n-back task   \n2              n-back task   \n3   reversal learning task   \n4              n-back task   \n5              n-back task   \n6              n-back task   \n7              n-back task   \n8              n-back task   \n9              n-back task   \n10             n-back task   \n\n                                          Task Stimulus  \n0                                        visual letters  \n1                                          visual shape  \n2                                        visual numbers  \n3                               visual identical shapes  \n4   visual facial expression, visual scrambled drawings  \n5                                        visual letters  \n6                                        visual letters  \n7                                                verbal  \n8                                        visual numbers  \n9                                        visual numbers  \n10                                   visual shape color  ",
      "text/html": "<div>\n<style scoped>\n    .dataframe tbody tr th:only-of-type {\n        vertical-align: middle;\n    }\n\n    .dataframe tbody tr th {\n        vertical-align: top;\n    }\n\n    .dataframe thead th {\n        text-align: right;\n    }\n</style>\n<table border=\"1\" class=\"dataframe\">\n  <thead>\n    <tr style=\"text-align: right;\">\n      <th></th>\n      <th>title</th>\n      <th>author</th>\n      <th>contrast</th>\n      <th>#Foci</th>\n      <th>#Subjects</th>\n      <th>Task Modality</th>\n      <th>Task Stimulus</th>\n    </tr>\n  </thead>\n  <tbody>\n    <tr>\n      <th>0</th>\n      <td>A Rapid fMRI Task Battery for Mapping of Visual, Motor, Cognitive and Emotional Function</td>\n      <td>Drobyshevsky et al</td>\n      <td>2-back &gt; 0-back</td>\n      <td>13</td>\n      <td>31</td>\n      <td>n-back task</td>\n      <td>visual letters</td>\n    </tr>\n    <tr>\n      <th>1</th>\n      <td>A functional neuroimaging study of motivation and executive function</td>\n      <td>Taylor et al</td>\n      <td>-</td>\n      <td>23</td>\n      <td>12</td>\n      <td>n-back task</td>\n      <td>visual shape</td>\n    </tr>\n    <tr>\n      <th>2</th>\n      <td>Abnormal neural activity in partially remitted late-onset depression An fMRI study of one-back working memory task</td>\n      <td>Lee et al</td>\n      <td>1-back &gt; rest</td>\n      <td>58</td>\n      <td>14</td>\n      <td>n-back task</td>\n      <td>visual numbers</td>\n    </tr>\n    <tr>\n      <th>3</th>\n      <td>Alterations in the functional neural circuitry supporting flexible choice behavior in autism spectrum disorders</td>\n      <td>Cruz et al</td>\n      <td>-</td>\n      <td>27</td>\n      <td>23</td>\n      <td>reversal learning task</td>\n      <td>visual identical shapes</td>\n    </tr>\n    <tr>\n      <th>4</th>\n      <td>An fMRI study of working memory for schematic facial expressions</td>\n      <td>Beneventi et al</td>\n      <td>2-back &gt; 1-back &gt; 0-back</td>\n      <td>24</td>\n      <td>12</td>\n      <td>n-back task</td>\n      <td>visual facial expression, visual scrambled drawings</td>\n    </tr>\n    <tr>\n      <th>5</th>\n      <td>Anterior cingulate cortex differently modulates fronto-parietal functional connectivity between resting-state and working memory tasks</td>\n      <td>Di et al</td>\n      <td>1-back &gt; 2-back</td>\n      <td>13</td>\n      <td>49</td>\n      <td>n-back task</td>\n      <td>visual letters</td>\n    </tr>\n    <tr>\n      <th>6</th>\n      <td>Anterior cingulate cortex differently modulates fronto-parietal functional connectivity between resting-state and working memory tasks</td>\n      <td>Di et al</td>\n      <td>2-back &gt; 1-back</td>\n      <td>13</td>\n      <td>49</td>\n      <td>n-back task</td>\n      <td>visual letters</td>\n    </tr>\n    <tr>\n      <th>7</th>\n      <td>Does caffeine modulate verbal working memory processes - An fMRI study</td>\n      <td>Koppelstaetter et al</td>\n      <td>2-back &gt; 0-back</td>\n      <td>16</td>\n      <td>15</td>\n      <td>n-back task</td>\n      <td>verbal</td>\n    </tr>\n    <tr>\n      <th>8</th>\n      <td>Frontal Hypoactivation on Functional Magnetic Resonance Imaging in Working Memory after Severe Diffuse Traumatic Brain Injury</td>\n      <td>Carrion et al</td>\n      <td>2-back &gt; 0-back</td>\n      <td>16</td>\n      <td>13</td>\n      <td>n-back task</td>\n      <td>visual numbers</td>\n    </tr>\n    <tr>\n      <th>9</th>\n      <td>Frontal Hypoactivation on Functional Magnetic Resonance Imaging in Working Memory after Severe Diffuse Traumatic Brain Injury</td>\n      <td>Carrion et al</td>\n      <td>3-back &gt; 0-back</td>\n      <td>18</td>\n      <td>13</td>\n      <td>n-back task</td>\n      <td>visual numbers</td>\n    </tr>\n    <tr>\n      <th>10</th>\n      <td>Inhibit  switch  and update - A within-subject fMRI investigation of executive control</td>\n      <td>Rodger et al</td>\n      <td>n-back &gt; control task</td>\n      <td>15</td>\n      <td>22</td>\n      <td>n-back task</td>\n      <td>visual shape color</td>\n    </tr>\n  </tbody>\n</table>\n</div>"
     },
     "execution_count": 110,
     "metadata": {},
     "output_type": "execute_result"
    }
   ],
   "source": [
    "df_final_wm.head(11)"
   ],
   "metadata": {
    "collapsed": false,
    "pycharm": {
     "name": "#%%\n"
    }
   }
  },
  {
   "cell_type": "code",
   "execution_count": 110,
   "outputs": [],
   "source": [],
   "metadata": {
    "collapsed": false,
    "pycharm": {
     "name": "#%%\n"
    }
   }
  },
  {
   "cell_type": "code",
   "execution_count": 142,
   "outputs": [
    {
     "data": {
      "text/plain": "                                                                                                                                                                                      contrast  \\\ntitle                                                                                                                                  author                                                    \nDoes caffeine modulate verbal working memory processes - An fMRI study                                                                 Koppelstaetter et al                    2-back > 0-back   \nPast experience shapes ongoing neural patterns for language                                                                            Pierce et al                   2-back > 1-back > 0-back   \nAn fMRI study of working memory for schematic facial expressions                                                                       Beneventi et al                2-back > 1-back > 0-back   \nAlterations in the functional neural circuitry supporting flexible choice behavior in autism spectrum disorders                        Cruz et al                                            -   \nA Rapid fMRI Task Battery for Mapping of Visual, Motor, Cognitive and Emotional Function                                               Drobyshevsky et al                      2-back > 0-back   \nNo gender differences in brain activation during the N-back task  An fMRI study in healthy individuals                                 Schmidt et al         3-back > 2-back > 1-back > 0-back   \nLong-term brain effects of N-back training- an fMRI study                                                                              Padilla et al                           3-back > 0-back   \nThe neural system that bridges reward and cognition in humans  An fMRI study                                                           Pochon et al          3-back > 2-back > 1-back > 0-back   \nWorking Memory Impairment in Fibromyalgia Patients Associated with Altered Frontoparietal Memory Network                               Seo et al                               2-back > 0-back   \nAnterior cingulate cortex differently modulates fronto-parietal functional connectivity between resting-state and working memory tasks Di et al                                2-back > 1-back   \nAbnormal neural activity in partially remitted late-onset depression An fMRI study of one-back working memory task                     Lee et al                                 1-back > rest   \nFrontal Hypoactivation on Functional Magnetic Resonance Imaging in Working Memory after Severe Diffuse Traumatic Brain Injury          Carrion et al                           3-back > 0-back   \nStimulus-dependent modulation of working memory for identity monitoring - A functional MRI study                                       Duggirala et al                         2-back > 0-back   \nA functional neuroimaging study of motivation and executive function                                                                   Taylor et al                                          -   \nInhibit  switch  and update - A within-subject fMRI investigation of executive control                                                 Rodger et al                      n-back > control task   \nOrienting Attention to Locations in Perceptual Versus Mental Representations                                                           Nobre et al                           precue > retrocue   \nRole of the superior parietal lobules in letter-identity processing within strings FMRI evidence from skilled and dyslexicreaders      Reilhac et al                        sub-dif > baseline   \n\n                                                                                                                                                             #Foci  \\\ntitle                                                                                                                                  author                        \nDoes caffeine modulate verbal working memory processes - An fMRI study                                                                 Koppelstaetter et al     16   \nPast experience shapes ongoing neural patterns for language                                                                            Pierce et al             19   \nAn fMRI study of working memory for schematic facial expressions                                                                       Beneventi et al          24   \nAlterations in the functional neural circuitry supporting flexible choice behavior in autism spectrum disorders                        Cruz et al               27   \nA Rapid fMRI Task Battery for Mapping of Visual, Motor, Cognitive and Emotional Function                                               Drobyshevsky et al       13   \nNo gender differences in brain activation during the N-back task  An fMRI study in healthy individuals                                 Schmidt et al            14   \nLong-term brain effects of N-back training- an fMRI study                                                                              Padilla et al            13   \nThe neural system that bridges reward and cognition in humans  An fMRI study                                                           Pochon et al             43   \nWorking Memory Impairment in Fibromyalgia Patients Associated with Altered Frontoparietal Memory Network                               Seo et al                19   \nAnterior cingulate cortex differently modulates fronto-parietal functional connectivity between resting-state and working memory tasks Di et al                 13   \nAbnormal neural activity in partially remitted late-onset depression An fMRI study of one-back working memory task                     Lee et al                58   \nFrontal Hypoactivation on Functional Magnetic Resonance Imaging in Working Memory after Severe Diffuse Traumatic Brain Injury          Carrion et al            18   \nStimulus-dependent modulation of working memory for identity monitoring - A functional MRI study                                       Duggirala et al          62   \nA functional neuroimaging study of motivation and executive function                                                                   Taylor et al             23   \nInhibit  switch  and update - A within-subject fMRI investigation of executive control                                                 Rodger et al             15   \nOrienting Attention to Locations in Perceptual Versus Mental Representations                                                           Nobre et al               3   \nRole of the superior parietal lobules in letter-identity processing within strings FMRI evidence from skilled and dyslexicreaders      Reilhac et al            21   \n\n                                                                                                                                                             #Subjects  \\\ntitle                                                                                                                                  author                            \nDoes caffeine modulate verbal working memory processes - An fMRI study                                                                 Koppelstaetter et al         15   \nPast experience shapes ongoing neural patterns for language                                                                            Pierce et al                 42   \nAn fMRI study of working memory for schematic facial expressions                                                                       Beneventi et al              12   \nAlterations in the functional neural circuitry supporting flexible choice behavior in autism spectrum disorders                        Cruz et al                   23   \nA Rapid fMRI Task Battery for Mapping of Visual, Motor, Cognitive and Emotional Function                                               Drobyshevsky et al           31   \nNo gender differences in brain activation during the N-back task  An fMRI study in healthy individuals                                 Schmidt et al                50   \nLong-term brain effects of N-back training- an fMRI study                                                                              Padilla et al                25   \nThe neural system that bridges reward and cognition in humans  An fMRI study                                                           Pochon et al                  6   \nWorking Memory Impairment in Fibromyalgia Patients Associated with Altered Frontoparietal Memory Network                               Seo et al                    22   \nAnterior cingulate cortex differently modulates fronto-parietal functional connectivity between resting-state and working memory tasks Di et al                     49   \nAbnormal neural activity in partially remitted late-onset depression An fMRI study of one-back working memory task                     Lee et al                    14   \nFrontal Hypoactivation on Functional Magnetic Resonance Imaging in Working Memory after Severe Diffuse Traumatic Brain Injury          Carrion et al                13   \nStimulus-dependent modulation of working memory for identity monitoring - A functional MRI study                                       Duggirala et al              50   \nA functional neuroimaging study of motivation and executive function                                                                   Taylor et al                 12   \nInhibit  switch  and update - A within-subject fMRI investigation of executive control                                                 Rodger et al                 22   \nOrienting Attention to Locations in Perceptual Versus Mental Representations                                                           Nobre et al                  10   \nRole of the superior parietal lobules in letter-identity processing within strings FMRI evidence from skilled and dyslexicreaders      Reilhac et al                12   \n\n                                                                                                                                                                        Task Modality  \\\ntitle                                                                                                                                  author                                           \nDoes caffeine modulate verbal working memory processes - An fMRI study                                                                 Koppelstaetter et al               n-back task   \nPast experience shapes ongoing neural patterns for language                                                                            Pierce et al                       n-back task   \nAn fMRI study of working memory for schematic facial expressions                                                                       Beneventi et al                    n-back task   \nAlterations in the functional neural circuitry supporting flexible choice behavior in autism spectrum disorders                        Cruz et al              reversal learning task   \nA Rapid fMRI Task Battery for Mapping of Visual, Motor, Cognitive and Emotional Function                                               Drobyshevsky et al                 n-back task   \nNo gender differences in brain activation during the N-back task  An fMRI study in healthy individuals                                 Schmidt et al                      n-back task   \nLong-term brain effects of N-back training- an fMRI study                                                                              Padilla et al                      n-back task   \nThe neural system that bridges reward and cognition in humans  An fMRI study                                                           Pochon et al                       n-back task   \nWorking Memory Impairment in Fibromyalgia Patients Associated with Altered Frontoparietal Memory Network                               Seo et al                          n-back task   \nAnterior cingulate cortex differently modulates fronto-parietal functional connectivity between resting-state and working memory tasks Di et al                           n-back task   \nAbnormal neural activity in partially remitted late-onset depression An fMRI study of one-back working memory task                     Lee et al                          n-back task   \nFrontal Hypoactivation on Functional Magnetic Resonance Imaging in Working Memory after Severe Diffuse Traumatic Brain Injury          Carrion et al                      n-back task   \nStimulus-dependent modulation of working memory for identity monitoring - A functional MRI study                                       Duggirala et al                    n-back task   \nA functional neuroimaging study of motivation and executive function                                                                   Taylor et al                       n-back task   \nInhibit  switch  and update - A within-subject fMRI investigation of executive control                                                 Rodger et al                       n-back task   \nOrienting Attention to Locations in Perceptual Versus Mental Representations                                                           Nobre et al                  experimental task   \nRole of the superior parietal lobules in letter-identity processing within strings FMRI evidence from skilled and dyslexicreaders      Reilhac et al         perceptual matching task   \n\n                                                                                                                                                                                                    Task Stimulus  \ntitle                                                                                                                                  author                                                                      \nDoes caffeine modulate verbal working memory processes - An fMRI study                                                                 Koppelstaetter et al                                                verbal  \nPast experience shapes ongoing neural patterns for language                                                                            Pierce et al                                           verbal pseudo-words  \nAn fMRI study of working memory for schematic facial expressions                                                                       Beneventi et al        visual facial expression, visual scrambled drawings  \nAlterations in the functional neural circuitry supporting flexible choice behavior in autism spectrum disorders                        Cruz et al                                         visual identical shapes  \nA Rapid fMRI Task Battery for Mapping of Visual, Motor, Cognitive and Emotional Function                                               Drobyshevsky et al                                          visual letters  \nNo gender differences in brain activation during the N-back task  An fMRI study in healthy individuals                                 Schmidt et al                                               visual letters  \nLong-term brain effects of N-back training- an fMRI study                                                                              Padilla et al                                               visual letters  \nThe neural system that bridges reward and cognition in humans  An fMRI study                                                           Pochon et al                                                visual letters  \nWorking Memory Impairment in Fibromyalgia Patients Associated with Altered Frontoparietal Memory Network                               Seo et al                                                   visual letters  \nAnterior cingulate cortex differently modulates fronto-parietal functional connectivity between resting-state and working memory tasks Di et al                                                    visual letters  \nAbnormal neural activity in partially remitted late-onset depression An fMRI study of one-back working memory task                     Lee et al                                                   visual numbers  \nFrontal Hypoactivation on Functional Magnetic Resonance Imaging in Working Memory after Severe Diffuse Traumatic Brain Injury          Carrion et al                                               visual numbers  \nStimulus-dependent modulation of working memory for identity monitoring - A functional MRI study                                       Duggirala et al       visual object, visual faces, visual word recognition  \nA functional neuroimaging study of motivation and executive function                                                                   Taylor et al                                                  visual shape  \nInhibit  switch  and update - A within-subject fMRI investigation of executive control                                                 Rodger et al                                            visual shape color  \nOrienting Attention to Locations in Perceptual Versus Mental Representations                                                           Nobre et al                                             visual spatial cue  \nRole of the superior parietal lobules in letter-identity processing within strings FMRI evidence from skilled and dyslexicreaders      Reilhac et al                                      visual word recognition  ",
      "text/html": "<div>\n<style scoped>\n    .dataframe tbody tr th:only-of-type {\n        vertical-align: middle;\n    }\n\n    .dataframe tbody tr th {\n        vertical-align: top;\n    }\n\n    .dataframe thead th {\n        text-align: right;\n    }\n</style>\n<table border=\"1\" class=\"dataframe\">\n  <thead>\n    <tr style=\"text-align: right;\">\n      <th></th>\n      <th></th>\n      <th>contrast</th>\n      <th>#Foci</th>\n      <th>#Subjects</th>\n      <th>Task Modality</th>\n      <th>Task Stimulus</th>\n    </tr>\n    <tr>\n      <th>title</th>\n      <th>author</th>\n      <th></th>\n      <th></th>\n      <th></th>\n      <th></th>\n      <th></th>\n    </tr>\n  </thead>\n  <tbody>\n    <tr>\n      <th>Does caffeine modulate verbal working memory processes - An fMRI study</th>\n      <th>Koppelstaetter et al</th>\n      <td>2-back &gt; 0-back</td>\n      <td>16</td>\n      <td>15</td>\n      <td>n-back task</td>\n      <td>verbal</td>\n    </tr>\n    <tr>\n      <th>Past experience shapes ongoing neural patterns for language</th>\n      <th>Pierce et al</th>\n      <td>2-back &gt; 1-back &gt; 0-back</td>\n      <td>19</td>\n      <td>42</td>\n      <td>n-back task</td>\n      <td>verbal pseudo-words</td>\n    </tr>\n    <tr>\n      <th>An fMRI study of working memory for schematic facial expressions</th>\n      <th>Beneventi et al</th>\n      <td>2-back &gt; 1-back &gt; 0-back</td>\n      <td>24</td>\n      <td>12</td>\n      <td>n-back task</td>\n      <td>visual facial expression, visual scrambled drawings</td>\n    </tr>\n    <tr>\n      <th>Alterations in the functional neural circuitry supporting flexible choice behavior in autism spectrum disorders</th>\n      <th>Cruz et al</th>\n      <td>-</td>\n      <td>27</td>\n      <td>23</td>\n      <td>reversal learning task</td>\n      <td>visual identical shapes</td>\n    </tr>\n    <tr>\n      <th>A Rapid fMRI Task Battery for Mapping of Visual, Motor, Cognitive and Emotional Function</th>\n      <th>Drobyshevsky et al</th>\n      <td>2-back &gt; 0-back</td>\n      <td>13</td>\n      <td>31</td>\n      <td>n-back task</td>\n      <td>visual letters</td>\n    </tr>\n    <tr>\n      <th>No gender differences in brain activation during the N-back task  An fMRI study in healthy individuals</th>\n      <th>Schmidt et al</th>\n      <td>3-back &gt; 2-back &gt; 1-back &gt; 0-back</td>\n      <td>14</td>\n      <td>50</td>\n      <td>n-back task</td>\n      <td>visual letters</td>\n    </tr>\n    <tr>\n      <th>Long-term brain effects of N-back training- an fMRI study</th>\n      <th>Padilla et al</th>\n      <td>3-back &gt; 0-back</td>\n      <td>13</td>\n      <td>25</td>\n      <td>n-back task</td>\n      <td>visual letters</td>\n    </tr>\n    <tr>\n      <th>The neural system that bridges reward and cognition in humans  An fMRI study</th>\n      <th>Pochon et al</th>\n      <td>3-back &gt; 2-back &gt; 1-back &gt; 0-back</td>\n      <td>43</td>\n      <td>6</td>\n      <td>n-back task</td>\n      <td>visual letters</td>\n    </tr>\n    <tr>\n      <th>Working Memory Impairment in Fibromyalgia Patients Associated with Altered Frontoparietal Memory Network</th>\n      <th>Seo et al</th>\n      <td>2-back &gt; 0-back</td>\n      <td>19</td>\n      <td>22</td>\n      <td>n-back task</td>\n      <td>visual letters</td>\n    </tr>\n    <tr>\n      <th>Anterior cingulate cortex differently modulates fronto-parietal functional connectivity between resting-state and working memory tasks</th>\n      <th>Di et al</th>\n      <td>2-back &gt; 1-back</td>\n      <td>13</td>\n      <td>49</td>\n      <td>n-back task</td>\n      <td>visual letters</td>\n    </tr>\n    <tr>\n      <th>Abnormal neural activity in partially remitted late-onset depression An fMRI study of one-back working memory task</th>\n      <th>Lee et al</th>\n      <td>1-back &gt; rest</td>\n      <td>58</td>\n      <td>14</td>\n      <td>n-back task</td>\n      <td>visual numbers</td>\n    </tr>\n    <tr>\n      <th>Frontal Hypoactivation on Functional Magnetic Resonance Imaging in Working Memory after Severe Diffuse Traumatic Brain Injury</th>\n      <th>Carrion et al</th>\n      <td>3-back &gt; 0-back</td>\n      <td>18</td>\n      <td>13</td>\n      <td>n-back task</td>\n      <td>visual numbers</td>\n    </tr>\n    <tr>\n      <th>Stimulus-dependent modulation of working memory for identity monitoring - A functional MRI study</th>\n      <th>Duggirala et al</th>\n      <td>2-back &gt; 0-back</td>\n      <td>62</td>\n      <td>50</td>\n      <td>n-back task</td>\n      <td>visual object, visual faces, visual word recognition</td>\n    </tr>\n    <tr>\n      <th>A functional neuroimaging study of motivation and executive function</th>\n      <th>Taylor et al</th>\n      <td>-</td>\n      <td>23</td>\n      <td>12</td>\n      <td>n-back task</td>\n      <td>visual shape</td>\n    </tr>\n    <tr>\n      <th>Inhibit  switch  and update - A within-subject fMRI investigation of executive control</th>\n      <th>Rodger et al</th>\n      <td>n-back &gt; control task</td>\n      <td>15</td>\n      <td>22</td>\n      <td>n-back task</td>\n      <td>visual shape color</td>\n    </tr>\n    <tr>\n      <th>Orienting Attention to Locations in Perceptual Versus Mental Representations</th>\n      <th>Nobre et al</th>\n      <td>precue &gt; retrocue</td>\n      <td>3</td>\n      <td>10</td>\n      <td>experimental task</td>\n      <td>visual spatial cue</td>\n    </tr>\n    <tr>\n      <th>Role of the superior parietal lobules in letter-identity processing within strings FMRI evidence from skilled and dyslexicreaders</th>\n      <th>Reilhac et al</th>\n      <td>sub-dif &gt; baseline</td>\n      <td>21</td>\n      <td>12</td>\n      <td>perceptual matching task</td>\n      <td>visual word recognition</td>\n    </tr>\n  </tbody>\n</table>\n</div>"
     },
     "execution_count": 142,
     "metadata": {},
     "output_type": "execute_result"
    }
   ],
   "source": [
    "df_test = df_final_wm.sort_values(by=['Task Stimulus'])\n",
    "df_test = df_test.groupby(['title','author']).nth(0).sort_values(by=['Task Stimulus'])\n",
    "df_test"
   ],
   "metadata": {
    "collapsed": false,
    "pycharm": {
     "name": "#%%\n"
    }
   }
  },
  {
   "cell_type": "markdown",
   "source": [
    "#### Print latex to text file - wm"
   ],
   "metadata": {
    "collapsed": false
   }
  },
  {
   "cell_type": "code",
   "execution_count": 112,
   "outputs": [
    {
     "data": {
      "text/plain": "            Author  #Foci  #Subjects                  Contrast Task Modality  \\\n4  Beneventi et al     24         12  2-back > 1-back > 0-back   n-back task   \n8    Carrion et al     16         13           2-back > 0-back   n-back task   \n\n                                         Task Stimulus  \n4  visual facial expression, visual scrambled drawings  \n8                                       visual numbers  ",
      "text/html": "<div>\n<style scoped>\n    .dataframe tbody tr th:only-of-type {\n        vertical-align: middle;\n    }\n\n    .dataframe tbody tr th {\n        vertical-align: top;\n    }\n\n    .dataframe thead th {\n        text-align: right;\n    }\n</style>\n<table border=\"1\" class=\"dataframe\">\n  <thead>\n    <tr style=\"text-align: right;\">\n      <th></th>\n      <th>Author</th>\n      <th>#Foci</th>\n      <th>#Subjects</th>\n      <th>Contrast</th>\n      <th>Task Modality</th>\n      <th>Task Stimulus</th>\n    </tr>\n  </thead>\n  <tbody>\n    <tr>\n      <th>4</th>\n      <td>Beneventi et al</td>\n      <td>24</td>\n      <td>12</td>\n      <td>2-back &gt; 1-back &gt; 0-back</td>\n      <td>n-back task</td>\n      <td>visual facial expression, visual scrambled drawings</td>\n    </tr>\n    <tr>\n      <th>8</th>\n      <td>Carrion et al</td>\n      <td>16</td>\n      <td>13</td>\n      <td>2-back &gt; 0-back</td>\n      <td>n-back task</td>\n      <td>visual numbers</td>\n    </tr>\n  </tbody>\n</table>\n</div>"
     },
     "execution_count": 112,
     "metadata": {},
     "output_type": "execute_result"
    }
   ],
   "source": [
    "df_final_print_wm = df_final_wm.drop(['title'], axis=1)\n",
    "df_final_print_wm = df_final_print_wm.sort_values(by=['author'])\n",
    "df_final_print_wm.rename(columns = {'author':'Author','contrast':'Contrast'}, inplace = True)\n",
    "df_final_print_wm = df_final_print_wm[['Author', '#Foci', '#Subjects', 'Contrast', 'Task Modality', 'Task Stimulus']]\n",
    "df_final_print_wm.head(2)"
   ],
   "metadata": {
    "collapsed": false,
    "pycharm": {
     "name": "#%%\n"
    }
   }
  },
  {
   "cell_type": "code",
   "execution_count": 113,
   "outputs": [],
   "source": [
    "# pd.set_option('display.max_colwidth', None)  # to show all the column values (-1)\n",
    "# latex_filepath = r'./latex/wm_reports.txt'\n",
    "# with open(latex_filepath, 'w') as f:\n",
    "#     f.write(df_final_print_wm.to_latex(index=False))\n",
    "# pd.set_option('display.max_colwidth', 40)"
   ],
   "metadata": {
    "collapsed": false,
    "pycharm": {
     "name": "#%%\n"
    }
   }
  },
  {
   "cell_type": "markdown",
   "source": [
    "### Reward magnitude and type"
   ],
   "metadata": {
    "collapsed": false
   }
  },
  {
   "cell_type": "code",
   "execution_count": 114,
   "outputs": [],
   "source": [
    "df_reward = df_data[~mask_wm]"
   ],
   "metadata": {
    "collapsed": false,
    "pycharm": {
     "name": "#%%\n"
    }
   }
  },
  {
   "cell_type": "code",
   "execution_count": 115,
   "outputs": [
    {
     "data": {
      "text/plain": "46"
     },
     "execution_count": 115,
     "metadata": {},
     "output_type": "execute_result"
    }
   ],
   "source": [
    "df_reward['title'].unique().size"
   ],
   "metadata": {
    "collapsed": false,
    "pycharm": {
     "name": "#%%\n"
    }
   }
  },
  {
   "cell_type": "code",
   "execution_count": 116,
   "outputs": [
    {
     "data": {
      "text/plain": "(1330, 26)"
     },
     "execution_count": 116,
     "metadata": {},
     "output_type": "execute_result"
    }
   ],
   "source": [
    "df_reward.shape"
   ],
   "metadata": {
    "collapsed": false,
    "pycharm": {
     "name": "#%%\n"
    }
   }
  },
  {
   "cell_type": "markdown",
   "source": [
    "#### Get set of keywords"
   ],
   "metadata": {
    "collapsed": false
   }
  },
  {
   "cell_type": "code",
   "execution_count": 117,
   "outputs": [
    {
     "name": "stderr",
     "output_type": "stream",
     "text": [
      "C:\\Users\\Chh\\AppData\\Local\\Temp\\ipykernel_12800\\3979881578.py:2: SettingWithCopyWarning: \n",
      "A value is trying to be set on a copy of a slice from a DataFrame.\n",
      "Try using .loc[row_indexer,col_indexer] = value instead\n",
      "\n",
      "See the caveats in the documentation: https://pandas.pydata.org/pandas-docs/stable/user_guide/indexing.html#returning-a-view-versus-a-copy\n",
      "  df_reward['keywords_split'] = df_reward['keywords'].apply(lambda x: df_proc.split_keys([x]))\n"
     ]
    },
    {
     "data": {
      "text/plain": "  importance          author  \\\n0         ++  Glascher et al   \n1         ++  Glascher et al   \n\n                                                                                                                                title  \\\n0  Determining a Role for Ventromedial Prefrontal Cortex in Encoding Action-Based Value Signals During Reward-Related Decision Making   \n1  Determining a Role for Ventromedial Prefrontal Cortex in Encoding Action-Based Value Signals During Reward-Related Decision Making   \n\n                                                                                                                                                                        table_name  \\\n0  Table 1-1 Coordinates and significance levels for contrasts - Conjunction of Vchosen for AR and SR (AR = action-based reversal learning; SR = stimulus-based reversal learning)   \n1  Table 1-1 Coordinates and significance levels for contrasts - Conjunction of Vchosen for AR and SR (AR = action-based reversal learning; SR = stimulus-based reversal learning)   \n\n                    contrast  \\\n0  ar; sr > neutral activity   \n1  ar; sr > neutral activity   \n\n                                                                                                               keywords  \\\n0  fMRI; decision making; outcome phase; monetary reward; MNI; reinforcement learning; reversal learning; fractal image   \n1  fMRI; decision making; outcome phase; monetary reward; MNI; reinforcement learning; reversal learning; fractal image   \n\n    Name Left/Right Broadman Area  X(R)  ...  NV  index_col  MNIX  MNIY  MNIZ  \\\n0   mofc          l            11    -6  ... NaN          0  -6.0  24.0 -21.0   \n1  vmpfc          r            11     6  ... NaN          1   6.0  30.0  -9.0   \n\n    TALX    TALY    TALZ  significance  \\\n0 -6.436  22.720 -13.440      0.000025   \n1  4.724  27.408  -2.105      0.000050   \n\n                                                                                                           keywords_split  \n0  {fMRI, reinforcement learning, decision making, reversal learning, outcome phase, fractal image, monetary reward, MNI}  \n1  {fMRI, reinforcement learning, decision making, reversal learning, outcome phase, fractal image, monetary reward, MNI}  \n\n[2 rows x 27 columns]",
      "text/html": "<div>\n<style scoped>\n    .dataframe tbody tr th:only-of-type {\n        vertical-align: middle;\n    }\n\n    .dataframe tbody tr th {\n        vertical-align: top;\n    }\n\n    .dataframe thead th {\n        text-align: right;\n    }\n</style>\n<table border=\"1\" class=\"dataframe\">\n  <thead>\n    <tr style=\"text-align: right;\">\n      <th></th>\n      <th>importance</th>\n      <th>author</th>\n      <th>title</th>\n      <th>table_name</th>\n      <th>contrast</th>\n      <th>keywords</th>\n      <th>Name</th>\n      <th>Left/Right</th>\n      <th>Broadman Area</th>\n      <th>X(R)</th>\n      <th>...</th>\n      <th>NV</th>\n      <th>index_col</th>\n      <th>MNIX</th>\n      <th>MNIY</th>\n      <th>MNIZ</th>\n      <th>TALX</th>\n      <th>TALY</th>\n      <th>TALZ</th>\n      <th>significance</th>\n      <th>keywords_split</th>\n    </tr>\n  </thead>\n  <tbody>\n    <tr>\n      <th>0</th>\n      <td>++</td>\n      <td>Glascher et al</td>\n      <td>Determining a Role for Ventromedial Prefrontal Cortex in Encoding Action-Based Value Signals During Reward-Related Decision Making</td>\n      <td>Table 1-1 Coordinates and significance levels for contrasts - Conjunction of Vchosen for AR and SR (AR = action-based reversal learning; SR = stimulus-based reversal learning)</td>\n      <td>ar; sr &gt; neutral activity</td>\n      <td>fMRI; decision making; outcome phase; monetary reward; MNI; reinforcement learning; reversal learning; fractal image</td>\n      <td>mofc</td>\n      <td>l</td>\n      <td>11</td>\n      <td>-6</td>\n      <td>...</td>\n      <td>NaN</td>\n      <td>0</td>\n      <td>-6.0</td>\n      <td>24.0</td>\n      <td>-21.0</td>\n      <td>-6.436</td>\n      <td>22.720</td>\n      <td>-13.440</td>\n      <td>0.000025</td>\n      <td>{fMRI, reinforcement learning, decision making, reversal learning, outcome phase, fractal image, monetary reward, MNI}</td>\n    </tr>\n    <tr>\n      <th>1</th>\n      <td>++</td>\n      <td>Glascher et al</td>\n      <td>Determining a Role for Ventromedial Prefrontal Cortex in Encoding Action-Based Value Signals During Reward-Related Decision Making</td>\n      <td>Table 1-1 Coordinates and significance levels for contrasts - Conjunction of Vchosen for AR and SR (AR = action-based reversal learning; SR = stimulus-based reversal learning)</td>\n      <td>ar; sr &gt; neutral activity</td>\n      <td>fMRI; decision making; outcome phase; monetary reward; MNI; reinforcement learning; reversal learning; fractal image</td>\n      <td>vmpfc</td>\n      <td>r</td>\n      <td>11</td>\n      <td>6</td>\n      <td>...</td>\n      <td>NaN</td>\n      <td>1</td>\n      <td>6.0</td>\n      <td>30.0</td>\n      <td>-9.0</td>\n      <td>4.724</td>\n      <td>27.408</td>\n      <td>-2.105</td>\n      <td>0.000050</td>\n      <td>{fMRI, reinforcement learning, decision making, reversal learning, outcome phase, fractal image, monetary reward, MNI}</td>\n    </tr>\n  </tbody>\n</table>\n<p>2 rows × 27 columns</p>\n</div>"
     },
     "execution_count": 117,
     "metadata": {},
     "output_type": "execute_result"
    }
   ],
   "source": [
    "# get keywords and split them\n",
    "df_reward['keywords_split'] = df_reward['keywords'].apply(lambda x: df_proc.split_keys([x]))\n",
    "df_reward.head(2)"
   ],
   "metadata": {
    "collapsed": false,
    "pycharm": {
     "name": "#%%\n"
    }
   }
  },
  {
   "cell_type": "markdown",
   "source": [
    "#### Create new columns"
   ],
   "metadata": {
    "collapsed": false,
    "pycharm": {
     "name": "#%% md\n"
    }
   }
  },
  {
   "cell_type": "code",
   "execution_count": 118,
   "outputs": [],
   "source": [
    "set_reward_type = {\n",
    "    'erotic reward',\n",
    "    'verbal reward',\n",
    "    'monetary and erotic reward',\n",
    "    'feedback reward',\n",
    "    'taste reward',\n",
    "    'context-dependent reward',  # maybe get it out\n",
    "    'social reward',\n",
    "    'food photo reward',\n",
    "    'monetary reward'}\n",
    "\n",
    "set_reward_contingency = {\n",
    "    # 'viewing',  ## should be where is passive\n",
    "    'passive',\n",
    "    'gambling',\n",
    "    'performance-dependent',\n",
    "    'reversal learning',\n",
    "    'n-back task'  # check this\n",
    "}\n",
    "\n",
    "set_reward_phase = {\n",
    "    'anticipation phase',\n",
    "    'decision phase',\n",
    "    'outcome phase',\n",
    "}\n",
    "\n",
    "set_reward_decision_making = {\n",
    "    'decision making'\n",
    "}"
   ],
   "metadata": {
    "collapsed": false,
    "pycharm": {
     "name": "#%%\n"
    }
   }
  },
  {
   "cell_type": "code",
   "execution_count": 119,
   "outputs": [],
   "source": [
    "set_reward_influence = {\n",
    "    'negative reward',\n",
    "    'positive reward',\n",
    "}\n",
    "set_keywords_others = {\n",
    "    'safe choice',\n",
    "    'risk choice',\n",
    "    'positive expectancy',\n",
    "    'negative expectancy',\n",
    "}"
   ],
   "metadata": {
    "collapsed": false,
    "pycharm": {
     "name": "#%%\n"
    }
   }
  },
  {
   "cell_type": "code",
   "execution_count": 120,
   "outputs": [],
   "source": [
    "df = pd.DataFrame()\n",
    "list_new_cols = ['Reward Type', 'Reward Contingency', 'Reward Phase']\n",
    "list_of_keys = [set_reward_type, set_reward_contingency, set_reward_phase]\n",
    "for col_name, set_el in zip(list_new_cols, list_of_keys):\n",
    "    df[col_name] = df_reward['keywords_split'].apply(lambda x: ', '.join(x.intersection(set_el)))"
   ],
   "metadata": {
    "collapsed": false,
    "pycharm": {
     "name": "#%%\n"
    }
   }
  },
  {
   "cell_type": "code",
   "execution_count": 121,
   "outputs": [],
   "source": [
    "df['Decision Making'] = df_reward['keywords_split'].apply(\n",
    "    lambda x: 'Choice' if set_reward_decision_making.issubset(x) else 'No Choice')"
   ],
   "metadata": {
    "collapsed": false,
    "pycharm": {
     "name": "#%%\n"
    }
   }
  },
  {
   "cell_type": "code",
   "execution_count": 122,
   "outputs": [
    {
     "data": {
      "text/plain": "  importance          author  \\\n0         ++  Glascher et al   \n1         ++  Glascher et al   \n\n                                                                                                                                title  \\\n0  Determining a Role for Ventromedial Prefrontal Cortex in Encoding Action-Based Value Signals During Reward-Related Decision Making   \n1  Determining a Role for Ventromedial Prefrontal Cortex in Encoding Action-Based Value Signals During Reward-Related Decision Making   \n\n                                                                                                                                                                        table_name  \\\n0  Table 1-1 Coordinates and significance levels for contrasts - Conjunction of Vchosen for AR and SR (AR = action-based reversal learning; SR = stimulus-based reversal learning)   \n1  Table 1-1 Coordinates and significance levels for contrasts - Conjunction of Vchosen for AR and SR (AR = action-based reversal learning; SR = stimulus-based reversal learning)   \n\n                    contrast  \\\n0  ar; sr > neutral activity   \n1  ar; sr > neutral activity   \n\n                                                                                                               keywords  \\\n0  fMRI; decision making; outcome phase; monetary reward; MNI; reinforcement learning; reversal learning; fractal image   \n1  fMRI; decision making; outcome phase; monetary reward; MNI; reinforcement learning; reversal learning; fractal image   \n\n    Name Left/Right Broadman Area  X(R)  ...  MNIZ   TALX    TALY    TALZ  \\\n0   mofc          l            11    -6  ... -21.0 -6.436  22.720 -13.440   \n1  vmpfc          r            11     6  ...  -9.0  4.724  27.408  -2.105   \n\n   significance  \\\n0      0.000025   \n1      0.000050   \n\n                                                                                                           keywords_split  \\\n0  {fMRI, reinforcement learning, decision making, reversal learning, outcome phase, fractal image, monetary reward, MNI}   \n1  {fMRI, reinforcement learning, decision making, reversal learning, outcome phase, fractal image, monetary reward, MNI}   \n\n       Reward Type  Reward Contingency   Reward Phase  Decision Making  \n0  monetary reward   reversal learning  outcome phase           Choice  \n1  monetary reward   reversal learning  outcome phase           Choice  \n\n[2 rows x 31 columns]",
      "text/html": "<div>\n<style scoped>\n    .dataframe tbody tr th:only-of-type {\n        vertical-align: middle;\n    }\n\n    .dataframe tbody tr th {\n        vertical-align: top;\n    }\n\n    .dataframe thead th {\n        text-align: right;\n    }\n</style>\n<table border=\"1\" class=\"dataframe\">\n  <thead>\n    <tr style=\"text-align: right;\">\n      <th></th>\n      <th>importance</th>\n      <th>author</th>\n      <th>title</th>\n      <th>table_name</th>\n      <th>contrast</th>\n      <th>keywords</th>\n      <th>Name</th>\n      <th>Left/Right</th>\n      <th>Broadman Area</th>\n      <th>X(R)</th>\n      <th>...</th>\n      <th>MNIZ</th>\n      <th>TALX</th>\n      <th>TALY</th>\n      <th>TALZ</th>\n      <th>significance</th>\n      <th>keywords_split</th>\n      <th>Reward Type</th>\n      <th>Reward Contingency</th>\n      <th>Reward Phase</th>\n      <th>Decision Making</th>\n    </tr>\n  </thead>\n  <tbody>\n    <tr>\n      <th>0</th>\n      <td>++</td>\n      <td>Glascher et al</td>\n      <td>Determining a Role for Ventromedial Prefrontal Cortex in Encoding Action-Based Value Signals During Reward-Related Decision Making</td>\n      <td>Table 1-1 Coordinates and significance levels for contrasts - Conjunction of Vchosen for AR and SR (AR = action-based reversal learning; SR = stimulus-based reversal learning)</td>\n      <td>ar; sr &gt; neutral activity</td>\n      <td>fMRI; decision making; outcome phase; monetary reward; MNI; reinforcement learning; reversal learning; fractal image</td>\n      <td>mofc</td>\n      <td>l</td>\n      <td>11</td>\n      <td>-6</td>\n      <td>...</td>\n      <td>-21.0</td>\n      <td>-6.436</td>\n      <td>22.720</td>\n      <td>-13.440</td>\n      <td>0.000025</td>\n      <td>{fMRI, reinforcement learning, decision making, reversal learning, outcome phase, fractal image, monetary reward, MNI}</td>\n      <td>monetary reward</td>\n      <td>reversal learning</td>\n      <td>outcome phase</td>\n      <td>Choice</td>\n    </tr>\n    <tr>\n      <th>1</th>\n      <td>++</td>\n      <td>Glascher et al</td>\n      <td>Determining a Role for Ventromedial Prefrontal Cortex in Encoding Action-Based Value Signals During Reward-Related Decision Making</td>\n      <td>Table 1-1 Coordinates and significance levels for contrasts - Conjunction of Vchosen for AR and SR (AR = action-based reversal learning; SR = stimulus-based reversal learning)</td>\n      <td>ar; sr &gt; neutral activity</td>\n      <td>fMRI; decision making; outcome phase; monetary reward; MNI; reinforcement learning; reversal learning; fractal image</td>\n      <td>vmpfc</td>\n      <td>r</td>\n      <td>11</td>\n      <td>6</td>\n      <td>...</td>\n      <td>-9.0</td>\n      <td>4.724</td>\n      <td>27.408</td>\n      <td>-2.105</td>\n      <td>0.000050</td>\n      <td>{fMRI, reinforcement learning, decision making, reversal learning, outcome phase, fractal image, monetary reward, MNI}</td>\n      <td>monetary reward</td>\n      <td>reversal learning</td>\n      <td>outcome phase</td>\n      <td>Choice</td>\n    </tr>\n  </tbody>\n</table>\n<p>2 rows × 31 columns</p>\n</div>"
     },
     "execution_count": 122,
     "metadata": {},
     "output_type": "execute_result"
    }
   ],
   "source": [
    "df.set_index(df_reward.index)\n",
    "df_reward_final = pd.merge(df_reward, df, left_index=True,\n",
    "                           right_index=True)\n",
    "df_reward_final.head(2)"
   ],
   "metadata": {
    "collapsed": false,
    "pycharm": {
     "name": "#%%\n"
    }
   }
  },
  {
   "cell_type": "code",
   "execution_count": 123,
   "outputs": [
    {
     "name": "stdout",
     "output_type": "stream",
     "text": [
      "Reward Type\n",
      "{\n",
      "  \">nan_values<\": 0,\n",
      "  \"verbal reward, monetary reward\": \"18\",\n",
      "  \"social reward, monetary reward\": \"19\",\n",
      "  \"feedback reward\": \"20\",\n",
      "  \"erotic reward\": \"20\",\n",
      "  \"monetary and erotic reward\": \"20\",\n",
      "  \"\": \"28\",\n",
      "  \"context-dependent reward, monetary reward\": \"34\",\n",
      "  \"food photo reward\": \"42\",\n",
      "  \"taste reward\": \"51\",\n",
      "  \"social reward\": \"155\",\n",
      "  \"monetary reward\": \"923\"\n",
      "}\n",
      "Reward Contingency\n",
      "{\n",
      "  \">nan_values<\": 0,\n",
      "  \"reversal learning\": \"32\",\n",
      "  \"n-back task\": \"46\",\n",
      "  \"\": \"72\",\n",
      "  \"passive\": \"210\",\n",
      "  \"gambling\": \"449\",\n",
      "  \"performance-dependent\": \"521\"\n",
      "}\n",
      "Reward Phase\n",
      "{\n",
      "  \">nan_values<\": 0,\n",
      "  \"outcome phase, anticipation phase\": \"21\",\n",
      "  \"\": \"51\",\n",
      "  \"decision phase\": \"62\",\n",
      "  \"anticipation phase\": \"356\",\n",
      "  \"outcome phase\": \"840\"\n",
      "}\n"
     ]
    }
   ],
   "source": [
    "## Check the new created keywords\n",
    "for col_name in list_new_cols:\n",
    "    counter_keywords_reward_type = data_util.df_counter(df=df_reward_final, column=col_name, order=1)\n",
    "    print(col_name)\n",
    "    print(json.dumps(counter_keywords_reward_type, indent=2, default=str))"
   ],
   "metadata": {
    "collapsed": false,
    "pycharm": {
     "name": "#%%\n"
    }
   }
  },
  {
   "cell_type": "code",
   "execution_count": 124,
   "outputs": [
    {
     "data": {
      "text/plain": "{'>nan_values<': 0, 'No Choice': 529, 'Choice': 801}"
     },
     "execution_count": 124,
     "metadata": {},
     "output_type": "execute_result"
    }
   ],
   "source": [
    "counter_keywords_reward_type = data_util.df_counter(df=df_reward_final, column='Decision Making', order=1)\n",
    "counter_keywords_reward_type"
   ],
   "metadata": {
    "collapsed": false,
    "pycharm": {
     "name": "#%%\n"
    }
   }
  },
  {
   "cell_type": "code",
   "execution_count": 125,
   "outputs": [
    {
     "data": {
      "text/plain": "                                                                                                                                                               title  \\\n28                                                                                From uncertainty to reward - BOLD characteristics differentiate signaling pathways   \n7                                                                                          Beautiful Faces Have Variable Reward Value - fMRI and Behavioral Evidence   \n10                                                    Context-dependent cortical activation in response to financial reward and penalty  an event-related fMRI study   \n41           Right Ventromedial and Dorsolateral Prefrontal Cortices Mediate Adaptive Decisions under Ambiguity by Integrating Choice Utility and Outcome Evaluation   \n6                                                                Are Attractive People Rewarding - Sex Differences in the Neural Substrates of Facial Attractiveness   \n30                                                                      Individual differences in extraversion and dopamine genetics predict neural reward responses   \n35                                                                                     Learning to Like  A Role for Human Orbitofrontal Cortex in Conditioned Reward   \n27                                                                                                           Effort-Based Cost Benefit Valuation and the Human Brain   \n26                                                               Dorsal striatum responses to reward and punishment - Effects of valence and magnitude manipulations   \n46                                                                                       Tracking the Hemodynamic Responses to Reward and Punishment in the Striatum   \n15  Differential Response Patterns in the Striatum and Orbitofrontal Cortex to Financial Reward in Humans - A Parametric Functional Magnetic Resonance Imaging Study   \n16                                                                                                              Dissociable Neural Responses in Human Reward Systems   \n33                                                   Instrumental responding for rewards is associated with enhanced neuronal response in subcortical reward systems   \n44                                                                                 Segregated and Integrated Coding of Reward and Punishment in the Cingulate Cortex   \n13                                Determining a Role for Ventromedial Prefrontal Cortex in Encoding Action-Based Value Signals During Reward-Related Decision Making   \n34                                                                      Is our self based on reward - Self-relatedness recruits neural activity in the reward system   \n43                                             Role of the Medial Prefrontal Cortex in Impaired Decision Making in Juvenile Attention-Deficit-Hyperactivity Disorder   \n14                                                                                 Developmental effects of decision-making on sensitivity to reward - An fMRI study   \n17                                                          Dissociating Valence of Outcome from Behavioral Control in Human Orbital and Ventral Prefrontal Cortices   \n18                                                          Dissociating Valence of Outcome from Behavioral Control in Human Orbital and Ventral Prefrontal Cortices   \n38                                                                                                    Neural Responses during Anticipation of a Primary Taste Reward   \n11                                                                                   Cortical and limbic activation during viewing of high- versus low-calorie foods   \n5                                                             Anticipation of reward in a nonaversive differential conditioning paradigm and the brain reward system   \n25                                                                                                               Distributed Neural Representation of Expected Value   \n1                                         A region of mesial prefrontal cortex tracks monetarily rewarding outcomes - characterization with rapid event-related fMRI   \n21                                                                                           Dissociation of reward anticipation and outcome with event-related fMRI   \n3                                                                                  Anticipation of Increasing Monetary Reward Selectively Recruits Nucleus Accumbens   \n31                                                                                    Individual preferences modulate incentive values  Evidence from functional MRI   \n42                                             Risky Decision Making - Prefrontal Cortex and Mesocorticolimbic Functional Connectivity in Methamphetamine Dependence   \n23                                                                                        Distinct Roles of Prefrontal Cortical Subregions in the Iowa Gambling Task   \n2                                                                                       Activity in human reward-sensitive brain areas is strongly context dependent   \n20                                                                   Dissociation of neural networks for anticipation and consumption of monetary and social rewards   \n32                                                                            Inhibit  switch  and update - A within-subject fMRI investigation of executive control   \n22   Distinct Portions of Anterior Cingulate Cortex and Medial Prefrontal Cortex Are Activated by Reward Processing in Separable Phases of Decision-Making Cognition   \n36                                                                    Monetary reward magnitude effects on behavior and brain function during goal-directed behavior   \n8                                                                                   Binge-Eating Disorder  Reward Sensitivity and Brain Activation to Images of Food   \n12                           Decreasing ventromedial prefrontal cortex activity during sequential risk-taking  an fMRI investigation of the balloon analog risk task   \n45                                                                                         The Architecture of Reward Value Coding in the Human Orbitofrontal Cortex   \n37                                                              Neural Coding of Reward-Prediction Error Signals During Classical Conditioning With Attractive Faces   \n24                                                                                   Distinct Value Signals in Anterior and Posterior Ventromedial Prefrontal Cortex   \n39                                                       Neural substrates of reward magnitude, probability, and risk during a wheel of fortune decision-making task   \n4                                                      Anticipation of monetary and social reward differently activates mesolimbic brain structures in men and women   \n0                                                                                               A functional neuroimaging study of motivation and executive function   \n40                                                                Reward Value Coding Distinct From Risk Attitude-Related Uncertainty Coding in Human Reward Systems   \n19                                                                               Dissociating contributions of ACC and vmPFC in reward prediction outcome and choice   \n9                                                                                                                  Brain systems for assessing facial attractiveness   \n29                                                                            Functional Dissociations of Risk and Reward Processing in the Medial Prefrontal Cortex   \n\n                           author     Reward Contingency  #Foci  \n28                    Abler et al  performance-dependent     43  \n7                    Aharon et al                passive     51  \n10                 Akitsuki et al               gambling     35  \n41               Christakou et al               gambling     13  \n6                  Cloutier et al                passive     19  \n30                    Cohen et al  performance-dependent     39  \n35                      Cox et al               gambling     28  \n27                  Croxson et al                             9  \n26                  Delgado et al               gambling     12  \n46                  Delgado et al               gambling     32  \n15                  Elliott et al  performance-dependent     16  \n16                  Elliott et al               gambling     19  \n33                  Elliott et al  performance-dependent     21  \n44                 Fujiwara et al  performance-dependent     23  \n13                 Glascher et al      reversal learning     20  \n34                    Greck et al               gambling     20  \n43                   Hauser et al      reversal learning     12  \n14                   Jarcho et al                            63  \n17                 John O Doherty                passive      6  \n18                 John O Doherty  performance-dependent     42  \n38           John O Doherty et al                passive     18  \n11                 Killgore et al                passive     30  \n5                    Kirscg et al  performance-dependent     56  \n25                  Knutson et al  performance-dependent     26  \n1                   Knutson et al  performance-dependent     21  \n21                  Knutson et al  performance-dependent     23  \n3                   Knutson et al  performance-dependent     24  \n31                  Koeneke et al               gambling     33  \n42                    Kohno et al               gambling     14  \n23                 Lawrence et al               gambling     37  \n2               Nieuwenhuis et al               gambling     10  \n20               Rademacher et al  performance-dependent     47  \n32                   Rodger et al            n-back task     28  \n22                   Rogers et al               gambling     24  \n36             Rosell-Negre et al  performance-dependent     11  \n8                  Schienle et al                passive     12  \n12                Schonberg et al               gambling     28  \n45                Sescousse et al  performance-dependent     46  \n37  Signe Bray and John O'Doherty                passive      5  \n24                    Smith et al                passive     54  \n39                    Smith et al               gambling     14  \n4             Spreckelmeyer et al  performance-dependent     64  \n0                    Taylor et al            n-back task     18  \n40                   Tobler et al  performance-dependent     19  \n19                  Vassena et al               gambling     78  \n9                   Winston et al                passive     15  \n29                      Xue et al               gambling     52  ",
      "text/html": "<div>\n<style scoped>\n    .dataframe tbody tr th:only-of-type {\n        vertical-align: middle;\n    }\n\n    .dataframe tbody tr th {\n        vertical-align: top;\n    }\n\n    .dataframe thead th {\n        text-align: right;\n    }\n</style>\n<table border=\"1\" class=\"dataframe\">\n  <thead>\n    <tr style=\"text-align: right;\">\n      <th></th>\n      <th>title</th>\n      <th>author</th>\n      <th>Reward Contingency</th>\n      <th>#Foci</th>\n    </tr>\n  </thead>\n  <tbody>\n    <tr>\n      <th>28</th>\n      <td>From uncertainty to reward - BOLD characteristics differentiate signaling pathways</td>\n      <td>Abler et al</td>\n      <td>performance-dependent</td>\n      <td>43</td>\n    </tr>\n    <tr>\n      <th>7</th>\n      <td>Beautiful Faces Have Variable Reward Value - fMRI and Behavioral Evidence</td>\n      <td>Aharon et al</td>\n      <td>passive</td>\n      <td>51</td>\n    </tr>\n    <tr>\n      <th>10</th>\n      <td>Context-dependent cortical activation in response to financial reward and penalty  an event-related fMRI study</td>\n      <td>Akitsuki et al</td>\n      <td>gambling</td>\n      <td>35</td>\n    </tr>\n    <tr>\n      <th>41</th>\n      <td>Right Ventromedial and Dorsolateral Prefrontal Cortices Mediate Adaptive Decisions under Ambiguity by Integrating Choice Utility and Outcome Evaluation</td>\n      <td>Christakou et al</td>\n      <td>gambling</td>\n      <td>13</td>\n    </tr>\n    <tr>\n      <th>6</th>\n      <td>Are Attractive People Rewarding - Sex Differences in the Neural Substrates of Facial Attractiveness</td>\n      <td>Cloutier et al</td>\n      <td>passive</td>\n      <td>19</td>\n    </tr>\n    <tr>\n      <th>30</th>\n      <td>Individual differences in extraversion and dopamine genetics predict neural reward responses</td>\n      <td>Cohen et al</td>\n      <td>performance-dependent</td>\n      <td>39</td>\n    </tr>\n    <tr>\n      <th>35</th>\n      <td>Learning to Like  A Role for Human Orbitofrontal Cortex in Conditioned Reward</td>\n      <td>Cox et al</td>\n      <td>gambling</td>\n      <td>28</td>\n    </tr>\n    <tr>\n      <th>27</th>\n      <td>Effort-Based Cost Benefit Valuation and the Human Brain</td>\n      <td>Croxson et al</td>\n      <td></td>\n      <td>9</td>\n    </tr>\n    <tr>\n      <th>26</th>\n      <td>Dorsal striatum responses to reward and punishment - Effects of valence and magnitude manipulations</td>\n      <td>Delgado et al</td>\n      <td>gambling</td>\n      <td>12</td>\n    </tr>\n    <tr>\n      <th>46</th>\n      <td>Tracking the Hemodynamic Responses to Reward and Punishment in the Striatum</td>\n      <td>Delgado et al</td>\n      <td>gambling</td>\n      <td>32</td>\n    </tr>\n    <tr>\n      <th>15</th>\n      <td>Differential Response Patterns in the Striatum and Orbitofrontal Cortex to Financial Reward in Humans - A Parametric Functional Magnetic Resonance Imaging Study</td>\n      <td>Elliott et al</td>\n      <td>performance-dependent</td>\n      <td>16</td>\n    </tr>\n    <tr>\n      <th>16</th>\n      <td>Dissociable Neural Responses in Human Reward Systems</td>\n      <td>Elliott et al</td>\n      <td>gambling</td>\n      <td>19</td>\n    </tr>\n    <tr>\n      <th>33</th>\n      <td>Instrumental responding for rewards is associated with enhanced neuronal response in subcortical reward systems</td>\n      <td>Elliott et al</td>\n      <td>performance-dependent</td>\n      <td>21</td>\n    </tr>\n    <tr>\n      <th>44</th>\n      <td>Segregated and Integrated Coding of Reward and Punishment in the Cingulate Cortex</td>\n      <td>Fujiwara et al</td>\n      <td>performance-dependent</td>\n      <td>23</td>\n    </tr>\n    <tr>\n      <th>13</th>\n      <td>Determining a Role for Ventromedial Prefrontal Cortex in Encoding Action-Based Value Signals During Reward-Related Decision Making</td>\n      <td>Glascher et al</td>\n      <td>reversal learning</td>\n      <td>20</td>\n    </tr>\n    <tr>\n      <th>34</th>\n      <td>Is our self based on reward - Self-relatedness recruits neural activity in the reward system</td>\n      <td>Greck et al</td>\n      <td>gambling</td>\n      <td>20</td>\n    </tr>\n    <tr>\n      <th>43</th>\n      <td>Role of the Medial Prefrontal Cortex in Impaired Decision Making in Juvenile Attention-Deficit-Hyperactivity Disorder</td>\n      <td>Hauser et al</td>\n      <td>reversal learning</td>\n      <td>12</td>\n    </tr>\n    <tr>\n      <th>14</th>\n      <td>Developmental effects of decision-making on sensitivity to reward - An fMRI study</td>\n      <td>Jarcho et al</td>\n      <td></td>\n      <td>63</td>\n    </tr>\n    <tr>\n      <th>17</th>\n      <td>Dissociating Valence of Outcome from Behavioral Control in Human Orbital and Ventral Prefrontal Cortices</td>\n      <td>John O Doherty</td>\n      <td>passive</td>\n      <td>6</td>\n    </tr>\n    <tr>\n      <th>18</th>\n      <td>Dissociating Valence of Outcome from Behavioral Control in Human Orbital and Ventral Prefrontal Cortices</td>\n      <td>John O Doherty</td>\n      <td>performance-dependent</td>\n      <td>42</td>\n    </tr>\n    <tr>\n      <th>38</th>\n      <td>Neural Responses during Anticipation of a Primary Taste Reward</td>\n      <td>John O Doherty et al</td>\n      <td>passive</td>\n      <td>18</td>\n    </tr>\n    <tr>\n      <th>11</th>\n      <td>Cortical and limbic activation during viewing of high- versus low-calorie foods</td>\n      <td>Killgore et al</td>\n      <td>passive</td>\n      <td>30</td>\n    </tr>\n    <tr>\n      <th>5</th>\n      <td>Anticipation of reward in a nonaversive differential conditioning paradigm and the brain reward system</td>\n      <td>Kirscg et al</td>\n      <td>performance-dependent</td>\n      <td>56</td>\n    </tr>\n    <tr>\n      <th>25</th>\n      <td>Distributed Neural Representation of Expected Value</td>\n      <td>Knutson et al</td>\n      <td>performance-dependent</td>\n      <td>26</td>\n    </tr>\n    <tr>\n      <th>1</th>\n      <td>A region of mesial prefrontal cortex tracks monetarily rewarding outcomes - characterization with rapid event-related fMRI</td>\n      <td>Knutson et al</td>\n      <td>performance-dependent</td>\n      <td>21</td>\n    </tr>\n    <tr>\n      <th>21</th>\n      <td>Dissociation of reward anticipation and outcome with event-related fMRI</td>\n      <td>Knutson et al</td>\n      <td>performance-dependent</td>\n      <td>23</td>\n    </tr>\n    <tr>\n      <th>3</th>\n      <td>Anticipation of Increasing Monetary Reward Selectively Recruits Nucleus Accumbens</td>\n      <td>Knutson et al</td>\n      <td>performance-dependent</td>\n      <td>24</td>\n    </tr>\n    <tr>\n      <th>31</th>\n      <td>Individual preferences modulate incentive values  Evidence from functional MRI</td>\n      <td>Koeneke et al</td>\n      <td>gambling</td>\n      <td>33</td>\n    </tr>\n    <tr>\n      <th>42</th>\n      <td>Risky Decision Making - Prefrontal Cortex and Mesocorticolimbic Functional Connectivity in Methamphetamine Dependence</td>\n      <td>Kohno et al</td>\n      <td>gambling</td>\n      <td>14</td>\n    </tr>\n    <tr>\n      <th>23</th>\n      <td>Distinct Roles of Prefrontal Cortical Subregions in the Iowa Gambling Task</td>\n      <td>Lawrence et al</td>\n      <td>gambling</td>\n      <td>37</td>\n    </tr>\n    <tr>\n      <th>2</th>\n      <td>Activity in human reward-sensitive brain areas is strongly context dependent</td>\n      <td>Nieuwenhuis et al</td>\n      <td>gambling</td>\n      <td>10</td>\n    </tr>\n    <tr>\n      <th>20</th>\n      <td>Dissociation of neural networks for anticipation and consumption of monetary and social rewards</td>\n      <td>Rademacher et al</td>\n      <td>performance-dependent</td>\n      <td>47</td>\n    </tr>\n    <tr>\n      <th>32</th>\n      <td>Inhibit  switch  and update - A within-subject fMRI investigation of executive control</td>\n      <td>Rodger et al</td>\n      <td>n-back task</td>\n      <td>28</td>\n    </tr>\n    <tr>\n      <th>22</th>\n      <td>Distinct Portions of Anterior Cingulate Cortex and Medial Prefrontal Cortex Are Activated by Reward Processing in Separable Phases of Decision-Making Cognition</td>\n      <td>Rogers et al</td>\n      <td>gambling</td>\n      <td>24</td>\n    </tr>\n    <tr>\n      <th>36</th>\n      <td>Monetary reward magnitude effects on behavior and brain function during goal-directed behavior</td>\n      <td>Rosell-Negre et al</td>\n      <td>performance-dependent</td>\n      <td>11</td>\n    </tr>\n    <tr>\n      <th>8</th>\n      <td>Binge-Eating Disorder  Reward Sensitivity and Brain Activation to Images of Food</td>\n      <td>Schienle et al</td>\n      <td>passive</td>\n      <td>12</td>\n    </tr>\n    <tr>\n      <th>12</th>\n      <td>Decreasing ventromedial prefrontal cortex activity during sequential risk-taking  an fMRI investigation of the balloon analog risk task</td>\n      <td>Schonberg et al</td>\n      <td>gambling</td>\n      <td>28</td>\n    </tr>\n    <tr>\n      <th>45</th>\n      <td>The Architecture of Reward Value Coding in the Human Orbitofrontal Cortex</td>\n      <td>Sescousse et al</td>\n      <td>performance-dependent</td>\n      <td>46</td>\n    </tr>\n    <tr>\n      <th>37</th>\n      <td>Neural Coding of Reward-Prediction Error Signals During Classical Conditioning With Attractive Faces</td>\n      <td>Signe Bray and John O'Doherty</td>\n      <td>passive</td>\n      <td>5</td>\n    </tr>\n    <tr>\n      <th>24</th>\n      <td>Distinct Value Signals in Anterior and Posterior Ventromedial Prefrontal Cortex</td>\n      <td>Smith et al</td>\n      <td>passive</td>\n      <td>54</td>\n    </tr>\n    <tr>\n      <th>39</th>\n      <td>Neural substrates of reward magnitude, probability, and risk during a wheel of fortune decision-making task</td>\n      <td>Smith et al</td>\n      <td>gambling</td>\n      <td>14</td>\n    </tr>\n    <tr>\n      <th>4</th>\n      <td>Anticipation of monetary and social reward differently activates mesolimbic brain structures in men and women</td>\n      <td>Spreckelmeyer et al</td>\n      <td>performance-dependent</td>\n      <td>64</td>\n    </tr>\n    <tr>\n      <th>0</th>\n      <td>A functional neuroimaging study of motivation and executive function</td>\n      <td>Taylor et al</td>\n      <td>n-back task</td>\n      <td>18</td>\n    </tr>\n    <tr>\n      <th>40</th>\n      <td>Reward Value Coding Distinct From Risk Attitude-Related Uncertainty Coding in Human Reward Systems</td>\n      <td>Tobler et al</td>\n      <td>performance-dependent</td>\n      <td>19</td>\n    </tr>\n    <tr>\n      <th>19</th>\n      <td>Dissociating contributions of ACC and vmPFC in reward prediction outcome and choice</td>\n      <td>Vassena et al</td>\n      <td>gambling</td>\n      <td>78</td>\n    </tr>\n    <tr>\n      <th>9</th>\n      <td>Brain systems for assessing facial attractiveness</td>\n      <td>Winston et al</td>\n      <td>passive</td>\n      <td>15</td>\n    </tr>\n    <tr>\n      <th>29</th>\n      <td>Functional Dissociations of Risk and Reward Processing in the Medial Prefrontal Cortex</td>\n      <td>Xue et al</td>\n      <td>gambling</td>\n      <td>52</td>\n    </tr>\n  </tbody>\n</table>\n</div>"
     },
     "execution_count": 125,
     "metadata": {},
     "output_type": "execute_result"
    }
   ],
   "source": [
    "df = df_reward_final.groupby(['title', 'author', \"Reward Contingency\"]).size().reset_index(name=\"#Foci\")\n",
    "df.sort_values(by=['author'])"
   ],
   "metadata": {
    "collapsed": false,
    "pycharm": {
     "name": "#%%\n"
    }
   }
  },
  {
   "cell_type": "code",
   "execution_count": 126,
   "outputs": [
    {
     "data": {
      "text/plain": "                                                                                                                                                               title  \\\n38                                                                                From uncertainty to reward - BOLD characteristics differentiate signaling pathways   \n37                                                                                From uncertainty to reward - BOLD characteristics differentiate signaling pathways   \n36                                                                                From uncertainty to reward - BOLD characteristics differentiate signaling pathways   \n10                                                                                         Beautiful Faces Have Variable Reward Value - fMRI and Behavioral Evidence   \n13                                                    Context-dependent cortical activation in response to financial reward and penalty  an event-related fMRI study   \n54           Right Ventromedial and Dorsolateral Prefrontal Cortices Mediate Adaptive Decisions under Ambiguity by Integrating Choice Utility and Outcome Evaluation   \n9                                                                Are Attractive People Rewarding - Sex Differences in the Neural Substrates of Facial Attractiveness   \n41                                                                      Individual differences in extraversion and dopamine genetics predict neural reward responses   \n40                                                                      Individual differences in extraversion and dopamine genetics predict neural reward responses   \n47                                                                                     Learning to Like  A Role for Human Orbitofrontal Cortex in Conditioned Reward   \n35                                                                                                           Effort-Based Cost Benefit Valuation and the Human Brain   \n34                                                               Dorsal striatum responses to reward and punishment - Effects of valence and magnitude manipulations   \n59                                                                                       Tracking the Hemodynamic Responses to Reward and Punishment in the Striatum   \n20  Differential Response Patterns in the Striatum and Orbitofrontal Cortex to Financial Reward in Humans - A Parametric Functional Magnetic Resonance Imaging Study   \n21                                                                                                              Dissociable Neural Responses in Human Reward Systems   \n45                                                   Instrumental responding for rewards is associated with enhanced neuronal response in subcortical reward systems   \n57                                                                                 Segregated and Integrated Coding of Reward and Punishment in the Cingulate Cortex   \n17                                Determining a Role for Ventromedial Prefrontal Cortex in Encoding Action-Based Value Signals During Reward-Related Decision Making   \n46                                                                      Is our self based on reward - Self-relatedness recruits neural activity in the reward system   \n56                                             Role of the Medial Prefrontal Cortex in Impaired Decision Making in Juvenile Attention-Deficit-Hyperactivity Disorder   \n18                                                                                 Developmental effects of decision-making on sensitivity to reward - An fMRI study   \n19                                                                                 Developmental effects of decision-making on sensitivity to reward - An fMRI study   \n22                                                          Dissociating Valence of Outcome from Behavioral Control in Human Orbital and Ventral Prefrontal Cortices   \n50                                                                                                    Neural Responses during Anticipation of a Primary Taste Reward   \n51                                                                                                    Neural Responses during Anticipation of a Primary Taste Reward   \n14                                                                                   Cortical and limbic activation during viewing of high- versus low-calorie foods   \n8                                                             Anticipation of reward in a nonaversive differential conditioning paradigm and the brain reward system   \n28                                                                                           Dissociation of reward anticipation and outcome with event-related fMRI   \n33                                                                                                               Distributed Neural Representation of Expected Value   \n4                                         A region of mesial prefrontal cortex tracks monetarily rewarding outcomes - characterization with rapid event-related fMRI   \n3                                         A region of mesial prefrontal cortex tracks monetarily rewarding outcomes - characterization with rapid event-related fMRI   \n6                                                                                  Anticipation of Increasing Monetary Reward Selectively Recruits Nucleus Accumbens   \n27                                                                                           Dissociation of reward anticipation and outcome with event-related fMRI   \n43                                                                                    Individual preferences modulate incentive values  Evidence from functional MRI   \n42                                                                                    Individual preferences modulate incentive values  Evidence from functional MRI   \n55                                             Risky Decision Making - Prefrontal Cortex and Mesocorticolimbic Functional Connectivity in Methamphetamine Dependence   \n30                                                                                        Distinct Roles of Prefrontal Cortical Subregions in the Iowa Gambling Task   \n31                                                                                        Distinct Roles of Prefrontal Cortical Subregions in the Iowa Gambling Task   \n5                                                                                       Activity in human reward-sensitive brain areas is strongly context dependent   \n25                                                                   Dissociation of neural networks for anticipation and consumption of monetary and social rewards   \n26                                                                   Dissociation of neural networks for anticipation and consumption of monetary and social rewards   \n44                                                                            Inhibit  switch  and update - A within-subject fMRI investigation of executive control   \n29   Distinct Portions of Anterior Cingulate Cortex and Medial Prefrontal Cortex Are Activated by Reward Processing in Separable Phases of Decision-Making Cognition   \n48                                                                    Monetary reward magnitude effects on behavior and brain function during goal-directed behavior   \n11                                                                                  Binge-Eating Disorder  Reward Sensitivity and Brain Activation to Images of Food   \n16                           Decreasing ventromedial prefrontal cortex activity during sequential risk-taking  an fMRI investigation of the balloon analog risk task   \n15                           Decreasing ventromedial prefrontal cortex activity during sequential risk-taking  an fMRI investigation of the balloon analog risk task   \n58                                                                                         The Architecture of Reward Value Coding in the Human Orbitofrontal Cortex   \n49                                                              Neural Coding of Reward-Prediction Error Signals During Classical Conditioning With Attractive Faces   \n32                                                                                   Distinct Value Signals in Anterior and Posterior Ventromedial Prefrontal Cortex   \n52                                                       Neural substrates of reward magnitude, probability, and risk during a wheel of fortune decision-making task   \n7                                                      Anticipation of monetary and social reward differently activates mesolimbic brain structures in men and women   \n1                                                                                               A functional neuroimaging study of motivation and executive function   \n2                                                                                               A functional neuroimaging study of motivation and executive function   \n0                                                                                               A functional neuroimaging study of motivation and executive function   \n53                                                                Reward Value Coding Distinct From Risk Attitude-Related Uncertainty Coding in Human Reward Systems   \n23                                                                               Dissociating contributions of ACC and vmPFC in reward prediction outcome and choice   \n24                                                                               Dissociating contributions of ACC and vmPFC in reward prediction outcome and choice   \n12                                                                                                                 Brain systems for assessing facial attractiveness   \n39                                                                            Functional Dissociations of Risk and Reward Processing in the Medial Prefrontal Cortex   \n\n                           author                       Reward Phase  #Foci  \n38                    Abler et al  outcome phase, anticipation phase     21  \n37                    Abler et al                      outcome phase      5  \n36                    Abler et al                 anticipation phase     17  \n10                   Aharon et al                      outcome phase     51  \n13                 Akitsuki et al                      outcome phase     35  \n54               Christakou et al                      outcome phase     13  \n9                  Cloutier et al                      outcome phase     19  \n41                    Cohen et al                      outcome phase     25  \n40                    Cohen et al                 anticipation phase     14  \n47                      Cox et al                      outcome phase     28  \n35                  Croxson et al                 anticipation phase      9  \n34                  Delgado et al                      outcome phase     12  \n59                  Delgado et al                      outcome phase     32  \n20                  Elliott et al                      outcome phase     16  \n21                  Elliott et al                      outcome phase     19  \n45                  Elliott et al                      outcome phase     21  \n57                 Fujiwara et al                      outcome phase     23  \n17                 Glascher et al                      outcome phase     20  \n46                    Greck et al                      outcome phase     20  \n56                   Hauser et al                      outcome phase     12  \n18                   Jarcho et al                 anticipation phase     22  \n19                   Jarcho et al                      outcome phase     41  \n22                 John O Doherty                      outcome phase     48  \n50           John O Doherty et al                 anticipation phase     13  \n51           John O Doherty et al                      outcome phase      5  \n14                 Killgore et al                      outcome phase     30  \n8                    Kirscg et al                 anticipation phase     56  \n28                  Knutson et al                      outcome phase     10  \n33                  Knutson et al                 anticipation phase     26  \n4                   Knutson et al                      outcome phase      4  \n3                   Knutson et al                 anticipation phase     17  \n6                   Knutson et al                 anticipation phase     24  \n27                  Knutson et al                 anticipation phase     13  \n43                  Koeneke et al                      outcome phase     28  \n42                  Koeneke et al                 anticipation phase      5  \n55                    Kohno et al                                        14  \n30                 Lawrence et al                     decision phase      5  \n31                 Lawrence et al                      outcome phase     32  \n5               Nieuwenhuis et al                      outcome phase     10  \n25               Rademacher et al                 anticipation phase     26  \n26               Rademacher et al                      outcome phase     21  \n44                   Rodger et al                                        28  \n29                   Rogers et al                     decision phase     24  \n48             Rosell-Negre et al                 anticipation phase     11  \n11                 Schienle et al                      outcome phase     12  \n16                Schonberg et al                      outcome phase     11  \n15                Schonberg et al                     decision phase     17  \n58                Sescousse et al                      outcome phase     46  \n49  Signe Bray and John O'Doherty                      outcome phase      5  \n32                    Smith et al                      outcome phase     54  \n52                    Smith et al                 anticipation phase     14  \n7             Spreckelmeyer et al                 anticipation phase     64  \n1                    Taylor et al                 anticipation phase      6  \n2                    Taylor et al                     decision phase      3  \n0                    Taylor et al                                         9  \n53                   Tobler et al                 anticipation phase     19  \n23                  Vassena et al                     decision phase     13  \n24                  Vassena et al                      outcome phase     65  \n12                  Winston et al                      outcome phase     15  \n39                      Xue et al                      outcome phase     52  ",
      "text/html": "<div>\n<style scoped>\n    .dataframe tbody tr th:only-of-type {\n        vertical-align: middle;\n    }\n\n    .dataframe tbody tr th {\n        vertical-align: top;\n    }\n\n    .dataframe thead th {\n        text-align: right;\n    }\n</style>\n<table border=\"1\" class=\"dataframe\">\n  <thead>\n    <tr style=\"text-align: right;\">\n      <th></th>\n      <th>title</th>\n      <th>author</th>\n      <th>Reward Phase</th>\n      <th>#Foci</th>\n    </tr>\n  </thead>\n  <tbody>\n    <tr>\n      <th>38</th>\n      <td>From uncertainty to reward - BOLD characteristics differentiate signaling pathways</td>\n      <td>Abler et al</td>\n      <td>outcome phase, anticipation phase</td>\n      <td>21</td>\n    </tr>\n    <tr>\n      <th>37</th>\n      <td>From uncertainty to reward - BOLD characteristics differentiate signaling pathways</td>\n      <td>Abler et al</td>\n      <td>outcome phase</td>\n      <td>5</td>\n    </tr>\n    <tr>\n      <th>36</th>\n      <td>From uncertainty to reward - BOLD characteristics differentiate signaling pathways</td>\n      <td>Abler et al</td>\n      <td>anticipation phase</td>\n      <td>17</td>\n    </tr>\n    <tr>\n      <th>10</th>\n      <td>Beautiful Faces Have Variable Reward Value - fMRI and Behavioral Evidence</td>\n      <td>Aharon et al</td>\n      <td>outcome phase</td>\n      <td>51</td>\n    </tr>\n    <tr>\n      <th>13</th>\n      <td>Context-dependent cortical activation in response to financial reward and penalty  an event-related fMRI study</td>\n      <td>Akitsuki et al</td>\n      <td>outcome phase</td>\n      <td>35</td>\n    </tr>\n    <tr>\n      <th>54</th>\n      <td>Right Ventromedial and Dorsolateral Prefrontal Cortices Mediate Adaptive Decisions under Ambiguity by Integrating Choice Utility and Outcome Evaluation</td>\n      <td>Christakou et al</td>\n      <td>outcome phase</td>\n      <td>13</td>\n    </tr>\n    <tr>\n      <th>9</th>\n      <td>Are Attractive People Rewarding - Sex Differences in the Neural Substrates of Facial Attractiveness</td>\n      <td>Cloutier et al</td>\n      <td>outcome phase</td>\n      <td>19</td>\n    </tr>\n    <tr>\n      <th>41</th>\n      <td>Individual differences in extraversion and dopamine genetics predict neural reward responses</td>\n      <td>Cohen et al</td>\n      <td>outcome phase</td>\n      <td>25</td>\n    </tr>\n    <tr>\n      <th>40</th>\n      <td>Individual differences in extraversion and dopamine genetics predict neural reward responses</td>\n      <td>Cohen et al</td>\n      <td>anticipation phase</td>\n      <td>14</td>\n    </tr>\n    <tr>\n      <th>47</th>\n      <td>Learning to Like  A Role for Human Orbitofrontal Cortex in Conditioned Reward</td>\n      <td>Cox et al</td>\n      <td>outcome phase</td>\n      <td>28</td>\n    </tr>\n    <tr>\n      <th>35</th>\n      <td>Effort-Based Cost Benefit Valuation and the Human Brain</td>\n      <td>Croxson et al</td>\n      <td>anticipation phase</td>\n      <td>9</td>\n    </tr>\n    <tr>\n      <th>34</th>\n      <td>Dorsal striatum responses to reward and punishment - Effects of valence and magnitude manipulations</td>\n      <td>Delgado et al</td>\n      <td>outcome phase</td>\n      <td>12</td>\n    </tr>\n    <tr>\n      <th>59</th>\n      <td>Tracking the Hemodynamic Responses to Reward and Punishment in the Striatum</td>\n      <td>Delgado et al</td>\n      <td>outcome phase</td>\n      <td>32</td>\n    </tr>\n    <tr>\n      <th>20</th>\n      <td>Differential Response Patterns in the Striatum and Orbitofrontal Cortex to Financial Reward in Humans - A Parametric Functional Magnetic Resonance Imaging Study</td>\n      <td>Elliott et al</td>\n      <td>outcome phase</td>\n      <td>16</td>\n    </tr>\n    <tr>\n      <th>21</th>\n      <td>Dissociable Neural Responses in Human Reward Systems</td>\n      <td>Elliott et al</td>\n      <td>outcome phase</td>\n      <td>19</td>\n    </tr>\n    <tr>\n      <th>45</th>\n      <td>Instrumental responding for rewards is associated with enhanced neuronal response in subcortical reward systems</td>\n      <td>Elliott et al</td>\n      <td>outcome phase</td>\n      <td>21</td>\n    </tr>\n    <tr>\n      <th>57</th>\n      <td>Segregated and Integrated Coding of Reward and Punishment in the Cingulate Cortex</td>\n      <td>Fujiwara et al</td>\n      <td>outcome phase</td>\n      <td>23</td>\n    </tr>\n    <tr>\n      <th>17</th>\n      <td>Determining a Role for Ventromedial Prefrontal Cortex in Encoding Action-Based Value Signals During Reward-Related Decision Making</td>\n      <td>Glascher et al</td>\n      <td>outcome phase</td>\n      <td>20</td>\n    </tr>\n    <tr>\n      <th>46</th>\n      <td>Is our self based on reward - Self-relatedness recruits neural activity in the reward system</td>\n      <td>Greck et al</td>\n      <td>outcome phase</td>\n      <td>20</td>\n    </tr>\n    <tr>\n      <th>56</th>\n      <td>Role of the Medial Prefrontal Cortex in Impaired Decision Making in Juvenile Attention-Deficit-Hyperactivity Disorder</td>\n      <td>Hauser et al</td>\n      <td>outcome phase</td>\n      <td>12</td>\n    </tr>\n    <tr>\n      <th>18</th>\n      <td>Developmental effects of decision-making on sensitivity to reward - An fMRI study</td>\n      <td>Jarcho et al</td>\n      <td>anticipation phase</td>\n      <td>22</td>\n    </tr>\n    <tr>\n      <th>19</th>\n      <td>Developmental effects of decision-making on sensitivity to reward - An fMRI study</td>\n      <td>Jarcho et al</td>\n      <td>outcome phase</td>\n      <td>41</td>\n    </tr>\n    <tr>\n      <th>22</th>\n      <td>Dissociating Valence of Outcome from Behavioral Control in Human Orbital and Ventral Prefrontal Cortices</td>\n      <td>John O Doherty</td>\n      <td>outcome phase</td>\n      <td>48</td>\n    </tr>\n    <tr>\n      <th>50</th>\n      <td>Neural Responses during Anticipation of a Primary Taste Reward</td>\n      <td>John O Doherty et al</td>\n      <td>anticipation phase</td>\n      <td>13</td>\n    </tr>\n    <tr>\n      <th>51</th>\n      <td>Neural Responses during Anticipation of a Primary Taste Reward</td>\n      <td>John O Doherty et al</td>\n      <td>outcome phase</td>\n      <td>5</td>\n    </tr>\n    <tr>\n      <th>14</th>\n      <td>Cortical and limbic activation during viewing of high- versus low-calorie foods</td>\n      <td>Killgore et al</td>\n      <td>outcome phase</td>\n      <td>30</td>\n    </tr>\n    <tr>\n      <th>8</th>\n      <td>Anticipation of reward in a nonaversive differential conditioning paradigm and the brain reward system</td>\n      <td>Kirscg et al</td>\n      <td>anticipation phase</td>\n      <td>56</td>\n    </tr>\n    <tr>\n      <th>28</th>\n      <td>Dissociation of reward anticipation and outcome with event-related fMRI</td>\n      <td>Knutson et al</td>\n      <td>outcome phase</td>\n      <td>10</td>\n    </tr>\n    <tr>\n      <th>33</th>\n      <td>Distributed Neural Representation of Expected Value</td>\n      <td>Knutson et al</td>\n      <td>anticipation phase</td>\n      <td>26</td>\n    </tr>\n    <tr>\n      <th>4</th>\n      <td>A region of mesial prefrontal cortex tracks monetarily rewarding outcomes - characterization with rapid event-related fMRI</td>\n      <td>Knutson et al</td>\n      <td>outcome phase</td>\n      <td>4</td>\n    </tr>\n    <tr>\n      <th>3</th>\n      <td>A region of mesial prefrontal cortex tracks monetarily rewarding outcomes - characterization with rapid event-related fMRI</td>\n      <td>Knutson et al</td>\n      <td>anticipation phase</td>\n      <td>17</td>\n    </tr>\n    <tr>\n      <th>6</th>\n      <td>Anticipation of Increasing Monetary Reward Selectively Recruits Nucleus Accumbens</td>\n      <td>Knutson et al</td>\n      <td>anticipation phase</td>\n      <td>24</td>\n    </tr>\n    <tr>\n      <th>27</th>\n      <td>Dissociation of reward anticipation and outcome with event-related fMRI</td>\n      <td>Knutson et al</td>\n      <td>anticipation phase</td>\n      <td>13</td>\n    </tr>\n    <tr>\n      <th>43</th>\n      <td>Individual preferences modulate incentive values  Evidence from functional MRI</td>\n      <td>Koeneke et al</td>\n      <td>outcome phase</td>\n      <td>28</td>\n    </tr>\n    <tr>\n      <th>42</th>\n      <td>Individual preferences modulate incentive values  Evidence from functional MRI</td>\n      <td>Koeneke et al</td>\n      <td>anticipation phase</td>\n      <td>5</td>\n    </tr>\n    <tr>\n      <th>55</th>\n      <td>Risky Decision Making - Prefrontal Cortex and Mesocorticolimbic Functional Connectivity in Methamphetamine Dependence</td>\n      <td>Kohno et al</td>\n      <td></td>\n      <td>14</td>\n    </tr>\n    <tr>\n      <th>30</th>\n      <td>Distinct Roles of Prefrontal Cortical Subregions in the Iowa Gambling Task</td>\n      <td>Lawrence et al</td>\n      <td>decision phase</td>\n      <td>5</td>\n    </tr>\n    <tr>\n      <th>31</th>\n      <td>Distinct Roles of Prefrontal Cortical Subregions in the Iowa Gambling Task</td>\n      <td>Lawrence et al</td>\n      <td>outcome phase</td>\n      <td>32</td>\n    </tr>\n    <tr>\n      <th>5</th>\n      <td>Activity in human reward-sensitive brain areas is strongly context dependent</td>\n      <td>Nieuwenhuis et al</td>\n      <td>outcome phase</td>\n      <td>10</td>\n    </tr>\n    <tr>\n      <th>25</th>\n      <td>Dissociation of neural networks for anticipation and consumption of monetary and social rewards</td>\n      <td>Rademacher et al</td>\n      <td>anticipation phase</td>\n      <td>26</td>\n    </tr>\n    <tr>\n      <th>26</th>\n      <td>Dissociation of neural networks for anticipation and consumption of monetary and social rewards</td>\n      <td>Rademacher et al</td>\n      <td>outcome phase</td>\n      <td>21</td>\n    </tr>\n    <tr>\n      <th>44</th>\n      <td>Inhibit  switch  and update - A within-subject fMRI investigation of executive control</td>\n      <td>Rodger et al</td>\n      <td></td>\n      <td>28</td>\n    </tr>\n    <tr>\n      <th>29</th>\n      <td>Distinct Portions of Anterior Cingulate Cortex and Medial Prefrontal Cortex Are Activated by Reward Processing in Separable Phases of Decision-Making Cognition</td>\n      <td>Rogers et al</td>\n      <td>decision phase</td>\n      <td>24</td>\n    </tr>\n    <tr>\n      <th>48</th>\n      <td>Monetary reward magnitude effects on behavior and brain function during goal-directed behavior</td>\n      <td>Rosell-Negre et al</td>\n      <td>anticipation phase</td>\n      <td>11</td>\n    </tr>\n    <tr>\n      <th>11</th>\n      <td>Binge-Eating Disorder  Reward Sensitivity and Brain Activation to Images of Food</td>\n      <td>Schienle et al</td>\n      <td>outcome phase</td>\n      <td>12</td>\n    </tr>\n    <tr>\n      <th>16</th>\n      <td>Decreasing ventromedial prefrontal cortex activity during sequential risk-taking  an fMRI investigation of the balloon analog risk task</td>\n      <td>Schonberg et al</td>\n      <td>outcome phase</td>\n      <td>11</td>\n    </tr>\n    <tr>\n      <th>15</th>\n      <td>Decreasing ventromedial prefrontal cortex activity during sequential risk-taking  an fMRI investigation of the balloon analog risk task</td>\n      <td>Schonberg et al</td>\n      <td>decision phase</td>\n      <td>17</td>\n    </tr>\n    <tr>\n      <th>58</th>\n      <td>The Architecture of Reward Value Coding in the Human Orbitofrontal Cortex</td>\n      <td>Sescousse et al</td>\n      <td>outcome phase</td>\n      <td>46</td>\n    </tr>\n    <tr>\n      <th>49</th>\n      <td>Neural Coding of Reward-Prediction Error Signals During Classical Conditioning With Attractive Faces</td>\n      <td>Signe Bray and John O'Doherty</td>\n      <td>outcome phase</td>\n      <td>5</td>\n    </tr>\n    <tr>\n      <th>32</th>\n      <td>Distinct Value Signals in Anterior and Posterior Ventromedial Prefrontal Cortex</td>\n      <td>Smith et al</td>\n      <td>outcome phase</td>\n      <td>54</td>\n    </tr>\n    <tr>\n      <th>52</th>\n      <td>Neural substrates of reward magnitude, probability, and risk during a wheel of fortune decision-making task</td>\n      <td>Smith et al</td>\n      <td>anticipation phase</td>\n      <td>14</td>\n    </tr>\n    <tr>\n      <th>7</th>\n      <td>Anticipation of monetary and social reward differently activates mesolimbic brain structures in men and women</td>\n      <td>Spreckelmeyer et al</td>\n      <td>anticipation phase</td>\n      <td>64</td>\n    </tr>\n    <tr>\n      <th>1</th>\n      <td>A functional neuroimaging study of motivation and executive function</td>\n      <td>Taylor et al</td>\n      <td>anticipation phase</td>\n      <td>6</td>\n    </tr>\n    <tr>\n      <th>2</th>\n      <td>A functional neuroimaging study of motivation and executive function</td>\n      <td>Taylor et al</td>\n      <td>decision phase</td>\n      <td>3</td>\n    </tr>\n    <tr>\n      <th>0</th>\n      <td>A functional neuroimaging study of motivation and executive function</td>\n      <td>Taylor et al</td>\n      <td></td>\n      <td>9</td>\n    </tr>\n    <tr>\n      <th>53</th>\n      <td>Reward Value Coding Distinct From Risk Attitude-Related Uncertainty Coding in Human Reward Systems</td>\n      <td>Tobler et al</td>\n      <td>anticipation phase</td>\n      <td>19</td>\n    </tr>\n    <tr>\n      <th>23</th>\n      <td>Dissociating contributions of ACC and vmPFC in reward prediction outcome and choice</td>\n      <td>Vassena et al</td>\n      <td>decision phase</td>\n      <td>13</td>\n    </tr>\n    <tr>\n      <th>24</th>\n      <td>Dissociating contributions of ACC and vmPFC in reward prediction outcome and choice</td>\n      <td>Vassena et al</td>\n      <td>outcome phase</td>\n      <td>65</td>\n    </tr>\n    <tr>\n      <th>12</th>\n      <td>Brain systems for assessing facial attractiveness</td>\n      <td>Winston et al</td>\n      <td>outcome phase</td>\n      <td>15</td>\n    </tr>\n    <tr>\n      <th>39</th>\n      <td>Functional Dissociations of Risk and Reward Processing in the Medial Prefrontal Cortex</td>\n      <td>Xue et al</td>\n      <td>outcome phase</td>\n      <td>52</td>\n    </tr>\n  </tbody>\n</table>\n</div>"
     },
     "execution_count": 126,
     "metadata": {},
     "output_type": "execute_result"
    }
   ],
   "source": [
    "df = df_reward_final.groupby(['title', 'author', \"Reward Phase\"]).size().reset_index(name=\"#Foci\")\n",
    "df.sort_values(by=['author'])"
   ],
   "metadata": {
    "collapsed": false,
    "pycharm": {
     "name": "#%%\n"
    }
   }
  },
  {
   "cell_type": "code",
   "execution_count": 127,
   "outputs": [
    {
     "data": {
      "text/plain": "                                                                                                             title  \\\n39                              From uncertainty to reward - BOLD characteristics differentiate signaling pathways   \n38                              From uncertainty to reward - BOLD characteristics differentiate signaling pathways   \n37                              From uncertainty to reward - BOLD characteristics differentiate signaling pathways   \n10                                       Beautiful Faces Have Variable Reward Value - fMRI and Behavioral Evidence   \n13  Context-dependent cortical activation in response to financial reward and penalty  an event-related fMRI study   \n..                                                                                                             ...   \n54              Reward Value Coding Distinct From Risk Attitude-Related Uncertainty Coding in Human Reward Systems   \n24                             Dissociating contributions of ACC and vmPFC in reward prediction outcome and choice   \n25                             Dissociating contributions of ACC and vmPFC in reward prediction outcome and choice   \n12                                                               Brain systems for assessing facial attractiveness   \n40                          Functional Dissociations of Risk and Reward Processing in the Medial Prefrontal Cortex   \n\n            author                       Reward Phase     Reward Contingency  \\\n39     Abler et al  outcome phase, anticipation phase  performance-dependent   \n38     Abler et al                      outcome phase  performance-dependent   \n37     Abler et al                 anticipation phase  performance-dependent   \n10    Aharon et al                      outcome phase                passive   \n13  Akitsuki et al                      outcome phase               gambling   \n..             ...                                ...                    ...   \n54    Tobler et al                 anticipation phase  performance-dependent   \n24   Vassena et al                     decision phase               gambling   \n25   Vassena et al                      outcome phase               gambling   \n12   Winston et al                      outcome phase                passive   \n40       Xue et al                      outcome phase               gambling   \n\n    #Foci  \n39     21  \n38      5  \n37     17  \n10     51  \n13     35  \n..    ...  \n54     19  \n24     13  \n25     65  \n12     15  \n40     52  \n\n[61 rows x 5 columns]",
      "text/html": "<div>\n<style scoped>\n    .dataframe tbody tr th:only-of-type {\n        vertical-align: middle;\n    }\n\n    .dataframe tbody tr th {\n        vertical-align: top;\n    }\n\n    .dataframe thead th {\n        text-align: right;\n    }\n</style>\n<table border=\"1\" class=\"dataframe\">\n  <thead>\n    <tr style=\"text-align: right;\">\n      <th></th>\n      <th>title</th>\n      <th>author</th>\n      <th>Reward Phase</th>\n      <th>Reward Contingency</th>\n      <th>#Foci</th>\n    </tr>\n  </thead>\n  <tbody>\n    <tr>\n      <th>39</th>\n      <td>From uncertainty to reward - BOLD characteristics differentiate signaling pathways</td>\n      <td>Abler et al</td>\n      <td>outcome phase, anticipation phase</td>\n      <td>performance-dependent</td>\n      <td>21</td>\n    </tr>\n    <tr>\n      <th>38</th>\n      <td>From uncertainty to reward - BOLD characteristics differentiate signaling pathways</td>\n      <td>Abler et al</td>\n      <td>outcome phase</td>\n      <td>performance-dependent</td>\n      <td>5</td>\n    </tr>\n    <tr>\n      <th>37</th>\n      <td>From uncertainty to reward - BOLD characteristics differentiate signaling pathways</td>\n      <td>Abler et al</td>\n      <td>anticipation phase</td>\n      <td>performance-dependent</td>\n      <td>17</td>\n    </tr>\n    <tr>\n      <th>10</th>\n      <td>Beautiful Faces Have Variable Reward Value - fMRI and Behavioral Evidence</td>\n      <td>Aharon et al</td>\n      <td>outcome phase</td>\n      <td>passive</td>\n      <td>51</td>\n    </tr>\n    <tr>\n      <th>13</th>\n      <td>Context-dependent cortical activation in response to financial reward and penalty  an event-related fMRI study</td>\n      <td>Akitsuki et al</td>\n      <td>outcome phase</td>\n      <td>gambling</td>\n      <td>35</td>\n    </tr>\n    <tr>\n      <th>...</th>\n      <td>...</td>\n      <td>...</td>\n      <td>...</td>\n      <td>...</td>\n      <td>...</td>\n    </tr>\n    <tr>\n      <th>54</th>\n      <td>Reward Value Coding Distinct From Risk Attitude-Related Uncertainty Coding in Human Reward Systems</td>\n      <td>Tobler et al</td>\n      <td>anticipation phase</td>\n      <td>performance-dependent</td>\n      <td>19</td>\n    </tr>\n    <tr>\n      <th>24</th>\n      <td>Dissociating contributions of ACC and vmPFC in reward prediction outcome and choice</td>\n      <td>Vassena et al</td>\n      <td>decision phase</td>\n      <td>gambling</td>\n      <td>13</td>\n    </tr>\n    <tr>\n      <th>25</th>\n      <td>Dissociating contributions of ACC and vmPFC in reward prediction outcome and choice</td>\n      <td>Vassena et al</td>\n      <td>outcome phase</td>\n      <td>gambling</td>\n      <td>65</td>\n    </tr>\n    <tr>\n      <th>12</th>\n      <td>Brain systems for assessing facial attractiveness</td>\n      <td>Winston et al</td>\n      <td>outcome phase</td>\n      <td>passive</td>\n      <td>15</td>\n    </tr>\n    <tr>\n      <th>40</th>\n      <td>Functional Dissociations of Risk and Reward Processing in the Medial Prefrontal Cortex</td>\n      <td>Xue et al</td>\n      <td>outcome phase</td>\n      <td>gambling</td>\n      <td>52</td>\n    </tr>\n  </tbody>\n</table>\n<p>61 rows × 5 columns</p>\n</div>"
     },
     "execution_count": 127,
     "metadata": {},
     "output_type": "execute_result"
    }
   ],
   "source": [
    "df = df_reward_final.groupby(['title', 'author', \"Reward Phase\", \"Reward Contingency\"]).size().reset_index(name=\"#Foci\")\n",
    "df.sort_values(by=['author'])"
   ],
   "metadata": {
    "collapsed": false,
    "pycharm": {
     "name": "#%%\n"
    }
   }
  },
  {
   "cell_type": "code",
   "execution_count": null,
   "outputs": [],
   "source": [
    "df = df_reward_final.groupby(['title', 'author', \"Reward Phase\", \"Reward Contingency\"]).size().reset_index(name=\"#Foci\")\n",
    "df.sort_values(by=['author'])"
   ],
   "metadata": {
    "collapsed": false,
    "pycharm": {
     "name": "#%%\n"
    }
   }
  },
  {
   "cell_type": "code",
   "execution_count": 143,
   "outputs": [
    {
     "data": {
      "text/plain": "                                                                                                                         title  \\\n0                                                         A functional neuroimaging study of motivation and executive function   \n1                                                         A functional neuroimaging study of motivation and executive function   \n2                                                         A functional neuroimaging study of motivation and executive function   \n3   A region of mesial prefrontal cortex tracks monetarily rewarding outcomes - characterization with rapid event-related fMRI   \n4   A region of mesial prefrontal cortex tracks monetarily rewarding outcomes - characterization with rapid event-related fMRI   \n..                                                                                                                         ...   \n68                                           Segregated and Integrated Coding of Reward and Punishment in the Cingulate Cortex   \n69                                                   The Architecture of Reward Value Coding in the Human Orbitofrontal Cortex   \n70                                                   The Architecture of Reward Value Coding in the Human Orbitofrontal Cortex   \n71                                                   The Architecture of Reward Value Coding in the Human Orbitofrontal Cortex   \n72                                                 Tracking the Hemodynamic Responses to Reward and Punishment in the Striatum   \n\n             author  subjects        Reward Phase     Reward Contingency  \\\n0      Taylor et al        12                                n-back task   \n1      Taylor et al        12  anticipation phase            n-back task   \n2      Taylor et al        12      decision phase            n-back task   \n3     Knutson et al        12  anticipation phase  performance-dependent   \n4     Knutson et al        12       outcome phase  performance-dependent   \n..              ...       ...                 ...                    ...   \n68   Fujiwara et al        17       outcome phase  performance-dependent   \n69  Sescousse et al        18       outcome phase  performance-dependent   \n70  Sescousse et al        18       outcome phase  performance-dependent   \n71  Sescousse et al        18       outcome phase  performance-dependent   \n72    Delgado et al         9       outcome phase               gambling   \n\n                   Reward Type Decision Making  #Foci  \n0              monetary reward       No Choice      9  \n1              monetary reward       No Choice      6  \n2              monetary reward       No Choice      3  \n3              monetary reward       No Choice     17  \n4              monetary reward       No Choice      4  \n..                         ...             ...    ...  \n68             monetary reward       No Choice     23  \n69               erotic reward          Choice     20  \n70  monetary and erotic reward          Choice     20  \n71             monetary reward          Choice      6  \n72             monetary reward          Choice     32  \n\n[73 rows x 8 columns]",
      "text/html": "<div>\n<style scoped>\n    .dataframe tbody tr th:only-of-type {\n        vertical-align: middle;\n    }\n\n    .dataframe tbody tr th {\n        vertical-align: top;\n    }\n\n    .dataframe thead th {\n        text-align: right;\n    }\n</style>\n<table border=\"1\" class=\"dataframe\">\n  <thead>\n    <tr style=\"text-align: right;\">\n      <th></th>\n      <th>title</th>\n      <th>author</th>\n      <th>subjects</th>\n      <th>Reward Phase</th>\n      <th>Reward Contingency</th>\n      <th>Reward Type</th>\n      <th>Decision Making</th>\n      <th>#Foci</th>\n    </tr>\n  </thead>\n  <tbody>\n    <tr>\n      <th>0</th>\n      <td>A functional neuroimaging study of motivation and executive function</td>\n      <td>Taylor et al</td>\n      <td>12</td>\n      <td></td>\n      <td>n-back task</td>\n      <td>monetary reward</td>\n      <td>No Choice</td>\n      <td>9</td>\n    </tr>\n    <tr>\n      <th>1</th>\n      <td>A functional neuroimaging study of motivation and executive function</td>\n      <td>Taylor et al</td>\n      <td>12</td>\n      <td>anticipation phase</td>\n      <td>n-back task</td>\n      <td>monetary reward</td>\n      <td>No Choice</td>\n      <td>6</td>\n    </tr>\n    <tr>\n      <th>2</th>\n      <td>A functional neuroimaging study of motivation and executive function</td>\n      <td>Taylor et al</td>\n      <td>12</td>\n      <td>decision phase</td>\n      <td>n-back task</td>\n      <td>monetary reward</td>\n      <td>No Choice</td>\n      <td>3</td>\n    </tr>\n    <tr>\n      <th>3</th>\n      <td>A region of mesial prefrontal cortex tracks monetarily rewarding outcomes - characterization with rapid event-related fMRI</td>\n      <td>Knutson et al</td>\n      <td>12</td>\n      <td>anticipation phase</td>\n      <td>performance-dependent</td>\n      <td>monetary reward</td>\n      <td>No Choice</td>\n      <td>17</td>\n    </tr>\n    <tr>\n      <th>4</th>\n      <td>A region of mesial prefrontal cortex tracks monetarily rewarding outcomes - characterization with rapid event-related fMRI</td>\n      <td>Knutson et al</td>\n      <td>12</td>\n      <td>outcome phase</td>\n      <td>performance-dependent</td>\n      <td>monetary reward</td>\n      <td>No Choice</td>\n      <td>4</td>\n    </tr>\n    <tr>\n      <th>...</th>\n      <td>...</td>\n      <td>...</td>\n      <td>...</td>\n      <td>...</td>\n      <td>...</td>\n      <td>...</td>\n      <td>...</td>\n      <td>...</td>\n    </tr>\n    <tr>\n      <th>68</th>\n      <td>Segregated and Integrated Coding of Reward and Punishment in the Cingulate Cortex</td>\n      <td>Fujiwara et al</td>\n      <td>17</td>\n      <td>outcome phase</td>\n      <td>performance-dependent</td>\n      <td>monetary reward</td>\n      <td>No Choice</td>\n      <td>23</td>\n    </tr>\n    <tr>\n      <th>69</th>\n      <td>The Architecture of Reward Value Coding in the Human Orbitofrontal Cortex</td>\n      <td>Sescousse et al</td>\n      <td>18</td>\n      <td>outcome phase</td>\n      <td>performance-dependent</td>\n      <td>erotic reward</td>\n      <td>Choice</td>\n      <td>20</td>\n    </tr>\n    <tr>\n      <th>70</th>\n      <td>The Architecture of Reward Value Coding in the Human Orbitofrontal Cortex</td>\n      <td>Sescousse et al</td>\n      <td>18</td>\n      <td>outcome phase</td>\n      <td>performance-dependent</td>\n      <td>monetary and erotic reward</td>\n      <td>Choice</td>\n      <td>20</td>\n    </tr>\n    <tr>\n      <th>71</th>\n      <td>The Architecture of Reward Value Coding in the Human Orbitofrontal Cortex</td>\n      <td>Sescousse et al</td>\n      <td>18</td>\n      <td>outcome phase</td>\n      <td>performance-dependent</td>\n      <td>monetary reward</td>\n      <td>Choice</td>\n      <td>6</td>\n    </tr>\n    <tr>\n      <th>72</th>\n      <td>Tracking the Hemodynamic Responses to Reward and Punishment in the Striatum</td>\n      <td>Delgado et al</td>\n      <td>9</td>\n      <td>outcome phase</td>\n      <td>gambling</td>\n      <td>monetary reward</td>\n      <td>Choice</td>\n      <td>32</td>\n    </tr>\n  </tbody>\n</table>\n<p>73 rows × 8 columns</p>\n</div>"
     },
     "execution_count": 143,
     "metadata": {},
     "output_type": "execute_result"
    }
   ],
   "source": [
    "## TODO print for Decision Making choice\n",
    "df_test2 = df_reward_final.groupby(['title', 'author', 'subjects', 'Reward Phase', 'Reward Contingency','Reward Type', 'Decision Making']).size().reset_index(name=\"#Foci\")\n",
    "df_test2"
   ],
   "metadata": {
    "collapsed": false,
    "pycharm": {
     "name": "#%%\n"
    }
   }
  },
  {
   "cell_type": "code",
   "execution_count": 140,
   "outputs": [
    {
     "data": {
      "text/plain": "(72, 7)"
     },
     "execution_count": 140,
     "metadata": {},
     "output_type": "execute_result"
    }
   ],
   "source": [
    "df_final_print_reward = df_reward_final.groupby(['title', 'author', 'subjects', 'Reward Phase', 'Reward Contingency','Reward Type']).size().reset_index(name=\"#Foci\")\n",
    "df_final_print_reward.shape"
   ],
   "metadata": {
    "collapsed": false,
    "pycharm": {
     "name": "#%%\n"
    }
   }
  },
  {
   "cell_type": "markdown",
   "source": [
    "#### Print latex to text file - reward"
   ],
   "metadata": {
    "collapsed": false
   }
  },
  {
   "cell_type": "code",
   "execution_count": 129,
   "outputs": [],
   "source": [
    "#rename specific column names\n",
    "df_final_print_reward.rename(columns = {'subjects':'#Subjects','title':'Title','author':'Author'}, inplace = True)\n",
    "df_final_print_reward = df_final_print_reward[['Author', '#Foci', '#Subjects', 'Reward Phase', 'Reward Contingency', 'Reward Type']]\n",
    "df_final_print_reward = df_final_print_reward.sort_values(by=['Author']).reset_index(drop=True)"
   ],
   "metadata": {
    "collapsed": false,
    "pycharm": {
     "name": "#%%\n"
    }
   }
  },
  {
   "cell_type": "code",
   "execution_count": 130,
   "outputs": [
    {
     "data": {
      "text/plain": "         Author  #Foci  #Subjects                       Reward Phase  \\\n0   Abler et al     17         15                 anticipation phase   \n1   Abler et al      5         15                      outcome phase   \n2   Abler et al     21         15  outcome phase, anticipation phase   \n3  Aharon et al     51          6                      outcome phase   \n\n      Reward Contingency      Reward Type  \n0  performance-dependent  monetary reward  \n1  performance-dependent  monetary reward  \n2  performance-dependent  monetary reward  \n3                passive    social reward  ",
      "text/html": "<div>\n<style scoped>\n    .dataframe tbody tr th:only-of-type {\n        vertical-align: middle;\n    }\n\n    .dataframe tbody tr th {\n        vertical-align: top;\n    }\n\n    .dataframe thead th {\n        text-align: right;\n    }\n</style>\n<table border=\"1\" class=\"dataframe\">\n  <thead>\n    <tr style=\"text-align: right;\">\n      <th></th>\n      <th>Author</th>\n      <th>#Foci</th>\n      <th>#Subjects</th>\n      <th>Reward Phase</th>\n      <th>Reward Contingency</th>\n      <th>Reward Type</th>\n    </tr>\n  </thead>\n  <tbody>\n    <tr>\n      <th>0</th>\n      <td>Abler et al</td>\n      <td>17</td>\n      <td>15</td>\n      <td>anticipation phase</td>\n      <td>performance-dependent</td>\n      <td>monetary reward</td>\n    </tr>\n    <tr>\n      <th>1</th>\n      <td>Abler et al</td>\n      <td>5</td>\n      <td>15</td>\n      <td>outcome phase</td>\n      <td>performance-dependent</td>\n      <td>monetary reward</td>\n    </tr>\n    <tr>\n      <th>2</th>\n      <td>Abler et al</td>\n      <td>21</td>\n      <td>15</td>\n      <td>outcome phase, anticipation phase</td>\n      <td>performance-dependent</td>\n      <td>monetary reward</td>\n    </tr>\n    <tr>\n      <th>3</th>\n      <td>Aharon et al</td>\n      <td>51</td>\n      <td>6</td>\n      <td>outcome phase</td>\n      <td>passive</td>\n      <td>social reward</td>\n    </tr>\n  </tbody>\n</table>\n</div>"
     },
     "execution_count": 130,
     "metadata": {},
     "output_type": "execute_result"
    }
   ],
   "source": [
    "df_final_print_reward.head(4)"
   ],
   "metadata": {
    "collapsed": false,
    "pycharm": {
     "name": "#%%\n"
    }
   }
  },
  {
   "cell_type": "code",
   "execution_count": 131,
   "outputs": [
    {
     "data": {
      "text/plain": "(72, 6)"
     },
     "execution_count": 131,
     "metadata": {},
     "output_type": "execute_result"
    }
   ],
   "source": [
    "df_final_print_reward.shape"
   ],
   "metadata": {
    "collapsed": false,
    "pycharm": {
     "name": "#%%\n"
    }
   }
  },
  {
   "cell_type": "code",
   "execution_count": 132,
   "outputs": [],
   "source": [
    "# pd.set_option('display.max_colwidth', None)  # to show all the column values (-1)\n",
    "# latex_filepath = r'../data_db/latex/reward_reports.txt'\n",
    "# with open(latex_filepath, 'w') as f:\n",
    "#     f.write(df_final_print_reward.to_latex(index=False))\n",
    "# pd.set_option('display.max_colwidth', 40)\n"
   ],
   "metadata": {
    "collapsed": false,
    "pycharm": {
     "name": "#%%\n"
    }
   }
  },
  {
   "cell_type": "code",
   "execution_count": 133,
   "outputs": [],
   "source": [
    "split_no = 40\n",
    "df_final_print_reward_list = [df_final_print_reward.iloc[:split_no, :], df_final_print_reward.iloc[split_no:, :]]"
   ],
   "metadata": {
    "collapsed": false,
    "pycharm": {
     "name": "#%%\n"
    }
   }
  },
  {
   "cell_type": "code",
   "execution_count": 134,
   "outputs": [],
   "source": [
    "# pd.set_option('display.max_colwidth', None)  # to show all the column values (-1)\n",
    "# latex_filepath = r'./latex/reward_reports.txt'\n",
    "# with open(latex_filepath, 'w') as f:\n",
    "#     for df in df_final_print_reward_list:\n",
    "#         f.write(df.to_latex(index=False))\n",
    "# pd.set_option('display.max_colwidth', 40)"
   ],
   "metadata": {
    "collapsed": false,
    "pycharm": {
     "name": "#%%\n"
    }
   }
  },
  {
   "cell_type": "code",
   "execution_count": 134,
   "outputs": [],
   "source": [],
   "metadata": {
    "collapsed": false,
    "pycharm": {
     "name": "#%%\n"
    }
   }
  }
 ],
 "metadata": {
  "kernelspec": {
   "display_name": "Python 3",
   "language": "python",
   "name": "python3"
  },
  "language_info": {
   "codemirror_mode": {
    "name": "ipython",
    "version": 2
   },
   "file_extension": ".py",
   "mimetype": "text/x-python",
   "name": "python",
   "nbconvert_exporter": "python",
   "pygments_lexer": "ipython2",
   "version": "2.7.6"
  }
 },
 "nbformat": 4,
 "nbformat_minor": 0
}