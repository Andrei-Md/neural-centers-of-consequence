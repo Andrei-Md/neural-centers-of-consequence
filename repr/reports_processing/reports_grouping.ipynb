{
 "cells": [
  {
   "cell_type": "code",
   "execution_count": 247,
   "outputs": [],
   "source": [
    "from tabulate import tabulate\n",
    "import pandas as pd\n",
    "import importlib\n",
    "import util.Data as data_util\n",
    "import util.DataframeProcess as df_proc\n",
    "import json"
   ],
   "metadata": {
    "collapsed": false,
    "pycharm": {
     "name": "#%%\n"
    }
   }
  },
  {
   "cell_type": "code",
   "execution_count": 248,
   "outputs": [
    {
     "data": {
      "text/plain": "<module 'util.DataframeProcess' from 'D:\\\\scul\\\\uaic-ub\\\\licenta\\\\code\\\\util\\\\DataframeProcess.py'>"
     },
     "execution_count": 248,
     "metadata": {},
     "output_type": "execute_result"
    }
   ],
   "source": [
    "importlib.reload(data_util)\n",
    "importlib.reload(df_proc)"
   ],
   "metadata": {
    "collapsed": false,
    "pycharm": {
     "name": "#%%\n"
    }
   }
  },
  {
   "cell_type": "code",
   "execution_count": 249,
   "outputs": [],
   "source": [
    "# pd.set_option('display.max_colwidth', None)\n",
    "# pd.set_option('display.max_colwidth', 40)"
   ],
   "metadata": {
    "collapsed": false,
    "pycharm": {
     "name": "#%%\n"
    }
   }
  },
  {
   "cell_type": "markdown",
   "source": [
    "# Data"
   ],
   "metadata": {
    "collapsed": false
   }
  },
  {
   "cell_type": "code",
   "execution_count": 250,
   "outputs": [],
   "source": [
    "csv_filename = r'../data_db/final_coordinates-conversion-v2.csv'\n",
    "df_main = data_util.import_data(csv_filename)"
   ],
   "metadata": {
    "collapsed": false,
    "pycharm": {
     "name": "#%%\n"
    }
   }
  },
  {
   "cell_type": "code",
   "execution_count": 251,
   "outputs": [
    {
     "data": {
      "text/plain": "(1827, 26)"
     },
     "execution_count": 251,
     "metadata": {},
     "output_type": "execute_result"
    }
   ],
   "source": [
    "df_data = df_main.copy()\n",
    "df_data.shape"
   ],
   "metadata": {
    "collapsed": false,
    "pycharm": {
     "name": "#%%\n"
    }
   }
  },
  {
   "cell_type": "markdown",
   "source": [
    "## all reports"
   ],
   "metadata": {
    "collapsed": false
   }
  },
  {
   "cell_type": "markdown",
   "source": [
    "## Focis number"
   ],
   "metadata": {
    "collapsed": false
   }
  },
  {
   "cell_type": "code",
   "execution_count": 252,
   "outputs": [],
   "source": [
    "#V1\n",
    "df_data['counter'] = 1\n",
    "ds_focis = df_data.groupby(['title', 'author'])['counter'].sum()"
   ],
   "metadata": {
    "collapsed": false,
    "pycharm": {
     "name": "#%%\n"
    }
   }
  },
  {
   "cell_type": "code",
   "execution_count": 253,
   "outputs": [
    {
     "name": "stdout",
     "output_type": "stream",
     "text": [
      "Count of Each group:\n"
     ]
    },
    {
     "data": {
      "text/plain": "                                                                                                                         title  \\\n0                                     A Rapid fMRI Task Battery for Mapping of Visual, Motor, Cognitive and Emotional Function   \n1                                                         A functional neuroimaging study of motivation and executive function   \n2   A region of mesial prefrontal cortex tracks monetarily rewarding outcomes - characterization with rapid event-related fMRI   \n3           Abnormal neural activity in partially remitted late-onset depression An fMRI study of one-back working memory task   \n4                                                 Activity in human reward-sensitive brain areas is strongly context dependent   \n..                                                                                                                         ...   \n56                            Stimulus-dependent modulation of working memory for identity monitoring - A functional MRI study   \n57                                                   The Architecture of Reward Value Coding in the Human Orbitofrontal Cortex   \n58                                                The neural system that bridges reward and cognition in humans  An fMRI study   \n59                                                 Tracking the Hemodynamic Responses to Reward and Punishment in the Striatum   \n60                    Working Memory Impairment in Fibromyalgia Patients Associated with Altered Frontoparietal Memory Network   \n\n                author  #Foci  \n0   Drobyshevsky et al     13  \n1         Taylor et al     41  \n2        Knutson et al     21  \n3            Lee et al     58  \n4    Nieuwenhuis et al     10  \n..                 ...    ...  \n56     Duggirala et al     62  \n57     Sescousse et al     46  \n58        Pochon et al     43  \n59       Delgado et al     32  \n60           Seo et al     19  \n\n[61 rows x 3 columns]",
      "text/html": "<div>\n<style scoped>\n    .dataframe tbody tr th:only-of-type {\n        vertical-align: middle;\n    }\n\n    .dataframe tbody tr th {\n        vertical-align: top;\n    }\n\n    .dataframe thead th {\n        text-align: right;\n    }\n</style>\n<table border=\"1\" class=\"dataframe\">\n  <thead>\n    <tr style=\"text-align: right;\">\n      <th></th>\n      <th>title</th>\n      <th>author</th>\n      <th>#Foci</th>\n    </tr>\n  </thead>\n  <tbody>\n    <tr>\n      <th>0</th>\n      <td>A Rapid fMRI Task Battery for Mapping of Visual, Motor, Cognitive and Emotional Function</td>\n      <td>Drobyshevsky et al</td>\n      <td>13</td>\n    </tr>\n    <tr>\n      <th>1</th>\n      <td>A functional neuroimaging study of motivation and executive function</td>\n      <td>Taylor et al</td>\n      <td>41</td>\n    </tr>\n    <tr>\n      <th>2</th>\n      <td>A region of mesial prefrontal cortex tracks monetarily rewarding outcomes - characterization with rapid event-related fMRI</td>\n      <td>Knutson et al</td>\n      <td>21</td>\n    </tr>\n    <tr>\n      <th>3</th>\n      <td>Abnormal neural activity in partially remitted late-onset depression An fMRI study of one-back working memory task</td>\n      <td>Lee et al</td>\n      <td>58</td>\n    </tr>\n    <tr>\n      <th>4</th>\n      <td>Activity in human reward-sensitive brain areas is strongly context dependent</td>\n      <td>Nieuwenhuis et al</td>\n      <td>10</td>\n    </tr>\n    <tr>\n      <th>...</th>\n      <td>...</td>\n      <td>...</td>\n      <td>...</td>\n    </tr>\n    <tr>\n      <th>56</th>\n      <td>Stimulus-dependent modulation of working memory for identity monitoring - A functional MRI study</td>\n      <td>Duggirala et al</td>\n      <td>62</td>\n    </tr>\n    <tr>\n      <th>57</th>\n      <td>The Architecture of Reward Value Coding in the Human Orbitofrontal Cortex</td>\n      <td>Sescousse et al</td>\n      <td>46</td>\n    </tr>\n    <tr>\n      <th>58</th>\n      <td>The neural system that bridges reward and cognition in humans  An fMRI study</td>\n      <td>Pochon et al</td>\n      <td>43</td>\n    </tr>\n    <tr>\n      <th>59</th>\n      <td>Tracking the Hemodynamic Responses to Reward and Punishment in the Striatum</td>\n      <td>Delgado et al</td>\n      <td>32</td>\n    </tr>\n    <tr>\n      <th>60</th>\n      <td>Working Memory Impairment in Fibromyalgia Patients Associated with Altered Frontoparietal Memory Network</td>\n      <td>Seo et al</td>\n      <td>19</td>\n    </tr>\n  </tbody>\n</table>\n<p>61 rows × 3 columns</p>\n</div>"
     },
     "execution_count": 253,
     "metadata": {},
     "output_type": "execute_result"
    }
   ],
   "source": [
    "#V2\n",
    "print(\"Count of Each group:\")\n",
    "df_group_focis = df_data.groupby(['title', 'author']\n",
    "                                 ).size().reset_index(name=\"#Foci\")\n",
    "df_group_focis"
   ],
   "metadata": {
    "collapsed": false,
    "pycharm": {
     "name": "#%%\n"
    }
   }
  },
  {
   "cell_type": "markdown",
   "source": [
    "## Subjects number"
   ],
   "metadata": {
    "collapsed": false
   }
  },
  {
   "cell_type": "code",
   "execution_count": 254,
   "outputs": [],
   "source": [
    "# group_subjects = df_data.groupby(['title','author']).agg({'subjects':['mean','min','max']})\n",
    "# group_subjects = df_data.groupby(['title', 'author', 'subjects'])\n",
    "# for key, item in group_subjects:\n",
    "#     print(type(key), \"\\n\\n\")\n",
    "#     break\n",
    "\n",
    "# group_subjects.describe()"
   ],
   "metadata": {
    "collapsed": false,
    "pycharm": {
     "name": "#%%\n"
    }
   }
  },
  {
   "cell_type": "code",
   "execution_count": 255,
   "outputs": [
    {
     "data": {
      "text/plain": "                                                                                                                        title  \\\n0                                    A Rapid fMRI Task Battery for Mapping of Visual, Motor, Cognitive and Emotional Function   \n1                                                        A functional neuroimaging study of motivation and executive function   \n2  A region of mesial prefrontal cortex tracks monetarily rewarding outcomes - characterization with rapid event-related fMRI   \n3          Abnormal neural activity in partially remitted late-onset depression An fMRI study of one-back working memory task   \n4                                                Activity in human reward-sensitive brain areas is strongly context dependent   \n\n               author  #Subjects  \n0  Drobyshevsky et al         31  \n1        Taylor et al         12  \n2       Knutson et al         12  \n3           Lee et al         14  \n4   Nieuwenhuis et al         14  ",
      "text/html": "<div>\n<style scoped>\n    .dataframe tbody tr th:only-of-type {\n        vertical-align: middle;\n    }\n\n    .dataframe tbody tr th {\n        vertical-align: top;\n    }\n\n    .dataframe thead th {\n        text-align: right;\n    }\n</style>\n<table border=\"1\" class=\"dataframe\">\n  <thead>\n    <tr style=\"text-align: right;\">\n      <th></th>\n      <th>title</th>\n      <th>author</th>\n      <th>#Subjects</th>\n    </tr>\n  </thead>\n  <tbody>\n    <tr>\n      <th>0</th>\n      <td>A Rapid fMRI Task Battery for Mapping of Visual, Motor, Cognitive and Emotional Function</td>\n      <td>Drobyshevsky et al</td>\n      <td>31</td>\n    </tr>\n    <tr>\n      <th>1</th>\n      <td>A functional neuroimaging study of motivation and executive function</td>\n      <td>Taylor et al</td>\n      <td>12</td>\n    </tr>\n    <tr>\n      <th>2</th>\n      <td>A region of mesial prefrontal cortex tracks monetarily rewarding outcomes - characterization with rapid event-related fMRI</td>\n      <td>Knutson et al</td>\n      <td>12</td>\n    </tr>\n    <tr>\n      <th>3</th>\n      <td>Abnormal neural activity in partially remitted late-onset depression An fMRI study of one-back working memory task</td>\n      <td>Lee et al</td>\n      <td>14</td>\n    </tr>\n    <tr>\n      <th>4</th>\n      <td>Activity in human reward-sensitive brain areas is strongly context dependent</td>\n      <td>Nieuwenhuis et al</td>\n      <td>14</td>\n    </tr>\n  </tbody>\n</table>\n</div>"
     },
     "execution_count": 255,
     "metadata": {},
     "output_type": "execute_result"
    }
   ],
   "source": [
    "group_subjects = df_data.groupby(['title', 'author', 'subjects'])\n",
    "dict_keys_subjects = group_subjects.groups.keys()\n",
    "df_group_subjects = pd.DataFrame.from_records([*dict_keys_subjects], columns=['title', 'author', '#Subjects'])\n",
    "df_group_subjects.head()"
   ],
   "metadata": {
    "collapsed": false,
    "pycharm": {
     "name": "#%%\n"
    }
   }
  },
  {
   "cell_type": "code",
   "execution_count": 256,
   "outputs": [
    {
     "data": {
      "text/plain": "                                                                                                                        title  \\\n0                                    A Rapid fMRI Task Battery for Mapping of Visual, Motor, Cognitive and Emotional Function   \n1                                                        A functional neuroimaging study of motivation and executive function   \n2  A region of mesial prefrontal cortex tracks monetarily rewarding outcomes - characterization with rapid event-related fMRI   \n3          Abnormal neural activity in partially remitted late-onset depression An fMRI study of one-back working memory task   \n4                                                Activity in human reward-sensitive brain areas is strongly context dependent   \n\n               author  #Foci  #Subjects  \n0  Drobyshevsky et al     13         31  \n1        Taylor et al     41         12  \n2       Knutson et al     21         12  \n3           Lee et al     58         14  \n4   Nieuwenhuis et al     10         14  ",
      "text/html": "<div>\n<style scoped>\n    .dataframe tbody tr th:only-of-type {\n        vertical-align: middle;\n    }\n\n    .dataframe tbody tr th {\n        vertical-align: top;\n    }\n\n    .dataframe thead th {\n        text-align: right;\n    }\n</style>\n<table border=\"1\" class=\"dataframe\">\n  <thead>\n    <tr style=\"text-align: right;\">\n      <th></th>\n      <th>title</th>\n      <th>author</th>\n      <th>#Foci</th>\n      <th>#Subjects</th>\n    </tr>\n  </thead>\n  <tbody>\n    <tr>\n      <th>0</th>\n      <td>A Rapid fMRI Task Battery for Mapping of Visual, Motor, Cognitive and Emotional Function</td>\n      <td>Drobyshevsky et al</td>\n      <td>13</td>\n      <td>31</td>\n    </tr>\n    <tr>\n      <th>1</th>\n      <td>A functional neuroimaging study of motivation and executive function</td>\n      <td>Taylor et al</td>\n      <td>41</td>\n      <td>12</td>\n    </tr>\n    <tr>\n      <th>2</th>\n      <td>A region of mesial prefrontal cortex tracks monetarily rewarding outcomes - characterization with rapid event-related fMRI</td>\n      <td>Knutson et al</td>\n      <td>21</td>\n      <td>12</td>\n    </tr>\n    <tr>\n      <th>3</th>\n      <td>Abnormal neural activity in partially remitted late-onset depression An fMRI study of one-back working memory task</td>\n      <td>Lee et al</td>\n      <td>58</td>\n      <td>14</td>\n    </tr>\n    <tr>\n      <th>4</th>\n      <td>Activity in human reward-sensitive brain areas is strongly context dependent</td>\n      <td>Nieuwenhuis et al</td>\n      <td>10</td>\n      <td>14</td>\n    </tr>\n  </tbody>\n</table>\n</div>"
     },
     "execution_count": 256,
     "metadata": {},
     "output_type": "execute_result"
    }
   ],
   "source": [
    "df_final = df_group_focis.join(df_group_subjects[['title', '#Subjects']].set_index('title'), on='title')\n",
    "df_final.head()"
   ],
   "metadata": {
    "collapsed": false,
    "pycharm": {
     "name": "#%%\n"
    }
   }
  },
  {
   "cell_type": "markdown",
   "source": [
    "## Get set of contrast"
   ],
   "metadata": {
    "collapsed": false
   }
  },
  {
   "cell_type": "code",
   "execution_count": 257,
   "outputs": [],
   "source": [
    "# ds_group_contrast = df_data.groupby(['title', 'author'])['contrast'].apply(set)\n",
    "# df_group_contrast = ds_group_contrast.to_frame().reset_index()\n",
    "# df_group_contrast\n",
    "# # df[['contrast']].iloc[0][0] <- set"
   ],
   "metadata": {
    "collapsed": false,
    "pycharm": {
     "name": "#%%\n"
    }
   }
  },
  {
   "cell_type": "code",
   "execution_count": 258,
   "outputs": [
    {
     "data": {
      "text/plain": "                                                                                                                        title  \\\n0                                    A Rapid fMRI Task Battery for Mapping of Visual, Motor, Cognitive and Emotional Function   \n1                                                        A functional neuroimaging study of motivation and executive function   \n2  A region of mesial prefrontal cortex tracks monetarily rewarding outcomes - characterization with rapid event-related fMRI   \n3          Abnormal neural activity in partially remitted late-onset depression An fMRI study of one-back working memory task   \n4                                                Activity in human reward-sensitive brain areas is strongly context dependent   \n\n               author                            contrast_set  \n0  Drobyshevsky et al                       {2-back > 0-back}  \n1        Taylor et al                                     {-}  \n2       Knutson et al  {reward > no reward, lose > no reward}  \n3           Lee et al                         {1-back > rest}  \n4   Nieuwenhuis et al              {high reward > low reward}  ",
      "text/html": "<div>\n<style scoped>\n    .dataframe tbody tr th:only-of-type {\n        vertical-align: middle;\n    }\n\n    .dataframe tbody tr th {\n        vertical-align: top;\n    }\n\n    .dataframe thead th {\n        text-align: right;\n    }\n</style>\n<table border=\"1\" class=\"dataframe\">\n  <thead>\n    <tr style=\"text-align: right;\">\n      <th></th>\n      <th>title</th>\n      <th>author</th>\n      <th>contrast_set</th>\n    </tr>\n  </thead>\n  <tbody>\n    <tr>\n      <th>0</th>\n      <td>A Rapid fMRI Task Battery for Mapping of Visual, Motor, Cognitive and Emotional Function</td>\n      <td>Drobyshevsky et al</td>\n      <td>{2-back &gt; 0-back}</td>\n    </tr>\n    <tr>\n      <th>1</th>\n      <td>A functional neuroimaging study of motivation and executive function</td>\n      <td>Taylor et al</td>\n      <td>{-}</td>\n    </tr>\n    <tr>\n      <th>2</th>\n      <td>A region of mesial prefrontal cortex tracks monetarily rewarding outcomes - characterization with rapid event-related fMRI</td>\n      <td>Knutson et al</td>\n      <td>{reward &gt; no reward, lose &gt; no reward}</td>\n    </tr>\n    <tr>\n      <th>3</th>\n      <td>Abnormal neural activity in partially remitted late-onset depression An fMRI study of one-back working memory task</td>\n      <td>Lee et al</td>\n      <td>{1-back &gt; rest}</td>\n    </tr>\n    <tr>\n      <th>4</th>\n      <td>Activity in human reward-sensitive brain areas is strongly context dependent</td>\n      <td>Nieuwenhuis et al</td>\n      <td>{high reward &gt; low reward}</td>\n    </tr>\n  </tbody>\n</table>\n</div>"
     },
     "execution_count": 258,
     "metadata": {},
     "output_type": "execute_result"
    }
   ],
   "source": [
    "# df_group_contrast = df_data.groupby(['title', 'author'])['contrast'].apply(set).reset_index(name='contrast_set')\n",
    "df_group_contrast = df_data.groupby(['title', 'author'])['contrast'].apply(lambda x: set(x)).reset_index(\n",
    "    name='contrast_set')\n",
    "df_group_contrast.head(5)"
   ],
   "metadata": {
    "collapsed": false,
    "pycharm": {
     "name": "#%%\n"
    }
   }
  },
  {
   "cell_type": "code",
   "execution_count": 259,
   "outputs": [
    {
     "data": {
      "text/plain": "{'lose > no reward', 'reward > no reward'}"
     },
     "execution_count": 259,
     "metadata": {},
     "output_type": "execute_result"
    }
   ],
   "source": [
    "df_group_contrast[['contrast_set']].iloc[2][0]"
   ],
   "metadata": {
    "collapsed": false,
    "pycharm": {
     "name": "#%%\n"
    }
   }
  },
  {
   "cell_type": "code",
   "execution_count": 260,
   "outputs": [
    {
     "data": {
      "text/plain": "                                                                                                                        title  \\\n0                                    A Rapid fMRI Task Battery for Mapping of Visual, Motor, Cognitive and Emotional Function   \n1                                                        A functional neuroimaging study of motivation and executive function   \n2  A region of mesial prefrontal cortex tracks monetarily rewarding outcomes - characterization with rapid event-related fMRI   \n3          Abnormal neural activity in partially remitted late-onset depression An fMRI study of one-back working memory task   \n4                                                Activity in human reward-sensitive brain areas is strongly context dependent   \n\n               author  #Foci  #Subjects  \\\n0  Drobyshevsky et al     13         31   \n1        Taylor et al     41         12   \n2       Knutson et al     21         12   \n3           Lee et al     58         14   \n4   Nieuwenhuis et al     10         14   \n\n                             contrast_set  \n0                       {2-back > 0-back}  \n1                                     {-}  \n2  {reward > no reward, lose > no reward}  \n3                         {1-back > rest}  \n4              {high reward > low reward}  ",
      "text/html": "<div>\n<style scoped>\n    .dataframe tbody tr th:only-of-type {\n        vertical-align: middle;\n    }\n\n    .dataframe tbody tr th {\n        vertical-align: top;\n    }\n\n    .dataframe thead th {\n        text-align: right;\n    }\n</style>\n<table border=\"1\" class=\"dataframe\">\n  <thead>\n    <tr style=\"text-align: right;\">\n      <th></th>\n      <th>title</th>\n      <th>author</th>\n      <th>#Foci</th>\n      <th>#Subjects</th>\n      <th>contrast_set</th>\n    </tr>\n  </thead>\n  <tbody>\n    <tr>\n      <th>0</th>\n      <td>A Rapid fMRI Task Battery for Mapping of Visual, Motor, Cognitive and Emotional Function</td>\n      <td>Drobyshevsky et al</td>\n      <td>13</td>\n      <td>31</td>\n      <td>{2-back &gt; 0-back}</td>\n    </tr>\n    <tr>\n      <th>1</th>\n      <td>A functional neuroimaging study of motivation and executive function</td>\n      <td>Taylor et al</td>\n      <td>41</td>\n      <td>12</td>\n      <td>{-}</td>\n    </tr>\n    <tr>\n      <th>2</th>\n      <td>A region of mesial prefrontal cortex tracks monetarily rewarding outcomes - characterization with rapid event-related fMRI</td>\n      <td>Knutson et al</td>\n      <td>21</td>\n      <td>12</td>\n      <td>{reward &gt; no reward, lose &gt; no reward}</td>\n    </tr>\n    <tr>\n      <th>3</th>\n      <td>Abnormal neural activity in partially remitted late-onset depression An fMRI study of one-back working memory task</td>\n      <td>Lee et al</td>\n      <td>58</td>\n      <td>14</td>\n      <td>{1-back &gt; rest}</td>\n    </tr>\n    <tr>\n      <th>4</th>\n      <td>Activity in human reward-sensitive brain areas is strongly context dependent</td>\n      <td>Nieuwenhuis et al</td>\n      <td>10</td>\n      <td>14</td>\n      <td>{high reward &gt; low reward}</td>\n    </tr>\n  </tbody>\n</table>\n</div>"
     },
     "execution_count": 260,
     "metadata": {},
     "output_type": "execute_result"
    }
   ],
   "source": [
    "df_final = df_final.join(df_group_contrast[['title', 'contrast_set']].set_index('title'), on='title')\n",
    "df_final.head()"
   ],
   "metadata": {
    "collapsed": false,
    "pycharm": {
     "name": "#%%\n"
    }
   }
  },
  {
   "cell_type": "markdown",
   "source": [
    "## Get set of keywords"
   ],
   "metadata": {
    "collapsed": false
   }
  },
  {
   "cell_type": "code",
   "execution_count": 261,
   "outputs": [
    {
     "data": {
      "text/plain": "                                                                                                                        title  \\\n0                                    A Rapid fMRI Task Battery for Mapping of Visual, Motor, Cognitive and Emotional Function   \n1                                                        A functional neuroimaging study of motivation and executive function   \n2  A region of mesial prefrontal cortex tracks monetarily rewarding outcomes - characterization with rapid event-related fMRI   \n3          Abnormal neural activity in partially remitted late-onset depression An fMRI study of one-back working memory task   \n4                                                Activity in human reward-sensitive brain areas is strongly context dependent   \n\n               author  \\\n0  Drobyshevsky et al   \n1        Taylor et al   \n2       Knutson et al   \n3           Lee et al   \n4   Nieuwenhuis et al   \n\n                                                                                                                                                                                                                                                                                                                                                                                                                            keywords_set  \n0                                                                                                                                                                                                                                                                                                                                                          {fMRI; working memory; talairach; n-back task; two-back task; visual letters}  \n1  {fMRI; working memory; anticipation phase; monetary reward; MNI; n-back task; visual shape, fMRI; reward value; decision phase; monetary reward; MNI; n-back task; visual shape, fMRI; reward value; monetary reward; MNI; n-back task; visual shape, fMRI; reward value; anticipation phase; monetary reward; MNI; n-back task; visual shape, fMRI; working memory; decision phase; monetary reward; MNI; n-back task; visual shape}  \n2                                                                                            {fMRI; reward value; anticipation phase; monetary reward; MID; talairach; performance-dependent; potential gain, fMRI; reward value; outcome phase; monetary reward; MID; talairach; performance-dependent; potential gain, fMRI; reward value; anticipation phase; monetary reward; MID; talairach; performance-dependent; potential loss}  \n3                                                                                                                                                                                                                                                                                                                                                          {fMRI; working memory; talairach; n-back task; one-back task; visual numbers}  \n4                                                                                                     {fMRI; reward magnitude; reward value; outcome phase; decision making; monetary reward; high gain vs high loss; talairach; gambling;positive reward, fMRI; reward magnitude; reward value; outcome phase; decision making; monetary reward; high gain vs high loss; talairach; gambling; context-dependent reward;positive reward}  ",
      "text/html": "<div>\n<style scoped>\n    .dataframe tbody tr th:only-of-type {\n        vertical-align: middle;\n    }\n\n    .dataframe tbody tr th {\n        vertical-align: top;\n    }\n\n    .dataframe thead th {\n        text-align: right;\n    }\n</style>\n<table border=\"1\" class=\"dataframe\">\n  <thead>\n    <tr style=\"text-align: right;\">\n      <th></th>\n      <th>title</th>\n      <th>author</th>\n      <th>keywords_set</th>\n    </tr>\n  </thead>\n  <tbody>\n    <tr>\n      <th>0</th>\n      <td>A Rapid fMRI Task Battery for Mapping of Visual, Motor, Cognitive and Emotional Function</td>\n      <td>Drobyshevsky et al</td>\n      <td>{fMRI; working memory; talairach; n-back task; two-back task; visual letters}</td>\n    </tr>\n    <tr>\n      <th>1</th>\n      <td>A functional neuroimaging study of motivation and executive function</td>\n      <td>Taylor et al</td>\n      <td>{fMRI; working memory; anticipation phase; monetary reward; MNI; n-back task; visual shape, fMRI; reward value; decision phase; monetary reward; MNI; n-back task; visual shape, fMRI; reward value; monetary reward; MNI; n-back task; visual shape, fMRI; reward value; anticipation phase; monetary reward; MNI; n-back task; visual shape, fMRI; working memory; decision phase; monetary reward; MNI; n-back task; visual shape}</td>\n    </tr>\n    <tr>\n      <th>2</th>\n      <td>A region of mesial prefrontal cortex tracks monetarily rewarding outcomes - characterization with rapid event-related fMRI</td>\n      <td>Knutson et al</td>\n      <td>{fMRI; reward value; anticipation phase; monetary reward; MID; talairach; performance-dependent; potential gain, fMRI; reward value; outcome phase; monetary reward; MID; talairach; performance-dependent; potential gain, fMRI; reward value; anticipation phase; monetary reward; MID; talairach; performance-dependent; potential loss}</td>\n    </tr>\n    <tr>\n      <th>3</th>\n      <td>Abnormal neural activity in partially remitted late-onset depression An fMRI study of one-back working memory task</td>\n      <td>Lee et al</td>\n      <td>{fMRI; working memory; talairach; n-back task; one-back task; visual numbers}</td>\n    </tr>\n    <tr>\n      <th>4</th>\n      <td>Activity in human reward-sensitive brain areas is strongly context dependent</td>\n      <td>Nieuwenhuis et al</td>\n      <td>{fMRI; reward magnitude; reward value; outcome phase; decision making; monetary reward; high gain vs high loss; talairach; gambling;positive reward, fMRI; reward magnitude; reward value; outcome phase; decision making; monetary reward; high gain vs high loss; talairach; gambling; context-dependent reward;positive reward}</td>\n    </tr>\n  </tbody>\n</table>\n</div>"
     },
     "execution_count": 261,
     "metadata": {},
     "output_type": "execute_result"
    }
   ],
   "source": [
    "#V1\n",
    "# df_group_keywords = df_data.groupby(['title', 'author'])['keywords'].apply(set).reset_index(name='keywords_set')\n",
    "df_group_keywords = df_data.groupby(['title', 'author'])['keywords'].apply(lambda x: set(x)).reset_index(\n",
    "    name='keywords_set')\n",
    "# ds_group_keywords = df_test.groupby(['title', 'author']).agg({\"keywords\": lambda x: set(x)})#%%\n",
    "\n",
    "#df_group_keywords[['keywords_set']].iloc[0][0] <- set\n",
    "df_group_keywords.head()"
   ],
   "metadata": {
    "collapsed": false,
    "pycharm": {
     "name": "#%%\n"
    }
   }
  },
  {
   "cell_type": "code",
   "execution_count": 262,
   "outputs": [
    {
     "data": {
      "text/plain": "                                                                                                                        title  \\\n0                                    A Rapid fMRI Task Battery for Mapping of Visual, Motor, Cognitive and Emotional Function   \n1                                                        A functional neuroimaging study of motivation and executive function   \n2  A region of mesial prefrontal cortex tracks monetarily rewarding outcomes - characterization with rapid event-related fMRI   \n3          Abnormal neural activity in partially remitted late-onset depression An fMRI study of one-back working memory task   \n4                                                Activity in human reward-sensitive brain areas is strongly context dependent   \n\n               author  \\\n0  Drobyshevsky et al   \n1        Taylor et al   \n2       Knutson et al   \n3           Lee et al   \n4   Nieuwenhuis et al   \n\n                                                                                                                                                                                                                                                                                                                                                                                                                            keywords_set  \\\n0                                                                                                                                                                                                                                                                                                                                                          {fMRI; working memory; talairach; n-back task; two-back task; visual letters}   \n1  {fMRI; working memory; anticipation phase; monetary reward; MNI; n-back task; visual shape, fMRI; reward value; decision phase; monetary reward; MNI; n-back task; visual shape, fMRI; reward value; monetary reward; MNI; n-back task; visual shape, fMRI; reward value; anticipation phase; monetary reward; MNI; n-back task; visual shape, fMRI; working memory; decision phase; monetary reward; MNI; n-back task; visual shape}   \n2                                                                                            {fMRI; reward value; anticipation phase; monetary reward; MID; talairach; performance-dependent; potential gain, fMRI; reward value; outcome phase; monetary reward; MID; talairach; performance-dependent; potential gain, fMRI; reward value; anticipation phase; monetary reward; MID; talairach; performance-dependent; potential loss}   \n3                                                                                                                                                                                                                                                                                                                                                          {fMRI; working memory; talairach; n-back task; one-back task; visual numbers}   \n4                                                                                                     {fMRI; reward magnitude; reward value; outcome phase; decision making; monetary reward; high gain vs high loss; talairach; gambling;positive reward, fMRI; reward magnitude; reward value; outcome phase; decision making; monetary reward; high gain vs high loss; talairach; gambling; context-dependent reward;positive reward}   \n\n                                                                                                                                                                    keywords_split  \n0                                                                                                    {fMRI, n-back task, two-back task, working memory, talairach, visual letters}  \n1                                                        {MNI, working memory, reward value, fMRI, n-back task, anticipation phase, monetary reward, visual shape, decision phase}  \n2                                  {MID, potential gain, performance-dependent, potential loss, reward value, outcome phase, fMRI, anticipation phase, monetary reward, talairach}  \n3                                                                                                    {fMRI, n-back task, working memory, talairach, one-back task, visual numbers}  \n4  {positive reward, reward magnitude, fMRI, decision making, gambling, talairach, outcome phase, context-dependent reward, reward value, monetary reward, high gain vs high loss}  ",
      "text/html": "<div>\n<style scoped>\n    .dataframe tbody tr th:only-of-type {\n        vertical-align: middle;\n    }\n\n    .dataframe tbody tr th {\n        vertical-align: top;\n    }\n\n    .dataframe thead th {\n        text-align: right;\n    }\n</style>\n<table border=\"1\" class=\"dataframe\">\n  <thead>\n    <tr style=\"text-align: right;\">\n      <th></th>\n      <th>title</th>\n      <th>author</th>\n      <th>keywords_set</th>\n      <th>keywords_split</th>\n    </tr>\n  </thead>\n  <tbody>\n    <tr>\n      <th>0</th>\n      <td>A Rapid fMRI Task Battery for Mapping of Visual, Motor, Cognitive and Emotional Function</td>\n      <td>Drobyshevsky et al</td>\n      <td>{fMRI; working memory; talairach; n-back task; two-back task; visual letters}</td>\n      <td>{fMRI, n-back task, two-back task, working memory, talairach, visual letters}</td>\n    </tr>\n    <tr>\n      <th>1</th>\n      <td>A functional neuroimaging study of motivation and executive function</td>\n      <td>Taylor et al</td>\n      <td>{fMRI; working memory; anticipation phase; monetary reward; MNI; n-back task; visual shape, fMRI; reward value; decision phase; monetary reward; MNI; n-back task; visual shape, fMRI; reward value; monetary reward; MNI; n-back task; visual shape, fMRI; reward value; anticipation phase; monetary reward; MNI; n-back task; visual shape, fMRI; working memory; decision phase; monetary reward; MNI; n-back task; visual shape}</td>\n      <td>{MNI, working memory, reward value, fMRI, n-back task, anticipation phase, monetary reward, visual shape, decision phase}</td>\n    </tr>\n    <tr>\n      <th>2</th>\n      <td>A region of mesial prefrontal cortex tracks monetarily rewarding outcomes - characterization with rapid event-related fMRI</td>\n      <td>Knutson et al</td>\n      <td>{fMRI; reward value; anticipation phase; monetary reward; MID; talairach; performance-dependent; potential gain, fMRI; reward value; outcome phase; monetary reward; MID; talairach; performance-dependent; potential gain, fMRI; reward value; anticipation phase; monetary reward; MID; talairach; performance-dependent; potential loss}</td>\n      <td>{MID, potential gain, performance-dependent, potential loss, reward value, outcome phase, fMRI, anticipation phase, monetary reward, talairach}</td>\n    </tr>\n    <tr>\n      <th>3</th>\n      <td>Abnormal neural activity in partially remitted late-onset depression An fMRI study of one-back working memory task</td>\n      <td>Lee et al</td>\n      <td>{fMRI; working memory; talairach; n-back task; one-back task; visual numbers}</td>\n      <td>{fMRI, n-back task, working memory, talairach, one-back task, visual numbers}</td>\n    </tr>\n    <tr>\n      <th>4</th>\n      <td>Activity in human reward-sensitive brain areas is strongly context dependent</td>\n      <td>Nieuwenhuis et al</td>\n      <td>{fMRI; reward magnitude; reward value; outcome phase; decision making; monetary reward; high gain vs high loss; talairach; gambling;positive reward, fMRI; reward magnitude; reward value; outcome phase; decision making; monetary reward; high gain vs high loss; talairach; gambling; context-dependent reward;positive reward}</td>\n      <td>{positive reward, reward magnitude, fMRI, decision making, gambling, talairach, outcome phase, context-dependent reward, reward value, monetary reward, high gain vs high loss}</td>\n    </tr>\n  </tbody>\n</table>\n</div>"
     },
     "execution_count": 262,
     "metadata": {},
     "output_type": "execute_result"
    }
   ],
   "source": [
    "df_group_keywords['keywords_split'] = df_group_keywords['keywords_set'].apply(df_proc.split_keys)\n",
    "df_group_keywords.head()"
   ],
   "metadata": {
    "collapsed": false,
    "pycharm": {
     "name": "#%%\n"
    }
   }
  },
  {
   "cell_type": "code",
   "execution_count": 263,
   "outputs": [
    {
     "data": {
      "text/plain": "{'fMRI',\n 'n-back task',\n 'talairach',\n 'two-back task',\n 'visual letters',\n 'working memory'}"
     },
     "execution_count": 263,
     "metadata": {},
     "output_type": "execute_result"
    }
   ],
   "source": [
    "df_group_keywords[['keywords_split']].iloc[0][0]"
   ],
   "metadata": {
    "collapsed": false,
    "pycharm": {
     "name": "#%%\n"
    }
   }
  },
  {
   "cell_type": "code",
   "execution_count": 264,
   "outputs": [
    {
     "data": {
      "text/plain": "                                                                                                                        title  \\\n0                                    A Rapid fMRI Task Battery for Mapping of Visual, Motor, Cognitive and Emotional Function   \n1                                                        A functional neuroimaging study of motivation and executive function   \n2  A region of mesial prefrontal cortex tracks monetarily rewarding outcomes - characterization with rapid event-related fMRI   \n\n               author  #Foci  #Subjects  \\\n0  Drobyshevsky et al     13         31   \n1        Taylor et al     41         12   \n2       Knutson et al     21         12   \n\n                             contrast_set  \\\n0                       {2-back > 0-back}   \n1                                     {-}   \n2  {reward > no reward, lose > no reward}   \n\n                                                                                                                                    keywords_split  \n0                                                                    {fMRI, n-back task, two-back task, working memory, talairach, visual letters}  \n1                        {MNI, working memory, reward value, fMRI, n-back task, anticipation phase, monetary reward, visual shape, decision phase}  \n2  {MID, potential gain, performance-dependent, potential loss, reward value, outcome phase, fMRI, anticipation phase, monetary reward, talairach}  ",
      "text/html": "<div>\n<style scoped>\n    .dataframe tbody tr th:only-of-type {\n        vertical-align: middle;\n    }\n\n    .dataframe tbody tr th {\n        vertical-align: top;\n    }\n\n    .dataframe thead th {\n        text-align: right;\n    }\n</style>\n<table border=\"1\" class=\"dataframe\">\n  <thead>\n    <tr style=\"text-align: right;\">\n      <th></th>\n      <th>title</th>\n      <th>author</th>\n      <th>#Foci</th>\n      <th>#Subjects</th>\n      <th>contrast_set</th>\n      <th>keywords_split</th>\n    </tr>\n  </thead>\n  <tbody>\n    <tr>\n      <th>0</th>\n      <td>A Rapid fMRI Task Battery for Mapping of Visual, Motor, Cognitive and Emotional Function</td>\n      <td>Drobyshevsky et al</td>\n      <td>13</td>\n      <td>31</td>\n      <td>{2-back &gt; 0-back}</td>\n      <td>{fMRI, n-back task, two-back task, working memory, talairach, visual letters}</td>\n    </tr>\n    <tr>\n      <th>1</th>\n      <td>A functional neuroimaging study of motivation and executive function</td>\n      <td>Taylor et al</td>\n      <td>41</td>\n      <td>12</td>\n      <td>{-}</td>\n      <td>{MNI, working memory, reward value, fMRI, n-back task, anticipation phase, monetary reward, visual shape, decision phase}</td>\n    </tr>\n    <tr>\n      <th>2</th>\n      <td>A region of mesial prefrontal cortex tracks monetarily rewarding outcomes - characterization with rapid event-related fMRI</td>\n      <td>Knutson et al</td>\n      <td>21</td>\n      <td>12</td>\n      <td>{reward &gt; no reward, lose &gt; no reward}</td>\n      <td>{MID, potential gain, performance-dependent, potential loss, reward value, outcome phase, fMRI, anticipation phase, monetary reward, talairach}</td>\n    </tr>\n  </tbody>\n</table>\n</div>"
     },
     "execution_count": 264,
     "metadata": {},
     "output_type": "execute_result"
    }
   ],
   "source": [
    "df_final = df_final.join(df_group_keywords[['title', 'keywords_split']].set_index('title'), on='title')\n",
    "df_final.head(3)"
   ],
   "metadata": {
    "collapsed": false,
    "pycharm": {
     "name": "#%%\n"
    }
   }
  },
  {
   "cell_type": "code",
   "execution_count": 265,
   "outputs": [
    {
     "data": {
      "text/plain": "(61, 6)"
     },
     "execution_count": 265,
     "metadata": {},
     "output_type": "execute_result"
    }
   ],
   "source": [
    "df_final.shape"
   ],
   "metadata": {
    "collapsed": false,
    "pycharm": {
     "name": "#%%\n"
    }
   }
  },
  {
   "cell_type": "markdown",
   "source": [
    "## Print latex to text file"
   ],
   "metadata": {
    "collapsed": false
   }
  },
  {
   "cell_type": "code",
   "execution_count": 266,
   "outputs": [],
   "source": [
    "df_final_print = df_final.drop(['title'], axis=1)\n",
    "df_final_print = df_final_print.sort_values(by=['author'])\n",
    "# df_final_print = [df_final_print.iloc[:split_no, :], df_final_print.iloc[split_no:, :]]"
   ],
   "metadata": {
    "collapsed": false,
    "pycharm": {
     "name": "#%%\n"
    }
   }
  },
  {
   "cell_type": "code",
   "execution_count": 267,
   "outputs": [
    {
     "data": {
      "text/plain": "             author  #Foci  #Subjects  \\\n33      Abler et al     43         15   \n12     Aharon et al     51          6   \n15   Akitsuki et al     35         36   \n6   Beneventi et al     24         12   \n34    Carrion et al     34         13   \n\n                               contrast_set  \\\n33  {risk > safe, high reward > low rewa...   \n12  {average female > average male, beau...   \n15  {w4 > w1, w1 > l1, win modulation, a...   \n6                {2-back > 1-back > 0-back}   \n34       {3-back > 0-back, 2-back > 0-back}   \n\n                             keywords_split  \n33  {reward magnitude, modelling predict...  \n12  {fMRI, viewing, social reward, talai...  \n15  {positive reward, negative reward, g...  \n6   {MNI, fMRI, n-back task, working mem...  \n34  {MNI, three-back task, working memor...  ",
      "text/html": "<div>\n<style scoped>\n    .dataframe tbody tr th:only-of-type {\n        vertical-align: middle;\n    }\n\n    .dataframe tbody tr th {\n        vertical-align: top;\n    }\n\n    .dataframe thead th {\n        text-align: right;\n    }\n</style>\n<table border=\"1\" class=\"dataframe\">\n  <thead>\n    <tr style=\"text-align: right;\">\n      <th></th>\n      <th>author</th>\n      <th>#Foci</th>\n      <th>#Subjects</th>\n      <th>contrast_set</th>\n      <th>keywords_split</th>\n    </tr>\n  </thead>\n  <tbody>\n    <tr>\n      <th>33</th>\n      <td>Abler et al</td>\n      <td>43</td>\n      <td>15</td>\n      <td>{risk &gt; safe, high reward &gt; low rewa...</td>\n      <td>{reward magnitude, modelling predict...</td>\n    </tr>\n    <tr>\n      <th>12</th>\n      <td>Aharon et al</td>\n      <td>51</td>\n      <td>6</td>\n      <td>{average female &gt; average male, beau...</td>\n      <td>{fMRI, viewing, social reward, talai...</td>\n    </tr>\n    <tr>\n      <th>15</th>\n      <td>Akitsuki et al</td>\n      <td>35</td>\n      <td>36</td>\n      <td>{w4 &gt; w1, w1 &gt; l1, win modulation, a...</td>\n      <td>{positive reward, negative reward, g...</td>\n    </tr>\n    <tr>\n      <th>6</th>\n      <td>Beneventi et al</td>\n      <td>24</td>\n      <td>12</td>\n      <td>{2-back &gt; 1-back &gt; 0-back}</td>\n      <td>{MNI, fMRI, n-back task, working mem...</td>\n    </tr>\n    <tr>\n      <th>34</th>\n      <td>Carrion et al</td>\n      <td>34</td>\n      <td>13</td>\n      <td>{3-back &gt; 0-back, 2-back &gt; 0-back}</td>\n      <td>{MNI, three-back task, working memor...</td>\n    </tr>\n  </tbody>\n</table>\n</div>"
     },
     "execution_count": 267,
     "metadata": {},
     "output_type": "execute_result"
    }
   ],
   "source": [
    "# pd.set_option('display.width', None)\n",
    "pd.set_option('display.max_colwidth', 40)\n",
    "df_final_print.head()"
   ],
   "metadata": {
    "collapsed": false,
    "pycharm": {
     "name": "#%%\n"
    }
   }
  },
  {
   "cell_type": "code",
   "execution_count": 268,
   "outputs": [
    {
     "name": "stderr",
     "output_type": "stream",
     "text": [
      "C:\\Users\\Chh\\AppData\\Local\\Temp\\ipykernel_5092\\1895782240.py:7: FutureWarning: In future versions `DataFrame.to_latex` is expected to utilise the base implementation of `Styler.to_latex` for formatting and rendering. The arguments signature may therefore change. It is recommended instead to use `DataFrame.style.to_latex` which also contains additional functionality.\n",
      "  f.write(df_final_print[columns_to_print].to_latex(index=False))\n"
     ]
    }
   ],
   "source": [
    "df_final_print.rename(columns = {'author':'Author'}, inplace = True)\n",
    "columns_to_print = ['Author', '#Foci', '#Subjects']\n",
    "pd.set_option('display.max_colwidth', None)  # to show all the column values (-1)\n",
    "latex_filepath = r'./latex/all_reports.txt'\n",
    "with open(latex_filepath, 'w') as f:\n",
    "    # for df in df_final_print:\n",
    "    f.write(df_final_print[columns_to_print].to_latex(index=False))\n",
    "pd.set_option('display.max_colwidth', 40)"
   ],
   "metadata": {
    "collapsed": false,
    "pycharm": {
     "name": "#%%\n"
    }
   }
  },
  {
   "cell_type": "code",
   "execution_count": 269,
   "outputs": [
    {
     "name": "stdout",
     "output_type": "stream",
     "text": [
      "Number of Subjects:  1238\n",
      "Number of Foci:  1827\n"
     ]
    }
   ],
   "source": [
    "print(\"Number of Subjects: \",df_final_print['#Subjects'].sum())\n",
    "print(\"Number of Foci: \",df_final_print['#Foci'].sum())"
   ],
   "metadata": {
    "collapsed": false,
    "pycharm": {
     "name": "#%%\n"
    }
   }
  },
  {
   "cell_type": "markdown",
   "source": [
    "## Checks"
   ],
   "metadata": {
    "collapsed": false
   }
  },
  {
   "cell_type": "markdown",
   "source": [
    "### Contrast"
   ],
   "metadata": {
    "collapsed": false
   }
  },
  {
   "cell_type": "code",
   "execution_count": 270,
   "outputs": [],
   "source": [
    "list_of_contrast_set = list(df_final['contrast_set'])"
   ],
   "metadata": {
    "collapsed": false,
    "pycharm": {
     "name": "#%%\n"
    }
   }
  },
  {
   "cell_type": "code",
   "execution_count": 271,
   "outputs": [
    {
     "data": {
      "text/plain": "77"
     },
     "execution_count": 271,
     "metadata": {},
     "output_type": "execute_result"
    }
   ],
   "source": [
    "set_all_contrasts = set()\n",
    "for s in list_of_contrast_set:\n",
    "    set_all_contrasts.update(s)\n",
    "len(set_all_contrasts)"
   ],
   "metadata": {
    "collapsed": false,
    "pycharm": {
     "name": "#%%\n"
    }
   }
  },
  {
   "cell_type": "code",
   "execution_count": 272,
   "outputs": [
    {
     "data": {
      "text/plain": "{'>nan_values<': 0,\n 'movement > no movement': 1,\n 'beautiful female > beautiful male': 1,\n 'punishment > reward': 1,\n 'stroop block > baseline': 1,\n 'beautiful male > average male': 1,\n 'ar; sr > neutral activity': 1,\n 'high reward > high loss': 1,\n 'loss after winning streak > l1': 1,\n 'disadvantageous > advantageous': 1,\n 'lose > no reward': 1,\n 'win after losing streak > w1': 1,\n 'w4 > w1': 1,\n 'expected reward > received reward and control > adhd': 1,\n '1-back > 2-back': 1,\n 'win modulation': 1,\n 'reward > negative feedback': 1,\n 'monetary reward > erotic reward': 1,\n 'beautiful faces > average faces': 1,\n 'all w > all l': 1,\n 'low-calorie and high-calorie': 1,\n 'reward during run of success': 1,\n 'decision-making > control task': 1,\n 'risky gambles > safe gambles': 1,\n 'task switching > control task': 1,\n 'high-calorie > low-calorie': 1,\n 'advantageous > disadvantageous': 1,\n 'monetary reward magnitude': 1,\n 'all female faces > all male faces': 1,\n 'precue > retrocue': 1,\n 'anticipation phase': 1,\n 'win > lose and risk > safe': 1,\n 'sub-dif > frame-dif': 1,\n 'l4 > l1': 1,\n 'movement > no movement and reward > no reward': 1,\n 'social reward magnitude': 1,\n 'retrocue > precue': 1,\n 'w1 > l1': 1,\n 'punishment > no reward': 1,\n 'safe > risk': 1,\n 'average female > average male': 1,\n 'inhibiton task > control task': 1,\n 'n-back > control task': 1,\n 'sub-id > baseline': 1,\n 'negative correlation with reward level': 1,\n 'ar switch > stay and sr switch > stay': 1,\n 'monetary reward > faces reward': 1,\n '1-back > rest': 1,\n 'reward during run of success and penalty during run of failure': 1,\n '2-back > 1-back': 1,\n 'small incentives > baseline': 1,\n 'choice > no choice': 1,\n 'penalty during run of failure': 1,\n 'reward > punishment': 1,\n 'response switch > response maintenance': 1,\n 'monetary reward > social reward': 1,\n 'low-calorie > high-calorie': 1,\n 'retrocue and precue': 1,\n 'large incentives > baseline': 1,\n 'response maintenance > response switch': 1,\n 'erotic reward > monetary reward': 1,\n 'social reward > monetary reward': 1,\n 'sub-dif > baseline': 1,\n 'lose modulation': 1,\n '2-back > 1-back > 0-back': 2,\n '3-back > 2-back > 1-back > 0-back': 2,\n 'received reward > expected reward': 2,\n 'lose > win': 2,\n 'low probability > high probability': 2,\n '3-back > 0-back': 2,\n 'high probability > low probability': 2,\n 'expected reward > received reward': 4,\n 'risk > safe': 5,\n '2-back > 0-back': 6,\n 'win > lose': 6,\n '-': 6,\n 'reward > no reward': 13,\n 'high reward > low reward': 15}"
     },
     "execution_count": 272,
     "metadata": {},
     "output_type": "execute_result"
    }
   ],
   "source": [
    "counter_contrast = data_util.df_counter(df_final.explode('contrast_set'), 'contrast_set',\n",
    "                                        set_keywords=set_all_contrasts, order=1)\n",
    "counter_contrast"
   ],
   "metadata": {
    "collapsed": false,
    "pycharm": {
     "name": "#%%\n"
    }
   }
  },
  {
   "cell_type": "markdown",
   "source": [
    "### keywords"
   ],
   "metadata": {
    "collapsed": false
   }
  },
  {
   "cell_type": "code",
   "execution_count": 273,
   "outputs": [],
   "source": [
    "list_of_keywords_set = list(df_final['keywords_split'])"
   ],
   "metadata": {
    "collapsed": false,
    "pycharm": {
     "name": "#%%\n"
    }
   }
  },
  {
   "cell_type": "code",
   "execution_count": 274,
   "outputs": [
    {
     "data": {
      "text/plain": "97"
     },
     "execution_count": 274,
     "metadata": {},
     "output_type": "execute_result"
    }
   ],
   "source": [
    "set_all_keywords = set()\n",
    "for s in list_of_keywords_set:\n",
    "    set_all_keywords.update(s)\n",
    "len(set_all_keywords)"
   ],
   "metadata": {
    "collapsed": false,
    "pycharm": {
     "name": "#%%\n"
    }
   }
  },
  {
   "cell_type": "code",
   "execution_count": 275,
   "outputs": [
    {
     "data": {
      "text/plain": "{'>nan_values<': 0,\n 'potential loss': 1,\n 'visual facial expression': 1,\n 'verbal reward': 1,\n 'increasing reward uncertainty': 1,\n 'erotic reward': 1,\n 'Stroop task': 1,\n 'high calorie': 1,\n 'perceptual matching task': 1,\n 'visual shape': 1,\n 'monetary and erotic reward': 1,\n 'inhibition': 1,\n 'effect of reward': 1,\n 'negative expectancy': 1,\n 'visual shape color': 1,\n 'probability': 1,\n 'dopamine': 1,\n 'young': 1,\n 'visual cue': 1,\n 'extraversion': 1,\n 'time effect': 1,\n 'potential gain': 1,\n 'conditioning task': 1,\n 'time conditioning': 1,\n 'visual identical shapes': 1,\n 'high vs low calorie food': 1,\n 'precue': 1,\n 'increasing reward magnitude': 1,\n 'positive expectancy': 1,\n 'fractal image': 1,\n 'reading': 1,\n 'retrocue': 1,\n 'decreasing activation': 1,\n 'increasing activation': 1,\n 'safe choice': 1,\n 'adult': 1,\n 'small incentive': 1,\n 'two and four choice reversal learning task': 1,\n 'response switching': 1,\n 'visual spatial cue': 1,\n 'visual color pies with probabilities': 1,\n 'chocolate bars': 1,\n 'cups task': 1,\n 'Sub-Id': 1,\n 'reversal learning task': 1,\n 'Sub-Dif': 1,\n 'modelling prediction error': 1,\n 'movement': 1,\n 'low calorie': 1,\n 'feedback reward': 1,\n 'high incentive': 1,\n 'experimental task': 1,\n 'visual scrambled drawings': 1,\n 'verbal': 1,\n 'response maintenance': 1,\n 'anova': 1,\n 'verbal pseudo-words': 1,\n 'visual faces': 1,\n 'reinforcement learning': 1,\n 'food': 2,\n 'visual cards': 2,\n 'SID': 2,\n 'one-back task': 2,\n 'reversal learning': 2,\n 'taste reward': 2,\n 'visual word recognition': 2,\n 'three-back task': 2,\n 'face stimuli': 2,\n 'food photo reward': 2,\n 'high gain vs high loss': 2,\n 'visual numbers': 2,\n 'Balloon Analog Risk Task': 2,\n 'context-dependent reward': 3,\n 'task switching': 3,\n 'visual object': 4,\n 'decision phase': 5,\n 'risk choice': 5,\n 'visual letters': 6,\n 'negative reward': 6,\n 'MID': 7,\n 'viewing': 7,\n 'social reward': 7,\n 'two-back task': 7,\n 'passive': 9,\n 'positive reward': 12,\n 'n-back task': 14,\n 'reward magnitude': 16,\n 'gambling': 16,\n 'performance-dependent': 16,\n 'anticipation phase': 17,\n 'working memory': 17,\n 'reward value': 19,\n 'talairach': 26,\n 'decision making': 30,\n 'outcome phase': 34,\n 'MNI': 35,\n 'monetary reward': 37,\n 'fMRI': 61}"
     },
     "execution_count": 275,
     "metadata": {},
     "output_type": "execute_result"
    }
   ],
   "source": [
    "counter_keywords = data_util.df_counter(df_final.explode('keywords_split'), 'keywords_split',\n",
    "                                        set_keywords=set_all_keywords, order=1)\n",
    "counter_keywords"
   ],
   "metadata": {
    "collapsed": false,
    "pycharm": {
     "name": "#%%\n"
    }
   }
  },
  {
   "cell_type": "markdown",
   "source": [
    "### Check contains/not contains"
   ],
   "metadata": {
    "collapsed": false
   }
  },
  {
   "cell_type": "code",
   "execution_count": 276,
   "outputs": [],
   "source": [
    "df_checks = df_final.copy()"
   ],
   "metadata": {
    "collapsed": false,
    "pycharm": {
     "name": "#%%\n"
    }
   }
  },
  {
   "cell_type": "code",
   "execution_count": 277,
   "outputs": [
    {
     "name": "stdout",
     "output_type": "stream",
     "text": [
      "    title                                                                                                                                                            author                           #Foci    #Subjects  contrast_set                                                                                                                                                                                               keywords_split\n",
      "--  ---------------------------------------------------------------------------------------------------------------------------------------------------------------  -----------------------------  -------  -----------  ---------------------------------------------------------------------------------------------------------------------------------------------------------------------------------------------------------  ----------------------------------------------------------------------------------------------------------------------------------------------------------------------------------------------------------------------------------------------------------------\n",
      " 4  Activity in human reward-sensitive brain areas is strongly context dependent                                                                                     Nieuwenhuis et al                   10           14  {'high reward > low reward'}                                                                                                                                                                               {'positive reward', 'reward magnitude', 'fMRI', 'decision making', 'gambling', 'talairach', 'outcome phase', 'context-dependent reward', 'reward value', 'monetary reward', 'high gain vs high loss'}\n",
      " 8  Anticipation of Increasing Monetary Reward Selectively Recruits Nucleus Accumbens                                                                                Knutson et al                       24            8  {'high reward > low reward', 'reward > no reward', 'punishment > no reward'}                                                                                                                               {'MID', 'fMRI', 'anticipation phase', 'performance-dependent', 'monetary reward', 'reward magnitude', 'talairach'}\n",
      " 9  Anticipation of monetary and social reward differently activates mesolimbic brain structures in men and women                                                    Spreckelmeyer et al                 64           32  {'high reward > low reward', 'reward > no reward'}                                                                                                                                                         {'MID', 'performance-dependent', 'reward value', 'SID', 'fMRI', 'anticipation phase', 'monetary reward', 'social reward', 'talairach'}\n",
      "11  Are Attractive People Rewarding - Sex Differences in the Neural Substrates of Facial Attractiveness                                                              Cloutier et al                      19           48  {'high reward > low reward'}                                                                                                                                                                               {'viewing', 'reward value', 'passive', 'face stimuli', 'fMRI', 'social reward', 'talairach', 'outcome phase'}\n",
      "14  Brain systems for assessing facial attractiveness                                                                                                                Winston et al                       15           26  {'high reward > low reward'}                                                                                                                                                                               {'MNI', 'viewing', 'reward value', 'passive', 'fMRI', 'social reward', 'decision making', 'outcome phase'}\n",
      "21  Dissociable Neural Responses in Human Reward Systems                                                                                                             Elliott et al                       19            9  {'reward during run of success and penalty during run of failure', 'penalty during run of failure', 'high reward > low reward', 'negative correlation with reward level', 'reward during run of success'}  {'positive reward', 'reward magnitude', 'fMRI', 'decision making', 'gambling', 'context-dependent reward', 'talairach', 'outcome phase', 'negative reward', 'reward value', 'monetary reward'}\n",
      "25  Dissociation of reward anticipation and outcome with event-related fMRI                                                                                          Knutson et al                       23            9  {'high reward > low reward', 'reward > no reward'}                                                                                                                                                         {'MID', 'performance-dependent', 'reward magnitude', 'outcome phase', 'fMRI', 'anticipation phase', 'monetary reward', 'talairach'}\n",
      "26  Distinct Portions of Anterior Cingulate Cortex and Medial Prefrontal Cortex Are Activated by Reward Processing in Separable Phases of Decision-Making Cognition  Rogers et al                        24           14  {'high reward > low reward', 'win > lose'}                                                                                                                                                                 {'MNI', 'positive reward', 'fMRI', 'monetary reward', 'decision making', 'gambling', 'decision phase'}\n",
      "29  Distributed Neural Representation of Expected Value                                                                                                              Knutson et al                       26           14  {'high reward > low reward', 'high probability > low probability'}                                                                                                                                         {'MID', 'performance-dependent', 'reward magnitude', 'reward value', 'fMRI', 'probability', 'monetary reward', 'anticipation phase', 'talairach'}\n",
      "31  Dorsal striatum responses to reward and punishment - Effects of valence and magnitude manipulations                                                              Delgado et al                       12           18  {'high reward > low reward'}                                                                                                                                                                               {'fMRI', 'monetary reward', 'reward magnitude', 'talairach', 'gambling', 'outcome phase'}\n",
      "32  Effort-Based Cost Benefit Valuation and the Human Brain                                                                                                          Croxson et al                        9           19  {'high reward > low reward'}                                                                                                                                                                               {'MNI', 'fMRI', 'anticipation phase', 'monetary reward', 'reward magnitude'}\n",
      "33  From uncertainty to reward - BOLD characteristics differentiate signaling pathways                                                                               Abler et al                         43           15  {'risk > safe', 'high reward > low reward', 'expected reward > received reward'}                                                                                                                           {'reward magnitude', 'modelling prediction error', 'fMRI', 'anticipation phase', 'decision making', 'outcome phase', 'increasing reward uncertainty', 'MNI', 'performance-dependent', 'reward value', 'anova', 'monetary reward', 'increasing reward magnitude'}\n",
      "44  Neural Coding of Reward-Prediction Error Signals During Classical Conditioning With Attractive Faces                                                             Signe Bray and John O'Doherty        5           23  {'high reward > low reward'}                                                                                                                                                                               {'MNI', 'viewing', 'fMRI', 'social reward', 'outcome phase', 'passive', 'face stimuli'}\n",
      "46  Neural substrates of reward magnitude, probability, and risk during a wheel of fortune decision-making task                                                      Smith et al                         14           25  {'risk > safe', 'high reward > low reward', 'low probability > high probability'}                                                                                                                          {'fMRI', 'anticipation phase', 'monetary reward', 'decision making', 'reward magnitude', 'talairach', 'gambling'}\n",
      "50  Reward Value Coding Distinct From Risk Attitude-Related Uncertainty Coding in Human Reward Systems                                                               Tobler et al                        19           16  {'high reward > low reward', 'expected reward > received reward', 'high probability > low probability'}                                                                                                    {'MNI', 'safe choice', 'performance-dependent', 'reward magnitude', 'reward value', 'fMRI', 'anticipation phase', 'monetary reward', 'decision making'}\n"
     ]
    }
   ],
   "source": [
    "############\n",
    "check_set = {'high reward > low reward'}\n",
    "mask = df_proc.check_column_elem(df=df_checks, colummn_name='contrast_set', check_set=check_set)\n",
    "with pd.option_context('display.max_colwidth', None):  # to show all the column values\n",
    "    print(tabulate(df_checks[mask], headers='keys'))"
   ],
   "metadata": {
    "collapsed": false,
    "pycharm": {
     "name": "#%%\n"
    }
   }
  },
  {
   "cell_type": "markdown",
   "source": [
    "***"
   ],
   "metadata": {
    "collapsed": false
   }
  },
  {
   "cell_type": "markdown",
   "source": [
    "## Split wm and rest"
   ],
   "metadata": {
    "collapsed": false,
    "pycharm": {
     "name": "#%% md\n"
    }
   }
  },
  {
   "cell_type": "code",
   "execution_count": 278,
   "outputs": [],
   "source": [
    "df_data = df_main.copy()\n",
    "mask_wm = df_data['keywords'].str.contains('working memory')"
   ],
   "metadata": {
    "collapsed": false,
    "pycharm": {
     "name": "#%%\n"
    }
   }
  },
  {
   "cell_type": "markdown",
   "source": [
    "### Working Memory"
   ],
   "metadata": {
    "collapsed": false
   }
  },
  {
   "cell_type": "code",
   "execution_count": 279,
   "outputs": [],
   "source": [
    "df_wm = df_data[mask_wm]"
   ],
   "metadata": {
    "collapsed": false,
    "pycharm": {
     "name": "#%%\n"
    }
   }
  },
  {
   "cell_type": "code",
   "execution_count": 280,
   "outputs": [
    {
     "data": {
      "text/plain": "17"
     },
     "execution_count": 280,
     "metadata": {},
     "output_type": "execute_result"
    }
   ],
   "source": [
    "df_wm['title'].unique().size"
   ],
   "metadata": {
    "collapsed": false,
    "pycharm": {
     "name": "#%%\n"
    }
   }
  },
  {
   "cell_type": "markdown",
   "source": [
    "#### Focis number wm - for author,title and contrast"
   ],
   "metadata": {
    "collapsed": false,
    "pycharm": {
     "name": "#%% md\n"
    }
   }
  },
  {
   "cell_type": "code",
   "execution_count": 281,
   "outputs": [
    {
     "data": {
      "text/plain": "                                     title              author  \\\n0  A Rapid fMRI Task Battery for Mappin...  Drobyshevsky et al   \n\n          contrast  #Foci  \n0  2-back > 0-back     13  ",
      "text/html": "<div>\n<style scoped>\n    .dataframe tbody tr th:only-of-type {\n        vertical-align: middle;\n    }\n\n    .dataframe tbody tr th {\n        vertical-align: top;\n    }\n\n    .dataframe thead th {\n        text-align: right;\n    }\n</style>\n<table border=\"1\" class=\"dataframe\">\n  <thead>\n    <tr style=\"text-align: right;\">\n      <th></th>\n      <th>title</th>\n      <th>author</th>\n      <th>contrast</th>\n      <th>#Foci</th>\n    </tr>\n  </thead>\n  <tbody>\n    <tr>\n      <th>0</th>\n      <td>A Rapid fMRI Task Battery for Mappin...</td>\n      <td>Drobyshevsky et al</td>\n      <td>2-back &gt; 0-back</td>\n      <td>13</td>\n    </tr>\n  </tbody>\n</table>\n</div>"
     },
     "execution_count": 281,
     "metadata": {},
     "output_type": "execute_result"
    }
   ],
   "source": [
    "df_group_focis_wm = df_wm.groupby(['title', 'author', 'contrast']\n",
    "                                  ).size().reset_index(name=\"#Foci\")\n",
    "df_group_focis_wm.head(1)"
   ],
   "metadata": {
    "collapsed": false,
    "pycharm": {
     "name": "#%%\n"
    }
   }
  },
  {
   "cell_type": "markdown",
   "source": [
    "#### Subjects number wm"
   ],
   "metadata": {
    "collapsed": false,
    "pycharm": {
     "name": "#%% md\n"
    }
   }
  },
  {
   "cell_type": "code",
   "execution_count": 282,
   "outputs": [
    {
     "data": {
      "text/plain": "                                     title                author  #Subjects  \\\n0  A Rapid fMRI Task Battery for Mappin...    Drobyshevsky et al         31   \n1  A functional neuroimaging study of m...          Taylor et al         12   \n2  Abnormal neural activity in partiall...             Lee et al         14   \n3  Alterations in the functional neural...            Cruz et al         23   \n4  An fMRI study of working memory for ...       Beneventi et al         12   \n5  Anterior cingulate cortex differentl...              Di et al         49   \n6  Anterior cingulate cortex differentl...              Di et al         49   \n7  Does caffeine modulate verbal workin...  Koppelstaetter et al         15   \n8  Frontal Hypoactivation on Functional...         Carrion et al         13   \n9  Frontal Hypoactivation on Functional...         Carrion et al         13   \n\n                   contrast  \n0           2-back > 0-back  \n1                         -  \n2             1-back > rest  \n3                         -  \n4  2-back > 1-back > 0-back  \n5           1-back > 2-back  \n6           2-back > 1-back  \n7           2-back > 0-back  \n8           2-back > 0-back  \n9           3-back > 0-back  ",
      "text/html": "<div>\n<style scoped>\n    .dataframe tbody tr th:only-of-type {\n        vertical-align: middle;\n    }\n\n    .dataframe tbody tr th {\n        vertical-align: top;\n    }\n\n    .dataframe thead th {\n        text-align: right;\n    }\n</style>\n<table border=\"1\" class=\"dataframe\">\n  <thead>\n    <tr style=\"text-align: right;\">\n      <th></th>\n      <th>title</th>\n      <th>author</th>\n      <th>#Subjects</th>\n      <th>contrast</th>\n    </tr>\n  </thead>\n  <tbody>\n    <tr>\n      <th>0</th>\n      <td>A Rapid fMRI Task Battery for Mappin...</td>\n      <td>Drobyshevsky et al</td>\n      <td>31</td>\n      <td>2-back &gt; 0-back</td>\n    </tr>\n    <tr>\n      <th>1</th>\n      <td>A functional neuroimaging study of m...</td>\n      <td>Taylor et al</td>\n      <td>12</td>\n      <td>-</td>\n    </tr>\n    <tr>\n      <th>2</th>\n      <td>Abnormal neural activity in partiall...</td>\n      <td>Lee et al</td>\n      <td>14</td>\n      <td>1-back &gt; rest</td>\n    </tr>\n    <tr>\n      <th>3</th>\n      <td>Alterations in the functional neural...</td>\n      <td>Cruz et al</td>\n      <td>23</td>\n      <td>-</td>\n    </tr>\n    <tr>\n      <th>4</th>\n      <td>An fMRI study of working memory for ...</td>\n      <td>Beneventi et al</td>\n      <td>12</td>\n      <td>2-back &gt; 1-back &gt; 0-back</td>\n    </tr>\n    <tr>\n      <th>5</th>\n      <td>Anterior cingulate cortex differentl...</td>\n      <td>Di et al</td>\n      <td>49</td>\n      <td>1-back &gt; 2-back</td>\n    </tr>\n    <tr>\n      <th>6</th>\n      <td>Anterior cingulate cortex differentl...</td>\n      <td>Di et al</td>\n      <td>49</td>\n      <td>2-back &gt; 1-back</td>\n    </tr>\n    <tr>\n      <th>7</th>\n      <td>Does caffeine modulate verbal workin...</td>\n      <td>Koppelstaetter et al</td>\n      <td>15</td>\n      <td>2-back &gt; 0-back</td>\n    </tr>\n    <tr>\n      <th>8</th>\n      <td>Frontal Hypoactivation on Functional...</td>\n      <td>Carrion et al</td>\n      <td>13</td>\n      <td>2-back &gt; 0-back</td>\n    </tr>\n    <tr>\n      <th>9</th>\n      <td>Frontal Hypoactivation on Functional...</td>\n      <td>Carrion et al</td>\n      <td>13</td>\n      <td>3-back &gt; 0-back</td>\n    </tr>\n  </tbody>\n</table>\n</div>"
     },
     "execution_count": 282,
     "metadata": {},
     "output_type": "execute_result"
    }
   ],
   "source": [
    "group_subjects_wm = df_wm.groupby(['title', 'author', 'subjects', 'contrast'])\n",
    "dict_keys_subjects_wm = group_subjects_wm.groups.keys()\n",
    "df_group_subjects_wm = pd.DataFrame.from_records([*dict_keys_subjects_wm],\n",
    "                                                 columns=['title', 'author', '#Subjects', 'contrast'])\n",
    "df_group_subjects_wm.head(10)"
   ],
   "metadata": {
    "collapsed": false,
    "pycharm": {
     "name": "#%%\n"
    }
   }
  },
  {
   "cell_type": "code",
   "execution_count": 283,
   "outputs": [
    {
     "data": {
      "text/plain": "                                     title                author  \\\n0  A Rapid fMRI Task Battery for Mappin...    Drobyshevsky et al   \n1  A functional neuroimaging study of m...          Taylor et al   \n2  Abnormal neural activity in partiall...             Lee et al   \n3  Alterations in the functional neural...            Cruz et al   \n4  An fMRI study of working memory for ...       Beneventi et al   \n5  Anterior cingulate cortex differentl...              Di et al   \n6  Anterior cingulate cortex differentl...              Di et al   \n7  Does caffeine modulate verbal workin...  Koppelstaetter et al   \n8  Frontal Hypoactivation on Functional...         Carrion et al   \n9  Frontal Hypoactivation on Functional...         Carrion et al   \n\n                   contrast  #Foci  #Subjects  \n0           2-back > 0-back     13         31  \n1                         -     23         12  \n2             1-back > rest     58         14  \n3                         -     27         23  \n4  2-back > 1-back > 0-back     24         12  \n5           1-back > 2-back     13         49  \n6           2-back > 1-back     13         49  \n7           2-back > 0-back     16         15  \n8           2-back > 0-back     16         13  \n9           3-back > 0-back     18         13  ",
      "text/html": "<div>\n<style scoped>\n    .dataframe tbody tr th:only-of-type {\n        vertical-align: middle;\n    }\n\n    .dataframe tbody tr th {\n        vertical-align: top;\n    }\n\n    .dataframe thead th {\n        text-align: right;\n    }\n</style>\n<table border=\"1\" class=\"dataframe\">\n  <thead>\n    <tr style=\"text-align: right;\">\n      <th></th>\n      <th>title</th>\n      <th>author</th>\n      <th>contrast</th>\n      <th>#Foci</th>\n      <th>#Subjects</th>\n    </tr>\n  </thead>\n  <tbody>\n    <tr>\n      <th>0</th>\n      <td>A Rapid fMRI Task Battery for Mappin...</td>\n      <td>Drobyshevsky et al</td>\n      <td>2-back &gt; 0-back</td>\n      <td>13</td>\n      <td>31</td>\n    </tr>\n    <tr>\n      <th>1</th>\n      <td>A functional neuroimaging study of m...</td>\n      <td>Taylor et al</td>\n      <td>-</td>\n      <td>23</td>\n      <td>12</td>\n    </tr>\n    <tr>\n      <th>2</th>\n      <td>Abnormal neural activity in partiall...</td>\n      <td>Lee et al</td>\n      <td>1-back &gt; rest</td>\n      <td>58</td>\n      <td>14</td>\n    </tr>\n    <tr>\n      <th>3</th>\n      <td>Alterations in the functional neural...</td>\n      <td>Cruz et al</td>\n      <td>-</td>\n      <td>27</td>\n      <td>23</td>\n    </tr>\n    <tr>\n      <th>4</th>\n      <td>An fMRI study of working memory for ...</td>\n      <td>Beneventi et al</td>\n      <td>2-back &gt; 1-back &gt; 0-back</td>\n      <td>24</td>\n      <td>12</td>\n    </tr>\n    <tr>\n      <th>5</th>\n      <td>Anterior cingulate cortex differentl...</td>\n      <td>Di et al</td>\n      <td>1-back &gt; 2-back</td>\n      <td>13</td>\n      <td>49</td>\n    </tr>\n    <tr>\n      <th>6</th>\n      <td>Anterior cingulate cortex differentl...</td>\n      <td>Di et al</td>\n      <td>2-back &gt; 1-back</td>\n      <td>13</td>\n      <td>49</td>\n    </tr>\n    <tr>\n      <th>7</th>\n      <td>Does caffeine modulate verbal workin...</td>\n      <td>Koppelstaetter et al</td>\n      <td>2-back &gt; 0-back</td>\n      <td>16</td>\n      <td>15</td>\n    </tr>\n    <tr>\n      <th>8</th>\n      <td>Frontal Hypoactivation on Functional...</td>\n      <td>Carrion et al</td>\n      <td>2-back &gt; 0-back</td>\n      <td>16</td>\n      <td>13</td>\n    </tr>\n    <tr>\n      <th>9</th>\n      <td>Frontal Hypoactivation on Functional...</td>\n      <td>Carrion et al</td>\n      <td>3-back &gt; 0-back</td>\n      <td>18</td>\n      <td>13</td>\n    </tr>\n  </tbody>\n</table>\n</div>"
     },
     "execution_count": 283,
     "metadata": {},
     "output_type": "execute_result"
    }
   ],
   "source": [
    "df_final_wm = pd.merge(df_group_focis_wm, df_group_subjects_wm[['#Subjects']], left_index=True,\n",
    "                       right_index=True)\n",
    "df_final_wm.head(10)"
   ],
   "metadata": {
    "collapsed": false,
    "pycharm": {
     "name": "#%%\n"
    }
   }
  },
  {
   "cell_type": "code",
   "execution_count": 284,
   "outputs": [
    {
     "data": {
      "text/plain": "(24, 5)"
     },
     "execution_count": 284,
     "metadata": {},
     "output_type": "execute_result"
    }
   ],
   "source": [
    "df_final_wm.shape"
   ],
   "metadata": {
    "collapsed": false,
    "pycharm": {
     "name": "#%%\n"
    }
   }
  },
  {
   "cell_type": "markdown",
   "source": [
    "## Get set of keywords"
   ],
   "metadata": {
    "collapsed": false
   }
  },
  {
   "cell_type": "code",
   "execution_count": 285,
   "outputs": [],
   "source": [
    "# get keywords and split them\n",
    "df_group_keywords_wm = df_wm.groupby(['title', 'author', 'contrast'])['keywords'].apply(lambda x: set(x)).reset_index(\n",
    "    name='keywords_set')\n",
    "# df_group_keywords_wm.head(10)\n",
    "df_group_keywords_wm['keywords_split'] = df_group_keywords_wm['keywords_set'].apply(df_proc.split_keys)"
   ],
   "metadata": {
    "collapsed": false,
    "pycharm": {
     "name": "#%%\n"
    }
   }
  },
  {
   "cell_type": "code",
   "execution_count": 286,
   "outputs": [],
   "source": [
    "# list_key_set_wm = list(df_proc.list_of_sets_to_set(df_group_keywords_wm, 'keywords_split'))\n",
    "# list_key_set_wm\n",
    "set_key_set_wm_stimulus = {'visual word recognition',\n",
    "                           # 'reading',\n",
    "                           'verbal',\n",
    "                           'verbal pseudo-words',\n",
    "                           'visual numbers',\n",
    "                           'visual shape',\n",
    "                           'visual spatial cue',\n",
    "                           'visual faces',\n",
    "                           'visual letters',\n",
    "                           'visual object',\n",
    "                           'visual shape color',\n",
    "                           'visual facial expression',\n",
    "                           'visual identical shapes',\n",
    "                           'visual scrambled drawings'}\n",
    "set_key_set_wm_modality = {'reversal learning task',\n",
    "                           # 'one-back task',\n",
    "                           # 'two-back task',\n",
    "                           # 'three-back task',\n",
    "                           'n-back task',\n",
    "                           'experimental task',\n",
    "                           'perceptual matching task'}"
   ],
   "metadata": {
    "collapsed": false,
    "pycharm": {
     "name": "#%%\n"
    }
   }
  },
  {
   "cell_type": "code",
   "execution_count": 287,
   "outputs": [],
   "source": [
    "# keep just the needed keywords\n",
    "df_group_keywords_wm['Task Modality'] = df_group_keywords_wm['keywords_split'].apply(\n",
    "    lambda x: ', '.join(x.intersection(set_key_set_wm_modality)))\n",
    "df_group_keywords_wm['Task Stimulus'] = df_group_keywords_wm['keywords_split'].apply(\n",
    "    lambda x: ', '.join(x.intersection(set_key_set_wm_stimulus)))"
   ],
   "metadata": {
    "collapsed": false,
    "pycharm": {
     "name": "#%%\n"
    }
   }
  },
  {
   "cell_type": "code",
   "execution_count": 288,
   "outputs": [
    {
     "data": {
      "text/plain": "                                     title                author  \\\n0  A Rapid fMRI Task Battery for Mappin...    Drobyshevsky et al   \n1  A functional neuroimaging study of m...          Taylor et al   \n2  Abnormal neural activity in partiall...             Lee et al   \n3  Alterations in the functional neural...            Cruz et al   \n4  An fMRI study of working memory for ...       Beneventi et al   \n5  Anterior cingulate cortex differentl...              Di et al   \n6  Anterior cingulate cortex differentl...              Di et al   \n7  Does caffeine modulate verbal workin...  Koppelstaetter et al   \n\n                   contrast                             keywords_set  \\\n0           2-back > 0-back  {fMRI; working memory; talairach; n-...   \n1                         -  {fMRI; working memory; anticipation ...   \n2             1-back > rest  {fMRI; working memory; talairach; n-...   \n3                         -  {fMRI; working memory; decision maki...   \n4  2-back > 1-back > 0-back  {fMRI; working memory; MNI; n-back t...   \n5           1-back > 2-back  {fMRI; working memory; MNI; n-back t...   \n6           2-back > 1-back  {fMRI; working memory; MNI; n-back t...   \n7           2-back > 0-back  {fMRI; working memory; talairach; n-...   \n\n                            keywords_split           Task Modality  \\\n0  {fMRI, n-back task, two-back task, w...             n-back task   \n1  {MNI, working memory, fMRI, n-back t...             n-back task   \n2  {fMRI, n-back task, working memory, ...             n-back task   \n3  {MNI, fMRI, two and four choice reve...  reversal learning task   \n4  {MNI, fMRI, n-back task, working mem...             n-back task   \n5  {MNI, fMRI, n-back task, working mem...             n-back task   \n6  {MNI, fMRI, n-back task, two-back ta...             n-back task   \n7  {fMRI, n-back task, two-back task, v...             n-back task   \n\n                             Task Stimulus  \n0                           visual letters  \n1                             visual shape  \n2                           visual numbers  \n3                  visual identical shapes  \n4  visual facial expression, visual scr...  \n5                           visual letters  \n6                           visual letters  \n7                                   verbal  ",
      "text/html": "<div>\n<style scoped>\n    .dataframe tbody tr th:only-of-type {\n        vertical-align: middle;\n    }\n\n    .dataframe tbody tr th {\n        vertical-align: top;\n    }\n\n    .dataframe thead th {\n        text-align: right;\n    }\n</style>\n<table border=\"1\" class=\"dataframe\">\n  <thead>\n    <tr style=\"text-align: right;\">\n      <th></th>\n      <th>title</th>\n      <th>author</th>\n      <th>contrast</th>\n      <th>keywords_set</th>\n      <th>keywords_split</th>\n      <th>Task Modality</th>\n      <th>Task Stimulus</th>\n    </tr>\n  </thead>\n  <tbody>\n    <tr>\n      <th>0</th>\n      <td>A Rapid fMRI Task Battery for Mappin...</td>\n      <td>Drobyshevsky et al</td>\n      <td>2-back &gt; 0-back</td>\n      <td>{fMRI; working memory; talairach; n-...</td>\n      <td>{fMRI, n-back task, two-back task, w...</td>\n      <td>n-back task</td>\n      <td>visual letters</td>\n    </tr>\n    <tr>\n      <th>1</th>\n      <td>A functional neuroimaging study of m...</td>\n      <td>Taylor et al</td>\n      <td>-</td>\n      <td>{fMRI; working memory; anticipation ...</td>\n      <td>{MNI, working memory, fMRI, n-back t...</td>\n      <td>n-back task</td>\n      <td>visual shape</td>\n    </tr>\n    <tr>\n      <th>2</th>\n      <td>Abnormal neural activity in partiall...</td>\n      <td>Lee et al</td>\n      <td>1-back &gt; rest</td>\n      <td>{fMRI; working memory; talairach; n-...</td>\n      <td>{fMRI, n-back task, working memory, ...</td>\n      <td>n-back task</td>\n      <td>visual numbers</td>\n    </tr>\n    <tr>\n      <th>3</th>\n      <td>Alterations in the functional neural...</td>\n      <td>Cruz et al</td>\n      <td>-</td>\n      <td>{fMRI; working memory; decision maki...</td>\n      <td>{MNI, fMRI, two and four choice reve...</td>\n      <td>reversal learning task</td>\n      <td>visual identical shapes</td>\n    </tr>\n    <tr>\n      <th>4</th>\n      <td>An fMRI study of working memory for ...</td>\n      <td>Beneventi et al</td>\n      <td>2-back &gt; 1-back &gt; 0-back</td>\n      <td>{fMRI; working memory; MNI; n-back t...</td>\n      <td>{MNI, fMRI, n-back task, working mem...</td>\n      <td>n-back task</td>\n      <td>visual facial expression, visual scr...</td>\n    </tr>\n    <tr>\n      <th>5</th>\n      <td>Anterior cingulate cortex differentl...</td>\n      <td>Di et al</td>\n      <td>1-back &gt; 2-back</td>\n      <td>{fMRI; working memory; MNI; n-back t...</td>\n      <td>{MNI, fMRI, n-back task, working mem...</td>\n      <td>n-back task</td>\n      <td>visual letters</td>\n    </tr>\n    <tr>\n      <th>6</th>\n      <td>Anterior cingulate cortex differentl...</td>\n      <td>Di et al</td>\n      <td>2-back &gt; 1-back</td>\n      <td>{fMRI; working memory; MNI; n-back t...</td>\n      <td>{MNI, fMRI, n-back task, two-back ta...</td>\n      <td>n-back task</td>\n      <td>visual letters</td>\n    </tr>\n    <tr>\n      <th>7</th>\n      <td>Does caffeine modulate verbal workin...</td>\n      <td>Koppelstaetter et al</td>\n      <td>2-back &gt; 0-back</td>\n      <td>{fMRI; working memory; talairach; n-...</td>\n      <td>{fMRI, n-back task, two-back task, v...</td>\n      <td>n-back task</td>\n      <td>verbal</td>\n    </tr>\n  </tbody>\n</table>\n</div>"
     },
     "execution_count": 288,
     "metadata": {},
     "output_type": "execute_result"
    }
   ],
   "source": [
    "df_group_keywords_wm.head(8)"
   ],
   "metadata": {
    "collapsed": false,
    "pycharm": {
     "name": "#%%\n"
    }
   }
  },
  {
   "cell_type": "code",
   "execution_count": 289,
   "outputs": [],
   "source": [
    "df_final_wm = pd.merge(df_final_wm, df_group_keywords_wm[['Task Modality', 'Task Stimulus']], left_index=True,\n",
    "                       right_index=True)"
   ],
   "metadata": {
    "collapsed": false,
    "pycharm": {
     "name": "#%%\n"
    }
   }
  },
  {
   "cell_type": "code",
   "execution_count": 290,
   "outputs": [
    {
     "data": {
      "text/plain": "                                      title                author  \\\n0   A Rapid fMRI Task Battery for Mappin...    Drobyshevsky et al   \n1   A functional neuroimaging study of m...          Taylor et al   \n2   Abnormal neural activity in partiall...             Lee et al   \n3   Alterations in the functional neural...            Cruz et al   \n4   An fMRI study of working memory for ...       Beneventi et al   \n5   Anterior cingulate cortex differentl...              Di et al   \n6   Anterior cingulate cortex differentl...              Di et al   \n7   Does caffeine modulate verbal workin...  Koppelstaetter et al   \n8   Frontal Hypoactivation on Functional...         Carrion et al   \n9   Frontal Hypoactivation on Functional...         Carrion et al   \n10  Inhibit  switch  and update - A with...          Rodger et al   \n\n                    contrast  #Foci  #Subjects           Task Modality  \\\n0            2-back > 0-back     13         31             n-back task   \n1                          -     23         12             n-back task   \n2              1-back > rest     58         14             n-back task   \n3                          -     27         23  reversal learning task   \n4   2-back > 1-back > 0-back     24         12             n-back task   \n5            1-back > 2-back     13         49             n-back task   \n6            2-back > 1-back     13         49             n-back task   \n7            2-back > 0-back     16         15             n-back task   \n8            2-back > 0-back     16         13             n-back task   \n9            3-back > 0-back     18         13             n-back task   \n10     n-back > control task     15         22             n-back task   \n\n                              Task Stimulus  \n0                            visual letters  \n1                              visual shape  \n2                            visual numbers  \n3                   visual identical shapes  \n4   visual facial expression, visual scr...  \n5                            visual letters  \n6                            visual letters  \n7                                    verbal  \n8                            visual numbers  \n9                            visual numbers  \n10                       visual shape color  ",
      "text/html": "<div>\n<style scoped>\n    .dataframe tbody tr th:only-of-type {\n        vertical-align: middle;\n    }\n\n    .dataframe tbody tr th {\n        vertical-align: top;\n    }\n\n    .dataframe thead th {\n        text-align: right;\n    }\n</style>\n<table border=\"1\" class=\"dataframe\">\n  <thead>\n    <tr style=\"text-align: right;\">\n      <th></th>\n      <th>title</th>\n      <th>author</th>\n      <th>contrast</th>\n      <th>#Foci</th>\n      <th>#Subjects</th>\n      <th>Task Modality</th>\n      <th>Task Stimulus</th>\n    </tr>\n  </thead>\n  <tbody>\n    <tr>\n      <th>0</th>\n      <td>A Rapid fMRI Task Battery for Mappin...</td>\n      <td>Drobyshevsky et al</td>\n      <td>2-back &gt; 0-back</td>\n      <td>13</td>\n      <td>31</td>\n      <td>n-back task</td>\n      <td>visual letters</td>\n    </tr>\n    <tr>\n      <th>1</th>\n      <td>A functional neuroimaging study of m...</td>\n      <td>Taylor et al</td>\n      <td>-</td>\n      <td>23</td>\n      <td>12</td>\n      <td>n-back task</td>\n      <td>visual shape</td>\n    </tr>\n    <tr>\n      <th>2</th>\n      <td>Abnormal neural activity in partiall...</td>\n      <td>Lee et al</td>\n      <td>1-back &gt; rest</td>\n      <td>58</td>\n      <td>14</td>\n      <td>n-back task</td>\n      <td>visual numbers</td>\n    </tr>\n    <tr>\n      <th>3</th>\n      <td>Alterations in the functional neural...</td>\n      <td>Cruz et al</td>\n      <td>-</td>\n      <td>27</td>\n      <td>23</td>\n      <td>reversal learning task</td>\n      <td>visual identical shapes</td>\n    </tr>\n    <tr>\n      <th>4</th>\n      <td>An fMRI study of working memory for ...</td>\n      <td>Beneventi et al</td>\n      <td>2-back &gt; 1-back &gt; 0-back</td>\n      <td>24</td>\n      <td>12</td>\n      <td>n-back task</td>\n      <td>visual facial expression, visual scr...</td>\n    </tr>\n    <tr>\n      <th>5</th>\n      <td>Anterior cingulate cortex differentl...</td>\n      <td>Di et al</td>\n      <td>1-back &gt; 2-back</td>\n      <td>13</td>\n      <td>49</td>\n      <td>n-back task</td>\n      <td>visual letters</td>\n    </tr>\n    <tr>\n      <th>6</th>\n      <td>Anterior cingulate cortex differentl...</td>\n      <td>Di et al</td>\n      <td>2-back &gt; 1-back</td>\n      <td>13</td>\n      <td>49</td>\n      <td>n-back task</td>\n      <td>visual letters</td>\n    </tr>\n    <tr>\n      <th>7</th>\n      <td>Does caffeine modulate verbal workin...</td>\n      <td>Koppelstaetter et al</td>\n      <td>2-back &gt; 0-back</td>\n      <td>16</td>\n      <td>15</td>\n      <td>n-back task</td>\n      <td>verbal</td>\n    </tr>\n    <tr>\n      <th>8</th>\n      <td>Frontal Hypoactivation on Functional...</td>\n      <td>Carrion et al</td>\n      <td>2-back &gt; 0-back</td>\n      <td>16</td>\n      <td>13</td>\n      <td>n-back task</td>\n      <td>visual numbers</td>\n    </tr>\n    <tr>\n      <th>9</th>\n      <td>Frontal Hypoactivation on Functional...</td>\n      <td>Carrion et al</td>\n      <td>3-back &gt; 0-back</td>\n      <td>18</td>\n      <td>13</td>\n      <td>n-back task</td>\n      <td>visual numbers</td>\n    </tr>\n    <tr>\n      <th>10</th>\n      <td>Inhibit  switch  and update - A with...</td>\n      <td>Rodger et al</td>\n      <td>n-back &gt; control task</td>\n      <td>15</td>\n      <td>22</td>\n      <td>n-back task</td>\n      <td>visual shape color</td>\n    </tr>\n  </tbody>\n</table>\n</div>"
     },
     "execution_count": 290,
     "metadata": {},
     "output_type": "execute_result"
    }
   ],
   "source": [
    "df_final_wm.head(11)"
   ],
   "metadata": {
    "collapsed": false,
    "pycharm": {
     "name": "#%%\n"
    }
   }
  },
  {
   "cell_type": "code",
   "execution_count": 290,
   "outputs": [],
   "source": [],
   "metadata": {
    "collapsed": false,
    "pycharm": {
     "name": "#%%\n"
    }
   }
  },
  {
   "cell_type": "markdown",
   "source": [
    "#### Print latex to text file - wm"
   ],
   "metadata": {
    "collapsed": false
   }
  },
  {
   "cell_type": "code",
   "execution_count": 291,
   "outputs": [
    {
     "data": {
      "text/plain": "            Author  #Foci  #Subjects                  Contrast Task Modality  \\\n4  Beneventi et al     24         12  2-back > 1-back > 0-back   n-back task   \n8    Carrion et al     16         13           2-back > 0-back   n-back task   \n\n                             Task Stimulus  \n4  visual facial expression, visual scr...  \n8                           visual numbers  ",
      "text/html": "<div>\n<style scoped>\n    .dataframe tbody tr th:only-of-type {\n        vertical-align: middle;\n    }\n\n    .dataframe tbody tr th {\n        vertical-align: top;\n    }\n\n    .dataframe thead th {\n        text-align: right;\n    }\n</style>\n<table border=\"1\" class=\"dataframe\">\n  <thead>\n    <tr style=\"text-align: right;\">\n      <th></th>\n      <th>Author</th>\n      <th>#Foci</th>\n      <th>#Subjects</th>\n      <th>Contrast</th>\n      <th>Task Modality</th>\n      <th>Task Stimulus</th>\n    </tr>\n  </thead>\n  <tbody>\n    <tr>\n      <th>4</th>\n      <td>Beneventi et al</td>\n      <td>24</td>\n      <td>12</td>\n      <td>2-back &gt; 1-back &gt; 0-back</td>\n      <td>n-back task</td>\n      <td>visual facial expression, visual scr...</td>\n    </tr>\n    <tr>\n      <th>8</th>\n      <td>Carrion et al</td>\n      <td>16</td>\n      <td>13</td>\n      <td>2-back &gt; 0-back</td>\n      <td>n-back task</td>\n      <td>visual numbers</td>\n    </tr>\n  </tbody>\n</table>\n</div>"
     },
     "execution_count": 291,
     "metadata": {},
     "output_type": "execute_result"
    }
   ],
   "source": [
    "df_final_print_wm = df_final_wm.drop(['title'], axis=1)\n",
    "df_final_print_wm = df_final_print_wm.sort_values(by=['author'])\n",
    "df_final_print_wm.rename(columns = {'author':'Author','contrast':'Contrast'}, inplace = True)\n",
    "df_final_print_wm = df_final_print_wm[['Author', '#Foci', '#Subjects', 'Contrast', 'Task Modality', 'Task Stimulus']]\n",
    "df_final_print_wm.head(2)"
   ],
   "metadata": {
    "collapsed": false,
    "pycharm": {
     "name": "#%%\n"
    }
   }
  },
  {
   "cell_type": "code",
   "execution_count": 292,
   "outputs": [
    {
     "name": "stderr",
     "output_type": "stream",
     "text": [
      "C:\\Users\\Chh\\AppData\\Local\\Temp\\ipykernel_5092\\1130413674.py:4: FutureWarning: In future versions `DataFrame.to_latex` is expected to utilise the base implementation of `Styler.to_latex` for formatting and rendering. The arguments signature may therefore change. It is recommended instead to use `DataFrame.style.to_latex` which also contains additional functionality.\n",
      "  f.write(df_final_print_wm.to_latex(index=False))\n"
     ]
    }
   ],
   "source": [
    "pd.set_option('display.max_colwidth', None)  # to show all the column values (-1)\n",
    "latex_filepath = r'./latex/wm_reports.txt'\n",
    "with open(latex_filepath, 'w') as f:\n",
    "    f.write(df_final_print_wm.to_latex(index=False))\n",
    "pd.set_option('display.max_colwidth', 40)"
   ],
   "metadata": {
    "collapsed": false,
    "pycharm": {
     "name": "#%%\n"
    }
   }
  },
  {
   "cell_type": "markdown",
   "source": [
    "### Reward magnitude and type"
   ],
   "metadata": {
    "collapsed": false
   }
  },
  {
   "cell_type": "code",
   "execution_count": 293,
   "outputs": [],
   "source": [
    "df_reward = df_data[~mask_wm]"
   ],
   "metadata": {
    "collapsed": false,
    "pycharm": {
     "name": "#%%\n"
    }
   }
  },
  {
   "cell_type": "code",
   "execution_count": 294,
   "outputs": [
    {
     "data": {
      "text/plain": "46"
     },
     "execution_count": 294,
     "metadata": {},
     "output_type": "execute_result"
    }
   ],
   "source": [
    "df_reward['title'].unique().size"
   ],
   "metadata": {
    "collapsed": false,
    "pycharm": {
     "name": "#%%\n"
    }
   }
  },
  {
   "cell_type": "code",
   "execution_count": 295,
   "outputs": [
    {
     "data": {
      "text/plain": "(1330, 26)"
     },
     "execution_count": 295,
     "metadata": {},
     "output_type": "execute_result"
    }
   ],
   "source": [
    "df_reward.shape"
   ],
   "metadata": {
    "collapsed": false,
    "pycharm": {
     "name": "#%%\n"
    }
   }
  },
  {
   "cell_type": "markdown",
   "source": [
    "#### Get set of keywords"
   ],
   "metadata": {
    "collapsed": false
   }
  },
  {
   "cell_type": "code",
   "execution_count": 296,
   "outputs": [
    {
     "name": "stderr",
     "output_type": "stream",
     "text": [
      "C:\\Users\\Chh\\AppData\\Local\\Temp\\ipykernel_5092\\3979881578.py:2: SettingWithCopyWarning: \n",
      "A value is trying to be set on a copy of a slice from a DataFrame.\n",
      "Try using .loc[row_indexer,col_indexer] = value instead\n",
      "\n",
      "See the caveats in the documentation: https://pandas.pydata.org/pandas-docs/stable/user_guide/indexing.html#returning-a-view-versus-a-copy\n",
      "  df_reward['keywords_split'] = df_reward['keywords'].apply(lambda x: df_proc.split_keys([x]))\n"
     ]
    },
    {
     "data": {
      "text/plain": "  importance          author                                    title  \\\n0         ++  Glascher et al  Determining a Role for Ventromedial ...   \n1         ++  Glascher et al  Determining a Role for Ventromedial ...   \n\n                                table_name                   contrast  \\\n0  Table 1-1 Coordinates and significan...  ar; sr > neutral activity   \n1  Table 1-1 Coordinates and significan...  ar; sr > neutral activity   \n\n                                  keywords   Name Left/Right Broadman Area  \\\n0  fMRI; decision making; outcome phase...   mofc          l            11   \n1  fMRI; decision making; outcome phase...  vmpfc          r            11   \n\n   X(R)  ...  NV  index_col  MNIX  MNIY  MNIZ   TALX    TALY    TALZ  \\\n0    -6  ... NaN          0  -6.0  24.0 -21.0 -6.436  22.720 -13.440   \n1     6  ... NaN          1   6.0  30.0  -9.0  4.724  27.408  -2.105   \n\n   significance                           keywords_split  \n0      0.000025  {MNI, reversal learning, fMRI, reinf...  \n1      0.000050  {MNI, reversal learning, fMRI, reinf...  \n\n[2 rows x 27 columns]",
      "text/html": "<div>\n<style scoped>\n    .dataframe tbody tr th:only-of-type {\n        vertical-align: middle;\n    }\n\n    .dataframe tbody tr th {\n        vertical-align: top;\n    }\n\n    .dataframe thead th {\n        text-align: right;\n    }\n</style>\n<table border=\"1\" class=\"dataframe\">\n  <thead>\n    <tr style=\"text-align: right;\">\n      <th></th>\n      <th>importance</th>\n      <th>author</th>\n      <th>title</th>\n      <th>table_name</th>\n      <th>contrast</th>\n      <th>keywords</th>\n      <th>Name</th>\n      <th>Left/Right</th>\n      <th>Broadman Area</th>\n      <th>X(R)</th>\n      <th>...</th>\n      <th>NV</th>\n      <th>index_col</th>\n      <th>MNIX</th>\n      <th>MNIY</th>\n      <th>MNIZ</th>\n      <th>TALX</th>\n      <th>TALY</th>\n      <th>TALZ</th>\n      <th>significance</th>\n      <th>keywords_split</th>\n    </tr>\n  </thead>\n  <tbody>\n    <tr>\n      <th>0</th>\n      <td>++</td>\n      <td>Glascher et al</td>\n      <td>Determining a Role for Ventromedial ...</td>\n      <td>Table 1-1 Coordinates and significan...</td>\n      <td>ar; sr &gt; neutral activity</td>\n      <td>fMRI; decision making; outcome phase...</td>\n      <td>mofc</td>\n      <td>l</td>\n      <td>11</td>\n      <td>-6</td>\n      <td>...</td>\n      <td>NaN</td>\n      <td>0</td>\n      <td>-6.0</td>\n      <td>24.0</td>\n      <td>-21.0</td>\n      <td>-6.436</td>\n      <td>22.720</td>\n      <td>-13.440</td>\n      <td>0.000025</td>\n      <td>{MNI, reversal learning, fMRI, reinf...</td>\n    </tr>\n    <tr>\n      <th>1</th>\n      <td>++</td>\n      <td>Glascher et al</td>\n      <td>Determining a Role for Ventromedial ...</td>\n      <td>Table 1-1 Coordinates and significan...</td>\n      <td>ar; sr &gt; neutral activity</td>\n      <td>fMRI; decision making; outcome phase...</td>\n      <td>vmpfc</td>\n      <td>r</td>\n      <td>11</td>\n      <td>6</td>\n      <td>...</td>\n      <td>NaN</td>\n      <td>1</td>\n      <td>6.0</td>\n      <td>30.0</td>\n      <td>-9.0</td>\n      <td>4.724</td>\n      <td>27.408</td>\n      <td>-2.105</td>\n      <td>0.000050</td>\n      <td>{MNI, reversal learning, fMRI, reinf...</td>\n    </tr>\n  </tbody>\n</table>\n<p>2 rows × 27 columns</p>\n</div>"
     },
     "execution_count": 296,
     "metadata": {},
     "output_type": "execute_result"
    }
   ],
   "source": [
    "# get keywords and split them\n",
    "df_reward['keywords_split'] = df_reward['keywords'].apply(lambda x: df_proc.split_keys([x]))\n",
    "df_reward.head(2)"
   ],
   "metadata": {
    "collapsed": false,
    "pycharm": {
     "name": "#%%\n"
    }
   }
  },
  {
   "cell_type": "markdown",
   "source": [
    "#### Create new columns"
   ],
   "metadata": {
    "collapsed": false,
    "pycharm": {
     "name": "#%% md\n"
    }
   }
  },
  {
   "cell_type": "code",
   "execution_count": 297,
   "outputs": [],
   "source": [
    "set_reward_type = {\n",
    "    'erotic reward',\n",
    "    'verbal reward',\n",
    "    'monetary and erotic reward',\n",
    "    'feedback reward',\n",
    "    'taste reward',\n",
    "    'context-dependent reward',  # maybe get it out\n",
    "    'social reward',\n",
    "    'food photo reward',\n",
    "    'monetary reward'}\n",
    "\n",
    "set_reward_contingency = {\n",
    "    # 'viewing',  ## should be where is passive\n",
    "    'passive',\n",
    "    'gambling',\n",
    "    'performance-dependent',\n",
    "    'reversal learning',\n",
    "    'n-back task'  # check this\n",
    "}\n",
    "\n",
    "set_reward_phase = {\n",
    "    'anticipation phase',\n",
    "    'decision phase',\n",
    "    'outcome phase',\n",
    "}\n",
    "\n",
    "set_reward_decision_making = {\n",
    "    'decision making'\n",
    "}"
   ],
   "metadata": {
    "collapsed": false,
    "pycharm": {
     "name": "#%%\n"
    }
   }
  },
  {
   "cell_type": "code",
   "execution_count": 298,
   "outputs": [],
   "source": [
    "set_reward_influence = {\n",
    "    'negative reward',\n",
    "    'positive reward',\n",
    "}\n",
    "set_keywords_others = {\n",
    "    'safe choice',\n",
    "    'risk choice',\n",
    "    'positive expectancy',\n",
    "    'negative expectancy',\n",
    "}"
   ],
   "metadata": {
    "collapsed": false,
    "pycharm": {
     "name": "#%%\n"
    }
   }
  },
  {
   "cell_type": "code",
   "execution_count": 299,
   "outputs": [],
   "source": [
    "df = pd.DataFrame()\n",
    "list_new_cols = ['Reward Type', 'Reward Contingency', 'Reward Phase']\n",
    "list_of_keys = [set_reward_type, set_reward_contingency, set_reward_phase]\n",
    "for col_name, set_el in zip(list_new_cols, list_of_keys):\n",
    "    df[col_name] = df_reward['keywords_split'].apply(lambda x: ', '.join(x.intersection(set_el)))"
   ],
   "metadata": {
    "collapsed": false,
    "pycharm": {
     "name": "#%%\n"
    }
   }
  },
  {
   "cell_type": "code",
   "execution_count": 300,
   "outputs": [],
   "source": [
    "df['Decision Making'] = df_reward['keywords_split'].apply(\n",
    "    lambda x: 'Choice' if set_reward_decision_making.issubset(x) else 'No Choice')"
   ],
   "metadata": {
    "collapsed": false,
    "pycharm": {
     "name": "#%%\n"
    }
   }
  },
  {
   "cell_type": "code",
   "execution_count": 301,
   "outputs": [
    {
     "data": {
      "text/plain": "  importance          author                                    title  \\\n0         ++  Glascher et al  Determining a Role for Ventromedial ...   \n1         ++  Glascher et al  Determining a Role for Ventromedial ...   \n\n                                table_name                   contrast  \\\n0  Table 1-1 Coordinates and significan...  ar; sr > neutral activity   \n1  Table 1-1 Coordinates and significan...  ar; sr > neutral activity   \n\n                                  keywords   Name Left/Right Broadman Area  \\\n0  fMRI; decision making; outcome phase...   mofc          l            11   \n1  fMRI; decision making; outcome phase...  vmpfc          r            11   \n\n   X(R)  ...  MNIZ   TALX    TALY    TALZ  significance  \\\n0    -6  ... -21.0 -6.436  22.720 -13.440      0.000025   \n1     6  ...  -9.0  4.724  27.408  -2.105      0.000050   \n\n                            keywords_split      Reward Type  \\\n0  {MNI, reversal learning, fMRI, reinf...  monetary reward   \n1  {MNI, reversal learning, fMRI, reinf...  monetary reward   \n\n   Reward Contingency   Reward Phase  Decision Making  \n0   reversal learning  outcome phase           Choice  \n1   reversal learning  outcome phase           Choice  \n\n[2 rows x 31 columns]",
      "text/html": "<div>\n<style scoped>\n    .dataframe tbody tr th:only-of-type {\n        vertical-align: middle;\n    }\n\n    .dataframe tbody tr th {\n        vertical-align: top;\n    }\n\n    .dataframe thead th {\n        text-align: right;\n    }\n</style>\n<table border=\"1\" class=\"dataframe\">\n  <thead>\n    <tr style=\"text-align: right;\">\n      <th></th>\n      <th>importance</th>\n      <th>author</th>\n      <th>title</th>\n      <th>table_name</th>\n      <th>contrast</th>\n      <th>keywords</th>\n      <th>Name</th>\n      <th>Left/Right</th>\n      <th>Broadman Area</th>\n      <th>X(R)</th>\n      <th>...</th>\n      <th>MNIZ</th>\n      <th>TALX</th>\n      <th>TALY</th>\n      <th>TALZ</th>\n      <th>significance</th>\n      <th>keywords_split</th>\n      <th>Reward Type</th>\n      <th>Reward Contingency</th>\n      <th>Reward Phase</th>\n      <th>Decision Making</th>\n    </tr>\n  </thead>\n  <tbody>\n    <tr>\n      <th>0</th>\n      <td>++</td>\n      <td>Glascher et al</td>\n      <td>Determining a Role for Ventromedial ...</td>\n      <td>Table 1-1 Coordinates and significan...</td>\n      <td>ar; sr &gt; neutral activity</td>\n      <td>fMRI; decision making; outcome phase...</td>\n      <td>mofc</td>\n      <td>l</td>\n      <td>11</td>\n      <td>-6</td>\n      <td>...</td>\n      <td>-21.0</td>\n      <td>-6.436</td>\n      <td>22.720</td>\n      <td>-13.440</td>\n      <td>0.000025</td>\n      <td>{MNI, reversal learning, fMRI, reinf...</td>\n      <td>monetary reward</td>\n      <td>reversal learning</td>\n      <td>outcome phase</td>\n      <td>Choice</td>\n    </tr>\n    <tr>\n      <th>1</th>\n      <td>++</td>\n      <td>Glascher et al</td>\n      <td>Determining a Role for Ventromedial ...</td>\n      <td>Table 1-1 Coordinates and significan...</td>\n      <td>ar; sr &gt; neutral activity</td>\n      <td>fMRI; decision making; outcome phase...</td>\n      <td>vmpfc</td>\n      <td>r</td>\n      <td>11</td>\n      <td>6</td>\n      <td>...</td>\n      <td>-9.0</td>\n      <td>4.724</td>\n      <td>27.408</td>\n      <td>-2.105</td>\n      <td>0.000050</td>\n      <td>{MNI, reversal learning, fMRI, reinf...</td>\n      <td>monetary reward</td>\n      <td>reversal learning</td>\n      <td>outcome phase</td>\n      <td>Choice</td>\n    </tr>\n  </tbody>\n</table>\n<p>2 rows × 31 columns</p>\n</div>"
     },
     "execution_count": 301,
     "metadata": {},
     "output_type": "execute_result"
    }
   ],
   "source": [
    "df.set_index(df_reward.index)\n",
    "df_reward_final = pd.merge(df_reward, df, left_index=True,\n",
    "                           right_index=True)\n",
    "df_reward_final.head(2)"
   ],
   "metadata": {
    "collapsed": false,
    "pycharm": {
     "name": "#%%\n"
    }
   }
  },
  {
   "cell_type": "code",
   "execution_count": 302,
   "outputs": [
    {
     "name": "stdout",
     "output_type": "stream",
     "text": [
      "Reward Type\n",
      "{\n",
      "  \">nan_values<\": 0,\n",
      "  \"verbal reward, monetary reward\": \"18\",\n",
      "  \"social reward, monetary reward\": \"19\",\n",
      "  \"feedback reward\": \"20\",\n",
      "  \"erotic reward\": \"20\",\n",
      "  \"monetary and erotic reward\": \"20\",\n",
      "  \"\": \"28\",\n",
      "  \"context-dependent reward, monetary reward\": \"34\",\n",
      "  \"food photo reward\": \"42\",\n",
      "  \"taste reward\": \"51\",\n",
      "  \"social reward\": \"155\",\n",
      "  \"monetary reward\": \"923\"\n",
      "}\n",
      "Reward Contingency\n",
      "{\n",
      "  \">nan_values<\": 0,\n",
      "  \"reversal learning\": \"32\",\n",
      "  \"n-back task\": \"46\",\n",
      "  \"\": \"72\",\n",
      "  \"passive\": \"210\",\n",
      "  \"gambling\": \"449\",\n",
      "  \"performance-dependent\": \"521\"\n",
      "}\n",
      "Reward Phase\n",
      "{\n",
      "  \">nan_values<\": 0,\n",
      "  \"outcome phase, anticipation phase\": \"21\",\n",
      "  \"\": \"51\",\n",
      "  \"decision phase\": \"62\",\n",
      "  \"anticipation phase\": \"356\",\n",
      "  \"outcome phase\": \"840\"\n",
      "}\n"
     ]
    }
   ],
   "source": [
    "## Check the new created keywords\n",
    "for col_name in list_new_cols:\n",
    "    counter_keywords_reward_type = data_util.df_counter(df=df_reward_final, column=col_name, order=1)\n",
    "    print(col_name)\n",
    "    print(json.dumps(counter_keywords_reward_type, indent=2, default=str))"
   ],
   "metadata": {
    "collapsed": false,
    "pycharm": {
     "name": "#%%\n"
    }
   }
  },
  {
   "cell_type": "code",
   "execution_count": 303,
   "outputs": [
    {
     "data": {
      "text/plain": "{'>nan_values<': 0, 'No Choice': 529, 'Choice': 801}"
     },
     "execution_count": 303,
     "metadata": {},
     "output_type": "execute_result"
    }
   ],
   "source": [
    "counter_keywords_reward_type = data_util.df_counter(df=df_reward_final, column='Decision Making', order=1)\n",
    "counter_keywords_reward_type"
   ],
   "metadata": {
    "collapsed": false,
    "pycharm": {
     "name": "#%%\n"
    }
   }
  },
  {
   "cell_type": "code",
   "execution_count": 304,
   "outputs": [
    {
     "data": {
      "text/plain": "                                      title                         author  \\\n28  From uncertainty to reward - BOLD ch...                    Abler et al   \n7   Beautiful Faces Have Variable Reward...                   Aharon et al   \n10  Context-dependent cortical activatio...                 Akitsuki et al   \n41  Right Ventromedial and Dorsolateral ...               Christakou et al   \n6   Are Attractive People Rewarding - Se...                 Cloutier et al   \n30  Individual differences in extraversi...                    Cohen et al   \n35  Learning to Like  A Role for Human O...                      Cox et al   \n27  Effort-Based Cost Benefit Valuation ...                  Croxson et al   \n26  Dorsal striatum responses to reward ...                  Delgado et al   \n46  Tracking the Hemodynamic Responses t...                  Delgado et al   \n15  Differential Response Patterns in th...                  Elliott et al   \n16  Dissociable Neural Responses in Huma...                  Elliott et al   \n33  Instrumental responding for rewards ...                  Elliott et al   \n44  Segregated and Integrated Coding of ...                 Fujiwara et al   \n13  Determining a Role for Ventromedial ...                 Glascher et al   \n34  Is our self based on reward - Self-r...                    Greck et al   \n43  Role of the Medial Prefrontal Cortex...                   Hauser et al   \n14  Developmental effects of decision-ma...                   Jarcho et al   \n17  Dissociating Valence of Outcome from...                 John O Doherty   \n18  Dissociating Valence of Outcome from...                 John O Doherty   \n38  Neural Responses during Anticipation...           John O Doherty et al   \n11  Cortical and limbic activation durin...                 Killgore et al   \n5   Anticipation of reward in a nonavers...                   Kirscg et al   \n25  Distributed Neural Representation of...                  Knutson et al   \n1   A region of mesial prefrontal cortex...                  Knutson et al   \n21  Dissociation of reward anticipation ...                  Knutson et al   \n3   Anticipation of Increasing Monetary ...                  Knutson et al   \n31  Individual preferences modulate ince...                  Koeneke et al   \n42  Risky Decision Making - Prefrontal C...                    Kohno et al   \n23  Distinct Roles of Prefrontal Cortica...                 Lawrence et al   \n2   Activity in human reward-sensitive b...              Nieuwenhuis et al   \n20  Dissociation of neural networks for ...               Rademacher et al   \n32  Inhibit  switch  and update - A with...                   Rodger et al   \n22  Distinct Portions of Anterior Cingul...                   Rogers et al   \n36  Monetary reward magnitude effects on...             Rosell-Negre et al   \n8   Binge-Eating Disorder  Reward Sensit...                 Schienle et al   \n12  Decreasing ventromedial prefrontal c...                Schonberg et al   \n45  The Architecture of Reward Value Cod...                Sescousse et al   \n37  Neural Coding of Reward-Prediction E...  Signe Bray and John O'Doherty   \n24  Distinct Value Signals in Anterior a...                    Smith et al   \n39  Neural substrates of reward magnitud...                    Smith et al   \n4   Anticipation of monetary and social ...            Spreckelmeyer et al   \n0   A functional neuroimaging study of m...                   Taylor et al   \n40  Reward Value Coding Distinct From Ri...                   Tobler et al   \n19  Dissociating contributions of ACC an...                  Vassena et al   \n9   Brain systems for assessing facial a...                  Winston et al   \n29  Functional Dissociations of Risk and...                      Xue et al   \n\n       Reward Contingency  #Foci  \n28  performance-dependent     43  \n7                 passive     51  \n10               gambling     35  \n41               gambling     13  \n6                 passive     19  \n30  performance-dependent     39  \n35               gambling     28  \n27                             9  \n26               gambling     12  \n46               gambling     32  \n15  performance-dependent     16  \n16               gambling     19  \n33  performance-dependent     21  \n44  performance-dependent     23  \n13      reversal learning     20  \n34               gambling     20  \n43      reversal learning     12  \n14                            63  \n17                passive      6  \n18  performance-dependent     42  \n38                passive     18  \n11                passive     30  \n5   performance-dependent     56  \n25  performance-dependent     26  \n1   performance-dependent     21  \n21  performance-dependent     23  \n3   performance-dependent     24  \n31               gambling     33  \n42               gambling     14  \n23               gambling     37  \n2                gambling     10  \n20  performance-dependent     47  \n32            n-back task     28  \n22               gambling     24  \n36  performance-dependent     11  \n8                 passive     12  \n12               gambling     28  \n45  performance-dependent     46  \n37                passive      5  \n24                passive     54  \n39               gambling     14  \n4   performance-dependent     64  \n0             n-back task     18  \n40  performance-dependent     19  \n19               gambling     78  \n9                 passive     15  \n29               gambling     52  ",
      "text/html": "<div>\n<style scoped>\n    .dataframe tbody tr th:only-of-type {\n        vertical-align: middle;\n    }\n\n    .dataframe tbody tr th {\n        vertical-align: top;\n    }\n\n    .dataframe thead th {\n        text-align: right;\n    }\n</style>\n<table border=\"1\" class=\"dataframe\">\n  <thead>\n    <tr style=\"text-align: right;\">\n      <th></th>\n      <th>title</th>\n      <th>author</th>\n      <th>Reward Contingency</th>\n      <th>#Foci</th>\n    </tr>\n  </thead>\n  <tbody>\n    <tr>\n      <th>28</th>\n      <td>From uncertainty to reward - BOLD ch...</td>\n      <td>Abler et al</td>\n      <td>performance-dependent</td>\n      <td>43</td>\n    </tr>\n    <tr>\n      <th>7</th>\n      <td>Beautiful Faces Have Variable Reward...</td>\n      <td>Aharon et al</td>\n      <td>passive</td>\n      <td>51</td>\n    </tr>\n    <tr>\n      <th>10</th>\n      <td>Context-dependent cortical activatio...</td>\n      <td>Akitsuki et al</td>\n      <td>gambling</td>\n      <td>35</td>\n    </tr>\n    <tr>\n      <th>41</th>\n      <td>Right Ventromedial and Dorsolateral ...</td>\n      <td>Christakou et al</td>\n      <td>gambling</td>\n      <td>13</td>\n    </tr>\n    <tr>\n      <th>6</th>\n      <td>Are Attractive People Rewarding - Se...</td>\n      <td>Cloutier et al</td>\n      <td>passive</td>\n      <td>19</td>\n    </tr>\n    <tr>\n      <th>30</th>\n      <td>Individual differences in extraversi...</td>\n      <td>Cohen et al</td>\n      <td>performance-dependent</td>\n      <td>39</td>\n    </tr>\n    <tr>\n      <th>35</th>\n      <td>Learning to Like  A Role for Human O...</td>\n      <td>Cox et al</td>\n      <td>gambling</td>\n      <td>28</td>\n    </tr>\n    <tr>\n      <th>27</th>\n      <td>Effort-Based Cost Benefit Valuation ...</td>\n      <td>Croxson et al</td>\n      <td></td>\n      <td>9</td>\n    </tr>\n    <tr>\n      <th>26</th>\n      <td>Dorsal striatum responses to reward ...</td>\n      <td>Delgado et al</td>\n      <td>gambling</td>\n      <td>12</td>\n    </tr>\n    <tr>\n      <th>46</th>\n      <td>Tracking the Hemodynamic Responses t...</td>\n      <td>Delgado et al</td>\n      <td>gambling</td>\n      <td>32</td>\n    </tr>\n    <tr>\n      <th>15</th>\n      <td>Differential Response Patterns in th...</td>\n      <td>Elliott et al</td>\n      <td>performance-dependent</td>\n      <td>16</td>\n    </tr>\n    <tr>\n      <th>16</th>\n      <td>Dissociable Neural Responses in Huma...</td>\n      <td>Elliott et al</td>\n      <td>gambling</td>\n      <td>19</td>\n    </tr>\n    <tr>\n      <th>33</th>\n      <td>Instrumental responding for rewards ...</td>\n      <td>Elliott et al</td>\n      <td>performance-dependent</td>\n      <td>21</td>\n    </tr>\n    <tr>\n      <th>44</th>\n      <td>Segregated and Integrated Coding of ...</td>\n      <td>Fujiwara et al</td>\n      <td>performance-dependent</td>\n      <td>23</td>\n    </tr>\n    <tr>\n      <th>13</th>\n      <td>Determining a Role for Ventromedial ...</td>\n      <td>Glascher et al</td>\n      <td>reversal learning</td>\n      <td>20</td>\n    </tr>\n    <tr>\n      <th>34</th>\n      <td>Is our self based on reward - Self-r...</td>\n      <td>Greck et al</td>\n      <td>gambling</td>\n      <td>20</td>\n    </tr>\n    <tr>\n      <th>43</th>\n      <td>Role of the Medial Prefrontal Cortex...</td>\n      <td>Hauser et al</td>\n      <td>reversal learning</td>\n      <td>12</td>\n    </tr>\n    <tr>\n      <th>14</th>\n      <td>Developmental effects of decision-ma...</td>\n      <td>Jarcho et al</td>\n      <td></td>\n      <td>63</td>\n    </tr>\n    <tr>\n      <th>17</th>\n      <td>Dissociating Valence of Outcome from...</td>\n      <td>John O Doherty</td>\n      <td>passive</td>\n      <td>6</td>\n    </tr>\n    <tr>\n      <th>18</th>\n      <td>Dissociating Valence of Outcome from...</td>\n      <td>John O Doherty</td>\n      <td>performance-dependent</td>\n      <td>42</td>\n    </tr>\n    <tr>\n      <th>38</th>\n      <td>Neural Responses during Anticipation...</td>\n      <td>John O Doherty et al</td>\n      <td>passive</td>\n      <td>18</td>\n    </tr>\n    <tr>\n      <th>11</th>\n      <td>Cortical and limbic activation durin...</td>\n      <td>Killgore et al</td>\n      <td>passive</td>\n      <td>30</td>\n    </tr>\n    <tr>\n      <th>5</th>\n      <td>Anticipation of reward in a nonavers...</td>\n      <td>Kirscg et al</td>\n      <td>performance-dependent</td>\n      <td>56</td>\n    </tr>\n    <tr>\n      <th>25</th>\n      <td>Distributed Neural Representation of...</td>\n      <td>Knutson et al</td>\n      <td>performance-dependent</td>\n      <td>26</td>\n    </tr>\n    <tr>\n      <th>1</th>\n      <td>A region of mesial prefrontal cortex...</td>\n      <td>Knutson et al</td>\n      <td>performance-dependent</td>\n      <td>21</td>\n    </tr>\n    <tr>\n      <th>21</th>\n      <td>Dissociation of reward anticipation ...</td>\n      <td>Knutson et al</td>\n      <td>performance-dependent</td>\n      <td>23</td>\n    </tr>\n    <tr>\n      <th>3</th>\n      <td>Anticipation of Increasing Monetary ...</td>\n      <td>Knutson et al</td>\n      <td>performance-dependent</td>\n      <td>24</td>\n    </tr>\n    <tr>\n      <th>31</th>\n      <td>Individual preferences modulate ince...</td>\n      <td>Koeneke et al</td>\n      <td>gambling</td>\n      <td>33</td>\n    </tr>\n    <tr>\n      <th>42</th>\n      <td>Risky Decision Making - Prefrontal C...</td>\n      <td>Kohno et al</td>\n      <td>gambling</td>\n      <td>14</td>\n    </tr>\n    <tr>\n      <th>23</th>\n      <td>Distinct Roles of Prefrontal Cortica...</td>\n      <td>Lawrence et al</td>\n      <td>gambling</td>\n      <td>37</td>\n    </tr>\n    <tr>\n      <th>2</th>\n      <td>Activity in human reward-sensitive b...</td>\n      <td>Nieuwenhuis et al</td>\n      <td>gambling</td>\n      <td>10</td>\n    </tr>\n    <tr>\n      <th>20</th>\n      <td>Dissociation of neural networks for ...</td>\n      <td>Rademacher et al</td>\n      <td>performance-dependent</td>\n      <td>47</td>\n    </tr>\n    <tr>\n      <th>32</th>\n      <td>Inhibit  switch  and update - A with...</td>\n      <td>Rodger et al</td>\n      <td>n-back task</td>\n      <td>28</td>\n    </tr>\n    <tr>\n      <th>22</th>\n      <td>Distinct Portions of Anterior Cingul...</td>\n      <td>Rogers et al</td>\n      <td>gambling</td>\n      <td>24</td>\n    </tr>\n    <tr>\n      <th>36</th>\n      <td>Monetary reward magnitude effects on...</td>\n      <td>Rosell-Negre et al</td>\n      <td>performance-dependent</td>\n      <td>11</td>\n    </tr>\n    <tr>\n      <th>8</th>\n      <td>Binge-Eating Disorder  Reward Sensit...</td>\n      <td>Schienle et al</td>\n      <td>passive</td>\n      <td>12</td>\n    </tr>\n    <tr>\n      <th>12</th>\n      <td>Decreasing ventromedial prefrontal c...</td>\n      <td>Schonberg et al</td>\n      <td>gambling</td>\n      <td>28</td>\n    </tr>\n    <tr>\n      <th>45</th>\n      <td>The Architecture of Reward Value Cod...</td>\n      <td>Sescousse et al</td>\n      <td>performance-dependent</td>\n      <td>46</td>\n    </tr>\n    <tr>\n      <th>37</th>\n      <td>Neural Coding of Reward-Prediction E...</td>\n      <td>Signe Bray and John O'Doherty</td>\n      <td>passive</td>\n      <td>5</td>\n    </tr>\n    <tr>\n      <th>24</th>\n      <td>Distinct Value Signals in Anterior a...</td>\n      <td>Smith et al</td>\n      <td>passive</td>\n      <td>54</td>\n    </tr>\n    <tr>\n      <th>39</th>\n      <td>Neural substrates of reward magnitud...</td>\n      <td>Smith et al</td>\n      <td>gambling</td>\n      <td>14</td>\n    </tr>\n    <tr>\n      <th>4</th>\n      <td>Anticipation of monetary and social ...</td>\n      <td>Spreckelmeyer et al</td>\n      <td>performance-dependent</td>\n      <td>64</td>\n    </tr>\n    <tr>\n      <th>0</th>\n      <td>A functional neuroimaging study of m...</td>\n      <td>Taylor et al</td>\n      <td>n-back task</td>\n      <td>18</td>\n    </tr>\n    <tr>\n      <th>40</th>\n      <td>Reward Value Coding Distinct From Ri...</td>\n      <td>Tobler et al</td>\n      <td>performance-dependent</td>\n      <td>19</td>\n    </tr>\n    <tr>\n      <th>19</th>\n      <td>Dissociating contributions of ACC an...</td>\n      <td>Vassena et al</td>\n      <td>gambling</td>\n      <td>78</td>\n    </tr>\n    <tr>\n      <th>9</th>\n      <td>Brain systems for assessing facial a...</td>\n      <td>Winston et al</td>\n      <td>passive</td>\n      <td>15</td>\n    </tr>\n    <tr>\n      <th>29</th>\n      <td>Functional Dissociations of Risk and...</td>\n      <td>Xue et al</td>\n      <td>gambling</td>\n      <td>52</td>\n    </tr>\n  </tbody>\n</table>\n</div>"
     },
     "execution_count": 304,
     "metadata": {},
     "output_type": "execute_result"
    }
   ],
   "source": [
    "df = df_reward_final.groupby(['title', 'author', \"Reward Contingency\"]).size().reset_index(name=\"#Foci\")\n",
    "df.sort_values(by=['author'])"
   ],
   "metadata": {
    "collapsed": false,
    "pycharm": {
     "name": "#%%\n"
    }
   }
  },
  {
   "cell_type": "code",
   "execution_count": 305,
   "outputs": [
    {
     "data": {
      "text/plain": "                                      title                         author  \\\n38  From uncertainty to reward - BOLD ch...                    Abler et al   \n37  From uncertainty to reward - BOLD ch...                    Abler et al   \n36  From uncertainty to reward - BOLD ch...                    Abler et al   \n10  Beautiful Faces Have Variable Reward...                   Aharon et al   \n13  Context-dependent cortical activatio...                 Akitsuki et al   \n54  Right Ventromedial and Dorsolateral ...               Christakou et al   \n9   Are Attractive People Rewarding - Se...                 Cloutier et al   \n41  Individual differences in extraversi...                    Cohen et al   \n40  Individual differences in extraversi...                    Cohen et al   \n47  Learning to Like  A Role for Human O...                      Cox et al   \n35  Effort-Based Cost Benefit Valuation ...                  Croxson et al   \n34  Dorsal striatum responses to reward ...                  Delgado et al   \n59  Tracking the Hemodynamic Responses t...                  Delgado et al   \n20  Differential Response Patterns in th...                  Elliott et al   \n21  Dissociable Neural Responses in Huma...                  Elliott et al   \n45  Instrumental responding for rewards ...                  Elliott et al   \n57  Segregated and Integrated Coding of ...                 Fujiwara et al   \n17  Determining a Role for Ventromedial ...                 Glascher et al   \n46  Is our self based on reward - Self-r...                    Greck et al   \n56  Role of the Medial Prefrontal Cortex...                   Hauser et al   \n18  Developmental effects of decision-ma...                   Jarcho et al   \n19  Developmental effects of decision-ma...                   Jarcho et al   \n22  Dissociating Valence of Outcome from...                 John O Doherty   \n50  Neural Responses during Anticipation...           John O Doherty et al   \n51  Neural Responses during Anticipation...           John O Doherty et al   \n14  Cortical and limbic activation durin...                 Killgore et al   \n8   Anticipation of reward in a nonavers...                   Kirscg et al   \n28  Dissociation of reward anticipation ...                  Knutson et al   \n33  Distributed Neural Representation of...                  Knutson et al   \n4   A region of mesial prefrontal cortex...                  Knutson et al   \n3   A region of mesial prefrontal cortex...                  Knutson et al   \n6   Anticipation of Increasing Monetary ...                  Knutson et al   \n27  Dissociation of reward anticipation ...                  Knutson et al   \n43  Individual preferences modulate ince...                  Koeneke et al   \n42  Individual preferences modulate ince...                  Koeneke et al   \n55  Risky Decision Making - Prefrontal C...                    Kohno et al   \n30  Distinct Roles of Prefrontal Cortica...                 Lawrence et al   \n31  Distinct Roles of Prefrontal Cortica...                 Lawrence et al   \n5   Activity in human reward-sensitive b...              Nieuwenhuis et al   \n25  Dissociation of neural networks for ...               Rademacher et al   \n26  Dissociation of neural networks for ...               Rademacher et al   \n44  Inhibit  switch  and update - A with...                   Rodger et al   \n29  Distinct Portions of Anterior Cingul...                   Rogers et al   \n48  Monetary reward magnitude effects on...             Rosell-Negre et al   \n11  Binge-Eating Disorder  Reward Sensit...                 Schienle et al   \n16  Decreasing ventromedial prefrontal c...                Schonberg et al   \n15  Decreasing ventromedial prefrontal c...                Schonberg et al   \n58  The Architecture of Reward Value Cod...                Sescousse et al   \n49  Neural Coding of Reward-Prediction E...  Signe Bray and John O'Doherty   \n32  Distinct Value Signals in Anterior a...                    Smith et al   \n52  Neural substrates of reward magnitud...                    Smith et al   \n7   Anticipation of monetary and social ...            Spreckelmeyer et al   \n1   A functional neuroimaging study of m...                   Taylor et al   \n2   A functional neuroimaging study of m...                   Taylor et al   \n0   A functional neuroimaging study of m...                   Taylor et al   \n53  Reward Value Coding Distinct From Ri...                   Tobler et al   \n23  Dissociating contributions of ACC an...                  Vassena et al   \n24  Dissociating contributions of ACC an...                  Vassena et al   \n12  Brain systems for assessing facial a...                  Winston et al   \n39  Functional Dissociations of Risk and...                      Xue et al   \n\n                         Reward Phase  #Foci  \n38  outcome phase, anticipation phase     21  \n37                      outcome phase      5  \n36                 anticipation phase     17  \n10                      outcome phase     51  \n13                      outcome phase     35  \n54                      outcome phase     13  \n9                       outcome phase     19  \n41                      outcome phase     25  \n40                 anticipation phase     14  \n47                      outcome phase     28  \n35                 anticipation phase      9  \n34                      outcome phase     12  \n59                      outcome phase     32  \n20                      outcome phase     16  \n21                      outcome phase     19  \n45                      outcome phase     21  \n57                      outcome phase     23  \n17                      outcome phase     20  \n46                      outcome phase     20  \n56                      outcome phase     12  \n18                 anticipation phase     22  \n19                      outcome phase     41  \n22                      outcome phase     48  \n50                 anticipation phase     13  \n51                      outcome phase      5  \n14                      outcome phase     30  \n8                  anticipation phase     56  \n28                      outcome phase     10  \n33                 anticipation phase     26  \n4                       outcome phase      4  \n3                  anticipation phase     17  \n6                  anticipation phase     24  \n27                 anticipation phase     13  \n43                      outcome phase     28  \n42                 anticipation phase      5  \n55                                        14  \n30                     decision phase      5  \n31                      outcome phase     32  \n5                       outcome phase     10  \n25                 anticipation phase     26  \n26                      outcome phase     21  \n44                                        28  \n29                     decision phase     24  \n48                 anticipation phase     11  \n11                      outcome phase     12  \n16                      outcome phase     11  \n15                     decision phase     17  \n58                      outcome phase     46  \n49                      outcome phase      5  \n32                      outcome phase     54  \n52                 anticipation phase     14  \n7                  anticipation phase     64  \n1                  anticipation phase      6  \n2                      decision phase      3  \n0                                          9  \n53                 anticipation phase     19  \n23                     decision phase     13  \n24                      outcome phase     65  \n12                      outcome phase     15  \n39                      outcome phase     52  ",
      "text/html": "<div>\n<style scoped>\n    .dataframe tbody tr th:only-of-type {\n        vertical-align: middle;\n    }\n\n    .dataframe tbody tr th {\n        vertical-align: top;\n    }\n\n    .dataframe thead th {\n        text-align: right;\n    }\n</style>\n<table border=\"1\" class=\"dataframe\">\n  <thead>\n    <tr style=\"text-align: right;\">\n      <th></th>\n      <th>title</th>\n      <th>author</th>\n      <th>Reward Phase</th>\n      <th>#Foci</th>\n    </tr>\n  </thead>\n  <tbody>\n    <tr>\n      <th>38</th>\n      <td>From uncertainty to reward - BOLD ch...</td>\n      <td>Abler et al</td>\n      <td>outcome phase, anticipation phase</td>\n      <td>21</td>\n    </tr>\n    <tr>\n      <th>37</th>\n      <td>From uncertainty to reward - BOLD ch...</td>\n      <td>Abler et al</td>\n      <td>outcome phase</td>\n      <td>5</td>\n    </tr>\n    <tr>\n      <th>36</th>\n      <td>From uncertainty to reward - BOLD ch...</td>\n      <td>Abler et al</td>\n      <td>anticipation phase</td>\n      <td>17</td>\n    </tr>\n    <tr>\n      <th>10</th>\n      <td>Beautiful Faces Have Variable Reward...</td>\n      <td>Aharon et al</td>\n      <td>outcome phase</td>\n      <td>51</td>\n    </tr>\n    <tr>\n      <th>13</th>\n      <td>Context-dependent cortical activatio...</td>\n      <td>Akitsuki et al</td>\n      <td>outcome phase</td>\n      <td>35</td>\n    </tr>\n    <tr>\n      <th>54</th>\n      <td>Right Ventromedial and Dorsolateral ...</td>\n      <td>Christakou et al</td>\n      <td>outcome phase</td>\n      <td>13</td>\n    </tr>\n    <tr>\n      <th>9</th>\n      <td>Are Attractive People Rewarding - Se...</td>\n      <td>Cloutier et al</td>\n      <td>outcome phase</td>\n      <td>19</td>\n    </tr>\n    <tr>\n      <th>41</th>\n      <td>Individual differences in extraversi...</td>\n      <td>Cohen et al</td>\n      <td>outcome phase</td>\n      <td>25</td>\n    </tr>\n    <tr>\n      <th>40</th>\n      <td>Individual differences in extraversi...</td>\n      <td>Cohen et al</td>\n      <td>anticipation phase</td>\n      <td>14</td>\n    </tr>\n    <tr>\n      <th>47</th>\n      <td>Learning to Like  A Role for Human O...</td>\n      <td>Cox et al</td>\n      <td>outcome phase</td>\n      <td>28</td>\n    </tr>\n    <tr>\n      <th>35</th>\n      <td>Effort-Based Cost Benefit Valuation ...</td>\n      <td>Croxson et al</td>\n      <td>anticipation phase</td>\n      <td>9</td>\n    </tr>\n    <tr>\n      <th>34</th>\n      <td>Dorsal striatum responses to reward ...</td>\n      <td>Delgado et al</td>\n      <td>outcome phase</td>\n      <td>12</td>\n    </tr>\n    <tr>\n      <th>59</th>\n      <td>Tracking the Hemodynamic Responses t...</td>\n      <td>Delgado et al</td>\n      <td>outcome phase</td>\n      <td>32</td>\n    </tr>\n    <tr>\n      <th>20</th>\n      <td>Differential Response Patterns in th...</td>\n      <td>Elliott et al</td>\n      <td>outcome phase</td>\n      <td>16</td>\n    </tr>\n    <tr>\n      <th>21</th>\n      <td>Dissociable Neural Responses in Huma...</td>\n      <td>Elliott et al</td>\n      <td>outcome phase</td>\n      <td>19</td>\n    </tr>\n    <tr>\n      <th>45</th>\n      <td>Instrumental responding for rewards ...</td>\n      <td>Elliott et al</td>\n      <td>outcome phase</td>\n      <td>21</td>\n    </tr>\n    <tr>\n      <th>57</th>\n      <td>Segregated and Integrated Coding of ...</td>\n      <td>Fujiwara et al</td>\n      <td>outcome phase</td>\n      <td>23</td>\n    </tr>\n    <tr>\n      <th>17</th>\n      <td>Determining a Role for Ventromedial ...</td>\n      <td>Glascher et al</td>\n      <td>outcome phase</td>\n      <td>20</td>\n    </tr>\n    <tr>\n      <th>46</th>\n      <td>Is our self based on reward - Self-r...</td>\n      <td>Greck et al</td>\n      <td>outcome phase</td>\n      <td>20</td>\n    </tr>\n    <tr>\n      <th>56</th>\n      <td>Role of the Medial Prefrontal Cortex...</td>\n      <td>Hauser et al</td>\n      <td>outcome phase</td>\n      <td>12</td>\n    </tr>\n    <tr>\n      <th>18</th>\n      <td>Developmental effects of decision-ma...</td>\n      <td>Jarcho et al</td>\n      <td>anticipation phase</td>\n      <td>22</td>\n    </tr>\n    <tr>\n      <th>19</th>\n      <td>Developmental effects of decision-ma...</td>\n      <td>Jarcho et al</td>\n      <td>outcome phase</td>\n      <td>41</td>\n    </tr>\n    <tr>\n      <th>22</th>\n      <td>Dissociating Valence of Outcome from...</td>\n      <td>John O Doherty</td>\n      <td>outcome phase</td>\n      <td>48</td>\n    </tr>\n    <tr>\n      <th>50</th>\n      <td>Neural Responses during Anticipation...</td>\n      <td>John O Doherty et al</td>\n      <td>anticipation phase</td>\n      <td>13</td>\n    </tr>\n    <tr>\n      <th>51</th>\n      <td>Neural Responses during Anticipation...</td>\n      <td>John O Doherty et al</td>\n      <td>outcome phase</td>\n      <td>5</td>\n    </tr>\n    <tr>\n      <th>14</th>\n      <td>Cortical and limbic activation durin...</td>\n      <td>Killgore et al</td>\n      <td>outcome phase</td>\n      <td>30</td>\n    </tr>\n    <tr>\n      <th>8</th>\n      <td>Anticipation of reward in a nonavers...</td>\n      <td>Kirscg et al</td>\n      <td>anticipation phase</td>\n      <td>56</td>\n    </tr>\n    <tr>\n      <th>28</th>\n      <td>Dissociation of reward anticipation ...</td>\n      <td>Knutson et al</td>\n      <td>outcome phase</td>\n      <td>10</td>\n    </tr>\n    <tr>\n      <th>33</th>\n      <td>Distributed Neural Representation of...</td>\n      <td>Knutson et al</td>\n      <td>anticipation phase</td>\n      <td>26</td>\n    </tr>\n    <tr>\n      <th>4</th>\n      <td>A region of mesial prefrontal cortex...</td>\n      <td>Knutson et al</td>\n      <td>outcome phase</td>\n      <td>4</td>\n    </tr>\n    <tr>\n      <th>3</th>\n      <td>A region of mesial prefrontal cortex...</td>\n      <td>Knutson et al</td>\n      <td>anticipation phase</td>\n      <td>17</td>\n    </tr>\n    <tr>\n      <th>6</th>\n      <td>Anticipation of Increasing Monetary ...</td>\n      <td>Knutson et al</td>\n      <td>anticipation phase</td>\n      <td>24</td>\n    </tr>\n    <tr>\n      <th>27</th>\n      <td>Dissociation of reward anticipation ...</td>\n      <td>Knutson et al</td>\n      <td>anticipation phase</td>\n      <td>13</td>\n    </tr>\n    <tr>\n      <th>43</th>\n      <td>Individual preferences modulate ince...</td>\n      <td>Koeneke et al</td>\n      <td>outcome phase</td>\n      <td>28</td>\n    </tr>\n    <tr>\n      <th>42</th>\n      <td>Individual preferences modulate ince...</td>\n      <td>Koeneke et al</td>\n      <td>anticipation phase</td>\n      <td>5</td>\n    </tr>\n    <tr>\n      <th>55</th>\n      <td>Risky Decision Making - Prefrontal C...</td>\n      <td>Kohno et al</td>\n      <td></td>\n      <td>14</td>\n    </tr>\n    <tr>\n      <th>30</th>\n      <td>Distinct Roles of Prefrontal Cortica...</td>\n      <td>Lawrence et al</td>\n      <td>decision phase</td>\n      <td>5</td>\n    </tr>\n    <tr>\n      <th>31</th>\n      <td>Distinct Roles of Prefrontal Cortica...</td>\n      <td>Lawrence et al</td>\n      <td>outcome phase</td>\n      <td>32</td>\n    </tr>\n    <tr>\n      <th>5</th>\n      <td>Activity in human reward-sensitive b...</td>\n      <td>Nieuwenhuis et al</td>\n      <td>outcome phase</td>\n      <td>10</td>\n    </tr>\n    <tr>\n      <th>25</th>\n      <td>Dissociation of neural networks for ...</td>\n      <td>Rademacher et al</td>\n      <td>anticipation phase</td>\n      <td>26</td>\n    </tr>\n    <tr>\n      <th>26</th>\n      <td>Dissociation of neural networks for ...</td>\n      <td>Rademacher et al</td>\n      <td>outcome phase</td>\n      <td>21</td>\n    </tr>\n    <tr>\n      <th>44</th>\n      <td>Inhibit  switch  and update - A with...</td>\n      <td>Rodger et al</td>\n      <td></td>\n      <td>28</td>\n    </tr>\n    <tr>\n      <th>29</th>\n      <td>Distinct Portions of Anterior Cingul...</td>\n      <td>Rogers et al</td>\n      <td>decision phase</td>\n      <td>24</td>\n    </tr>\n    <tr>\n      <th>48</th>\n      <td>Monetary reward magnitude effects on...</td>\n      <td>Rosell-Negre et al</td>\n      <td>anticipation phase</td>\n      <td>11</td>\n    </tr>\n    <tr>\n      <th>11</th>\n      <td>Binge-Eating Disorder  Reward Sensit...</td>\n      <td>Schienle et al</td>\n      <td>outcome phase</td>\n      <td>12</td>\n    </tr>\n    <tr>\n      <th>16</th>\n      <td>Decreasing ventromedial prefrontal c...</td>\n      <td>Schonberg et al</td>\n      <td>outcome phase</td>\n      <td>11</td>\n    </tr>\n    <tr>\n      <th>15</th>\n      <td>Decreasing ventromedial prefrontal c...</td>\n      <td>Schonberg et al</td>\n      <td>decision phase</td>\n      <td>17</td>\n    </tr>\n    <tr>\n      <th>58</th>\n      <td>The Architecture of Reward Value Cod...</td>\n      <td>Sescousse et al</td>\n      <td>outcome phase</td>\n      <td>46</td>\n    </tr>\n    <tr>\n      <th>49</th>\n      <td>Neural Coding of Reward-Prediction E...</td>\n      <td>Signe Bray and John O'Doherty</td>\n      <td>outcome phase</td>\n      <td>5</td>\n    </tr>\n    <tr>\n      <th>32</th>\n      <td>Distinct Value Signals in Anterior a...</td>\n      <td>Smith et al</td>\n      <td>outcome phase</td>\n      <td>54</td>\n    </tr>\n    <tr>\n      <th>52</th>\n      <td>Neural substrates of reward magnitud...</td>\n      <td>Smith et al</td>\n      <td>anticipation phase</td>\n      <td>14</td>\n    </tr>\n    <tr>\n      <th>7</th>\n      <td>Anticipation of monetary and social ...</td>\n      <td>Spreckelmeyer et al</td>\n      <td>anticipation phase</td>\n      <td>64</td>\n    </tr>\n    <tr>\n      <th>1</th>\n      <td>A functional neuroimaging study of m...</td>\n      <td>Taylor et al</td>\n      <td>anticipation phase</td>\n      <td>6</td>\n    </tr>\n    <tr>\n      <th>2</th>\n      <td>A functional neuroimaging study of m...</td>\n      <td>Taylor et al</td>\n      <td>decision phase</td>\n      <td>3</td>\n    </tr>\n    <tr>\n      <th>0</th>\n      <td>A functional neuroimaging study of m...</td>\n      <td>Taylor et al</td>\n      <td></td>\n      <td>9</td>\n    </tr>\n    <tr>\n      <th>53</th>\n      <td>Reward Value Coding Distinct From Ri...</td>\n      <td>Tobler et al</td>\n      <td>anticipation phase</td>\n      <td>19</td>\n    </tr>\n    <tr>\n      <th>23</th>\n      <td>Dissociating contributions of ACC an...</td>\n      <td>Vassena et al</td>\n      <td>decision phase</td>\n      <td>13</td>\n    </tr>\n    <tr>\n      <th>24</th>\n      <td>Dissociating contributions of ACC an...</td>\n      <td>Vassena et al</td>\n      <td>outcome phase</td>\n      <td>65</td>\n    </tr>\n    <tr>\n      <th>12</th>\n      <td>Brain systems for assessing facial a...</td>\n      <td>Winston et al</td>\n      <td>outcome phase</td>\n      <td>15</td>\n    </tr>\n    <tr>\n      <th>39</th>\n      <td>Functional Dissociations of Risk and...</td>\n      <td>Xue et al</td>\n      <td>outcome phase</td>\n      <td>52</td>\n    </tr>\n  </tbody>\n</table>\n</div>"
     },
     "execution_count": 305,
     "metadata": {},
     "output_type": "execute_result"
    }
   ],
   "source": [
    "df = df_reward_final.groupby(['title', 'author', \"Reward Phase\"]).size().reset_index(name=\"#Foci\")\n",
    "df.sort_values(by=['author'])"
   ],
   "metadata": {
    "collapsed": false,
    "pycharm": {
     "name": "#%%\n"
    }
   }
  },
  {
   "cell_type": "code",
   "execution_count": 306,
   "outputs": [
    {
     "data": {
      "text/plain": "                                      title          author  \\\n39  From uncertainty to reward - BOLD ch...     Abler et al   \n38  From uncertainty to reward - BOLD ch...     Abler et al   \n37  From uncertainty to reward - BOLD ch...     Abler et al   \n10  Beautiful Faces Have Variable Reward...    Aharon et al   \n13  Context-dependent cortical activatio...  Akitsuki et al   \n..                                      ...             ...   \n54  Reward Value Coding Distinct From Ri...    Tobler et al   \n24  Dissociating contributions of ACC an...   Vassena et al   \n25  Dissociating contributions of ACC an...   Vassena et al   \n12  Brain systems for assessing facial a...   Winston et al   \n40  Functional Dissociations of Risk and...       Xue et al   \n\n                         Reward Phase     Reward Contingency  #Foci  \n39  outcome phase, anticipation phase  performance-dependent     21  \n38                      outcome phase  performance-dependent      5  \n37                 anticipation phase  performance-dependent     17  \n10                      outcome phase                passive     51  \n13                      outcome phase               gambling     35  \n..                                ...                    ...    ...  \n54                 anticipation phase  performance-dependent     19  \n24                     decision phase               gambling     13  \n25                      outcome phase               gambling     65  \n12                      outcome phase                passive     15  \n40                      outcome phase               gambling     52  \n\n[61 rows x 5 columns]",
      "text/html": "<div>\n<style scoped>\n    .dataframe tbody tr th:only-of-type {\n        vertical-align: middle;\n    }\n\n    .dataframe tbody tr th {\n        vertical-align: top;\n    }\n\n    .dataframe thead th {\n        text-align: right;\n    }\n</style>\n<table border=\"1\" class=\"dataframe\">\n  <thead>\n    <tr style=\"text-align: right;\">\n      <th></th>\n      <th>title</th>\n      <th>author</th>\n      <th>Reward Phase</th>\n      <th>Reward Contingency</th>\n      <th>#Foci</th>\n    </tr>\n  </thead>\n  <tbody>\n    <tr>\n      <th>39</th>\n      <td>From uncertainty to reward - BOLD ch...</td>\n      <td>Abler et al</td>\n      <td>outcome phase, anticipation phase</td>\n      <td>performance-dependent</td>\n      <td>21</td>\n    </tr>\n    <tr>\n      <th>38</th>\n      <td>From uncertainty to reward - BOLD ch...</td>\n      <td>Abler et al</td>\n      <td>outcome phase</td>\n      <td>performance-dependent</td>\n      <td>5</td>\n    </tr>\n    <tr>\n      <th>37</th>\n      <td>From uncertainty to reward - BOLD ch...</td>\n      <td>Abler et al</td>\n      <td>anticipation phase</td>\n      <td>performance-dependent</td>\n      <td>17</td>\n    </tr>\n    <tr>\n      <th>10</th>\n      <td>Beautiful Faces Have Variable Reward...</td>\n      <td>Aharon et al</td>\n      <td>outcome phase</td>\n      <td>passive</td>\n      <td>51</td>\n    </tr>\n    <tr>\n      <th>13</th>\n      <td>Context-dependent cortical activatio...</td>\n      <td>Akitsuki et al</td>\n      <td>outcome phase</td>\n      <td>gambling</td>\n      <td>35</td>\n    </tr>\n    <tr>\n      <th>...</th>\n      <td>...</td>\n      <td>...</td>\n      <td>...</td>\n      <td>...</td>\n      <td>...</td>\n    </tr>\n    <tr>\n      <th>54</th>\n      <td>Reward Value Coding Distinct From Ri...</td>\n      <td>Tobler et al</td>\n      <td>anticipation phase</td>\n      <td>performance-dependent</td>\n      <td>19</td>\n    </tr>\n    <tr>\n      <th>24</th>\n      <td>Dissociating contributions of ACC an...</td>\n      <td>Vassena et al</td>\n      <td>decision phase</td>\n      <td>gambling</td>\n      <td>13</td>\n    </tr>\n    <tr>\n      <th>25</th>\n      <td>Dissociating contributions of ACC an...</td>\n      <td>Vassena et al</td>\n      <td>outcome phase</td>\n      <td>gambling</td>\n      <td>65</td>\n    </tr>\n    <tr>\n      <th>12</th>\n      <td>Brain systems for assessing facial a...</td>\n      <td>Winston et al</td>\n      <td>outcome phase</td>\n      <td>passive</td>\n      <td>15</td>\n    </tr>\n    <tr>\n      <th>40</th>\n      <td>Functional Dissociations of Risk and...</td>\n      <td>Xue et al</td>\n      <td>outcome phase</td>\n      <td>gambling</td>\n      <td>52</td>\n    </tr>\n  </tbody>\n</table>\n<p>61 rows × 5 columns</p>\n</div>"
     },
     "execution_count": 306,
     "metadata": {},
     "output_type": "execute_result"
    }
   ],
   "source": [
    "df = df_reward_final.groupby(['title', 'author', \"Reward Phase\", \"Reward Contingency\"]).size().reset_index(name=\"#Foci\")\n",
    "df.sort_values(by=['author'])"
   ],
   "metadata": {
    "collapsed": false,
    "pycharm": {
     "name": "#%%\n"
    }
   }
  },
  {
   "cell_type": "code",
   "execution_count": 307,
   "outputs": [],
   "source": [
    "df_final_print_reward = df_reward_final.groupby(['title', 'author', 'subjects', 'Reward Phase', 'Reward Contingency','Reward Type']).size().reset_index(name=\"#Foci\")"
   ],
   "metadata": {
    "collapsed": false,
    "pycharm": {
     "name": "#%%\n"
    }
   }
  },
  {
   "cell_type": "markdown",
   "source": [
    "#### Print latex to text file - reward"
   ],
   "metadata": {
    "collapsed": false
   }
  },
  {
   "cell_type": "code",
   "execution_count": 308,
   "outputs": [],
   "source": [
    "#rename specific column names\n",
    "df_final_print_reward.rename(columns = {'subjects':'#Subjects','title':'Title','author':'Author'}, inplace = True)\n",
    "df_final_print_reward = df_final_print_reward[['Author', '#Foci', '#Subjects', 'Reward Phase', 'Reward Contingency', 'Reward Type']]\n",
    "df_final_print_reward = df_final_print_reward.sort_values(by=['Author']).reset_index(drop=True)"
   ],
   "metadata": {
    "collapsed": false,
    "pycharm": {
     "name": "#%%\n"
    }
   }
  },
  {
   "cell_type": "code",
   "execution_count": 309,
   "outputs": [
    {
     "data": {
      "text/plain": "         Author  #Foci  #Subjects                       Reward Phase  \\\n0   Abler et al     17         15                 anticipation phase   \n1   Abler et al      5         15                      outcome phase   \n2   Abler et al     21         15  outcome phase, anticipation phase   \n3  Aharon et al     51          6                      outcome phase   \n\n      Reward Contingency      Reward Type  \n0  performance-dependent  monetary reward  \n1  performance-dependent  monetary reward  \n2  performance-dependent  monetary reward  \n3                passive    social reward  ",
      "text/html": "<div>\n<style scoped>\n    .dataframe tbody tr th:only-of-type {\n        vertical-align: middle;\n    }\n\n    .dataframe tbody tr th {\n        vertical-align: top;\n    }\n\n    .dataframe thead th {\n        text-align: right;\n    }\n</style>\n<table border=\"1\" class=\"dataframe\">\n  <thead>\n    <tr style=\"text-align: right;\">\n      <th></th>\n      <th>Author</th>\n      <th>#Foci</th>\n      <th>#Subjects</th>\n      <th>Reward Phase</th>\n      <th>Reward Contingency</th>\n      <th>Reward Type</th>\n    </tr>\n  </thead>\n  <tbody>\n    <tr>\n      <th>0</th>\n      <td>Abler et al</td>\n      <td>17</td>\n      <td>15</td>\n      <td>anticipation phase</td>\n      <td>performance-dependent</td>\n      <td>monetary reward</td>\n    </tr>\n    <tr>\n      <th>1</th>\n      <td>Abler et al</td>\n      <td>5</td>\n      <td>15</td>\n      <td>outcome phase</td>\n      <td>performance-dependent</td>\n      <td>monetary reward</td>\n    </tr>\n    <tr>\n      <th>2</th>\n      <td>Abler et al</td>\n      <td>21</td>\n      <td>15</td>\n      <td>outcome phase, anticipation phase</td>\n      <td>performance-dependent</td>\n      <td>monetary reward</td>\n    </tr>\n    <tr>\n      <th>3</th>\n      <td>Aharon et al</td>\n      <td>51</td>\n      <td>6</td>\n      <td>outcome phase</td>\n      <td>passive</td>\n      <td>social reward</td>\n    </tr>\n  </tbody>\n</table>\n</div>"
     },
     "execution_count": 309,
     "metadata": {},
     "output_type": "execute_result"
    }
   ],
   "source": [
    "df_final_print_reward.head(4)"
   ],
   "metadata": {
    "collapsed": false,
    "pycharm": {
     "name": "#%%\n"
    }
   }
  },
  {
   "cell_type": "code",
   "execution_count": 310,
   "outputs": [
    {
     "data": {
      "text/plain": "(72, 6)"
     },
     "execution_count": 310,
     "metadata": {},
     "output_type": "execute_result"
    }
   ],
   "source": [
    "df_final_print_reward.shape"
   ],
   "metadata": {
    "collapsed": false,
    "pycharm": {
     "name": "#%%\n"
    }
   }
  },
  {
   "cell_type": "code",
   "execution_count": 311,
   "outputs": [],
   "source": [
    "# pd.set_option('display.max_colwidth', None)  # to show all the column values (-1)\n",
    "# latex_filepath = r'../data_db/latex/reward_reports.txt'\n",
    "# with open(latex_filepath, 'w') as f:\n",
    "#     f.write(df_final_print_reward.to_latex(index=False))\n",
    "# pd.set_option('display.max_colwidth', 40)\n"
   ],
   "metadata": {
    "collapsed": false,
    "pycharm": {
     "name": "#%%\n"
    }
   }
  },
  {
   "cell_type": "code",
   "execution_count": 312,
   "outputs": [],
   "source": [
    "split_no = 40\n",
    "df_final_print_reward_list = [df_final_print_reward.iloc[:split_no, :], df_final_print_reward.iloc[split_no:, :]]"
   ],
   "metadata": {
    "collapsed": false,
    "pycharm": {
     "name": "#%%\n"
    }
   }
  },
  {
   "cell_type": "code",
   "execution_count": 313,
   "outputs": [
    {
     "name": "stderr",
     "output_type": "stream",
     "text": [
      "C:\\Users\\Chh\\AppData\\Local\\Temp\\ipykernel_5092\\1585037006.py:5: FutureWarning: In future versions `DataFrame.to_latex` is expected to utilise the base implementation of `Styler.to_latex` for formatting and rendering. The arguments signature may therefore change. It is recommended instead to use `DataFrame.style.to_latex` which also contains additional functionality.\n",
      "  f.write(df.to_latex(index=False))\n"
     ]
    }
   ],
   "source": [
    "pd.set_option('display.max_colwidth', None)  # to show all the column values (-1)\n",
    "latex_filepath = r'./latex/reward_reports.txt'\n",
    "with open(latex_filepath, 'w') as f:\n",
    "    for df in df_final_print_reward_list:\n",
    "        f.write(df.to_latex(index=False))\n",
    "pd.set_option('display.max_colwidth', 40)"
   ],
   "metadata": {
    "collapsed": false,
    "pycharm": {
     "name": "#%%\n"
    }
   }
  },
  {
   "cell_type": "code",
   "execution_count": 313,
   "outputs": [],
   "source": [],
   "metadata": {
    "collapsed": false,
    "pycharm": {
     "name": "#%%\n"
    }
   }
  }
 ],
 "metadata": {
  "kernelspec": {
   "display_name": "Python 3",
   "language": "python",
   "name": "python3"
  },
  "language_info": {
   "codemirror_mode": {
    "name": "ipython",
    "version": 2
   },
   "file_extension": ".py",
   "mimetype": "text/x-python",
   "name": "python",
   "nbconvert_exporter": "python",
   "pygments_lexer": "ipython2",
   "version": "2.7.6"
  }
 },
 "nbformat": 4,
 "nbformat_minor": 0
}