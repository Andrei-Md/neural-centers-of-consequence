{
 "cells": [
  {
   "cell_type": "code",
   "execution_count": 217,
   "metadata": {
    "collapsed": true
   },
   "outputs": [],
   "source": [
    "import pandas as pd\n",
    "import numpy as np\n",
    "import importlib\n",
    "import util.Data as data_util\n",
    "import util.DataframeProcess as df_proc\n",
    "import seaborn as sn\n",
    "import matplotlib.pyplot as plt"
   ]
  },
  {
   "cell_type": "code",
   "execution_count": 218,
   "outputs": [
    {
     "data": {
      "text/plain": "<module 'util.DataframeProcess' from 'D:\\\\scul\\\\uaic-ub\\\\licenta\\\\code\\\\util\\\\DataframeProcess.py'>"
     },
     "execution_count": 218,
     "metadata": {},
     "output_type": "execute_result"
    }
   ],
   "source": [
    "importlib.reload(data_util)\n",
    "importlib.reload(df_proc)"
   ],
   "metadata": {
    "collapsed": false,
    "pycharm": {
     "name": "#%%\n"
    }
   }
  },
  {
   "cell_type": "markdown",
   "source": [
    "# Data"
   ],
   "metadata": {
    "collapsed": false
   }
  },
  {
   "cell_type": "code",
   "execution_count": 219,
   "outputs": [],
   "source": [
    "__file_path_txt = r'../data_db/dataset_ale/'"
   ],
   "metadata": {
    "collapsed": false,
    "pycharm": {
     "name": "#%%\n"
    }
   }
  },
  {
   "cell_type": "code",
   "execution_count": 220,
   "outputs": [],
   "source": [
    "csv_filename = r'../data_db/final_coordinates-conversion-v2.csv'\n",
    "df_main = data_util.import_data(csv_filename)"
   ],
   "metadata": {
    "collapsed": false,
    "pycharm": {
     "name": "#%%\n"
    }
   }
  },
  {
   "cell_type": "code",
   "execution_count": 221,
   "outputs": [
    {
     "data": {
      "text/plain": "(1827, 26)"
     },
     "execution_count": 221,
     "metadata": {},
     "output_type": "execute_result"
    }
   ],
   "source": [
    "df_data = df_main.copy()\n",
    "df_data.shape"
   ],
   "metadata": {
    "collapsed": false,
    "pycharm": {
     "name": "#%%\n"
    }
   }
  },
  {
   "cell_type": "code",
   "execution_count": 222,
   "outputs": [
    {
     "data": {
      "text/plain": "61"
     },
     "execution_count": 222,
     "metadata": {},
     "output_type": "execute_result"
    }
   ],
   "source": [
    "df_data['title'].unique().size"
   ],
   "metadata": {
    "collapsed": false,
    "pycharm": {
     "name": "#%%\n"
    }
   }
  },
  {
   "cell_type": "markdown",
   "source": [
    "## Split wm and reward"
   ],
   "metadata": {
    "collapsed": false
   }
  },
  {
   "cell_type": "code",
   "execution_count": 223,
   "outputs": [],
   "source": [
    "df_data = df_main.copy()\n",
    "mask_wm = df_data['keywords'].str.contains('working memory')"
   ],
   "metadata": {
    "collapsed": false,
    "pycharm": {
     "name": "#%%\n"
    }
   }
  },
  {
   "cell_type": "markdown",
   "source": [
    "### Working Memory: visual task stimulus and task modality n-task"
   ],
   "metadata": {
    "collapsed": false
   }
  },
  {
   "cell_type": "code",
   "execution_count": 224,
   "outputs": [],
   "source": [
    "df_wm = df_data[mask_wm]"
   ],
   "metadata": {
    "collapsed": false,
    "pycharm": {
     "name": "#%%\n"
    }
   }
  },
  {
   "cell_type": "markdown",
   "source": [
    "#### Split keys"
   ],
   "metadata": {
    "collapsed": false,
    "pycharm": {
     "name": "#%% md\n"
    }
   }
  },
  {
   "cell_type": "code",
   "execution_count": 225,
   "outputs": [
    {
     "name": "stderr",
     "output_type": "stream",
     "text": [
      "C:\\Users\\Chh\\AppData\\Local\\Temp\\ipykernel_20008\\2041161781.py:2: SettingWithCopyWarning: \n",
      "A value is trying to be set on a copy of a slice from a DataFrame.\n",
      "Try using .loc[row_indexer,col_indexer] = value instead\n",
      "\n",
      "See the caveats in the documentation: https://pandas.pydata.org/pandas-docs/stable/user_guide/indexing.html#returning-a-view-versus-a-copy\n",
      "  df_wm['contrast_split'] = df_wm['contrast'].apply(lambda x: df_proc.split_keys([x]))\n",
      "C:\\Users\\Chh\\AppData\\Local\\Temp\\ipykernel_20008\\2041161781.py:3: SettingWithCopyWarning: \n",
      "A value is trying to be set on a copy of a slice from a DataFrame.\n",
      "Try using .loc[row_indexer,col_indexer] = value instead\n",
      "\n",
      "See the caveats in the documentation: https://pandas.pydata.org/pandas-docs/stable/user_guide/indexing.html#returning-a-view-versus-a-copy\n",
      "  df_wm['keywords_split'] = df_wm['keywords'].apply(lambda x: df_proc.split_keys([x]))\n"
     ]
    }
   ],
   "source": [
    "# get keywords and split them\n",
    "df_wm['contrast_split'] = df_wm['contrast'].apply(lambda x: df_proc.split_keys([x]))\n",
    "df_wm['keywords_split'] = df_wm['keywords'].apply(lambda x: df_proc.split_keys([x]))"
   ],
   "metadata": {
    "collapsed": false,
    "pycharm": {
     "name": "#%%\n"
    }
   }
  },
  {
   "cell_type": "code",
   "execution_count": 226,
   "outputs": [
    {
     "data": {
      "text/plain": "{'>nan_values<': 0,\n 'precue > retrocue': 3,\n 'sub-id > baseline': 4,\n 'retrocue > precue': 9,\n '2-back > 1-back': 13,\n '1-back > 2-back': 13,\n 'sub-dif > frame-dif': 14,\n 'n-back > control task': 15,\n 'sub-dif > baseline': 21,\n 'retrocue and precue': 30,\n '3-back > 0-back': 31,\n '2-back > 1-back > 0-back': 43,\n '-': 50,\n '3-back > 2-back > 1-back > 0-back': 57,\n '1-back > rest': 58,\n '2-back > 0-back': 136}"
     },
     "execution_count": 226,
     "metadata": {},
     "output_type": "execute_result"
    }
   ],
   "source": [
    "list_contrast_reward = list(df_proc.list_of_sets_to_set(df_wm, 'contrast_split'))\n",
    "counter_contrast_reward = data_util.df_counter(df=df_wm.explode('contrast_split'), column='contrast_split',\n",
    "                                               set_keywords=list_contrast_reward, order=1)\n",
    "counter_contrast_reward"
   ],
   "metadata": {
    "collapsed": false,
    "pycharm": {
     "name": "#%%\n"
    }
   }
  },
  {
   "cell_type": "code",
   "execution_count": 227,
   "outputs": [
    {
     "data": {
      "text/plain": "{'>nan_values<': 0,\n 'Sub-Id': 4,\n 'decision phase': 7,\n 'visual object': 13,\n 'visual shape color': 15,\n 'anticipation phase': 16,\n 'verbal': 16,\n 'verbal pseudo-words': 19,\n 'negative reward': 21,\n 'positive reward': 22,\n 'visual shape': 23,\n 'visual scrambled drawings': 24,\n 'visual facial expression': 24,\n 'visual identical shapes': 27,\n 'two and four choice reversal learning task': 27,\n 'reversal learning task': 27,\n 'visual faces': 30,\n 'precue': 33,\n 'Sub-Dif': 35,\n 'reading': 39,\n 'perceptual matching task': 39,\n 'retrocue': 39,\n 'three-back task': 41,\n 'experimental task': 42,\n 'visual spatial cue': 42,\n 'reward value': 43,\n 'monetary reward': 66,\n 'one-back task': 71,\n 'visual word recognition': 73,\n 'visual numbers': 92,\n 'decision making': 108,\n 'visual letters': 138,\n 'two-back task': 149,\n 'talairach': 225,\n 'MNI': 272,\n 'n-back task': 389,\n 'fMRI': 497,\n 'working memory': 497}"
     },
     "execution_count": 227,
     "metadata": {},
     "output_type": "execute_result"
    }
   ],
   "source": [
    "list_keywords_reward = list(df_proc.list_of_sets_to_set(df_wm, 'keywords_split'))\n",
    "counter_keywords_reward = data_util.df_counter(df=df_wm.explode('keywords_split'), column='keywords_split',\n",
    "                                               set_keywords=list_keywords_reward, order=1)\n",
    "counter_keywords_reward\n"
   ],
   "metadata": {
    "collapsed": false,
    "pycharm": {
     "name": "#%%\n"
    }
   }
  },
  {
   "cell_type": "markdown",
   "source": [
    "#### Select 1 - wm\n",
    "##### Keywords"
   ],
   "metadata": {
    "collapsed": false,
    "pycharm": {
     "name": "#%% md\n"
    }
   }
  },
  {
   "cell_type": "code",
   "execution_count": 228,
   "outputs": [
    {
     "data": {
      "text/plain": "{'visual faces',\n 'visual facial expression',\n 'visual identical shapes',\n 'visual letters',\n 'visual numbers',\n 'visual object',\n 'visual scrambled drawings',\n 'visual shape',\n 'visual shape color',\n 'visual spatial cue',\n 'visual word recognition'}"
     },
     "execution_count": 228,
     "metadata": {},
     "output_type": "execute_result"
    }
   ],
   "source": [
    "keywords_select = ['visual']\n",
    "set_keywords_wm_select1 = df_proc.get_elem_by_substring(df=df_wm, column_name='keywords_split',\n",
    "                                                        lst_substr=keywords_select)\n",
    "\n",
    "set_keywords_wm_select1"
   ],
   "metadata": {
    "collapsed": false,
    "pycharm": {
     "name": "#%%\n"
    }
   }
  },
  {
   "cell_type": "code",
   "execution_count": 229,
   "outputs": [
    {
     "data": {
      "text/plain": "{'n-back task'}"
     },
     "execution_count": 229,
     "metadata": {},
     "output_type": "execute_result"
    }
   ],
   "source": [
    "keywords_select = ['n-back task']\n",
    "set_keywords_wm_select2 = df_proc.get_elem_by_substring(df=df_wm, column_name='keywords_split',\n",
    "                                                        lst_substr=keywords_select)\n",
    "\n",
    "set_keywords_wm_select2"
   ],
   "metadata": {
    "collapsed": false,
    "pycharm": {
     "name": "#%%\n"
    }
   }
  },
  {
   "cell_type": "code",
   "execution_count": 230,
   "outputs": [],
   "source": [
    "list_set_select = [set_keywords_wm_select1, set_keywords_wm_select2]\n",
    "mask_wm_select1_keywords = True\n",
    "for set_sel in list_set_select:\n",
    "    mask_wm_select1_keywords = mask_wm_select1_keywords & df_proc.check_column_elem(df=df_wm,\n",
    "                                                                                    colummn_name='keywords_split',\n",
    "                                                                                    check_set=set_sel)"
   ],
   "metadata": {
    "collapsed": false,
    "pycharm": {
     "name": "#%%\n"
    }
   }
  },
  {
   "cell_type": "markdown",
   "source": [
    "##### Contrast"
   ],
   "metadata": {
    "collapsed": false,
    "pycharm": {
     "name": "#%% md\n"
    }
   }
  },
  {
   "cell_type": "code",
   "execution_count": 231,
   "outputs": [
    {
     "data": {
      "text/plain": "{}"
     },
     "execution_count": 231,
     "metadata": {},
     "output_type": "execute_result"
    }
   ],
   "source": [
    "set_contrast = {}\n",
    "set_contrast"
   ],
   "metadata": {
    "collapsed": false,
    "pycharm": {
     "name": "#%%\n"
    }
   }
  },
  {
   "cell_type": "code",
   "execution_count": 232,
   "outputs": [],
   "source": [
    "mask_wm_select1_contrast = df_proc.check_column_elem(df=df_wm, colummn_name='contrast_split', check_set=set_contrast)"
   ],
   "metadata": {
    "collapsed": false,
    "pycharm": {
     "name": "#%%\n"
    }
   }
  },
  {
   "cell_type": "markdown",
   "source": [
    "##### Select"
   ],
   "metadata": {
    "collapsed": false
   }
  },
  {
   "cell_type": "code",
   "execution_count": 233,
   "outputs": [
    {
     "data": {
      "text/plain": "(354, 28)"
     },
     "execution_count": 233,
     "metadata": {},
     "output_type": "execute_result"
    }
   ],
   "source": [
    "mask_wm_select1 = mask_wm_select1_keywords & mask_wm_select1_contrast\n",
    "df_wm_select1 = df_wm[mask_wm_select1]\n",
    "df_wm_select1.shape"
   ],
   "metadata": {
    "collapsed": false,
    "pycharm": {
     "name": "#%%\n"
    }
   }
  },
  {
   "cell_type": "markdown",
   "source": [
    "##### Create txt file in sleuth format"
   ],
   "metadata": {
    "collapsed": false,
    "pycharm": {
     "name": "#%% md\n"
    }
   }
  },
  {
   "cell_type": "code",
   "execution_count": 234,
   "outputs": [],
   "source": [
    "file_name_sel1 = 'select1_wm.txt'"
   ],
   "metadata": {
    "collapsed": false,
    "pycharm": {
     "name": "#%%\n"
    }
   }
  },
  {
   "cell_type": "code",
   "execution_count": 235,
   "outputs": [],
   "source": [
    "df_proc.dataframe_to_sleuth_txt(df_wm_select1,file_name=file_name_sel1,file_path=__file_path_txt,title_max_chars=30)"
   ],
   "metadata": {
    "collapsed": false,
    "pycharm": {
     "name": "#%%\n"
    }
   }
  },
  {
   "cell_type": "code",
   "execution_count": 235,
   "outputs": [],
   "source": [],
   "metadata": {
    "collapsed": false,
    "pycharm": {
     "name": "#%%\n"
    }
   }
  },
  {
   "cell_type": "markdown",
   "source": [
    "#### Select 1 - reward\n",
    "##### Keywords\n"
   ],
   "metadata": {
    "collapsed": false
   }
  }
 ],
 "metadata": {
  "kernelspec": {
   "display_name": "Python 3",
   "language": "python",
   "name": "python3"
  },
  "language_info": {
   "codemirror_mode": {
    "name": "ipython",
    "version": 2
   },
   "file_extension": ".py",
   "mimetype": "text/x-python",
   "name": "python",
   "nbconvert_exporter": "python",
   "pygments_lexer": "ipython2",
   "version": "2.7.6"
  }
 },
 "nbformat": 4,
 "nbformat_minor": 0
}