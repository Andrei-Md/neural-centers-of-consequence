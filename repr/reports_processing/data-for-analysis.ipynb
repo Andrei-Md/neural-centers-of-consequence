{
 "cells": [
  {
   "cell_type": "code",
   "execution_count": 1,
   "metadata": {
    "collapsed": true
   },
   "outputs": [],
   "source": [
    "import pandas as pd\n",
    "import numpy as np\n",
    "import importlib\n",
    "import util.Data as data_util\n",
    "import util.DataframeProcess as df_proc\n",
    "import seaborn as sn\n",
    "import matplotlib.pyplot as plt"
   ]
  },
  {
   "cell_type": "code",
   "execution_count": 2,
   "outputs": [
    {
     "data": {
      "text/plain": "<module 'util.DataframeProcess' from 'D:\\\\scul\\\\uaic-ub\\\\licenta\\\\code\\\\util\\\\DataframeProcess.py'>"
     },
     "execution_count": 2,
     "metadata": {},
     "output_type": "execute_result"
    }
   ],
   "source": [
    "importlib.reload(data_util)\n",
    "importlib.reload(df_proc)"
   ],
   "metadata": {
    "collapsed": false,
    "pycharm": {
     "name": "#%%\n"
    }
   }
  },
  {
   "cell_type": "markdown",
   "source": [
    "# Data"
   ],
   "metadata": {
    "collapsed": false
   }
  },
  {
   "cell_type": "code",
   "execution_count": 3,
   "outputs": [],
   "source": [
    "__file_path_txt = r'../data_db/dataset_ale/'"
   ],
   "metadata": {
    "collapsed": false,
    "pycharm": {
     "name": "#%%\n"
    }
   }
  },
  {
   "cell_type": "code",
   "execution_count": 4,
   "outputs": [],
   "source": [
    "csv_filename = r'../data_db/final_coordinates-conversion-v2.csv'\n",
    "df_main = data_util.import_data(csv_filename)"
   ],
   "metadata": {
    "collapsed": false,
    "pycharm": {
     "name": "#%%\n"
    }
   }
  },
  {
   "cell_type": "code",
   "execution_count": 5,
   "outputs": [
    {
     "data": {
      "text/plain": "(1827, 26)"
     },
     "execution_count": 5,
     "metadata": {},
     "output_type": "execute_result"
    }
   ],
   "source": [
    "df_data = df_main.copy()\n",
    "df_data.shape"
   ],
   "metadata": {
    "collapsed": false,
    "pycharm": {
     "name": "#%%\n"
    }
   }
  },
  {
   "cell_type": "code",
   "execution_count": 6,
   "outputs": [
    {
     "data": {
      "text/plain": "61"
     },
     "execution_count": 6,
     "metadata": {},
     "output_type": "execute_result"
    }
   ],
   "source": [
    "df_data['title'].unique().size"
   ],
   "metadata": {
    "collapsed": false,
    "pycharm": {
     "name": "#%%\n"
    }
   }
  },
  {
   "cell_type": "markdown",
   "source": [
    "# Split wm and reward"
   ],
   "metadata": {
    "collapsed": false
   }
  },
  {
   "cell_type": "code",
   "execution_count": 7,
   "outputs": [],
   "source": [
    "df_data = df_main.copy()\n",
    "mask_wm = df_data['keywords'].str.contains('working memory')"
   ],
   "metadata": {
    "collapsed": false,
    "pycharm": {
     "name": "#%%\n"
    }
   }
  },
  {
   "cell_type": "markdown",
   "source": [
    "## Working Memory: visual task stimulus and task modality n-task"
   ],
   "metadata": {
    "collapsed": false
   }
  },
  {
   "cell_type": "code",
   "execution_count": 8,
   "outputs": [],
   "source": [
    "df_wm = df_data[mask_wm]"
   ],
   "metadata": {
    "collapsed": false,
    "pycharm": {
     "name": "#%%\n"
    }
   }
  },
  {
   "cell_type": "markdown",
   "source": [
    "### Split keys"
   ],
   "metadata": {
    "collapsed": false,
    "pycharm": {
     "name": "#%% md\n"
    }
   }
  },
  {
   "cell_type": "code",
   "execution_count": 9,
   "outputs": [
    {
     "name": "stderr",
     "output_type": "stream",
     "text": [
      "C:\\Users\\Chh\\AppData\\Local\\Temp\\ipykernel_17836\\3506617823.py:2: SettingWithCopyWarning: \n",
      "A value is trying to be set on a copy of a slice from a DataFrame.\n",
      "Try using .loc[row_indexer,col_indexer] = value instead\n",
      "\n",
      "See the caveats in the documentation: https://pandas.pydata.org/pandas-docs/stable/user_guide/indexing.html#returning-a-view-versus-a-copy\n",
      "  df_wm['contrast_split'] = df_wm['contrast'].apply(lambda x: df_proc.split_keys([x]))\n",
      "C:\\Users\\Chh\\AppData\\Local\\Temp\\ipykernel_17836\\3506617823.py:3: SettingWithCopyWarning: \n",
      "A value is trying to be set on a copy of a slice from a DataFrame.\n",
      "Try using .loc[row_indexer,col_indexer] = value instead\n",
      "\n",
      "See the caveats in the documentation: https://pandas.pydata.org/pandas-docs/stable/user_guide/indexing.html#returning-a-view-versus-a-copy\n",
      "  df_wm['keywords_split'] = df_wm['keywords'].apply(lambda x: df_proc.split_keys([x]))\n"
     ]
    }
   ],
   "source": [
    "# get keywords and split them\n",
    "df_wm['contrast_split'] = df_wm['contrast'].apply(lambda x: df_proc.split_keys([x]))\n",
    "df_wm['keywords_split'] = df_wm['keywords'].apply(lambda x: df_proc.split_keys([x]))"
   ],
   "metadata": {
    "collapsed": false,
    "pycharm": {
     "name": "#%%\n"
    }
   }
  },
  {
   "cell_type": "code",
   "execution_count": 10,
   "outputs": [
    {
     "data": {
      "text/plain": "{'>nan_values<': 0,\n 'precue > retrocue': 3,\n 'sub-id > baseline': 4,\n 'retrocue > precue': 9,\n '2-back > 1-back': 13,\n '1-back > 2-back': 13,\n 'sub-dif > frame-dif': 14,\n 'n-back > control task': 15,\n 'sub-dif > baseline': 21,\n 'retrocue and precue': 30,\n '3-back > 0-back': 31,\n '2-back > 1-back > 0-back': 43,\n '-': 50,\n '3-back > 2-back > 1-back > 0-back': 57,\n '1-back > rest': 58,\n '2-back > 0-back': 136}"
     },
     "execution_count": 10,
     "metadata": {},
     "output_type": "execute_result"
    }
   ],
   "source": [
    "list_contrast_wm = list(df_proc.list_of_sets_to_set(df_wm, 'contrast_split'))\n",
    "counter_contrast_wm = data_util.df_counter(df=df_wm.explode('contrast_split'), column='contrast_split',\n",
    "                                               set_keywords=list_contrast_wm, order=1)\n",
    "counter_contrast_wm"
   ],
   "metadata": {
    "collapsed": false,
    "pycharm": {
     "name": "#%%\n"
    }
   }
  },
  {
   "cell_type": "code",
   "execution_count": 11,
   "outputs": [
    {
     "data": {
      "text/plain": "{'>nan_values<': 0,\n 'Sub-Id': 4,\n 'decision phase': 7,\n 'visual object': 13,\n 'visual shape color': 15,\n 'verbal': 16,\n 'anticipation phase': 16,\n 'verbal pseudo-words': 19,\n 'negative reward': 21,\n 'positive reward': 22,\n 'visual shape': 23,\n 'visual scrambled drawings': 24,\n 'visual facial expression': 24,\n 'two and four choice reversal learning task': 27,\n 'reversal learning task': 27,\n 'visual identical shapes': 27,\n 'visual faces': 30,\n 'precue': 33,\n 'Sub-Dif': 35,\n 'perceptual matching task': 39,\n 'reading': 39,\n 'retrocue': 39,\n 'three-back task': 41,\n 'visual spatial cue': 42,\n 'experimental task': 42,\n 'reward value': 43,\n 'monetary reward': 66,\n 'one-back task': 71,\n 'visual word recognition': 73,\n 'visual numbers': 92,\n 'decision making': 108,\n 'visual letters': 138,\n 'two-back task': 149,\n 'talairach': 225,\n 'MNI': 272,\n 'n-back task': 389,\n 'working memory': 497,\n 'fMRI': 497}"
     },
     "execution_count": 11,
     "metadata": {},
     "output_type": "execute_result"
    }
   ],
   "source": [
    "list_keywords_wm = list(df_proc.list_of_sets_to_set(df_wm, 'keywords_split'))\n",
    "counter_keywords_wm = data_util.df_counter(df=df_wm.explode('keywords_split'), column='keywords_split',\n",
    "                                               set_keywords=list_keywords_wm, order=1)\n",
    "counter_keywords_wm\n"
   ],
   "metadata": {
    "collapsed": false,
    "pycharm": {
     "name": "#%%\n"
    }
   }
  },
  {
   "cell_type": "markdown",
   "source": [
    "## Select 1 - wm\n",
    "### Keywords"
   ],
   "metadata": {
    "collapsed": false,
    "pycharm": {
     "name": "#%% md\n"
    }
   }
  },
  {
   "cell_type": "code",
   "execution_count": 12,
   "outputs": [],
   "source": [
    "# list_set_select10 = [{'outcome phase','anticipation phase'},{'decision making'}]\n",
    "## [{'a'},{'b','c'}] <- list of sets\n",
    "    # there is a disjunction between terms of the same set\n",
    "    # there is conjunction between terms of different sets"
   ],
   "metadata": {
    "collapsed": false,
    "pycharm": {
     "name": "#%%\n"
    }
   }
  },
  {
   "cell_type": "code",
   "execution_count": 13,
   "outputs": [
    {
     "data": {
      "text/plain": "{'visual faces',\n 'visual facial expression',\n 'visual identical shapes',\n 'visual letters',\n 'visual numbers',\n 'visual object',\n 'visual scrambled drawings',\n 'visual shape',\n 'visual shape color',\n 'visual spatial cue',\n 'visual word recognition'}"
     },
     "execution_count": 13,
     "metadata": {},
     "output_type": "execute_result"
    }
   ],
   "source": [
    "keywords_select = ['visual']\n",
    "## [{'a'},{'b','c'}] <- list of sets\n",
    "    # there is a disjunction between terms of the same set\n",
    "    # there is conjunction between terms of different sets\n",
    "set_keywords_wm_s1 = df_proc.get_elem_by_substring(df=df_wm, column_name='keywords_split',\n",
    "                                                        lst_substr=keywords_select)\n",
    "\n",
    "set_keywords_wm_s1"
   ],
   "metadata": {
    "collapsed": false,
    "pycharm": {
     "name": "#%%\n"
    }
   }
  },
  {
   "cell_type": "code",
   "execution_count": 14,
   "outputs": [
    {
     "data": {
      "text/plain": "{'n-back task'}"
     },
     "execution_count": 14,
     "metadata": {},
     "output_type": "execute_result"
    }
   ],
   "source": [
    "keywords_select = ['n-back task']\n",
    "set_keywords_wm_s2 = df_proc.get_elem_by_substring(df=df_wm, column_name='keywords_split',\n",
    "                                                        lst_substr=keywords_select)\n",
    "\n",
    "set_keywords_wm_s2"
   ],
   "metadata": {
    "collapsed": false,
    "pycharm": {
     "name": "#%%\n"
    }
   }
  },
  {
   "cell_type": "code",
   "execution_count": 15,
   "outputs": [],
   "source": [
    "## Create mask for selected keywords\n",
    "list_set_select1 = [set_keywords_wm_s1, set_keywords_wm_s2]\n",
    "\n",
    "mask_wm_select1_keywords = True\n",
    "for set_sel in list_set_select1:\n",
    "    mask_wm_select1_keywords = np.logical_and(mask_wm_select1_keywords,df_proc.check_column_elem(df=df_wm,\n",
    "                                                                                    colummn_name='keywords_split',\n",
    "                                                                                    check_set=set_sel))"
   ],
   "metadata": {
    "collapsed": false,
    "pycharm": {
     "name": "#%%\n"
    }
   }
  },
  {
   "cell_type": "markdown",
   "source": [
    "### Contrast"
   ],
   "metadata": {
    "collapsed": false,
    "pycharm": {
     "name": "#%% md\n"
    }
   }
  },
  {
   "cell_type": "code",
   "execution_count": 16,
   "outputs": [
    {
     "data": {
      "text/plain": "{}"
     },
     "execution_count": 16,
     "metadata": {},
     "output_type": "execute_result"
    }
   ],
   "source": [
    "set_contrast = {}\n",
    "set_contrast"
   ],
   "metadata": {
    "collapsed": false,
    "pycharm": {
     "name": "#%%\n"
    }
   }
  },
  {
   "cell_type": "code",
   "execution_count": 17,
   "outputs": [],
   "source": [
    "mask_wm_select1_contrast = df_proc.check_column_elem(df=df_wm, colummn_name='contrast_split', check_set=set_contrast)"
   ],
   "metadata": {
    "collapsed": false,
    "pycharm": {
     "name": "#%%\n"
    }
   }
  },
  {
   "cell_type": "markdown",
   "source": [
    "### select1"
   ],
   "metadata": {
    "collapsed": false
   }
  },
  {
   "cell_type": "code",
   "execution_count": 18,
   "outputs": [
    {
     "data": {
      "text/plain": "(354, 28)"
     },
     "execution_count": 18,
     "metadata": {},
     "output_type": "execute_result"
    }
   ],
   "source": [
    "mask_wm_select1 = np.logical_and(mask_wm_select1_keywords, mask_wm_select1_contrast)\n",
    "df_wm_select1 = df_wm[mask_wm_select1]\n",
    "df_wm_select1.shape"
   ],
   "metadata": {
    "collapsed": false,
    "pycharm": {
     "name": "#%%\n"
    }
   }
  },
  {
   "cell_type": "code",
   "execution_count": 19,
   "outputs": [
    {
     "data": {
      "text/plain": "title         12\ntable_name    20\ndtype: int64"
     },
     "execution_count": 19,
     "metadata": {},
     "output_type": "execute_result"
    }
   ],
   "source": [
    "df_wm_select1[['title','table_name']].nunique()"
   ],
   "metadata": {
    "collapsed": false,
    "pycharm": {
     "name": "#%%\n"
    }
   }
  },
  {
   "cell_type": "markdown",
   "source": [
    "### Create txt file in sleuth format - select1"
   ],
   "metadata": {
    "collapsed": false,
    "pycharm": {
     "name": "#%% md\n"
    }
   }
  },
  {
   "cell_type": "code",
   "execution_count": 20,
   "outputs": [],
   "source": [
    "file_name_select1 = 'select01_wm.txt'\n",
    "df_proc.dataframe_to_sleuth_txt(df_wm_select1,file_name=file_name_select1,file_path=__file_path_txt,title_max_chars=30)"
   ],
   "metadata": {
    "collapsed": false,
    "pycharm": {
     "name": "#%%\n"
    }
   }
  },
  {
   "cell_type": "markdown",
   "source": [
    "## Select 2 wm - Decision making"
   ],
   "metadata": {
    "collapsed": false,
    "pycharm": {
     "name": "#%% md\n"
    }
   }
  },
  {
   "cell_type": "markdown",
   "source": [
    "### Keywords"
   ],
   "metadata": {
    "collapsed": false
   }
  },
  {
   "cell_type": "code",
   "execution_count": 21,
   "outputs": [],
   "source": [
    "## Create mask for selected keywords\n",
    "list_set_select2 = [{'decision making'}]"
   ],
   "metadata": {
    "collapsed": false,
    "pycharm": {
     "name": "#%%\n"
    }
   }
  },
  {
   "cell_type": "code",
   "execution_count": 22,
   "outputs": [],
   "source": [
    "mask_wm_select2_keywords = True\n",
    "for set_sel in list_set_select2:\n",
    "    mask_wm_select2_keywords = np.logical_and(mask_wm_select2_keywords,df_proc.check_column_elem(df=df_wm,\n",
    "                                                                                    colummn_name='keywords_split',\n",
    "                                                                                    check_set=set_sel))"
   ],
   "metadata": {
    "collapsed": false,
    "pycharm": {
     "name": "#%%\n"
    }
   }
  },
  {
   "cell_type": "markdown",
   "source": [
    "### Contrast"
   ],
   "metadata": {
    "collapsed": false
   }
  },
  {
   "cell_type": "code",
   "execution_count": 23,
   "outputs": [
    {
     "data": {
      "text/plain": "{}"
     },
     "execution_count": 23,
     "metadata": {},
     "output_type": "execute_result"
    }
   ],
   "source": [
    "set_contrast ={}\n",
    "set_contrast"
   ],
   "metadata": {
    "collapsed": false,
    "pycharm": {
     "name": "#%%\n"
    }
   }
  },
  {
   "cell_type": "code",
   "execution_count": 24,
   "outputs": [],
   "source": [
    "mask_wm_select2_contrast = df_proc.check_column_elem(df=df_wm, colummn_name='contrast', check_set=set_contrast)\n",
    "df = df_wm[mask_wm_select2_contrast]"
   ],
   "metadata": {
    "collapsed": false,
    "pycharm": {
     "name": "#%%\n"
    }
   }
  },
  {
   "cell_type": "markdown",
   "source": [
    "### select2"
   ],
   "metadata": {
    "collapsed": false
   }
  },
  {
   "cell_type": "code",
   "execution_count": 25,
   "outputs": [
    {
     "data": {
      "text/plain": "(108, 28)"
     },
     "execution_count": 25,
     "metadata": {},
     "output_type": "execute_result"
    }
   ],
   "source": [
    "mask_wm_select2 = np.logical_and(mask_wm_select2_keywords,mask_wm_select2_contrast)\n",
    "df_wm_select2 = df_wm[mask_wm_select2]\n",
    "df_wm_select2.shape"
   ],
   "metadata": {
    "collapsed": false,
    "pycharm": {
     "name": "#%%\n"
    }
   }
  },
  {
   "cell_type": "code",
   "execution_count": 26,
   "outputs": [
    {
     "data": {
      "text/plain": "title           3\ntable_name      7\nindex_col     108\ndtype: int64"
     },
     "execution_count": 26,
     "metadata": {},
     "output_type": "execute_result"
    }
   ],
   "source": [
    "df_wm_select2[['title','table_name','index_col']].nunique()"
   ],
   "metadata": {
    "collapsed": false,
    "pycharm": {
     "name": "#%%\n"
    }
   }
  },
  {
   "cell_type": "markdown",
   "source": [
    "### Create txt file in sleuth format - select2"
   ],
   "metadata": {
    "collapsed": false
   }
  },
  {
   "cell_type": "code",
   "execution_count": 27,
   "outputs": [],
   "source": [
    "file_name_select2 = 'select02_wm_decision-making.txt'\n",
    "df_proc.dataframe_to_sleuth_txt(df_wm_select2,file_name=file_name_select2,file_path=__file_path_txt,title_max_chars=30)"
   ],
   "metadata": {
    "collapsed": false,
    "pycharm": {
     "name": "#%%\n"
    }
   }
  },
  {
   "cell_type": "code",
   "execution_count": 27,
   "outputs": [],
   "source": [],
   "metadata": {
    "collapsed": false,
    "pycharm": {
     "name": "#%%\n"
    }
   }
  },
  {
   "cell_type": "code",
   "execution_count": 28,
   "outputs": [],
   "source": [
    "#TODO\n"
   ],
   "metadata": {
    "collapsed": false,
    "pycharm": {
     "name": "#%%\n"
    }
   }
  },
  {
   "cell_type": "markdown",
   "source": [
    "# Reward"
   ],
   "metadata": {
    "collapsed": false
   }
  },
  {
   "cell_type": "code",
   "execution_count": 29,
   "outputs": [],
   "source": [
    "df_reward = df_data[~mask_wm]"
   ],
   "metadata": {
    "collapsed": false,
    "pycharm": {
     "name": "#%%\n"
    }
   }
  },
  {
   "cell_type": "markdown",
   "source": [
    "## Split keys"
   ],
   "metadata": {
    "collapsed": false
   }
  },
  {
   "cell_type": "code",
   "execution_count": 30,
   "outputs": [
    {
     "name": "stderr",
     "output_type": "stream",
     "text": [
      "C:\\Users\\Chh\\AppData\\Local\\Temp\\ipykernel_17836\\4107498522.py:2: SettingWithCopyWarning: \n",
      "A value is trying to be set on a copy of a slice from a DataFrame.\n",
      "Try using .loc[row_indexer,col_indexer] = value instead\n",
      "\n",
      "See the caveats in the documentation: https://pandas.pydata.org/pandas-docs/stable/user_guide/indexing.html#returning-a-view-versus-a-copy\n",
      "  df_reward['keywords_split'] = df_reward['keywords'].apply(lambda x: df_proc.split_keys([x]))\n"
     ]
    }
   ],
   "source": [
    "# get keywords and split them\n",
    "df_reward['keywords_split'] = df_reward['keywords'].apply(lambda x: df_proc.split_keys([x]))\n",
    "# No split needed for contrast"
   ],
   "metadata": {
    "collapsed": false,
    "pycharm": {
     "name": "#%%\n"
    }
   }
  },
  {
   "cell_type": "markdown",
   "source": [
    "## Check the Keywords"
   ],
   "metadata": {
    "collapsed": false,
    "pycharm": {
     "name": "#%% md\n"
    }
   }
  },
  {
   "cell_type": "code",
   "execution_count": 31,
   "outputs": [
    {
     "data": {
      "text/plain": "{'>nan_values<': 0,\n 'negative expectancy': 5,\n 'modelling prediction error': 5,\n 'low calorie': 7,\n 'decreasing activation': 7,\n 'time conditioning': 7,\n 'potential loss': 7,\n 'positive expectancy': 8,\n 'response maintenance': 9,\n 'inhibition': 10,\n 'safe choice': 10,\n 'probability': 10,\n 'movement': 11,\n 'high calorie': 11,\n 'Stroop task': 11,\n 'response switching': 13,\n 'potential gain': 14,\n 'effect of reward': 14,\n 'fractal image': 16,\n 'increasing reward uncertainty': 16,\n 'increasing activation': 18,\n 'visual shape': 18,\n 'verbal reward': 18,\n 'high gain vs high loss': 20,\n 'feedback reward': 20,\n 'erotic reward': 20,\n 'reinforcement learning': 20,\n 'monetary and erotic reward': 20,\n 'increasing reward magnitude': 20,\n 'face stimuli': 24,\n 'time effect': 25,\n 'small incentive': 27,\n 'conditioning task': 28,\n 'visual shape color': 28,\n 'adult': 28,\n 'high vs low calorie food': 30,\n 'reversal learning': 32,\n 'chocolate bars': 33,\n 'task switching': 34,\n 'context-dependent reward': 34,\n 'young': 35,\n 'high incentive': 36,\n 'visual object': 37,\n 'extraversion': 39,\n 'dopamine': 39,\n 'Balloon Analog Risk Task': 42,\n 'food photo reward': 42,\n 'food': 42,\n 'anova': 43,\n 'negative reward': 44,\n 'n-back task': 46,\n 'SID': 51,\n 'taste reward': 51,\n 'cups task': 52,\n 'visual cards': 60,\n 'decision phase': 62,\n 'visual cue': 63,\n 'visual color pies with probabilities': 78,\n 'risk choice': 106,\n 'viewing': 138,\n 'MID': 160,\n 'social reward': 174,\n 'positive reward': 206,\n 'passive': 210,\n 'anticipation phase': 377,\n 'reward magnitude': 394,\n 'gambling': 449,\n 'reward value': 467,\n 'performance-dependent': 521,\n 'talairach': 540,\n 'MNI': 790,\n 'decision making': 801,\n 'outcome phase': 861,\n 'monetary reward': 994,\n 'fMRI': 1330}"
     },
     "execution_count": 31,
     "metadata": {},
     "output_type": "execute_result"
    }
   ],
   "source": [
    "list_keywords_reward = list(df_proc.list_of_sets_to_set(df_reward, 'keywords_split'))\n",
    "counter_keywords_reward = data_util.df_counter(df=df_reward.explode('keywords_split'), column='keywords_split',\n",
    "                                               set_keywords=list_keywords_reward, order=1)\n",
    "counter_keywords_reward"
   ],
   "metadata": {
    "collapsed": false,
    "pycharm": {
     "name": "#%%\n"
    }
   }
  },
  {
   "cell_type": "markdown",
   "source": [
    "## Check the Contrast"
   ],
   "metadata": {
    "collapsed": false
   }
  },
  {
   "cell_type": "code",
   "execution_count": 32,
   "outputs": [
    {
     "data": {
      "text/plain": "{'>nan_values<': 0,\n '-': 85,\n 'advantageous > disadvantageous': 8,\n 'all female faces > all male faces': 4,\n 'all w > all l': 5,\n 'ar switch > stay and sr switch > stay': 4,\n 'ar; sr > neutral activity': 16,\n 'average female > average male': 13,\n 'beautiful faces > average faces': 6,\n 'beautiful female > beautiful male': 23,\n 'beautiful male > average male': 5,\n 'choice > no choice': 8,\n 'decision-making > control task': 5,\n 'disadvantageous > advantageous': 5,\n 'erotic reward > monetary reward': 20,\n 'expected reward > received reward': 44,\n 'expected reward > received reward and control > adhd': 12,\n 'high probability > low probability': 20,\n 'high reward > high loss': 10,\n 'high reward > low reward': 201,\n 'high-calorie > low-calorie': 11,\n 'inhibiton task > control task': 10,\n 'l4 > l1': 5,\n 'large incentives > baseline': 36,\n 'lose > no reward': 7,\n 'lose > win': 16,\n 'lose modulation': 4,\n 'loss after winning streak > l1': 2,\n 'low probability > high probability': 31,\n 'low-calorie > high-calorie': 7,\n 'low-calorie and high-calorie': 12,\n 'monetary reward > erotic reward': 6,\n 'monetary reward > faces reward': 6,\n 'monetary reward > social reward': 12,\n 'monetary reward magnitude': 5,\n 'movement > no movement': 7,\n 'movement > no movement and reward > no reward': 4,\n 'negative correlation with reward level': 4,\n 'penalty during run of failure': 2,\n 'punishment > no reward': 2,\n 'punishment > reward': 5,\n 'received reward > expected reward': 22,\n 'response maintenance > response switch': 9,\n 'response switch > response maintenance': 13,\n 'reward > negative feedback': 28,\n 'reward > no reward': 248,\n 'reward > punishment': 21,\n 'reward during run of success': 5,\n 'reward during run of success and penalty during run of failure': 6,\n 'risk > safe': 60,\n 'safe > risk': 8,\n 'small incentives > baseline': 27,\n 'social reward > monetary reward': 3,\n 'social reward magnitude': 19,\n 'stroop block > baseline': 11,\n 'task switching > control task': 18,\n 'w1 > l1': 8,\n 'w4 > w1': 4,\n 'win > lose': 118,\n 'win > lose and risk > safe': 7,\n 'win after losing streak > w1': 2,\n 'win modulation': 5}"
     },
     "execution_count": 32,
     "metadata": {},
     "output_type": "execute_result"
    }
   ],
   "source": [
    "list_contrast_reward = list(df_reward['contrast'])\n",
    "counter_contrast_reward = data_util.df_counter(df=df_reward.explode('contrast'), column='contrast',\n",
    "                                               set_keywords=list_contrast_reward, order=0)\n",
    "counter_contrast_reward"
   ],
   "metadata": {
    "collapsed": false,
    "pycharm": {
     "name": "#%%\n"
    }
   }
  },
  {
   "cell_type": "markdown",
   "source": [
    "## Select 3 - reward - anticipation phase / reward > no reward\n",
    "### Keywords"
   ],
   "metadata": {
    "collapsed": false
   }
  },
  {
   "cell_type": "code",
   "execution_count": 33,
   "outputs": [],
   "source": [
    "## Create mask for selected keywords\n",
    "list_set_select3 = [{'anticipation phase'}]"
   ],
   "metadata": {
    "collapsed": false,
    "pycharm": {
     "name": "#%%\n"
    }
   }
  },
  {
   "cell_type": "code",
   "execution_count": 34,
   "outputs": [],
   "source": [
    "mask_reward_select3_keywords = True\n",
    "for set_sel in list_set_select3:\n",
    "    mask_reward_select3_keywords = np.logical_and(mask_reward_select3_keywords,df_proc.check_column_elem(df=df_reward,\n",
    "                                                                                    colummn_name='keywords_split',\n",
    "                                                                                    check_set=set_sel))"
   ],
   "metadata": {
    "collapsed": false,
    "pycharm": {
     "name": "#%%\n"
    }
   }
  },
  {
   "cell_type": "markdown",
   "source": [
    "### Contrast"
   ],
   "metadata": {
    "collapsed": false
   }
  },
  {
   "cell_type": "code",
   "execution_count": 35,
   "outputs": [
    {
     "data": {
      "text/plain": "{'movement > no movement and reward > no reward', 'reward > no reward'}"
     },
     "execution_count": 35,
     "metadata": {},
     "output_type": "execute_result"
    }
   ],
   "source": [
    "set_contrast = {'reward > no reward','movement > no movement and reward > no reward'}\n",
    "set_contrast"
   ],
   "metadata": {
    "collapsed": false,
    "pycharm": {
     "name": "#%%\n"
    }
   }
  },
  {
   "cell_type": "code",
   "execution_count": 36,
   "outputs": [],
   "source": [
    "mask_reward_select3_contrast = df_proc.check_column_elem(df=df_reward, colummn_name='contrast', check_set=set_contrast)"
   ],
   "metadata": {
    "collapsed": false,
    "pycharm": {
     "name": "#%%\n"
    }
   }
  },
  {
   "cell_type": "markdown",
   "source": [
    "### select3"
   ],
   "metadata": {
    "collapsed": false,
    "pycharm": {
     "name": "#%% md\n"
    }
   }
  },
  {
   "cell_type": "code",
   "execution_count": 37,
   "outputs": [
    {
     "data": {
      "text/plain": "(118, 27)"
     },
     "execution_count": 37,
     "metadata": {},
     "output_type": "execute_result"
    }
   ],
   "source": [
    "mask_reward_select3 = np.logical_and(mask_reward_select3_keywords,mask_reward_select3_contrast)\n",
    "df_reward_select3 = df_reward[mask_reward_select3]\n",
    "df_reward_select3.shape"
   ],
   "metadata": {
    "collapsed": false,
    "pycharm": {
     "name": "#%%\n"
    }
   }
  },
  {
   "cell_type": "code",
   "execution_count": 38,
   "outputs": [
    {
     "data": {
      "text/plain": "title           8\ntable_name     10\nindex_col     118\ndtype: int64"
     },
     "execution_count": 38,
     "metadata": {},
     "output_type": "execute_result"
    }
   ],
   "source": [
    "df_reward_select3[['title','table_name','index_col']].nunique()"
   ],
   "metadata": {
    "collapsed": false,
    "pycharm": {
     "name": "#%%\n"
    }
   }
  },
  {
   "cell_type": "markdown",
   "source": [
    "### Create txt file in sleuth format - select3"
   ],
   "metadata": {
    "collapsed": false
   }
  },
  {
   "cell_type": "code",
   "execution_count": 39,
   "outputs": [],
   "source": [
    "file_name_select3 = 'select03_reward_anticipation_rw-norw.txt'\n",
    "df_proc.dataframe_to_sleuth_txt(df_reward_select3,file_name=file_name_select3,file_path=__file_path_txt,title_max_chars=30)\n"
   ],
   "metadata": {
    "collapsed": false,
    "pycharm": {
     "name": "#%%\n"
    }
   }
  },
  {
   "cell_type": "markdown",
   "source": [
    "## Select 4 - reward - anticipation phase / high > low\n",
    "### Keywords"
   ],
   "metadata": {
    "collapsed": false,
    "pycharm": {
     "name": "#%% md\n"
    }
   }
  },
  {
   "cell_type": "code",
   "execution_count": 40,
   "outputs": [],
   "source": [
    "## Create mask for selected keywords\n",
    "list_set_select4 = [{'anticipation phase'}]"
   ],
   "metadata": {
    "collapsed": false,
    "pycharm": {
     "name": "#%%\n"
    }
   }
  },
  {
   "cell_type": "code",
   "execution_count": 41,
   "outputs": [],
   "source": [
    "mask_reward_select4_keywords = True\n",
    "for set_sel in list_set_select4:\n",
    "    mask_reward_select4_keywords = np.logical_and(mask_reward_select4_keywords,df_proc.check_column_elem(df=df_reward,\n",
    "                                                                                    colummn_name='keywords_split',\n",
    "                                                                                    check_set=set_sel))"
   ],
   "metadata": {
    "collapsed": false,
    "pycharm": {
     "name": "#%%\n"
    }
   }
  },
  {
   "cell_type": "markdown",
   "source": [
    "### Contrast"
   ],
   "metadata": {
    "collapsed": false,
    "pycharm": {
     "name": "#%% md\n"
    }
   }
  },
  {
   "cell_type": "code",
   "execution_count": 42,
   "outputs": [
    {
     "data": {
      "text/plain": "{'high probability > low probability',\n 'high reward > low reward',\n 'large incentives > baseline'}"
     },
     "execution_count": 42,
     "metadata": {},
     "output_type": "execute_result"
    }
   ],
   "source": [
    "set_contrast = {'high reward > low reward','large incentives > baseline','high probability > low probability'}\n",
    "set_contrast"
   ],
   "metadata": {
    "collapsed": false,
    "pycharm": {
     "name": "#%%\n"
    }
   }
  },
  {
   "cell_type": "code",
   "execution_count": 43,
   "outputs": [],
   "source": [
    "mask_reward_select4_contrast = df_proc.check_column_elem(df=df_reward, colummn_name='contrast', check_set=set_contrast)"
   ],
   "metadata": {
    "collapsed": false,
    "pycharm": {
     "name": "#%%\n"
    }
   }
  },
  {
   "cell_type": "markdown",
   "source": [
    "### select4"
   ],
   "metadata": {
    "collapsed": false,
    "pycharm": {
     "name": "#%% md\n"
    }
   }
  },
  {
   "cell_type": "code",
   "execution_count": 44,
   "outputs": [
    {
     "data": {
      "text/plain": "(152, 27)"
     },
     "execution_count": 44,
     "metadata": {},
     "output_type": "execute_result"
    }
   ],
   "source": [
    "mask_reward_select4 = np.logical_and(mask_reward_select4_keywords,mask_reward_select4_contrast)\n",
    "df_reward_select4 = df_reward[mask_reward_select4]\n",
    "df_reward_select4.shape"
   ],
   "metadata": {
    "collapsed": false,
    "pycharm": {
     "name": "#%%\n"
    }
   }
  },
  {
   "cell_type": "code",
   "execution_count": 45,
   "outputs": [
    {
     "data": {
      "text/plain": "title           8\ntable_name     13\nindex_col     152\ndtype: int64"
     },
     "execution_count": 45,
     "metadata": {},
     "output_type": "execute_result"
    }
   ],
   "source": [
    "df_reward_select4[['title','table_name','index_col']].nunique()"
   ],
   "metadata": {
    "collapsed": false,
    "pycharm": {
     "name": "#%%\n"
    }
   }
  },
  {
   "cell_type": "markdown",
   "source": [
    "### Create txt file in sleuth format - select4"
   ],
   "metadata": {
    "collapsed": false
   }
  },
  {
   "cell_type": "code",
   "execution_count": 46,
   "outputs": [],
   "source": [
    "file_name_select4 = 'select04_reward_anticipation_high_low_rew.txt'\n",
    "df_proc.dataframe_to_sleuth_txt(df_reward_select4,file_name=file_name_select4,file_path=__file_path_txt,title_max_chars=30)\n"
   ],
   "metadata": {
    "collapsed": false,
    "pycharm": {
     "name": "#%%\n"
    }
   }
  },
  {
   "cell_type": "markdown",
   "source": [
    "## Select 5 - reward - anticipation phase / expected reward > received reward\n",
    "### Keywords"
   ],
   "metadata": {
    "collapsed": false,
    "pycharm": {
     "name": "#%% md\n"
    }
   }
  },
  {
   "cell_type": "code",
   "execution_count": 47,
   "outputs": [],
   "source": [
    "## Create mask for selected keywords\n",
    "list_set_select5 = [{'anticipation phase'}]"
   ],
   "metadata": {
    "collapsed": false,
    "pycharm": {
     "name": "#%%\n"
    }
   }
  },
  {
   "cell_type": "code",
   "execution_count": 48,
   "outputs": [],
   "source": [
    "mask_reward_select5_keywords = True\n",
    "for set_sel in list_set_select5:\n",
    "    mask_reward_select5_keywords = np.logical_and(mask_reward_select5_keywords,df_proc.check_column_elem(df=df_reward,\n",
    "                                                                                    colummn_name='keywords_split',\n",
    "                                                                                    check_set=set_sel))"
   ],
   "metadata": {
    "collapsed": false,
    "pycharm": {
     "name": "#%%\n"
    }
   }
  },
  {
   "cell_type": "markdown",
   "source": [
    "### Contrast"
   ],
   "metadata": {
    "collapsed": false
   }
  },
  {
   "cell_type": "code",
   "execution_count": 49,
   "outputs": [
    {
     "data": {
      "text/plain": "{'expected reward > received reward',\n 'expected reward > received reward and control > adhd'}"
     },
     "execution_count": 49,
     "metadata": {},
     "output_type": "execute_result"
    }
   ],
   "source": [
    "set_contrast = {'expected reward > received reward','expected reward > received reward and control > adhd'}\n",
    "set_contrast"
   ],
   "metadata": {
    "collapsed": false,
    "pycharm": {
     "name": "#%%\n"
    }
   }
  },
  {
   "cell_type": "code",
   "execution_count": 50,
   "outputs": [],
   "source": [
    "mask_reward_select5_contrast = df_proc.check_column_elem(df=df_reward, colummn_name='contrast', check_set=set_contrast)"
   ],
   "metadata": {
    "collapsed": false,
    "pycharm": {
     "name": "#%%\n"
    }
   }
  },
  {
   "cell_type": "markdown",
   "source": [
    "### select5"
   ],
   "metadata": {
    "collapsed": false
   }
  },
  {
   "cell_type": "code",
   "execution_count": 51,
   "outputs": [
    {
     "data": {
      "text/plain": "(39, 27)"
     },
     "execution_count": 51,
     "metadata": {},
     "output_type": "execute_result"
    }
   ],
   "source": [
    "mask_reward_select5 = np.logical_and(mask_reward_select5_keywords,mask_reward_select5_contrast)\n",
    "df_reward_select5 = df_reward[mask_reward_select5]\n",
    "df_reward_select5.shape"
   ],
   "metadata": {
    "collapsed": false,
    "pycharm": {
     "name": "#%%\n"
    }
   }
  },
  {
   "cell_type": "code",
   "execution_count": 52,
   "outputs": [
    {
     "data": {
      "text/plain": "title          3\ntable_name     4\nindex_col     39\ndtype: int64"
     },
     "execution_count": 52,
     "metadata": {},
     "output_type": "execute_result"
    }
   ],
   "source": [
    "df_reward_select5[['title','table_name','index_col']].nunique()"
   ],
   "metadata": {
    "collapsed": false,
    "pycharm": {
     "name": "#%%\n"
    }
   }
  },
  {
   "cell_type": "markdown",
   "source": [
    "### Create txt file in sleuth format - select5"
   ],
   "metadata": {
    "collapsed": false
   }
  },
  {
   "cell_type": "code",
   "execution_count": 53,
   "outputs": [],
   "source": [
    "file_name_select5 = 'select05_reward_anticipation_exp_recv_rew.txt'\n",
    "df_proc.dataframe_to_sleuth_txt(df_reward_select5,file_name=file_name_select5,file_path=__file_path_txt,title_max_chars=30)"
   ],
   "metadata": {
    "collapsed": false,
    "pycharm": {
     "name": "#%%\n"
    }
   }
  },
  {
   "cell_type": "code",
   "execution_count": 53,
   "outputs": [],
   "source": [],
   "metadata": {
    "collapsed": false,
    "pycharm": {
     "name": "#%%\n"
    }
   }
  },
  {
   "cell_type": "markdown",
   "source": [
    "## Select 6 - reward - outcome phase / reward > no reward\n",
    "### Keywords"
   ],
   "metadata": {
    "collapsed": false
   }
  },
  {
   "cell_type": "code",
   "execution_count": 54,
   "outputs": [],
   "source": [
    "## Create mask for selected keywords\n",
    "list_set_select6 = [{'outcome phase'}]"
   ],
   "metadata": {
    "collapsed": false,
    "pycharm": {
     "name": "#%%\n"
    }
   }
  },
  {
   "cell_type": "code",
   "execution_count": 55,
   "outputs": [],
   "source": [
    "mask_reward_select6_keywords = True\n",
    "for set_sel in list_set_select6:\n",
    "    mask_reward_select6_keywords = np.logical_and(mask_reward_select6_keywords,df_proc.check_column_elem(df=df_reward,\n",
    "                                                                                    colummn_name='keywords_split',\n",
    "                                                                                    check_set=set_sel))"
   ],
   "metadata": {
    "collapsed": false,
    "pycharm": {
     "name": "#%%\n"
    }
   }
  },
  {
   "cell_type": "markdown",
   "source": [
    "### Contrast"
   ],
   "metadata": {
    "collapsed": false
   }
  },
  {
   "cell_type": "code",
   "execution_count": 56,
   "outputs": [
    {
     "data": {
      "text/plain": "{'movement > no movement and reward > no reward', 'reward > no reward'}"
     },
     "execution_count": 56,
     "metadata": {},
     "output_type": "execute_result"
    }
   ],
   "source": [
    "set_contrast = {\"reward > no reward\", 'movement > no movement and reward > no reward'}\n",
    "set_contrast"
   ],
   "metadata": {
    "collapsed": false,
    "pycharm": {
     "name": "#%%\n"
    }
   }
  },
  {
   "cell_type": "code",
   "execution_count": 57,
   "outputs": [],
   "source": [
    "mask_reward_select6_contrast = df_proc.check_column_elem(df=df_reward, colummn_name='contrast', check_set=set_contrast)\n",
    "df = df_reward[mask_reward_select6_contrast]"
   ],
   "metadata": {
    "collapsed": false,
    "pycharm": {
     "name": "#%%\n"
    }
   }
  },
  {
   "cell_type": "markdown",
   "source": [
    "### select6"
   ],
   "metadata": {
    "collapsed": false
   }
  },
  {
   "cell_type": "code",
   "execution_count": 58,
   "outputs": [
    {
     "data": {
      "text/plain": "(134, 27)"
     },
     "execution_count": 58,
     "metadata": {},
     "output_type": "execute_result"
    }
   ],
   "source": [
    "mask_reward_select6 = np.logical_and(mask_reward_select6_keywords,mask_reward_select6_contrast)\n",
    "df_reward_select6 = df_reward[mask_reward_select6]\n",
    "df_reward_select6.shape"
   ],
   "metadata": {
    "collapsed": false,
    "pycharm": {
     "name": "#%%\n"
    }
   }
  },
  {
   "cell_type": "code",
   "execution_count": 59,
   "outputs": [
    {
     "data": {
      "text/plain": "title          10\ntable_name     12\nindex_col     134\ndtype: int64"
     },
     "execution_count": 59,
     "metadata": {},
     "output_type": "execute_result"
    }
   ],
   "source": [
    "df_reward_select6[['title','table_name','index_col']].nunique()"
   ],
   "metadata": {
    "collapsed": false,
    "pycharm": {
     "name": "#%%\n"
    }
   }
  },
  {
   "cell_type": "markdown",
   "source": [
    "### Create txt file in sleuth format - select6"
   ],
   "metadata": {
    "collapsed": false
   }
  },
  {
   "cell_type": "code",
   "execution_count": 60,
   "outputs": [],
   "source": [
    "file_name_select6 = 'select06_reward_outcome_rw-norw.txt'\n",
    "df_proc.dataframe_to_sleuth_txt(df_reward_select6,file_name=file_name_select6,file_path=__file_path_txt,title_max_chars=30)"
   ],
   "metadata": {
    "collapsed": false,
    "pycharm": {
     "name": "#%%\n"
    }
   }
  },
  {
   "cell_type": "code",
   "execution_count": 60,
   "outputs": [],
   "source": [],
   "metadata": {
    "collapsed": false,
    "pycharm": {
     "name": "#%%\n"
    }
   }
  },
  {
   "cell_type": "markdown",
   "source": [
    "## Select 7 - reward - outcome phase / risk > safe\n",
    "### Keywords"
   ],
   "metadata": {
    "collapsed": false
   }
  },
  {
   "cell_type": "code",
   "execution_count": 61,
   "outputs": [],
   "source": [
    "## Create mask for selected keywords\n",
    "list_set_select7 = [{'outcome phase'}]"
   ],
   "metadata": {
    "collapsed": false,
    "pycharm": {
     "name": "#%%\n"
    }
   }
  },
  {
   "cell_type": "code",
   "execution_count": 62,
   "outputs": [],
   "source": [
    "mask_reward_select7_keywords = True\n",
    "for set_sel in list_set_select7:\n",
    "    mask_reward_select7_keywords = np.logical_and(mask_reward_select7_keywords,df_proc.check_column_elem(df=df_reward,\n",
    "                                                                                    colummn_name='keywords_split',\n",
    "                                                                                    check_set=set_sel))"
   ],
   "metadata": {
    "collapsed": false,
    "pycharm": {
     "name": "#%%\n"
    }
   }
  },
  {
   "cell_type": "markdown",
   "source": [
    "### Contrast"
   ],
   "metadata": {
    "collapsed": false
   }
  },
  {
   "cell_type": "code",
   "execution_count": 63,
   "outputs": [
    {
     "data": {
      "text/plain": "{'risk > safe', 'win > lose and risk > safe'}"
     },
     "execution_count": 63,
     "metadata": {},
     "output_type": "execute_result"
    }
   ],
   "source": [
    "set_contrast = {'risk > safe','win > lose and risk > safe'}\n",
    "set_contrast"
   ],
   "metadata": {
    "collapsed": false,
    "pycharm": {
     "name": "#%%\n"
    }
   }
  },
  {
   "cell_type": "code",
   "execution_count": 64,
   "outputs": [],
   "source": [
    "mask_reward_select7_contrast = df_proc.check_column_elem(df=df_reward, colummn_name='contrast', check_set=set_contrast)\n",
    "df = df_reward[mask_reward_select7_contrast]"
   ],
   "metadata": {
    "collapsed": false,
    "pycharm": {
     "name": "#%%\n"
    }
   }
  },
  {
   "cell_type": "markdown",
   "source": [
    "### select7"
   ],
   "metadata": {
    "collapsed": false
   }
  },
  {
   "cell_type": "code",
   "execution_count": 65,
   "outputs": [
    {
     "data": {
      "text/plain": "(40, 27)"
     },
     "execution_count": 65,
     "metadata": {},
     "output_type": "execute_result"
    }
   ],
   "source": [
    "mask_reward_select7 = np.logical_and(mask_reward_select7_keywords,mask_reward_select7_contrast)\n",
    "df_reward_select7 = df_reward[mask_reward_select7]\n",
    "df_reward_select7.shape"
   ],
   "metadata": {
    "collapsed": false,
    "pycharm": {
     "name": "#%%\n"
    }
   }
  },
  {
   "cell_type": "code",
   "execution_count": 66,
   "outputs": [
    {
     "data": {
      "text/plain": "title          3\ntable_name     4\nindex_col     40\ndtype: int64"
     },
     "execution_count": 66,
     "metadata": {},
     "output_type": "execute_result"
    }
   ],
   "source": [
    "df_reward_select7[['title','table_name','index_col']].nunique()"
   ],
   "metadata": {
    "collapsed": false,
    "pycharm": {
     "name": "#%%\n"
    }
   }
  },
  {
   "cell_type": "markdown",
   "source": [
    "### Create txt file in sleuth format - select7"
   ],
   "metadata": {
    "collapsed": false
   }
  },
  {
   "cell_type": "code",
   "execution_count": 67,
   "outputs": [],
   "source": [
    "file_name_select7 = 'select07_reward_outcome_risk-safe.txt'\n",
    "df_proc.dataframe_to_sleuth_txt(df_reward_select7,file_name=file_name_select7,file_path=__file_path_txt,title_max_chars=30)"
   ],
   "metadata": {
    "collapsed": false,
    "pycharm": {
     "name": "#%%\n"
    }
   }
  },
  {
   "cell_type": "markdown",
   "source": [
    "## Select 8 - reward - outcome phase / high reward > low reward\n",
    "### Keywords"
   ],
   "metadata": {
    "collapsed": false
   }
  },
  {
   "cell_type": "code",
   "execution_count": 68,
   "outputs": [],
   "source": [
    "## Create mask for selected keywords\n",
    "list_set_select8 = [{'outcome phase'}]"
   ],
   "metadata": {
    "collapsed": false,
    "pycharm": {
     "name": "#%%\n"
    }
   }
  },
  {
   "cell_type": "code",
   "execution_count": 69,
   "outputs": [],
   "source": [
    "mask_reward_select8_keywords = True\n",
    "for set_sel in list_set_select8:\n",
    "    mask_reward_select8_keywords = np.logical_and(mask_reward_select8_keywords,df_proc.check_column_elem(df=df_reward,\n",
    "                                                                                    colummn_name='keywords_split',\n",
    "                                                                                    check_set=set_sel))"
   ],
   "metadata": {
    "collapsed": false,
    "pycharm": {
     "name": "#%%\n"
    }
   }
  },
  {
   "cell_type": "markdown",
   "source": [
    "### Contrast"
   ],
   "metadata": {
    "collapsed": false
   }
  },
  {
   "cell_type": "code",
   "execution_count": 70,
   "outputs": [
    {
     "data": {
      "text/plain": "{'high probability > low probability',\n 'high reward > low reward',\n 'large incentives > baseline'}"
     },
     "execution_count": 70,
     "metadata": {},
     "output_type": "execute_result"
    }
   ],
   "source": [
    "set_contrast ={'high reward > low reward','large incentives > baseline','high probability > low probability'}\n",
    "set_contrast"
   ],
   "metadata": {
    "collapsed": false,
    "pycharm": {
     "name": "#%%\n"
    }
   }
  },
  {
   "cell_type": "code",
   "execution_count": 71,
   "outputs": [],
   "source": [
    "mask_reward_select8_contrast = df_proc.check_column_elem(df=df_reward, colummn_name='contrast', check_set=set_contrast)\n",
    "df = df_reward[mask_reward_select8_contrast]"
   ],
   "metadata": {
    "collapsed": false,
    "pycharm": {
     "name": "#%%\n"
    }
   }
  },
  {
   "cell_type": "markdown",
   "source": [
    "### select8"
   ],
   "metadata": {
    "collapsed": false
   }
  },
  {
   "cell_type": "code",
   "execution_count": 72,
   "outputs": [
    {
     "data": {
      "text/plain": "(109, 27)"
     },
     "execution_count": 72,
     "metadata": {},
     "output_type": "execute_result"
    }
   ],
   "source": [
    "mask_reward_select8 = np.logical_and(mask_reward_select8_keywords,mask_reward_select8_contrast)\n",
    "df_reward_select8 = df_reward[mask_reward_select8]\n",
    "df_reward_select8.shape"
   ],
   "metadata": {
    "collapsed": false,
    "pycharm": {
     "name": "#%%\n"
    }
   }
  },
  {
   "cell_type": "code",
   "execution_count": 73,
   "outputs": [
    {
     "data": {
      "text/plain": "title           9\ntable_name     12\nindex_col     109\ndtype: int64"
     },
     "execution_count": 73,
     "metadata": {},
     "output_type": "execute_result"
    }
   ],
   "source": [
    "df_reward_select8[['title','table_name','index_col']].nunique()"
   ],
   "metadata": {
    "collapsed": false,
    "pycharm": {
     "name": "#%%\n"
    }
   }
  },
  {
   "cell_type": "markdown",
   "source": [
    "### Create txt file in sleuth format - select8"
   ],
   "metadata": {
    "collapsed": false
   }
  },
  {
   "cell_type": "code",
   "execution_count": 74,
   "outputs": [],
   "source": [
    "file_name_select8 = 'select08_reward_outcome_high-low.txt'\n",
    "df_proc.dataframe_to_sleuth_txt(df_reward_select8,file_name=file_name_select8,file_path=__file_path_txt,title_max_chars=30)"
   ],
   "metadata": {
    "collapsed": false,
    "pycharm": {
     "name": "#%%\n"
    }
   }
  },
  {
   "cell_type": "code",
   "execution_count": 74,
   "outputs": [],
   "source": [],
   "metadata": {
    "collapsed": false,
    "pycharm": {
     "name": "#%%\n"
    }
   }
  },
  {
   "cell_type": "markdown",
   "source": [
    "## Select 9 - reward - outcome phase / win > lose\n",
    "### Keywords"
   ],
   "metadata": {
    "collapsed": false
   }
  },
  {
   "cell_type": "code",
   "execution_count": 75,
   "outputs": [],
   "source": [
    "## Create mask for selected keywords\n",
    "list_set_select9 = [{'outcome phase'}]"
   ],
   "metadata": {
    "collapsed": false,
    "pycharm": {
     "name": "#%%\n"
    }
   }
  },
  {
   "cell_type": "code",
   "execution_count": 76,
   "outputs": [],
   "source": [
    "mask_reward_select9_keywords = True\n",
    "for set_sel in list_set_select9:\n",
    "    mask_reward_select9_keywords = np.logical_and(mask_reward_select9_keywords,df_proc.check_column_elem(df=df_reward,\n",
    "                                                                                    colummn_name='keywords_split',\n",
    "                                                                                    check_set=set_sel))"
   ],
   "metadata": {
    "collapsed": false,
    "pycharm": {
     "name": "#%%\n"
    }
   }
  },
  {
   "cell_type": "markdown",
   "source": [
    "### Contrast"
   ],
   "metadata": {
    "collapsed": false
   }
  },
  {
   "cell_type": "code",
   "execution_count": 77,
   "outputs": [
    {
     "data": {
      "text/plain": "{'advantageous > disadvantageous', 'win > lose', 'win > lose and risk > safe'}"
     },
     "execution_count": 77,
     "metadata": {},
     "output_type": "execute_result"
    }
   ],
   "source": [
    "set_contrast ={'win > lose','win > lose and risk > safe','advantageous > disadvantageous'}\n",
    "set_contrast"
   ],
   "metadata": {
    "collapsed": false,
    "pycharm": {
     "name": "#%%\n"
    }
   }
  },
  {
   "cell_type": "code",
   "execution_count": 78,
   "outputs": [],
   "source": [
    "mask_reward_select9_contrast = df_proc.check_column_elem(df=df_reward, colummn_name='contrast', check_set=set_contrast)\n",
    "df = df_reward[mask_reward_select9_contrast]"
   ],
   "metadata": {
    "collapsed": false,
    "pycharm": {
     "name": "#%%\n"
    }
   }
  },
  {
   "cell_type": "markdown",
   "source": [
    "### select9"
   ],
   "metadata": {
    "collapsed": false
   }
  },
  {
   "cell_type": "code",
   "execution_count": 79,
   "outputs": [
    {
     "data": {
      "text/plain": "(121, 27)"
     },
     "execution_count": 79,
     "metadata": {},
     "output_type": "execute_result"
    }
   ],
   "source": [
    "mask_reward_select9 = np.logical_and(mask_reward_select9_keywords,mask_reward_select9_contrast)\n",
    "df_reward_select9 = df_reward[mask_reward_select9]\n",
    "df_reward_select9.shape"
   ],
   "metadata": {
    "collapsed": false,
    "pycharm": {
     "name": "#%%\n"
    }
   }
  },
  {
   "cell_type": "code",
   "execution_count": 80,
   "outputs": [
    {
     "data": {
      "text/plain": "title           6\ntable_name      7\nindex_col     121\ndtype: int64"
     },
     "execution_count": 80,
     "metadata": {},
     "output_type": "execute_result"
    }
   ],
   "source": [
    "df_reward_select9[['title','table_name','index_col']].nunique()"
   ],
   "metadata": {
    "collapsed": false,
    "pycharm": {
     "name": "#%%\n"
    }
   }
  },
  {
   "cell_type": "markdown",
   "source": [
    "### Create txt file in sleuth format - select9"
   ],
   "metadata": {
    "collapsed": false
   }
  },
  {
   "cell_type": "code",
   "execution_count": 81,
   "outputs": [],
   "source": [
    "file_name_select9 = 'select09_reward_outcome_win-lose.txt'\n",
    "df_proc.dataframe_to_sleuth_txt(df_reward_select9,file_name=file_name_select9,file_path=__file_path_txt,title_max_chars=30)\n"
   ],
   "metadata": {
    "collapsed": false,
    "pycharm": {
     "name": "#%%\n"
    }
   }
  },
  {
   "cell_type": "markdown",
   "source": [
    "## Select 10 - decision making - outcome phase"
   ],
   "metadata": {
    "collapsed": false
   }
  },
  {
   "cell_type": "markdown",
   "source": [
    "### Keywords"
   ],
   "metadata": {
    "collapsed": false,
    "pycharm": {
     "name": "#%% md\n"
    }
   }
  },
  {
   "cell_type": "code",
   "execution_count": 82,
   "outputs": [],
   "source": [
    "## Create mask for selected keywords\n",
    "list_set_select10 = [{'outcome phase'},{'decision making'}]"
   ],
   "metadata": {
    "collapsed": false,
    "pycharm": {
     "name": "#%%\n"
    }
   }
  },
  {
   "cell_type": "code",
   "execution_count": 83,
   "outputs": [],
   "source": [
    "mask_reward_select10_keywords = True\n",
    "for set_sel in list_set_select10:\n",
    "    mask_reward_select10_keywords = np.logical_and(mask_reward_select10_keywords,df_proc.check_column_elem(df=df_reward,\n",
    "                                                                                    colummn_name='keywords_split',\n",
    "                                                                                    check_set=set_sel))"
   ],
   "metadata": {
    "collapsed": false,
    "pycharm": {
     "name": "#%%\n"
    }
   }
  },
  {
   "cell_type": "markdown",
   "source": [
    "### Contrast"
   ],
   "metadata": {
    "collapsed": false
   }
  },
  {
   "cell_type": "code",
   "execution_count": 84,
   "outputs": [
    {
     "data": {
      "text/plain": "{}"
     },
     "execution_count": 84,
     "metadata": {},
     "output_type": "execute_result"
    }
   ],
   "source": [
    "set_contrast ={}\n",
    "set_contrast"
   ],
   "metadata": {
    "collapsed": false,
    "pycharm": {
     "name": "#%%\n"
    }
   }
  },
  {
   "cell_type": "code",
   "execution_count": 85,
   "outputs": [],
   "source": [
    "mask_reward_select10_contrast = df_proc.check_column_elem(df=df_reward, colummn_name='contrast', check_set=set_contrast)\n",
    "df = df_reward[mask_reward_select10_contrast]"
   ],
   "metadata": {
    "collapsed": false,
    "pycharm": {
     "name": "#%%\n"
    }
   }
  },
  {
   "cell_type": "markdown",
   "source": [
    "### select10"
   ],
   "metadata": {
    "collapsed": false
   }
  },
  {
   "cell_type": "code",
   "execution_count": 86,
   "outputs": [
    {
     "data": {
      "text/plain": "(626, 27)"
     },
     "execution_count": 86,
     "metadata": {},
     "output_type": "execute_result"
    }
   ],
   "source": [
    "mask_reward_select10 = np.logical_and(mask_reward_select10_keywords,mask_reward_select10_contrast)\n",
    "df_reward_select10 = df_reward[mask_reward_select10]\n",
    "df_reward_select10.shape"
   ],
   "metadata": {
    "collapsed": false,
    "pycharm": {
     "name": "#%%\n"
    }
   }
  },
  {
   "cell_type": "code",
   "execution_count": 87,
   "outputs": [
    {
     "data": {
      "text/plain": "title          22\ntable_name     63\nindex_col     626\ndtype: int64"
     },
     "execution_count": 87,
     "metadata": {},
     "output_type": "execute_result"
    }
   ],
   "source": [
    "df_reward_select10[['title','table_name','index_col']].nunique()"
   ],
   "metadata": {
    "collapsed": false,
    "pycharm": {
     "name": "#%%\n"
    }
   }
  },
  {
   "cell_type": "markdown",
   "source": [
    "### Create txt file in sleuth format - select10"
   ],
   "metadata": {
    "collapsed": false
   }
  },
  {
   "cell_type": "code",
   "execution_count": 88,
   "outputs": [],
   "source": [
    "file_name_select10 = 'select10_reward_decision-making_outcome.txt'\n",
    "df_proc.dataframe_to_sleuth_txt(df_reward_select10,file_name=file_name_select10,file_path=__file_path_txt,title_max_chars=30)"
   ],
   "metadata": {
    "collapsed": false,
    "pycharm": {
     "name": "#%%\n"
    }
   }
  },
  {
   "cell_type": "code",
   "execution_count": 88,
   "outputs": [],
   "source": [],
   "metadata": {
    "collapsed": false,
    "pycharm": {
     "name": "#%%\n"
    }
   }
  },
  {
   "cell_type": "markdown",
   "source": [
    "## Select 11 - decision making - anticipation phase"
   ],
   "metadata": {
    "collapsed": false
   }
  },
  {
   "cell_type": "markdown",
   "source": [
    "### Keywords"
   ],
   "metadata": {
    "collapsed": false
   }
  },
  {
   "cell_type": "code",
   "execution_count": 89,
   "outputs": [],
   "source": [
    "## Create mask for selected keywords\n",
    "list_set_select11 = [{'anticipation phase'},{'decision making'}]"
   ],
   "metadata": {
    "collapsed": false,
    "pycharm": {
     "name": "#%%\n"
    }
   }
  },
  {
   "cell_type": "code",
   "execution_count": 90,
   "outputs": [],
   "source": [
    "mask_reward_select11_keywords = True\n",
    "for set_sel in list_set_select11:\n",
    "    mask_reward_select11_keywords = np.logical_and(mask_reward_select11_keywords,df_proc.check_column_elem(df=df_reward,\n",
    "                                                                                    colummn_name='keywords_split',\n",
    "                                                                                    check_set=set_sel))"
   ],
   "metadata": {
    "collapsed": false,
    "pycharm": {
     "name": "#%%\n"
    }
   }
  },
  {
   "cell_type": "markdown",
   "source": [
    "### Contrast"
   ],
   "metadata": {
    "collapsed": false
   }
  },
  {
   "cell_type": "code",
   "execution_count": 91,
   "outputs": [
    {
     "data": {
      "text/plain": "{}"
     },
     "execution_count": 91,
     "metadata": {},
     "output_type": "execute_result"
    }
   ],
   "source": [
    "set_contrast ={}\n",
    "set_contrast"
   ],
   "metadata": {
    "collapsed": false,
    "pycharm": {
     "name": "#%%\n"
    }
   }
  },
  {
   "cell_type": "code",
   "execution_count": 92,
   "outputs": [],
   "source": [
    "mask_reward_select11_contrast = df_proc.check_column_elem(df=df_reward, colummn_name='contrast', check_set=set_contrast)\n",
    "df = df_reward[mask_reward_select11_contrast]"
   ],
   "metadata": {
    "collapsed": false,
    "pycharm": {
     "name": "#%%\n"
    }
   }
  },
  {
   "cell_type": "markdown",
   "source": [
    "### select11"
   ],
   "metadata": {
    "collapsed": false
   }
  },
  {
   "cell_type": "code",
   "execution_count": 93,
   "outputs": [
    {
     "data": {
      "text/plain": "(123, 27)"
     },
     "execution_count": 93,
     "metadata": {},
     "output_type": "execute_result"
    }
   ],
   "source": [
    "mask_reward_select11 = np.logical_and(mask_reward_select11_keywords,mask_reward_select11_contrast)\n",
    "df_reward_select11 = df_reward[mask_reward_select11]\n",
    "df_reward_select11.shape"
   ],
   "metadata": {
    "collapsed": false,
    "pycharm": {
     "name": "#%%\n"
    }
   }
  },
  {
   "cell_type": "code",
   "execution_count": 94,
   "outputs": [
    {
     "data": {
      "text/plain": "title           7\ntable_name     18\nindex_col     123\ndtype: int64"
     },
     "execution_count": 94,
     "metadata": {},
     "output_type": "execute_result"
    }
   ],
   "source": [
    "df_reward_select11[['title','table_name','index_col']].nunique()"
   ],
   "metadata": {
    "collapsed": false,
    "pycharm": {
     "name": "#%%\n"
    }
   }
  },
  {
   "cell_type": "markdown",
   "source": [
    "### Create txt file in sleuth format - select11"
   ],
   "metadata": {
    "collapsed": false
   }
  },
  {
   "cell_type": "code",
   "execution_count": 95,
   "outputs": [],
   "source": [
    "file_name_select11 = 'select11_reward_decision-making_anticipation.txt'\n",
    "df_proc.dataframe_to_sleuth_txt(df_reward_select11,file_name=file_name_select11,file_path=__file_path_txt,title_max_chars=30)"
   ],
   "metadata": {
    "collapsed": false,
    "pycharm": {
     "name": "#%%\n"
    }
   }
  },
  {
   "cell_type": "code",
   "execution_count": 95,
   "outputs": [],
   "source": [],
   "metadata": {
    "collapsed": false,
    "pycharm": {
     "name": "#%%\n"
    }
   }
  },
  {
   "cell_type": "markdown",
   "source": [
    "## Select 11 - decision making - decision phase"
   ],
   "metadata": {
    "collapsed": false
   }
  },
  {
   "cell_type": "markdown",
   "source": [
    "### Keywords"
   ],
   "metadata": {
    "collapsed": false
   }
  },
  {
   "cell_type": "code",
   "execution_count": 96,
   "outputs": [],
   "source": [
    "## Create mask for selected keywords\n",
    "list_set_select12 = [{'decision phase'},{'decision making'}]"
   ],
   "metadata": {
    "collapsed": false,
    "pycharm": {
     "name": "#%%\n"
    }
   }
  },
  {
   "cell_type": "code",
   "execution_count": 97,
   "outputs": [],
   "source": [
    "mask_reward_select12_keywords = True\n",
    "for set_sel in list_set_select12:\n",
    "    mask_reward_select12_keywords = np.logical_and(mask_reward_select12_keywords,df_proc.check_column_elem(df=df_reward,\n",
    "                                                                                    colummn_name='keywords_split',\n",
    "                                                                                    check_set=set_sel))"
   ],
   "metadata": {
    "collapsed": false,
    "pycharm": {
     "name": "#%%\n"
    }
   }
  },
  {
   "cell_type": "markdown",
   "source": [
    "### Contrast"
   ],
   "metadata": {
    "collapsed": false
   }
  },
  {
   "cell_type": "code",
   "execution_count": 98,
   "outputs": [
    {
     "data": {
      "text/plain": "{}"
     },
     "execution_count": 98,
     "metadata": {},
     "output_type": "execute_result"
    }
   ],
   "source": [
    "set_contrast ={}\n",
    "set_contrast"
   ],
   "metadata": {
    "collapsed": false,
    "pycharm": {
     "name": "#%%\n"
    }
   }
  },
  {
   "cell_type": "code",
   "execution_count": 99,
   "outputs": [],
   "source": [
    "mask_reward_select12_contrast = df_proc.check_column_elem(df=df_reward, colummn_name='contrast', check_set=set_contrast)\n",
    "df = df_reward[mask_reward_select12_contrast]"
   ],
   "metadata": {
    "collapsed": false,
    "pycharm": {
     "name": "#%%\n"
    }
   }
  },
  {
   "cell_type": "markdown",
   "source": [
    "### select12"
   ],
   "metadata": {
    "collapsed": false
   }
  },
  {
   "cell_type": "code",
   "execution_count": 100,
   "outputs": [
    {
     "data": {
      "text/plain": "(59, 27)"
     },
     "execution_count": 100,
     "metadata": {},
     "output_type": "execute_result"
    }
   ],
   "source": [
    "mask_reward_select12 = np.logical_and(mask_reward_select12_keywords,mask_reward_select12_contrast)\n",
    "df_reward_select12 = df_reward[mask_reward_select12]\n",
    "df_reward_select12.shape"
   ],
   "metadata": {
    "collapsed": false,
    "pycharm": {
     "name": "#%%\n"
    }
   }
  },
  {
   "cell_type": "code",
   "execution_count": 101,
   "outputs": [
    {
     "data": {
      "text/plain": "title          4\ntable_name     7\nindex_col     59\ndtype: int64"
     },
     "execution_count": 101,
     "metadata": {},
     "output_type": "execute_result"
    }
   ],
   "source": [
    "df_reward_select12[['title','table_name','index_col']].nunique()"
   ],
   "metadata": {
    "collapsed": false,
    "pycharm": {
     "name": "#%%\n"
    }
   }
  },
  {
   "cell_type": "markdown",
   "source": [
    "### Create txt file in sleuth format - select12"
   ],
   "metadata": {
    "collapsed": false
   }
  },
  {
   "cell_type": "code",
   "execution_count": 102,
   "outputs": [],
   "source": [
    "file_name_select12 = 'select12_reward_decision-making_decision.txt'\n",
    "df_proc.dataframe_to_sleuth_txt(df_reward_select12,file_name=file_name_select12,file_path=__file_path_txt,title_max_chars=30)"
   ],
   "metadata": {
    "collapsed": false,
    "pycharm": {
     "name": "#%%\n"
    }
   }
  },
  {
   "cell_type": "code",
   "execution_count": 102,
   "outputs": [],
   "source": [],
   "metadata": {
    "collapsed": false,
    "pycharm": {
     "name": "#%%\n"
    }
   }
  }
 ],
 "metadata": {
  "kernelspec": {
   "display_name": "Python 3",
   "language": "python",
   "name": "python3"
  },
  "language_info": {
   "codemirror_mode": {
    "name": "ipython",
    "version": 2
   },
   "file_extension": ".py",
   "mimetype": "text/x-python",
   "name": "python",
   "nbconvert_exporter": "python",
   "pygments_lexer": "ipython2",
   "version": "2.7.6"
  }
 },
 "nbformat": 4,
 "nbformat_minor": 0
}