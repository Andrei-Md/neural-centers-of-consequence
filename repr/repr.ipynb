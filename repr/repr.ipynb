{
 "cells": [
  {
   "cell_type": "code",
   "execution_count": 1,
   "outputs": [],
   "source": [
    "from mayavi import mlab\n",
    "import numpy as np"
   ],
   "metadata": {
    "collapsed": false,
    "pycharm": {
     "name": "#%%\n"
    }
   }
  },
  {
   "cell_type": "code",
   "execution_count": 2,
   "outputs": [],
   "source": [
    "colors = {10: [0, 255, 0], 11: [125, 125, 125], 24: [255, 0, 0], 44: [255, 255, 0], 45: [0, 255, 255], 46: [0, 0, 255],\n",
    "          47: [255, 0, 255]}\n",
    "#data\n",
    "xyz = np.array([[-6, 24, -21, 11],\n",
    "                [6, 30, -9, 11],\n",
    "                [9, 27, -12, 11],\n",
    "                [3, 54, -3, 10],\n",
    "                [-6, 6, 45, 24],\n",
    "                [12, 6, 36, 24],\n",
    "                [0, 33, -12, 11],\n",
    "                [3, 36, 21, 24],\n",
    "                [27, 27, -3, 47],\n",
    "                [24, 48, -6, 11],\n",
    "                # [-33, 48, 21, 46],\n",
    "                [36, 45, 30, 46],  ####\n",
    "                # [0, 57, 0, 10],\n",
    "                # [-15, 63, 9, 10],\n",
    "                # [-39, 54, 12, 10],\n",
    "                # [24, 48, 0, 10],\n",
    "                # [-48, 42, 15, 46],\n",
    "                # [-60, 12, 27, 44],\n",
    "                # [-3, 27, 33, 32],\n",
    "                # [-48,48,0,10]\n",
    "                [52,6,32,44],\n",
    "                [-34,52,6,10],\n",
    "                [36,40,26,45],\n",
    "                [44,46,16,46],\n",
    "                # [],\n",
    "                # [],\n",
    "                # [],\n",
    "                # [],\n",
    "                # [],\n",
    "                # []\n",
    "                ])"
   ],
   "metadata": {
    "collapsed": false,
    "pycharm": {
     "name": "#%%\n"
    }
   }
  },
  {
   "cell_type": "code",
   "execution_count": 3,
   "outputs": [
    {
     "name": "stdout",
     "output_type": "stream",
     "text": [
      "0 [ -6  24 -21  11]\n",
      "1 [ 6 30 -9 11]\n",
      "2 [  9  27 -12  11]\n",
      "3 [ 3 54 -3 10]\n",
      "4 [-6  6 45 24]\n",
      "5 [12  6 36 24]\n",
      "6 [  0  33 -12  11]\n",
      "7 [ 3 36 21 24]\n",
      "8 [27 27 -3 47]\n",
      "9 [24 48 -6 11]\n",
      "10 [36 45 30 46]\n",
      "11 [52  6 32 44]\n",
      "12 [-34  52   6  10]\n",
      "13 [36 40 26 45]\n",
      "14 [44 46 16 46]\n"
     ]
    }
   ],
   "source": [
    "mlab.figure(1, bgcolor=(0, 0, 0))\n",
    "mlab.clf()\n",
    "\n",
    "s = np.arange(len(xyz))\n",
    "lut = np.zeros((len(s), 4))\n",
    "lut[:, -1] = 255\n",
    "for i, val in enumerate(xyz):\n",
    "    print(i,val)\n",
    "    lut[i, 0:3] = colors[val[3]]"
   ],
   "metadata": {
    "collapsed": false,
    "pycharm": {
     "name": "#%%\n"
    }
   }
  },
  {
   "cell_type": "code",
   "execution_count": 4,
   "outputs": [],
   "source": [
    "# plot points\n",
    "pfc_pts = mlab.points3d(xyz[:, 0], xyz[:, 1], xyz[:, 2], s,\n",
    "                        # communities,\n",
    "                        colormap=\"Blues\",\n",
    "                        scale_factor=3,\n",
    "                        scale_mode='none',\n",
    "                        resolution=100)\n",
    "\n",
    "pfc_pts.module_manager.scalar_lut_manager.lut.number_of_colors = len(s)\n",
    "pfc_pts.module_manager.scalar_lut_manager.lut.table = lut\n",
    "# plot edges\n",
    "# pts.mlab_source.dataset.lines = np.array(list_of_edges)\n",
    "# tube = mlab.pipeline.tube(pts, tube_radius=0.1)\n",
    "# mlab.pipeline.surface(tube, color=(0.5, 0.5, 0.5))\n",
    "\n",
    "mlab.draw()\n",
    "mlab.show()"
   ],
   "metadata": {
    "collapsed": false,
    "pycharm": {
     "name": "#%%\n"
    }
   }
  },
  {
   "cell_type": "code",
   "execution_count": 5,
   "outputs": [],
   "source": [
    "s = np.arange(len(xyz))\n",
    "lut = np.zeros((len(s), 4))\n",
    "lut[:, -1] = 255\n",
    "for i, val in enumerate(xyz):\n",
    "    lut[i, 0:3] = colors[val[3]]\n"
   ],
   "metadata": {
    "collapsed": false,
    "pycharm": {
     "name": "#%%\n"
    }
   }
  }
 ],
 "metadata": {
  "kernelspec": {
   "name": "python3",
   "language": "python",
   "display_name": "Python 3 (ipykernel)"
  },
  "language_info": {
   "codemirror_mode": {
    "name": "ipython",
    "version": 2
   },
   "file_extension": ".py",
   "mimetype": "text/x-python",
   "name": "python",
   "nbconvert_exporter": "python",
   "pygments_lexer": "ipython2",
   "version": "2.7.6"
  }
 },
 "nbformat": 4,
 "nbformat_minor": 0
}