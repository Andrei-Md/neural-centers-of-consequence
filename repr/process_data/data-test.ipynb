{
 "cells": [
  {
   "cell_type": "markdown",
   "source": [
    "Test data for possible bad inputs"
   ],
   "metadata": {
    "collapsed": false,
    "pycharm": {
     "name": "#%% md\n"
    }
   }
  },
  {
   "cell_type": "code",
   "execution_count": 1,
   "metadata": {
    "collapsed": true
   },
   "outputs": [],
   "source": [
    "import pandas as pd\n",
    "import numpy as np\n",
    "import importlib\n",
    "import util.Data as data_util\n",
    "import util.Plotly as plots\n",
    "import json"
   ]
  },
  {
   "cell_type": "code",
   "execution_count": 2,
   "outputs": [
    {
     "data": {
      "text/plain": "<module 'util.Data' from 'D:\\\\scul\\\\uaic-ub\\\\licenta\\\\code\\\\util\\\\Data.py'>"
     },
     "execution_count": 2,
     "metadata": {},
     "output_type": "execute_result"
    }
   ],
   "source": [
    "importlib.reload(data_util)"
   ],
   "metadata": {
    "collapsed": false,
    "pycharm": {
     "name": "#%%\n"
    }
   }
  },
  {
   "cell_type": "markdown",
   "source": [
    "# Data"
   ],
   "metadata": {
    "collapsed": false
   }
  },
  {
   "cell_type": "code",
   "execution_count": 3,
   "outputs": [],
   "source": [
    "csv_filename = r'../data_db/final_coordinates-no_conversion.csv'"
   ],
   "metadata": {
    "collapsed": false,
    "pycharm": {
     "name": "#%%\n"
    }
   }
  },
  {
   "cell_type": "code",
   "execution_count": 4,
   "outputs": [
    {
     "name": "stdout",
     "output_type": "stream",
     "text": [
      "(1827, 19)\n"
     ]
    }
   ],
   "source": [
    "_no_columns = 19\n",
    "df_data = data_util.import_data(csv_filename)\n",
    "assert df_data.shape[1] == _no_columns, \"The number of columns is not good\"\n",
    "print(df_data.shape)"
   ],
   "metadata": {
    "collapsed": false,
    "pycharm": {
     "name": "#%%\n"
    }
   }
  },
  {
   "cell_type": "code",
   "execution_count": 5,
   "outputs": [
    {
     "name": "stdout",
     "output_type": "stream",
     "text": [
      "Number of peeks:  1827\n",
      "Number of papers:  61\n",
      "Number of main authors:  54\n"
     ]
    }
   ],
   "source": [
    "print(\"Number of peeks: \", df_data.shape[0])\n",
    "print(\"Number of papers: \", len(df_data['title'].unique()))\n",
    "print(\"Number of main authors: \", len(df_data['author'].unique()))"
   ],
   "metadata": {
    "collapsed": false,
    "pycharm": {
     "name": "#%%\n"
    }
   }
  },
  {
   "cell_type": "code",
   "execution_count": 6,
   "outputs": [
    {
     "data": {
      "text/plain": "importance        string\nauthor            string\ntitle             string\ntable_name        string\ncontrast          string\nkeywords          string\nName              string\nLeft/Right        string\nBroadman Area     string\nX(R)               int64\nY(A)               int64\nZ(S)               int64\nz-score          float64\nsubjects           int64\ncluster size     float64\np value          float64\nt                float64\nNV               float64\nindex_col          int64\ndtype: object"
     },
     "execution_count": 6,
     "metadata": {},
     "output_type": "execute_result"
    }
   ],
   "source": [
    "df_data.dtypes"
   ],
   "metadata": {
    "collapsed": false,
    "pycharm": {
     "name": "#%%\n"
    }
   }
  },
  {
   "cell_type": "markdown",
   "source": [
    "# Data Check"
   ],
   "metadata": {
    "collapsed": false,
    "pycharm": {
     "name": "#%% md\n"
    }
   }
  },
  {
   "cell_type": "markdown",
   "source": [
    "## Hemisphere"
   ],
   "metadata": {
    "collapsed": false,
    "pycharm": {
     "name": "#%% md\n"
    }
   }
  },
  {
   "cell_type": "code",
   "execution_count": 7,
   "outputs": [
    {
     "name": "stdout",
     "output_type": "stream",
     "text": [
      "(0, 19)\n"
     ]
    }
   ],
   "source": [
    "#get nan out\n",
    "mask_nan = df_data['Left/Right'].isna()\n",
    "df_left_right = df_data[~mask_nan]\n",
    "#Get known out\n",
    "ls_left_right = [\"left\", \"right\", \"r\", \"r.\", \"l\", \"l/r\", \"l.\", \"middle\", \"m.\", \"left/right\", \"bilateral\"]\n",
    "mask_ba = df_left_right['Left/Right'].isin(ls_left_right)\n",
    "df_left_right = df_left_right[~mask_ba]\n",
    "print(df_left_right.shape)\n",
    "assert df_left_right.shape[0] == 0, \"Hemisphere data may contain unwanted values\"\n",
    "# df_data['Left/Right'].unique()"
   ],
   "metadata": {
    "collapsed": false,
    "pycharm": {
     "name": "#%%\n"
    }
   }
  },
  {
   "cell_type": "markdown",
   "source": [
    "## Check columns without null values"
   ],
   "metadata": {
    "collapsed": false,
    "pycharm": {
     "name": "#%% md\n"
    }
   }
  },
  {
   "cell_type": "code",
   "execution_count": 8,
   "outputs": [
    {
     "name": "stdout",
     "output_type": "stream",
     "text": [
      "Index(['importance', 'author', 'title', 'table_name', 'contrast', 'keywords',\n",
      "       'Name', 'Left/Right', 'Broadman Area', 'X(R)', 'Y(A)', 'Z(S)',\n",
      "       'z-score', 'subjects', 'cluster size', 'p value', 't', 'NV',\n",
      "       'index_col'],\n",
      "      dtype='object')\n"
     ]
    }
   ],
   "source": [
    "print(df_data.columns)"
   ],
   "metadata": {
    "collapsed": false,
    "pycharm": {
     "name": "#%%\n"
    }
   }
  },
  {
   "cell_type": "code",
   "execution_count": 9,
   "outputs": [],
   "source": [
    "ls_col_nulls = ['author', 'title', 'table_name', 'contrast', 'keywords',\n",
    "                'X(R)', 'Y(A)', 'Z(S)', 'subjects']\n",
    "for col_name in ls_col_nulls:\n",
    "    assert df_data[col_name].isna().sum() == 0, \"Column: \\\"{col_name}\\\" contains null values\".format(col_name=col_name)"
   ],
   "metadata": {
    "collapsed": false,
    "pycharm": {
     "name": "#%%\n"
    }
   }
  },
  {
   "cell_type": "markdown",
   "source": [
    "## MNI and Talairach Spaces\n",
    "Count the MNI and Talairach keywords and should be equal with total rows"
   ],
   "metadata": {
    "collapsed": false,
    "pycharm": {
     "name": "#%% md\n"
    }
   }
  },
  {
   "cell_type": "code",
   "execution_count": 10,
   "outputs": [
    {
     "name": "stdout",
     "output_type": "stream",
     "text": [
      "MNI space entries 1062\n",
      "Talairach space entries 765\n",
      "Total number of rows:\t\t\t1827 \n",
      "sum of points with space specified:\t1827\n",
      "Difference:\t\t\t\t0\n"
     ]
    }
   ],
   "source": [
    "mni_spaces_entries = df_data['keywords'].str.contains('MNI').sum()\n",
    "tal_spaces_entries = df_data['keywords'].str.contains('talairach').sum()\n",
    "print(\"MNI space entries\", mni_spaces_entries)\n",
    "print(\"Talairach space entries\", tal_spaces_entries)\n",
    "print(\"Total number of rows:\\t\\t\\t{total_no_rows} \\nsum of points with space specified:\\t{points_sum}\"\n",
    "      \"\\nDifference:\\t\\t\\t\\t{diff}\".format(total_no_rows=df_data.shape[0],\n",
    "                                            points_sum=mni_spaces_entries + tal_spaces_entries,\n",
    "                                            diff=df_data.shape[0] - (mni_spaces_entries + tal_spaces_entries)))"
   ],
   "metadata": {
    "collapsed": false,
    "pycharm": {
     "name": "#%%\n"
    }
   }
  },
  {
   "cell_type": "code",
   "execution_count": 11,
   "outputs": [],
   "source": [
    "# mask_spaces = df_data['keywords'].str.contains('MNI|talairach')\n",
    "# df_tmp_spaces = df_data[~mask_spaces]"
   ],
   "metadata": {
    "collapsed": false,
    "pycharm": {
     "name": "#%%\n"
    }
   }
  },
  {
   "cell_type": "code",
   "execution_count": 12,
   "outputs": [],
   "source": [
    "assert df_data.shape[0] == mni_spaces_entries + tal_spaces_entries,\\\n",
    "\"There are some entries without the space specified or with multiple spaces specified\""
   ],
   "metadata": {
    "collapsed": false,
    "pycharm": {
     "name": "#%%\n"
    }
   }
  },
  {
   "cell_type": "markdown",
   "source": [
    "## Other checks\n",
    "\n"
   ],
   "metadata": {
    "collapsed": false,
    "pycharm": {
     "name": "#%% md\n"
    }
   }
  },
  {
   "cell_type": "markdown",
   "source": [
    "### Cluster size and Number of Voxels"
   ],
   "metadata": {
    "collapsed": false,
    "pycharm": {
     "name": "#%% md\n"
    }
   }
  },
  {
   "cell_type": "code",
   "execution_count": 13,
   "outputs": [],
   "source": [
    "mask_cluster_size_float = df_data['cluster size'].apply(lambda x: False if (pd.isna(x) or (x - int(x)) == 0) else True)\n",
    "df_tmp_cluster = df_data[mask_cluster_size_float]\n",
    "assert df_tmp_cluster.shape[0] == 0, \"There may be a problem in cluster size\"\n",
    "\n",
    "mask_nv_float = df_data['NV'].apply(lambda x: False if (pd.isna(x) or (x - int(x)) == 0) else True)\n",
    "df_tmp_nv = df_data[mask_nv_float]\n",
    "assert df_tmp_nv.shape[0] == 0, \"There are fractional number of voxels\""
   ],
   "metadata": {
    "collapsed": false,
    "pycharm": {
     "name": "#%%\n"
    }
   }
  },
  {
   "cell_type": "markdown",
   "source": [
    "Peak points coordinates"
   ],
   "metadata": {
    "collapsed": false,
    "pycharm": {
     "name": "#%% md\n"
    }
   }
  },
  {
   "cell_type": "code",
   "execution_count": 14,
   "outputs": [],
   "source": [
    "#TODO assert in intervals for x,y and z"
   ],
   "metadata": {
    "collapsed": false,
    "pycharm": {
     "name": "#%%\n"
    }
   }
  },
  {
   "cell_type": "markdown",
   "source": [
    "### Contrast"
   ],
   "metadata": {
    "collapsed": false
   }
  },
  {
   "cell_type": "code",
   "execution_count": 15,
   "outputs": [
    {
     "name": "stdout",
     "output_type": "stream",
     "text": [
      "{\n",
      "  \">nan_values<\": 0,\n",
      "  \"punishment > no reward\": \"2\",\n",
      "  \"win after losing streak > w1\": \"2\",\n",
      "  \"loss after winning streak > l1\": \"2\",\n",
      "  \"penalty during run of failure\": \"2\",\n",
      "  \"social reward > monetary reward\": \"3\",\n",
      "  \"precue > retrocue\": \"3\",\n",
      "  \"ar switch > stay and sr switch > stay\": \"4\",\n",
      "  \"all female faces > all male faces\": \"4\",\n",
      "  \"w4 > w1\": \"4\",\n",
      "  \"lose modulation\": \"4\",\n",
      "  \"negative correlation with reward level\": \"4\",\n",
      "  \"movement > no movement and reward > no reward\": \"4\",\n",
      "  \"sub-id > baseline\": \"4\",\n",
      "  \"decision-making > control task\": \"5\",\n",
      "  \"risky gambles > safe gambles\": \"5\",\n",
      "  \"beautiful male > average male\": \"5\",\n",
      "  \"l4 > l1\": \"5\",\n",
      "  \"all w > all l\": \"5\",\n",
      "  \"win modulation\": \"5\",\n",
      "  \"disadvantageous > advantageous\": \"5\",\n",
      "  \"reward during run of success\": \"5\",\n",
      "  \"lose > win\": \"5\",\n",
      "  \"punishment > reward\": \"5\",\n",
      "  \"monetary reward magnitude\": \"5\",\n",
      "  \"beautiful faces > average faces\": \"6\",\n",
      "  \"reward during run of success and penalty during run of failure\": \"6\",\n",
      "  \"monetary reward > erotic reward\": \"6\",\n",
      "  \"monetary reward > faces reward\": \"6\",\n",
      "  \"lose > no reward\": \"7\",\n",
      "  \"movement > no movement\": \"7\",\n",
      "  \"low-calorie > high-calorie\": \"7\",\n",
      "  \"win > lose and risk > safe\": \"7\",\n",
      "  \"cash-out > control\": \"8\",\n",
      "  \"choice > no choice\": \"8\",\n",
      "  \"w1 > l1\": \"8\",\n",
      "  \"advantageous > disadvantageous\": \"8\",\n",
      "  \"pumps > control\": \"9\",\n",
      "  \"response maintenance > response switch\": \"9\",\n",
      "  \"retrocue > precue\": \"9\",\n",
      "  \"inhibiton task > control task\": \"10\",\n",
      "  \"high reward > high loss\": \"10\",\n",
      "  \"explosion > control\": \"11\",\n",
      "  \"stroop block > baseline\": \"11\",\n",
      "  \"high-calorie > low-calorie\": \"11\",\n",
      "  \"expected reward > received reward and control > adhd\": \"12\",\n",
      "  \"monetary reward > social reward\": \"12\",\n",
      "  \"low-calorie and high-calorie\": \"12\",\n",
      "  \"average female > average male\": \"13\",\n",
      "  \"response switch > response maintenance\": \"13\",\n",
      "  \"3-back; 2-back; 1-back > 0-back\": \"14\",\n",
      "  \"anticipation phase\": \"14\",\n",
      "  \"sub-dif > frame-dif\": \"14\",\n",
      "  \"n-back > control task\": \"15\",\n",
      "  \"ar; sr > neutral activity\": \"16\",\n",
      "  \"task switching > control task\": \"18\",\n",
      "  \"3-back > 0-back\": \"18\",\n",
      "  \"social reward magnitude\": \"19\",\n",
      "  \"high probability > low probability\": \"20\",\n",
      "  \"erotic reward > monetary reward\": \"20\",\n",
      "  \"reward > punishment\": \"21\",\n",
      "  \"sub-dif > baseline\": \"21\",\n",
      "  \"received reward > expected reward\": \"22\",\n",
      "  \"between sessions contrast\": \"23\",\n",
      "  \"beautiful female > beautiful male\": \"23\",\n",
      "  \"2-back > 1-back\": \"26\",\n",
      "  \"monetary reward > no reward\": \"26\",\n",
      "  \"small incentives > baseline\": \"27\",\n",
      "  \"reward > negative feedback\": \"28\",\n",
      "  \"social reward > no reward\": \"29\",\n",
      "  \"low probability > high probability\": \"31\",\n",
      "  \"large incentives > baseline\": \"36\",\n",
      "  \"2-back; 1-back > 0-back\": \"43\",\n",
      "  \"1-back > 0-back; 2-back > 1-back; 3-back > 2-back\": \"43\",\n",
      "  \"expected reward > received reward\": \"44\",\n",
      "  \"risk > safe\": \"46\",\n",
      "  \"1-back > rest\": \"58\",\n",
      "  \"win > lose\": \"118\",\n",
      "  \"2-back > 0-back\": \"126\",\n",
      "  \"-\": \"165\",\n",
      "  \"reward > no reward\": \"179\",\n",
      "  \"high reward > low reward\": \"201\"\n",
      "}\n"
     ]
    }
   ],
   "source": [
    "counter_contrast = data_util.df_counter(df_data, 'contrast', order=1)\n",
    "print(json.dumps(counter_contrast, indent=2, default=str))"
   ],
   "metadata": {
    "collapsed": false,
    "pycharm": {
     "name": "#%%\n"
    }
   }
  },
  {
   "cell_type": "markdown",
   "source": [
    "### Report titles"
   ],
   "metadata": {
    "collapsed": false,
    "pycharm": {
     "name": "#%% md\n"
    }
   }
  },
  {
   "cell_type": "code",
   "execution_count": 16,
   "outputs": [
    {
     "name": "stdout",
     "output_type": "stream",
     "text": [
      "{\n",
      "  \">nan_values<\": 0,\n",
      "  \"A Rapid fMRI Task Battery for Mapping of Visual, Motor, Cognitive and Emotional Function\": \"13\",\n",
      "  \"A functional neuroimaging study of motivation and executive function\": \"41\",\n",
      "  \"A region of mesial prefrontal cortex tracks monetarily rewarding outcomes - characterization with rapid event-related fMRI\": \"21\",\n",
      "  \"Abnormal neural activity in partially remitted late-onset depression An fMRI study of one-back working memory task\": \"58\",\n",
      "  \"Activity in human reward-sensitive brain areas is strongly context dependent\": \"10\",\n",
      "  \"Alterations in the functional neural circuitry supporting flexible choice behavior in autism spectrum disorders\": \"27\",\n",
      "  \"An fMRI study of working memory for schematic facial expressions\": \"24\",\n",
      "  \"Anterior cingulate cortex differently modulates fronto-parietal functional connectivity between resting-state and working memory tasks\": \"26\",\n",
      "  \"Anticipation of Increasing Monetary Reward Selectively Recruits Nucleus Accumbens\": \"24\",\n",
      "  \"Anticipation of monetary and social reward differently activates mesolimbic brain structures in men and women\": \"64\",\n",
      "  \"Anticipation of reward in a nonaversive differential conditioning paradigm and the brain reward system\": \"56\",\n",
      "  \"Are Attractive People Rewarding - Sex Differences in the Neural Substrates of Facial Attractiveness\": \"19\",\n",
      "  \"Beautiful Faces Have Variable Reward Value - fMRI and Behavioral Evidence\": \"51\",\n",
      "  \"Binge-Eating Disorder  Reward Sensitivity and Brain Activation to Images of Food\": \"12\",\n",
      "  \"Brain systems for assessing facial attractiveness\": \"15\",\n",
      "  \"Context-dependent cortical activation in response to financial reward and penalty  an event-related fMRI study\": \"35\",\n",
      "  \"Cortical and limbic activation during viewing of high- versus low-calorie foods\": \"30\",\n",
      "  \"Decreasing ventromedial prefrontal cortex activity during sequential risk-taking  an fMRI investigation of the balloon analog risk task\": \"28\",\n",
      "  \"Determining a Role for Ventromedial Prefrontal Cortex in Encoding Action-Based Value Signals During Reward-Related Decision Making\": \"20\",\n",
      "  \"Developmental effects of decision-making on sensitivity to reward - An fMRI study\": \"63\",\n",
      "  \"Differential Response Patterns in the Striatum and Orbitofrontal Cortex to Financial Reward in Humans - A Parametric Functional Magnetic Resonance Imaging Study\": \"16\",\n",
      "  \"Dissociable Neural Responses in Human Reward Systems\": \"19\",\n",
      "  \"Dissociating Valence of Outcome from Behavioral Control in Human Orbital and Ventral Prefrontal Cortices\": \"48\",\n",
      "  \"Dissociating contributions of ACC and vmPFC in reward prediction outcome and choice\": \"78\",\n",
      "  \"Dissociation of neural networks for anticipation and consumption of monetary and social rewards\": \"47\",\n",
      "  \"Dissociation of reward anticipation and outcome with event-related fMRI\": \"23\",\n",
      "  \"Distinct Portions of Anterior Cingulate Cortex and Medial Prefrontal Cortex Are Activated by Reward Processing in Separable Phases of Decision-Making Cognition\": \"24\",\n",
      "  \"Distinct Roles of Prefrontal Cortical Subregions in the Iowa Gambling Task\": \"37\",\n",
      "  \"Distinct Value Signals in Anterior and Posterior Ventromedial Prefrontal Cortex\": \"54\",\n",
      "  \"Distributed Neural Representation of Expected Value\": \"26\",\n",
      "  \"Does caffeine modulate verbal working memory processes - An fMRI study\": \"16\",\n",
      "  \"Dorsal striatum responses to reward and punishment - Effects of valence and magnitude manipulations\": \"12\",\n",
      "  \"Effort-Based Cost Benefit Valuation and the Human Brain\": \"9\",\n",
      "  \"From uncertainty to reward - BOLD characteristics differentiate signaling pathways\": \"43\",\n",
      "  \"Frontal Hypoactivation on Functional Magnetic Resonance Imaging in Working Memory after Severe Diffuse Traumatic Brain Injury\": \"34\",\n",
      "  \"Functional Dissociations of Risk and Reward Processing in the Medial Prefrontal Cortex\": \"52\",\n",
      "  \"Individual differences in extraversion and dopamine genetics predict neural reward responses\": \"39\",\n",
      "  \"Individual preferences modulate incentive values  Evidence from functional MRI\": \"33\",\n",
      "  \"Inhibit  switch  and update - A within-subject fMRI investigation of executive control\": \"43\",\n",
      "  \"Instrumental responding for rewards is associated with enhanced neuronal response in subcortical reward systems\": \"21\",\n",
      "  \"Is our self based on reward - Self-relatedness recruits neural activity in the reward system\": \"20\",\n",
      "  \"Learning to Like  A Role for Human Orbitofrontal Cortex in Conditioned Reward\": \"28\",\n",
      "  \"Long-term brain effects of N-back training- an fMRI study\": \"23\",\n",
      "  \"Monetary reward magnitude effects on behavior and brain function during goal-directed behavior\": \"11\",\n",
      "  \"Neural Coding of Reward-Prediction Error Signals During Classical Conditioning With Attractive Faces\": \"5\",\n",
      "  \"Neural Responses during Anticipation of a Primary Taste Reward\": \"18\",\n",
      "  \"Neural substrates of reward magnitude, probability, and risk during a wheel of fortune decision-making task\": \"14\",\n",
      "  \"No gender differences in brain activation during the N-back task  An fMRI study in healthy individuals\": \"14\",\n",
      "  \"Orienting Attention to Locations in Perceptual Versus Mental Representations\": \"42\",\n",
      "  \"Past experience shapes ongoing neural patterns for language\": \"19\",\n",
      "  \"Reward Value Coding Distinct From Risk Attitude-Related Uncertainty Coding in Human Reward Systems\": \"19\",\n",
      "  \"Right Ventromedial and Dorsolateral Prefrontal Cortices Mediate Adaptive Decisions under Ambiguity by Integrating Choice Utility and Outcome Evaluation\": \"13\",\n",
      "  \"Risky Decision Making - Prefrontal Cortex and Mesocorticolimbic Functional Connectivity in Methamphetamine Dependence\": \"14\",\n",
      "  \"Role of the Medial Prefrontal Cortex in Impaired Decision Making in Juvenile Attention-Deficit-Hyperactivity Disorder\": \"12\",\n",
      "  \"Role of the superior parietal lobules in letter-identity processing within strings FMRI evidence from skilled and dyslexicreaders\": \"39\",\n",
      "  \"Segregated and Integrated Coding of Reward and Punishment in the Cingulate Cortex\": \"23\",\n",
      "  \"Stimulus-dependent modulation of working memory for identity monitoring - A functional MRI study\": \"62\",\n",
      "  \"The Architecture of Reward Value Coding in the Human Orbitofrontal Cortex\": \"46\",\n",
      "  \"The neural system that bridges reward and cognition in humans  An fMRI study\": \"43\",\n",
      "  \"Tracking the Hemodynamic Responses to Reward and Punishment in the Striatum\": \"32\",\n",
      "  \"Working Memory Impairment in Fibromyalgia Patients Associated with Altered Frontoparietal Memory Network\": \"19\"\n",
      "}\n"
     ]
    }
   ],
   "source": [
    "counter_title = data_util.df_counter(df_data, 'title', order=0)\n",
    "print(json.dumps(counter_title, indent=2, default=str))"
   ],
   "metadata": {
    "collapsed": false,
    "pycharm": {
     "name": "#%%\n"
    }
   }
  },
  {
   "cell_type": "code",
   "execution_count": 16,
   "outputs": [],
   "source": [],
   "metadata": {
    "collapsed": false,
    "pycharm": {
     "name": "#%%\n"
    }
   }
  }
 ],
 "metadata": {
  "kernelspec": {
   "display_name": "Python 3",
   "language": "python",
   "name": "python3"
  },
  "language_info": {
   "codemirror_mode": {
    "name": "ipython",
    "version": 2
   },
   "file_extension": ".py",
   "mimetype": "text/x-python",
   "name": "python",
   "nbconvert_exporter": "python",
   "pygments_lexer": "ipython2",
   "version": "2.7.6"
  }
 },
 "nbformat": 4,
 "nbformat_minor": 0
}