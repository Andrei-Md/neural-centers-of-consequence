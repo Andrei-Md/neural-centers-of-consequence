{
 "cells": [
  {
   "cell_type": "markdown",
   "source": [
    "Convert data between MNI and Talairach Spaces and create new Columns"
   ],
   "metadata": {
    "collapsed": false,
    "pycharm": {
     "name": "#%% md\n"
    }
   }
  },
  {
   "cell_type": "code",
   "execution_count": 148,
   "metadata": {
    "collapsed": true
   },
   "outputs": [],
   "source": [
    "import pandas as pd\n",
    "import numpy as np\n",
    "import importlib\n",
    "import util.Data as data_util\n",
    "import util.Plotly as plots"
   ]
  },
  {
   "cell_type": "code",
   "execution_count": 149,
   "outputs": [
    {
     "data": {
      "text/plain": "<module 'util.Data' from 'D:\\\\scul\\\\uaic-ub\\\\licenta\\\\code\\\\util\\\\Data.py'>"
     },
     "execution_count": 149,
     "metadata": {},
     "output_type": "execute_result"
    }
   ],
   "source": [
    "importlib.reload(plots)\n",
    "importlib.reload(data_util)"
   ],
   "metadata": {
    "collapsed": false,
    "pycharm": {
     "name": "#%%\n"
    }
   }
  },
  {
   "cell_type": "markdown",
   "source": [
    "# Data"
   ],
   "metadata": {
    "collapsed": false
   }
  },
  {
   "cell_type": "code",
   "execution_count": 150,
   "outputs": [],
   "source": [
    "csv_filename = r'../data_db/final_coordinates-no_conversion.csv'\n",
    "columns_name = ['X(R)', 'Y(A)', 'Z(S)']\n",
    "new_columns_name = ['MNIX', 'MNIY', 'MNIZ', 'TALX', 'TALY', 'TALZ']"
   ],
   "metadata": {
    "collapsed": false,
    "pycharm": {
     "name": "#%%\n"
    }
   }
  },
  {
   "cell_type": "code",
   "execution_count": 151,
   "outputs": [
    {
     "data": {
      "text/plain": "(1827, 19)"
     },
     "execution_count": 151,
     "metadata": {},
     "output_type": "execute_result"
    }
   ],
   "source": [
    "df_data = data_util.import_data(csv_filename)\n",
    "original_shape = df_data.shape\n",
    "original_shape"
   ],
   "metadata": {
    "collapsed": false,
    "pycharm": {
     "name": "#%%\n"
    }
   }
  },
  {
   "cell_type": "code",
   "execution_count": 152,
   "outputs": [
    {
     "data": {
      "text/plain": "importance        string\nauthor            string\ntitle             string\ntable_name        string\ncontrast          string\nkeywords          string\nName              string\nLeft/Right        string\nBroadman Area     string\nX(R)               int64\nY(A)               int64\nZ(S)               int64\nz-score          float64\nsubjects           int64\ncluster size     float64\np value          float64\nt                float64\nNV               float64\nindex_col          int64\ndtype: object"
     },
     "execution_count": 152,
     "metadata": {},
     "output_type": "execute_result"
    }
   ],
   "source": [
    "df_data.dtypes"
   ],
   "metadata": {
    "collapsed": false,
    "pycharm": {
     "name": "#%%\n"
    }
   }
  },
  {
   "cell_type": "markdown",
   "source": [
    "## Split data\n",
    "Split data by mni and talairach type coordinates"
   ],
   "metadata": {
    "collapsed": false,
    "pycharm": {
     "name": "#%% md\n"
    }
   }
  },
  {
   "cell_type": "code",
   "execution_count": 153,
   "outputs": [],
   "source": [
    "split_mask = df_data['keywords'].str.contains('MNI', regex=True)\n",
    "df_mni = df_data[split_mask]\n",
    "df_tal = df_data[~split_mask]"
   ],
   "metadata": {
    "collapsed": false,
    "pycharm": {
     "name": "#%%\n"
    }
   }
  },
  {
   "cell_type": "code",
   "execution_count": 154,
   "outputs": [],
   "source": [
    "df_mni_coord = df_mni[columns_name]\n",
    "df_tal_coord = df_tal[columns_name]"
   ],
   "metadata": {
    "collapsed": false,
    "pycharm": {
     "name": "#%%\n"
    }
   }
  },
  {
   "cell_type": "code",
   "execution_count": 155,
   "outputs": [
    {
     "data": {
      "text/plain": "((1062, 3), (765, 3))"
     },
     "execution_count": 155,
     "metadata": {},
     "output_type": "execute_result"
    }
   ],
   "source": [
    "df_mni_coord.shape, df_tal_coord.shape"
   ],
   "metadata": {
    "collapsed": false,
    "pycharm": {
     "name": "#%%\n"
    }
   }
  },
  {
   "cell_type": "markdown",
   "source": [
    "## Convert data"
   ],
   "metadata": {
    "collapsed": false,
    "pycharm": {
     "name": "#%% md\n"
    }
   }
  },
  {
   "cell_type": "code",
   "execution_count": 156,
   "outputs": [
    {
     "data": {
      "text/plain": "   MNIX  MNIY  MNIZ    TALX    TALY    TALZ\n0    -6    24   -21  -6.436  22.720 -13.440\n1     6    30    -9   4.724  27.408  -2.105\n2     9    27   -12   7.544  24.788  -4.990\n3     3    54    -3   1.943  49.543   5.049\n4   -27   -18   -18 -26.229 -16.824 -14.125",
      "text/html": "<div>\n<style scoped>\n    .dataframe tbody tr th:only-of-type {\n        vertical-align: middle;\n    }\n\n    .dataframe tbody tr th {\n        vertical-align: top;\n    }\n\n    .dataframe thead th {\n        text-align: right;\n    }\n</style>\n<table border=\"1\" class=\"dataframe\">\n  <thead>\n    <tr style=\"text-align: right;\">\n      <th></th>\n      <th>MNIX</th>\n      <th>MNIY</th>\n      <th>MNIZ</th>\n      <th>TALX</th>\n      <th>TALY</th>\n      <th>TALZ</th>\n    </tr>\n  </thead>\n  <tbody>\n    <tr>\n      <th>0</th>\n      <td>-6</td>\n      <td>24</td>\n      <td>-21</td>\n      <td>-6.436</td>\n      <td>22.720</td>\n      <td>-13.440</td>\n    </tr>\n    <tr>\n      <th>1</th>\n      <td>6</td>\n      <td>30</td>\n      <td>-9</td>\n      <td>4.724</td>\n      <td>27.408</td>\n      <td>-2.105</td>\n    </tr>\n    <tr>\n      <th>2</th>\n      <td>9</td>\n      <td>27</td>\n      <td>-12</td>\n      <td>7.544</td>\n      <td>24.788</td>\n      <td>-4.990</td>\n    </tr>\n    <tr>\n      <th>3</th>\n      <td>3</td>\n      <td>54</td>\n      <td>-3</td>\n      <td>1.943</td>\n      <td>49.543</td>\n      <td>5.049</td>\n    </tr>\n    <tr>\n      <th>4</th>\n      <td>-27</td>\n      <td>-18</td>\n      <td>-18</td>\n      <td>-26.229</td>\n      <td>-16.824</td>\n      <td>-14.125</td>\n    </tr>\n  </tbody>\n</table>\n</div>"
     },
     "execution_count": 156,
     "metadata": {},
     "output_type": "execute_result"
    }
   ],
   "source": [
    "# MNI\n",
    "df_mni2tal = data_util.process_coordinates(data=df_mni_coord, conversion_type='mni2tal', no_decimals=3)\n",
    "df_mni2tal_conv = pd.concat([df_mni_coord, df_mni2tal], axis=1)\n",
    "df_mni2tal_conv.columns = new_columns_name\n",
    "df_mni2tal_conv.head()"
   ],
   "metadata": {
    "collapsed": false,
    "pycharm": {
     "name": "#%%\n"
    }
   }
  },
  {
   "cell_type": "code",
   "execution_count": 157,
   "outputs": [
    {
     "data": {
      "text/plain": "       MNIX    MNIY    MNIZ  TALX  TALY  TALZ\n357  16.464   6.770  53.166    14     1    52\n358 -23.050   4.589  56.033   -23    -1    54\n359  37.802  -2.247  44.755    34    -7    44\n360  36.464  46.588  29.523    33    40    34\n361 -42.318   4.131  51.832   -41    -1    50",
      "text/html": "<div>\n<style scoped>\n    .dataframe tbody tr th:only-of-type {\n        vertical-align: middle;\n    }\n\n    .dataframe tbody tr th {\n        vertical-align: top;\n    }\n\n    .dataframe thead th {\n        text-align: right;\n    }\n</style>\n<table border=\"1\" class=\"dataframe\">\n  <thead>\n    <tr style=\"text-align: right;\">\n      <th></th>\n      <th>MNIX</th>\n      <th>MNIY</th>\n      <th>MNIZ</th>\n      <th>TALX</th>\n      <th>TALY</th>\n      <th>TALZ</th>\n    </tr>\n  </thead>\n  <tbody>\n    <tr>\n      <th>357</th>\n      <td>16.464</td>\n      <td>6.770</td>\n      <td>53.166</td>\n      <td>14</td>\n      <td>1</td>\n      <td>52</td>\n    </tr>\n    <tr>\n      <th>358</th>\n      <td>-23.050</td>\n      <td>4.589</td>\n      <td>56.033</td>\n      <td>-23</td>\n      <td>-1</td>\n      <td>54</td>\n    </tr>\n    <tr>\n      <th>359</th>\n      <td>37.802</td>\n      <td>-2.247</td>\n      <td>44.755</td>\n      <td>34</td>\n      <td>-7</td>\n      <td>44</td>\n    </tr>\n    <tr>\n      <th>360</th>\n      <td>36.464</td>\n      <td>46.588</td>\n      <td>29.523</td>\n      <td>33</td>\n      <td>40</td>\n      <td>34</td>\n    </tr>\n    <tr>\n      <th>361</th>\n      <td>-42.318</td>\n      <td>4.131</td>\n      <td>51.832</td>\n      <td>-41</td>\n      <td>-1</td>\n      <td>50</td>\n    </tr>\n  </tbody>\n</table>\n</div>"
     },
     "execution_count": 157,
     "metadata": {},
     "output_type": "execute_result"
    }
   ],
   "source": [
    "#Talairach\n",
    "df_tal2mni = data_util.process_coordinates(data=df_tal_coord, conversion_type='tal2mni', no_decimals=3)\n",
    "df_tal2mni_conv = pd.concat([df_tal2mni, df_tal_coord], axis=1)\n",
    "df_tal2mni_conv.columns = new_columns_name\n",
    "df_tal2mni_conv.head()"
   ],
   "metadata": {
    "collapsed": false,
    "pycharm": {
     "name": "#%%\n"
    }
   }
  },
  {
   "cell_type": "code",
   "execution_count": 158,
   "outputs": [
    {
     "data": {
      "text/plain": "        MNIX    MNIY    MNIZ    TALX    TALY    TALZ\n0     -6.000  24.000 -21.000  -6.436  22.720 -13.440\n1      6.000  30.000  -9.000   4.724  27.408  -2.105\n2      9.000  27.000 -12.000   7.544  24.788  -4.990\n3      3.000  54.000  -3.000   1.943  49.543   5.049\n4    -27.000 -18.000 -18.000 -26.229 -16.824 -14.125\n...      ...     ...     ...     ...     ...     ...\n1822 -37.594  50.465 -10.098 -36.000  47.000  -2.000\n1823  24.449  38.318  -7.562  22.000  35.000   0.000\n1824  52.243  51.773  -1.203  48.000  47.000   7.000\n1825  57.953  24.853  35.560  53.000  19.000  38.000\n1826 -26.819 -41.921 -35.930 -26.000 -38.000 -32.000\n\n[1827 rows x 6 columns]",
      "text/html": "<div>\n<style scoped>\n    .dataframe tbody tr th:only-of-type {\n        vertical-align: middle;\n    }\n\n    .dataframe tbody tr th {\n        vertical-align: top;\n    }\n\n    .dataframe thead th {\n        text-align: right;\n    }\n</style>\n<table border=\"1\" class=\"dataframe\">\n  <thead>\n    <tr style=\"text-align: right;\">\n      <th></th>\n      <th>MNIX</th>\n      <th>MNIY</th>\n      <th>MNIZ</th>\n      <th>TALX</th>\n      <th>TALY</th>\n      <th>TALZ</th>\n    </tr>\n  </thead>\n  <tbody>\n    <tr>\n      <th>0</th>\n      <td>-6.000</td>\n      <td>24.000</td>\n      <td>-21.000</td>\n      <td>-6.436</td>\n      <td>22.720</td>\n      <td>-13.440</td>\n    </tr>\n    <tr>\n      <th>1</th>\n      <td>6.000</td>\n      <td>30.000</td>\n      <td>-9.000</td>\n      <td>4.724</td>\n      <td>27.408</td>\n      <td>-2.105</td>\n    </tr>\n    <tr>\n      <th>2</th>\n      <td>9.000</td>\n      <td>27.000</td>\n      <td>-12.000</td>\n      <td>7.544</td>\n      <td>24.788</td>\n      <td>-4.990</td>\n    </tr>\n    <tr>\n      <th>3</th>\n      <td>3.000</td>\n      <td>54.000</td>\n      <td>-3.000</td>\n      <td>1.943</td>\n      <td>49.543</td>\n      <td>5.049</td>\n    </tr>\n    <tr>\n      <th>4</th>\n      <td>-27.000</td>\n      <td>-18.000</td>\n      <td>-18.000</td>\n      <td>-26.229</td>\n      <td>-16.824</td>\n      <td>-14.125</td>\n    </tr>\n    <tr>\n      <th>...</th>\n      <td>...</td>\n      <td>...</td>\n      <td>...</td>\n      <td>...</td>\n      <td>...</td>\n      <td>...</td>\n    </tr>\n    <tr>\n      <th>1822</th>\n      <td>-37.594</td>\n      <td>50.465</td>\n      <td>-10.098</td>\n      <td>-36.000</td>\n      <td>47.000</td>\n      <td>-2.000</td>\n    </tr>\n    <tr>\n      <th>1823</th>\n      <td>24.449</td>\n      <td>38.318</td>\n      <td>-7.562</td>\n      <td>22.000</td>\n      <td>35.000</td>\n      <td>0.000</td>\n    </tr>\n    <tr>\n      <th>1824</th>\n      <td>52.243</td>\n      <td>51.773</td>\n      <td>-1.203</td>\n      <td>48.000</td>\n      <td>47.000</td>\n      <td>7.000</td>\n    </tr>\n    <tr>\n      <th>1825</th>\n      <td>57.953</td>\n      <td>24.853</td>\n      <td>35.560</td>\n      <td>53.000</td>\n      <td>19.000</td>\n      <td>38.000</td>\n    </tr>\n    <tr>\n      <th>1826</th>\n      <td>-26.819</td>\n      <td>-41.921</td>\n      <td>-35.930</td>\n      <td>-26.000</td>\n      <td>-38.000</td>\n      <td>-32.000</td>\n    </tr>\n  </tbody>\n</table>\n<p>1827 rows × 6 columns</p>\n</div>"
     },
     "execution_count": 158,
     "metadata": {},
     "output_type": "execute_result"
    }
   ],
   "source": [
    "df_conv = pd.concat([df_mni2tal_conv, df_tal2mni_conv])\n",
    "df_conv"
   ],
   "metadata": {
    "collapsed": false,
    "pycharm": {
     "name": "#%%\n"
    }
   }
  },
  {
   "cell_type": "markdown",
   "source": [
    "## Extend the original dataframe with new converted data"
   ],
   "metadata": {
    "collapsed": false,
    "pycharm": {
     "name": "#%% md\n"
    }
   }
  },
  {
   "cell_type": "code",
   "execution_count": 159,
   "outputs": [],
   "source": [
    "df_data = pd.concat([df_data, df_conv], axis=1)\n",
    "transf_shape = df_data.shape\n",
    "assert transf_shape[0] == original_shape[0] and \\\n",
    "       transf_shape[1] == original_shape[1] + len(new_columns_name), \"Something went wrong in conversion\"\n"
   ],
   "metadata": {
    "collapsed": false,
    "pycharm": {
     "name": "#%%\n"
    }
   }
  },
  {
   "cell_type": "markdown",
   "source": [
    "# Calculate significance for all coordinates"
   ],
   "metadata": {
    "collapsed": false,
    "pycharm": {
     "name": "#%% md\n"
    }
   }
  },
  {
   "cell_type": "code",
   "execution_count": 160,
   "outputs": [],
   "source": [
    "df_data['significance'] = df_data.apply(data_util.significance, axis=1)\n",
    "assert df_data.shape[0] == transf_shape[0] and \\\n",
    "       df_data.shape[1] == transf_shape[1] + 1, \"Something went wrong in adding significance\"\n",
    "assert df_data['significance'].isna().sum() == 0\n",
    "transf_shape = df_data.shape"
   ],
   "metadata": {
    "collapsed": false,
    "pycharm": {
     "name": "#%%\n"
    }
   }
  },
  {
   "cell_type": "markdown",
   "source": [
    "# Save the new dataframe"
   ],
   "metadata": {
    "collapsed": false,
    "pycharm": {
     "name": "#%% md\n"
    }
   }
  },
  {
   "cell_type": "code",
   "execution_count": 161,
   "outputs": [],
   "source": [
    "csv_final_path = r'../data_db/final_coordinates-conversion-v2.csv'\n",
    "df_data.to_csv(csv_final_path,index = False,header=True)\n"
   ],
   "metadata": {
    "collapsed": false,
    "pycharm": {
     "name": "#%%\n"
    }
   }
  },
  {
   "cell_type": "code",
   "execution_count": null,
   "outputs": [],
   "source": [],
   "metadata": {
    "collapsed": false,
    "pycharm": {
     "name": "#%%\n"
    }
   }
  }
 ],
 "metadata": {
  "kernelspec": {
   "display_name": "Python 3",
   "language": "python",
   "name": "python3"
  },
  "language_info": {
   "codemirror_mode": {
    "name": "ipython",
    "version": 2
   },
   "file_extension": ".py",
   "mimetype": "text/x-python",
   "name": "python",
   "nbconvert_exporter": "python",
   "pygments_lexer": "ipython2",
   "version": "2.7.6"
  }
 },
 "nbformat": 4,
 "nbformat_minor": 0
}