{
 "cells": [
  {
   "cell_type": "markdown",
   "source": [
    "# Test the MNI and Talairach spaces conversions"
   ],
   "metadata": {
    "collapsed": false,
    "pycharm": {
     "name": "#%% md\n"
    }
   }
  },
  {
   "cell_type": "code",
   "execution_count": 45,
   "metadata": {
    "collapsed": true
   },
   "outputs": [],
   "source": [
    "# import\n",
    "import numpy as np\n",
    "import util.Data as data_util\n",
    "import importlib"
   ]
  },
  {
   "cell_type": "code",
   "execution_count": 46,
   "outputs": [
    {
     "data": {
      "text/plain": "<module 'util.Data' from 'D:\\\\scul\\\\uaic-ub\\\\licenta\\\\code\\\\util\\\\Data.py'>"
     },
     "execution_count": 46,
     "metadata": {},
     "output_type": "execute_result"
    }
   ],
   "source": [
    "importlib.reload(data_util)"
   ],
   "metadata": {
    "collapsed": false,
    "pycharm": {
     "name": "#%%\n"
    }
   }
  },
  {
   "cell_type": "code",
   "execution_count": 47,
   "outputs": [],
   "source": [
    "#electrode locations\n",
    "base_locs = np.array([[56, -15, 50],\n",
    "                      [-59, -18, 43],\n",
    "                      [59, -21, 21],\n",
    "                      [-50, -18, 18],\n",
    "                      [-5.12, -82.33, 10.8],\n",
    "                      [2.3, -77.71, 11.37],\n",
    "                      [15.36, -62.35, 7.64],\n",
    "                      [45.18, 15.75, 15.54],\n",
    "                      [2.28, -77.88, 13.15],\n",
    "                      [-6, -68.35, 12.11],\n",
    "                      [-56.89, -63.43, 11.72],\n",
    "                      [49.74, 15.21, 20.97]])"
   ],
   "metadata": {
    "collapsed": false,
    "pycharm": {
     "name": "#%%\n"
    }
   }
  },
  {
   "cell_type": "code",
   "execution_count": 48,
   "outputs": [
    {
     "data": {
      "text/plain": "array([[ 61.39, -10.05,  51.83],\n       [-61.54, -14.56,  45.81],\n       [ 64.38, -18.86,  20.19],\n       [-52.13, -16.64,  18.  ],\n       [ -3.98, -85.  ,  15.15],\n       [  3.94, -80.01,  15.28],\n       [ 17.8 , -64.01,   9.62],\n       [ 49.42,  19.44,  11.06],\n       [  3.93, -80.04,  17.26],\n       [ -4.96, -70.11,  15.37],\n       [-59.37, -65.26,  15.16],\n       [ 54.34,  19.37,  17.07]])"
     },
     "execution_count": 48,
     "metadata": {},
     "output_type": "execute_result"
    }
   ],
   "source": [
    "# convert to mni space\n",
    "mni_locs = data_util.tal2mni(base_locs, no_decimals=2)\n",
    "mni_locs"
   ],
   "metadata": {
    "collapsed": false,
    "pycharm": {
     "name": "#%%\n"
    }
   }
  },
  {
   "cell_type": "code",
   "execution_count": 49,
   "outputs": [
    {
     "data": {
      "text/plain": "array([[ 50.95, -19.48,  47.93],\n       [-56.61, -21.05,  40.24],\n       [ 53.95, -23.03,  21.51],\n       [-48.01, -19.29,  17.92],\n       [ -6.15, -79.5 ,   7.09],\n       [  0.8 , -75.25,   8.02],\n       [ 13.09, -60.63,   5.97],\n       [ 41.17,  11.98,  19.23],\n       [  0.77, -75.54,   9.61],\n       [ -6.94, -66.46,   9.3 ],\n       [-54.54, -61.47,   8.8 ],\n       [ 45.39,  11.05,  24.11]])"
     },
     "execution_count": 49,
     "metadata": {},
     "output_type": "execute_result"
    }
   ],
   "source": [
    "# convert to tal space\n",
    "tal_locs = data_util.mni2tal(base_locs, no_decimals=2)\n",
    "tal_locs"
   ],
   "metadata": {
    "collapsed": false,
    "pycharm": {
     "name": "#%%\n"
    }
   }
  },
  {
   "cell_type": "code",
   "execution_count": 50,
   "outputs": [],
   "source": [
    "result_tal2mni = np.array([[61.39, -10.05, 51.83],\n",
    "                           [-61.54, -14.56, 45.81],\n",
    "                           [64.38, -18.86, 20.19],\n",
    "                           [-52.13, -16.64, 18],\n",
    "                           [-3.98, -85, 15.15],\n",
    "                           [3.94, -80.01, 15.28],\n",
    "                           [17.8, -64.01, 9.62],\n",
    "                           [49.42, 19.44, 11.06],\n",
    "                           [3.93, -80.04, 17.26],\n",
    "                           [-4.96, -70.11, 15.37],\n",
    "                           [-59.37, -65.26, 15.16],\n",
    "                           [54.34, 19.37, 17.07]])\n",
    "\n"
   ],
   "metadata": {
    "collapsed": false,
    "pycharm": {
     "name": "#%%\n"
    }
   }
  },
  {
   "cell_type": "code",
   "execution_count": 51,
   "outputs": [],
   "source": [
    "assert np.array_equal(result_tal2mni, mni_locs), \"The Talairach to MNI transform didn't went well\""
   ],
   "metadata": {
    "collapsed": false,
    "pycharm": {
     "name": "#%%\n"
    }
   }
  },
  {
   "cell_type": "code",
   "execution_count": 52,
   "outputs": [],
   "source": [
    "result_mni2tal = np.array([[50.95, -19.48, 47.93],\n",
    "                           [-56.61, -21.05, 40.24],\n",
    "                           [53.95, -23.03, 21.51],\n",
    "                           [-48.01, -19.29, 17.92],\n",
    "                           [-6.15, -79.5, 7.09],\n",
    "                           [0.8, -75.25, 8.02],\n",
    "                           [13.09, -60.63, 5.97],\n",
    "                           [41.17, 11.98, 19.23],\n",
    "                           [0.77, -75.54, 9.61],\n",
    "                           [-6.94, -66.46, 9.3],\n",
    "                           [-54.54, -61.47, 8.8],\n",
    "                           [45.39, 11.05, 24.11]])"
   ],
   "metadata": {
    "collapsed": false,
    "pycharm": {
     "name": "#%%\n"
    }
   }
  },
  {
   "cell_type": "code",
   "execution_count": 53,
   "outputs": [],
   "source": [
    "assert np.array_equal(result_mni2tal, tal_locs), \"The MNI to Talairach transform didn't went well\""
   ],
   "metadata": {
    "collapsed": false,
    "pycharm": {
     "name": "#%%\n"
    }
   }
  },
  {
   "cell_type": "code",
   "execution_count": 56,
   "outputs": [
    {
     "data": {
      "text/plain": "array([[ 35.805 , -53.5291,  42.3877]])"
     },
     "execution_count": 56,
     "metadata": {},
     "output_type": "execute_result"
    }
   ],
   "source": [
    "data_util.tal2mni(np.array([[32.00000,-55.00000,38.00000]]))"
   ],
   "metadata": {
    "collapsed": false,
    "pycharm": {
     "name": "#%%\n"
    }
   }
  },
  {
   "cell_type": "code",
   "execution_count": null,
   "outputs": [],
   "source": [],
   "metadata": {
    "collapsed": false,
    "pycharm": {
     "name": "#%%\n"
    }
   }
  }
 ],
 "metadata": {
  "kernelspec": {
   "display_name": "Python 3",
   "language": "python",
   "name": "python3"
  },
  "language_info": {
   "codemirror_mode": {
    "name": "ipython",
    "version": 2
   },
   "file_extension": ".py",
   "mimetype": "text/x-python",
   "name": "python",
   "nbconvert_exporter": "python",
   "pygments_lexer": "ipython2",
   "version": "2.7.6"
  }
 },
 "nbformat": 4,
 "nbformat_minor": 0
}