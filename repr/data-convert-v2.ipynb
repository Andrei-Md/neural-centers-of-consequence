{
 "cells": [
  {
   "cell_type": "code",
   "execution_count": 3,
   "metadata": {
    "collapsed": true
   },
   "outputs": [],
   "source": [
    "#using https://bioimagesuiteweb.github.io/webapp/mni2tal.html\n",
    "import pandas as pd\n",
    "import numpy as np\n",
    "import importlib\n",
    "import util.Data\n",
    "import util.Plotly as plots"
   ]
  },
  {
   "cell_type": "code",
   "execution_count": 4,
   "outputs": [
    {
     "data": {
      "text/plain": "<module 'util.Plotly' from 'D:\\\\scul\\\\uaic-ub\\\\licenta\\\\code\\\\util\\\\Plotly.py'>"
     },
     "execution_count": 4,
     "metadata": {},
     "output_type": "execute_result"
    }
   ],
   "source": [
    "importlib.reload(plots)"
   ],
   "metadata": {
    "collapsed": false,
    "pycharm": {
     "name": "#%%\n"
    }
   }
  },
  {
   "cell_type": "markdown",
   "source": [
    "# Data"
   ],
   "metadata": {
    "collapsed": false
   }
  },
  {
   "cell_type": "code",
   "execution_count": 5,
   "outputs": [],
   "source": [
    "csv_filename = r'data/final_coordinates-no_conversion.csv'"
   ],
   "metadata": {
    "collapsed": false,
    "pycharm": {
     "name": "#%%\n"
    }
   }
  },
  {
   "cell_type": "code",
   "execution_count": 7,
   "outputs": [
    {
     "data": {
      "text/plain": "(1719, 19)"
     },
     "execution_count": 7,
     "metadata": {},
     "output_type": "execute_result"
    }
   ],
   "source": [
    "data_df = util.Data.import_data(csv_filename)\n",
    "data_df.shape"
   ],
   "metadata": {
    "collapsed": false,
    "pycharm": {
     "name": "#%%\n"
    }
   }
  },
  {
   "cell_type": "code",
   "source": [
    "#split data by mni and talairach type coordinates\n",
    "split_mask = data_df['keywords'].str.contains('MNI', regex=True)\n",
    "df_mni = data_df[split_mask]\n",
    "df_tal = data_df[~split_mask]"
   ],
   "metadata": {
    "collapsed": false,
    "pycharm": {
     "name": "#%%\n"
    }
   },
   "execution_count": 5,
   "outputs": []
  },
  {
   "cell_type": "code",
   "execution_count": 6,
   "outputs": [],
   "source": [
    "df_mni_coord =df_mni[['X(R)','Y(A)','Z(S)']]\n",
    "df_tal_coord =df_tal[['X(R)','Y(A)','Z(S)']]"
   ],
   "metadata": {
    "collapsed": false,
    "pycharm": {
     "name": "#%%\n"
    }
   }
  },
  {
   "cell_type": "code",
   "execution_count": 7,
   "outputs": [
    {
     "data": {
      "text/plain": "((367, 3), (289, 3))"
     },
     "execution_count": 7,
     "metadata": {},
     "output_type": "execute_result"
    }
   ],
   "source": [
    "df_mni_coord.shape,df_tal_coord.shape"
   ],
   "metadata": {
    "collapsed": false,
    "pycharm": {
     "name": "#%%\n"
    }
   }
  },
  {
   "cell_type": "code",
   "execution_count": 8,
   "outputs": [],
   "source": [
    "mni_path = r'data/mni.csv'\n",
    "df_mni_coord.to_csv(mni_path,index = False,header=False)\n",
    "tal_path = r'data/tal.csv'\n",
    "df_tal_coord.to_csv(tal_path,index = False,header=False)"
   ],
   "metadata": {
    "collapsed": false,
    "pycharm": {
     "name": "#%%\n"
    }
   }
  },
  {
   "cell_type": "code",
   "execution_count": 9,
   "outputs": [],
   "source": [
    "csv_mni_conv_filename = r'data/mni_converted.csv'\n",
    "csv_tal_conv_filename = r'data/tal_converted.csv'\n"
   ],
   "metadata": {
    "collapsed": false,
    "pycharm": {
     "name": "#%%\n"
    }
   }
  },
  {
   "cell_type": "code",
   "execution_count": 10,
   "outputs": [],
   "source": [
    "data_mni_conv_df = pd.read_csv(csv_mni_conv_filename)\n",
    "data_tal_conv_df = pd.read_csv(csv_tal_conv_filename)"
   ],
   "metadata": {
    "collapsed": false,
    "pycharm": {
     "name": "#%%\n"
    }
   }
  },
  {
   "cell_type": "code",
   "execution_count": 48,
   "outputs": [],
   "source": [
    "#MNI\n",
    "df_mni.reset_index(drop=True, inplace=True)\n",
    "data_mni = pd.merge(df_mni, data_mni_conv_df, left_index=True, right_index=True)#pd.concat([df_mni, data_mni_conv_df], axis=1, ignore_index=True)\n",
    "assert data_mni.shape[0] == df_mni.shape[0]\n",
    "\n",
    "check_list1 = ['X(R)','Y(A)','Z(S)']\n",
    "check_list2 = ['MNIX','MNIY','MNIZ']\n",
    "for ch1,ch2 in zip(check_list1,check_list2):\n",
    "    assert data_mni[ch1].equals(data_mni[ch2])"
   ],
   "metadata": {
    "collapsed": false,
    "pycharm": {
     "name": "#%%\n"
    }
   }
  },
  {
   "cell_type": "code",
   "execution_count": 49,
   "outputs": [],
   "source": [
    "#Talairach\n",
    "df_tal.reset_index(drop=True,inplace=True)\n",
    "data_tal = pd.merge(df_tal,data_tal_conv_df,left_index=True,right_index=True)\n",
    "assert data_tal.shape[0]==df_tal.shape[0]\n",
    "\n",
    "check_list1 = ['X(R)','Y(A)','Z(S)']\n",
    "check_list2 = ['TALX','TALY','TALZ']\n",
    "for ch1,ch2 in zip(check_list1,check_list2):\n",
    "    assert data_tal[ch1].equals(data_tal[ch2])"
   ],
   "metadata": {
    "collapsed": false,
    "pycharm": {
     "name": "#%%\n"
    }
   }
  },
  {
   "cell_type": "code",
   "execution_count": 93,
   "outputs": [],
   "source": [
    "#Concatenate the two dataframe to create the final one\n",
    "data_final = pd.concat([data_mni, data_tal], axis=0)"
   ],
   "metadata": {
    "collapsed": false,
    "pycharm": {
     "name": "#%%\n"
    }
   }
  },
  {
   "cell_type": "code",
   "execution_count": 94,
   "outputs": [
    {
     "name": "stderr",
     "output_type": "stream",
     "text": [
      "C:\\Users\\Chh\\AppData\\Local\\Temp\\ipykernel_35288\\3746375327.py:3: FutureWarning: The default value of regex will change from True to False in a future version. In addition, single character regular expressions will *not* be treated as literal strings when regex=True.\n",
      "  data_final['BA_no'] = data_final['BA_no'].str.replace(')','')\n"
     ]
    }
   ],
   "source": [
    "# Split BA name and BA number\n",
    "data_final[['BA_name','BA_no']] = data_final['BA'].str.rsplit(\"(\", 1, expand=True)\n",
    "data_final['BA_no'] = data_final['BA_no'].str.replace(')','')"
   ],
   "metadata": {
    "collapsed": false,
    "pycharm": {
     "name": "#%%\n"
    }
   }
  },
  {
   "cell_type": "code",
   "execution_count": 95,
   "outputs": [],
   "source": [
    "# BA number column\n",
    "#String\n",
    "# data_final['BA_no'] = data_final['BA_no'].astype(str)\n",
    "# data_final['BA_no'] = data_final['BA_no'].str.replace('None','nan')\n",
    "#Float\n",
    "data_final['BA_no']= pd.to_numeric(data_final['BA_no'],downcast='integer')"
   ],
   "metadata": {
    "collapsed": false,
    "pycharm": {
     "name": "#%%\n"
    }
   }
  },
  {
   "cell_type": "code",
   "execution_count": 97,
   "outputs": [
    {
     "data": {
      "text/plain": "importance        object\nauthor            object\ntitle             object\ntable_name        object\nkeywords          object\nLeft/Right        object\nName              object\nBroadman Area     object\nt                float64\nX(R)               int64\nY(A)               int64\nZ(S)               int64\nz-score          float64\nNV               float64\np value          float64\ncluster size     float64\nindex_col          int64\nMNIX               int64\nMNIY               int64\nMNIZ               int64\nBA                object\nTALX               int64\nTALY               int64\nTALZ               int64\nBA_name           object\nBA_no            float64\ndtype: object"
     },
     "execution_count": 97,
     "metadata": {},
     "output_type": "execute_result"
    }
   ],
   "source": [
    "data_final.dtypes"
   ],
   "metadata": {
    "collapsed": false,
    "pycharm": {
     "name": "#%%\n"
    }
   }
  },
  {
   "cell_type": "code",
   "execution_count": 98,
   "outputs": [],
   "source": [
    "csv_final_path = r'data/final_coordinates-conversion-v2.csv'\n",
    "data_final.to_csv(csv_final_path,index = False,header=True)\n"
   ],
   "metadata": {
    "collapsed": false,
    "pycharm": {
     "name": "#%%\n"
    }
   }
  },
  {
   "cell_type": "code",
   "execution_count": null,
   "outputs": [],
   "source": [],
   "metadata": {
    "collapsed": false,
    "pycharm": {
     "name": "#%%\n"
    }
   }
  }
 ],
 "metadata": {
  "kernelspec": {
   "display_name": "Python 3",
   "language": "python",
   "name": "python3"
  },
  "language_info": {
   "codemirror_mode": {
    "name": "ipython",
    "version": 2
   },
   "file_extension": ".py",
   "mimetype": "text/x-python",
   "name": "python",
   "nbconvert_exporter": "python",
   "pygments_lexer": "ipython2",
   "version": "2.7.6"
  }
 },
 "nbformat": 4,
 "nbformat_minor": 0
}