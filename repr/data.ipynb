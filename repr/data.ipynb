{
 "cells": [
  {
   "cell_type": "code",
   "execution_count": 1,
   "metadata": {
    "collapsed": true
   },
   "outputs": [],
   "source": [
    "import pandas as pd\n",
    "import numpy as np\n",
    "import importlib\n",
    "import util.Data\n",
    "import util.Plotly as plots"
   ]
  },
  {
   "cell_type": "code",
   "execution_count": 2,
   "outputs": [
    {
     "data": {
      "text/plain": "<module 'util.Plotly' from 'D:\\\\scul\\\\uaic-ub\\\\licenta\\\\code\\\\util\\\\Plotly.py'>"
     },
     "execution_count": 2,
     "metadata": {},
     "output_type": "execute_result"
    }
   ],
   "source": [
    "importlib.reload(plots)"
   ],
   "metadata": {
    "collapsed": false,
    "pycharm": {
     "name": "#%%\n"
    }
   }
  },
  {
   "cell_type": "markdown",
   "source": [
    "# Data"
   ],
   "metadata": {
    "collapsed": false
   }
  },
  {
   "cell_type": "code",
   "execution_count": 3,
   "outputs": [],
   "source": [
    "csv_filename = r'data/final_coordinates.csv'"
   ],
   "metadata": {
    "collapsed": false,
    "pycharm": {
     "name": "#%%\n"
    }
   }
  },
  {
   "cell_type": "code",
   "execution_count": 4,
   "outputs": [],
   "source": [
    "data_df = util.Data.import_data(csv_filename)"
   ],
   "metadata": {
    "collapsed": false,
    "pycharm": {
     "name": "#%%\n"
    }
   }
  },
  {
   "cell_type": "markdown",
   "source": [
    "# Checks"
   ],
   "metadata": {
    "collapsed": false,
    "pycharm": {
     "name": "#%% md\n"
    }
   }
  },
  {
   "cell_type": "code",
   "execution_count": 14,
   "outputs": [],
   "source": [
    "color_nan = '#ebeded'"
   ],
   "metadata": {
    "collapsed": false,
    "pycharm": {
     "name": "#%%\n"
    }
   }
  },
  {
   "cell_type": "code",
   "execution_count": 52,
   "outputs": [],
   "source": [
    "df_ba_1 = data_df[data_df['Name'].str.contains('^middle frontal gyrus$', regex=True)]\n",
    "\n",
    "split_mask = df_ba_1['keywords'].str.contains('talairach\\(converted\\)', regex=True)\n",
    "df_ba_1_1 = df_ba_1[split_mask]\n",
    "df_ba_1_2 = df_ba_1[~split_mask]\n",
    "\n",
    "df_ba_2 = data_df[data_df['Name'].str.contains('^medial frontal gyrus$', regex=True)]\n",
    "split_mask = df_ba_2['keywords'].str.contains('talairach\\(converted\\)', regex=True)\n",
    "\n",
    "df_ba_2_1 = df_ba_2[split_mask]\n",
    "df_ba_2_2 = df_ba_2[~split_mask]"
   ],
   "metadata": {
    "collapsed": false,
    "pycharm": {
     "name": "#%%\n"
    }
   }
  },
  {
   "cell_type": "code",
   "execution_count": 57,
   "outputs": [],
   "source": [
    "all_data = plots.create_data(df=data_df, grouping_col='Broadman Area', colors=color_nan,\n",
    "                             labels_col_list=['Broadman Area', 'index_col', 'Name'],\n",
    "                             opacity=0.3, line_color=color_nan)\n",
    "\n",
    "data_dict_1_1 = plots.create_data(df=df_ba_1_1, grouping_col='Name', colors=\"#0e8761\",\n",
    "                                labels_col_list=['Broadman Area', 'index_col', 'Name', 'keywords'],\n",
    "                                opacity=1)\n",
    "data_dict_1_2 = plots.create_data(df=df_ba_1_2, grouping_col='Name', colors=\"#a6f5dc\",\n",
    "                                  labels_col_list=['Broadman Area', 'index_col', 'Name', 'keywords'],\n",
    "                                  opacity=1)\n",
    "\n",
    "data_dict_2_1 = plots.create_data(df=df_ba_2_1, grouping_col='Name', colors=\"#3283FE\",\n",
    "                                labels_col_list=['Broadman Area', 'index_col', 'Name', 'keywords'],\n",
    "                                opacity=1)\n",
    "data_dict_2_2 = plots.create_data(df=df_ba_2_2, grouping_col='Name', colors=\"#9cc0f7\",\n",
    "                                  labels_col_list=['Broadman Area', 'index_col', 'Name', 'keywords'],\n",
    "                                  opacity=1)"
   ],
   "metadata": {
    "collapsed": false,
    "pycharm": {
     "name": "#%%\n"
    }
   }
  },
  {
   "cell_type": "code",
   "execution_count": 73,
   "outputs": [],
   "source": [
    "data_ba10 = data_df[data_df['Broadman Area'].str.contains('10')]\n",
    "split_mask = data_ba10['keywords'].str.contains('talairach\\(converted\\)', regex=True)\n",
    "data_ba10_1 = data_ba10[split_mask]\n",
    "data_ba10_2 = data_ba10[~split_mask]\n",
    "data_dict_ba10_1 = plots.create_data(df=data_ba10_1, grouping_col='Name', colors=\"#fadc6e\",\n",
    "                                  labels_col_list=['Broadman Area', 'index_col', 'Name', 'keywords'],\n",
    "                                  opacity=1)\n",
    "data_dict_ba10_2 = plots.create_data(df=data_ba10_2, grouping_col='Name', colors=\"#ad8b0e\",\n",
    "                                  labels_col_list=['Broadman Area', 'index_col', 'Name', 'keywords'],\n",
    "                                  opacity=1)"
   ],
   "metadata": {
    "collapsed": false,
    "pycharm": {
     "name": "#%%\n"
    }
   }
  },
  {
   "cell_type": "code",
   "execution_count": 89,
   "outputs": [
    {
     "data": {
      "text/plain": "['mes. prefrontal ctx',\n 'frontal pole',\n 'medial ofc',\n 'medial orbitofrontal',\n 'lateral orbitofrontal cortex',\n 'medial frontal gyrus',\n 'middle frontal gyrus',\n 'superior frontal gyrus']"
     },
     "execution_count": 89,
     "metadata": {},
     "output_type": "execute_result"
    }
   ],
   "source": [
    "# other points that can be in Same BA\n",
    "tmp_df=data_df[data_df['Broadman Area'].str.contains('10')]\n",
    "tmp_list = tmp_df['Name'].unique().tolist()\n",
    "tmp_list"
   ],
   "metadata": {
    "collapsed": false,
    "pycharm": {
     "name": "#%%\n"
    }
   }
  },
  {
   "cell_type": "code",
   "execution_count": 92,
   "outputs": [],
   "source": [
    "mask = data_df.Name.apply(lambda x: any(item for item in tmp_list if item in x))\n",
    "df1 = data_df[mask]\n",
    "# df1 = df1[~df1['Broadman Area'].str.contains('10')]\n",
    "data_dict_ba10_rest = plots.create_data(df=df1,grouping_col='Name',\n",
    "                                  labels_col_list=['Broadman Area', 'index_col', 'Name', 'keywords'],\n",
    "                                  opacity=0.5)\n",
    "\n",
    "\n"
   ],
   "metadata": {
    "collapsed": false,
    "pycharm": {
     "name": "#%%\n"
    }
   }
  },
  {
   "cell_type": "code",
   "execution_count": 93,
   "outputs": [],
   "source": [
    "# data_dict_coords_all = [all_data, data_dict_1_1, data_dict_1_2, data_dict_2_1, data_dict_2_2,data_dict_ba10]\n",
    "# data_dict_coords_all = [all_data,data_dict_ba10_1,data_dict_ba10_2,data_dict_ba10_rest]\n",
    "data_dict_coords_all = [all_data,data_dict_ba10_rest]"
   ],
   "metadata": {
    "collapsed": false,
    "pycharm": {
     "name": "#%%\n"
    }
   }
  },
  {
   "cell_type": "code",
   "execution_count": 94,
   "outputs": [],
   "source": [
    "plots.plot_coordinates_plotly(data=data_dict_coords_all,\n",
    "                              data_source_name=csv_filename,\n",
    "                              title='Center Coordinates')\n"
   ],
   "metadata": {
    "collapsed": false,
    "pycharm": {
     "name": "#%%\n"
    }
   }
  },
  {
   "cell_type": "code",
   "execution_count": 10,
   "outputs": [
    {
     "name": "stdout",
     "output_type": "stream",
     "text": [
      "0\n",
      "1\n",
      "2\n"
     ]
    }
   ],
   "source": [
    "labels_col_list = ['Broadman Area', 'index_col', 'Name']\n",
    "for i in range(len(labels_col_list)):\n",
    "    print(i)\n"
   ],
   "metadata": {
    "collapsed": false,
    "pycharm": {
     "name": "#%%\n"
    }
   }
  },
  {
   "cell_type": "code",
   "execution_count": 10,
   "outputs": [],
   "source": [],
   "metadata": {
    "collapsed": false,
    "pycharm": {
     "name": "#%%\n"
    }
   }
  }
 ],
 "metadata": {
  "kernelspec": {
   "display_name": "Python 3",
   "language": "python",
   "name": "python3"
  },
  "language_info": {
   "codemirror_mode": {
    "name": "ipython",
    "version": 2
   },
   "file_extension": ".py",
   "mimetype": "text/x-python",
   "name": "python",
   "nbconvert_exporter": "python",
   "pygments_lexer": "ipython2",
   "version": "2.7.6"
  }
 },
 "nbformat": 4,
 "nbformat_minor": 0
}