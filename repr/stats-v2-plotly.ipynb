{
 "cells": [
  {
   "cell_type": "code",
   "execution_count": 1,
   "metadata": {
    "collapsed": true
   },
   "outputs": [],
   "source": [
    "import pandas as pd\n",
    "import numpy as np\n",
    "import importlib\n",
    "\n",
    "# graphs\n",
    "import chart_studio.plotly as py\n",
    "import plotly.graph_objs as go\n",
    "\n",
    "import util.Plotly as plots"
   ]
  },
  {
   "cell_type": "code",
   "execution_count": 2,
   "outputs": [
    {
     "data": {
      "text/plain": "<module 'util.Plotly' from 'D:\\\\scul\\\\uaic-ub\\\\licenta\\\\code\\\\repr\\\\util\\\\Plotly.py'>"
     },
     "execution_count": 2,
     "metadata": {},
     "output_type": "execute_result"
    }
   ],
   "source": [
    "importlib.reload(plots)"
   ],
   "metadata": {
    "collapsed": false,
    "pycharm": {
     "name": "#%%\n"
    }
   }
  },
  {
   "cell_type": "markdown",
   "source": [
    "# Data"
   ],
   "metadata": {
    "collapsed": false,
    "pycharm": {
     "name": "#%% md\n"
    }
   }
  },
  {
   "cell_type": "code",
   "execution_count": 3,
   "outputs": [],
   "source": [
    "csv_filename= r'data/final_coordinates.csv'"
   ],
   "metadata": {
    "collapsed": false,
    "pycharm": {
     "name": "#%%\n"
    }
   }
  },
  {
   "cell_type": "code",
   "execution_count": 4,
   "outputs": [],
   "source": [
    "data_df = pd.read_csv(csv_filename)"
   ],
   "metadata": {
    "collapsed": false,
    "pycharm": {
     "name": "#%%\n"
    }
   }
  },
  {
   "cell_type": "code",
   "execution_count": 5,
   "outputs": [],
   "source": [
    "## convert Broadman Area column values to string\n",
    "data_df['Broadman Area'] = data_df['Broadman Area'].astype(str)\n",
    "## add index column\n",
    "data_df['index_col'] = data_df.index"
   ],
   "metadata": {
    "collapsed": false,
    "pycharm": {
     "name": "#%%\n"
    }
   }
  },
  {
   "cell_type": "code",
   "execution_count": 6,
   "outputs": [
    {
     "data": {
      "text/plain": "  importance       author                                              title  \\\n0         ++  Cohen et al  Individual differences in extraversion and dop...   \n1         ++  Cohen et al  Individual differences in extraversion and dop...   \n2         ++  Cohen et al  Individual differences in extraversion and dop...   \n3         ++  Cohen et al  Individual differences in extraversion and dop...   \n4         ++  Cohen et al  Individual differences in extraversion and dop...   \n\n                           table_name  \\\n0  Table 1 Study 2 reward - no reward   \n1  Table 1 Study 2 reward - no reward   \n2  Table 1 Study 2 reward - no reward   \n3  Table 1 Study 2 reward - no reward   \n4  Table 1 Study 2 reward - no reward   \n\n                                            keywords                     Name  \\\n0  fMRI; MNI; extraversion; dopamine; money rewar...              R. amygdala   \n1  fMRI; MNI; extraversion; dopamine; money rewar...              L. amygdala   \n2  fMRI; MNI; extraversion; dopamine; money rewar...           L. hippocampus   \n3  fMRI; MNI; extraversion; dopamine; money rewar...  L. orbitofrontal cortex   \n4  fMRI; MNI; extraversion; dopamine; money rewar...             R. precuneus   \n\n  Left/Right Broadman Area     t  X(R)  Y(A)  Z(S)  z-score  NV  p value  \\\n0        NaN           nan  6.58  18.0  -7.0 -28.0      NaN NaN      NaN   \n1        NaN           nan  6.47 -17.0  -3.0 -14.0      NaN NaN      NaN   \n2        NaN           nan  5.40 -28.0 -24.0 -14.0      NaN NaN      NaN   \n3        NaN            11  5.31 -21.0  21.0 -25.0      NaN NaN      NaN   \n4        NaN            23  5.21   4.0 -56.0  35.0      NaN NaN      NaN   \n\n   cluster size  index_col  \n0           NaN          0  \n1           NaN          1  \n2           NaN          2  \n3           NaN          3  \n4           NaN          4  ",
      "text/html": "<div>\n<style scoped>\n    .dataframe tbody tr th:only-of-type {\n        vertical-align: middle;\n    }\n\n    .dataframe tbody tr th {\n        vertical-align: top;\n    }\n\n    .dataframe thead th {\n        text-align: right;\n    }\n</style>\n<table border=\"1\" class=\"dataframe\">\n  <thead>\n    <tr style=\"text-align: right;\">\n      <th></th>\n      <th>importance</th>\n      <th>author</th>\n      <th>title</th>\n      <th>table_name</th>\n      <th>keywords</th>\n      <th>Name</th>\n      <th>Left/Right</th>\n      <th>Broadman Area</th>\n      <th>t</th>\n      <th>X(R)</th>\n      <th>Y(A)</th>\n      <th>Z(S)</th>\n      <th>z-score</th>\n      <th>NV</th>\n      <th>p value</th>\n      <th>cluster size</th>\n      <th>index_col</th>\n    </tr>\n  </thead>\n  <tbody>\n    <tr>\n      <th>0</th>\n      <td>++</td>\n      <td>Cohen et al</td>\n      <td>Individual differences in extraversion and dop...</td>\n      <td>Table 1 Study 2 reward - no reward</td>\n      <td>fMRI; MNI; extraversion; dopamine; money rewar...</td>\n      <td>R. amygdala</td>\n      <td>NaN</td>\n      <td>nan</td>\n      <td>6.58</td>\n      <td>18.0</td>\n      <td>-7.0</td>\n      <td>-28.0</td>\n      <td>NaN</td>\n      <td>NaN</td>\n      <td>NaN</td>\n      <td>NaN</td>\n      <td>0</td>\n    </tr>\n    <tr>\n      <th>1</th>\n      <td>++</td>\n      <td>Cohen et al</td>\n      <td>Individual differences in extraversion and dop...</td>\n      <td>Table 1 Study 2 reward - no reward</td>\n      <td>fMRI; MNI; extraversion; dopamine; money rewar...</td>\n      <td>L. amygdala</td>\n      <td>NaN</td>\n      <td>nan</td>\n      <td>6.47</td>\n      <td>-17.0</td>\n      <td>-3.0</td>\n      <td>-14.0</td>\n      <td>NaN</td>\n      <td>NaN</td>\n      <td>NaN</td>\n      <td>NaN</td>\n      <td>1</td>\n    </tr>\n    <tr>\n      <th>2</th>\n      <td>++</td>\n      <td>Cohen et al</td>\n      <td>Individual differences in extraversion and dop...</td>\n      <td>Table 1 Study 2 reward - no reward</td>\n      <td>fMRI; MNI; extraversion; dopamine; money rewar...</td>\n      <td>L. hippocampus</td>\n      <td>NaN</td>\n      <td>nan</td>\n      <td>5.40</td>\n      <td>-28.0</td>\n      <td>-24.0</td>\n      <td>-14.0</td>\n      <td>NaN</td>\n      <td>NaN</td>\n      <td>NaN</td>\n      <td>NaN</td>\n      <td>2</td>\n    </tr>\n    <tr>\n      <th>3</th>\n      <td>++</td>\n      <td>Cohen et al</td>\n      <td>Individual differences in extraversion and dop...</td>\n      <td>Table 1 Study 2 reward - no reward</td>\n      <td>fMRI; MNI; extraversion; dopamine; money rewar...</td>\n      <td>L. orbitofrontal cortex</td>\n      <td>NaN</td>\n      <td>11</td>\n      <td>5.31</td>\n      <td>-21.0</td>\n      <td>21.0</td>\n      <td>-25.0</td>\n      <td>NaN</td>\n      <td>NaN</td>\n      <td>NaN</td>\n      <td>NaN</td>\n      <td>3</td>\n    </tr>\n    <tr>\n      <th>4</th>\n      <td>++</td>\n      <td>Cohen et al</td>\n      <td>Individual differences in extraversion and dop...</td>\n      <td>Table 1 Study 2 reward - no reward</td>\n      <td>fMRI; MNI; extraversion; dopamine; money rewar...</td>\n      <td>R. precuneus</td>\n      <td>NaN</td>\n      <td>23</td>\n      <td>5.21</td>\n      <td>4.0</td>\n      <td>-56.0</td>\n      <td>35.0</td>\n      <td>NaN</td>\n      <td>NaN</td>\n      <td>NaN</td>\n      <td>NaN</td>\n      <td>4</td>\n    </tr>\n  </tbody>\n</table>\n</div>"
     },
     "execution_count": 6,
     "metadata": {},
     "output_type": "execute_result"
    }
   ],
   "source": [
    "data_df.head()"
   ],
   "metadata": {
    "collapsed": false,
    "pycharm": {
     "name": "#%%\n"
    }
   }
  },
  {
   "cell_type": "code",
   "execution_count": 7,
   "outputs": [
    {
     "data": {
      "text/plain": "(656, 17)"
     },
     "execution_count": 7,
     "metadata": {},
     "output_type": "execute_result"
    }
   ],
   "source": [
    "data_df.shape"
   ],
   "metadata": {
    "collapsed": false,
    "pycharm": {
     "name": "#%%\n"
    }
   }
  },
  {
   "cell_type": "code",
   "execution_count": 8,
   "outputs": [
    {
     "data": {
      "text/plain": "['importance',\n 'author',\n 'title',\n 'table_name',\n 'keywords',\n 'Name',\n 'Left/Right',\n 'Broadman Area',\n 't',\n 'X(R)',\n 'Y(A)',\n 'Z(S)',\n 'z-score',\n 'NV',\n 'p value',\n 'cluster size',\n 'index_col']"
     },
     "execution_count": 8,
     "metadata": {},
     "output_type": "execute_result"
    }
   ],
   "source": [
    "data_df.columns.values.tolist()"
   ],
   "metadata": {
    "collapsed": false,
    "pycharm": {
     "name": "#%%\n"
    }
   }
  },
  {
   "cell_type": "code",
   "execution_count": 9,
   "outputs": [],
   "source": [
    "coordinates = data_df[['X(R)', 'Y(A)', 'Z(S)']]\n"
   ],
   "metadata": {
    "collapsed": false,
    "pycharm": {
     "name": "#%%\n"
    }
   }
  },
  {
   "cell_type": "markdown",
   "source": [
    "# Separate BA of interest"
   ],
   "metadata": {
    "collapsed": false
   }
  },
  {
   "cell_type": "code",
   "execution_count": 84,
   "outputs": [],
   "source": [
    "# df_ba = data_df[data_df['Broadman Area'].str.contains('8|9|10|11|12|13|14|24|25|32|33|44|45|46|47')]\n",
    "# df_ba = data_df[data_df['Broadman Area'].str.contains('4|6|8|9|10|11|12|25')]\n",
    "df_ba = data_df[data_df['Broadman Area'].str.contains('^4$|^6$|^8$|^9$|^10$|^11$|^12$|^25$',regex=True)]\n",
    "df_ba_nan = data_df[data_df['Broadman Area'].str.contains('^nan$',regex=True)]\n",
    "assert(len(df_ba_nan['Broadman Area'].unique())==1)"
   ],
   "metadata": {
    "collapsed": false,
    "pycharm": {
     "name": "#%%\n"
    }
   }
  },
  {
   "cell_type": "code",
   "execution_count": 85,
   "outputs": [],
   "source": [
    "df = df_ba\n",
    "\n",
    "col1='X(R)'\n",
    "col2='Y(A)'\n",
    "col3='Z(S)'\n",
    "Xn = df[col1].to_numpy()  # x-coordinates of nodes\n",
    "Yn = df[col2].to_numpy()   # y-coordinates\n",
    "Zn = df[col3].to_numpy()"
   ],
   "metadata": {
    "collapsed": false,
    "pycharm": {
     "name": "#%%\n"
    }
   }
  },
  {
   "cell_type": "code",
   "execution_count": 88,
   "outputs": [],
   "source": [
    "Xn_nan = df_ba_nan[col1].to_numpy()\n",
    "Yn_nan = df_ba_nan[col2].to_numpy()\n",
    "Zn_nan = df_ba_nan[col3].to_numpy()"
   ],
   "metadata": {
    "collapsed": false,
    "pycharm": {
     "name": "#%%\n"
    }
   }
  },
  {
   "cell_type": "code",
   "execution_count": 86,
   "outputs": [],
   "source": [
    "# color V1\n",
    "ba = df['Broadman Area'].unique()\n",
    "ba_idx = {str(x): ba.tolist().index(x) for x in ba}\n",
    "no_colors = len(ba)\n",
    "color_group_id = []\n",
    "labels = []\n",
    "for i, val in enumerate(df[['Broadman Area','index_col','Name']].to_numpy()):\n",
    "    color_group_id.append(ba_idx[str(val[0])])\n",
    "    labels.append('index: {index}; ba: {ba}; name: {name}'.format(index=str(val[1]),name=val[2], ba=str(val[0])))"
   ],
   "metadata": {
    "collapsed": false,
    "pycharm": {
     "name": "#%%\n"
    }
   }
  },
  {
   "cell_type": "code",
   "execution_count": 100,
   "outputs": [],
   "source": [
    "# color V2\n",
    "## Alphabet maximum number of colors = 26\n",
    "ba = df['Broadman Area'].unique()\n",
    "ba_idx = {str(x): ba.tolist().index(x) for x in ba}\n",
    "no_colors = len(ba)\n",
    "color_group = []\n",
    "labels = []\n",
    "labels_nan = []\n",
    "\n",
    "#colors\n",
    "import plotly.express as px\n",
    "color_list = px.colors.qualitative.Alphabet[:no_colors]\n",
    "for i, val in enumerate(df[['Broadman Area','index_col','Name']].to_numpy()):\n",
    "    # print(i,val[0])\n",
    "    if val[0] == 'nan':\n",
    "        color_group.append('#ebeded')\n",
    "    else:\n",
    "        color_group.append(color_list[ba_idx[str(val[0])]] )\n",
    "    labels.append('index: {index}; ba: {ba}; name: {name}'.format(index=str(val[1]),name=val[2], ba=str(val[0])))\n",
    "\n",
    "#labels for nan\n",
    "for i,val in enumerate(df_ba_nan[['Broadman Area','index_col','Name']].to_numpy()):\n",
    "        labels_nan.append('index: {index}; ba: {ba}; name: {name}'.format(index=str(val[1]),name=val[2], ba=str(val[0])))"
   ],
   "metadata": {
    "collapsed": false,
    "pycharm": {
     "name": "#%%\n"
    }
   }
  },
  {
   "cell_type": "code",
   "execution_count": 101,
   "outputs": [],
   "source": [
    "color_nan = '#ebeded'\n",
    "\n",
    "trace1 = go.Scatter3d(x=Xn,\n",
    "                      y=Yn,\n",
    "                      z=Zn,\n",
    "                      mode='markers',\n",
    "                      name='actors',\n",
    "                      marker=dict(symbol='circle',\n",
    "                                  size=6,\n",
    "                                  color = color_group,\n",
    "                                  # color=color_group_id,\n",
    "                                  # colorscale='Viridis',\n",
    "                                  line=dict(color='rgb(50,50,50)', width=2)\n",
    "                                  ),\n",
    "                      text=labels,\n",
    "                      hoverinfo='text'\n",
    "                      )\n",
    "\n",
    "#plot nans separately\n",
    "trace2 = go.Scatter3d(x=Xn_nan,\n",
    "                      y=Yn_nan,\n",
    "                      z=Zn_nan,\n",
    "                      mode='markers',\n",
    "                      name='actors',\n",
    "                      opacity=0.5,\n",
    "                      marker=dict(symbol='circle',\n",
    "                                  size=6,\n",
    "                                  color = color_nan,\n",
    "                                  line=dict(color='#acadad', width=0.5)\n",
    "                                  ),\n",
    "                      text=labels_nan,\n",
    "                      hoverinfo='text'\n",
    "                      )\n",
    "axis = dict(showbackground=False,\n",
    "            showline=False,\n",
    "            zeroline=False,\n",
    "            showgrid=False,\n",
    "            showticklabels=False,\n",
    "            title=''\n",
    "            )\n",
    "\n",
    "layout = go.Layout(\n",
    "    title=\"Center Coordinates\",\n",
    "    width=1500,\n",
    "    height=1500,\n",
    "    showlegend=False,\n",
    "    scene=dict(\n",
    "        xaxis=dict(axis),\n",
    "        yaxis=dict(axis),\n",
    "        zaxis=dict(axis),\n",
    "    ),\n",
    "    margin=dict(\n",
    "        t=100\n",
    "    ),\n",
    "    hovermode='closest',\n",
    "    annotations=[\n",
    "        dict(\n",
    "            showarrow=False,\n",
    "            text=\"Data source: \" +csv_filename,\n",
    "            xref='paper',\n",
    "            yref='paper',\n",
    "            x=0,\n",
    "            y=0.1,\n",
    "            xanchor='left',\n",
    "            yanchor='bottom',\n",
    "            font=dict(\n",
    "                size=14\n",
    "            )\n",
    "        )\n",
    "    ], )"
   ],
   "metadata": {
    "collapsed": false,
    "pycharm": {
     "name": "#%%\n"
    }
   }
  },
  {
   "cell_type": "code",
   "execution_count": 72,
   "outputs": [],
   "source": [
    "## Open in Browser\n",
    "import plotly.io as pio\n",
    "pio.renderers.default = \"browser\""
   ],
   "metadata": {
    "collapsed": false,
    "pycharm": {
     "name": "#%%\n"
    }
   }
  },
  {
   "cell_type": "code",
   "execution_count": 102,
   "outputs": [],
   "source": [
    "data = [trace1,trace2]\n",
    "fig = go.Figure(data=data, layout=layout,layout_title_text='Center Coordinates')\n",
    "# py.iplot(fig, filename='Les-Miserables')\n",
    "fig.show()"
   ],
   "metadata": {
    "collapsed": false,
    "pycharm": {
     "name": "#%%\n"
    }
   }
  }
 ],
 "metadata": {
  "kernelspec": {
   "display_name": "Python 3",
   "language": "python",
   "name": "python3"
  },
  "language_info": {
   "codemirror_mode": {
    "name": "ipython",
    "version": 2
   },
   "file_extension": ".py",
   "mimetype": "text/x-python",
   "name": "python",
   "nbconvert_exporter": "python",
   "pygments_lexer": "ipython2",
   "version": "2.7.6"
  }
 },
 "nbformat": 4,
 "nbformat_minor": 0
}