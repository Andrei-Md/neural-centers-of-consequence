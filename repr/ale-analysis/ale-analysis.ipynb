{
 "cells": [
  {
   "cell_type": "code",
   "execution_count": 1,
   "metadata": {
    "collapsed": true
   },
   "outputs": [],
   "source": [
    "%matplotlib inline"
   ]
  },
  {
   "cell_type": "markdown",
   "source": [
    "# ALE meta-analysis"
   ],
   "metadata": {
    "collapsed": false,
    "pycharm": {
     "name": "#%% md\n"
    }
   }
  },
  {
   "cell_type": "code",
   "execution_count": 2,
   "outputs": [
    {
     "name": "stderr",
     "output_type": "stream",
     "text": [
      "ERROR:duecredit:Failed to import duecredit due to No module named 'duecredit'\n"
     ]
    }
   ],
   "source": [
    "import os\n",
    "import nibabel as nib\n",
    "\n",
    "import matplotlib.pyplot as plt\n",
    "from nilearn.plotting import plot_stat_map\n",
    "from nimare.io import convert_sleuth_to_dataset\n",
    "from nimare.utils import get_resource_path\n",
    "\n",
    "from nimare.correct import FWECorrector\n",
    "from nimare.meta.cbma import ALE"
   ],
   "metadata": {
    "collapsed": false,
    "pycharm": {
     "name": "#%%\n"
    }
   }
  },
  {
   "cell_type": "code",
   "execution_count": 3,
   "outputs": [],
   "source": [
    "_dset_folder = r'../data_db/dataset_ale/'\n",
    "_nii_folder = r'../data_db/nifti-ale/'"
   ],
   "metadata": {
    "collapsed": false,
    "pycharm": {
     "name": "#%%\n"
    }
   }
  },
  {
   "cell_type": "markdown",
   "source": [
    "## ALE Working Memory: visual task stimulus and task modality n-task"
   ],
   "metadata": {
    "collapsed": false
   }
  },
  {
   "cell_type": "code",
   "execution_count": 5,
   "outputs": [],
   "source": [
    "wm_sel1_file = os.path.join(os.path.abspath(_dset_folder), \"select01_wm.txt\")\n",
    "wm_sel1_dset = convert_sleuth_to_dataset(wm_sel1_file)"
   ],
   "metadata": {
    "collapsed": false,
    "pycharm": {
     "name": "#%%\n"
    }
   }
  },
  {
   "cell_type": "code",
   "execution_count": null,
   "outputs": [],
   "source": [
    "wm_sel1_dset.coordinates"
   ],
   "metadata": {
    "collapsed": false,
    "pycharm": {
     "name": "#%%\n"
    }
   }
  },
  {
   "cell_type": "code",
   "execution_count": null,
   "outputs": [],
   "source": [
    "# ale = ALE(null_method=\"montecarlo\",n_iters=100,n_cores=8)\n",
    "ale = ALE(null_method=\"approximate\")\n",
    "wm_sel1_results = ale.fit(wm_sel1_dset)\n",
    "corr = FWECorrector(method=\"montecarlo\", voxel_thresh=0.001, n_iters=100, n_cores=8)\n",
    "wm_sel1_corrected_results = corr.transform(wm_sel1_results)"
   ],
   "metadata": {
    "collapsed": false,
    "pycharm": {
     "name": "#%%\n"
    }
   }
  },
  {
   "cell_type": "code",
   "execution_count": null,
   "outputs": [],
   "source": [
    "map_name = \"z_desc-size_level-cluster_corr-FWE_method-montecarlo\"\n",
    "fig, axes = plt.subplots(figsize=(12, 10), nrows=1)\n",
    "wm_sel1_img = wm_sel1_corrected_results.get_map(\n",
    "    map_name\n",
    ")\n",
    "\n",
    "plot_stat_map(\n",
    "    wm_sel1_img,\n",
    "    cut_coords=6,\n",
    "    display_mode=\"z\",\n",
    "    title=\"Semantic select1 - wm\",\n",
    "    threshold=2.326,  #'auto' # cluster-level p < .01, one-tailed\n",
    "    cmap=\"RdBu_r\",\n",
    "    vmax=4,\n",
    "    axes=axes,\n",
    "    figure=fig,\n",
    ")\n"
   ],
   "metadata": {
    "collapsed": false,
    "pycharm": {
     "name": "#%%\n"
    }
   }
  },
  {
   "cell_type": "markdown",
   "source": [
    "## Save img to nifti"
   ],
   "metadata": {
    "collapsed": false
   }
  },
  {
   "cell_type": "code",
   "execution_count": null,
   "outputs": [],
   "source": [
    "img_name = 'img_wm_sel1'\n",
    "nib.save(wm_sel1_img, os.path.join(os.path.abspath(_nii_folder), img_name + '.nii'))\n",
    "nib.save(wm_sel1_corrected_results.get_map('z'), os.path.join(os.path.abspath(_nii_folder), img_name + '-z.nii'))"
   ],
   "metadata": {
    "collapsed": false,
    "pycharm": {
     "name": "#%%\n"
    }
   }
  },
  {
   "cell_type": "markdown",
   "source": [
    "## Statistics"
   ],
   "metadata": {
    "collapsed": false,
    "pycharm": {
     "name": "#%% md\n"
    }
   }
  },
  {
   "cell_type": "code",
   "execution_count": null,
   "outputs": [],
   "source": [
    "from nimare.diagnostics import FocusCounter\n",
    "\n",
    "counter = FocusCounter(\n",
    "    target_image=\"z_desc-size_level-cluster_corr-FWE_method-montecarlo\",\n",
    "    voxel_thresh=None,\n",
    ")\n",
    "test1_count_table, _ = counter.transform(wm_sel1_corrected_results)\n",
    "test1_count_table.shape"
   ],
   "metadata": {
    "collapsed": false,
    "pycharm": {
     "name": "#%%\n"
    }
   }
  },
  {
   "cell_type": "code",
   "execution_count": null,
   "outputs": [],
   "source": [
    "test1_count_table"
   ],
   "metadata": {
    "collapsed": false,
    "pycharm": {
     "name": "#%%\n"
    }
   }
  },
  {
   "cell_type": "code",
   "execution_count": null,
   "outputs": [],
   "source": [
    "from nimare.diagnostics import Jackknife\n",
    "\n",
    "jackknife = Jackknife(\n",
    "    target_image=\"z_desc-size_level-cluster_corr-FWE_method-montecarlo\",\n",
    "    voxel_thresh=None,\n",
    ")\n",
    "test2_jackknife_table, _ = jackknife.transform(wm_sel1_corrected_results)\n",
    "test2_jackknife_table.head(10)"
   ],
   "metadata": {
    "collapsed": false,
    "pycharm": {
     "name": "#%%\n"
    }
   }
  },
  {
   "cell_type": "code",
   "execution_count": null,
   "outputs": [],
   "source": [],
   "metadata": {
    "collapsed": false,
    "pycharm": {
     "name": "#%%\n"
    }
   }
  }
 ],
 "metadata": {
  "kernelspec": {
   "display_name": "Python 3",
   "language": "python",
   "name": "python3"
  },
  "language_info": {
   "codemirror_mode": {
    "name": "ipython",
    "version": 2
   },
   "file_extension": ".py",
   "mimetype": "text/x-python",
   "name": "python",
   "nbconvert_exporter": "python",
   "pygments_lexer": "ipython2",
   "version": "2.7.6"
  }
 },
 "nbformat": 4,
 "nbformat_minor": 0
}