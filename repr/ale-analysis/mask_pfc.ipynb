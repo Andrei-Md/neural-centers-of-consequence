{
 "cells": [
  {
   "cell_type": "code",
   "execution_count": 3,
   "metadata": {
    "collapsed": true
   },
   "outputs": [],
   "source": [
    "%matplotlib inline"
   ]
  },
  {
   "cell_type": "markdown",
   "source": [
    "# ALE meta-analysis"
   ],
   "metadata": {
    "collapsed": false
   }
  },
  {
   "cell_type": "code",
   "execution_count": 4,
   "outputs": [],
   "source": [
    "import os\n",
    "from os import listdir\n",
    "from os.path import isfile, join\n",
    "import nibabel as nib\n",
    "from pathlib import Path\n",
    "\n",
    "import matplotlib.pyplot as plt\n",
    "from nilearn.plotting import plot_stat_map\n",
    "from nimare.io import convert_sleuth_to_dataset\n",
    "from nimare.utils import get_resource_path\n",
    "\n",
    "from nimare.correct import FWECorrector\n",
    "from nimare.meta.cbma import ALE\n",
    "import pickle\n",
    "import csv"
   ],
   "metadata": {
    "collapsed": false,
    "pycharm": {
     "name": "#%%\n"
    }
   }
  },
  {
   "cell_type": "code",
   "execution_count": 14,
   "outputs": [],
   "source": [
    "_dset_folder = r'../data_db/dataset_ale/'\n",
    "_nii_folder = r'../data_db/nifti-ale/'\n",
    "_res_folder = r'../data_db/res/'\n",
    "_mask_img_folder = r'../data_db/nifti-ale/templates'\n",
    "_base_img_filename = r'MNI152_2x2x2_brainmask.nii.gz'"
   ],
   "metadata": {
    "collapsed": false,
    "pycharm": {
     "name": "#%%\n"
    }
   }
  },
  {
   "cell_type": "markdown",
   "source": [
    "## ALE Working Memory: visual task stimulus and task modality n-task"
   ],
   "metadata": {
    "collapsed": false
   }
  },
  {
   "cell_type": "code",
   "execution_count": 15,
   "outputs": [],
   "source": [
    "dsetfiles = {Path(f).stem: f for f in listdir(_dset_folder) if isfile(join(_dset_folder, f))}"
   ],
   "metadata": {
    "collapsed": false,
    "pycharm": {
     "name": "#%%\n"
    }
   }
  },
  {
   "cell_type": "code",
   "execution_count": 16,
   "outputs": [],
   "source": [
    "files = {k: os.path.join(os.path.abspath(_dset_folder), file_name) for k, file_name in dsetfiles.items()}\n",
    "dsets = {k: convert_sleuth_to_dataset(f) for k, f in files.items()}"
   ],
   "metadata": {
    "collapsed": false,
    "pycharm": {
     "name": "#%%\n"
    }
   }
  },
  {
   "cell_type": "markdown",
   "source": [
    "## Apply PFC mask"
   ],
   "metadata": {
    "collapsed": false,
    "pycharm": {
     "name": "#%% md\n"
    }
   }
  },
  {
   "cell_type": "code",
   "execution_count": 19,
   "outputs": [],
   "source": [
    "base_mg = nib.load(os.path.join(os.path.abspath(_mask_img_folder), _base_img_filename))"
   ],
   "metadata": {
    "collapsed": false,
    "pycharm": {
     "name": "#%%\n"
    }
   }
  },
  {
   "cell_type": "markdown",
   "source": [
    "### Obtain non null coordinates"
   ],
   "metadata": {
    "collapsed": false
   }
  },
  {
   "cell_type": "code",
   "execution_count": 22,
   "outputs": [],
   "source": [
    "def get_non_null_nifti_val(nifti):\n",
    "    pts_lst = []\n",
    "    for i in range(nifti.get_fdata().shape[0]):\n",
    "        for j in range(nifti.get_fdata().shape[1]):\n",
    "            for k in range(nifti.get_fdata().shape[2]):\n",
    "                if nifti.get_fdata()[i, j, k] != 0: pts_lst.append([i, j, k])\n",
    "    return pts_lst"
   ],
   "metadata": {
    "collapsed": false,
    "pycharm": {
     "name": "#%%\n"
    }
   }
  },
  {
   "cell_type": "code",
   "execution_count": 23,
   "outputs": [],
   "source": [
    "pts_list_conj = get_non_null_nifti_val(base_mg)"
   ],
   "metadata": {
    "collapsed": false,
    "pycharm": {
     "name": "#%%\n"
    }
   }
  },
  {
   "cell_type": "code",
   "execution_count": 47,
   "outputs": [
    {
     "data": {
      "text/plain": "<module 'util.function_conv_mni' from 'D:\\\\scul\\\\uaic-ub\\\\licenta\\\\code\\\\util\\\\function_conv_mni.py'>"
     },
     "execution_count": 47,
     "metadata": {},
     "output_type": "execute_result"
    }
   ],
   "source": [
    "from scipy.interpolate import interp1d\n",
    "import util.function_conv_mni as util_conv\n",
    "from IPython.display import display\n",
    "import importlib\n",
    "importlib.reload(util_conv)"
   ],
   "metadata": {
    "collapsed": false,
    "pycharm": {
     "name": "#%%\n"
    }
   }
  },
  {
   "cell_type": "code",
   "execution_count": 66,
   "outputs": [],
   "source": [
    "#Interpolation\n",
    "X = [[1, 91], [1, 109], [1, 91]]\n",
    "Y = [[-90, 90], [-126, 90], [-72, 108]]\n",
    "# test value\n",
    "x_interp = interp1d(X[0], Y[0])\n",
    "y_interp = interp1d(X[1], Y[1])\n",
    "z_interp = interp1d(X[2], Y[2])\n",
    "x_interp_bk = interp1d(Y[0], X[0])\n",
    "y_interp_bk = interp1d(Y[1], X[1])\n",
    "z_interp_bk = interp1d(Y[2], X[2])"
   ],
   "metadata": {
    "collapsed": false,
    "pycharm": {
     "name": "#%%\n"
    }
   }
  },
  {
   "cell_type": "code",
   "execution_count": 67,
   "outputs": [
    {
     "name": "stdout",
     "output_type": "stream",
     "text": [
      "[[48, 95, 36], [48, 25, 47]]\n",
      "[[4.0, 62.0, -2.0], [4.0, -78.0, 20.0]]\n",
      "[[48, 95, 36], [48, 25, 47]]\n"
     ]
    }
   ],
   "source": [
    "## Test interpolation\n",
    "pt = [[48,95,36],[48,25,47]]\n",
    "print(pt)\n",
    "pt_conv = [[x_interp(x).item(), y_interp(y).item(), z_interp(z).item()] for x,y,z in pt]\n",
    "print(pt_conv)\n",
    "## Interp back\n",
    "pt_conv_bk = [[int(x_interp_bk(x).item()), int(y_interp_bk(y).item()), int(z_interp_bk(z).item())] for x,y,z in pt_conv]\n",
    "print(pt_conv_bk)"
   ],
   "metadata": {
    "collapsed": false,
    "pycharm": {
     "name": "#%%\n"
    }
   }
  },
  {
   "cell_type": "code",
   "execution_count": 55,
   "outputs": [
    {
     "ename": "KeyboardInterrupt",
     "evalue": "",
     "output_type": "error",
     "traceback": [
      "\u001B[1;31m---------------------------------------------------------------------------\u001B[0m",
      "\u001B[1;31mKeyboardInterrupt\u001B[0m                         Traceback (most recent call last)",
      "Input \u001B[1;32mIn [55]\u001B[0m, in \u001B[0;36m<cell line: 1>\u001B[1;34m()\u001B[0m\n\u001B[1;32m----> 1\u001B[0m pts_list_conj_conv \u001B[38;5;241m=\u001B[39m [[x_interp(x)\u001B[38;5;241m.\u001B[39mitem(), y_interp(y)\u001B[38;5;241m.\u001B[39mitem(), z_interp(z)\u001B[38;5;241m.\u001B[39mitem()] \u001B[38;5;28;01mfor\u001B[39;00m x, y, z \u001B[38;5;129;01min\u001B[39;00m pts_list_conj]\n",
      "Input \u001B[1;32mIn [55]\u001B[0m, in \u001B[0;36m<listcomp>\u001B[1;34m(.0)\u001B[0m\n\u001B[1;32m----> 1\u001B[0m pts_list_conj_conv \u001B[38;5;241m=\u001B[39m [[x_interp(x)\u001B[38;5;241m.\u001B[39mitem(), \u001B[43my_interp\u001B[49m\u001B[43m(\u001B[49m\u001B[43my\u001B[49m\u001B[43m)\u001B[49m\u001B[38;5;241m.\u001B[39mitem(), z_interp(z)\u001B[38;5;241m.\u001B[39mitem()] \u001B[38;5;28;01mfor\u001B[39;00m x, y, z \u001B[38;5;129;01min\u001B[39;00m pts_list_conj]\n",
      "File \u001B[1;32mC:\\ProgramData\\Anaconda3\\envs\\tfg-env\\lib\\site-packages\\scipy\\interpolate\\_polyint.py:78\u001B[0m, in \u001B[0;36m_Interpolator1D.__call__\u001B[1;34m(self, x)\u001B[0m\n\u001B[0;32m     57\u001B[0m \u001B[38;5;124;03m\"\"\"\u001B[39;00m\n\u001B[0;32m     58\u001B[0m \u001B[38;5;124;03mEvaluate the interpolant\u001B[39;00m\n\u001B[0;32m     59\u001B[0m \n\u001B[1;32m   (...)\u001B[0m\n\u001B[0;32m     75\u001B[0m \n\u001B[0;32m     76\u001B[0m \u001B[38;5;124;03m\"\"\"\u001B[39;00m\n\u001B[0;32m     77\u001B[0m x, x_shape \u001B[38;5;241m=\u001B[39m \u001B[38;5;28mself\u001B[39m\u001B[38;5;241m.\u001B[39m_prepare_x(x)\n\u001B[1;32m---> 78\u001B[0m y \u001B[38;5;241m=\u001B[39m \u001B[38;5;28;43mself\u001B[39;49m\u001B[38;5;241;43m.\u001B[39;49m\u001B[43m_evaluate\u001B[49m\u001B[43m(\u001B[49m\u001B[43mx\u001B[49m\u001B[43m)\u001B[49m\n\u001B[0;32m     79\u001B[0m \u001B[38;5;28;01mreturn\u001B[39;00m \u001B[38;5;28mself\u001B[39m\u001B[38;5;241m.\u001B[39m_finish_y(y, x_shape)\n",
      "File \u001B[1;32mC:\\ProgramData\\Anaconda3\\envs\\tfg-env\\lib\\site-packages\\scipy\\interpolate\\_interpolate.py:693\u001B[0m, in \u001B[0;36minterp1d._evaluate\u001B[1;34m(self, x_new)\u001B[0m\n\u001B[0;32m    688\u001B[0m \u001B[38;5;28;01mdef\u001B[39;00m \u001B[38;5;21m_evaluate\u001B[39m(\u001B[38;5;28mself\u001B[39m, x_new):\n\u001B[0;32m    689\u001B[0m     \u001B[38;5;66;03m# 1. Handle values in x_new that are outside of x. Throw error,\u001B[39;00m\n\u001B[0;32m    690\u001B[0m     \u001B[38;5;66;03m#    or return a list of mask array indicating the outofbounds values.\u001B[39;00m\n\u001B[0;32m    691\u001B[0m     \u001B[38;5;66;03m#    The behavior is set by the bounds_error variable.\u001B[39;00m\n\u001B[0;32m    692\u001B[0m     x_new \u001B[38;5;241m=\u001B[39m asarray(x_new)\n\u001B[1;32m--> 693\u001B[0m     y_new \u001B[38;5;241m=\u001B[39m \u001B[38;5;28;43mself\u001B[39;49m\u001B[38;5;241;43m.\u001B[39;49m\u001B[43m_call\u001B[49m\u001B[43m(\u001B[49m\u001B[38;5;28;43mself\u001B[39;49m\u001B[43m,\u001B[49m\u001B[43m \u001B[49m\u001B[43mx_new\u001B[49m\u001B[43m)\u001B[49m\n\u001B[0;32m    694\u001B[0m     \u001B[38;5;28;01mif\u001B[39;00m \u001B[38;5;129;01mnot\u001B[39;00m \u001B[38;5;28mself\u001B[39m\u001B[38;5;241m.\u001B[39m_extrapolate:\n\u001B[0;32m    695\u001B[0m         below_bounds, above_bounds \u001B[38;5;241m=\u001B[39m \u001B[38;5;28mself\u001B[39m\u001B[38;5;241m.\u001B[39m_check_bounds(x_new)\n",
      "File \u001B[1;32mC:\\ProgramData\\Anaconda3\\envs\\tfg-env\\lib\\site-packages\\scipy\\interpolate\\_interpolate.py:617\u001B[0m, in \u001B[0;36minterp1d._call_linear_np\u001B[1;34m(self, x_new)\u001B[0m\n\u001B[0;32m    615\u001B[0m \u001B[38;5;28;01mdef\u001B[39;00m \u001B[38;5;21m_call_linear_np\u001B[39m(\u001B[38;5;28mself\u001B[39m, x_new):\n\u001B[0;32m    616\u001B[0m     \u001B[38;5;66;03m# Note that out-of-bounds values are taken care of in self._evaluate\u001B[39;00m\n\u001B[1;32m--> 617\u001B[0m     \u001B[38;5;28;01mreturn\u001B[39;00m \u001B[43mnp\u001B[49m\u001B[38;5;241;43m.\u001B[39;49m\u001B[43minterp\u001B[49m\u001B[43m(\u001B[49m\u001B[43mx_new\u001B[49m\u001B[43m,\u001B[49m\u001B[43m \u001B[49m\u001B[38;5;28;43mself\u001B[39;49m\u001B[38;5;241;43m.\u001B[39;49m\u001B[43mx\u001B[49m\u001B[43m,\u001B[49m\u001B[43m \u001B[49m\u001B[38;5;28;43mself\u001B[39;49m\u001B[38;5;241;43m.\u001B[39;49m\u001B[43my\u001B[49m\u001B[43m)\u001B[49m\n",
      "File \u001B[1;32m<__array_function__ internals>:180\u001B[0m, in \u001B[0;36minterp\u001B[1;34m(*args, **kwargs)\u001B[0m\n",
      "File \u001B[1;32mC:\\ProgramData\\Anaconda3\\envs\\tfg-env\\lib\\site-packages\\numpy\\lib\\function_base.py:1570\u001B[0m, in \u001B[0;36minterp\u001B[1;34m(x, xp, fp, left, right, period)\u001B[0m\n\u001B[0;32m   1567\u001B[0m     xp \u001B[38;5;241m=\u001B[39m np\u001B[38;5;241m.\u001B[39mconcatenate((xp[\u001B[38;5;241m-\u001B[39m\u001B[38;5;241m1\u001B[39m:]\u001B[38;5;241m-\u001B[39mperiod, xp, xp[\u001B[38;5;241m0\u001B[39m:\u001B[38;5;241m1\u001B[39m]\u001B[38;5;241m+\u001B[39mperiod))\n\u001B[0;32m   1568\u001B[0m     fp \u001B[38;5;241m=\u001B[39m np\u001B[38;5;241m.\u001B[39mconcatenate((fp[\u001B[38;5;241m-\u001B[39m\u001B[38;5;241m1\u001B[39m:], fp, fp[\u001B[38;5;241m0\u001B[39m:\u001B[38;5;241m1\u001B[39m]))\n\u001B[1;32m-> 1570\u001B[0m \u001B[38;5;28;01mreturn\u001B[39;00m \u001B[43minterp_func\u001B[49m\u001B[43m(\u001B[49m\u001B[43mx\u001B[49m\u001B[43m,\u001B[49m\u001B[43m \u001B[49m\u001B[43mxp\u001B[49m\u001B[43m,\u001B[49m\u001B[43m \u001B[49m\u001B[43mfp\u001B[49m\u001B[43m,\u001B[49m\u001B[43m \u001B[49m\u001B[43mleft\u001B[49m\u001B[43m,\u001B[49m\u001B[43m \u001B[49m\u001B[43mright\u001B[49m\u001B[43m)\u001B[49m\n",
      "\u001B[1;31mKeyboardInterrupt\u001B[0m: "
     ]
    }
   ],
   "source": [
    "# pts_list_conj_conv = [[x_interp(x).item(), y_interp(y).item(), z_interp(z).item()] for x, y, z in pts_list_conj]"
   ],
   "metadata": {
    "collapsed": false,
    "pycharm": {
     "name": "#%%\n"
    }
   }
  },
  {
   "cell_type": "code",
   "execution_count": 69,
   "outputs": [
    {
     "name": "stdout",
     "output_type": "stream",
     "text": [
      "Right Cerebrum\n",
      "Frontal Lobe\n",
      "Superior Frontal Gyrus\n",
      "White Matter\n",
      "Frontal_Sup_R (aal)\n",
      "Left Cerebrum\n",
      "Frontal Lobe\n",
      "Middle Frontal Gyrus\n",
      "Gray Matter\n",
      "brodmann area 9\n",
      "Frontal_Inf_Oper_L (aal)\n",
      "Left Cerebrum\n",
      "Parietal Lobe\n",
      "Inferior Parietal Lobule\n",
      "Gray Matter\n",
      "brodmann area 40\n",
      "Parietal_Inf_L (aal)\n"
     ]
    },
    {
     "data": {
      "text/plain": "[' // Right Cerebrum // Frontal Lobe // Superior Frontal Gyrus // White Matter // undefined // Frontal_Sup_R (aal)',\n ' // Left Cerebrum // Frontal Lobe // Middle Frontal Gyrus // Gray Matter // brodmann area 9 // Frontal_Inf_Oper_L (aal)',\n ' // Left Cerebrum // Parietal Lobe // Inferior Parietal Lobule // Gray Matter // brodmann area 40 // Parietal_Inf_L (aal)']"
     },
     "execution_count": 69,
     "metadata": {},
     "output_type": "execute_result"
    }
   ],
   "source": [
    "# one_line, table = util_conv.find_structure(pts_list_conj_conv)\n",
    "one_line, table = util_conv.find_structure(pt_conv)\n",
    "one_line"
   ],
   "metadata": {
    "collapsed": false,
    "pycharm": {
     "name": "#%%\n"
    }
   }
  },
  {
   "cell_type": "code",
   "execution_count": 44,
   "outputs": [],
   "source": [
    "set_lst = [set() for x in range(7)]\n",
    "for result in one_line:\n",
    "    for index, el in enumerate(result.split(\"//\")):\n",
    "        if index == 0 or el.rstrip().lstrip() == 'undefined': continue\n",
    "        set_lst[index].add(el)\n"
   ],
   "metadata": {
    "collapsed": false,
    "pycharm": {
     "name": "#%%\n"
    }
   }
  },
  {
   "cell_type": "code",
   "execution_count": 46,
   "outputs": [
    {
     "data": {
      "text/plain": "[set(),\n {' Inter-Hemispheric ',\n  ' Left Brainstem ',\n  ' Left Cerebellum ',\n  ' Left Cerebrum ',\n  ' Right Brainstem ',\n  ' Right Cerebellum ',\n  ' Right Cerebrum '},\n {' Cerebellum Anterior Lobe ',\n  ' Cerebellum Posterior Lobe ',\n  ' Frontal Lobe ',\n  ' Frontal-Temporal Space ',\n  ' Limbic Lobe ',\n  ' Midbrain ',\n  ' Occipital Lobe ',\n  ' Parietal Lobe ',\n  ' Pons ',\n  ' Sub-lobar ',\n  ' Temporal Lobe '},\n {' Anterior Cingulate ',\n  ' Caudate ',\n  ' Cerebellar Lingual ',\n  ' Cingulate Gyrus ',\n  ' Claustrum ',\n  ' Culmen ',\n  ' Culmen of Vermis ',\n  ' Cuneus ',\n  ' Declive ',\n  ' Extra-Nuclear ',\n  ' Fastigium ',\n  ' Fourth Ventricle ',\n  ' Fusiform Gyrus ',\n  ' Inferior Frontal Gyrus ',\n  ' Inferior Parietal Lobule ',\n  ' Inferior Temporal Gyrus ',\n  ' Insula ',\n  ' Lateral Ventricle ',\n  ' Lentiform Nucleus ',\n  ' Lingual Gyrus ',\n  ' Medial Frontal Gyrus ',\n  ' Middle Frontal Gyrus ',\n  ' Middle Occipital Gyrus ',\n  ' Middle Temporal Gyrus ',\n  ' Orbital Gyrus ',\n  ' Paracentral Lobule ',\n  ' Parahippocampa Gyrus ',\n  ' Postcentral Gyrus ',\n  ' Posterior Cingulate ',\n  ' Precentral Gyrus ',\n  ' Precuneus ',\n  ' Rectal Gyrus ',\n  ' Sub-Gyral ',\n  ' Subcallosal Gyrus ',\n  ' Superior Frontal Gyrus ',\n  ' Superior Temporal Gyrus ',\n  ' Supramarginal Gyrus ',\n  ' Thalamus ',\n  ' Third Ventricle ',\n  ' Transverse Temporal Gyrus ',\n  ' Uncus '},\n {' Cerebro-Spinal Fluid ', ' Gray Matter ', ' White Matter '},\n {' Amygdala ',\n  ' Anterior Commissure ',\n  ' Caudate Body ',\n  ' Caudate Head ',\n  ' Caudate Tail ',\n  ' Corpus Callosum ',\n  ' Dentate ',\n  ' Hippocampus ',\n  ' Hypothalamus ',\n  ' Lateral Dorsal Nucleus ',\n  ' Lateral Geniculum Body ',\n  ' Lateral Globus Pallidus ',\n  ' Lateral Posterior Nucleus ',\n  ' Mammillary Body ',\n  ' Medial Dorsal Nucleus ',\n  ' Medial Geniculum Body ',\n  ' Medial Globus Pallidus ',\n  ' Midline Nucleus ',\n  ' Optic Tract ',\n  ' Pulvinar ',\n  ' Putamen ',\n  ' Red Nucleus ',\n  ' Substania Nigra ',\n  ' Subthalamic Nucleus ',\n  ' Ventral Anterior Nucleus ',\n  ' Ventral Lateral Nucleus ',\n  ' Ventral Posterior Lateral Nucleus ',\n  ' Ventral Posterior Medial Nucleus ',\n  ' brodmann area 10 ',\n  ' brodmann area 11 ',\n  ' brodmann area 13 ',\n  ' brodmann area 18 ',\n  ' brodmann area 19 ',\n  ' brodmann area 2 ',\n  ' brodmann area 20 ',\n  ' brodmann area 21 ',\n  ' brodmann area 22 ',\n  ' brodmann area 23 ',\n  ' brodmann area 24 ',\n  ' brodmann area 25 ',\n  ' brodmann area 27 ',\n  ' brodmann area 28 ',\n  ' brodmann area 29 ',\n  ' brodmann area 3 ',\n  ' brodmann area 30 ',\n  ' brodmann area 31 ',\n  ' brodmann area 32 ',\n  ' brodmann area 33 ',\n  ' brodmann area 34 ',\n  ' brodmann area 35 ',\n  ' brodmann area 36 ',\n  ' brodmann area 37 ',\n  ' brodmann area 38 ',\n  ' brodmann area 39 ',\n  ' brodmann area 4 ',\n  ' brodmann area 40 ',\n  ' brodmann area 41 ',\n  ' brodmann area 42 ',\n  ' brodmann area 43 ',\n  ' brodmann area 44 ',\n  ' brodmann area 45 ',\n  ' brodmann area 46 ',\n  ' brodmann area 47 ',\n  ' brodmann area 5 ',\n  ' brodmann area 6 ',\n  ' brodmann area 7 ',\n  ' brodmann area 8 ',\n  ' brodmann area 9 '},\n {' Amygdala_L (aal)',\n  ' Amygdala_R (aal)',\n  ' Angular_L (aal)',\n  ' Angular_R (aal)',\n  ' Calcarine_L (aal)',\n  ' Calcarine_R (aal)',\n  ' Caudate_L (aal)',\n  ' Caudate_R (aal)',\n  ' Cerebelum_3_L (aal)',\n  ' Cerebelum_3_R (aal)',\n  ' Cerebelum_4_5_L (aal)',\n  ' Cerebelum_4_5_R (aal)',\n  ' Cerebelum_6_L (aal)',\n  ' Cerebelum_6_R (aal)',\n  ' Cingulum_Ant_L (aal)',\n  ' Cingulum_Ant_R (aal)',\n  ' Cingulum_Mid_L (aal)',\n  ' Cingulum_Mid_R (aal)',\n  ' Cingulum_Post_L (aal)',\n  ' Cingulum_Post_R (aal)',\n  ' Cuneus_L (aal)',\n  ' Cuneus_R (aal)',\n  ' Frontal_Inf_Oper_L (aal)',\n  ' Frontal_Inf_Oper_R (aal)',\n  ' Frontal_Inf_Orb_L (aal)',\n  ' Frontal_Inf_Orb_R (aal)',\n  ' Frontal_Inf_Tri_L (aal)',\n  ' Frontal_Inf_Tri_R (aal)',\n  ' Frontal_Med_Orb_L (aal)',\n  ' Frontal_Med_Orb_R (aal)',\n  ' Frontal_Mid_L (aal)',\n  ' Frontal_Mid_Orb_L (aal)',\n  ' Frontal_Mid_Orb_R (aal)',\n  ' Frontal_Mid_R (aal)',\n  ' Frontal_Sup_L (aal)',\n  ' Frontal_Sup_Medial_L (aal)',\n  ' Frontal_Sup_Medial_R (aal)',\n  ' Frontal_Sup_Orb_L (aal)',\n  ' Frontal_Sup_Orb_R (aal)',\n  ' Frontal_Sup_R (aal)',\n  ' Fusiform_L (aal)',\n  ' Fusiform_R (aal)',\n  ' Heschl_L (aal)',\n  ' Heschl_R (aal)',\n  ' Hippocampus_L (aal)',\n  ' Hippocampus_R (aal)',\n  ' Insula_L (aal)',\n  ' Insula_R (aal)',\n  ' Lingual_L (aal)',\n  ' Lingual_R (aal)',\n  ' Occipital_Inf_L (aal)',\n  ' Occipital_Inf_R (aal)',\n  ' Occipital_Mid_L (aal)',\n  ' Occipital_Sup_L (aal)',\n  ' Occipital_Sup_R (aal)',\n  ' Olfactory_L (aal)',\n  ' Olfactory_R (aal)',\n  ' Pallidum_L (aal)',\n  ' Pallidum_R (aal)',\n  ' ParaHippocampal_L (aal)',\n  ' ParaHippocampal_R (aal)',\n  ' Paracentral_Lobule_L (aal)',\n  ' Paracentral_Lobule_R (aal)',\n  ' Parietal_Inf_L (aal)',\n  ' Postcentral_L (aal)',\n  ' Postcentral_R (aal)',\n  ' Precentral_L (aal)',\n  ' Precentral_R (aal)',\n  ' Precuneus_L (aal)',\n  ' Precuneus_R (aal)',\n  ' Putamen_L (aal)',\n  ' Putamen_R (aal)',\n  ' Rectus_L (aal)',\n  ' Rectus_R (aal)',\n  ' Rolandic_Oper_L (aal)',\n  ' Rolandic_Oper_R (aal)',\n  ' Supp_Motor_Area_L (aal)',\n  ' Supp_Motor_Area_R (aal)',\n  ' SupraMarginal_L (aal)',\n  ' SupraMarginal_R (aal)',\n  ' Temporal_Inf_L (aal)',\n  ' Temporal_Inf_R (aal)',\n  ' Temporal_Mid_L (aal)',\n  ' Temporal_Mid_R (aal)',\n  ' Temporal_Pole_Mid_L (aal)',\n  ' Temporal_Pole_Mid_R (aal)',\n  ' Temporal_Pole_Sup_L (aal)',\n  ' Temporal_Pole_Sup_R (aal)',\n  ' Temporal_Sup_L (aal)',\n  ' Temporal_Sup_R (aal)',\n  ' Thalamus_L (aal)',\n  ' Thalamus_R (aal)',\n  ' Vermis_10 (aal)',\n  ' Vermis_1_2 (aal)',\n  ' Vermis_3 (aal)',\n  ' Vermis_4_5 (aal)',\n  ' Vermis_6 (aal)',\n  ' Vermis_8 (aal)'}]"
     },
     "metadata": {},
     "output_type": "display_data"
    }
   ],
   "source": [
    "display(set_lst)"
   ],
   "metadata": {
    "collapsed": false,
    "pycharm": {
     "name": "#%%\n"
    }
   }
  },
  {
   "cell_type": "code",
   "execution_count": null,
   "outputs": [],
   "source": [],
   "metadata": {
    "collapsed": false,
    "pycharm": {
     "name": "#%%\n"
    }
   }
  }
 ],
 "metadata": {
  "kernelspec": {
   "display_name": "Python 3",
   "language": "python",
   "name": "python3"
  },
  "language_info": {
   "codemirror_mode": {
    "name": "ipython",
    "version": 2
   },
   "file_extension": ".py",
   "mimetype": "text/x-python",
   "name": "python",
   "nbconvert_exporter": "python",
   "pygments_lexer": "ipython2",
   "version": "2.7.6"
  }
 },
 "nbformat": 4,
 "nbformat_minor": 0
}