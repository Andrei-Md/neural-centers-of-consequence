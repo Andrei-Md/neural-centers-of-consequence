{
 "cells": [
  {
   "cell_type": "code",
   "execution_count": 78,
   "outputs": [],
   "source": [
    "import numpy as np\n",
    "import pandas as pd\n",
    "import util.Plotly as plots\n",
    "import util.colors.Colors as colors"
   ],
   "metadata": {
    "collapsed": false,
    "pycharm": {
     "name": "#%%\n"
    }
   }
  },
  {
   "cell_type": "code",
   "execution_count": 55,
   "metadata": {
    "collapsed": true
   },
   "outputs": [],
   "source": [
    "pointX = [-73, 73]\n",
    "pointY = [-107, 75]\n",
    "pointZ = [-53, 90]\n",
    "points = [pointX, pointY, pointZ]"
   ]
  },
  {
   "cell_type": "code",
   "execution_count": 197,
   "outputs": [
    {
     "name": "stdout",
     "output_type": "stream",
     "text": [
      "[73, 91, 69]\n",
      "458367\n"
     ]
    }
   ],
   "source": [
    "sum_list = [abs(x[0]) + abs(x[1]) for x in points]\n",
    "div = 2\n",
    "sum_list = [int(x / div) for x in sum_list]\n",
    "print(sum_list)\n",
    "vol = np.prod(sum_list)\n",
    "print(vol)"
   ],
   "metadata": {
    "collapsed": false,
    "pycharm": {
     "name": "#%%\n"
    }
   }
  },
  {
   "cell_type": "code",
   "execution_count": 198,
   "outputs": [],
   "source": [
    "# Create points\n",
    "listX = [x for x in range(pointX[0], pointX[1], div)]\n",
    "listY = [x for x in range(pointY[0], pointY[1], div)]\n",
    "listZ = [x for x in range(pointZ[0], pointX[1], div)]"
   ],
   "metadata": {
    "collapsed": false,
    "pycharm": {
     "name": "#%%\n"
    }
   }
  },
  {
   "cell_type": "code",
   "execution_count": 199,
   "outputs": [
    {
     "data": {
      "text/plain": "358457"
     },
     "execution_count": 199,
     "metadata": {},
     "output_type": "execute_result"
    }
   ],
   "source": [
    "list_coords = [[x, y, z] for x in listX for y in listY for z in listZ if\n",
    "               not ((y >= 49 and z <= -35) or (y >= 31 and z <= -47) or\n",
    "                    (y <= -35 and z <= -41) or (y <= -71 and z <= -23) or\n",
    "                    (y <= -95 and z >= 55) or (y >= 61 and z >= 49) or (\n",
    "                            y >= 61 and z >= 43) or (z <= -35 and -7 <= x <= 11))]\n",
    "len(list_coords)"
   ],
   "metadata": {
    "collapsed": false,
    "pycharm": {
     "name": "#%%\n"
    }
   }
  },
  {
   "cell_type": "code",
   "execution_count": 200,
   "outputs": [],
   "source": [
    "df_brain_coords = pd.DataFrame(list_coords, columns=[\"MNIX\", \"MNIY\", \"MNIZ\"])"
   ],
   "metadata": {
    "collapsed": false,
    "pycharm": {
     "name": "#%%\n"
    }
   }
  },
  {
   "cell_type": "code",
   "execution_count": 203,
   "outputs": [],
   "source": [
    "# save to csv\n",
    "csv_path = r'data/mni_brain_total.csv'\n",
    "df_brain_coords.to_csv(csv_path, index=False, header=False)"
   ],
   "metadata": {
    "collapsed": false,
    "pycharm": {
     "name": "#%%\n"
    }
   }
  },
  {
   "cell_type": "code",
   "execution_count": 96,
   "outputs": [
    {
     "data": {
      "text/plain": "   MNIX  MNIY  MNIZ                   BA  TALX  TALY  TALZ\n0   -73  -107   -53  Outside defined BAs   -71  -108   -42\n1   -73  -107   -47  Outside defined BAs   -71  -107   -36\n2   -73  -107   -41  Outside defined BAs   -71  -107   -31\n3   -73  -107   -35  Outside defined BAs   -71  -106   -26\n4   -73  -107   -29  Outside defined BAs   -71  -106   -20",
      "text/html": "<div>\n<style scoped>\n    .dataframe tbody tr th:only-of-type {\n        vertical-align: middle;\n    }\n\n    .dataframe tbody tr th {\n        vertical-align: top;\n    }\n\n    .dataframe thead th {\n        text-align: right;\n    }\n</style>\n<table border=\"1\" class=\"dataframe\">\n  <thead>\n    <tr style=\"text-align: right;\">\n      <th></th>\n      <th>MNIX</th>\n      <th>MNIY</th>\n      <th>MNIZ</th>\n      <th>BA</th>\n      <th>TALX</th>\n      <th>TALY</th>\n      <th>TALZ</th>\n    </tr>\n  </thead>\n  <tbody>\n    <tr>\n      <th>0</th>\n      <td>-73</td>\n      <td>-107</td>\n      <td>-53</td>\n      <td>Outside defined BAs</td>\n      <td>-71</td>\n      <td>-108</td>\n      <td>-42</td>\n    </tr>\n    <tr>\n      <th>1</th>\n      <td>-73</td>\n      <td>-107</td>\n      <td>-47</td>\n      <td>Outside defined BAs</td>\n      <td>-71</td>\n      <td>-107</td>\n      <td>-36</td>\n    </tr>\n    <tr>\n      <th>2</th>\n      <td>-73</td>\n      <td>-107</td>\n      <td>-41</td>\n      <td>Outside defined BAs</td>\n      <td>-71</td>\n      <td>-107</td>\n      <td>-31</td>\n    </tr>\n    <tr>\n      <th>3</th>\n      <td>-73</td>\n      <td>-107</td>\n      <td>-35</td>\n      <td>Outside defined BAs</td>\n      <td>-71</td>\n      <td>-106</td>\n      <td>-26</td>\n    </tr>\n    <tr>\n      <th>4</th>\n      <td>-73</td>\n      <td>-107</td>\n      <td>-29</td>\n      <td>Outside defined BAs</td>\n      <td>-71</td>\n      <td>-106</td>\n      <td>-20</td>\n    </tr>\n  </tbody>\n</table>\n</div>"
     },
     "execution_count": 96,
     "metadata": {},
     "output_type": "execute_result"
    }
   ],
   "source": [
    "# import points\n",
    "csv_mni_brain_coords_conv_filename = r'data/mni_brain_total_converted.csv'\n",
    "df_data_mni_conv = pd.read_csv(csv_mni_brain_coords_conv_filename)\n",
    "df_data_mni_conv.head()"
   ],
   "metadata": {
    "collapsed": false,
    "pycharm": {
     "name": "#%%\n"
    }
   }
  },
  {
   "cell_type": "code",
   "execution_count": 110,
   "outputs": [],
   "source": [
    "# filter outside BAs\n",
    "mask_outside = df_data_mni_conv['BA'].str.contains('Outside defined BAs')\n",
    "df_data_mni_final = df_data_mni_conv[~mask_outside]\n",
    "df_test = df_data_mni_conv[mask_outside]"
   ],
   "metadata": {
    "collapsed": false,
    "pycharm": {
     "name": "#%%\n"
    }
   }
  },
  {
   "cell_type": "code",
   "execution_count": 105,
   "outputs": [
    {
     "data": {
      "text/plain": "(5161, 7)"
     },
     "execution_count": 105,
     "metadata": {},
     "output_type": "execute_result"
    }
   ],
   "source": [
    "df_data_mni_final.shape"
   ],
   "metadata": {
    "collapsed": false,
    "pycharm": {
     "name": "#%%\n"
    }
   }
  },
  {
   "cell_type": "code",
   "execution_count": 106,
   "outputs": [
    {
     "data": {
      "text/plain": "82"
     },
     "execution_count": 106,
     "metadata": {},
     "output_type": "execute_result"
    }
   ],
   "source": [
    "len(df_data_mni_final.BA.unique())"
   ],
   "metadata": {
    "collapsed": false,
    "pycharm": {
     "name": "#%%\n"
    }
   }
  },
  {
   "cell_type": "code",
   "execution_count": 107,
   "outputs": [],
   "source": [
    "color_nan = '#ebeded'\n",
    "color_rest = '#ffe4e1'\n",
    "color_line = 'rgb(50,50,50)'\n",
    "\n",
    "color1 = \"#800000\"\n",
    "color1_1 = \"#CD853f\"\n",
    "color2 = \"#556b2f\"\n",
    "color2_1 = \"#adff2f\"\n",
    "color3 = \"#000080\"\n",
    "color3_1 = \"#1e90ff\"\n",
    "color4 = \"#b8860B\"\n",
    "color4_1 = \"#FFFF00\""
   ],
   "metadata": {
    "collapsed": false,
    "pycharm": {
     "name": "#%%\n"
    }
   }
  },
  {
   "cell_type": "code",
   "execution_count": null,
   "outputs": [],
   "source": [
    "cols = dict(x='MNIX',\n",
    "            y='MNIY',\n",
    "            z='MNIZ')"
   ],
   "metadata": {
    "collapsed": false,
    "pycharm": {
     "name": "#%%\n"
    }
   }
  },
  {
   "cell_type": "code",
   "execution_count": 177,
   "outputs": [],
   "source": [
    "#plot points\n",
    "# Brain data trace\n",
    "trace_brain_data = plots.create_data(df=df_data_mni_final,cols = cols, grouping_col='BA', colors=color_rest,\n",
    "                                     labels_col_list=['BA', 'MNIX', 'MNIY', 'MNIZ'],\n",
    "                                     opacity=0.9, check_nan=True, line_color=color_nan)"
   ],
   "metadata": {
    "collapsed": false,
    "pycharm": {
     "name": "#%%\n"
    }
   }
  },
  {
   "cell_type": "code",
   "execution_count": 201,
   "outputs": [],
   "source": [
    "#plot points\n",
    "# # Brain data trace\n",
    "# trace_brain_data_rest = plots.create_data(df=df_test, grouping_col='BA', colors=color_nan,\n",
    "#                                           colX='MNIX', colY='MNIY', colZ='MNIZ',\n",
    "#                                           labels_col_list=['BA', 'MNIX', 'MNIY', 'MNIZ'],\n",
    "#                                           opacity=0.2, check_nan=True, line_color=color_nan)\n",
    "trace_brain_data_rest = plots.create_data(df=df_brain_coords,cols = cols, colors=color_nan,\n",
    "                                          labels_col_list=['MNIX', 'MNIY', 'MNIZ'],\n",
    "                                          opacity=0.2, check_nan=True, line_color=color_nan)"
   ],
   "metadata": {
    "collapsed": false,
    "pycharm": {
     "name": "#%%\n"
    }
   }
  },
  {
   "cell_type": "code",
   "execution_count": 202,
   "outputs": [],
   "source": [
    "#Brain points\n",
    "data_dict_coords = [trace_brain_data_rest, trace_brain_data]\n",
    "plots.plot_coordinates_plotly(data=data_dict_coords,\n",
    "                              data_source_name=csv_mni_brain_coords_conv_filename,\n",
    "                              title='Center Coordinates - all points')"
   ],
   "metadata": {
    "collapsed": false,
    "pycharm": {
     "name": "#%%\n"
    }
   }
  },
  {
   "cell_type": "code",
   "execution_count": null,
   "outputs": [],
   "source": [],
   "metadata": {
    "collapsed": false,
    "pycharm": {
     "name": "#%%\n"
    }
   }
  }
 ],
 "metadata": {
  "kernelspec": {
   "display_name": "Python 3",
   "language": "python",
   "name": "python3"
  },
  "language_info": {
   "codemirror_mode": {
    "name": "ipython",
    "version": 2
   },
   "file_extension": ".py",
   "mimetype": "text/x-python",
   "name": "python",
   "nbconvert_exporter": "python",
   "pygments_lexer": "ipython2",
   "version": "2.7.6"
  }
 },
 "nbformat": 4,
 "nbformat_minor": 0
}