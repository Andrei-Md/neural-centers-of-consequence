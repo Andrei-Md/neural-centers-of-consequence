{
 "cells": [
  {
   "cell_type": "code",
   "execution_count": 5,
   "metadata": {
    "collapsed": true,
    "pycharm": {
     "name": "#%%\n"
    }
   },
   "outputs": [],
   "source": [
    "from sklearn.datasets import load_breast_cancer\n",
    "from sklearn.model_selection import train_test_split\n",
    "# from autosklearn.classification import AutoSklearnClassifier\n",
    "import scipy.stats\n",
    "import pandas as pd\n",
    "import numpy as np\n",
    "import util.Data\n",
    "# import util.Plotly as plots\n",
    "# import util.colors.Colors as colors"
   ]
  },
  {
   "cell_type": "code",
   "execution_count": 6,
   "outputs": [],
   "source": [
    "#dataset\n",
    "csv_filename = r'../repr/data/final_coordinates-conversion-v2.csv'\n",
    "df_data = util.Data.import_data(csv_filename)"
   ],
   "metadata": {
    "collapsed": false,
    "pycharm": {
     "name": "#%%\n"
    }
   }
  },
  {
   "cell_type": "code",
   "execution_count": 7,
   "outputs": [
    {
     "data": {
      "text/plain": "(656, 26)"
     },
     "execution_count": 7,
     "metadata": {},
     "output_type": "execute_result"
    }
   ],
   "source": [
    "df_data.shape"
   ],
   "metadata": {
    "collapsed": false,
    "pycharm": {
     "name": "#%%\n"
    }
   }
  },
  {
   "cell_type": "code",
   "execution_count": 8,
   "outputs": [
    {
     "data": {
      "text/plain": "importance        object\nauthor            object\ntitle             object\ntable_name        object\nkeywords          object\nLeft/Right        object\nName              object\nBroadman Area     object\nt                float64\nX(R)               int64\nY(A)               int64\nZ(S)               int64\nz-score          float64\nNV               float64\np value          float64\ncluster size     float64\nindex_col          int64\nMNIX               int64\nMNIY               int64\nMNIZ               int64\nBA                object\nTALX               int64\nTALY               int64\nTALZ               int64\nBA_name           object\nBA_no            float64\ndtype: object"
     },
     "execution_count": 8,
     "metadata": {},
     "output_type": "execute_result"
    }
   ],
   "source": [
    "df_data.dtypes"
   ],
   "metadata": {
    "collapsed": false,
    "pycharm": {
     "name": "#%%\n"
    }
   }
  },
  {
   "cell_type": "markdown",
   "source": [
    "## Dataframe valid"
   ],
   "metadata": {
    "collapsed": false,
    "pycharm": {
     "name": "#%% md\n"
    }
   }
  },
  {
   "cell_type": "code",
   "execution_count": 9,
   "outputs": [],
   "source": [
    "mask_outside_all = df_data['BA_name'].str.contains('Outside defined BAs')\n",
    "df_data_valid = df_data[~mask_outside_all]"
   ],
   "metadata": {
    "collapsed": false,
    "pycharm": {
     "name": "#%%\n"
    }
   }
  },
  {
   "cell_type": "code",
   "execution_count": 10,
   "outputs": [
    {
     "data": {
      "text/plain": "(483, 26)"
     },
     "execution_count": 10,
     "metadata": {},
     "output_type": "execute_result"
    }
   ],
   "source": [
    "df_data_valid.shape"
   ],
   "metadata": {
    "collapsed": false,
    "pycharm": {
     "name": "#%%\n"
    }
   }
  },
  {
   "cell_type": "code",
   "execution_count": 11,
   "outputs": [],
   "source": [
    "set_keywords_selection = set(\n",
    "    [\"reward magnitude\", \"anticipation phase\", \"outcome phase\", \"decision phase\", \"working memory\", \"viewing\",\n",
    "     \"monetary reward\", \"high gain vs high loss\", \"taste reward\", \"social reward\", \"monetary and taste reward\", \"food \",\n",
    "     \"high calorie\", \"low calorie\", \"positive reward\", \"negative reward\", \"context-dependent reward\", \"risk choice\",\n",
    "     \"safe choice\"])"
   ],
   "metadata": {
    "collapsed": false,
    "pycharm": {
     "name": "#%%\n"
    }
   }
  },
  {
   "cell_type": "code",
   "execution_count": 12,
   "outputs": [
    {
     "data": {
      "text/plain": "{'working memory': 0,\n 'taste reward': 0,\n 'monetary and taste reward': 0,\n 'safe choice': 0,\n 'high calorie': 5,\n 'risk choice': 14,\n 'high gain vs high loss': 14,\n 'decision phase': 18,\n 'low calorie': 18,\n 'food ': 18,\n 'negative reward': 23,\n 'viewing': 24,\n 'context-dependent reward': 27,\n 'anticipation phase': 76,\n 'social reward': 84,\n 'positive reward': 97,\n 'reward magnitude': 146,\n 'monetary reward': 277,\n 'outcome phase': 378}"
     },
     "execution_count": 12,
     "metadata": {},
     "output_type": "execute_result"
    }
   ],
   "source": [
    "df = df_data_valid\n",
    "counter = {}\n",
    "for val in set_keywords_selection:\n",
    "    counter[val] = df['keywords'][df['keywords'].str.contains(val)].count()\n",
    "counter = {k: v for k, v in sorted(counter.items(), key=lambda item: item[1])}\n",
    "counter"
   ],
   "metadata": {
    "collapsed": false,
    "pycharm": {
     "name": "#%%\n"
    }
   }
  },
  {
   "cell_type": "code",
   "execution_count": 33,
   "outputs": [
    {
     "data": {
      "text/plain": "['outcome phase',\n 'reward magnitude',\n 'monetary reward',\n 'positive reward',\n 'negative reward',\n 'social reward',\n 'anticipation phase',\n 'viewing',\n 'context-dependent reward']"
     },
     "execution_count": 33,
     "metadata": {},
     "output_type": "execute_result"
    }
   ],
   "source": [
    "# refine keywords\n",
    "min_val = 20\n",
    "set_keywords = [key for key in set_keywords_selection if counter[key] >= min_val]\n",
    "set_keywords"
   ],
   "metadata": {
    "collapsed": false,
    "pycharm": {
     "name": "#%%\n"
    }
   }
  },
  {
   "cell_type": "code",
   "execution_count": 14,
   "outputs": [],
   "source": [
    "# significance\n",
    "def significance(row, df=10):\n",
    "    if not (pd.isna(row['p value'])):\n",
    "        return abs(row['p value'])\n",
    "    elif not (pd.isna(row['z-score'])):\n",
    "        return scipy.stats.norm.sf(row['z-score'])\n",
    "    elif not (pd.isna(row['t'])):\n",
    "        return scipy.stats.t.sf(row['t'], df)\n",
    "    return 0"
   ],
   "metadata": {
    "collapsed": false,
    "pycharm": {
     "name": "#%%\n"
    }
   }
  },
  {
   "cell_type": "code",
   "execution_count": 15,
   "outputs": [
    {
     "name": "stderr",
     "output_type": "stream",
     "text": [
      "C:\\ProgramData\\Anaconda3\\envs\\tfgpu\\lib\\site-packages\\ipykernel_launcher.py:1: SettingWithCopyWarning: \n",
      "A value is trying to be set on a copy of a slice from a DataFrame.\n",
      "Try using .loc[row_indexer,col_indexer] = value instead\n",
      "\n",
      "See the caveats in the documentation: https://pandas.pydata.org/pandas-docs/stable/user_guide/indexing.html#returning-a-view-versus-a-copy\n",
      "  \"\"\"Entry point for launching an IPython kernel.\n"
     ]
    }
   ],
   "source": [
    "df_data_valid['significance'] = df_data_valid.apply(significance, axis=1)"
   ],
   "metadata": {
    "collapsed": false,
    "pycharm": {
     "name": "#%%\n"
    }
   }
  },
  {
   "cell_type": "code",
   "execution_count": 16,
   "outputs": [],
   "source": [
    "# Create y\n",
    "y = []\n",
    "x = []\n",
    "for _, row in df_data_valid.iterrows():\n",
    "    x.append(np.array([row['MNIX'], row['MNIY'], row['MNIZ']]))\n",
    "    y.append(\n",
    "        # [round(1 * (1 - row['significance']), 4) if key in row['keywords'] else 0 for key in set_keywords_selection])\n",
    "        np.array([1 if key in row['keywords'] else 0 for key in set_keywords]))\n",
    "y = np.array(y)\n",
    "x = np.array(x)"
   ],
   "metadata": {
    "collapsed": false,
    "pycharm": {
     "name": "#%%\n"
    }
   }
  },
  {
   "cell_type": "code",
   "execution_count": 17,
   "outputs": [],
   "source": [
    "# Split into train and test sets\n",
    "x_train, x_test, y_train, y_test = train_test_split(x, y, test_size=0.15, random_state=23)"
   ],
   "metadata": {
    "collapsed": false,
    "pycharm": {
     "name": "#%%\n"
    }
   }
  },
  {
   "cell_type": "code",
   "execution_count": 18,
   "outputs": [
    {
     "data": {
      "text/plain": "array([[-28, -24, -14],\n       [-21,  21, -25],\n       [  4, -56,  35],\n       ...,\n       [-59,  -3, -18],\n       [ 38,  39, -17],\n       [ 56,  -6, -17]])"
     },
     "execution_count": 18,
     "metadata": {},
     "output_type": "execute_result"
    }
   ],
   "source": [
    "x"
   ],
   "metadata": {
    "collapsed": false,
    "pycharm": {
     "name": "#%%\n"
    }
   }
  },
  {
   "cell_type": "code",
   "execution_count": 15,
   "outputs": [
    {
     "name": "stdout",
     "output_type": "stream",
     "text": [
      "[WARNING] [2022-05-13 10:25:04,128:Client-AutoML(1):2f881543-d296-11ec-8c79-fdce89fc766c] Unknown dtype for X: int64, assuming it takes 8 bit/number\n"
     ]
    },
    {
     "data": {
      "text/plain": "AutoSklearnClassifier(ensemble_size=1,\n                      initial_configurations_via_metalearning=0,\n                      per_run_time_limit=30, time_left_for_this_task=300)",
      "text/html": "<style>#sk-container-id-1 {color: black;background-color: white;}#sk-container-id-1 pre{padding: 0;}#sk-container-id-1 div.sk-toggleable {background-color: white;}#sk-container-id-1 label.sk-toggleable__label {cursor: pointer;display: block;width: 100%;margin-bottom: 0;padding: 0.3em;box-sizing: border-box;text-align: center;}#sk-container-id-1 label.sk-toggleable__label-arrow:before {content: \"▸\";float: left;margin-right: 0.25em;color: #696969;}#sk-container-id-1 label.sk-toggleable__label-arrow:hover:before {color: black;}#sk-container-id-1 div.sk-estimator:hover label.sk-toggleable__label-arrow:before {color: black;}#sk-container-id-1 div.sk-toggleable__content {max-height: 0;max-width: 0;overflow: hidden;text-align: left;background-color: #f0f8ff;}#sk-container-id-1 div.sk-toggleable__content pre {margin: 0.2em;color: black;border-radius: 0.25em;background-color: #f0f8ff;}#sk-container-id-1 input.sk-toggleable__control:checked~div.sk-toggleable__content {max-height: 200px;max-width: 100%;overflow: auto;}#sk-container-id-1 input.sk-toggleable__control:checked~label.sk-toggleable__label-arrow:before {content: \"▾\";}#sk-container-id-1 div.sk-estimator input.sk-toggleable__control:checked~label.sk-toggleable__label {background-color: #d4ebff;}#sk-container-id-1 div.sk-label input.sk-toggleable__control:checked~label.sk-toggleable__label {background-color: #d4ebff;}#sk-container-id-1 input.sk-hidden--visually {border: 0;clip: rect(1px 1px 1px 1px);clip: rect(1px, 1px, 1px, 1px);height: 1px;margin: -1px;overflow: hidden;padding: 0;position: absolute;width: 1px;}#sk-container-id-1 div.sk-estimator {font-family: monospace;background-color: #f0f8ff;border: 1px dotted black;border-radius: 0.25em;box-sizing: border-box;margin-bottom: 0.5em;}#sk-container-id-1 div.sk-estimator:hover {background-color: #d4ebff;}#sk-container-id-1 div.sk-parallel-item::after {content: \"\";width: 100%;border-bottom: 1px solid gray;flex-grow: 1;}#sk-container-id-1 div.sk-label:hover label.sk-toggleable__label {background-color: #d4ebff;}#sk-container-id-1 div.sk-serial::before {content: \"\";position: absolute;border-left: 1px solid gray;box-sizing: border-box;top: 0;bottom: 0;left: 50%;z-index: 0;}#sk-container-id-1 div.sk-serial {display: flex;flex-direction: column;align-items: center;background-color: white;padding-right: 0.2em;padding-left: 0.2em;position: relative;}#sk-container-id-1 div.sk-item {position: relative;z-index: 1;}#sk-container-id-1 div.sk-parallel {display: flex;align-items: stretch;justify-content: center;background-color: white;position: relative;}#sk-container-id-1 div.sk-item::before, #sk-container-id-1 div.sk-parallel-item::before {content: \"\";position: absolute;border-left: 1px solid gray;box-sizing: border-box;top: 0;bottom: 0;left: 50%;z-index: -1;}#sk-container-id-1 div.sk-parallel-item {display: flex;flex-direction: column;z-index: 1;position: relative;background-color: white;}#sk-container-id-1 div.sk-parallel-item:first-child::after {align-self: flex-end;width: 50%;}#sk-container-id-1 div.sk-parallel-item:last-child::after {align-self: flex-start;width: 50%;}#sk-container-id-1 div.sk-parallel-item:only-child::after {width: 0;}#sk-container-id-1 div.sk-dashed-wrapped {border: 1px dashed gray;margin: 0 0.4em 0.5em 0.4em;box-sizing: border-box;padding-bottom: 0.4em;background-color: white;}#sk-container-id-1 div.sk-label label {font-family: monospace;font-weight: bold;display: inline-block;line-height: 1.2em;}#sk-container-id-1 div.sk-label-container {text-align: center;}#sk-container-id-1 div.sk-container {/* jupyter's `normalize.less` sets `[hidden] { display: none; }` but bootstrap.min.css set `[hidden] { display: none !important; }` so we also need the `!important` here to be able to override the default hidden behavior on the sphinx rendered scikit-learn.org. See: https://github.com/scikit-learn/scikit-learn/issues/21755 */display: inline-block !important;position: relative;}#sk-container-id-1 div.sk-text-repr-fallback {display: none;}</style><div id=\"sk-container-id-1\" class=\"sk-top-container\"><div class=\"sk-text-repr-fallback\"><pre>AutoSklearnClassifier(ensemble_size=1,\n                      initial_configurations_via_metalearning=0,\n                      per_run_time_limit=30, time_left_for_this_task=300)</pre><b>In a Jupyter environment, please rerun this cell to show the HTML representation or trust the notebook. <br />On GitHub, the HTML representation is unable to render, please try loading this page with nbviewer.org.</b></div><div class=\"sk-container\" hidden><div class=\"sk-item\"><div class=\"sk-estimator sk-toggleable\"><input class=\"sk-toggleable__control sk-hidden--visually\" id=\"sk-estimator-id-1\" type=\"checkbox\" checked><label for=\"sk-estimator-id-1\" class=\"sk-toggleable__label sk-toggleable__label-arrow\">AutoSklearnClassifier</label><div class=\"sk-toggleable__content\"><pre>AutoSklearnClassifier(ensemble_size=1,\n                      initial_configurations_via_metalearning=0,\n                      per_run_time_limit=30, time_left_for_this_task=300)</pre></div></div></div></div></div>"
     },
     "execution_count": 15,
     "metadata": {},
     "output_type": "execute_result"
    }
   ],
   "source": [
    "# Auto-Sklearn Initialization\n",
    "\n",
    "# time_left_for_this_task : Time limit in seconds to find the optimal configuration\n",
    "# per_run_time_limit : Time limit in seconds for each model\n",
    "# ensemble_size: Number of models added to the Ensemble model\n",
    "# initial_configurations_via_metalearning: \"k\" configurations to start the Bayesian Optimization\n",
    "model = AutoSklearnClassifier(time_left_for_this_task=300,\n",
    "                              per_run_time_limit=30,\n",
    "                              ensemble_size=1,\n",
    "                              initial_configurations_via_metalearning=0)\n",
    "# Init training\n",
    "model.fit(x_train, y_train)"
   ],
   "metadata": {
    "collapsed": false,
    "pycharm": {
     "name": "#%%\n"
    }
   }
  },
  {
   "cell_type": "code",
   "execution_count": 16,
   "outputs": [
    {
     "name": "stdout",
     "output_type": "stream",
     "text": [
      "auto-sklearn results:\n",
      "  Dataset name: 2f881543-d296-11ec-8c79-fdce89fc766c\n",
      "  Metric: f1_macro\n",
      "  Best validation score: 0.412912\n",
      "  Number of target algorithm runs: 161\n",
      "  Number of successful target algorithm runs: 150\n",
      "  Number of crashed target algorithm runs: 11\n",
      "  Number of target algorithms that exceeded the time limit: 0\n",
      "  Number of target algorithms that exceeded the memory limit: 0\n",
      "\n"
     ]
    }
   ],
   "source": [
    "print(model.sprint_statistics())"
   ],
   "metadata": {
    "collapsed": false,
    "pycharm": {
     "name": "#%%\n"
    }
   }
  },
  {
   "cell_type": "code",
   "execution_count": 17,
   "outputs": [
    {
     "name": "stdout",
     "output_type": "stream",
     "text": [
      "          rank  ensemble_weight          type      cost  duration\n",
      "model_id                                                         \n",
      "160          1              1.0  bernoulli_nb  0.587088  0.433002\n"
     ]
    }
   ],
   "source": [
    "print(model.leaderboard())"
   ],
   "metadata": {
    "collapsed": false,
    "pycharm": {
     "name": "#%%\n"
    }
   }
  },
  {
   "cell_type": "code",
   "execution_count": 18,
   "outputs": [
    {
     "name": "stdout",
     "output_type": "stream",
     "text": [
      "{160: {'model_id': 160, 'rank': 1, 'cost': 0.587088389492443, 'ensemble_weight': 1.0, 'data_preprocessor': <autosklearn.pipeline.components.data_preprocessing.DataPreprocessorChoice object at 0x7f4b1785cd00>, 'balancing': Balancing(random_state=1, strategy='weighting'), 'feature_preprocessor': <autosklearn.pipeline.components.feature_preprocessing.FeaturePreprocessorChoice object at 0x7f4b1785c610>, 'classifier': <autosklearn.pipeline.components.classification.ClassifierChoice object at 0x7f4b17e67340>, 'sklearn_classifier': OneVsRestClassifier(estimator=BernoulliNB(alpha=0.021354685179664025), n_jobs=1)}}\n"
     ]
    }
   ],
   "source": [
    "print(model.show_models())"
   ],
   "metadata": {
    "collapsed": false,
    "pycharm": {
     "name": "#%%\n"
    }
   }
  },
  {
   "cell_type": "code",
   "execution_count": 19,
   "outputs": [],
   "source": [
    "import sklearn.metrics"
   ],
   "metadata": {
    "collapsed": false,
    "pycharm": {
     "name": "#%%\n"
    }
   }
  },
  {
   "cell_type": "code",
   "execution_count": 27,
   "outputs": [
    {
     "name": "stdout",
     "output_type": "stream",
     "text": [
      "mse: 0.2952815829528158\n",
      "acc: 0.0273972602739726\n"
     ]
    }
   ],
   "source": [
    "test_predictions = model.predict(x_test)\n",
    "print(\"mse:\", sklearn.metrics.mean_squared_error(y_test, test_predictions))\n",
    "print(\"acc:\", sklearn.metrics.accuracy_score(y_test, test_predictions))"
   ],
   "metadata": {
    "collapsed": false,
    "pycharm": {
     "name": "#%%\n"
    }
   }
  },
  {
   "cell_type": "code",
   "execution_count": 21,
   "outputs": [
    {
     "data": {
      "text/plain": "array([[1, 1, 0, 1, 0, 0, 0, 0, 1],\n       [0, 1, 0, 0, 0, 0, 0, 1, 0],\n       [0, 1, 0, 1, 0, 0, 0, 1, 0],\n       [0, 1, 0, 0, 0, 0, 0, 1, 1],\n       [0, 1, 1, 0, 1, 0, 0, 0, 0],\n       [1, 1, 0, 0, 0, 0, 0, 1, 0],\n       [0, 1, 0, 1, 0, 1, 0, 1, 0],\n       [0, 1, 0, 0, 0, 0, 0, 0, 1],\n       [0, 0, 1, 1, 0, 0, 0, 0, 0],\n       [0, 1, 0, 0, 1, 0, 0, 0, 1],\n       [0, 0, 1, 1, 0, 0, 0, 0, 0],\n       [0, 1, 0, 1, 0, 1, 0, 1, 0],\n       [1, 0, 1, 1, 0, 0, 0, 0, 0],\n       [0, 0, 0, 1, 1, 0, 0, 0, 0],\n       [1, 0, 0, 1, 0, 0, 0, 0, 1],\n       [0, 0, 1, 0, 0, 1, 0, 0, 0],\n       [0, 1, 0, 1, 0, 1, 0, 1, 0],\n       [1, 0, 1, 1, 0, 0, 1, 0, 0],\n       [1, 0, 1, 1, 0, 0, 0, 0, 0],\n       [0, 0, 0, 0, 0, 0, 0, 0, 0],\n       [0, 1, 0, 0, 0, 0, 0, 1, 1],\n       [0, 0, 1, 0, 0, 1, 0, 0, 0],\n       [0, 1, 0, 0, 0, 0, 0, 1, 1],\n       [0, 1, 1, 0, 1, 0, 0, 0, 1],\n       [1, 1, 0, 0, 0, 0, 0, 0, 1],\n       [1, 0, 1, 1, 0, 0, 1, 0, 0],\n       [1, 0, 1, 1, 0, 0, 0, 0, 0],\n       [1, 0, 1, 1, 0, 0, 1, 0, 0],\n       [0, 1, 0, 1, 0, 0, 0, 0, 1],\n       [0, 1, 0, 0, 0, 1, 0, 1, 0],\n       [1, 1, 0, 0, 0, 0, 0, 1, 1],\n       [0, 0, 1, 0, 0, 0, 0, 0, 0],\n       [1, 0, 1, 1, 0, 0, 0, 0, 1],\n       [0, 0, 1, 1, 0, 0, 1, 0, 0],\n       [1, 0, 1, 1, 0, 1, 1, 0, 0],\n       [0, 1, 1, 0, 1, 0, 0, 0, 0],\n       [0, 1, 0, 0, 0, 0, 0, 1, 0],\n       [1, 0, 1, 1, 0, 0, 0, 0, 1],\n       [0, 1, 0, 1, 0, 1, 0, 1, 0],\n       [1, 0, 1, 1, 0, 0, 0, 0, 0],\n       [1, 0, 1, 1, 0, 0, 0, 0, 1],\n       [0, 1, 0, 0, 0, 1, 0, 0, 0],\n       [1, 0, 0, 0, 0, 0, 0, 0, 1],\n       [0, 1, 0, 0, 0, 1, 0, 1, 0],\n       [1, 0, 1, 1, 0, 0, 0, 0, 0],\n       [1, 0, 1, 1, 0, 0, 0, 0, 1],\n       [1, 0, 1, 1, 0, 0, 1, 0, 0],\n       [1, 1, 0, 1, 0, 0, 0, 1, 1],\n       [1, 0, 1, 1, 0, 0, 0, 0, 0],\n       [0, 0, 0, 1, 1, 0, 0, 0, 0],\n       [0, 1, 0, 1, 0, 0, 0, 0, 1],\n       [0, 1, 0, 0, 0, 1, 0, 1, 0],\n       [0, 0, 1, 1, 0, 1, 1, 0, 0],\n       [0, 1, 0, 1, 0, 0, 0, 0, 1],\n       [0, 1, 0, 1, 0, 0, 0, 1, 0],\n       [0, 0, 0, 1, 0, 0, 0, 0, 1],\n       [0, 1, 0, 0, 0, 0, 0, 0, 0],\n       [0, 0, 0, 1, 1, 0, 0, 0, 0],\n       [0, 1, 0, 1, 0, 0, 0, 0, 1],\n       [0, 0, 1, 1, 0, 0, 0, 0, 0],\n       [1, 1, 0, 0, 0, 0, 0, 0, 1],\n       [0, 1, 0, 1, 0, 1, 0, 1, 0],\n       [0, 1, 0, 0, 0, 1, 0, 1, 0],\n       [1, 0, 1, 0, 0, 0, 0, 0, 0],\n       [1, 0, 0, 1, 0, 0, 0, 0, 1],\n       [1, 0, 0, 1, 0, 0, 0, 0, 1],\n       [0, 0, 0, 0, 0, 0, 0, 0, 1],\n       [1, 1, 0, 1, 0, 0, 0, 0, 1],\n       [1, 0, 1, 1, 0, 0, 0, 0, 1],\n       [0, 0, 0, 0, 0, 0, 0, 0, 1],\n       [0, 1, 0, 1, 0, 0, 0, 1, 1],\n       [0, 1, 1, 0, 1, 0, 0, 0, 0],\n       [0, 1, 1, 1, 1, 0, 0, 0, 0]])"
     },
     "execution_count": 21,
     "metadata": {},
     "output_type": "execute_result"
    }
   ],
   "source": [
    "test_predictions"
   ],
   "metadata": {
    "collapsed": false,
    "pycharm": {
     "name": "#%%\n"
    }
   }
  },
  {
   "cell_type": "code",
   "execution_count": 22,
   "outputs": [
    {
     "data": {
      "text/plain": "array([[0, 0, 1, 1, 0, 0, 0, 0, 0],\n       [0, 1, 0, 1, 0, 0, 0, 0, 1],\n       [0, 0, 0, 1, 0, 0, 0, 1, 0],\n       [0, 0, 0, 1, 0, 0, 0, 0, 1],\n       [0, 1, 0, 1, 1, 0, 0, 0, 0],\n       [0, 0, 1, 1, 0, 0, 0, 0, 0],\n       [0, 0, 0, 1, 0, 0, 0, 0, 1],\n       [0, 0, 1, 1, 0, 0, 0, 0, 0],\n       [0, 0, 1, 1, 0, 0, 0, 0, 0],\n       [0, 0, 1, 1, 0, 0, 0, 0, 0],\n       [0, 0, 1, 0, 1, 0, 0, 0, 0],\n       [0, 0, 0, 1, 0, 0, 0, 0, 1],\n       [1, 0, 1, 0, 0, 0, 0, 0, 0],\n       [0, 0, 0, 1, 0, 0, 0, 1, 0],\n       [1, 0, 1, 1, 0, 0, 0, 0, 0],\n       [0, 0, 1, 0, 1, 0, 0, 0, 0],\n       [0, 0, 1, 1, 0, 1, 1, 0, 0],\n       [0, 0, 0, 1, 0, 0, 0, 0, 1],\n       [1, 0, 1, 0, 0, 0, 0, 0, 0],\n       [0, 0, 1, 1, 0, 0, 0, 0, 0],\n       [0, 0, 0, 1, 0, 0, 0, 0, 1],\n       [0, 0, 1, 0, 1, 0, 0, 0, 0],\n       [0, 0, 0, 1, 0, 0, 0, 0, 1],\n       [0, 0, 1, 1, 0, 0, 0, 0, 0],\n       [0, 0, 0, 1, 0, 0, 0, 0, 0],\n       [1, 0, 1, 1, 0, 0, 0, 0, 0],\n       [0, 0, 1, 1, 0, 0, 0, 0, 0],\n       [1, 0, 1, 1, 0, 0, 0, 0, 0],\n       [0, 1, 0, 1, 1, 0, 0, 0, 0],\n       [0, 0, 1, 1, 0, 0, 0, 0, 0],\n       [1, 0, 1, 1, 0, 0, 0, 1, 0],\n       [0, 0, 1, 1, 0, 0, 0, 0, 0],\n       [0, 1, 1, 1, 0, 0, 0, 0, 0],\n       [0, 0, 1, 0, 1, 0, 0, 0, 0],\n       [0, 0, 1, 0, 0, 0, 0, 0, 0],\n       [0, 1, 0, 1, 1, 0, 0, 0, 0],\n       [0, 1, 0, 0, 1, 0, 0, 0, 0],\n       [0, 0, 1, 1, 0, 0, 0, 0, 0],\n       [0, 0, 1, 1, 0, 1, 0, 0, 0],\n       [0, 0, 0, 1, 0, 0, 0, 0, 0],\n       [1, 1, 1, 1, 0, 0, 1, 0, 0],\n       [0, 0, 0, 1, 0, 0, 0, 0, 1],\n       [0, 0, 1, 1, 0, 0, 0, 0, 0],\n       [0, 0, 1, 1, 0, 0, 0, 0, 0],\n       [0, 0, 1, 1, 0, 0, 0, 0, 0],\n       [0, 0, 0, 1, 0, 0, 0, 0, 1],\n       [0, 0, 1, 1, 0, 0, 0, 0, 0],\n       [0, 0, 0, 1, 0, 0, 0, 0, 0],\n       [0, 0, 1, 1, 0, 0, 0, 0, 0],\n       [0, 0, 1, 1, 0, 0, 0, 0, 0],\n       [0, 1, 1, 1, 0, 0, 0, 0, 1],\n       [0, 0, 0, 1, 0, 0, 0, 0, 0],\n       [1, 0, 1, 1, 0, 0, 1, 0, 0],\n       [0, 1, 1, 1, 0, 0, 0, 0, 1],\n       [0, 0, 0, 1, 0, 0, 0, 0, 0],\n       [0, 0, 1, 1, 0, 0, 0, 0, 0],\n       [0, 0, 0, 1, 0, 0, 0, 1, 0],\n       [0, 0, 0, 1, 0, 0, 0, 0, 1],\n       [0, 0, 0, 1, 0, 0, 0, 0, 1],\n       [1, 0, 0, 1, 0, 0, 0, 0, 0],\n       [0, 0, 1, 1, 0, 0, 0, 0, 0],\n       [1, 0, 1, 1, 0, 0, 0, 1, 0],\n       [0, 0, 0, 1, 0, 0, 0, 0, 1],\n       [1, 0, 1, 0, 0, 0, 0, 0, 0],\n       [0, 0, 0, 1, 0, 0, 0, 0, 0],\n       [1, 0, 1, 1, 0, 0, 0, 0, 0],\n       [1, 0, 1, 1, 0, 0, 0, 0, 0],\n       [1, 1, 1, 1, 0, 1, 1, 0, 0],\n       [0, 1, 1, 1, 0, 0, 0, 0, 0],\n       [0, 0, 0, 1, 0, 0, 0, 0, 1],\n       [0, 0, 1, 1, 0, 0, 0, 0, 0],\n       [0, 0, 1, 1, 0, 0, 0, 0, 0],\n       [0, 0, 1, 1, 0, 0, 0, 0, 0]])"
     },
     "execution_count": 22,
     "metadata": {},
     "output_type": "execute_result"
    }
   ],
   "source": [
    "y_test"
   ],
   "metadata": {
    "collapsed": false,
    "pycharm": {
     "name": "#%%\n"
    }
   }
  },
  {
   "cell_type": "code",
   "execution_count": 22,
   "outputs": [],
   "source": [],
   "metadata": {
    "collapsed": false,
    "pycharm": {
     "name": "#%%\n"
    }
   }
  },
  {
   "cell_type": "code",
   "execution_count": null,
   "outputs": [],
   "source": [],
   "metadata": {
    "collapsed": false,
    "pycharm": {
     "name": "#%%\n"
    }
   }
  },
  {
   "cell_type": "markdown",
   "source": [
    "## Multioutput regression"
   ],
   "metadata": {
    "collapsed": false,
    "pycharm": {
     "name": "#%% md\n"
    }
   }
  },
  {
   "cell_type": "code",
   "execution_count": 34,
   "outputs": [],
   "source": [
    "# Create y\n",
    "y = []\n",
    "x = []\n",
    "for _, row in df_data_valid.iterrows():\n",
    "    x.append(np.array([row['MNIX'], row['MNIY'], row['MNIZ']]))\n",
    "    y.append(\n",
    "        [round(1 * (1 - row['significance']), 4) if key in row['keywords'] else 0 for key in set_keywords])\n",
    "        # np.array([1 if key in row['keywords'] else 0 for key in set_keywords]))\n",
    "y = np.array(y)\n",
    "x = np.array(x)"
   ],
   "metadata": {
    "collapsed": false,
    "pycharm": {
     "name": "#%%\n"
    }
   }
  },
  {
   "cell_type": "code",
   "execution_count": 50,
   "outputs": [],
   "source": [
    "# Split into train and test sets\n",
    "x_train, x_test, y_train, y_test = train_test_split(x, y, test_size=0.15, random_state=23)"
   ],
   "metadata": {
    "collapsed": false,
    "pycharm": {
     "name": "#%%\n"
    }
   }
  },
  {
   "cell_type": "code",
   "execution_count": 55,
   "outputs": [],
   "source": [
    "from sklearn.multioutput import MultiOutputRegressor\n",
    "from sklearn.ensemble import GradientBoostingRegressor\n",
    "from sklearn.linear_model import Ridge\n",
    "model = MultiOutputRegressor(Ridge(random_state=0)).fit(x_train, y_train)\n",
    "y_predict = model.predict(x_test)"
   ],
   "metadata": {
    "collapsed": false,
    "pycharm": {
     "name": "#%%\n"
    }
   }
  },
  {
   "cell_type": "code",
   "execution_count": 56,
   "outputs": [
    {
     "data": {
      "text/plain": "array([0.74033256, 0.37447395, 0.46454721, 0.2175136 , 0.06521734,\n       0.22801904, 0.16645307, 0.07614977, 0.02803063])"
     },
     "execution_count": 56,
     "metadata": {},
     "output_type": "execute_result"
    }
   ],
   "source": [
    "y_predict[0]"
   ],
   "metadata": {
    "collapsed": false,
    "pycharm": {
     "name": "#%%\n"
    }
   }
  },
  {
   "cell_type": "code",
   "execution_count": 57,
   "outputs": [
    {
     "data": {
      "text/plain": "array([0.9998, 0.    , 0.9998, 0.    , 0.    , 0.    , 0.    , 0.    ,\n       0.    ])"
     },
     "execution_count": 57,
     "metadata": {},
     "output_type": "execute_result"
    }
   ],
   "source": [
    "y_test[0]"
   ],
   "metadata": {
    "collapsed": false,
    "pycharm": {
     "name": "#%%\n"
    }
   }
  },
  {
   "cell_type": "code",
   "execution_count": 58,
   "outputs": [
    {
     "name": "stdout",
     "output_type": "stream",
     "text": [
      "mse: 0.11903579008200985\n"
     ]
    }
   ],
   "source": [
    "print(\"mse:\", sklearn.metrics.mean_squared_error(y_test, y_predict))"
   ],
   "metadata": {
    "collapsed": false,
    "pycharm": {
     "name": "#%%\n"
    }
   }
  },
  {
   "cell_type": "code",
   "execution_count": 63,
   "outputs": [
    {
     "data": {
      "text/plain": "array([-18,  44, -22])"
     },
     "execution_count": 63,
     "metadata": {},
     "output_type": "execute_result"
    }
   ],
   "source": [
    "x_test[0]"
   ],
   "metadata": {
    "collapsed": false,
    "pycharm": {
     "name": "#%%\n"
    }
   }
  },
  {
   "cell_type": "code",
   "execution_count": 59,
   "outputs": [],
   "source": [
    "x_tst2=[\n",
    "    [-18,44,-22],\n",
    "    [-17,44,-22],\n",
    "    [-19,44,-22],\n",
    "    [-18,43,-22],\n",
    "    [-18,45,-22],\n",
    "    [-18,44,-21],\n",
    "    [-18,44,-23],\n",
    "    [-17,43,-21],\n",
    "    [-18,45,-23],\n",
    "]"
   ],
   "metadata": {
    "collapsed": false,
    "pycharm": {
     "name": "#%%\n"
    }
   }
  },
  {
   "cell_type": "code",
   "execution_count": 60,
   "outputs": [],
   "source": [
    "y_pred2 = model.predict(x_tst2)"
   ],
   "metadata": {
    "collapsed": false,
    "pycharm": {
     "name": "#%%\n"
    }
   }
  },
  {
   "cell_type": "code",
   "execution_count": 61,
   "outputs": [
    {
     "data": {
      "text/plain": "array([[0.74033256, 0.37447395, 0.46454721, 0.2175136 , 0.06521734,\n        0.22801904, 0.16645307, 0.07614977, 0.02803063],\n       [0.73995163, 0.37372887, 0.46423065, 0.21700209, 0.06572126,\n        0.22820099, 0.1655684 , 0.07578724, 0.02808848],\n       [0.74071349, 0.37521904, 0.46486378, 0.21802511, 0.06471341,\n        0.22783709, 0.16733775, 0.0765123 , 0.02797277],\n       [0.74013144, 0.37606738, 0.46265601, 0.21617757, 0.06466281,\n        0.22843539, 0.16735325, 0.07634384, 0.02735034],\n       [0.74053368, 0.37288052, 0.46643842, 0.21884963, 0.06577187,\n        0.2276027 , 0.16555289, 0.0759557 , 0.02871092],\n       [0.74110554, 0.37119288, 0.47015143, 0.21917937, 0.06524058,\n        0.22546067, 0.1656135 , 0.07515535, 0.02982978],\n       [0.73955958, 0.37775503, 0.458943  , 0.21584783, 0.06519409,\n        0.23057742, 0.16729264, 0.07714419, 0.02623147],\n       [0.74052348, 0.37204122, 0.46794365, 0.21733183, 0.06518998,\n        0.22605897, 0.165629  , 0.07498689, 0.02920735],\n       [0.7397607 , 0.3761616 , 0.46083421, 0.21718386, 0.06574862,\n        0.23016107, 0.16639247, 0.07695012, 0.02691176]])"
     },
     "execution_count": 61,
     "metadata": {},
     "output_type": "execute_result"
    }
   ],
   "source": [
    "y_pred2\n"
   ],
   "metadata": {
    "collapsed": false,
    "pycharm": {
     "name": "#%%\n"
    }
   }
  },
  {
   "cell_type": "code",
   "execution_count": null,
   "outputs": [],
   "source": [],
   "metadata": {
    "collapsed": false,
    "pycharm": {
     "name": "#%%\n"
    }
   }
  },
  {
   "cell_type": "code",
   "execution_count": null,
   "outputs": [],
   "source": [],
   "metadata": {
    "collapsed": false,
    "pycharm": {
     "name": "#%%\n"
    }
   }
  }
 ],
 "metadata": {
  "kernelspec": {
   "display_name": "Python 3",
   "language": "python",
   "name": "python3"
  },
  "language_info": {
   "codemirror_mode": {
    "name": "ipython",
    "version": 2
   },
   "file_extension": ".py",
   "mimetype": "text/x-python",
   "name": "python",
   "nbconvert_exporter": "python",
   "pygments_lexer": "ipython2",
   "version": "2.7.6"
  }
 },
 "nbformat": 4,
 "nbformat_minor": 0
}