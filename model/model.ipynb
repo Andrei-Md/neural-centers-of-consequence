{
 "cells": [
  {
   "cell_type": "code",
   "execution_count": 1,
   "metadata": {
    "collapsed": true,
    "pycharm": {
     "name": "#%%\n"
    }
   },
   "outputs": [],
   "source": [
    "from sklearn.datasets import load_breast_cancer\n",
    "from sklearn.model_selection import train_test_split\n",
    "from autosklearn.classification import AutoSklearnClassifier\n",
    "import scipy.stats\n",
    "import pandas as pd\n",
    "import numpy as np\n",
    "import util.Data\n",
    "import util.Plotly as plots\n",
    "import util.colors.Colors as colors"
   ]
  },
  {
   "cell_type": "code",
   "execution_count": 2,
   "outputs": [],
   "source": [
    "#dataset\n",
    "csv_filename = r'../repr/data/final_coordinates-conversion-v2.csv'\n",
    "df_data = util.Data.import_data(csv_filename)"
   ],
   "metadata": {
    "collapsed": false,
    "pycharm": {
     "name": "#%%\n"
    }
   }
  },
  {
   "cell_type": "code",
   "execution_count": 3,
   "outputs": [
    {
     "data": {
      "text/plain": "(656, 26)"
     },
     "execution_count": 3,
     "metadata": {},
     "output_type": "execute_result"
    }
   ],
   "source": [
    "df_data.shape"
   ],
   "metadata": {
    "collapsed": false,
    "pycharm": {
     "name": "#%%\n"
    }
   }
  },
  {
   "cell_type": "code",
   "execution_count": 4,
   "outputs": [
    {
     "data": {
      "text/plain": "importance        object\nauthor            object\ntitle             object\ntable_name        object\nkeywords          object\nLeft/Right        object\nName              object\nBroadman Area     object\nt                float64\nX(R)               int64\nY(A)               int64\nZ(S)               int64\nz-score          float64\nNV               float64\np value          float64\ncluster size     float64\nindex_col          int64\nMNIX               int64\nMNIY               int64\nMNIZ               int64\nBA                object\nTALX               int64\nTALY               int64\nTALZ               int64\nBA_name           object\nBA_no            float64\ndtype: object"
     },
     "execution_count": 4,
     "metadata": {},
     "output_type": "execute_result"
    }
   ],
   "source": [
    "df_data.dtypes"
   ],
   "metadata": {
    "collapsed": false,
    "pycharm": {
     "name": "#%%\n"
    }
   }
  },
  {
   "cell_type": "markdown",
   "source": [
    "## Dataframe valid"
   ],
   "metadata": {
    "collapsed": false,
    "pycharm": {
     "name": "#%% md\n"
    }
   }
  },
  {
   "cell_type": "code",
   "execution_count": 5,
   "outputs": [],
   "source": [
    "mask_outside_all = df_data['BA_name'].str.contains('Outside defined BAs')\n",
    "df_data_valid = df_data[~mask_outside_all]"
   ],
   "metadata": {
    "collapsed": false,
    "pycharm": {
     "name": "#%%\n"
    }
   }
  },
  {
   "cell_type": "code",
   "execution_count": 6,
   "outputs": [
    {
     "data": {
      "text/plain": "(483, 26)"
     },
     "execution_count": 6,
     "metadata": {},
     "output_type": "execute_result"
    }
   ],
   "source": [
    "df_data_valid.shape"
   ],
   "metadata": {
    "collapsed": false,
    "pycharm": {
     "name": "#%%\n"
    }
   }
  },
  {
   "cell_type": "code",
   "execution_count": 7,
   "outputs": [],
   "source": [
    "set_keywords_selection = set(\n",
    "    [\"reward magnitude\", \"anticipation phase\", \"outcome phase\", \"decision phase\", \"working memory\", \"viewing\",\n",
    "     \"monetary reward\", \"high gain vs high loss\", \"taste reward\", \"social reward\", \"monetary and taste reward\", \"food \",\n",
    "     \"high calorie\", \"low calorie\", \"positive reward\", \"negative reward\", \"context-dependent reward\", \"risk choice\",\n",
    "     \"safe choice\"])"
   ],
   "metadata": {
    "collapsed": false,
    "pycharm": {
     "name": "#%%\n"
    }
   }
  },
  {
   "cell_type": "code",
   "execution_count": 8,
   "outputs": [
    {
     "data": {
      "text/plain": "{'working memory': 0,\n 'safe choice': 0,\n 'taste reward': 0,\n 'monetary and taste reward': 0,\n 'high calorie': 5,\n 'risk choice': 14,\n 'high gain vs high loss': 14,\n 'low calorie': 18,\n 'decision phase': 18,\n 'food ': 18,\n 'negative reward': 23,\n 'viewing': 24,\n 'context-dependent reward': 27,\n 'anticipation phase': 76,\n 'social reward': 84,\n 'positive reward': 97,\n 'reward magnitude': 146,\n 'monetary reward': 277,\n 'outcome phase': 378}"
     },
     "execution_count": 8,
     "metadata": {},
     "output_type": "execute_result"
    }
   ],
   "source": [
    "df = df_data_valid\n",
    "counter = {}\n",
    "for val in set_keywords_selection:\n",
    "    counter[val] = df['keywords'][df['keywords'].str.contains(val)].count()\n",
    "counter = {k: v for k, v in sorted(counter.items(), key=lambda item: item[1])}\n",
    "counter"
   ],
   "metadata": {
    "collapsed": false,
    "pycharm": {
     "name": "#%%\n"
    }
   }
  },
  {
   "cell_type": "code",
   "execution_count": 9,
   "outputs": [
    {
     "data": {
      "text/plain": "['positive reward',\n 'reward magnitude',\n 'monetary reward',\n 'outcome phase',\n 'anticipation phase',\n 'negative reward',\n 'context-dependent reward',\n 'viewing',\n 'social reward']"
     },
     "execution_count": 9,
     "metadata": {},
     "output_type": "execute_result"
    }
   ],
   "source": [
    "# refine keywords\n",
    "min_val = 20\n",
    "set_keywords = [key for key in set_keywords_selection if counter[key] >= min_val]\n",
    "set_keywords"
   ],
   "metadata": {
    "collapsed": false,
    "pycharm": {
     "name": "#%%\n"
    }
   }
  },
  {
   "cell_type": "code",
   "execution_count": 10,
   "outputs": [],
   "source": [
    "# significance\n",
    "def significance(row, df=10):\n",
    "    if not (pd.isna(row['p value'])):\n",
    "        return abs(row['p value'])\n",
    "    elif not (pd.isna(row['z-score'])):\n",
    "        return scipy.stats.norm.sf(row['z-score'])\n",
    "    elif not (pd.isna(row['t'])):\n",
    "        return scipy.stats.t.sf(row['t'], df)\n",
    "    return 0"
   ],
   "metadata": {
    "collapsed": false,
    "pycharm": {
     "name": "#%%\n"
    }
   }
  },
  {
   "cell_type": "code",
   "execution_count": 11,
   "outputs": [
    {
     "name": "stderr",
     "output_type": "stream",
     "text": [
      "/tmp/ipykernel_3193/3732137001.py:1: SettingWithCopyWarning: \n",
      "A value is trying to be set on a copy of a slice from a DataFrame.\n",
      "Try using .loc[row_indexer,col_indexer] = value instead\n",
      "\n",
      "See the caveats in the documentation: https://pandas.pydata.org/pandas-docs/stable/user_guide/indexing.html#returning-a-view-versus-a-copy\n",
      "  df_data_valid['significance'] = df_data_valid.apply(significance, axis=1)\n"
     ]
    }
   ],
   "source": [
    "df_data_valid['significance'] = df_data_valid.apply(significance, axis=1)"
   ],
   "metadata": {
    "collapsed": false,
    "pycharm": {
     "name": "#%%\n"
    }
   }
  },
  {
   "cell_type": "code",
   "execution_count": 12,
   "outputs": [],
   "source": [
    "# Create y\n",
    "y = []\n",
    "x = []\n",
    "for _, row in df_data_valid.iterrows():\n",
    "    x.append(np.array([row['MNIX'], row['MNIY'], row['MNIZ']]))\n",
    "    y.append(\n",
    "        # [round(1 * (1 - row['significance']), 4) if key in row['keywords'] else 0 for key in set_keywords_selection])\n",
    "        np.array([1 if key in row['keywords'] else 0 for key in set_keywords]))\n",
    "y = np.array(y)\n",
    "x = np.array(x)"
   ],
   "metadata": {
    "collapsed": false,
    "pycharm": {
     "name": "#%%\n"
    }
   }
  },
  {
   "cell_type": "code",
   "execution_count": 13,
   "outputs": [],
   "source": [
    "# Split into train and test sets\n",
    "x_train, x_test, y_train, y_test = train_test_split(x, y, test_size=0.15, random_state=23)"
   ],
   "metadata": {
    "collapsed": false,
    "pycharm": {
     "name": "#%%\n"
    }
   }
  },
  {
   "cell_type": "code",
   "execution_count": 14,
   "outputs": [
    {
     "data": {
      "text/plain": "array([[-28, -24, -14],\n       [-21,  21, -25],\n       [  4, -56,  35],\n       ...,\n       [-59,  -3, -18],\n       [ 38,  39, -17],\n       [ 56,  -6, -17]])"
     },
     "execution_count": 14,
     "metadata": {},
     "output_type": "execute_result"
    }
   ],
   "source": [
    "x"
   ],
   "metadata": {
    "collapsed": false,
    "pycharm": {
     "name": "#%%\n"
    }
   }
  },
  {
   "cell_type": "code",
   "execution_count": 15,
   "outputs": [
    {
     "name": "stdout",
     "output_type": "stream",
     "text": [
      "[WARNING] [2022-05-13 10:25:04,128:Client-AutoML(1):2f881543-d296-11ec-8c79-fdce89fc766c] Unknown dtype for X: int64, assuming it takes 8 bit/number\n"
     ]
    },
    {
     "data": {
      "text/plain": "AutoSklearnClassifier(ensemble_size=1,\n                      initial_configurations_via_metalearning=0,\n                      per_run_time_limit=30, time_left_for_this_task=300)",
      "text/html": "<style>#sk-container-id-1 {color: black;background-color: white;}#sk-container-id-1 pre{padding: 0;}#sk-container-id-1 div.sk-toggleable {background-color: white;}#sk-container-id-1 label.sk-toggleable__label {cursor: pointer;display: block;width: 100%;margin-bottom: 0;padding: 0.3em;box-sizing: border-box;text-align: center;}#sk-container-id-1 label.sk-toggleable__label-arrow:before {content: \"▸\";float: left;margin-right: 0.25em;color: #696969;}#sk-container-id-1 label.sk-toggleable__label-arrow:hover:before {color: black;}#sk-container-id-1 div.sk-estimator:hover label.sk-toggleable__label-arrow:before {color: black;}#sk-container-id-1 div.sk-toggleable__content {max-height: 0;max-width: 0;overflow: hidden;text-align: left;background-color: #f0f8ff;}#sk-container-id-1 div.sk-toggleable__content pre {margin: 0.2em;color: black;border-radius: 0.25em;background-color: #f0f8ff;}#sk-container-id-1 input.sk-toggleable__control:checked~div.sk-toggleable__content {max-height: 200px;max-width: 100%;overflow: auto;}#sk-container-id-1 input.sk-toggleable__control:checked~label.sk-toggleable__label-arrow:before {content: \"▾\";}#sk-container-id-1 div.sk-estimator input.sk-toggleable__control:checked~label.sk-toggleable__label {background-color: #d4ebff;}#sk-container-id-1 div.sk-label input.sk-toggleable__control:checked~label.sk-toggleable__label {background-color: #d4ebff;}#sk-container-id-1 input.sk-hidden--visually {border: 0;clip: rect(1px 1px 1px 1px);clip: rect(1px, 1px, 1px, 1px);height: 1px;margin: -1px;overflow: hidden;padding: 0;position: absolute;width: 1px;}#sk-container-id-1 div.sk-estimator {font-family: monospace;background-color: #f0f8ff;border: 1px dotted black;border-radius: 0.25em;box-sizing: border-box;margin-bottom: 0.5em;}#sk-container-id-1 div.sk-estimator:hover {background-color: #d4ebff;}#sk-container-id-1 div.sk-parallel-item::after {content: \"\";width: 100%;border-bottom: 1px solid gray;flex-grow: 1;}#sk-container-id-1 div.sk-label:hover label.sk-toggleable__label {background-color: #d4ebff;}#sk-container-id-1 div.sk-serial::before {content: \"\";position: absolute;border-left: 1px solid gray;box-sizing: border-box;top: 0;bottom: 0;left: 50%;z-index: 0;}#sk-container-id-1 div.sk-serial {display: flex;flex-direction: column;align-items: center;background-color: white;padding-right: 0.2em;padding-left: 0.2em;position: relative;}#sk-container-id-1 div.sk-item {position: relative;z-index: 1;}#sk-container-id-1 div.sk-parallel {display: flex;align-items: stretch;justify-content: center;background-color: white;position: relative;}#sk-container-id-1 div.sk-item::before, #sk-container-id-1 div.sk-parallel-item::before {content: \"\";position: absolute;border-left: 1px solid gray;box-sizing: border-box;top: 0;bottom: 0;left: 50%;z-index: -1;}#sk-container-id-1 div.sk-parallel-item {display: flex;flex-direction: column;z-index: 1;position: relative;background-color: white;}#sk-container-id-1 div.sk-parallel-item:first-child::after {align-self: flex-end;width: 50%;}#sk-container-id-1 div.sk-parallel-item:last-child::after {align-self: flex-start;width: 50%;}#sk-container-id-1 div.sk-parallel-item:only-child::after {width: 0;}#sk-container-id-1 div.sk-dashed-wrapped {border: 1px dashed gray;margin: 0 0.4em 0.5em 0.4em;box-sizing: border-box;padding-bottom: 0.4em;background-color: white;}#sk-container-id-1 div.sk-label label {font-family: monospace;font-weight: bold;display: inline-block;line-height: 1.2em;}#sk-container-id-1 div.sk-label-container {text-align: center;}#sk-container-id-1 div.sk-container {/* jupyter's `normalize.less` sets `[hidden] { display: none; }` but bootstrap.min.css set `[hidden] { display: none !important; }` so we also need the `!important` here to be able to override the default hidden behavior on the sphinx rendered scikit-learn.org. See: https://github.com/scikit-learn/scikit-learn/issues/21755 */display: inline-block !important;position: relative;}#sk-container-id-1 div.sk-text-repr-fallback {display: none;}</style><div id=\"sk-container-id-1\" class=\"sk-top-container\"><div class=\"sk-text-repr-fallback\"><pre>AutoSklearnClassifier(ensemble_size=1,\n                      initial_configurations_via_metalearning=0,\n                      per_run_time_limit=30, time_left_for_this_task=300)</pre><b>In a Jupyter environment, please rerun this cell to show the HTML representation or trust the notebook. <br />On GitHub, the HTML representation is unable to render, please try loading this page with nbviewer.org.</b></div><div class=\"sk-container\" hidden><div class=\"sk-item\"><div class=\"sk-estimator sk-toggleable\"><input class=\"sk-toggleable__control sk-hidden--visually\" id=\"sk-estimator-id-1\" type=\"checkbox\" checked><label for=\"sk-estimator-id-1\" class=\"sk-toggleable__label sk-toggleable__label-arrow\">AutoSklearnClassifier</label><div class=\"sk-toggleable__content\"><pre>AutoSklearnClassifier(ensemble_size=1,\n                      initial_configurations_via_metalearning=0,\n                      per_run_time_limit=30, time_left_for_this_task=300)</pre></div></div></div></div></div>"
     },
     "execution_count": 15,
     "metadata": {},
     "output_type": "execute_result"
    }
   ],
   "source": [
    "# Auto-Sklearn Initialization\n",
    "\n",
    "# time_left_for_this_task : Time limit in seconds to find the optimal configuration\n",
    "# per_run_time_limit : Time limit in seconds for each model\n",
    "# ensemble_size: Number of models added to the Ensemble model\n",
    "# initial_configurations_via_metalearning: \"k\" configurations to start the Bayesian Optimization\n",
    "model = AutoSklearnClassifier(time_left_for_this_task=300,\n",
    "                              per_run_time_limit=30,\n",
    "                              ensemble_size=1,\n",
    "                              initial_configurations_via_metalearning=0)\n",
    "# Init training\n",
    "model.fit(x_train, y_train)"
   ],
   "metadata": {
    "collapsed": false,
    "pycharm": {
     "name": "#%%\n"
    }
   }
  },
  {
   "cell_type": "code",
   "execution_count": 16,
   "outputs": [
    {
     "name": "stdout",
     "output_type": "stream",
     "text": [
      "auto-sklearn results:\n",
      "  Dataset name: 2f881543-d296-11ec-8c79-fdce89fc766c\n",
      "  Metric: f1_macro\n",
      "  Best validation score: 0.412912\n",
      "  Number of target algorithm runs: 161\n",
      "  Number of successful target algorithm runs: 150\n",
      "  Number of crashed target algorithm runs: 11\n",
      "  Number of target algorithms that exceeded the time limit: 0\n",
      "  Number of target algorithms that exceeded the memory limit: 0\n",
      "\n"
     ]
    }
   ],
   "source": [
    "print(model.sprint_statistics())"
   ],
   "metadata": {
    "collapsed": false,
    "pycharm": {
     "name": "#%%\n"
    }
   }
  },
  {
   "cell_type": "code",
   "execution_count": 17,
   "outputs": [
    {
     "name": "stdout",
     "output_type": "stream",
     "text": [
      "          rank  ensemble_weight          type      cost  duration\n",
      "model_id                                                         \n",
      "160          1              1.0  bernoulli_nb  0.587088  0.433002\n"
     ]
    }
   ],
   "source": [
    "print(model.leaderboard())"
   ],
   "metadata": {
    "collapsed": false,
    "pycharm": {
     "name": "#%%\n"
    }
   }
  },
  {
   "cell_type": "code",
   "execution_count": 18,
   "outputs": [
    {
     "name": "stdout",
     "output_type": "stream",
     "text": [
      "{160: {'model_id': 160, 'rank': 1, 'cost': 0.587088389492443, 'ensemble_weight': 1.0, 'data_preprocessor': <autosklearn.pipeline.components.data_preprocessing.DataPreprocessorChoice object at 0x7f4b1785cd00>, 'balancing': Balancing(random_state=1, strategy='weighting'), 'feature_preprocessor': <autosklearn.pipeline.components.feature_preprocessing.FeaturePreprocessorChoice object at 0x7f4b1785c610>, 'classifier': <autosklearn.pipeline.components.classification.ClassifierChoice object at 0x7f4b17e67340>, 'sklearn_classifier': OneVsRestClassifier(estimator=BernoulliNB(alpha=0.021354685179664025), n_jobs=1)}}\n"
     ]
    }
   ],
   "source": [
    "print(model.show_models())"
   ],
   "metadata": {
    "collapsed": false,
    "pycharm": {
     "name": "#%%\n"
    }
   }
  },
  {
   "cell_type": "code",
   "execution_count": 19,
   "outputs": [],
   "source": [
    "import sklearn.metrics"
   ],
   "metadata": {
    "collapsed": false,
    "pycharm": {
     "name": "#%%\n"
    }
   }
  },
  {
   "cell_type": "code",
   "execution_count": 27,
   "outputs": [
    {
     "name": "stdout",
     "output_type": "stream",
     "text": [
      "mse: 0.2952815829528158\n",
      "acc: 0.0273972602739726\n"
     ]
    }
   ],
   "source": [
    "test_predictions = model.predict(x_test)\n",
    "print(\"mse:\", sklearn.metrics.mean_squared_error(y_test, test_predictions))\n",
    "print(\"acc:\", sklearn.metrics.accuracy_score(y_test, test_predictions))"
   ],
   "metadata": {
    "collapsed": false,
    "pycharm": {
     "name": "#%%\n"
    }
   }
  },
  {
   "cell_type": "code",
   "execution_count": 21,
   "outputs": [
    {
     "data": {
      "text/plain": "array([[1, 1, 0, 1, 0, 0, 0, 0, 1],\n       [0, 1, 0, 0, 0, 0, 0, 1, 0],\n       [0, 1, 0, 1, 0, 0, 0, 1, 0],\n       [0, 1, 0, 0, 0, 0, 0, 1, 1],\n       [0, 1, 1, 0, 1, 0, 0, 0, 0],\n       [1, 1, 0, 0, 0, 0, 0, 1, 0],\n       [0, 1, 0, 1, 0, 1, 0, 1, 0],\n       [0, 1, 0, 0, 0, 0, 0, 0, 1],\n       [0, 0, 1, 1, 0, 0, 0, 0, 0],\n       [0, 1, 0, 0, 1, 0, 0, 0, 1],\n       [0, 0, 1, 1, 0, 0, 0, 0, 0],\n       [0, 1, 0, 1, 0, 1, 0, 1, 0],\n       [1, 0, 1, 1, 0, 0, 0, 0, 0],\n       [0, 0, 0, 1, 1, 0, 0, 0, 0],\n       [1, 0, 0, 1, 0, 0, 0, 0, 1],\n       [0, 0, 1, 0, 0, 1, 0, 0, 0],\n       [0, 1, 0, 1, 0, 1, 0, 1, 0],\n       [1, 0, 1, 1, 0, 0, 1, 0, 0],\n       [1, 0, 1, 1, 0, 0, 0, 0, 0],\n       [0, 0, 0, 0, 0, 0, 0, 0, 0],\n       [0, 1, 0, 0, 0, 0, 0, 1, 1],\n       [0, 0, 1, 0, 0, 1, 0, 0, 0],\n       [0, 1, 0, 0, 0, 0, 0, 1, 1],\n       [0, 1, 1, 0, 1, 0, 0, 0, 1],\n       [1, 1, 0, 0, 0, 0, 0, 0, 1],\n       [1, 0, 1, 1, 0, 0, 1, 0, 0],\n       [1, 0, 1, 1, 0, 0, 0, 0, 0],\n       [1, 0, 1, 1, 0, 0, 1, 0, 0],\n       [0, 1, 0, 1, 0, 0, 0, 0, 1],\n       [0, 1, 0, 0, 0, 1, 0, 1, 0],\n       [1, 1, 0, 0, 0, 0, 0, 1, 1],\n       [0, 0, 1, 0, 0, 0, 0, 0, 0],\n       [1, 0, 1, 1, 0, 0, 0, 0, 1],\n       [0, 0, 1, 1, 0, 0, 1, 0, 0],\n       [1, 0, 1, 1, 0, 1, 1, 0, 0],\n       [0, 1, 1, 0, 1, 0, 0, 0, 0],\n       [0, 1, 0, 0, 0, 0, 0, 1, 0],\n       [1, 0, 1, 1, 0, 0, 0, 0, 1],\n       [0, 1, 0, 1, 0, 1, 0, 1, 0],\n       [1, 0, 1, 1, 0, 0, 0, 0, 0],\n       [1, 0, 1, 1, 0, 0, 0, 0, 1],\n       [0, 1, 0, 0, 0, 1, 0, 0, 0],\n       [1, 0, 0, 0, 0, 0, 0, 0, 1],\n       [0, 1, 0, 0, 0, 1, 0, 1, 0],\n       [1, 0, 1, 1, 0, 0, 0, 0, 0],\n       [1, 0, 1, 1, 0, 0, 0, 0, 1],\n       [1, 0, 1, 1, 0, 0, 1, 0, 0],\n       [1, 1, 0, 1, 0, 0, 0, 1, 1],\n       [1, 0, 1, 1, 0, 0, 0, 0, 0],\n       [0, 0, 0, 1, 1, 0, 0, 0, 0],\n       [0, 1, 0, 1, 0, 0, 0, 0, 1],\n       [0, 1, 0, 0, 0, 1, 0, 1, 0],\n       [0, 0, 1, 1, 0, 1, 1, 0, 0],\n       [0, 1, 0, 1, 0, 0, 0, 0, 1],\n       [0, 1, 0, 1, 0, 0, 0, 1, 0],\n       [0, 0, 0, 1, 0, 0, 0, 0, 1],\n       [0, 1, 0, 0, 0, 0, 0, 0, 0],\n       [0, 0, 0, 1, 1, 0, 0, 0, 0],\n       [0, 1, 0, 1, 0, 0, 0, 0, 1],\n       [0, 0, 1, 1, 0, 0, 0, 0, 0],\n       [1, 1, 0, 0, 0, 0, 0, 0, 1],\n       [0, 1, 0, 1, 0, 1, 0, 1, 0],\n       [0, 1, 0, 0, 0, 1, 0, 1, 0],\n       [1, 0, 1, 0, 0, 0, 0, 0, 0],\n       [1, 0, 0, 1, 0, 0, 0, 0, 1],\n       [1, 0, 0, 1, 0, 0, 0, 0, 1],\n       [0, 0, 0, 0, 0, 0, 0, 0, 1],\n       [1, 1, 0, 1, 0, 0, 0, 0, 1],\n       [1, 0, 1, 1, 0, 0, 0, 0, 1],\n       [0, 0, 0, 0, 0, 0, 0, 0, 1],\n       [0, 1, 0, 1, 0, 0, 0, 1, 1],\n       [0, 1, 1, 0, 1, 0, 0, 0, 0],\n       [0, 1, 1, 1, 1, 0, 0, 0, 0]])"
     },
     "execution_count": 21,
     "metadata": {},
     "output_type": "execute_result"
    }
   ],
   "source": [
    "test_predictions"
   ],
   "metadata": {
    "collapsed": false,
    "pycharm": {
     "name": "#%%\n"
    }
   }
  },
  {
   "cell_type": "code",
   "execution_count": 22,
   "outputs": [
    {
     "data": {
      "text/plain": "array([[0, 0, 1, 1, 0, 0, 0, 0, 0],\n       [0, 1, 0, 1, 0, 0, 0, 0, 1],\n       [0, 0, 0, 1, 0, 0, 0, 1, 0],\n       [0, 0, 0, 1, 0, 0, 0, 0, 1],\n       [0, 1, 0, 1, 1, 0, 0, 0, 0],\n       [0, 0, 1, 1, 0, 0, 0, 0, 0],\n       [0, 0, 0, 1, 0, 0, 0, 0, 1],\n       [0, 0, 1, 1, 0, 0, 0, 0, 0],\n       [0, 0, 1, 1, 0, 0, 0, 0, 0],\n       [0, 0, 1, 1, 0, 0, 0, 0, 0],\n       [0, 0, 1, 0, 1, 0, 0, 0, 0],\n       [0, 0, 0, 1, 0, 0, 0, 0, 1],\n       [1, 0, 1, 0, 0, 0, 0, 0, 0],\n       [0, 0, 0, 1, 0, 0, 0, 1, 0],\n       [1, 0, 1, 1, 0, 0, 0, 0, 0],\n       [0, 0, 1, 0, 1, 0, 0, 0, 0],\n       [0, 0, 1, 1, 0, 1, 1, 0, 0],\n       [0, 0, 0, 1, 0, 0, 0, 0, 1],\n       [1, 0, 1, 0, 0, 0, 0, 0, 0],\n       [0, 0, 1, 1, 0, 0, 0, 0, 0],\n       [0, 0, 0, 1, 0, 0, 0, 0, 1],\n       [0, 0, 1, 0, 1, 0, 0, 0, 0],\n       [0, 0, 0, 1, 0, 0, 0, 0, 1],\n       [0, 0, 1, 1, 0, 0, 0, 0, 0],\n       [0, 0, 0, 1, 0, 0, 0, 0, 0],\n       [1, 0, 1, 1, 0, 0, 0, 0, 0],\n       [0, 0, 1, 1, 0, 0, 0, 0, 0],\n       [1, 0, 1, 1, 0, 0, 0, 0, 0],\n       [0, 1, 0, 1, 1, 0, 0, 0, 0],\n       [0, 0, 1, 1, 0, 0, 0, 0, 0],\n       [1, 0, 1, 1, 0, 0, 0, 1, 0],\n       [0, 0, 1, 1, 0, 0, 0, 0, 0],\n       [0, 1, 1, 1, 0, 0, 0, 0, 0],\n       [0, 0, 1, 0, 1, 0, 0, 0, 0],\n       [0, 0, 1, 0, 0, 0, 0, 0, 0],\n       [0, 1, 0, 1, 1, 0, 0, 0, 0],\n       [0, 1, 0, 0, 1, 0, 0, 0, 0],\n       [0, 0, 1, 1, 0, 0, 0, 0, 0],\n       [0, 0, 1, 1, 0, 1, 0, 0, 0],\n       [0, 0, 0, 1, 0, 0, 0, 0, 0],\n       [1, 1, 1, 1, 0, 0, 1, 0, 0],\n       [0, 0, 0, 1, 0, 0, 0, 0, 1],\n       [0, 0, 1, 1, 0, 0, 0, 0, 0],\n       [0, 0, 1, 1, 0, 0, 0, 0, 0],\n       [0, 0, 1, 1, 0, 0, 0, 0, 0],\n       [0, 0, 0, 1, 0, 0, 0, 0, 1],\n       [0, 0, 1, 1, 0, 0, 0, 0, 0],\n       [0, 0, 0, 1, 0, 0, 0, 0, 0],\n       [0, 0, 1, 1, 0, 0, 0, 0, 0],\n       [0, 0, 1, 1, 0, 0, 0, 0, 0],\n       [0, 1, 1, 1, 0, 0, 0, 0, 1],\n       [0, 0, 0, 1, 0, 0, 0, 0, 0],\n       [1, 0, 1, 1, 0, 0, 1, 0, 0],\n       [0, 1, 1, 1, 0, 0, 0, 0, 1],\n       [0, 0, 0, 1, 0, 0, 0, 0, 0],\n       [0, 0, 1, 1, 0, 0, 0, 0, 0],\n       [0, 0, 0, 1, 0, 0, 0, 1, 0],\n       [0, 0, 0, 1, 0, 0, 0, 0, 1],\n       [0, 0, 0, 1, 0, 0, 0, 0, 1],\n       [1, 0, 0, 1, 0, 0, 0, 0, 0],\n       [0, 0, 1, 1, 0, 0, 0, 0, 0],\n       [1, 0, 1, 1, 0, 0, 0, 1, 0],\n       [0, 0, 0, 1, 0, 0, 0, 0, 1],\n       [1, 0, 1, 0, 0, 0, 0, 0, 0],\n       [0, 0, 0, 1, 0, 0, 0, 0, 0],\n       [1, 0, 1, 1, 0, 0, 0, 0, 0],\n       [1, 0, 1, 1, 0, 0, 0, 0, 0],\n       [1, 1, 1, 1, 0, 1, 1, 0, 0],\n       [0, 1, 1, 1, 0, 0, 0, 0, 0],\n       [0, 0, 0, 1, 0, 0, 0, 0, 1],\n       [0, 0, 1, 1, 0, 0, 0, 0, 0],\n       [0, 0, 1, 1, 0, 0, 0, 0, 0],\n       [0, 0, 1, 1, 0, 0, 0, 0, 0]])"
     },
     "execution_count": 22,
     "metadata": {},
     "output_type": "execute_result"
    }
   ],
   "source": [
    "y_test"
   ],
   "metadata": {
    "collapsed": false,
    "pycharm": {
     "name": "#%%\n"
    }
   }
  },
  {
   "cell_type": "code",
   "execution_count": 22,
   "outputs": [],
   "source": [],
   "metadata": {
    "collapsed": false,
    "pycharm": {
     "name": "#%%\n"
    }
   }
  },
  {
   "cell_type": "code",
   "execution_count": null,
   "outputs": [],
   "source": [],
   "metadata": {
    "collapsed": false,
    "pycharm": {
     "name": "#%%\n"
    }
   }
  },
  {
   "cell_type": "markdown",
   "source": [
    "## Multioutput regression"
   ],
   "metadata": {
    "collapsed": false,
    "pycharm": {
     "name": "#%% md\n"
    }
   }
  },
  {
   "cell_type": "code",
   "execution_count": 34,
   "outputs": [],
   "source": [
    "# Create y\n",
    "y = []\n",
    "x = []\n",
    "for _, row in df_data_valid.iterrows():\n",
    "    x.append(np.array([row['MNIX'], row['MNIY'], row['MNIZ']]))\n",
    "    y.append(\n",
    "        [round(1 * (1 - row['significance']), 4) if key in row['keywords'] else 0 for key in set_keywords])\n",
    "        # np.array([1 if key in row['keywords'] else 0 for key in set_keywords]))\n",
    "y = np.array(y)\n",
    "x = np.array(x)"
   ],
   "metadata": {
    "collapsed": false,
    "pycharm": {
     "name": "#%%\n"
    }
   }
  },
  {
   "cell_type": "code",
   "execution_count": 35,
   "outputs": [],
   "source": [
    "# Split into train and test sets\n",
    "x_train, x_test, y_train, y_test = train_test_split(x, y, test_size=0.15, random_state=23)"
   ],
   "metadata": {
    "collapsed": false,
    "pycharm": {
     "name": "#%%\n"
    }
   }
  },
  {
   "cell_type": "code",
   "execution_count": 36,
   "outputs": [],
   "source": [
    "from sklearn.multioutput import MultiOutputRegressor\n",
    "from sklearn.ensemble import GradientBoostingRegressor\n",
    "from sklearn.linear_model import Ridge\n",
    "y_predict = MultiOutputRegressor(Ridge(random_state=0)).fit(x_train, y_train).predict(x_test)"
   ],
   "metadata": {
    "collapsed": false,
    "pycharm": {
     "name": "#%%\n"
    }
   }
  },
  {
   "cell_type": "code",
   "execution_count": 37,
   "outputs": [
    {
     "data": {
      "text/plain": "array([[ 2.17513601e-01,  3.74473954e-01,  4.61725805e-01,\n         7.37511149e-01,  1.66453072e-01,  6.52173372e-02,\n         2.80306265e-02,  7.61497693e-02,  2.28019043e-01],\n       [ 1.39455529e-01,  4.13547154e-01,  3.80080192e-01,\n         7.20114340e-01,  1.74409876e-01,  5.73148648e-02,\n         2.91465486e-03,  6.90681073e-02,  2.47060649e-01],\n       [ 1.08773242e-01,  5.46052179e-01,  2.85072991e-01,\n         7.24494847e-01,  2.74803732e-01,  6.49144344e-04,\n        -3.84716315e-02,  1.06118048e-01,  2.65330308e-01],\n       [ 1.77762453e-01,  4.20589173e-01,  4.08570186e-01,\n         7.31916873e-01,  1.93518989e-01,  4.80501110e-02,\n         8.74075282e-03,  8.11714349e-02,  2.38367373e-01],\n       [ 2.64422488e-01,  2.97416636e-01,  6.94607844e-01,\n         7.89567583e-01,  1.94372587e-01,  2.28227852e-02,\n         9.18090880e-02,  4.44293367e-02,  1.02468601e-01],\n       [ 1.92441415e-01,  3.94143086e-01,  4.59223208e-01,\n         7.40907615e-01,  1.88632360e-01,  4.66969356e-02,\n         2.41371817e-02,  7.31407921e-02,  2.15394464e-01],\n       [ 1.48174910e-01,  4.79783498e-01,  3.33896667e-01,\n         7.23578187e-01,  2.23485155e-01,  3.39523760e-02,\n        -1.71156994e-02,  9.58571694e-02,  2.63676377e-01],\n       [ 7.96707527e-02,  4.12340660e-01,  3.54930204e-01,\n         7.10036610e-01,  1.64940985e-01,  5.59491063e-02,\n        -3.37918768e-03,  5.06915058e-02,  2.44228903e-01],\n       [ 1.85560462e-01,  2.48555999e-01,  6.72175743e-01,\n         7.67333585e-01,  1.35344986e-01,  4.93986700e-02,\n         9.29860411e-02,  5.79298573e-03,  1.04692555e-01],\n       [ 5.02506088e-02,  4.85494506e-01,  3.04342696e-01,\n         7.12560564e-01,  2.22208466e-01,  2.09146614e-02,\n        -2.60069315e-02,  6.65650071e-02,  2.48642085e-01],\n       [ 2.82669747e-01,  1.90644307e-01,  7.70670932e-01,\n         7.85652173e-01,  1.13703713e-01,  6.72129701e-02,\n         1.24949782e-01,  1.23646944e-02,  8.58318519e-02],\n       [ 1.48174910e-01,  4.79783498e-01,  3.33896667e-01,\n         7.23578187e-01,  2.23485155e-01,  3.39523760e-02,\n        -1.71156994e-02,  9.58571694e-02,  2.63676377e-01],\n       [ 3.12842376e-01,  1.86191609e-01,  8.19107968e-01,\n         8.00208053e-01,  1.30721144e-01,  5.49566883e-02,\n         1.36788178e-01,  1.61352990e-02,  6.35396833e-02],\n       [ 1.69032009e-01,  3.90085984e-01,  4.64481418e-01,\n         7.40591177e-01,  1.88510152e-01,  4.17108280e-02,\n         2.55506913e-02,  6.32166082e-02,  2.04674302e-01],\n       [ 2.17688442e-01,  3.24732746e-01,  5.10196483e-01,\n         7.39311827e-01,  1.35971471e-01,  7.79467565e-02,\n         4.62236416e-02,  5.68053868e-02,  2.08180659e-01],\n       [ 1.84957312e-01,  3.14176392e-01,  5.08928901e-01,\n         7.35013024e-01,  1.26148841e-01,  7.84026361e-02,\n         4.70286496e-02,  4.25564393e-02,  2.00658538e-01],\n       [ 1.09757313e-01,  3.87985459e-01,  3.61147763e-01,\n         7.06735923e-01,  1.39100384e-01,  7.72189191e-02,\n         2.11655562e-03,  5.37245658e-02,  2.57330128e-01],\n       [ 3.26790958e-01,  1.25808225e-01,  9.02528582e-01,\n         8.10305001e-01,  1.04949034e-01,  6.22317803e-02,\n         1.64517328e-01, -5.35622436e-03,  2.69479084e-02],\n       [ 3.13400801e-01,  1.66918184e-01,  8.44583369e-01,\n         8.02941476e-01,  1.22207015e-01,  5.69094514e-02,\n         1.45324782e-01,  8.04480884e-03,  5.13104292e-02],\n       [ 1.70429008e-01,  3.53186048e-01,  4.79953289e-01,\n         7.35798657e-01,  1.55606652e-01,  6.09127726e-02,\n         3.45380584e-02,  5.16560724e-02,  2.04825206e-01],\n       [ 1.77762453e-01,  4.20589173e-01,  4.08570186e-01,\n         7.31916873e-01,  1.93518989e-01,  4.80501110e-02,\n         8.74075282e-03,  8.11714349e-02,  2.38367373e-01],\n       [ 1.84445799e-01,  3.13431307e-01,  5.08719465e-01,\n         7.34739223e-01,  1.25264166e-01,  7.89065630e-02,\n         4.70865020e-02,  4.21939087e-02,  2.00840488e-01],\n       [ 1.77762453e-01,  4.20589173e-01,  4.08570186e-01,\n         7.31916873e-01,  1.93518989e-01,  4.80501110e-02,\n         8.74075282e-03,  8.11714349e-02,  2.38367373e-01],\n       [ 2.71268915e-01,  3.05531106e-01,  6.33736361e-01,\n         7.73560941e-01,  1.72474739e-01,  4.68098542e-02,\n         7.72387650e-02,  5.60573591e-02,  1.45401920e-01],\n       [ 2.20615844e-01,  3.77975161e-01,  4.83871833e-01,\n         7.45201838e-01,  1.81094111e-01,  5.32330882e-02,\n         3.24473012e-02,  7.56739431e-02,  2.12506831e-01],\n       [ 2.34914291e-01,  2.04703643e-01,  8.06915747e-01,\n         7.98452905e-01,  1.50675253e-01,  2.94958597e-02,\n         1.30117112e-01, -4.58262682e-03,  3.96033811e-02],\n       [ 3.22177532e-01,  1.69880446e-01,  8.46082524e-01,\n         8.04477513e-01,  1.25562499e-01,  5.61587331e-02,\n         1.45345394e-01,  1.17694884e-02,  5.24735024e-02],\n       [ 3.22732024e-01,  1.18878238e-01,  9.21742508e-01,\n         8.14162486e-01,  1.07204622e-01,  5.73025080e-02,\n         1.69743936e-01, -1.09074791e-02,  1.39829979e-02],\n       [ 9.77826397e-02,  3.98991759e-01,  3.83403914e-01,\n         7.15842107e-01,  1.63137823e-01,  5.64004328e-02,\n         5.19864071e-03,  5.00503746e-02,  2.34325796e-01],\n       [ 1.26062064e-01,  4.30450747e-01,  3.40175142e-01,\n         7.11951645e-01,  1.74078659e-01,  6.07302389e-02,\n        -8.65204777e-03,  7.36597896e-02,  2.65644613e-01],\n       [ 1.99040860e-01,  3.99641339e-01,  4.54720069e-01,\n         7.41208227e-01,  1.91942742e-01,  4.64268987e-02,\n         2.24164881e-02,  7.74973600e-02,  2.19297860e-01],\n       [ 2.13743380e-01,  3.03368058e-01,  5.64310780e-01,\n         7.49973990e-01,  1.39748781e-01,  6.70994903e-02,\n         6.13361893e-02,  4.32762179e-02,  1.74810115e-01],\n       [ 2.72926017e-01,  2.44675765e-01,  6.29360861e-01,\n         7.56623622e-01,  1.03376668e-01,  9.21395910e-02,\n         8.54432645e-02,  4.01891404e-02,  1.66473261e-01],\n       [ 2.95501479e-01,  1.68807773e-01,  8.03140744e-01,\n         7.90282275e-01,  1.04959861e-01,  7.05825359e-02,\n         1.35605725e-01,  7.05415137e-03,  7.36985853e-02],\n       [ 3.17686045e-01,  1.43339653e-01,  8.16777080e-01,\n         7.88642023e-01,  8.21693187e-02,  8.73805123e-02,\n         1.42787612e-01,  6.16226409e-03,  7.91335950e-02],\n       [ 2.62774079e-01,  3.09616082e-01,  6.59079167e-01,\n         7.81941504e-01,  1.90196840e-01,  3.02525599e-02,\n         8.20967057e-02,  5.13196589e-02,  1.23420084e-01],\n       [ 2.00844173e-01,  4.35495454e-01,  4.45669363e-01,\n         7.47783773e-01,  2.26660694e-01,  2.57364190e-02,\n         1.50547222e-02,  8.91510686e-02,  2.16042733e-01],\n       [ 2.56630562e-01,  2.67307159e-01,  6.28357418e-01,\n         7.61556124e-01,  1.28911440e-01,  7.28684711e-02,\n         8.15704320e-02,  4.09048427e-02,  1.55011756e-01],\n       [ 9.02962759e-02,  4.29499412e-01,  2.94251515e-01,\n         6.96556490e-01,  1.52790065e-01,  7.43423748e-02,\n        -1.92083259e-02,  6.61389016e-02,  2.85759067e-01],\n       [ 2.78895703e-01,  2.11206716e-01,  8.14758868e-01,\n         8.04100786e-01,  1.58498810e-01,  3.14646366e-02,\n         1.31547147e-01,  1.17212065e-02,  4.75853895e-02],\n       [ 2.39491481e-01,  2.77958374e-01,  5.93076776e-01,\n         7.53039436e-01,  1.24293558e-01,  7.76903037e-02,\n         7.19082863e-02,  4.19147050e-02,  1.70819710e-01],\n       [ 1.58324974e-01,  3.92275931e-01,  4.00611626e-01,\n         7.21512461e-01,  1.59901337e-01,  6.71993336e-02,\n         1.09391436e-02,  6.73952715e-02,  2.45281475e-01],\n       [ 2.00717071e-01,  3.53104691e-01,  4.82929641e-01,\n         7.37782419e-01,  1.54782178e-01,  6.66052248e-02,\n         3.56721570e-02,  6.18915792e-02,  2.13334137e-01],\n       [ 5.60736979e-02,  4.88357597e-01,  2.59124552e-01,\n         6.99881681e-01,  2.02413994e-01,  4.11362387e-02,\n        -3.63435023e-02,  7.45794050e-02,  2.81697958e-01],\n       [ 2.46084806e-01,  2.25399385e-01,  7.51263696e-01,\n         7.87419113e-01,  1.44869270e-01,  4.31978594e-02,\n         1.14875863e-01,  1.14648530e-02,  7.67724305e-02],\n       [ 2.20057622e-01,  2.77612707e-01,  5.51005843e-01,\n         7.39558834e-01,  1.04392379e-01,  9.28751690e-02,\n         6.23627862e-02,  3.98364557e-02,  1.93753717e-01],\n       [ 2.26653005e-01,  2.34215250e-01,  7.55441445e-01,\n         7.90239118e-01,  1.58048192e-01,  3.05516393e-02,\n         1.14176709e-01,  6.64170160e-03,  6.45196082e-02],\n       [ 1.90187044e-01,  4.38112049e-01,  4.05097585e-01,\n         7.35839209e-01,  2.10114998e-01,  4.01705660e-02,\n         5.52983441e-03,  9.07974988e-02,  2.40139813e-01],\n       [ 3.09738571e-01,  1.63884359e-01,  8.77322994e-01,\n         8.11894161e-01,  1.35443733e-01,  4.30742093e-02,\n         1.52961740e-01,  2.16830901e-03,  2.78451623e-02],\n       [ 2.08419308e-01,  3.35344092e-01,  5.41072964e-01,\n         7.51013501e-01,  1.63668819e-01,  5.40499909e-02,\n         5.13120511e-02,  5.29806145e-02,  1.80164471e-01],\n       [ 2.01642028e-01,  3.59141889e-01,  4.99073376e-01,\n         7.44237683e-01,  1.69378114e-01,  5.51016571e-02,\n         3.83475257e-02,  6.20476414e-02,  2.00562249e-01],\n       [ 6.95819714e-02,  4.68302928e-01,  2.85713341e-01,\n         7.03222975e-01,  1.92648756e-01,  4.61229074e-02,\n        -2.72450024e-02,  7.06754984e-02,  2.73432401e-01],\n       [ 2.86108552e-01,  1.21234721e-01,  8.53237341e-01,\n         7.92781763e-01,  7.83678917e-02,  7.88168732e-02,\n         1.53685725e-01, -1.52207594e-02,  4.87523588e-02],\n       [ 6.61477971e-02,  4.40160909e-01,  3.72181495e-01,\n         7.21909658e-01,  2.05056192e-01,  2.52250231e-02,\n        -3.95421242e-03,  5.17317337e-02,  2.19397214e-01],\n       [ 1.11559798e-01,  5.35953037e-01,  2.91632067e-01,\n         7.23971768e-01,  2.66779648e-01,  5.38690430e-03,\n        -3.54612041e-02,  1.03529125e-01,  2.64574677e-01],\n       [ 2.56799211e-01,  2.96311514e-01,  5.88154587e-01,\n         7.56917326e-01,  1.40721853e-01,  7.10251436e-02,\n         6.83269508e-02,  5.36468625e-02,  1.75081319e-01],\n       [ 4.90936647e-02,  4.72836719e-01,  2.84655015e-01,\n         7.03322851e-01,  1.98598065e-01,  3.86718831e-02,\n        -2.84741935e-02,  6.48897324e-02,  2.65722643e-01],\n       [ 2.01130203e-01,  3.54635595e-01,  5.14936151e-01,\n         7.47839242e-01,  1.72366165e-01,  5.08322384e-02,\n         4.25234255e-02,  5.87965476e-02,  1.90502852e-01],\n       [ 6.94793453e-02,  4.33598757e-01,  3.83767209e-01,\n         7.23832907e-01,  2.03377046e-01,  2.52715142e-02,\n        -3.55895759e-04,  4.97428956e-02,  2.14280469e-01],\n       [ 2.24685288e-01,  2.04846771e-01,  7.38438189e-01,\n         7.77475461e-01,  1.17490849e-01,  5.86677804e-02,\n         1.14801970e-01, -2.78986196e-04,  8.42077684e-02],\n       [ 2.01120702e-01,  4.09174793e-01,  4.44302804e-01,\n         7.40600597e-01,  1.97068979e-01,  4.49971947e-02,\n         1.87127728e-02,  8.20735991e-02,  2.24632242e-01],\n       [ 1.50994946e-01,  4.72476260e-01,  3.45272945e-01,\n         7.25227636e-01,  2.20921335e-01,  3.45027940e-02,\n        -1.34595304e-02,  9.35058007e-02,  2.58741582e-01],\n       [ 1.47108483e-01,  4.02882324e-01,  3.82781079e-01,\n         7.18460552e-01,  1.63487947e-01,  6.53606807e-02,\n         5.23179433e-03,  6.84665022e-02,  2.50883770e-01],\n       [ 1.75110956e-01,  3.33503678e-01,  4.65672698e-01,\n         7.26594404e-01,  1.26550086e-01,  8.24778638e-02,\n         3.44112386e-02,  4.94482826e-02,  2.22148016e-01],\n       [ 2.24371898e-01,  3.40971967e-01,  5.01664139e-01,\n         7.41168399e-01,  1.49059784e-01,  7.19817103e-02,\n         4.19992549e-02,  6.46444014e-02,  2.11877490e-01],\n       [ 2.37243725e-01,  3.70340069e-01,  5.02870829e-01,\n         7.49569367e-01,  1.80954593e-01,  5.36885281e-02,\n         3.80492519e-02,  7.71901134e-02,  2.07122174e-01],\n       [ 1.99461433e-01,  3.37471514e-01,  5.11111245e-01,\n         7.42203089e-01,  1.51743814e-01,  6.43200415e-02,\n         4.42320634e-02,  5.38701790e-02,  1.97524014e-01],\n       [ 2.00296185e-01,  4.11513307e-01,  4.42610676e-01,\n         7.40662917e-01,  1.98853832e-01,  4.39387364e-02,\n         1.79746291e-02,  8.26301969e-02,  2.24866637e-01],\n       [ 2.60851217e-01,  2.51067560e-01,  6.21093195e-01,\n         7.55336863e-01,  1.07160593e-01,  8.86564763e-02,\n         8.24700771e-02,  3.86908524e-02,  1.66247769e-01],\n       [ 2.25139268e-01,  2.82271656e-01,  5.48282999e-01,\n         7.40124309e-01,  1.07778866e-01,  9.20232418e-02,\n         6.11385206e-02,  4.32242085e-02,  1.96113381e-01],\n       [ 1.66452138e-01,  4.71232586e-01,  3.40207708e-01,\n         7.23945718e-01,  2.15903207e-01,  4.12980780e-02,\n        -1.41555086e-02,  9.91487072e-02,  2.68064275e-01],\n       [ 1.60576330e-01,  4.34091971e-01,  5.06777734e-01,\n         7.64368684e-01,  2.58489090e-01, -1.08292510e-02,\n         2.81568287e-02,  6.76694733e-02,  1.59346377e-01],\n       [ 1.64136246e-01,  4.06182833e-01,  5.56019767e-01,\n         7.72150572e-01,  2.52107936e-01, -1.30720566e-02,\n         4.32909295e-02,  5.55019336e-02,  1.33901059e-01]])"
     },
     "execution_count": 37,
     "metadata": {},
     "output_type": "execute_result"
    }
   ],
   "source": [
    "y_predict"
   ],
   "metadata": {
    "collapsed": false,
    "pycharm": {
     "name": "#%%\n"
    }
   }
  },
  {
   "cell_type": "code",
   "execution_count": 38,
   "outputs": [
    {
     "data": {
      "text/plain": "array([[0.    , 0.    , 0.9998, 0.9998, 0.    , 0.    , 0.    , 0.    ,\n        0.    ],\n       [0.    , 1.    , 0.    , 1.    , 0.    , 0.    , 0.    , 0.    ,\n        1.    ],\n       [0.    , 0.    , 0.    , 0.995 , 0.    , 0.    , 0.    , 0.995 ,\n        0.    ],\n       [0.    , 0.    , 0.    , 1.    , 0.    , 0.    , 0.    , 0.    ,\n        1.    ],\n       [0.    , 0.9995, 0.    , 0.9995, 0.9995, 0.    , 0.    , 0.    ,\n        0.    ],\n       [0.    , 0.    , 0.95  , 0.95  , 0.    , 0.    , 0.    , 0.    ,\n        0.    ],\n       [0.    , 0.    , 0.    , 0.9995, 0.    , 0.    , 0.    , 0.    ,\n        0.9995],\n       [0.    , 0.    , 1.    , 1.    , 0.    , 0.    , 0.    , 0.    ,\n        0.    ],\n       [0.    , 0.    , 1.    , 1.    , 0.    , 0.    , 0.    , 0.    ,\n        0.    ],\n       [0.    , 0.    , 0.9999, 0.9999, 0.    , 0.    , 0.    , 0.    ,\n        0.    ],\n       [0.    , 0.    , 1.    , 0.    , 1.    , 0.    , 0.    , 0.    ,\n        0.    ],\n       [0.    , 0.    , 0.    , 0.9991, 0.    , 0.    , 0.    , 0.    ,\n        0.9991],\n       [0.9999, 0.    , 0.9999, 0.    , 0.    , 0.    , 0.    , 0.    ,\n        0.    ],\n       [0.    , 0.    , 0.    , 0.95  , 0.    , 0.    , 0.    , 0.95  ,\n        0.    ],\n       [0.9998, 0.    , 0.9998, 0.9998, 0.    , 0.    , 0.    , 0.    ,\n        0.    ],\n       [0.    , 0.    , 1.    , 0.    , 1.    , 0.    , 0.    , 0.    ,\n        0.    ],\n       [0.    , 0.    , 0.9998, 0.9998, 0.    , 0.9998, 0.9998, 0.    ,\n        0.    ],\n       [0.    , 0.    , 0.    , 0.95  , 0.    , 0.    , 0.    , 0.    ,\n        0.95  ],\n       [0.9999, 0.    , 0.9999, 0.    , 0.    , 0.    , 0.    , 0.    ,\n        0.    ],\n       [0.    , 0.    , 0.9997, 0.9997, 0.    , 0.    , 0.    , 0.    ,\n        0.    ],\n       [0.    , 0.    , 0.    , 1.    , 0.    , 0.    , 0.    , 0.    ,\n        1.    ],\n       [0.    , 0.    , 1.    , 0.    , 1.    , 0.    , 0.    , 0.    ,\n        0.    ],\n       [0.    , 0.    , 0.    , 1.    , 0.    , 0.    , 0.    , 0.    ,\n        1.    ],\n       [0.    , 0.    , 0.9996, 0.9996, 0.    , 0.    , 0.    , 0.    ,\n        0.    ],\n       [0.    , 0.    , 0.    , 0.95  , 0.    , 0.    , 0.    , 0.    ,\n        0.    ],\n       [0.95  , 0.    , 0.95  , 0.95  , 0.    , 0.    , 0.    , 0.    ,\n        0.    ],\n       [0.    , 0.    , 0.95  , 0.95  , 0.    , 0.    , 0.    , 0.    ,\n        0.    ],\n       [1.    , 0.    , 1.    , 1.    , 0.    , 0.    , 0.    , 0.    ,\n        0.    ],\n       [0.    , 0.9996, 0.    , 0.9996, 0.9996, 0.    , 0.    , 0.    ,\n        0.    ],\n       [0.    , 0.    , 0.95  , 0.95  , 0.    , 0.    , 0.    , 0.    ,\n        0.    ],\n       [0.9994, 0.    , 0.9994, 0.9994, 0.    , 0.    , 0.    , 0.9994,\n        0.    ],\n       [0.    , 0.    , 0.9999, 0.9999, 0.    , 0.    , 0.    , 0.    ,\n        0.    ],\n       [0.    , 0.9989, 0.9989, 0.9989, 0.    , 0.    , 0.    , 0.    ,\n        0.    ],\n       [0.    , 0.    , 1.    , 0.    , 1.    , 0.    , 0.    , 0.    ,\n        0.    ],\n       [0.    , 0.    , 1.    , 0.    , 0.    , 0.    , 0.    , 0.    ,\n        0.    ],\n       [0.    , 0.9995, 0.    , 0.9995, 0.9995, 0.    , 0.    , 0.    ,\n        0.    ],\n       [0.    , 0.9996, 0.    , 0.    , 0.9996, 0.    , 0.    , 0.    ,\n        0.    ],\n       [0.    , 0.    , 0.95  , 0.95  , 0.    , 0.    , 0.    , 0.    ,\n        0.    ],\n       [0.    , 0.    , 0.9998, 0.9998, 0.    , 0.9998, 0.    , 0.    ,\n        0.    ],\n       [0.    , 0.    , 0.    , 0.95  , 0.    , 0.    , 0.    , 0.    ,\n        0.    ],\n       [0.99  , 0.99  , 0.99  , 0.99  , 0.    , 0.    , 0.99  , 0.    ,\n        0.    ],\n       [0.    , 0.    , 0.    , 1.    , 0.    , 0.    , 0.    , 0.    ,\n        1.    ],\n       [0.    , 0.    , 0.9995, 0.9995, 0.    , 0.    , 0.    , 0.    ,\n        0.    ],\n       [0.    , 0.    , 0.9999, 0.9999, 0.    , 0.    , 0.    , 0.    ,\n        0.    ],\n       [0.    , 0.    , 1.    , 1.    , 0.    , 0.    , 0.    , 0.    ,\n        0.    ],\n       [0.    , 0.    , 0.    , 0.9999, 0.    , 0.    , 0.    , 0.    ,\n        0.9999],\n       [0.    , 0.    , 0.9999, 0.9999, 0.    , 0.    , 0.    , 0.    ,\n        0.    ],\n       [0.    , 0.    , 0.    , 0.95  , 0.    , 0.    , 0.    , 0.    ,\n        0.    ],\n       [0.    , 0.    , 1.    , 1.    , 0.    , 0.    , 0.    , 0.    ,\n        0.    ],\n       [0.    , 0.    , 0.9999, 0.9999, 0.    , 0.    , 0.    , 0.    ,\n        0.    ],\n       [0.    , 0.9993, 0.9993, 0.9993, 0.    , 0.    , 0.    , 0.    ,\n        0.9993],\n       [0.    , 0.    , 0.    , 0.95  , 0.    , 0.    , 0.    , 0.    ,\n        0.    ],\n       [1.    , 0.    , 1.    , 1.    , 0.    , 0.    , 1.    , 0.    ,\n        0.    ],\n       [0.    , 0.9998, 0.9998, 0.9998, 0.    , 0.    , 0.    , 0.    ,\n        0.9998],\n       [0.    , 0.    , 0.    , 0.95  , 0.    , 0.    , 0.    , 0.    ,\n        0.    ],\n       [0.    , 0.    , 0.999 , 0.999 , 0.    , 0.    , 0.    , 0.    ,\n        0.    ],\n       [0.    , 0.    , 0.    , 0.9995, 0.    , 0.    , 0.    , 0.9995,\n        0.    ],\n       [0.    , 0.    , 0.    , 1.    , 0.    , 0.    , 0.    , 0.    ,\n        1.    ],\n       [0.    , 0.    , 0.    , 0.9995, 0.    , 0.    , 0.    , 0.    ,\n        0.9995],\n       [0.973 , 0.    , 0.    , 0.973 , 0.    , 0.    , 0.    , 0.    ,\n        0.    ],\n       [0.    , 0.    , 0.9999, 0.9999, 0.    , 0.    , 0.    , 0.    ,\n        0.    ],\n       [0.9998, 0.    , 0.9998, 0.9998, 0.    , 0.    , 0.    , 0.9998,\n        0.    ],\n       [0.    , 0.    , 0.    , 1.    , 0.    , 0.    , 0.    , 0.    ,\n        1.    ],\n       [0.9998, 0.    , 0.9998, 0.    , 0.    , 0.    , 0.    , 0.    ,\n        0.    ],\n       [0.    , 0.    , 0.    , 0.95  , 0.    , 0.    , 0.    , 0.    ,\n        0.    ],\n       [1.    , 0.    , 1.    , 1.    , 0.    , 0.    , 0.    , 0.    ,\n        0.    ],\n       [0.95  , 0.    , 0.95  , 0.95  , 0.    , 0.    , 0.    , 0.    ,\n        0.    ],\n       [0.95  , 0.95  , 0.95  , 0.95  , 0.    , 0.95  , 0.95  , 0.    ,\n        0.    ],\n       [0.    , 0.9997, 0.9997, 0.9997, 0.    , 0.    , 0.    , 0.    ,\n        0.    ],\n       [0.    , 0.    , 0.    , 1.    , 0.    , 0.    , 0.    , 0.    ,\n        1.    ],\n       [0.    , 0.    , 0.99  , 0.99  , 0.    , 0.    , 0.    , 0.    ,\n        0.    ],\n       [0.    , 0.    , 0.95  , 0.95  , 0.    , 0.    , 0.    , 0.    ,\n        0.    ],\n       [0.    , 0.    , 0.999 , 0.999 , 0.    , 0.    , 0.    , 0.    ,\n        0.    ]])"
     },
     "execution_count": 38,
     "metadata": {},
     "output_type": "execute_result"
    }
   ],
   "source": [
    "y_test"
   ],
   "metadata": {
    "collapsed": false,
    "pycharm": {
     "name": "#%%\n"
    }
   }
  },
  {
   "cell_type": "code",
   "execution_count": 33,
   "outputs": [
    {
     "name": "stdout",
     "output_type": "stream",
     "text": [
      "mse: 0.06577708043429517\n"
     ]
    }
   ],
   "source": [
    "print(\"mse:\", sklearn.metrics.mean_squared_error(y_test, y_predict))"
   ],
   "metadata": {
    "collapsed": false,
    "pycharm": {
     "name": "#%%\n"
    }
   }
  },
  {
   "cell_type": "code",
   "execution_count": null,
   "outputs": [],
   "source": [],
   "metadata": {
    "collapsed": false,
    "pycharm": {
     "name": "#%%\n"
    }
   }
  }
 ],
 "metadata": {
  "kernelspec": {
   "display_name": "Python 3",
   "language": "python",
   "name": "python3"
  },
  "language_info": {
   "codemirror_mode": {
    "name": "ipython",
    "version": 2
   },
   "file_extension": ".py",
   "mimetype": "text/x-python",
   "name": "python",
   "nbconvert_exporter": "python",
   "pygments_lexer": "ipython2",
   "version": "2.7.6"
  }
 },
 "nbformat": 4,
 "nbformat_minor": 0
}